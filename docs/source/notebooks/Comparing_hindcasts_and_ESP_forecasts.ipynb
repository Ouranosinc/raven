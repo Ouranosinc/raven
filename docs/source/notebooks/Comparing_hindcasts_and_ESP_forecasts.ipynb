{
 "cells": [
  {
   "cell_type": "markdown",
   "metadata": {},
   "source": [
    "# Perform ensemble hydrological forecasting using hindcasting tools and compare to an ESP forecast over the same period.\n",
    "\n",
    "This notebook shows how to perform a streamflow hindcast, using CaSPar archived weather forecasts. It then performs a climatological forecast using the same initial conditions and climatological weather to perform an ESP forecast. It is thus possible to compare both approaches.\n",
    "\n",
    "CaSPAr (Canadian Surface Prediction Archive) is an archive of historical ECCC forecasts developed by Juliane Mai at the University of Waterloo, Canada. More details on CaSPAr can be found here https://caspar-data.ca/.\n",
    "\n",
    "\n",
    "Mai, J., Kornelsen, K.C., Tolson, B.A., Fortin, V., Gasset, N., Bouhemhem, D., Schäfer, D., Leahy, M., Anctil, F. and Coulibaly, P., 2020. The Canadian Surface Prediction Archive (CaSPAr): A Platform to Enhance Environmental Modeling in Canada and Globally. Bulletin of the American Meteorological Society, 101(3), pp.E341-E356.\n"
   ]
  },
  {
   "cell_type": "code",
   "execution_count": null,
   "metadata": {},
   "outputs": [],
   "source": [
    "%matplotlib inline\n",
    "# This entire section is cookie-cutter template to allow calling the servers and instantiating the connection\n",
    "# to the WPS server. Do not modify this block.\n",
    "from urllib.request import urlretrieve\n",
    "from birdy import WPSClient\n",
    "from ravenpy.utilities.testdata import get_file\n",
    "from ravenpy.utilities.forecasting import perform_climatology_esp\n",
    "from pathlib import Path\n",
    "import json\n",
    "import os\n",
    "import datetime as dt\n",
    "import tempfile\n",
    "import xarray as xr\n",
    "\n",
    "# Set environment variable WPS_URL to \"http://localhost:9099\" to run on the default local server\n",
    "url = os.environ.get(\"WPS_URL\", \"https://pavics.ouranos.ca/twitcher/ows/proxy/raven/wps\")\n",
    "wps = WPSClient('http://localhost:9099') #% TODO: CHANGE BACK BEFORE MERGE?\n",
    "tmp = Path(tempfile.mkdtemp())"
   ]
  },
  {
   "cell_type": "markdown",
   "metadata": {},
   "source": [
    "## Let's start by doing a hindcast. \n",
    "Here we tell the model that we want to forecast over the LSJ catchment and provide it's properties (area, lat/long, elevation). We will run it using the GR4JCN hydrological model and have provided some parameters. Other information on the forecast conditions is provided (start date, forecast model, duration, etc.)"
   ]
  },
  {
   "cell_type": "code",
   "execution_count": null,
   "metadata": {},
   "outputs": [],
   "source": [
    "# Define some of the catchment properties. Could also be replaced by a call to the properties WPS.\n",
    "region_vector = str(get_file(\"watershed_vector/LSJ_LL.zip\"))\n",
    "\n",
    "basin_area = 44523.5\n",
    "basin_longitude = -72.55\n",
    "basin_latitude = 48.39\n",
    "basin_elevation= 300.0\n",
    "\n",
    "# Choose a hydrological model to use. We have 'HMETS', 'GR4JCN','MOHYSE' and 'HBVEC'.\n",
    "hydromodel = 'GR4JCN'\n",
    "\n",
    "# Since we've used GR4JCN, we need to provide that model's parameters.\n",
    "gr4j_parameters = '0.529, -3.396, 407.29, 1.072, 16.9, 0.947'\n",
    "\n",
    "nc_transforms = json.dumps({'tas': {'time_shift': -0.25},\n",
    "                            'pr': {'time_shift': -0.25, 'deaccumulate':True}})\n",
    "\n",
    "# Initial conditions for hot-start:\n",
    "rvc=str(get_file(\"gr4j_cemaneige/solution.rvc\"))\n",
    "\n",
    "# Date of the hindcast\n",
    "hdate = dt.datetime(2018,6,1)\n",
    "\n",
    "# Duration of the hindcast, in days\n",
    "duration = 7\n",
    "\n",
    "# Launch the hydrological realtime forecasting WPS\n",
    "resp_hind = wps.hindcasting(region_vector=region_vector,\n",
    "                       latitude=basin_latitude,\n",
    "                       longitude=basin_longitude,\n",
    "                       area=basin_area, \n",
    "                       elevation=basin_elevation, \n",
    "                       forecast_model=\"GEPS\", \n",
    "                       hdate=hdate, \n",
    "                       gr4jcn=gr4j_parameters,\n",
    "                       duration=duration, \n",
    "                       rvc=rvc, \n",
    "                       nc_spec=nc_transforms, \n",
    "                       rain_snow_fraction='RAINSNOW_DINGMAN')\n"
   ]
  },
  {
   "cell_type": "code",
   "execution_count": null,
   "metadata": {},
   "outputs": [],
   "source": [
    "# The model has run! We can get the response.\n",
    "# With `asobj` set to False, only the reference to the output is returned in the response. \n",
    "# Setting `asobj` to True will retrieve the actual files and copy them locally. \n",
    "[hydrograph, storage, solution, diagnostics, rv ] = resp_hind.get(asobj=True)\n",
    "\n",
    "#Since we requested output objects, we can simply access the forecast object needed for later evaluation.\n",
    "hydrograph = hydrograph.rename_dims({'nbasins':'member'})\n",
    "hydrograph.to_netcdf(str(tmp) + '/hcst.nc')\n"
   ]
  },
  {
   "cell_type": "markdown",
   "metadata": {},
   "source": [
    "### We have now run the hindcast using GEPS. Let's take a look at the resulting forecast!\n"
   ]
  },
  {
   "cell_type": "code",
   "execution_count": null,
   "metadata": {
    "scrolled": true
   },
   "outputs": [],
   "source": [
    "# Invent an observation so we can compute metrics later, and display as Qobs here. TODO: Add real streamflow data.\n",
    "qq = hydrograph.isel(member=10)\n",
    "qq.to_netcdf(str(tmp) + '/q_obs.nc','w')\n",
    "\n",
    "resp_graph = wps.graph_forecast_uncertainty(qobs=str(tmp / 'q_obs.nc'), fcst=str(tmp / 'hcst.nc'), qobs_var='q_sim', fcst_var='q_sim')\n",
    "resp_graph.get(asobj=True)[0]"
   ]
  },
  {
   "cell_type": "markdown",
   "metadata": {},
   "source": [
    "### Now, we can compute the hindcast scores such as CRPS for this hindcast using the XSkillScore package:"
   ]
  },
  {
   "cell_type": "code",
   "execution_count": null,
   "metadata": {},
   "outputs": [],
   "source": [
    "resp = wps.hindcast_evaluation(obs=str(tmp / 'q_obs.nc'), hcst=str(tmp / 'hcst.nc'), obs_var='q_sim', hcst_var='q_sim', metric='crps_ensemble')\n",
    "[score] = resp.get(asobj=True)\n",
    "print(score)"
   ]
  },
  {
   "cell_type": "markdown",
   "metadata": {},
   "source": [
    "## We have now finished the hindcast using GEPS ensemble data. Let's now use the ESP methodology using ERA5 data to compare!"
   ]
  },
  {
   "cell_type": "code",
   "execution_count": null,
   "metadata": {
    "scrolled": true
   },
   "outputs": [],
   "source": [
    "# We need to tell the model by how many hours we need to shift ERA5 data for it to be aligned on our catchment.\n",
    "UTCoffset_hours = -6 # for UTC delta\n",
    "\n",
    "#Perform the linear transform and time shift to shift ERA5 units to those expected by RAVEN.\n",
    "nc_transforms=json.dumps({'tas': {'linear_transform': (1.0, -273.15), 'time_shift': UTCoffset_hours/24}, 'pr': {'linear_transform': (24000.0, 0.0), 'time_shift': UTCoffset_hours/24}})     \n",
    "\n",
    "# Here the ERA5 data for the catchment was pre-extracted to keep things simple and running faster, but this could\n",
    "#be a call to the ERA5 (or other dataset) extraction tools. \n",
    "ts = get_file(\"era5/tas_pr_LSJ_20140520-20180615.nc\", branch=\"add_ERA5_LSJ_data\")\n",
    "\n",
    "# Call the service to get what we need.\n",
    "resp_ESP = wps.climatology_esp(forecast_date=dt.datetime(2018,6,1),\n",
    "                              forecast_duration=8,\n",
    "                              ts=ts,\n",
    "                              model_name='GR4JCN',\n",
    "                              params='0.529, -3.396, 407.29, 1.072, 16.9, 0.947',\n",
    "                              name='test',\n",
    "                              area=basin_area,\n",
    "                              latitude=basin_latitude,\n",
    "                              longitude=basin_longitude,\n",
    "                              elevation=basin_elevation,\n",
    "                              nc_spec=nc_transforms, \n",
    "                              rvc=rvc,                           \n",
    "                              rain_snow_fraction='RAINSNOW_DINGMAN' \n",
    "                              )\n"
   ]
  },
  {
   "cell_type": "markdown",
   "metadata": {},
   "source": [
    "### The model has run in climatology ESP mode, so extract and display the results!"
   ]
  },
  {
   "cell_type": "code",
   "execution_count": null,
   "metadata": {},
   "outputs": [],
   "source": [
    "forecasts=resp_ESP.get(asobj=True)\n",
    "forecasts.forecast.q_sim.plot.line(x='time')"
   ]
  },
  {
   "cell_type": "markdown",
   "metadata": {},
   "source": [
    "### We can now compute the performance score using XSkillScore again:"
   ]
  },
  {
   "cell_type": "code",
   "execution_count": null,
   "metadata": {},
   "outputs": [],
   "source": [
    "forecasts.forecast.to_netcdf(str(tmp) + '/fcst.nc','w')\n",
    "resp = wps.hindcast_evaluation(obs=str(tmp / 'q_obs.nc'), hcst=str(tmp / 'fcst.nc'), obs_var='q_sim', hcst_var='q_sim', metric='crps_ensemble')\n",
    "[score] = resp.get(asobj=True)\n",
    "print(score)"
   ]
  }
 ],
 "metadata": {
  "kernelspec": {
   "display_name": "Python 3",
   "language": "python",
   "name": "python3"
  },
  "language_info": {
   "codemirror_mode": {
    "name": "ipython",
    "version": 3
   },
   "file_extension": ".py",
   "mimetype": "text/x-python",
   "name": "python",
   "nbconvert_exporter": "python",
   "pygments_lexer": "ipython3",
   "version": "3.8.5"
  }
 },
 "nbformat": 4,
 "nbformat_minor": 1
}
