{
 "cells": [
  {
   "cell_type": "markdown",
   "metadata": {},
   "source": [
    "# Running HMETS on the 5797 basins of the extended CANOPEX dataset\n",
    "\n",
    "Here we use birdy's WPS client to launch the HMETS hydrological model on the server and analyze the output. We also prepare and gather data directly from the CANOPEX dataset made available freely for all users."
   ]
  },
  {
   "cell_type": "code",
   "execution_count": 1,
   "metadata": {},
   "outputs": [],
   "source": [
    "#Cookie-cutter template necessary to provide the tools, packages and paths for the project. All notebooks\n",
    "# need this template (or a slightly adjusted one depending on the required packages)\n",
    "from birdy import WPSClient\n",
    "\n",
    "from example_data import TESTDATA\n",
    "import datetime as dt\n",
    "from pathlib import Path\n",
    "from urllib.request import urlretrieve\n",
    "import xarray as xr\n",
    "import numpy as np\n",
    "import pandas as pd\n",
    "from matplotlib import pyplot as plt\n",
    "import os\n",
    "import json\n",
    "import netCDF4 as nc\n",
    "from zipfile import ZipFile\n",
    "import glob\n",
    "import tempfile\n",
    "\n",
    "# Set environment variable RAVEN_WPS_URL to \"http://localhost:9099\" to run on the default local server\n",
    "url = os.environ.get(\"RAVEN_WPS_URL\", \"https://pavics.ouranos.ca/twitcher/ows/proxy/raven/wps\")\n",
    "wps = WPSClient(url)\n",
    "\n",
    "# DATA MAIN SOURCE - DAP link to CANOPEX dataset\n",
    "CANOPEX_DAP = 'https://pavics.ouranos.ca/twitcher/ows/proxy/thredds/dodsC/birdhouse/ets/Watersheds_5797_cfcompliant.nc'\n",
    "CANOPEX_URL = 'https://pavics.ouranos.ca/twitcher/ows/proxy/thredds/fileServer/birdhouse/ets/Watersheds_5797_cfcompliant.nc'\n",
    "ds = xr.open_dataset(CANOPEX_DAP)"
   ]
  },
  {
   "cell_type": "code",
   "execution_count": 4,
   "metadata": {},
   "outputs": [],
   "source": [
    "# SETUP THE RUN PARAMETERS, for now only the start and end years of the simulation and choosing the watershed\n",
    "start = dt.datetime(1998, 1, 1)\n",
    "stop = dt.datetime(2010, 12, 31)\n",
    "\n",
    "# For now, we have no mechanism to link a location (lon, lat) to a given watershed. Let's pick one at random\n",
    "# from the dataset: \n",
    "watershedID = 5600"
   ]
  },
  {
   "cell_type": "code",
   "execution_count": 13,
   "metadata": {},
   "outputs": [
    {
     "name": "stdout",
     "output_type": "stream",
     "text": [
      "Basin name:  b'WHITEMOUTH RIVER NEAR WHITEMOUTH'\n",
      "Latitude:  49.51119663557124  °N\n",
      "Area:  3650.476384548832  km^2\n"
     ]
    }
   ],
   "source": [
    "# With this info, we can gather some properties from the CANOPEX database:\n",
    "tmp=pd.read_csv(TESTDATA['canopex_attributes'])\n",
    "basin_area=tmp['area'][watershedID]\n",
    "basin_latitude = tmp['latitude'][watershedID]\n",
    "basin_longitude = tmp['longitude'][watershedID]\n",
    "basin_elevation = tmp['elevation'][watershedID]\n",
    "basin_name=ds.watershed[watershedID].data\n",
    "\n",
    "print(\"Basin name: \", basin_name)\n",
    "print(\"Latitude: \", basin_latitude, \" °N\")\n",
    "print(\"Area: \", basin_area, \" km^2\")"
   ]
  },
  {
   "cell_type": "code",
   "execution_count": 14,
   "metadata": {},
   "outputs": [],
   "source": [
    "# Ideally we would be able to pass the DAP link directly to Raven, but there are still some issues \n",
    "# to fix to be able to do that. For now, we'll download the series at the point of interest. \n",
    "path = Path(tempfile.mkdtemp()) /  \"ts.nc\"\n",
    "ts = ds.isel(watershed=watershedID).sel(time=slice(start, stop))\n",
    "ts.to_netcdf(path)\n",
    "\n",
    "# Add precision on time format for Raven\n",
    "D = nc.Dataset(path, mode=\"a\")\n",
    "D.variables[\"time\"].units += \" 00:00:00\"\n",
    "D.close()"
   ]
  },
  {
   "cell_type": "markdown",
   "metadata": {},
   "source": [
    "### Now, we might have the model and data, but we don't have model parameters! We need to calibrate. This next snippet shows how to do so."
   ]
  },
  {
   "cell_type": "code",
   "execution_count": 42,
   "metadata": {},
   "outputs": [],
   "source": [
    "# The model parameters bounds can either be set independently or we can use the defaults. We will use the defaults,\n",
    "# but if you wanted to use different values you could pass them as a comma delimited string, as so:\n",
    "lowerBounds = '0.3, 0.01, 0.5, 0.15, 0.0, 0.0, -2.0, 0.01, 0.0, 0.01, 0.005, -5.0, ' \\\n",
    "                   '0.0, 0.0, 0.0, 0.0, 0.00001, 0.0, 0.00001, 0.0, 0.0'\n",
    "upperBounds = '20.0, 5.0, 13.0, 1.5, 20.0, 20.0, 3.0, 0.2, 0.1, 0.3, 0.1, 2.0, 5.0, ' \\\n",
    "                    '1.0, 3.0, 1.0, 0.02, 0.1, 0.01, 0.5, 2.0'\n",
    "\n",
    "# ... and add them to the config dictionary below by uncommenting the two lines: \n",
    "\n",
    "# We'll definitely want to adjust the optimization algorithm, random seed and number of model evaluations\n",
    "algorithm='DDS'\n",
    "max_iterations=50 # This is to keep computing time fast for the demo, you should definitely increase this to a few hundreds or thousands.\n",
    "random_seed=1, # This is to allow reproduction. If it is left uncommented in the configuration below, the results will always be the same. Therefore it should always be commented except for debugging cases\n",
    "\n",
    "# We will also calibrate on only a subset of the years for now to keep the computations faster in this notebook.\n",
    "start_calib=dt.datetime(1998,1,1)\n",
    "end_calib=dt.datetime(1999,12,31)\n",
    "\n",
    "# Model configuration parameters\n",
    "config = dict(\n",
    "    start_date=start_calib,\n",
    "    end_date=end_calib,\n",
    "    area=basin_area,\n",
    "    elevation=basin_elevation,\n",
    "    # upperBounds=upperBounds,\n",
    "    # lowerBounds=lowerBounds,\n",
    "    random_seed=random_seed,\n",
    "    algorithm=algorithm,\n",
    "    max_iterations=max_iterations,\n",
    "    latitude=basin_latitude,\n",
    "    longitude=basin_longitude,\n",
    "    suppress_output=True, # This will make raven much faster as it will not write the model outputs to file after each evaluation.\n",
    "    run_name='test_hmets_NRCAN',\n",
    "    rain_snow_fraction='RAINSNOW_DINGMAN', \n",
    "    nc_spec=json.dumps({'tasmax': {'linear_transform': (1.0, -273.15)},'tasmin': {'linear_transform': (1.0, -273.15)},'pr': {'linear_transform': (86400.0, 0.0)}},), # This allows transforming and scaling units for Raven\n",
    ")\n",
    "\n",
    "# Let's call the model with the timeseries (meteorological and observed streamflow for calibration!),\n",
    "# model parameters and other configuration parameters\n",
    "resp = wps.ostrich_hmets(ts=str(path), **config)\n",
    "\n",
    "# And get the response\n",
    "# With `asobj` set to False, only the reference to the output is returned in the response. \n",
    "# Setting `asobj` to True will retrieve the actual files and copy the locally. \n",
    "[calibration, hydrograph, storage, solution, diagnostics, calibparams, rv] = resp.get(asobj=True)\n"
   ]
  },
  {
   "cell_type": "code",
   "execution_count": 43,
   "metadata": {},
   "outputs": [
    {
     "name": "stdout",
     "output_type": "stream",
     "text": [
      "6.273179, 0.181421, 9.809273, 1.318625, 0.7437743, 19.7939, 2.116731, 0.06310419, 0.0610826, 0.2518587, 0.09584428, -2.260224, 4.879866, 0.8887099, 0.9076767, 0.8126115, 0.01505687, 0.01624556, 8.24966e-05, 78.20397, 760.9848999999999\n"
     ]
    }
   ],
   "source": [
    "# We can see the calibrated parameters:\n",
    "print(calibparams)"
   ]
  },
  {
   "cell_type": "code",
   "execution_count": 44,
   "metadata": {},
   "outputs": [
    {
     "name": "stdout",
     "output_type": "stream",
     "text": [
      "observed data series,filename,DIAG_NASH_SUTCLIFFE,DIAG_RMSE,\n",
      "HYDROGRAPH,/tmp/pywps_process_ki9x4tyz/ts.nc,0.402713,19.5566,\n",
      "\n"
     ]
    }
   ],
   "source": [
    "# And also the NSE value:\n",
    "print(diagnostics)"
   ]
  },
  {
   "cell_type": "markdown",
   "metadata": {},
   "source": [
    "### At this stage, we have calibrated the model on the observations for the desired dates. Now, let's run the model on a longer time period and look at the hydrograph"
   ]
  },
  {
   "cell_type": "code",
   "execution_count": 48,
   "metadata": {},
   "outputs": [],
   "source": [
    "# The model parameters. Can either be a string of comma separated values, a list, an array or a named tuple. \n",
    "# Here we will use the calibrated parameters, but we could overwrite them with our own parameters as so:\n",
    "\n",
    "# calibparams = '9.5019, 0.2774, 6.3942, 0.6884, 1.2875, 5.4134, 2.3641, 0.0973, 0.0464, 0.1998, 0.0222, -1.0919, ' \\\n",
    "#               '     2.6851, 0.3740, 1.0000, 0.4739, 0.0114, 0.0243, 0.0069, 310.7211, 916.1947'\n",
    "\n",
    "# Model configuration parameters\n",
    "config = dict(\n",
    "    start_date=start,\n",
    "    end_date=stop,\n",
    "    area=basin_area,\n",
    "    elevation=basin_elevation,\n",
    "    latitude=basin_latitude,\n",
    "    longitude=basin_longitude,\n",
    "    run_name='test_hmets_NRCAN',\n",
    "    rain_snow_fraction='RAINSNOW_DINGMAN', \n",
    "    nc_spec=json.dumps({'tasmax': {'linear_transform': (1.0, -273.15)},'tasmin': {'linear_transform': (1.0, -273.15)},'pr': {'linear_transform': (86400.0, 0.0)}},),\n",
    ")\n",
    "\n",
    "# Let's call the model with the timeseries, model parameters and other configuration parameters\n",
    "resp = wps.raven_hmets(ts=str(path), params=calibparams, **config)\n"
   ]
  },
  {
   "cell_type": "code",
   "execution_count": 49,
   "metadata": {},
   "outputs": [],
   "source": [
    "# And get the response\n",
    "# With `asobj` set to False, only the reference to the output is returned in the response. \n",
    "# Setting `asobj` to True will retrieve the actual files and copy the locally. \n",
    "[hydrograph, storage, solution, diagnostics, rv] = resp.get(asobj=True)"
   ]
  },
  {
   "cell_type": "markdown",
   "metadata": {},
   "source": [
    "Since we requested output objects, we can simply access the output objects. The dianostics is just a CSV file: "
   ]
  },
  {
   "cell_type": "code",
   "execution_count": 50,
   "metadata": {},
   "outputs": [
    {
     "name": "stdout",
     "output_type": "stream",
     "text": [
      "observed data series,filename,DIAG_NASH_SUTCLIFFE,DIAG_RMSE,\n",
      "HYDROGRAPH,/tmp/pywps_process_wzp4zz4a/ts.nc,0.415524,21.9858,\n",
      "\n"
     ]
    }
   ],
   "source": [
    "# We can analyze and plot the data directly here to see what it looks like, or we could download the data directly by\n",
    "# changing the asobj=True to asobj=False in the cell above this one. \n",
    "print(diagnostics)"
   ]
  },
  {
   "cell_type": "markdown",
   "metadata": {},
   "source": [
    "The `hydrograph` and `storage` outputs are netCDF files storing the time series. These files are opened by default using `xarray`, which provides convenient and powerful time series analysis and plotting tools. "
   ]
  },
  {
   "cell_type": "code",
   "execution_count": 51,
   "metadata": {},
   "outputs": [
    {
     "data": {
      "text/plain": [
       "[<matplotlib.lines.Line2D at 0x7fac1b7c4eb8>]"
      ]
     },
     "execution_count": 51,
     "metadata": {},
     "output_type": "execute_result"
    },
    {
     "data": {
      "image/png": "[encoded data removed]",
      "text/plain": [
       "<Figure size 432x288 with 1 Axes>"
      ]
     },
     "metadata": {
      "needs_background": "light"
     },
     "output_type": "display_data"
    }
   ],
   "source": [
    "# Plot the simulated hydrograph\n",
    "from pandas.plotting import register_matplotlib_converters\n",
    "register_matplotlib_converters()\n",
    "hydrograph.q_sim.plot()"
   ]
  },
  {
   "cell_type": "code",
   "execution_count": 52,
   "metadata": {},
   "outputs": [
    {
     "name": "stdout",
     "output_type": "stream",
     "text": [
      "Max:  <xarray.DataArray 'q_sim' ()>\n",
      "array(179.3093905)\n",
      "Mean:  <xarray.DataArray 'q_sim' ()>\n",
      "array(27.15435609)\n",
      "Monthly means:  <xarray.DataArray 'q_sim' (month: 12, nbasins: 1)>\n",
      "array([[ 5.71283249],\n",
      "       [ 3.78964147],\n",
      "       [ 5.75843344],\n",
      "       [36.12224458],\n",
      "       [71.88336396],\n",
      "       [54.28036951],\n",
      "       [35.5306146 ],\n",
      "       [17.93740983],\n",
      "       [22.41492954],\n",
      "       [27.44353433],\n",
      "       [29.01578923],\n",
      "       [14.94742054]])\n",
      "Coordinates:\n",
      "    basin_name  (nbasins) object ...\n",
      "  * month       (month) int64 1 2 3 4 5 6 7 8 9 10 11 12\n",
      "Dimensions without coordinates: nbasins\n"
     ]
    }
   ],
   "source": [
    "# You can also get statistics from the data directly here.\n",
    "print(\"Max: \", hydrograph.q_sim.max())\n",
    "print(\"Mean: \", hydrograph.q_sim.mean())\n",
    "print(\"Monthly means: \", hydrograph.q_sim.groupby(hydrograph.time.dt.month).mean(dim='time'))"
   ]
  },
  {
   "cell_type": "markdown",
   "metadata": {},
   "source": [
    "### For an example of how to download the data directly to analyze locally on your own computer/server, see here:"
   ]
  },
  {
   "cell_type": "code",
   "execution_count": 53,
   "metadata": {},
   "outputs": [
    {
     "name": "stdout",
     "output_type": "stream",
     "text": [
      "http://localhost:9099/outputs/62fbb5ca-8b13-11ea-a72c-b8ca3a8f5177/test_hmets_NRCAN-0_Hydrographs.nc\n",
      "http://localhost:9099/outputs/62fbb5ca-8b13-11ea-a72c-b8ca3a8f5177/test_hmets_NRCAN-0_WatershedStorage.nc\n",
      "http://localhost:9099/outputs/62fbb5ca-8b13-11ea-a72c-b8ca3a8f5177/test_hmets_NRCAN-0_solution.rvc\n",
      "http://localhost:9099/outputs/62fbb5ca-8b13-11ea-a72c-b8ca3a8f5177/test_hmets_NRCAN-0_Diagnostics.csv\n",
      "http://localhost:9099/outputs/62fbb5ca-8b13-11ea-a72c-b8ca3a8f5177/rv.zip\n"
     ]
    }
   ],
   "source": [
    "# Rerun the analysis of the WPS response, this type by using asobj=False. \n",
    "[hydrograph, storage, solution, diagnostics, rv] = resp.get(asobj=False)\n",
    "print(hydrograph)\n",
    "print(storage)\n",
    "print(solution)\n",
    "print(diagnostics)\n",
    "print(rv)"
   ]
  }
 ],
 "metadata": {
  "kernelspec": {
   "display_name": "Python 3",
   "language": "python",
   "name": "python3"
  },
  "language_info": {
   "codemirror_mode": {
    "name": "ipython",
    "version": 3
   },
   "file_extension": ".py",
   "mimetype": "text/x-python",
   "name": "python",
   "nbconvert_exporter": "python",
   "pygments_lexer": "ipython3",
   "version": "3.6.10"
  }
 },
 "nbformat": 4,
 "nbformat_minor": 1
}
