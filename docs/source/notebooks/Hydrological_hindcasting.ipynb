{
 "cells": [
  {
   "cell_type": "markdown",
   "metadata": {},
   "source": [
    "# Hindcasting with CaSPAr-Archived ECCC forecasts\n",
    "\n",
    "This notebook shows how to perform a streamflow hindcast, using CaSPar archived weather forecasts. It generates the hindcasts and plots them, then evaluates the skill using verification metrics.\n",
    "\n",
    "CaSPAr (Canadian Surface Prediction Archive) is an archive of historical ECCC forecasts developed by Juliane Mai at the University of Waterloo, Canada. More details on CaSPAr can be found here https://caspar-data.ca/.\n",
    "\n",
    "\n",
    "Mai, J., Kornelsen, K.C., Tolson, B.A., Fortin, V., Gasset, N., Bouhemhem, D., Schäfer, D., Leahy, M., Anctil, F. and Coulibaly, P., 2020. The Canadian Surface Prediction Archive (CaSPAr): A Platform to Enhance Environmental Modeling in Canada and Globally. Bulletin of the American Meteorological Society, 101(3), pp.E341-E356.\n"
   ]
  },
  {
   "cell_type": "code",
   "execution_count": 1,
   "metadata": {},
   "outputs": [
    {
     "name": "stdout",
     "output_type": "stream",
     "text": [
      "<PreparedRequest [GET]>\n",
      "<PreparedRequest [GET]>\n"
     ]
    }
   ],
   "source": [
    "%matplotlib inline\n",
    "# This entire section is cookie-cutter template to allow calling the servers and instantiating the connection\n",
    "# to the WPS server. Do not modify this block.\n",
    "from urllib.request import urlretrieve\n",
    "from birdy import WPSClient\n",
    "from raven.tutorial import get_file\n",
    "from pathlib import Path\n",
    "import json\n",
    "import os\n",
    "import datetime as dt\n",
    "import tempfile\n",
    "import xarray as xr\n",
    "\n",
    "# Set environment variable WPS_URL to \"http://localhost:9099\" to run on the default local server\n",
    "url = os.environ.get(\"WPS_URL\", \"https://pavics.ouranos.ca/twitcher/ows/proxy/raven/wps\")\n",
    "wps = WPSClient(url)\n",
    "tmp = Path(tempfile.mkdtemp())"
   ]
  },
  {
   "cell_type": "code",
   "execution_count": 2,
   "metadata": {},
   "outputs": [
    {
     "name": "stdout",
     "output_type": "stream",
     "text": [
      "<PreparedRequest [POST]>\n"
     ]
    }
   ],
   "source": [
    "# Define some of the catchment properties. Could also be replaced by a call to the properties WPS.\n",
    "region_vector = str(get_file(\"watershed_vector/LSJ_LL.zip\"))\n",
    "\n",
    "basin_area = 44523.5\n",
    "basin_longitude = -72.55\n",
    "basin_latitude = 48.39\n",
    "basin_elevation= 300.0\n",
    "\n",
    "# Choose a hydrological model to use. We have 'HMETS', 'GR4JCN','MOHYSE' and 'HBVEC'.\n",
    "hydromodel = 'GR4JCN'\n",
    "\n",
    "# Since we've used GR4JCN, we need to provide that model's parameters.\n",
    "gr4j_parameters = '0.529, -3.396, 407.29, 1.072, 16.9, 0.947'\n",
    "\n",
    "nc_transforms = json.dumps({'tas': {'time_shift': -0.25},\n",
    "                            'pr': {'time_shift': -0.25, 'deaccumulate':True}})\n",
    "\n",
    "# Date of the hindcast\n",
    "hdate = dt.datetime(2018,6,1)\n",
    "\n",
    "# Duration of the hindcast\n",
    "duration=7 #Length of the desired forecast, in days\n",
    "\n",
    "# Launch the hydrological realtime forecasting WPS\n",
    "resp=wps.hindcasting(region_vector=region_vector,\n",
    "                     latitude=basin_latitude,\n",
    "                     longitude=basin_longitude,\n",
    "                     area=basin_area, \n",
    "                     elevation=basin_elevation, \n",
    "                     forecast_model=\"GEPS\", \n",
    "                     hdate=hdate, \n",
    "                     gr4jcn=gr4j_parameters,\n",
    "                     duration=duration, \n",
    "                     rvc=str(TESTDATA['solution.rvc']), \n",
    "                     nc_spec=nc_transforms, \n",
    "                     rain_snow_fraction='RAINSNOW_DINGMAN')\n"
   ]
  },
  {
   "cell_type": "code",
   "execution_count": 3,
   "metadata": {},
   "outputs": [
    {
     "name": "stdout",
     "output_type": "stream",
     "text": [
      "<PreparedRequest [GET]>\n",
      "<PreparedRequest [GET]>\n",
      "<PreparedRequest [GET]>\n",
      "<PreparedRequest [GET]>\n",
      "<PreparedRequest [GET]>\n"
     ]
    }
   ],
   "source": [
    "# The model has run! We can get the response.\n",
    "# With `asobj` set to False, only the reference to the output is returned in the response. \n",
    "# Setting `asobj` to True will retrieve the actual files and copy them locally. \n",
    "[hydrograph, storage, solution, diagnostics, rv ] = resp.get(asobj=True)\n",
    "\n",
    "#Since we requested output objects, we can simply access the forecast object needed for later evaluation.\n",
    "hydrograph = hydrograph.rename_dims({'nbasins':'member'})\n",
    "hydrograph.to_netcdf(str(tmp) + '/hcst.nc')"
   ]
  },
  {
   "cell_type": "markdown",
   "metadata": {},
   "source": [
    "### Now, we can compute the hindcast scores such as CRPS for this hindcast using the XSkillScore package:"
   ]
  },
  {
   "cell_type": "code",
   "execution_count": 4,
   "metadata": {},
   "outputs": [],
   "source": [
    "qq = hydrograph.isel(member=10)\n",
    "qq.to_netcdf(str(tmp) + '/q_obs.nc','w')"
   ]
  },
  {
   "cell_type": "markdown",
   "metadata": {},
   "source": [
    "### Now let's run XSkillScore"
   ]
  },
  {
   "cell_type": "code",
   "execution_count": 5,
   "metadata": {},
   "outputs": [
    {
     "name": "stdout",
     "output_type": "stream",
     "text": [
      "<PreparedRequest [POST]>\n",
      "<PreparedRequest [GET]>\n",
      "{'crps_ensemble': 0.019442274872010164}\n"
     ]
    }
   ],
   "source": [
    "resp = wps.hindcast_evaluation(obs=str(tmp / 'q_obs.nc'), hcst=str(tmp / 'hcst.nc'), obs_var='q_sim', hcst_var='q_sim', metric='crps_ensemble')\n",
    "[score] = resp.get(asobj=True)\n",
    "print(score)"
   ]
  },
  {
   "cell_type": "markdown",
   "metadata": {},
   "source": [
    "### And, for visual representation of the forecasts:"
   ]
  },
  {
   "cell_type": "code",
   "execution_count": 6,
   "metadata": {},
   "outputs": [
    {
     "data": {
      "text/plain": [
       "[<matplotlib.lines.Line2D at 0x7f40b9889f98>]"
      ]
     },
     "execution_count": 6,
     "metadata": {},
     "output_type": "execute_result"
    },
    {
     "data": {
      "image/png": "[encoded data removed]",
      "text/plain": [
       "<Figure size 432x288 with 1 Axes>"
      ]
     },
     "metadata": {
      "needs_background": "light"
     },
     "output_type": "display_data"
    }
   ],
   "source": [
    "# This is to be replaced with a call to the forecast graphing WPS as soon as merged.\n",
    "hydrograph.q_sim.plot.line('b',x='time')\n",
    "qq.q_sim.plot.line('r')"
   ]
  }
 ],
 "metadata": {
  "kernelspec": {
   "display_name": "Python 3",
   "language": "python",
   "name": "python3"
  },
  "language_info": {
   "codemirror_mode": {
    "name": "ipython",
    "version": 3
   },
   "file_extension": ".py",
   "mimetype": "text/x-python",
   "name": "python",
   "nbconvert_exporter": "python",
   "pygments_lexer": "ipython3",
   "version": "3.8.6"
  }
 },
 "nbformat": 4,
 "nbformat_minor": 1
}
