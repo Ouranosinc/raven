{
 "cells": [
  {
   "cell_type": "markdown",
   "metadata": {},
   "source": [
    "##  This notebook is made available to help users find the tools they need and are made available through the WPS service with RAVEN. \n",
    "\n",
    "#### We list the various WPS services that are available and show the associated documentation."
   ]
  },
  {
   "cell_type": "code",
   "execution_count": 2,
   "metadata": {},
   "outputs": [],
   "source": [
    "# First, let's get the WPS service and connect to it.\n",
    "\n",
    "from birdy import WPSClient\n",
    "url = \"http://localhost:9099/wps\"\n",
    "wps = WPSClient(url)"
   ]
  },
  {
   "cell_type": "code",
   "execution_count": 4,
   "metadata": {},
   "outputs": [
    {
     "name": "stdout",
     "output_type": "stream",
     "text": [
      "Help on method base_flow_index in module birdy.client.base:\n",
      "\n",
      "base_flow_index(q=None, variable=None, freq='YS') method of birdy.client.base.WPSClient instance\n",
      "    Return the base flow index, defined as the minimum 7-day average flow divided by the mean flow.\n",
      "    \n",
      "    Parameters\n",
      "    ----------\n",
      "    q : ComplexData:mimetype:`application/x-netcdf`\n",
      "        NetCDF Files or archive (tar/zip) containing netCDF files.\n",
      "    variable : //www.w3.org/TR/xmlschema-2/#string\n",
      "        Name of variable to analyze in netCDF file.\n",
      "    freq : {'YS', 'MS', 'QS-DEC', 'AS-JUL'}//www.w3.org/TR/xmlschema-2/#string\n",
      "        Resampling frequency\n",
      "    \n",
      "    Returns\n",
      "    -------\n",
      "    output : ComplexData:mimetype:`application/x-netcdf`\n",
      "        The indicator values computed on the original input grid.\n",
      "    output_log : ComplexData:mimetype:`text/plain`\n",
      "        Collected logs during process run.\n",
      "\n"
     ]
    }
   ],
   "source": [
    "help(wps.base_flow_index)"
   ]
  },
  {
   "cell_type": "code",
   "execution_count": 5,
   "metadata": {},
   "outputs": [
    {
     "name": "stdout",
     "output_type": "stream",
     "text": [
      "Help on method freq_analysis in module birdy.client.base:\n",
      "\n",
      "freq_analysis(da, mode, t, dist=None, variable=None, window=1, freq=None, season=None, month=None) method of birdy.client.base.WPSClient instance\n",
      "    Parameters\n",
      "    ----------\n",
      "    da : ComplexData:mimetype:`application/x-netcdf`\n",
      "        NetCDF Files or archive (tar/zip) containing netCDF files.\n",
      "    variable : //www.w3.org/TR/xmlschema-2/#string\n",
      "        Name of variable to analyze in netCDF file.\n",
      "    mode : {'min', 'max'}//www.w3.org/TR/xmlschema-2/#string\n",
      "        Mode\n",
      "    t : //www.w3.org/TR/xmlschema-2/#integer\n",
      "        Return period\n",
      "    dist : //www.w3.org/TR/xmlschema-2/#string\n",
      "        Distribution\n",
      "    window : //www.w3.org/TR/xmlschema-2/#integer\n",
      "        Window size\n",
      "    freq : {'YS', 'MS', 'QS-DEC', 'AS-JUL'}//www.w3.org/TR/xmlschema-2/#string\n",
      "        Resampling frequency\n",
      "    season : {'DJF', 'MAM', 'JJA', 'SON'}//www.w3.org/TR/xmlschema-2/#string\n",
      "        Season selection specification.\n",
      "    month : {'1', '2', '3', '4', '5', '6', '7', '8', '9', '10', ...}//www.w3.org/TR/xmlschema-2/#string\n",
      "        Month selection specification\n",
      "    \n",
      "    Returns\n",
      "    -------\n",
      "    output : ComplexData:mimetype:`application/x-netcdf`\n",
      "        The indicator values computed on the original input grid.\n",
      "    output_log : ComplexData:mimetype:`text/plain`\n",
      "        Collected logs during process run.\n",
      "\n"
     ]
    }
   ],
   "source": [
    "help(wps.freq_analysis)"
   ]
  },
  {
   "cell_type": "code",
   "execution_count": 6,
   "metadata": {},
   "outputs": [
    {
     "name": "stdout",
     "output_type": "stream",
     "text": [
      "Help on method gr4j_cemaneige in module birdy.client.base:\n",
      "\n",
      "gr4j_cemaneige(pr=None, tas=None, evap=None, params='0.529, -3.396, 407.29, 1.072, 16.9, 0.947', start_date=datetime.date(1, 1, 1), end_date=datetime.date(1, 1, 1)) method of birdy.client.base.WPSClient instance\n",
      "    GR4J + CEMANEIGE hydrological model\n",
      "    \n",
      "    Parameters\n",
      "    ----------\n",
      "    pr : ComplexData:mimetype:`application/x-netcdf`\n",
      "        netCDF file storing daily precipitation time series (pr).\n",
      "    tas : ComplexData:mimetype:`application/x-netcdf`\n",
      "        netCDF file storing daily temperature time series (tas).\n",
      "    evap : ComplexData:mimetype:`application/x-netcdf`\n",
      "        netCDF file storing daily evapotranspiration time series (evap).\n",
      "    params : //www.w3.org/TR/xmlschema-2/#string\n",
      "        Parameters: GR4J_X1, GR4J_X2, GR4J_X3, GR4J_X4, CN_X1, CN_X2Raven: GR4J_X1, GR4J_X2, GR4J_X3, GR4J_X4, CEMANEIGE_X1, CEMANEIGE_X2\n",
      "    start_date : //www.w3.org/TR/xmlschema-2/#date\n",
      "        Start date of the simulation (AAAA-MM-DD). Defaults to the start of the forcing file.\n",
      "    end_date : //www.w3.org/TR/xmlschema-2/#date\n",
      "        End date of the simulation (AAAA-MM-DD). Defaults to the end of the forcing file.\n",
      "    \n",
      "    Returns\n",
      "    -------\n",
      "    q : ComplexData:mimetype:`application/x-netcdf`\n",
      "        Discharge time series (mm)\n",
      "\n"
     ]
    }
   ],
   "source": [
    "help(wps.gr4j_cemaneige)"
   ]
  },
  {
   "cell_type": "code",
   "execution_count": 7,
   "metadata": {},
   "outputs": [
    {
     "name": "stdout",
     "output_type": "stream",
     "text": [
      "Help on method graph_ensemble_uncertainty in module birdy.client.base:\n",
      "\n",
      "graph_ensemble_uncertainty(sims=None) method of birdy.client.base.WPSClient instance\n",
      "    Parameters\n",
      "    ----------\n",
      "    sims : ComplexData:mimetype:`application/x-netcdf`, :mimetype:`application/zip`\n",
      "        Stream flow simulation time series\n",
      "    \n",
      "    Returns\n",
      "    -------\n",
      "    graph_ensemble_hydrographs : ComplexData:mimetype:`image/png`\n",
      "        Figure showing the simple hydrographs of the included models.\n",
      "    graph_annual_hydrographs : ComplexData:mimetype:`image/png`\n",
      "        Figure showing the spread for the mean annual hydrograph.\n",
      "\n"
     ]
    }
   ],
   "source": [
    "help(wps.graph_ensemble_uncertainty)"
   ]
  },
  {
   "cell_type": "code",
   "execution_count": 8,
   "metadata": {},
   "outputs": [
    {
     "name": "stdout",
     "output_type": "stream",
     "text": [
      "Help on method graph_objective_function_fit in module birdy.client.base:\n",
      "\n",
      "graph_objective_function_fit(sims=None) method of birdy.client.base.WPSClient instance\n",
      "    Parameters\n",
      "    ----------\n",
      "    sims : ComplexData:mimetype:`application/x-netcdf`\n",
      "        Stream flow simulation time series\n",
      "    \n",
      "    Returns\n",
      "    -------\n",
      "    graph_objfun_fit : ComplexData:mimetype:`image/png`\n",
      "        Figure showing the observed and simulated streamflows\n",
      "    graph_objfun_annual_fit : ComplexData:mimetype:`image/png`\n",
      "        Figure showing the fit on the mean annual hydrograph.\n",
      "\n"
     ]
    }
   ],
   "source": [
    "help(wps.graph_objective_function_fit)"
   ]
  },
  {
   "cell_type": "code",
   "execution_count": 9,
   "metadata": {},
   "outputs": [
    {
     "name": "stdout",
     "output_type": "stream",
     "text": [
      "Help on method graph_single_hydrograph in module birdy.client.base:\n",
      "\n",
      "graph_single_hydrograph(sim=None) method of birdy.client.base.WPSClient instance\n",
      "    Parameters\n",
      "    ----------\n",
      "    sim : ComplexData:mimetype:`application/x-netcdf`\n",
      "        Stream flow simulation time series\n",
      "    \n",
      "    Returns\n",
      "    -------\n",
      "    graph_single_hydrographs : ComplexData:mimetype:`image/png`\n",
      "        Figure showing the simple hydrographs of the included models.\n",
      "    graph_annual_hydrographs : ComplexData:mimetype:`image/png`\n",
      "        Figure showing the spread for the mean annual hydrograph.\n",
      "    graph_spaghetti_hydrographs : ComplexData:mimetype:`image/png`\n",
      "        Figure showing the annual hydrographs for each year.\n",
      "\n"
     ]
    }
   ],
   "source": [
    "help(wps.graph_single_hydrograph)"
   ]
  },
  {
   "cell_type": "code",
   "execution_count": 10,
   "metadata": {},
   "outputs": [
    {
     "name": "stdout",
     "output_type": "stream",
     "text": [
      "Help on method hydrosheds_select in module birdy.client.base:\n",
      "\n",
      "hydrosheds_select(location, aggregate_upstream=None) method of birdy.client.base.WPSClient instance\n",
      "    Return a watershed from the HydroSheds database as a polygon vector file.\n",
      "    \n",
      "    Parameters\n",
      "    ----------\n",
      "    location : //www.w3.org/TR/xmlschema-2/#string\n",
      "        Location coordinates (longitude, latitude) for point of interest.\n",
      "    aggregate_upstream : //www.w3.org/TR/xmlschema-2/#boolean\n",
      "        Attempt to capture both the containing basin and all tributary basins from point\n",
      "    \n",
      "    Returns\n",
      "    -------\n",
      "    feature : ComplexData:mimetype:`application/vnd.geo+json`\n",
      "        Geographic representation of shape properties.\n",
      "    upstream_ids : ComplexData:mimetype:`application/json`\n",
      "        List of all tributary sub-basins according to their HydroBASINS IDs, including the downstream basin.\n",
      "\n"
     ]
    }
   ],
   "source": [
    "help(wps.hydrosheds_select)"
   ]
  },
  {
   "cell_type": "code",
   "execution_count": 11,
   "metadata": {},
   "outputs": [
    {
     "name": "stdout",
     "output_type": "stream",
     "text": [
      "Help on method nalcms_zonal_stats in module birdy.client.base:\n",
      "\n",
      "nalcms_zonal_stats(shape=None, raster=None, simple_categories=None, band=1, select_all_touching=None) method of birdy.client.base.WPSClient instance\n",
      "    Return zonal statistics for the CEC NALCMS based on the boundaries of a vector file.\n",
      "    \n",
      "    Parameters\n",
      "    ----------\n",
      "    shape : ComplexData:mimetype:`application/vnd.geo+json`, :mimetype:`application/gml+xml`, :mimetype:`application/json`, :mimetype:`application/x-zipped-shp`\n",
      "        An ESRI Shapefile, GML, JSON, GeoJSON, or single layer GeoPackage. The ESRI Shapefile must be zipped and contain the .shp, .shx, and .dbf.\n",
      "    raster : ComplexData:mimetype:`image/tiff; subtype=geotiff`\n",
      "        The Land Use raster to be queried. Default is the CEC NALCMS 2010. Provided raster must use the UN FAO Land Cover Classification System (19 types).\n",
      "    simple_categories : //www.w3.org/TR/xmlschema-2/#boolean\n",
      "        Use simplified land classification categories for hydrological modelling purposes. Default: True\n",
      "    band : //www.w3.org/TR/xmlschema-2/#integer\n",
      "        Band of raster examined to perform zonal statistics. Default: 1\n",
      "    select_all_touching : //www.w3.org/TR/xmlschema-2/#boolean\n",
      "        Additionally select boundary pixels that are touched by shape\n",
      "    \n",
      "    Returns\n",
      "    -------\n",
      "    statistics : ComplexData:mimetype:`application/json`, :mimetype:`application/vnd.geo+json`\n",
      "        Category pixel counts using simplified UNFAO\n",
      "\n"
     ]
    }
   ],
   "source": [
    "help(wps.nalcms_zonal_stats)"
   ]
  },
  {
   "cell_type": "code",
   "execution_count": 12,
   "metadata": {},
   "outputs": [
    {
     "name": "stdout",
     "output_type": "stream",
     "text": [
      "Help on method objective_function in module birdy.client.base:\n",
      "\n",
      "objective_function(obs=None, sim=None, name=None) method of birdy.client.base.WPSClient instance\n",
      "    This process takes two NETCDF files (one containing variable 'q_sim' and the other 'q_obs') and computes objective-function metrics between them.\n",
      "    \n",
      "    Parameters\n",
      "    ----------\n",
      "    obs : ComplexData:mimetype:`application/x-netcdf`\n",
      "        Steam flow observation time series\n",
      "    sim : ComplexData:mimetype:`application/x-netcdf`\n",
      "        Stream flow simulation time series\n",
      "    name : {'agreementindex', 'bias', 'correlationcoefficient', 'covariance', 'decomposed_mse', 'kge', 'log_p', 'lognashsutcliffe', 'mae', 'mse', ...}//www.w3.org/TR/xmlschema-2/#string\n",
      "        One or multiple objective function name. If None, defaults to all.\n",
      "    \n",
      "    Returns\n",
      "    -------\n",
      "    metrics : ComplexData:mimetype:`application/json`\n",
      "        Returns up to 17 objective function values, depending on the user's requests. By default all 17 are returned. JSON dictionary format.\n",
      "\n"
     ]
    }
   ],
   "source": [
    "help(wps.objective_function)"
   ]
  },
  {
   "cell_type": "code",
   "execution_count": 13,
   "metadata": {},
   "outputs": [
    {
     "name": "stdout",
     "output_type": "stream",
     "text": [
      "Help on method ostrich_gr4j_cemaneige in module birdy.client.base:\n",
      "\n",
      "ostrich_gr4j_cemaneige(ts, latitude, longitude, elevation=None, lowerbounds='0.1, -5.0, 100.0, 1.0, 10, 0.1', upperbounds='0.9, 0.0, 500.0, 1.1, 20.0, 1.0', algorithm='DDS', max_iterations=50, start_date=datetime.datetime(1, 1, 1, 0, 0), end_date=datetime.datetime(1, 1, 1, 0, 0), duration=None, run_name='raven-gr4j-cemaneige-sim', name='watershed', area=None, random_seed=-1) method of birdy.client.base.WPSClient instance\n",
      "    OSTRICH calibration of RAVEN GR4J + CEMANEIGE hydrological model\n",
      "    \n",
      "    Parameters\n",
      "    ----------\n",
      "    ts : ComplexData:mimetype:`application/x-netcdf`, :mimetype:`text/plain`, :mimetype:`application/x-zipped-shp`\n",
      "        Files (text or netCDF) storingdaily liquid precipitation (pr), solid precipitation (prsn), minimum temperature (tasmin), maximum temperature (tasmax), potential evapotranspiration (evspsbl) and observed streamflow (qobs [m3/s]).\n",
      "    lowerbounds : //www.w3.org/TR/xmlschema-2/#string\n",
      "        LParameters: GR4J_X1, GR4J_X2, GR4J_X3, GR4J_X4, CEMANEIGE_X1, CEMANEIGE_X2\n",
      "    upperbounds : //www.w3.org/TR/xmlschema-2/#string\n",
      "        UParameters: GR4J_X1, GR4J_X2, GR4J_X3, GR4J_X4, CEMANEIGE_X1, CEMANEIGE_X2\n",
      "    algorithm : {'DDS', 'SCEUA'}//www.w3.org/TR/xmlschema-2/#string\n",
      "        Optimization algorithm to implement for this calibration run\n",
      "    max_iterations : {'0', '1', '2', '3', '4', '5', '6', '7', '8', '9', ...}//www.w3.org/TR/xmlschema-2/#integer\n",
      "        Maximum number of times OSTRICH can call the hydrological model during the model parameter calibrationn\n",
      "    start_date : //www.w3.org/TR/xmlschema-2/#dateTime\n",
      "        Start date of the simulation (AAAA-MM-DD). Defaults to the start of the forcing file.\n",
      "    end_date : //www.w3.org/TR/xmlschema-2/#dateTime\n",
      "        End date of the simulation (AAAA-MM-DD). Defaults to the end of the forcing file.\n",
      "    duration : //www.w3.org/TR/xmlschema-2/#nonNegativeInteger\n",
      "        Number of simulated days, defaults to the length of the input forcings.\n",
      "    run_name : //www.w3.org/TR/xmlschema-2/#string\n",
      "        The name given to the simulation, for example <watershed>_<experiment>\n",
      "    name : //www.w3.org/TR/xmlschema-2/#string\n",
      "        The name of the watershed the model is run for.\n",
      "    area : //www.w3.org/TR/xmlschema-2/#float\n",
      "        Watershed area (km2)\n",
      "    latitude : //www.w3.org/TR/xmlschema-2/#float\n",
      "        Watershed's centroid latitude\n",
      "    longitude : //www.w3.org/TR/xmlschema-2/#float\n",
      "        Watershed's centroid longitude\n",
      "    elevation : //www.w3.org/TR/xmlschema-2/#float\n",
      "        Watershed's mean elevation (m)\n",
      "    random_seed : //www.w3.org/TR/xmlschema-2/#integer\n",
      "        Set this value to obtain replicable results. Set to -1 to let it be random.\n",
      "    \n",
      "    Returns\n",
      "    -------\n",
      "    calibration : ComplexData:mimetype:`text/plain`\n",
      "        Output file from Ostrich calibration run.\n",
      "    hydrograph : ComplexData:mimetype:`application/x-netcdf`, :mimetype:`application/zip`\n",
      "        A netCDF file containing the outflow hydrographs (in m3/s) for all subbasinsspecified as `gauged` in the .rvh file. It reports period-ending time-averaged flows for the preceding time step, as is consistent with most measured stream gauge data (again, the initial flow conditions at the start of the first time step are included). If observed hydrographs are specified, they will be output adjacent to the corresponding modelled  hydrograph.\n",
      "    storage : ComplexData:mimetype:`application/x-netcdf`, :mimetype:`application/zip`\n",
      "        A netCDF file describing the total storage of water (in mm) in all water storage compartments for each time step of the simulation. Mass balance errors, cumulative input (precipitation), and output (channel losses) are also included. Note that the precipitation rates in this file are period-ending, i.e., this is the precipitation rate for the time step preceding the time stamp; all water storage variables represent instantaneous reports of the storage at the time stamp indicate.\n",
      "    solution : ComplexData:mimetype:`text/plain`, :mimetype:`application/zip`\n",
      "        solution.rvc file to restart another simulation with the conditions at the end of this simulation.\n",
      "    diagnostics : ComplexData:mimetype:`text/plain`, :mimetype:`application/zip`\n",
      "        Model diagnostic CSV file.\n",
      "    calibparams : //www.w3.org/TR/xmlschema-2/#string\n",
      "        Comma separated list of parameters.\n",
      "\n"
     ]
    }
   ],
   "source": [
    "help(wps.ostrich_gr4j_cemaneige)"
   ]
  },
  {
   "cell_type": "code",
   "execution_count": 14,
   "metadata": {},
   "outputs": [
    {
     "name": "stdout",
     "output_type": "stream",
     "text": [
      "Help on method ostrich_hbv_ec in module birdy.client.base:\n",
      "\n",
      "ostrich_hbv_ec(ts, latitude, longitude, elevation=None, lowerbounds='-3.0, 0.0, 0.0, 0.0, 0.0, 0.3, 0.0, 0.0, 0.01, 0.05, 0.01, 0.0, 0.0, 0.0, 0.0, 0.0, 0.01, 0.0, 0.05, 0.8, 0.8', upperbounds='3.0, 8.0, 8.0, 0.1, 1.0, 1.0, 7.0, 100.0, 1.0, 0.1, 6.0, 5.0, 5.0, 0.2, 1.0, 30.0, 3.0, 2.0, 1.0, 1.5, 1.5', algorithm='DDS', max_iterations=50, start_date=datetime.datetime(1, 1, 1, 0, 0), end_date=datetime.datetime(1, 1, 1, 0, 0), duration=None, run_name='raven-gr4j-cemaneige-sim', name='watershed', area=None, random_seed=-1) method of birdy.client.base.WPSClient instance\n",
      "    OSTRICH calibration of RAVEN HBV-EC hydrological model\n",
      "    \n",
      "    Parameters\n",
      "    ----------\n",
      "    ts : ComplexData:mimetype:`application/x-netcdf`, :mimetype:`text/plain`, :mimetype:`application/x-zipped-shp`\n",
      "        Files (text or netCDF) storingdaily liquid precipitation (pr), solid precipitation (prsn), minimum temperature (tasmin), maximum temperature (tasmax), potential evapotranspiration (evspsbl) and observed streamflow (qobs [m3/s]).\n",
      "    lowerbounds : //www.w3.org/TR/xmlschema-2/#string\n",
      "        LParameters: par_x01, par_x02, par_x03, par_x04, par_x05, par_x06, par_x07, par_x08, par_x09, par_x10, par_x11, par_x12, par_x13, par_x14, par_x15, par_x16, par_x17, par_x18, par_x19, par_x20, par_x21\n",
      "    upperbounds : //www.w3.org/TR/xmlschema-2/#string\n",
      "        UParameters: par_x01, par_x02, par_x03, par_x04, par_x05, par_x06, par_x07, par_x08, par_x09, par_x10, par_x11, par_x12, par_x13, par_x14, par_x15, par_x16, par_x17, par_x18, par_x19, par_x20, par_x21\n",
      "    algorithm : {'DDS', 'SCEUA'}//www.w3.org/TR/xmlschema-2/#string\n",
      "        Optimization algorithm to implement for this calibration run\n",
      "    max_iterations : {'0', '1', '2', '3', '4', '5', '6', '7', '8', '9', ...}//www.w3.org/TR/xmlschema-2/#integer\n",
      "        Maximum number of times OSTRICH can call the hydrological model during the model parameter calibrationn\n",
      "    start_date : //www.w3.org/TR/xmlschema-2/#dateTime\n",
      "        Start date of the simulation (AAAA-MM-DD). Defaults to the start of the forcing file.\n",
      "    end_date : //www.w3.org/TR/xmlschema-2/#dateTime\n",
      "        End date of the simulation (AAAA-MM-DD). Defaults to the end of the forcing file.\n",
      "    duration : //www.w3.org/TR/xmlschema-2/#nonNegativeInteger\n",
      "        Number of simulated days, defaults to the length of the input forcings.\n",
      "    run_name : //www.w3.org/TR/xmlschema-2/#string\n",
      "        The name given to the simulation, for example <watershed>_<experiment>\n",
      "    name : //www.w3.org/TR/xmlschema-2/#string\n",
      "        The name of the watershed the model is run for.\n",
      "    area : //www.w3.org/TR/xmlschema-2/#float\n",
      "        Watershed area (km2)\n",
      "    latitude : //www.w3.org/TR/xmlschema-2/#float\n",
      "        Watershed's centroid latitude\n",
      "    longitude : //www.w3.org/TR/xmlschema-2/#float\n",
      "        Watershed's centroid longitude\n",
      "    elevation : //www.w3.org/TR/xmlschema-2/#float\n",
      "        Watershed's mean elevation (m)\n",
      "    random_seed : //www.w3.org/TR/xmlschema-2/#integer\n",
      "        Set this value to obtain replicable results. Set to -1 to let it be random.\n",
      "    \n",
      "    Returns\n",
      "    -------\n",
      "    calibration : ComplexData:mimetype:`text/plain`\n",
      "        Output file from Ostrich calibration run.\n",
      "    hydrograph : ComplexData:mimetype:`application/x-netcdf`, :mimetype:`application/zip`\n",
      "        A netCDF file containing the outflow hydrographs (in m3/s) for all subbasinsspecified as `gauged` in the .rvh file. It reports period-ending time-averaged flows for the preceding time step, as is consistent with most measured stream gauge data (again, the initial flow conditions at the start of the first time step are included). If observed hydrographs are specified, they will be output adjacent to the corresponding modelled  hydrograph.\n",
      "    storage : ComplexData:mimetype:`application/x-netcdf`, :mimetype:`application/zip`\n",
      "        A netCDF file describing the total storage of water (in mm) in all water storage compartments for each time step of the simulation. Mass balance errors, cumulative input (precipitation), and output (channel losses) are also included. Note that the precipitation rates in this file are period-ending, i.e., this is the precipitation rate for the time step preceding the time stamp; all water storage variables represent instantaneous reports of the storage at the time stamp indicate.\n",
      "    solution : ComplexData:mimetype:`text/plain`, :mimetype:`application/zip`\n",
      "        solution.rvc file to restart another simulation with the conditions at the end of this simulation.\n",
      "    diagnostics : ComplexData:mimetype:`text/plain`, :mimetype:`application/zip`\n",
      "        Model diagnostic CSV file.\n",
      "    calibparams : //www.w3.org/TR/xmlschema-2/#string\n",
      "        Comma separated list of parameters.\n",
      "\n"
     ]
    }
   ],
   "source": [
    "help(wps.ostrich_hbv_ec)"
   ]
  },
  {
   "cell_type": "code",
   "execution_count": 15,
   "metadata": {},
   "outputs": [
    {
     "name": "stdout",
     "output_type": "stream",
     "text": [
      "Help on method ostrich_hmets in module birdy.client.base:\n",
      "\n",
      "ostrich_hmets(ts, latitude, longitude, elevation=None, lowerbounds='0.3, 0.01, 0.5, 0.15, 0.0, 0.0, -2.0, 0.01, 0.0, 0.01, 0.005, -5.0, 0.0, 0.0, 0.0, 0.0, 1e-05, 0.0, 1e-05, 0.0, 0.0', upperbounds='20.0, 5.0, 13.0, 1.5, 20.0, 20.0, 3.0, 0.2, 0.1, 0.3, 0.1, 2.0, 5.0, 1.0, 3.0, 1.0, 0.02, 0.1, 0.01, 0.5, 2.0', algorithm='DDS', max_iterations=50, start_date=datetime.datetime(1, 1, 1, 0, 0), end_date=datetime.datetime(1, 1, 1, 0, 0), duration=None, run_name='raven-gr4j-cemaneige-sim', name='watershed', area=None, random_seed=-1) method of birdy.client.base.WPSClient instance\n",
      "    OSTRICH calibration of RAVEN HMETS hydrological model\n",
      "    \n",
      "    Parameters\n",
      "    ----------\n",
      "    ts : ComplexData:mimetype:`application/x-netcdf`, :mimetype:`text/plain`, :mimetype:`application/x-zipped-shp`\n",
      "        Files (text or netCDF) storingdaily liquid precipitation (pr), solid precipitation (prsn), minimum temperature (tasmin), maximum temperature (tasmax), potential evapotranspiration (evspsbl) and observed streamflow (qobs [m3/s]).\n",
      "    lowerbounds : //www.w3.org/TR/xmlschema-2/#string\n",
      "        LParameters: GAMMA_SHAPE, GAMMA_SCALE, GAMMA_SHAPE2, GAMMA_SCALE2, MIN_MELT_FACTOR, MAX_MELT_FACTOR, DD_MELT_TEMP, DD_AGGRADATION, SNOW_SWI_MIN, SNOW_SWI_MAX, SWI_REDUCT_COEFF, DD_REFREEZE_TEMP, REFREEZE_FACTOR, REFREEZE_EXP, PET_CORRECTION, HMETS_RUNOFF_COEFF, PERC_COEFF, BASEFLOW_COEFF_1, BASEFLOW_COEFF_2, TOPSOIL, PHREATIC\n",
      "    upperbounds : //www.w3.org/TR/xmlschema-2/#string\n",
      "        UParameters: GAMMA_SHAPE, GAMMA_SCALE, GAMMA_SHAPE2, GAMMA_SCALE2, MIN_MELT_FACTOR, MAX_MELT_FACTOR, DD_MELT_TEMP, DD_AGGRADATION, SNOW_SWI_MIN, SNOW_SWI_MAX, SWI_REDUCT_COEFF, DD_REFREEZE_TEMP, REFREEZE_FACTOR, REFREEZE_EXP, PET_CORRECTION, HMETS_RUNOFF_COEFF, PERC_COEFF, BASEFLOW_COEFF_1, BASEFLOW_COEFF_2, TOPSOIL, PHREATIC\n",
      "    algorithm : {'DDS', 'SCEUA'}//www.w3.org/TR/xmlschema-2/#string\n",
      "        Optimization algorithm to implement for this calibration run\n",
      "    max_iterations : {'0', '1', '2', '3', '4', '5', '6', '7', '8', '9', ...}//www.w3.org/TR/xmlschema-2/#integer\n",
      "        Maximum number of times OSTRICH can call the hydrological model during the model parameter calibrationn\n",
      "    start_date : //www.w3.org/TR/xmlschema-2/#dateTime\n",
      "        Start date of the simulation (AAAA-MM-DD). Defaults to the start of the forcing file.\n",
      "    end_date : //www.w3.org/TR/xmlschema-2/#dateTime\n",
      "        End date of the simulation (AAAA-MM-DD). Defaults to the end of the forcing file.\n",
      "    duration : //www.w3.org/TR/xmlschema-2/#nonNegativeInteger\n",
      "        Number of simulated days, defaults to the length of the input forcings.\n",
      "    run_name : //www.w3.org/TR/xmlschema-2/#string\n",
      "        The name given to the simulation, for example <watershed>_<experiment>\n",
      "    name : //www.w3.org/TR/xmlschema-2/#string\n",
      "        The name of the watershed the model is run for.\n",
      "    area : //www.w3.org/TR/xmlschema-2/#float\n",
      "        Watershed area (km2)\n",
      "    latitude : //www.w3.org/TR/xmlschema-2/#float\n",
      "        Watershed's centroid latitude\n",
      "    longitude : //www.w3.org/TR/xmlschema-2/#float\n",
      "        Watershed's centroid longitude\n",
      "    elevation : //www.w3.org/TR/xmlschema-2/#float\n",
      "        Watershed's mean elevation (m)\n",
      "    random_seed : //www.w3.org/TR/xmlschema-2/#integer\n",
      "        Set this value to obtain replicable results. Set to -1 to let it be random.\n",
      "    \n",
      "    Returns\n",
      "    -------\n",
      "    calibration : ComplexData:mimetype:`text/plain`\n",
      "        Output file from Ostrich calibration run.\n",
      "    hydrograph : ComplexData:mimetype:`application/x-netcdf`, :mimetype:`application/zip`\n",
      "        A netCDF file containing the outflow hydrographs (in m3/s) for all subbasinsspecified as `gauged` in the .rvh file. It reports period-ending time-averaged flows for the preceding time step, as is consistent with most measured stream gauge data (again, the initial flow conditions at the start of the first time step are included). If observed hydrographs are specified, they will be output adjacent to the corresponding modelled  hydrograph.\n",
      "    storage : ComplexData:mimetype:`application/x-netcdf`, :mimetype:`application/zip`\n",
      "        A netCDF file describing the total storage of water (in mm) in all water storage compartments for each time step of the simulation. Mass balance errors, cumulative input (precipitation), and output (channel losses) are also included. Note that the precipitation rates in this file are period-ending, i.e., this is the precipitation rate for the time step preceding the time stamp; all water storage variables represent instantaneous reports of the storage at the time stamp indicate.\n",
      "    solution : ComplexData:mimetype:`text/plain`, :mimetype:`application/zip`\n",
      "        solution.rvc file to restart another simulation with the conditions at the end of this simulation.\n",
      "    diagnostics : ComplexData:mimetype:`text/plain`, :mimetype:`application/zip`\n",
      "        Model diagnostic CSV file.\n",
      "    calibparams : //www.w3.org/TR/xmlschema-2/#string\n",
      "        Comma separated list of parameters.\n",
      "\n"
     ]
    }
   ],
   "source": [
    "help(wps.ostrich_hmets)"
   ]
  },
  {
   "cell_type": "code",
   "execution_count": 16,
   "metadata": {},
   "outputs": [
    {
     "name": "stdout",
     "output_type": "stream",
     "text": [
      "Help on method ostrich_mohyse in module birdy.client.base:\n",
      "\n",
      "ostrich_mohyse(ts, latitude, longitude, elevation=None, lowerbounds='0.01, 0.01, 0.01, -5.0, 0.01, 0.01, 0.01, 0.01', upperbounds='20.0, 1.0, 20.0, 5.0, 0.5, 1.0, 1.0, 1.0', hrusupperbounds='15.0, 15.0', hruslowerbounds='0.01, 0.01', algorithm='DDS', max_iterations=50, start_date=datetime.datetime(1, 1, 1, 0, 0), end_date=datetime.datetime(1, 1, 1, 0, 0), duration=None, run_name='raven-gr4j-cemaneige-sim', name='watershed', area=None, random_seed=-1) method of birdy.client.base.WPSClient instance\n",
      "    OSTRICH calibration of RAVEN MOHYSE hydrological model\n",
      "    \n",
      "    Parameters\n",
      "    ----------\n",
      "    ts : ComplexData:mimetype:`application/x-netcdf`, :mimetype:`text/plain`, :mimetype:`application/x-zipped-shp`\n",
      "        Files (text or netCDF) storingdaily liquid precipitation (pr), solid precipitation (prsn), minimum temperature (tasmin), maximum temperature (tasmax), potential evapotranspiration (evspsbl) and observed streamflow (qobs [m3/s]).\n",
      "    lowerbounds : //www.w3.org/TR/xmlschema-2/#string\n",
      "        LParameters: par_x01, par_x02, par_x03, par_x04, par_x05, par_x06, par_x07, par_x08\n",
      "    upperbounds : //www.w3.org/TR/xmlschema-2/#string\n",
      "        UParameters: par_x01, par_x02, par_x03, par_x04, par_x05, par_x06, par_x07, par_x08\n",
      "    hrusupperbounds : //www.w3.org/TR/xmlschema-2/#string\n",
      "        Uhrus: par_x09, par_x10\n",
      "    hruslowerbounds : //www.w3.org/TR/xmlschema-2/#string\n",
      "        Lhrus: par_x09, par_x10\n",
      "    algorithm : {'DDS', 'SCEUA'}//www.w3.org/TR/xmlschema-2/#string\n",
      "        Optimization algorithm to implement for this calibration run\n",
      "    max_iterations : {'0', '1', '2', '3', '4', '5', '6', '7', '8', '9', ...}//www.w3.org/TR/xmlschema-2/#integer\n",
      "        Maximum number of times OSTRICH can call the hydrological model during the model parameter calibrationn\n",
      "    start_date : //www.w3.org/TR/xmlschema-2/#dateTime\n",
      "        Start date of the simulation (AAAA-MM-DD). Defaults to the start of the forcing file.\n",
      "    end_date : //www.w3.org/TR/xmlschema-2/#dateTime\n",
      "        End date of the simulation (AAAA-MM-DD). Defaults to the end of the forcing file.\n",
      "    duration : //www.w3.org/TR/xmlschema-2/#nonNegativeInteger\n",
      "        Number of simulated days, defaults to the length of the input forcings.\n",
      "    run_name : //www.w3.org/TR/xmlschema-2/#string\n",
      "        The name given to the simulation, for example <watershed>_<experiment>\n",
      "    name : //www.w3.org/TR/xmlschema-2/#string\n",
      "        The name of the watershed the model is run for.\n",
      "    area : //www.w3.org/TR/xmlschema-2/#float\n",
      "        Watershed area (km2)\n",
      "    latitude : //www.w3.org/TR/xmlschema-2/#float\n",
      "        Watershed's centroid latitude\n",
      "    longitude : //www.w3.org/TR/xmlschema-2/#float\n",
      "        Watershed's centroid longitude\n",
      "    elevation : //www.w3.org/TR/xmlschema-2/#float\n",
      "        Watershed's mean elevation (m)\n",
      "    random_seed : //www.w3.org/TR/xmlschema-2/#integer\n",
      "        Set this value to obtain replicable results. Set to -1 to let it be random.\n",
      "    \n",
      "    Returns\n",
      "    -------\n",
      "    calibration : ComplexData:mimetype:`text/plain`\n",
      "        Output file from Ostrich calibration run.\n",
      "    hydrograph : ComplexData:mimetype:`application/x-netcdf`, :mimetype:`application/zip`\n",
      "        A netCDF file containing the outflow hydrographs (in m3/s) for all subbasinsspecified as `gauged` in the .rvh file. It reports period-ending time-averaged flows for the preceding time step, as is consistent with most measured stream gauge data (again, the initial flow conditions at the start of the first time step are included). If observed hydrographs are specified, they will be output adjacent to the corresponding modelled  hydrograph.\n",
      "    storage : ComplexData:mimetype:`application/x-netcdf`, :mimetype:`application/zip`\n",
      "        A netCDF file describing the total storage of water (in mm) in all water storage compartments for each time step of the simulation. Mass balance errors, cumulative input (precipitation), and output (channel losses) are also included. Note that the precipitation rates in this file are period-ending, i.e., this is the precipitation rate for the time step preceding the time stamp; all water storage variables represent instantaneous reports of the storage at the time stamp indicate.\n",
      "    solution : ComplexData:mimetype:`text/plain`, :mimetype:`application/zip`\n",
      "        solution.rvc file to restart another simulation with the conditions at the end of this simulation.\n",
      "    diagnostics : ComplexData:mimetype:`text/plain`, :mimetype:`application/zip`\n",
      "        Model diagnostic CSV file.\n",
      "    calibparams : //www.w3.org/TR/xmlschema-2/#string\n",
      "        Comma separated list of parameters.\n",
      "\n"
     ]
    }
   ],
   "source": [
    "help(wps.ostrich_mohyse)"
   ]
  },
  {
   "cell_type": "code",
   "execution_count": 17,
   "metadata": {},
   "outputs": [
    {
     "name": "stdout",
     "output_type": "stream",
     "text": [
      "Help on method raster_subset in module birdy.client.base:\n",
      "\n",
      "raster_subset(shape, band=None, select_all_touching=1, raster=None) method of birdy.client.base.WPSClient instance\n",
      "    Return a masked raster based on boundaries of a vector file.\n",
      "    \n",
      "    Parameters\n",
      "    ----------\n",
      "    shape : ComplexData:mimetype:`application/vnd.geo+json`, :mimetype:`application/gml+xml`, :mimetype:`application/json`, :mimetype:`application/x-zipped-shp`\n",
      "        An ESRI Shapefile, GML, JSON, GeoJSON, or single layer GeoPackage. The ESRI Shapefile must be zipped and contain the .shp, .shx, and .dbf. The shape and raster should have a matching CRS.\n",
      "    raster : ComplexData:mimetype:`image/tiff; subtype=geotiff`\n",
      "        The raster to be queried. Defaults to the EarthEnv-DEM90 product.\n",
      "    band : //www.w3.org/TR/xmlschema-2/#integer\n",
      "        Band of raster examined to perform zonal statistics. Default: 1\n",
      "    select_all_touching : //www.w3.org/TR/xmlschema-2/#boolean\n",
      "        Additionally select boundary pixels that are touched by shape\n",
      "    \n",
      "    Returns\n",
      "    -------\n",
      "    raster : ComplexData:mimetype:`application/zip`\n",
      "        Elevation statistics: min, max, mean, median, sum, nodata\n",
      "\n"
     ]
    }
   ],
   "source": [
    "help(wps.raster_subset)"
   ]
  },
  {
   "cell_type": "code",
   "execution_count": 18,
   "metadata": {},
   "outputs": [
    {
     "name": "stdout",
     "output_type": "stream",
     "text": [
      "Help on method raven_gr4j_cemaneige in module birdy.client.base:\n",
      "\n",
      "raven_gr4j_cemaneige(ts, latitude, longitude, elevation=None, params='0.529, -3.396, 407.29, 1.072, 16.9, 0.947', start_date=datetime.datetime(1, 1, 1, 0, 0), end_date=datetime.datetime(1, 1, 1, 0, 0), duration=None, run_name='raven-gr4j-cemaneige-sim', name='watershed', area=None) method of birdy.client.base.WPSClient instance\n",
      "    Raven GR4J + CEMANEIGE hydrological model\n",
      "    \n",
      "    Parameters\n",
      "    ----------\n",
      "    ts : ComplexData:mimetype:`application/x-netcdf`, :mimetype:`text/plain`, :mimetype:`application/x-zipped-shp`\n",
      "        Files (text or netCDF) storingdaily liquid precipitation (pr), solid precipitation (prsn), minimum temperature (tasmin), maximum temperature (tasmax), potential evapotranspiration (evspsbl) and observed streamflow (qobs [m3/s]).\n",
      "    params : //www.w3.org/TR/xmlschema-2/#string\n",
      "        Parameters: GR4J_X1, GR4J_X2, GR4J_X3, GR4J_X4, CEMANEIGE_X1, CEMANEIGE_X2\n",
      "    start_date : //www.w3.org/TR/xmlschema-2/#dateTime\n",
      "        Start date of the simulation (AAAA-MM-DD). Defaults to the start of the forcing file.\n",
      "    end_date : //www.w3.org/TR/xmlschema-2/#dateTime\n",
      "        End date of the simulation (AAAA-MM-DD). Defaults to the end of the forcing file.\n",
      "    duration : //www.w3.org/TR/xmlschema-2/#nonNegativeInteger\n",
      "        Number of simulated days, defaults to the length of the input forcings.\n",
      "    run_name : //www.w3.org/TR/xmlschema-2/#string\n",
      "        The name given to the simulation, for example <watershed>_<experiment>\n",
      "    name : //www.w3.org/TR/xmlschema-2/#string\n",
      "        The name of the watershed the model is run for.\n",
      "    area : //www.w3.org/TR/xmlschema-2/#float\n",
      "        Watershed area (km2)\n",
      "    latitude : //www.w3.org/TR/xmlschema-2/#float\n",
      "        Watershed's centroid latitude\n",
      "    longitude : //www.w3.org/TR/xmlschema-2/#float\n",
      "        Watershed's centroid longitude\n",
      "    elevation : //www.w3.org/TR/xmlschema-2/#float\n",
      "        Watershed's mean elevation (m)\n",
      "    \n",
      "    Returns\n",
      "    -------\n",
      "    hydrograph : ComplexData:mimetype:`application/x-netcdf`, :mimetype:`application/zip`\n",
      "        A netCDF file containing the outflow hydrographs (in m3/s) for all subbasinsspecified as `gauged` in the .rvh file. It reports period-ending time-averaged flows for the preceding time step, as is consistent with most measured stream gauge data (again, the initial flow conditions at the start of the first time step are included). If observed hydrographs are specified, they will be output adjacent to the corresponding modelled  hydrograph.\n",
      "    storage : ComplexData:mimetype:`application/x-netcdf`, :mimetype:`application/zip`\n",
      "        A netCDF file describing the total storage of water (in mm) in all water storage compartments for each time step of the simulation. Mass balance errors, cumulative input (precipitation), and output (channel losses) are also included. Note that the precipitation rates in this file are period-ending, i.e., this is the precipitation rate for the time step preceding the time stamp; all water storage variables represent instantaneous reports of the storage at the time stamp indicate.\n",
      "    solution : ComplexData:mimetype:`text/plain`, :mimetype:`application/zip`\n",
      "        solution.rvc file to restart another simulation with the conditions at the end of this simulation.\n",
      "    diagnostics : ComplexData:mimetype:`text/plain`, :mimetype:`application/zip`\n",
      "        Model diagnostic CSV file.\n",
      "\n"
     ]
    }
   ],
   "source": [
    "help(wps.raven_gr4j_cemaneige)"
   ]
  },
  {
   "cell_type": "code",
   "execution_count": 19,
   "metadata": {},
   "outputs": [
    {
     "name": "stdout",
     "output_type": "stream",
     "text": [
      "Help on method raven_hbv_ec in module birdy.client.base:\n",
      "\n",
      "raven_hbv_ec(ts, latitude, longitude, elevation=None, params='0.05984519, 4.072232, 2.001574, 0.03473693, 0.09985144, 0.506052, 3.438486, 38.32455, 0.4606565, 0.06303738, 2.277781, 4.873686, 0.5718813, 0.04505643, 0.877607, 18.94145, 2.036937, 0.4452843, 0.6771759, 1.141608, 1.024278', start_date=datetime.datetime(1, 1, 1, 0, 0), end_date=datetime.datetime(1, 1, 1, 0, 0), duration=None, run_name='raven-gr4j-cemaneige-sim', name='watershed', area=None) method of birdy.client.base.WPSClient instance\n",
      "    HBV-EC hydrological model\n",
      "    \n",
      "    Parameters\n",
      "    ----------\n",
      "    ts : ComplexData:mimetype:`application/x-netcdf`, :mimetype:`text/plain`, :mimetype:`application/x-zipped-shp`\n",
      "        Files (text or netCDF) storingdaily liquid precipitation (pr), solid precipitation (prsn), minimum temperature (tasmin), maximum temperature (tasmax), potential evapotranspiration (evspsbl) and observed streamflow (qobs [m3/s]).\n",
      "    params : //www.w3.org/TR/xmlschema-2/#string\n",
      "        Parameters: par_x01, par_x02, par_x03, par_x04, par_x05, par_x06, par_x07, par_x08, par_x09, par_x10, par_x11, par_x12, par_x13, par_x14, par_x15, par_x16, par_x17, par_x18, par_x19, par_x20, par_x21\n",
      "    start_date : //www.w3.org/TR/xmlschema-2/#dateTime\n",
      "        Start date of the simulation (AAAA-MM-DD). Defaults to the start of the forcing file.\n",
      "    end_date : //www.w3.org/TR/xmlschema-2/#dateTime\n",
      "        End date of the simulation (AAAA-MM-DD). Defaults to the end of the forcing file.\n",
      "    duration : //www.w3.org/TR/xmlschema-2/#nonNegativeInteger\n",
      "        Number of simulated days, defaults to the length of the input forcings.\n",
      "    run_name : //www.w3.org/TR/xmlschema-2/#string\n",
      "        The name given to the simulation, for example <watershed>_<experiment>\n",
      "    name : //www.w3.org/TR/xmlschema-2/#string\n",
      "        The name of the watershed the model is run for.\n",
      "    area : //www.w3.org/TR/xmlschema-2/#float\n",
      "        Watershed area (km2)\n",
      "    latitude : //www.w3.org/TR/xmlschema-2/#float\n",
      "        Watershed's centroid latitude\n",
      "    longitude : //www.w3.org/TR/xmlschema-2/#float\n",
      "        Watershed's centroid longitude\n",
      "    elevation : //www.w3.org/TR/xmlschema-2/#float\n",
      "        Watershed's mean elevation (m)\n",
      "    \n",
      "    Returns\n",
      "    -------\n",
      "    hydrograph : ComplexData:mimetype:`application/x-netcdf`, :mimetype:`application/zip`\n",
      "        A netCDF file containing the outflow hydrographs (in m3/s) for all subbasinsspecified as `gauged` in the .rvh file. It reports period-ending time-averaged flows for the preceding time step, as is consistent with most measured stream gauge data (again, the initial flow conditions at the start of the first time step are included). If observed hydrographs are specified, they will be output adjacent to the corresponding modelled  hydrograph.\n",
      "    storage : ComplexData:mimetype:`application/x-netcdf`, :mimetype:`application/zip`\n",
      "        A netCDF file describing the total storage of water (in mm) in all water storage compartments for each time step of the simulation. Mass balance errors, cumulative input (precipitation), and output (channel losses) are also included. Note that the precipitation rates in this file are period-ending, i.e., this is the precipitation rate for the time step preceding the time stamp; all water storage variables represent instantaneous reports of the storage at the time stamp indicate.\n",
      "    solution : ComplexData:mimetype:`text/plain`, :mimetype:`application/zip`\n",
      "        solution.rvc file to restart another simulation with the conditions at the end of this simulation.\n",
      "    diagnostics : ComplexData:mimetype:`text/plain`, :mimetype:`application/zip`\n",
      "        Model diagnostic CSV file.\n",
      "\n"
     ]
    }
   ],
   "source": [
    "help(wps.raven_hbv_ec)"
   ]
  },
  {
   "cell_type": "code",
   "execution_count": 20,
   "metadata": {},
   "outputs": [
    {
     "name": "stdout",
     "output_type": "stream",
     "text": [
      "Help on method raven_hmets in module birdy.client.base:\n",
      "\n",
      "raven_hmets(ts, latitude, longitude, elevation=None, params='9.5019, 0.2774, 6.3942, 0.6884, 1.2875, 5.4134, 2.3641, 0.0973, 0.0464, 0.1998, 0.0222, -1.0919, 2.6851, 0.374, 1.0, 0.4739, 0.0114, 0.0243, 0.0069, 310.7211, 916.1947', start_date=datetime.datetime(1, 1, 1, 0, 0), end_date=datetime.datetime(1, 1, 1, 0, 0), duration=None, run_name='raven-gr4j-cemaneige-sim', name='watershed', area=None) method of birdy.client.base.WPSClient instance\n",
      "    HMETS hydrological model\n",
      "    \n",
      "    Parameters\n",
      "    ----------\n",
      "    ts : ComplexData:mimetype:`application/x-netcdf`, :mimetype:`text/plain`, :mimetype:`application/x-zipped-shp`\n",
      "        Files (text or netCDF) storingdaily liquid precipitation (pr), solid precipitation (prsn), minimum temperature (tasmin), maximum temperature (tasmax), potential evapotranspiration (evspsbl) and observed streamflow (qobs [m3/s]).\n",
      "    params : //www.w3.org/TR/xmlschema-2/#string\n",
      "        Parameters: GAMMA_SHAPE, GAMMA_SCALE, GAMMA_SHAPE2, GAMMA_SCALE2, MIN_MELT_FACTOR, MAX_MELT_FACTOR, DD_MELT_TEMP, DD_AGGRADATION, SNOW_SWI_MIN, SNOW_SWI_MAX, SWI_REDUCT_COEFF, DD_REFREEZE_TEMP, REFREEZE_FACTOR, REFREEZE_EXP, PET_CORRECTION, HMETS_RUNOFF_COEFF, PERC_COEFF, BASEFLOW_COEFF_1, BASEFLOW_COEFF_2, TOPSOIL, PHREATIC\n",
      "    start_date : //www.w3.org/TR/xmlschema-2/#dateTime\n",
      "        Start date of the simulation (AAAA-MM-DD). Defaults to the start of the forcing file.\n",
      "    end_date : //www.w3.org/TR/xmlschema-2/#dateTime\n",
      "        End date of the simulation (AAAA-MM-DD). Defaults to the end of the forcing file.\n",
      "    duration : //www.w3.org/TR/xmlschema-2/#nonNegativeInteger\n",
      "        Number of simulated days, defaults to the length of the input forcings.\n",
      "    run_name : //www.w3.org/TR/xmlschema-2/#string\n",
      "        The name given to the simulation, for example <watershed>_<experiment>\n",
      "    name : //www.w3.org/TR/xmlschema-2/#string\n",
      "        The name of the watershed the model is run for.\n",
      "    area : //www.w3.org/TR/xmlschema-2/#float\n",
      "        Watershed area (km2)\n",
      "    latitude : //www.w3.org/TR/xmlschema-2/#float\n",
      "        Watershed's centroid latitude\n",
      "    longitude : //www.w3.org/TR/xmlschema-2/#float\n",
      "        Watershed's centroid longitude\n",
      "    elevation : //www.w3.org/TR/xmlschema-2/#float\n",
      "        Watershed's mean elevation (m)\n",
      "    \n",
      "    Returns\n",
      "    -------\n",
      "    hydrograph : ComplexData:mimetype:`application/x-netcdf`, :mimetype:`application/zip`\n",
      "        A netCDF file containing the outflow hydrographs (in m3/s) for all subbasinsspecified as `gauged` in the .rvh file. It reports period-ending time-averaged flows for the preceding time step, as is consistent with most measured stream gauge data (again, the initial flow conditions at the start of the first time step are included). If observed hydrographs are specified, they will be output adjacent to the corresponding modelled  hydrograph.\n",
      "    storage : ComplexData:mimetype:`application/x-netcdf`, :mimetype:`application/zip`\n",
      "        A netCDF file describing the total storage of water (in mm) in all water storage compartments for each time step of the simulation. Mass balance errors, cumulative input (precipitation), and output (channel losses) are also included. Note that the precipitation rates in this file are period-ending, i.e., this is the precipitation rate for the time step preceding the time stamp; all water storage variables represent instantaneous reports of the storage at the time stamp indicate.\n",
      "    solution : ComplexData:mimetype:`text/plain`, :mimetype:`application/zip`\n",
      "        solution.rvc file to restart another simulation with the conditions at the end of this simulation.\n",
      "    diagnostics : ComplexData:mimetype:`text/plain`, :mimetype:`application/zip`\n",
      "        Model diagnostic CSV file.\n",
      "\n"
     ]
    }
   ],
   "source": [
    "help(wps.raven_hmets)"
   ]
  },
  {
   "cell_type": "code",
   "execution_count": 21,
   "metadata": {},
   "outputs": [
    {
     "name": "stdout",
     "output_type": "stream",
     "text": [
      "Help on method raven_mohyse in module birdy.client.base:\n",
      "\n",
      "raven_mohyse(ts, latitude, longitude, elevation=None, params='1.0, 0.0468, 4.2952, 2.658, 0.4038, 0.0621, 0.0273, 0.0453', hrus='0.9039, 5.6167', start_date=datetime.datetime(1, 1, 1, 0, 0), end_date=datetime.datetime(1, 1, 1, 0, 0), duration=None, run_name='raven-gr4j-cemaneige-sim', name='watershed', area=None) method of birdy.client.base.WPSClient instance\n",
      "    MOHYSE hydrological model\n",
      "    \n",
      "    Parameters\n",
      "    ----------\n",
      "    ts : ComplexData:mimetype:`application/x-netcdf`, :mimetype:`text/plain`, :mimetype:`application/x-zipped-shp`\n",
      "        Files (text or netCDF) storingdaily liquid precipitation (pr), solid precipitation (prsn), minimum temperature (tasmin), maximum temperature (tasmax), potential evapotranspiration (evspsbl) and observed streamflow (qobs [m3/s]).\n",
      "    params : //www.w3.org/TR/xmlschema-2/#string\n",
      "        Parameters: par_x01, par_x02, par_x03, par_x04, par_x05, par_x06, par_x07, par_x08\n",
      "    hrus : //www.w3.org/TR/xmlschema-2/#string\n",
      "        Parameters: par_x09, par_x10\n",
      "    start_date : //www.w3.org/TR/xmlschema-2/#dateTime\n",
      "        Start date of the simulation (AAAA-MM-DD). Defaults to the start of the forcing file.\n",
      "    end_date : //www.w3.org/TR/xmlschema-2/#dateTime\n",
      "        End date of the simulation (AAAA-MM-DD). Defaults to the end of the forcing file.\n",
      "    duration : //www.w3.org/TR/xmlschema-2/#nonNegativeInteger\n",
      "        Number of simulated days, defaults to the length of the input forcings.\n",
      "    run_name : //www.w3.org/TR/xmlschema-2/#string\n",
      "        The name given to the simulation, for example <watershed>_<experiment>\n",
      "    name : //www.w3.org/TR/xmlschema-2/#string\n",
      "        The name of the watershed the model is run for.\n",
      "    area : //www.w3.org/TR/xmlschema-2/#float\n",
      "        Watershed area (km2)\n",
      "    latitude : //www.w3.org/TR/xmlschema-2/#float\n",
      "        Watershed's centroid latitude\n",
      "    longitude : //www.w3.org/TR/xmlschema-2/#float\n",
      "        Watershed's centroid longitude\n",
      "    elevation : //www.w3.org/TR/xmlschema-2/#float\n",
      "        Watershed's mean elevation (m)\n",
      "    \n",
      "    Returns\n",
      "    -------\n",
      "    hydrograph : ComplexData:mimetype:`application/x-netcdf`, :mimetype:`application/zip`\n",
      "        A netCDF file containing the outflow hydrographs (in m3/s) for all subbasinsspecified as `gauged` in the .rvh file. It reports period-ending time-averaged flows for the preceding time step, as is consistent with most measured stream gauge data (again, the initial flow conditions at the start of the first time step are included). If observed hydrographs are specified, they will be output adjacent to the corresponding modelled  hydrograph.\n",
      "    storage : ComplexData:mimetype:`application/x-netcdf`, :mimetype:`application/zip`\n",
      "        A netCDF file describing the total storage of water (in mm) in all water storage compartments for each time step of the simulation. Mass balance errors, cumulative input (precipitation), and output (channel losses) are also included. Note that the precipitation rates in this file are period-ending, i.e., this is the precipitation rate for the time step preceding the time stamp; all water storage variables represent instantaneous reports of the storage at the time stamp indicate.\n",
      "    solution : ComplexData:mimetype:`text/plain`, :mimetype:`application/zip`\n",
      "        solution.rvc file to restart another simulation with the conditions at the end of this simulation.\n",
      "    diagnostics : ComplexData:mimetype:`text/plain`, :mimetype:`application/zip`\n",
      "        Model diagnostic CSV file.\n",
      "\n"
     ]
    }
   ],
   "source": [
    "help(wps.raven_mohyse)"
   ]
  },
  {
   "cell_type": "code",
   "execution_count": 22,
   "metadata": {},
   "outputs": [
    {
     "name": "stdout",
     "output_type": "stream",
     "text": [
      "Help on method raven_multi_model in module birdy.client.base:\n",
      "\n",
      "raven_multi_model(ts, latitude, longitude, elevation=None, hmets=None, gr4jcn=None, hbvec=None, start_date=datetime.datetime(1, 1, 1, 0, 0), end_date=datetime.datetime(1, 1, 1, 0, 0), duration=None, run_name='raven-gr4j-cemaneige-sim', name='watershed', area=None) method of birdy.client.base.WPSClient instance\n",
      "    Multi model simulation\n",
      "    \n",
      "    Parameters\n",
      "    ----------\n",
      "    ts : ComplexData:mimetype:`application/x-netcdf`, :mimetype:`text/plain`, :mimetype:`application/x-zipped-shp`\n",
      "        Files (text or netCDF) storingdaily liquid precipitation (pr), solid precipitation (prsn), minimum temperature (tasmin), maximum temperature (tasmax), potential evapotranspiration (evspsbl) and observed streamflow (qobs [m3/s]).\n",
      "    hmets : //www.w3.org/TR/xmlschema-2/#string\n",
      "        Parameters: GAMMA_SHAPE, GAMMA_SCALE, GAMMA_SHAPE2, GAMMA_SCALE2, MIN_MELT_FACTOR, MAX_MELT_FACTOR, DD_MELT_TEMP, DD_AGGRADATION, SNOW_SWI_MIN, SNOW_SWI_MAX, SWI_REDUCT_COEFF, DD_REFREEZE_TEMP, REFREEZE_FACTOR, REFREEZE_EXP, PET_CORRECTION, HMETS_RUNOFF_COEFF, PERC_COEFF, BASEFLOW_COEFF_1, BASEFLOW_COEFF_2, TOPSOIL, PHREATIC\n",
      "    gr4jcn : //www.w3.org/TR/xmlschema-2/#string\n",
      "        Parameters: GR4J_X1, GR4J_X2, GR4J_X3, GR4J_X4, CEMANEIGE_X1, CEMANEIGE_X2\n",
      "    hbvec : //www.w3.org/TR/xmlschema-2/#string\n",
      "        Parameters: par_x01, par_x02, par_x03, par_x04, par_x05, par_x06, par_x07, par_x08, par_x09, par_x10, par_x11, par_x12, par_x13, par_x14, par_x15, par_x16, par_x17, par_x18, par_x19, par_x20, par_x21\n",
      "    start_date : //www.w3.org/TR/xmlschema-2/#dateTime\n",
      "        Start date of the simulation (AAAA-MM-DD). Defaults to the start of the forcing file.\n",
      "    end_date : //www.w3.org/TR/xmlschema-2/#dateTime\n",
      "        End date of the simulation (AAAA-MM-DD). Defaults to the end of the forcing file.\n",
      "    duration : //www.w3.org/TR/xmlschema-2/#nonNegativeInteger\n",
      "        Number of simulated days, defaults to the length of the input forcings.\n",
      "    run_name : //www.w3.org/TR/xmlschema-2/#string\n",
      "        The name given to the simulation, for example <watershed>_<experiment>\n",
      "    name : //www.w3.org/TR/xmlschema-2/#string\n",
      "        The name of the watershed the model is run for.\n",
      "    area : //www.w3.org/TR/xmlschema-2/#float\n",
      "        Watershed area (km2)\n",
      "    latitude : //www.w3.org/TR/xmlschema-2/#float\n",
      "        Watershed's centroid latitude\n",
      "    longitude : //www.w3.org/TR/xmlschema-2/#float\n",
      "        Watershed's centroid longitude\n",
      "    elevation : //www.w3.org/TR/xmlschema-2/#float\n",
      "        Watershed's mean elevation (m)\n",
      "    \n",
      "    Returns\n",
      "    -------\n",
      "    hydrograph : ComplexData:mimetype:`application/x-netcdf`, :mimetype:`application/zip`\n",
      "        A netCDF file containing the outflow hydrographs (in m3/s) for all subbasinsspecified as `gauged` in the .rvh file. It reports period-ending time-averaged flows for the preceding time step, as is consistent with most measured stream gauge data (again, the initial flow conditions at the start of the first time step are included). If observed hydrographs are specified, they will be output adjacent to the corresponding modelled  hydrograph.\n",
      "    storage : ComplexData:mimetype:`application/x-netcdf`, :mimetype:`application/zip`\n",
      "        A netCDF file describing the total storage of water (in mm) in all water storage compartments for each time step of the simulation. Mass balance errors, cumulative input (precipitation), and output (channel losses) are also included. Note that the precipitation rates in this file are period-ending, i.e., this is the precipitation rate for the time step preceding the time stamp; all water storage variables represent instantaneous reports of the storage at the time stamp indicate.\n",
      "    solution : ComplexData:mimetype:`text/plain`, :mimetype:`application/zip`\n",
      "        solution.rvc file to restart another simulation with the conditions at the end of this simulation.\n",
      "    diagnostics : ComplexData:mimetype:`text/plain`, :mimetype:`application/zip`\n",
      "        Model diagnostic CSV file.\n",
      "\n"
     ]
    }
   ],
   "source": [
    "help(wps.raven_multi_model)"
   ]
  },
  {
   "cell_type": "code",
   "execution_count": 23,
   "metadata": {},
   "outputs": [
    {
     "name": "stdout",
     "output_type": "stream",
     "text": [
      "Help on method regionalisation in module birdy.client.base:\n",
      "\n",
      "regionalisation(ts, properties, latitude, longitude, model_name=None, elevation=None, start_date=datetime.datetime(1, 1, 1, 0, 0), end_date=datetime.datetime(1, 1, 1, 0, 0), ndonors=5, min_nse=0.6, method='SP_IDW', area=None) method of birdy.client.base.WPSClient instance\n",
      "    Compute the hydrograph for an ungauged catchment using a regionalization method.\n",
      "    \n",
      "    Parameters\n",
      "    ----------\n",
      "    ts : ComplexData:mimetype:`application/x-netcdf`, :mimetype:`text/plain`, :mimetype:`application/x-zipped-shp`\n",
      "        Files (text or netCDF) storingdaily liquid precipitation (pr), solid precipitation (prsn), minimum temperature (tasmin), maximum temperature (tasmax), potential evapotranspiration (evspsbl) and observed streamflow (qobs [m3/s]).\n",
      "    start_date : //www.w3.org/TR/xmlschema-2/#dateTime\n",
      "        Start date of the simulation (AAAA-MM-DD). Defaults to the start of the forcing file.\n",
      "    end_date : //www.w3.org/TR/xmlschema-2/#dateTime\n",
      "        End date of the simulation (AAAA-MM-DD). Defaults to the end of the forcing file.\n",
      "    latitude : //www.w3.org/TR/xmlschema-2/#float\n",
      "        Watershed's centroid latitude\n",
      "    longitude : //www.w3.org/TR/xmlschema-2/#float\n",
      "        Watershed's centroid longitude\n",
      "    model_name : {'HMETS', 'GR4JCN', 'MOHYSE'}//www.w3.org/TR/xmlschema-2/#string\n",
      "        Hydrological model identifier: {HMETS, GR4JCN, MOHYSE}\n",
      "    ndonors : //www.w3.org/TR/xmlschema-2/#integer\n",
      "        Number of close or similar catchments to use to generate the representative hydrograph at the ungauged site.\n",
      "    min_nse : //www.w3.org/TR/xmlschema-2/#float\n",
      "        Minimum calibration NSE value required to be considered in the regionalization.\n",
      "    method : {'MLR', 'SP', 'PS', 'SP_IDW', 'PS_IDW', 'SP_IDW_RA', 'PS_IDW_RA'}//www.w3.org/TR/xmlschema-2/#string\n",
      "        Regionalisation method to use, one of MLR, SP, PS, SP_IDW, PS_IDW, SP_IDW_RA, PS_IDW_RA.\n",
      "    properties : ComplexData:mimetype:`application/json`\n",
      "        json string storing dictionary of properties.\n",
      "    area : //www.w3.org/TR/xmlschema-2/#float\n",
      "        Watershed area (km2)\n",
      "    elevation : //www.w3.org/TR/xmlschema-2/#float\n",
      "        Watershed's mean elevation (m)\n",
      "    \n",
      "    Returns\n",
      "    -------\n",
      "    hydrograph : ComplexData:mimetype:`application/x-netcdf`, :mimetype:`application/zip`\n",
      "        A netCDF file containing the outflow hydrographs (in m3/s) for all subbasinsspecified as `gauged` in the .rvh file. It reports period-ending time-averaged flows for the preceding time step, as is consistent with most measured stream gauge data (again, the initial flow conditions at the start of the first time step are included). If observed hydrographs are specified, they will be output adjacent to the corresponding modelled  hydrograph.\n",
      "    ensemble : ComplexData:mimetype:`application/x-netcdf`\n",
      "        A netCDF file containing the outflow hydrographs (in m3/s) for all subbasinsspecified as `gauged` in the .rvh file. It reports period-ending time-averaged flows for the preceding time step, as is consistent with most measured stream gauge data (again, the initial flow conditions at the start of the first time step are included). If observed hydrographs are specified, they will be output adjacent to the corresponding modelled  hydrograph.\n",
      "\n"
     ]
    }
   ],
   "source": [
    "help(wps.regionalisation)"
   ]
  },
  {
   "cell_type": "code",
   "execution_count": 24,
   "metadata": {},
   "outputs": [
    {
     "name": "stdout",
     "output_type": "stream",
     "text": [
      "Help on method shape_properties in module birdy.client.base:\n",
      "\n",
      "shape_properties(shape=None, projected_crs=6622) method of birdy.client.base.WPSClient instance\n",
      "    Return shape area in square metres based on line boundaries of a polygonal vector file.\n",
      "    \n",
      "    Parameters\n",
      "    ----------\n",
      "    shape : ComplexData:mimetype:`application/gml+xml`, :mimetype:`application/vnd.geo+json`, :mimetype:`application/x-zipped-shp`, :mimetype:`application/json`\n",
      "        An ESRI Shapefile, GML, GeoPackage, JSON or GeoJSON file. The ESRI Shapefile must be zipped and contain the .shp, .shx, and .dbf.\n",
      "    projected_crs : //www.w3.org/TR/xmlschema-2/#integer\n",
      "        Coordinate Reference System for area calculation (Default: EPSG:6622, NAD83(CSRS) / Quebec Lambert)\n",
      "    \n",
      "    Returns\n",
      "    -------\n",
      "    properties : ComplexData:mimetype:`application/json`\n",
      "        Geographic representations and descriptions of shape properties: centroid coordinates, area, perimeter and gravelius index.\n",
      "\n"
     ]
    }
   ],
   "source": [
    "help(wps.shape_properties)"
   ]
  },
  {
   "cell_type": "code",
   "execution_count": 25,
   "metadata": {},
   "outputs": [
    {
     "name": "stdout",
     "output_type": "stream",
     "text": [
      "Help on method terrain_analysis in module birdy.client.base:\n",
      "\n",
      "terrain_analysis(shape, projected_crs=None, select_all_touching=6622, raster=None) method of birdy.client.base.WPSClient instance\n",
      "    Return shape area in square metres based on line boundaries of a polygonal vector file.\n",
      "    \n",
      "    Parameters\n",
      "    ----------\n",
      "    raster : ComplexData:mimetype:`image/tiff; subtype=geotiff`\n",
      "        The DEM to be queried. Defaults to the EarthEnv-DEM90 product.\n",
      "    shape : ComplexData:mimetype:`application/vnd.geo+json`, :mimetype:`application/gml+xml`, :mimetype:`application/json`, :mimetype:`application/x-zipped-shp`\n",
      "        An ESRI Shapefile, GML, JSON, GeoJSON, or single layer GeoPackage. The ESRI Shapefile must be zipped and contain the .shp, .shx, and .dbf. The raster will be subsetted before analysis is performed.\n",
      "    projected_crs : //www.w3.org/TR/xmlschema-2/#integer\n",
      "        Coordinate Reference System for terrain analysis (Default: EPSG:6622, \"NAD83(CSRS) / Quebec Lambert\". The CRS chosen should be projected and appropriate for the region of interest.\n",
      "    select_all_touching : //www.w3.org/TR/xmlschema-2/#boolean\n",
      "        Perform calculation on boundary pixels\n",
      "    \n",
      "    Returns\n",
      "    -------\n",
      "    properties : ComplexData:mimetype:`application/json`\n",
      "        DEM properties (mean elevation, slope, and aspect) for each geometry.\n",
      "\n"
     ]
    }
   ],
   "source": [
    "help(wps.terrain_analysis)"
   ]
  },
  {
   "cell_type": "code",
   "execution_count": 26,
   "metadata": {},
   "outputs": [
    {
     "name": "stdout",
     "output_type": "stream",
     "text": [
      "Help on method ts_stats in module birdy.client.base:\n",
      "\n",
      "ts_stats(da, op=None, variable=None, freq='YS', season=None, month=None) method of birdy.client.base.WPSClient instance\n",
      "    Parameters\n",
      "    ----------\n",
      "    da : ComplexData:mimetype:`application/x-netcdf`\n",
      "        NetCDF Files or archive (tar/zip) containing netCDF files.\n",
      "    variable : //www.w3.org/TR/xmlschema-2/#string\n",
      "        Name of variable to analyze in netCDF file.\n",
      "    op : {'min', 'max', 'mean', 'std', 'var', 'count', 'sum', 'argmax', 'argmin'}//www.w3.org/TR/xmlschema-2/#string\n",
      "        Operation name\n",
      "    freq : {'YS', 'MS', 'QS-DEC', 'AS-JUL'}//www.w3.org/TR/xmlschema-2/#string\n",
      "        Resampling frequency\n",
      "    season : {'DJF', 'MAM', 'JJA', 'SON'}//www.w3.org/TR/xmlschema-2/#string\n",
      "        Season selection specification.\n",
      "    month : {'1', '2', '3', '4', '5', '6', '7', '8', '9', '10', ...}//www.w3.org/TR/xmlschema-2/#string\n",
      "        Month selection specification\n",
      "    \n",
      "    Returns\n",
      "    -------\n",
      "    output : ComplexData:mimetype:`application/x-netcdf`\n",
      "        The indicator values computed on the original input grid.\n",
      "    output_log : ComplexData:mimetype:`text/plain`\n",
      "        Collected logs during process run.\n",
      "\n"
     ]
    }
   ],
   "source": [
    "help(wps.ts_stats)"
   ]
  },
  {
   "cell_type": "code",
   "execution_count": 27,
   "metadata": {},
   "outputs": [
    {
     "name": "stdout",
     "output_type": "stream",
     "text": [
      "Help on method ts_stats_graph in module birdy.client.base:\n",
      "\n",
      "ts_stats_graph(ts_stats=None, trend=True, alpha=0.05) method of birdy.client.base.WPSClient instance\n",
      "    Parameters\n",
      "    ----------\n",
      "    ts_stats : ComplexData:mimetype:`application/x-netcdf`, :mimetype:`application/zip`\n",
      "        Stream flow time-series statistics\n",
      "    trend : //www.w3.org/TR/xmlschema-2/#boolean\n",
      "        Display trend in time-series statistics\n",
      "    alpha : //www.w3.org/TR/xmlschema-2/#float\n",
      "        Test for trend in time-series statistics\n",
      "    \n",
      "    Returns\n",
      "    -------\n",
      "    graph_ts_stats : ComplexData:mimetype:`image/png`\n",
      "        Time-series of statistical indices\n",
      "\n"
     ]
    }
   ],
   "source": [
    "help(wps.ts_stats_graph)"
   ]
  },
  {
   "cell_type": "code",
   "execution_count": 28,
   "metadata": {},
   "outputs": [
    {
     "name": "stdout",
     "output_type": "stream",
     "text": [
      "Help on method zonal_stats in module birdy.client.base:\n",
      "\n",
      "zonal_stats(shape, band, categorical=None, select_all_touching=1, raster=None) method of birdy.client.base.WPSClient instance\n",
      "    Return zonal statistics based on the boundaries of a vector file.\n",
      "    \n",
      "    Parameters\n",
      "    ----------\n",
      "    shape : ComplexData:mimetype:`application/vnd.geo+json`, :mimetype:`application/gml+xml`, :mimetype:`application/json`, :mimetype:`application/x-zipped-shp`\n",
      "        An ESRI Shapefile, GML, JSON, GeoJSON, or single layer GeoPackage. The ESRI Shapefile must be zipped and contain the .shp, .shx, and .dbf. The shape and raster should have a matching CRS.\n",
      "    raster : ComplexData:mimetype:`image/tiff; subtype=geotiff`\n",
      "        The DEM to be queried. Defaults to the EarthEnv-DEM90 product.\n",
      "    band : //www.w3.org/TR/xmlschema-2/#integer\n",
      "        Band of raster examined to perform zonal statistics. Default: 1\n",
      "    categorical : //www.w3.org/TR/xmlschema-2/#boolean\n",
      "        Return distinct pixel categories\n",
      "    select_all_touching : //www.w3.org/TR/xmlschema-2/#boolean\n",
      "        Additionally select boundary pixels that are touched by shape\n",
      "    \n",
      "    Returns\n",
      "    -------\n",
      "    statistics : ComplexData:mimetype:`application/json`, :mimetype:`application/vnd.geo+json`\n",
      "        Elevation statistics: min, max, mean, median, sum, nodata\n",
      "\n"
     ]
    }
   ],
   "source": [
    "help(wps.zonal_stats)"
   ]
  }
 ],
 "metadata": {
  "kernelspec": {
   "display_name": "Python 3",
   "language": "python",
   "name": "python3"
  },
  "language_info": {
   "codemirror_mode": {
    "name": "ipython",
    "version": 3
   },
   "file_extension": ".py",
   "mimetype": "text/x-python",
   "name": "python",
   "nbconvert_exporter": "python",
   "pygments_lexer": "ipython3",
   "version": "3.7.1"
  }
 },
 "nbformat": 4,
 "nbformat_minor": 2
}
