{
 "cells": [
  {
   "cell_type": "markdown",
   "metadata": {},
   "source": [
    "# Performing a climatology ESP forecast for a given catchment with already-processed weather timeseries.\n",
    "\n",
    "This notebook shows how to perform a climatological Extended Streamflow Prediction forecast, using historical weather as a proxy for future weather. Generates the forecasts and then computes evaluation metrics."
   ]
  },
  {
   "cell_type": "code",
   "execution_count": null,
   "metadata": {},
   "outputs": [],
   "source": [
    "# This entire section is cookie-cutter template to allow calling the servers and instantiating the connection\n",
    "# to the WPS server. Do not modify this block.\n",
    "from urllib.request import urlretrieve\n",
    "from birdy import WPSClient\n",
    "from example_data import TESTDATA\n",
    "from pathlib import Path\n",
    "\n",
    "import os\n",
    "import datetime as dt\n",
    "import tempfile\n",
    "import xarray as xr\n",
    "\n",
    "# Set environment variable WPS_URL to \"http://localhost:9099\" to run on the default local server\n",
    "url = os.environ.get(\"WPS_URL\", \"https://pavics.ouranos.ca/twitcher/ows/proxy/raven/wps\")\n",
    "url=\"http://localhost:9099\"\n",
    "wps = WPSClient(url)\n",
    "tmp = Path(tempfile.mkdtemp())"
   ]
  },
  {
   "cell_type": "code",
   "execution_count": null,
   "metadata": {},
   "outputs": [],
   "source": [
    "# Define some of the catchment properties. Could also be replaced by a call to the properties WPS!\n",
    "basin_area = 4523.5\n",
    "basin_longitude = -72.55\n",
    "basin_latitude = 48.39\n",
    "basin_elevation= 300.0\n",
    "\n",
    "# Choose a hydrological model to use. We have 'HMETS', 'GR4JCN','MOHYSE' and 'HBVEC'.\n",
    "hydromodel = 'GR4JCN'\n",
    "\n",
    "# Since we've used GR4JCN, we need to provide that model's parameters.\n",
    "model_parameters = '0.529, -3.396, 407.29, 1.072, 16.9, 0.947'\n",
    "\n",
    "# Choose the forecast date of the year (ex. jan-05-2001 will compare the climatology using all jan-05ths from the dataset)\n",
    "fdate=dt.datetime(2005,10,13)\n",
    "\n",
    "# The dataset to use to get the forecast timeseries:\n",
    "ts=str(TESTDATA['raven-gr4j-cemaneige-nc-ts'])\n",
    "duration=30 #Length of the climatological ESP forecast\n",
    "\n",
    "# launch the climatology ESP.\n",
    "resp=wps.climatology_esp(fdate,model_parameters,ts,basin_latitude,basin_longitude,hydromodel,basin_elevation,duration,name='test_basin',area=basin_area)"
   ]
  },
  {
   "cell_type": "code",
   "execution_count": null,
   "metadata": {},
   "outputs": [],
   "source": [
    "# The model has run! We can get the response.\n",
    "# With `asobj` set to False, only the reference to the output is returned in the response. \n",
    "# Setting `asobj` to True will retrieve the actual files and copy them locally. \n",
    "[forecast] = resp.get(asobj=True)\n",
    "\n",
    "#Since we requested output objects, we can simply access the forecast object.\n",
    "forecast.to_netcdf(str(tmp) + '/fcst.nc')"
   ]
  },
  {
   "cell_type": "markdown",
   "metadata": {},
   "source": [
    "### Now, we can compute the forecast scores such as CRPS for this forecast using the XSkillScore package:"
   ]
  },
  {
   "cell_type": "code",
   "execution_count": null,
   "metadata": {},
   "outputs": [],
   "source": [
    "ds=xr.open_dataset(str(TESTDATA['raven-gr4j-cemaneige-nc-ts']))\n",
    "q_obs=ds.qobs.sel(time=slice(fdate,fdate+dt.timedelta(days=duration-1)))\n",
    "\n",
    "# DEBUG: I HAD TO DO THIS BECAUSE 'MEMBER' DIMENSION DOES NOT EXIST AND IT SEEMS IT IS REQUIRED IN LINE 125 OF\n",
    "# WPS_FORECAST_EVALUATION.PY\n",
    "q_obs.expand_dims(dim='member',axis=0).to_netcdf(str(tmp) + '/q_obs.nc','w')"
   ]
  },
  {
   "cell_type": "code",
   "execution_count": null,
   "metadata": {},
   "outputs": [],
   "source": [
    "forecast.q_sim.plot.line('b',x='time')\n",
    "q_obs.plot.line('r')"
   ]
  },
  {
   "cell_type": "code",
   "execution_count": null,
   "metadata": {},
   "outputs": [],
   "source": [
    "# Now let's run XSkillScore\n",
    "# THIS FAILS\n",
    "resp=wps.hindcast_evaluation(obs=str(tmp / 'q_obs.nc'),hcst=str(tmp / 'fcst.nc'), obs_var='qobs', hcst_var='q_sim')"
   ]
  }
 ],
 "metadata": {
  "kernelspec": {
   "display_name": "Python 3",
   "language": "python",
   "name": "python3"
  },
  "language_info": {
   "codemirror_mode": {
    "name": "ipython",
    "version": 3
   },
   "file_extension": ".py",
   "mimetype": "text/x-python",
   "name": "python",
   "nbconvert_exporter": "python",
   "pygments_lexer": "ipython3",
   "version": "3.7.4"
  }
 },
 "nbformat": 4,
 "nbformat_minor": 1
}
