{
 "cells": [
  {
   "cell_type": "markdown",
   "metadata": {},
   "source": [
    "# Running HMETS using NRCAN forcing data\n",
    "\n",
    "Here we use birdy's WPS client to launch the HMETS hydrological model on the server and analyze the output. We also prepare NRCAN daily data for Canadian catchments."
   ]
  },
  {
   "cell_type": "code",
   "execution_count": 113,
   "metadata": {},
   "outputs": [],
   "source": [
    "from birdy import WPSClient\n",
    "import time\n",
    "from example_data import TESTDATA\n",
    "import datetime as dt\n",
    "from urllib.request import urlretrieve\n",
    "import xarray as xr\n",
    "import numpy as np\n",
    "from matplotlib import pyplot as plt\n",
    "import os\n",
    "import json\n",
    "import netCDF4 as nc\n",
    "from zipfile import ZipFile\n",
    "import glob\n",
    "\n",
    "\n",
    "# Set environment variable RAVEN_WPS_URL to \"http://localhost:9099\" to run on the default local server\n",
    "url = os.environ.get(\"RAVEN_WPS_URL\", \"https://pavics.ouranos.ca/twitcher/ows/proxy/raven/wps\")\n",
    "\n",
    "# THIS CHANGED TO REFLECT MASTER, NOT LATEST RELEASE!\n",
    "#url=\"http://localhost:9099\" \n",
    "\n",
    "wps = WPSClient(url)\n",
    "\n",
    "# DATA MAIN SOURCE\n",
    "CANOPEX='https://pavics.ouranos.ca/twitcher/ows/proxy/thredds/dodsC/birdhouse/ets/Watersheds_5797_cfcompliant.nc'\n",
    "nc_transform=json.dumps({'tasmax': {'linear_transform': (1.0, -273.15)},'tasmin': {'linear_transform': (1.0, -273.15)},'pr': {'linear_transform': (86400.0, 0.0)}})"
   ]
  },
  {
   "cell_type": "code",
   "execution_count": 114,
   "metadata": {},
   "outputs": [],
   "source": [
    "# Controls\n",
    "start=dt.datetime(1998, 1, 1)\n",
    "stop = dt.datetime(2010, 12, 31)\n",
    "calibration_evaluation_budget = 10\n",
    "calibration_algorithm='DDS'\n",
    "# Comment out the random seed to show different results!\n",
    "random_seed=6.67408*10**-11,\n",
    "watershedID=1500 # From 0 to 5796\n"
   ]
  },
  {
   "cell_type": "code",
   "execution_count": 118,
   "metadata": {},
   "outputs": [],
   "source": [
    "# SECTION TO SEPARATE DISCHARGE AND MET DATA TO TEST IF A USER HAS DIFFERENT DATASETS\n",
    "filepathMet = os.getcwd()+\"/CANOPEX_subset.nc\"\n",
    "filepathQobs=os.getcwd()+\"/CANOPEX_Qobs.nc\"\n",
    "\n",
    "basindata=xr.open_dataset(CANOPEX)\n",
    "basinName=basindata['watershed'][watershedID]\n",
    "newBasin=basindata.isel(watershed=watershedID)\n",
    "basin_area=ds['drainage_area'].item(0)\n",
    "\n",
    "Qobsfile = newBasin['discharge']\n",
    "Qobsfile.to_netcdf(filepathQobs)\n",
    "D = nc.Dataset(filepathQobs, mode=\"a\")\n",
    "D.variables[\"time\"].units += \" 00:00:00\"\n",
    "D.close()\n",
    "\n",
    "newBasin=newBasin[['drainage_area','pr','tasmax','tasmin']]\n",
    "newBasin.to_netcdf(filepathMet)\n",
    "D = nc.Dataset(filepathMet, mode=\"a\")\n",
    "D.variables[\"time\"].units += \" 00:00:00\"\n",
    "D.close()"
   ]
  },
  {
   "cell_type": "code",
   "execution_count": 119,
   "metadata": {},
   "outputs": [],
   "source": [
    "# UNCOMMENT FOR QUICK PLOT OF DATA\n",
    "#ds=xr.open_dataset(filepath)\n",
    "#print(ds['pr'])\n",
    "#plt.plot(ds['pr'])\n",
    "#plt.show()\n",
    "#ds.close()"
   ]
  },
  {
   "cell_type": "code",
   "execution_count": 120,
   "metadata": {},
   "outputs": [],
   "source": [
    "# Dirty fix for testing only. We already have this info in the regionalization DB. Perhaps we can add it to the NetCDF?\n",
    "# Else we can simply read from the csv.\n",
    "basin_latitude = 50.0\n",
    "basin_longitude = -75.0\n",
    "basin_elevation = 350.0"
   ]
  },
  {
   "cell_type": "code",
   "execution_count": 126,
   "metadata": {},
   "outputs": [
    {
     "name": "stdout",
     "output_type": "stream",
     "text": [
      "Time:  6.540499690047\n"
     ]
    }
   ],
   "source": [
    "import time\n",
    "# The model parameter boundaries. Can either be a string of comma separated values, a list, an array or a named tuple. \n",
    "lowerBounds = '0.3, 0.01, 0.5, 0.15, 0.0, 0.0, -2.0, 0.01, 0.0, 0.01, 0.005, -5.0, 0.0, 0.0, 0.0, 0.0, 0.00001, 0.0, 0.00001, 0.0, 0.0'\n",
    "upperBounds = '20.0, 5.0, 13.0, 1.5, 20.0, 20.0, 3.0, 0.2, 0.1, 0.3, 0.1, 2.0, 5.0, 1.0, 3.0, 1.0, 0.02, 0.1, 0.01, 0.5, 2.0'\n",
    "          \n",
    "# OSTRICH configuration parameters\n",
    "config = dict(\n",
    "    algorithm=calibration_algorithm, max_iterations=calibration_evaluation_budget, area=basin_area,\n",
    "    elevation=basin_elevation, latitude=basin_latitude, longitude=basin_longitude, lowerbounds=lowerBounds,\n",
    "    upperbounds=upperBounds, start_date=start, end_date=stop, suppress_output=True,\n",
    "    rain_snow_fraction='RAINSNOW_DINGMAN', nc_spec=nc_transform \n",
    "    )\n",
    "\n",
    "# Let's call Ostrich with the timeseries, calibration parameters and other configuration parameters\n",
    "tic = time.perf_counter()\n",
    "resp = wps.ostrich_hmets(ts=[str(filepathMet),str(filepathQobs)], **config)\n",
    "toc = time.perf_counter()\n",
    "print(\"Time:  \" + str(toc-tic))"
   ]
  },
  {
   "cell_type": "code",
   "execution_count": 88,
   "metadata": {},
   "outputs": [],
   "source": [
    "# And get the response\n",
    "# With `asobj` set to False, only the reference to the output is returned in the response. \n",
    "# Setting `asobj` to True will retrieve the actual files and copy the locally. \n",
    "[calibration, hydrograph, storage, solution, diagnostics, calibparams, rv] = resp.get(asobj=True)"
   ]
  },
  {
   "cell_type": "code",
   "execution_count": 123,
   "metadata": {},
   "outputs": [],
   "source": [
    "# The model parameters. Can either be a string of comma separated values, a list, an array or a named tuple. \n",
    "params = str(calibparams)#'9.5019, 0.2774, 6.3942, 0.6884, 1.2875, 5.4134, 2.3641, 0.0973, 0.0464, 0.1998, 0.0222, -1.0919, ' \\\n",
    "           # '     2.6851, 0.3740, 1.0000, 0.4739, 0.0114, 0.0243, 0.0069, 310.7211, 916.1947'\n",
    "\n",
    "\n",
    "# Model configuration parameters\n",
    "config = dict(\n",
    "    start_date=start,\n",
    "    end_date=stop,\n",
    "    area=basin_area,\n",
    "    elevation=basin_elevation,\n",
    "    latitude=basin_latitude,\n",
    "    longitude=basin_longitude,\n",
    "    run_name='test_hmets_CANOPEX',\n",
    "    rain_snow_fraction='RAINSNOW_DINGMAN',\n",
    "    nc_spec=json.dumps({'tasmax': {'linear_transform': (1.0, -273.15)},'tasmin': {'linear_transform': (1.0, -273.15)},'pr': {'linear_transform': (86400.0, 0.0)}})  \n",
    ")\n",
    "\n",
    "# Let's call the model with the timeseries, model parameters and other configuration parameters\n",
    "resp = wps.raven_hmets(ts=str(filepath), params=params, **config)\n"
   ]
  },
  {
   "cell_type": "code",
   "execution_count": 124,
   "metadata": {},
   "outputs": [],
   "source": [
    "\n",
    "# And get the response\n",
    "# With `asobj` set to False, only the reference to the output is returned in the response. \n",
    "# Setting `asobj` to True will retrieve the actual files and copy the locally. \n",
    "[hydrograph, storage, solution, diagnostics, rv] = resp.get(asobj=True)"
   ]
  },
  {
   "cell_type": "markdown",
   "metadata": {},
   "source": [
    "Since we requested output objects, we can simply access the output objects. The dianostics is just a CSV file: "
   ]
  },
  {
   "cell_type": "code",
   "execution_count": 125,
   "metadata": {},
   "outputs": [
    {
     "name": "stdout",
     "output_type": "stream",
     "text": [
      ":TimeStamp 2010-12-31 00:00:00.00\n",
      ":HRUStateVariableTable\n",
      "  :Attributes,SURFACE_WATER,ATMOSPHERE,ATMOS_PRECIP,PONDED_WATER,SOIL[0],SOIL[1],SNOW,SNOW_LIQ,CUM_SNOWMELT,CONVOLUTION[0],CONVOLUTION[1],AET,CONV_STOR[0],CONV_STOR[1],CONV_STOR[2],CONV_STOR[3],CONV_STOR[4],CONV_STOR[5],CONV_STOR[6],CONV_STOR[7],CONV_STOR[8],CONV_STOR[9],CONV_STOR[10],CONV_STOR[11],CONV_STOR[12],CONV_STOR[13],CONV_STOR[14],CONV_STOR[15],CONV_STOR[16],CONV_STOR[17],CONV_STOR[18],CONV_STOR[19],CONV_STOR[20],CONV_STOR[21],CONV_STOR[22],CONV_STOR[23],CONV_STOR[24],CONV_STOR[25],CONV_STOR[26],CONV_STOR[27],CONV_STOR[28],CONV_STOR[29],CONV_STOR[30],CONV_STOR[31],CONV_STOR[32],CONV_STOR[33],CONV_STOR[34],CONV_STOR[35],CONV_STOR[36],CONV_STOR[37],CONV_STOR[38],CONV_STOR[39],CONV_STOR[40],CONV_STOR[41],CONV_STOR[42],CONV_STOR[43],CONV_STOR[44],CONV_STOR[45],CONV_STOR[46],CONV_STOR[47],CONV_STOR[48],CONV_STOR[49],CONV_STOR[50],CONV_STOR[51],CONV_STOR[52],CONV_STOR[53],CONV_STOR[54],CONV_STOR[55],CONV_STOR[56],CONV_STOR[57],CONV_STOR[58],CONV_STOR[59],CONV_STOR[60],CONV_STOR[61],CONV_STOR[62],CONV_STOR[63],CONV_STOR[64],CONV_STOR[65],CONV_STOR[66],CONV_STOR[67],CONV_STOR[68],CONV_STOR[69],CONV_STOR[70],CONV_STOR[71],CONV_STOR[72],CONV_STOR[73],CONV_STOR[74],CONV_STOR[75],CONV_STOR[76],CONV_STOR[77],CONV_STOR[78],CONV_STOR[79],CONV_STOR[80],CONV_STOR[81],CONV_STOR[82],CONV_STOR[83],CONV_STOR[84],CONV_STOR[85],CONV_STOR[86],CONV_STOR[87],CONV_STOR[88],CONV_STOR[89],CONV_STOR[90],CONV_STOR[91],CONV_STOR[92],CONV_STOR[93],CONV_STOR[94],CONV_STOR[95],CONV_STOR[96],CONV_STOR[97],CONV_STOR[98],CONV_STOR[99]\n",
      "  :Units,mm,mm,mm,mm,mm,mm,mm,mm,mm,mm,mm,mm,mm,mm,mm,mm,mm,mm,mm,mm,mm,mm,mm,mm,mm,mm,mm,mm,mm,mm,mm,mm,mm,mm,mm,mm,mm,mm,mm,mm,mm,mm,mm,mm,mm,mm,mm,mm,mm,mm,mm,mm,mm,mm,mm,mm,mm,mm,mm,mm,mm,mm,mm,mm,mm,mm,mm,mm,mm,mm,mm,mm,mm,mm,mm,mm,mm,mm,mm,mm,mm,mm,mm,mm,mm,mm,mm,mm,mm,mm,mm,mm,mm,mm,mm,mm,mm,mm,mm,mm,mm,mm,mm,mm,mm,mm,mm,mm,mm,mm,mm,mm\n",
      "  1,0.00000,23.73986,-14413.54383,-0.00000,11.40015,176.11451,13.23833,3.26711,4.35358,0.10019,0.01042,0.00047,-3180.58253,0.10019,0.00000,-0.00000,0.00000,0.00000,0.00000,-0.00000,0.00000,0.00000,0.00000,0.00000,0.00000,0.00000,0.00000,0.00000,0.00000,0.00000,0.00000,0.00000,0.00000,0.00000,0.00000,0.00000,0.00000,0.00000,0.00000,0.00000,0.00000,0.00000,0.00000,0.00000,0.00000,0.00000,0.00000,0.00000,0.00000,0.00000,0.00000,0.00000,0.00000,0.00000,0.00000,0.00000,0.00000,0.00000,0.00000,0.00000,0.00000,0.00000,-1407.97668,0.01042,0.00000,-0.00000,0.00000,0.00000,0.00000,0.00000,0.00000,0.00000,0.00000,0.00000,0.00000,0.00000,0.00000,0.00000,0.00000,0.00000,0.00000,0.00000,0.00000,0.00000,0.00000,0.00000,0.00000,0.00000,0.00000,0.00000,0.00000,0.00000,0.00000,0.00000,0.00000,0.00000,0.00000,0.00000,0.00000,0.00000,0.00000,0.00000,0.00000,0.00000,0.00000,0.00000,0.00000,0.00000,0.00000,0.00000,0.00000,0.00000\n",
      ":EndHRUStateVariableTable\n",
      ":BasinStateVariables\n",
      "  :BasinIndex 1,watershed\n",
      "    :ChannelStorage, 0.00000\n",
      "    :RivuletStorage, 2539035.09727\n",
      "    :Qout,1,58.77396,56.99771\n",
      "    :Qlat,3,58.77396,56.99771,58.95742,58.77396\n",
      "    :Qin ,20,0.00000,0.00000,0.00000,0.00000,0.00000,0.00000,0.00000,0.00000,0.00000,0.00000,0.00000,0.00000,0.00000,0.00000,0.00000,0.00000,0.00000,0.00000,0.00000,0.00000\n",
      ":EndBasinStateVariables\n",
      "\n"
     ]
    }
   ],
   "source": [
    "print(diagnostics)"
   ]
  },
  {
   "cell_type": "markdown",
   "metadata": {},
   "source": [
    "The `hydrograph` and `storage` outputs are netCDF files storing the time series. These files are opened by default using `xarray`, which provides convenient and powerful time series analysis and plotting tools. "
   ]
  },
  {
   "cell_type": "code",
   "execution_count": 28,
   "metadata": {},
   "outputs": [
    {
     "data": {
      "text/plain": [
       "<xarray.DataArray 'q_sim' (time: 1522, nbasins: 1)>\n",
       "array([[  0.      ],\n",
       "       [199.582139],\n",
       "       [395.909512],\n",
       "       ...,\n",
       "       [206.681151],\n",
       "       [212.205446],\n",
       "       [207.043272]])\n",
       "Coordinates:\n",
       "  * time        (time) datetime64[ns] 1998-05-01 1998-05-02 ... 2002-06-30\n",
       "    basin_name  (nbasins) object ...\n",
       "Dimensions without coordinates: nbasins\n",
       "Attributes:\n",
       "    units:      m**3 s**-1\n",
       "    long_name:  Simulated outflows"
      ]
     },
     "execution_count": 28,
     "metadata": {},
     "output_type": "execute_result"
    }
   ],
   "source": [
    "hydrograph.q_sim"
   ]
  },
  {
   "cell_type": "code",
   "execution_count": 23,
   "metadata": {},
   "outputs": [
    {
     "data": {
      "text/plain": [
       "[<matplotlib.lines.Line2D at 0x7efcb51cfb70>]"
      ]
     },
     "execution_count": 23,
     "metadata": {},
     "output_type": "execute_result"
    },
    {
     "data": {
      "image/png": "[encoded data removed]",
      "text/plain": [
       "<Figure size 432x288 with 1 Axes>"
      ]
     },
     "metadata": {
      "needs_background": "light"
     },
     "output_type": "display_data"
    }
   ],
   "source": [
    "from pandas.plotting import register_matplotlib_converters\n",
    "register_matplotlib_converters()\n",
    "\n",
    "hydrograph.q_sim.plot()"
   ]
  },
  {
   "cell_type": "code",
   "execution_count": 24,
   "metadata": {},
   "outputs": [
    {
     "name": "stdout",
     "output_type": "stream",
     "text": [
      "Max:  <xarray.DataArray 'q_sim' ()>\n",
      "array(503.88831371)\n",
      "Mean:  <xarray.DataArray 'q_sim' ()>\n",
      "array(178.1896006)\n",
      "Monthly means:  <xarray.DataArray 'q_sim' (month: 12, nbasins: 1)>\n",
      "array([[105.59213308],\n",
      "       [132.72425951],\n",
      "       [145.18835994],\n",
      "       [149.66076662],\n",
      "       [217.50481905],\n",
      "       [241.34494684],\n",
      "       [250.21438736],\n",
      "       [217.71404516],\n",
      "       [175.08495442],\n",
      "       [184.41751911],\n",
      "       [155.49077705],\n",
      "       [134.48131373]])\n",
      "Coordinates:\n",
      "    basin_name  (nbasins) object ...\n",
      "  * month       (month) int64 1 2 3 4 5 6 7 8 9 10 11 12\n",
      "Dimensions without coordinates: nbasins\n"
     ]
    }
   ],
   "source": [
    "print(\"Max: \", hydrograph.q_sim.max())\n",
    "print(\"Mean: \", hydrograph.q_sim.mean())\n",
    "print(\"Monthly means: \", hydrograph.q_sim.groupby(hydrograph.time.dt.month).mean(dim='time'))"
   ]
  },
  {
   "cell_type": "code",
   "execution_count": null,
   "metadata": {},
   "outputs": [],
   "source": []
  }
 ],
 "metadata": {
  "kernelspec": {
   "display_name": "Python 3",
   "language": "python",
   "name": "python3"
  },
  "language_info": {
   "codemirror_mode": {
    "name": "ipython",
    "version": 3
   },
   "file_extension": ".py",
   "mimetype": "text/x-python",
   "name": "python",
   "nbconvert_exporter": "python",
   "pygments_lexer": "ipython3",
   "version": "3.6.7"
  }
 },
 "nbformat": 4,
 "nbformat_minor": 1
}
