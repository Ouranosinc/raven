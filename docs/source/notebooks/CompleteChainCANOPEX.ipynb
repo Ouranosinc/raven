{
 "cells": [
  {
   "cell_type": "markdown",
   "metadata": {},
   "source": [
    "# Running HMETS using CANOPEX Meteorological and hydrologic data data\n",
    "\n",
    "Here we use birdy's WPS client to launch the HMETS hydrological model on the server and analyze the output. We do this by using the extended Canada-USA CANOPEX database to provide hydromet data and catchment properties to drive the RAVEN models."
   ]
  },
  {
   "cell_type": "code",
   "execution_count": 58,
   "metadata": {},
   "outputs": [],
   "source": [
    "from birdy import WPSClient\n",
    "import time\n",
    "from example_data import TESTDATA\n",
    "import datetime as dt\n",
    "from urllib.request import urlretrieve\n",
    "import xarray as xr\n",
    "import numpy as np\n",
    "from matplotlib import pyplot as plt\n",
    "import os\n",
    "import json\n",
    "import netCDF4 as nc\n",
    "from zipfile import ZipFile\n",
    "import glob\n",
    "import pandas as pd\n",
    "\n",
    "# Set environment variable RAVEN_WPS_URL to \"http://localhost:9099\" to run on the default local server\n",
    "url = os.environ.get(\"RAVEN_WPS_URL\", \"https://pavics.ouranos.ca/twitcher/ows/proxy/raven/wps\")\n",
    "# url=\"http://localhost:9099\" \n",
    "\n",
    "wps = WPSClient(url)\n",
    "\n",
    "# DATA MAIN SOURCE\n",
    "CANOPEX='https://pavics.ouranos.ca/twitcher/ows/proxy/thredds/dodsC/birdhouse/ets/Watersheds_5797_cfcompliant.nc'\n",
    "\n",
    "# This line is to transform units to Raven's expected format.\n",
    "nc_transform=json.dumps({'tasmax': {'linear_transform': (1.0, -273.15)},'tasmin': {'linear_transform': (1.0, -273.15)},'pr': {'linear_transform': (86400.0, 0.0)}})"
   ]
  },
  {
   "cell_type": "code",
   "execution_count": 59,
   "metadata": {},
   "outputs": [],
   "source": [
    "# Controls\n",
    "start=dt.datetime(1998, 1, 1)\n",
    "stop = dt.datetime(2010, 12, 31)\n",
    "calibration_evaluation_budget = 10\n",
    "calibration_algorithm='DDS'\n",
    "# Comment out the random seed to show different results!\n",
    "random_seed=6.67408*10**-11,\n",
    "watershedID=1500 # From 0 to 5796\n"
   ]
  },
  {
   "cell_type": "code",
   "execution_count": 60,
   "metadata": {},
   "outputs": [],
   "source": [
    "# SECTION TO SEPARATE DISCHARGE AND MET DATA TO TEST IF A USER HAS DIFFERENT DATASETS\n",
    "filepathMet = os.getcwd()+\"/CANOPEX_subset.nc\"\n",
    "filepathQobs=os.getcwd()+\"/CANOPEX_Qobs.nc\"\n",
    "\n",
    "basindata=xr.open_dataset(CANOPEX)\n",
    "basinName=basindata['watershed'][watershedID]\n",
    "newBasin=basindata.isel(watershed=watershedID)\n",
    "basin_area=newBasin['drainage_area'].item(0)\n",
    "\n",
    "Qobsfile = newBasin['discharge']\n",
    "Qobsfile.to_netcdf(filepathQobs)\n",
    "D = nc.Dataset(filepathQobs, mode=\"a\")\n",
    "D.variables[\"time\"].units += \" 00:00:00\"\n",
    "D.close()\n",
    "\n",
    "newBasin=newBasin[['drainage_area','pr','tasmax','tasmin']]\n",
    "newBasin.to_netcdf(filepathMet)\n",
    "D = nc.Dataset(filepathMet, mode=\"a\")\n",
    "D.variables[\"time\"].units += \" 00:00:00\"\n",
    "D.close()"
   ]
  },
  {
   "cell_type": "code",
   "execution_count": 61,
   "metadata": {},
   "outputs": [
    {
     "name": "stdout",
     "output_type": "stream",
     "text": [
      "<xarray.DataArray 'tasmax' (time: 22280)>\n",
      "array([282.342647, 284.279118, 289.247059, ..., 273.817353, 279.266471,\n",
      "       284.807941])\n",
      "Coordinates:\n",
      "    watershed  |S64 ...\n",
      "  * time       (time) datetime64[ns] 1950-01-01 1950-01-02 ... 2010-12-31\n",
      "Attributes:\n",
      "    units:                  K\n",
      "    coverage_content_type:  modelResult\n",
      "    long_name:              Daily Maximum Near-Surface Air Temperature\n",
      "    standard_name:          air_temperature\n",
      "    _ChunkSizes:            [ 363 1393]\n"
     ]
    },
    {
     "data": {
      "image/png": "[encoded data removed]",
      "text/plain": [
       "<Figure size 432x288 with 1 Axes>"
      ]
     },
     "metadata": {
      "needs_background": "light"
     },
     "output_type": "display_data"
    }
   ],
   "source": [
    "# UNCOMMENT FOR QUICK PLOT OF DATA\n",
    "ds=xr.open_dataset(filepathMet)\n",
    "print(ds['tasmax'])\n",
    "plt.plot(ds['tasmax'])\n",
    "plt.show()\n",
    "ds.close()"
   ]
  },
  {
   "cell_type": "code",
   "execution_count": 62,
   "metadata": {},
   "outputs": [
    {
     "name": "stdout",
     "output_type": "stream",
     "text": [
      "40.08624903070456\n"
     ]
    }
   ],
   "source": [
    "# Dirty fix for testing only. We already have this info in the regionalization DB. Perhaps we can add it to the NetCDF?\n",
    "# Else we can simply read from the csv.\n",
    "tmp=pd.read_csv(TESTDATA['regionalizationDB'])\n",
    "basin_latitude = tmp['latitude'][watershedID]\n",
    "basin_longitude = tmp['longitude'][watershedID]\n",
    "basin_elevation = tmp['elevation'][watershedID]\n",
    "print(basin_latitude)"
   ]
  },
  {
   "cell_type": "code",
   "execution_count": 74,
   "metadata": {},
   "outputs": [
    {
     "name": "stdout",
     "output_type": "stream",
     "text": [
      "Time:  7.130211316049099\n"
     ]
    }
   ],
   "source": [
    "import time\n",
    "# The model parameter boundaries. Can either be a string of comma separated values, a list, an array or a named tuple. \n",
    "lowerBounds = '0.3, 0.01, 0.5, 0.15, 0.0, 0.0, -2.0, 0.01, 0.0, 0.01, 0.005, -5.0, 0.0, 0.0, 0.0, 0.0, 0.00001, 0.0, 0.00001, 0.0, 0.0'\n",
    "upperBounds = '20.0, 5.0, 13.0, 1.5, 20.0, 20.0, 3.0, 0.2, 0.1, 0.3, 0.1, 2.0, 5.0, 1.0, 3.0, 1.0, 0.02, 0.1, 0.01, 0.5, 2.0'\n",
    "          \n",
    "# OSTRICH configuration parameters\n",
    "config = dict(\n",
    "    algorithm=calibration_algorithm, random_seed=random_seed, max_iterations=calibration_evaluation_budget, area=basin_area,\n",
    "    elevation=basin_elevation, latitude=basin_latitude, longitude=basin_longitude, lowerbounds=lowerBounds,\n",
    "    upperbounds=upperBounds, start_date=start, end_date=stop, suppress_output=True,\n",
    "    rain_snow_fraction='RAINSNOW_DINGMAN', nc_spec=nc_transform \n",
    "    )\n",
    "\n",
    "# Let's call Ostrich with the timeseries, calibration parameters and other configuration parameters\n",
    "tic = time.perf_counter()\n",
    "resp = wps.ostrich_hmets(ts=[str(filepathMet),str(filepathQobs)], **config)\n",
    "toc = time.perf_counter()\n",
    "print(\"Time:  \" + str(toc-tic))"
   ]
  },
  {
   "cell_type": "code",
   "execution_count": 75,
   "metadata": {},
   "outputs": [],
   "source": [
    "# And get the response\n",
    "# With `asobj` set to False, only the reference to the output is returned in the response. \n",
    "# Setting `asobj` to True will retrieve the actual files and copy the locally. \n",
    "[calibration, hydrograph, storage, solution, diagnostics, calibparams, rv] = resp.get(asobj=True)"
   ]
  },
  {
   "cell_type": "code",
   "execution_count": 79,
   "metadata": {},
   "outputs": [],
   "source": [
    "# The model parameters. Can either be a string of comma separated values, a list, an array or a named tuple. \n",
    "params = str(calibparams)#'9.5019, 0.2774, 6.3942, 0.6884, 1.2875, 5.4134, 2.3641, 0.0973, 0.0464, 0.1998, 0.0222, -1.0919, ' \\\n",
    "           # '     2.6851, 0.3740, 1.0000, 0.4739, 0.0114, 0.0243, 0.0069, 310.7211, 916.1947'\n",
    "\n",
    "\n",
    "# Model configuration parameters\n",
    "config = dict(\n",
    "    start_date=start,\n",
    "    end_date=stop,\n",
    "    area=basin_area,\n",
    "    elevation=basin_elevation,\n",
    "    latitude=basin_latitude,\n",
    "    longitude=basin_longitude,\n",
    "    run_name='test_hmets_CANOPEX',\n",
    "    rain_snow_fraction='RAINSNOW_DINGMAN',\n",
    "    nc_spec=nc_transform,  \n",
    ")\n",
    "\n",
    "# Let's call the model with the timeseries, model parameters and other configuration parameters\n",
    "resp = wps.raven_hmets(ts=[str(filepathMet),str(filepathQobs)], params=params, **config)\n"
   ]
  },
  {
   "cell_type": "code",
   "execution_count": 80,
   "metadata": {},
   "outputs": [],
   "source": [
    "\n",
    "# And get the response\n",
    "# With `asobj` set to False, only the reference to the output is returned in the response. \n",
    "# Setting `asobj` to True will retrieve the actual files and copy the locally. \n",
    "[hydrograph, storage, solution, diagnostics, rv] = resp.get(asobj=True)"
   ]
  },
  {
   "cell_type": "markdown",
   "metadata": {},
   "source": [
    "Since we requested output objects, we can simply access the output objects. The dianostics is just a CSV file: "
   ]
  },
  {
   "cell_type": "code",
   "execution_count": 81,
   "metadata": {},
   "outputs": [
    {
     "name": "stdout",
     "output_type": "stream",
     "text": [
      "observed data series,filename,DIAG_NASH_SUTCLIFFE,DIAG_RMSE,\n",
      "HYDROGRAPH,/tmp/pywps_process_asma0cd_/CANOPEX_Qobs.nc,0.594227,58.8081,\n",
      "\n"
     ]
    }
   ],
   "source": [
    "print(diagnostics)"
   ]
  },
  {
   "cell_type": "markdown",
   "metadata": {},
   "source": [
    "The `hydrograph` and `storage` outputs are netCDF files storing the time series. These files are opened by default using `xarray`, which provides convenient and powerful time series analysis and plotting tools. "
   ]
  },
  {
   "cell_type": "code",
   "execution_count": 82,
   "metadata": {},
   "outputs": [
    {
     "data": {
      "text/plain": [
       "<xarray.DataArray 'q_sim' (time: 4748, nbasins: 1)>\n",
       "array([[  0.      ],\n",
       "       [201.071169],\n",
       "       [390.313088],\n",
       "       ...,\n",
       "       [ 47.902295],\n",
       "       [ 45.67655 ],\n",
       "       [ 70.693847]])\n",
       "Coordinates:\n",
       "  * time        (time) datetime64[ns] 1998-01-01 1998-01-02 ... 2010-12-31\n",
       "    basin_name  (nbasins) object ...\n",
       "Dimensions without coordinates: nbasins\n",
       "Attributes:\n",
       "    units:      m**3 s**-1\n",
       "    long_name:  Simulated outflows"
      ]
     },
     "execution_count": 82,
     "metadata": {},
     "output_type": "execute_result"
    }
   ],
   "source": [
    "hydrograph.q_sim"
   ]
  },
  {
   "cell_type": "code",
   "execution_count": 83,
   "metadata": {},
   "outputs": [
    {
     "data": {
      "text/plain": [
       "[<matplotlib.lines.Line2D at 0x7f6497879a20>]"
      ]
     },
     "execution_count": 83,
     "metadata": {},
     "output_type": "execute_result"
    },
    {
     "data": {
      "image/png": "[encoded data removed]",
      "text/plain": [
       "<Figure size 432x288 with 1 Axes>"
      ]
     },
     "metadata": {
      "needs_background": "light"
     },
     "output_type": "display_data"
    }
   ],
   "source": [
    "from pandas.plotting import register_matplotlib_converters\n",
    "register_matplotlib_converters()\n",
    "\n",
    "hydrograph.q_sim.plot()"
   ]
  },
  {
   "cell_type": "code",
   "execution_count": 84,
   "metadata": {},
   "outputs": [
    {
     "name": "stdout",
     "output_type": "stream",
     "text": [
      "Max:  <xarray.DataArray 'q_sim' ()>\n",
      "array(701.32894938)\n",
      "Mean:  <xarray.DataArray 'q_sim' ()>\n",
      "array(75.0823244)\n",
      "Monthly means:  <xarray.DataArray 'q_sim' (month: 12, nbasins: 1)>\n",
      "array([[136.15580988],\n",
      "       [109.0782069 ],\n",
      "       [ 99.43221307],\n",
      "       [ 72.26515655],\n",
      "       [ 62.62604562],\n",
      "       [ 63.93322478],\n",
      "       [ 47.39367192],\n",
      "       [ 33.93483848],\n",
      "       [ 42.9829629 ],\n",
      "       [ 62.95219302],\n",
      "       [ 68.62097231],\n",
      "       [102.95503169]])\n",
      "Coordinates:\n",
      "    basin_name  (nbasins) object ...\n",
      "  * month       (month) int64 1 2 3 4 5 6 7 8 9 10 11 12\n",
      "Dimensions without coordinates: nbasins\n"
     ]
    }
   ],
   "source": [
    "print(\"Max: \", hydrograph.q_sim.max())\n",
    "print(\"Mean: \", hydrograph.q_sim.mean())\n",
    "print(\"Monthly means: \", hydrograph.q_sim.groupby(hydrograph.time.dt.month).mean(dim='time'))"
   ]
  },
  {
   "cell_type": "code",
   "execution_count": null,
   "metadata": {},
   "outputs": [],
   "source": []
  }
 ],
 "metadata": {
  "kernelspec": {
   "display_name": "Python 3",
   "language": "python",
   "name": "python3"
  },
  "language_info": {
   "codemirror_mode": {
    "name": "ipython",
    "version": 3
   },
   "file_extension": ".py",
   "mimetype": "text/x-python",
   "name": "python",
   "nbconvert_exporter": "python",
   "pygments_lexer": "ipython3",
   "version": "3.6.10"
  }
 },
 "nbformat": 4,
 "nbformat_minor": 1
}
