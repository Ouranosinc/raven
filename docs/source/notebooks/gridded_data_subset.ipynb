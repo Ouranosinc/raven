{
 "cells": [
  {
   "cell_type": "markdown",
   "metadata": {},
   "source": [
    "# Running a hydrological model over a watershed defined by a shapefile\n",
    "\n",
    "This notebook shows how to run Raven over a user-defined watershed. The watershed contour is provided by a shapefile, which we use to subset meteorological data and to extract watershed physiographic properties. The meteorological data is spatially averaged, then fed to the Raven hydrological model to simulate streamflow. "
   ]
  },
  {
   "cell_type": "code",
   "execution_count": 1,
   "metadata": {},
   "outputs": [],
   "source": [
    "from birdy import WPSClient\n",
    "\n",
    "from example_data import TESTDATA\n",
    "import datetime as dt\n",
    "from urllib.request import urlretrieve\n",
    "import xarray as xr\n",
    "import numpy as np\n",
    "from matplotlib import pyplot as plt\n",
    "import os\n",
    "import json\n",
    "import netCDF4 as nc\n",
    "import salem\n",
    "from zipfile import ZipFile\n",
    "import glob\n",
    "import tempfile\n",
    "from pathlib import Path\n",
    "\n",
    "# Set environment variable RAVEN_WPS_URL to \"http://localhost:9099\" to run on the default local server\n",
    "url = os.environ.get(\"RAVEN_WPS_URL\", \"https://pavics.ouranos.ca/twitcher/ows/proxy/raven/wps\")\n",
    "wps = WPSClient(url)\n",
    "\n",
    "# Temporary directory to store meteorological data\n",
    "tmp = Path(tempfile.mkdtemp())"
   ]
  },
  {
   "cell_type": "code",
   "execution_count": 2,
   "metadata": {},
   "outputs": [],
   "source": [
    "# SETUP THE RUN PARAMETERS. The data will be extracted to cover the simulation period\n",
    "\n",
    "start = dt.datetime(2001, 1, 1)\n",
    "stop = dt.datetime(2001, 2, 28)\n",
    "UTCoffset_hours = -6 # for UTC delta\n",
    "\n",
    "# The shapefile of the catchment. All files (.shp, .shx, etc.) must be zipped into one file.\n",
    "vec = TESTDATA['watershed_vector']\n",
    "\n",
    "# Choose a dataset to use. We have 'NRCAN' and 'ERA5' for now. \n",
    "# NRCAN is only available in Canada, while ERA5 is global.\n",
    "dataset = 'ERA5' \n",
    "\n",
    "# Choose a hydrological model to use. We have 'HMETS', 'GR4JCN','MOHYSE' and 'HBVEC'.\n",
    "hydromodel = 'HBVEC'"
   ]
  },
  {
   "cell_type": "code",
   "execution_count": 3,
   "metadata": {},
   "outputs": [],
   "source": [
    "# We will first need to process the catchment boundaries from the zipped shapefile. \n",
    "ZipFile(vec,'r').extractall(tmp)\n",
    "shp = list(tmp.glob(\"*.shp\"))[0]\n",
    "shdf=salem.read_shapefile(shp)\n",
    "shdf.crs=salem.wgs84 # This is needed in certain cases!\n",
    "\n",
    "lon_min=shdf['min_x'][0]\n",
    "lon_max=shdf['max_x'][0]\n",
    "lat_min=shdf['min_y'][0]\n",
    "lat_max=shdf['max_y'][0]"
   ]
  },
  {
   "cell_type": "code",
   "execution_count": 4,
   "metadata": {},
   "outputs": [
    {
     "name": "stdout",
     "output_type": "stream",
     "text": [
      "Area:  44877.1880529685\n",
      "Elevation:  404.70766683028666\n",
      "Longitude:  -72.69128332186322\n",
      "Latitude:  49.50119363123194\n"
     ]
    }
   ],
   "source": [
    "# From the shapefile, call the PAVICS-Hydro service to extract properties such as centroid lat/long, elevation and area.\n",
    "resp = wps.shape_properties(shape=str(vec))\n",
    "[properties, ]=resp.get(asobj=True)\n",
    "prop = properties[0]\n",
    "basin_area = prop['area']/1000000.0\n",
    "basin_longitude = prop['centroid'][0]\n",
    "basin_latitude = prop['centroid'][1]\n",
    "\n",
    "# This uses the HydroSheds DEM\n",
    "resp = wps.terrain_analysis(shape=str(vec), select_all_touching=True, projected_crs=3978)\n",
    "properties, dem = resp.get(asobj=True)\n",
    "basin_elevation=properties[0]['elevation']\n",
    "\n",
    "print(\"Area: \", basin_area)\n",
    "print(\"Elevation: \", basin_elevation)\n",
    "print(\"Longitude: \", basin_longitude)\n",
    "print(\"Latitude: \", basin_latitude)"
   ]
  },
  {
   "cell_type": "code",
   "execution_count": 5,
   "metadata": {},
   "outputs": [],
   "source": [
    "if dataset=='NRCAN':\n",
    "    # Define the path to the netcdf file and write to disk (the basin averaged data)\n",
    "    tsfile= tmp / 'NRCAN_ts.nc'\n",
    "    \n",
    "    if not tsfile.exists():\n",
    "        # Path to unified NetCDF ML dataset file on the THREDDS server (OPeNDAP link)\n",
    "        NRCAN_url='https://pavics.ouranos.ca/twitcher/ows/proxy/thredds/dodsC/birdhouse/1-Datasets/gridded_obs/nrcan_v2.ncml'\n",
    "\n",
    "        #Open the dataset file and slice the desired lat/lon (+1°Buffer) and limit to the time simulation duration\n",
    "        ds=xr.open_dataset(NRCAN_url).sel(lat=slice(lat_max+1,lat_min-1), lon=slice(lon_min-1,lon_max+1), time=slice(start, stop))\n",
    "\n",
    "        # Now apply the mask of the basin contour and average the values to get a single time series \n",
    "        sub = ds.salem.roi(shape=shdf).mean(dim={'lat','lon'}, keep_attrs=True)\n",
    "\n",
    "        sub.to_netcdf(tsfile)\n",
    "\n",
    "        # Raven expects to have 00:00:00 at the end of the time vector, so let's add that\n",
    "        D = nc.Dataset(tsfile, mode=\"a\")\n",
    "        D.variables[\"time\"].units += \" 00:00:00\"\n",
    "        D.close()\n",
    "    \n",
    "    # Prepare the linear transform parameters for the hydrological model run.\n",
    "    nc_transforms = json.dumps({'tasmax': {'linear_transform': (1.0, -273.15)},'tasmin': {'linear_transform': (1.0, -273.15)},'pr': {'linear_transform': (86400.0, 0.0)}})"
   ]
  },
  {
   "cell_type": "code",
   "execution_count": 6,
   "metadata": {},
   "outputs": [],
   "source": [
    "if dataset=='ERA5':\n",
    "    tsfile=tmp / 'ERA5_ts.nc'\n",
    "    day = dt.timedelta(days=1)\n",
    "    if not tsfile.exists():    \n",
    "        ERA5_url='https://pavics.ouranos.ca/twitcher/ows/proxy/thredds/dodsC/birdhouse/1-Datasets/reanalyses/era5.ncml'\n",
    "        ds=xr.open_dataset(ERA5_url).sel(latitude=slice(lat_max+1,lat_min-1), longitude=slice(lon_min+360-1,lon_max+360+1),time=slice(start - day, stop + day))\n",
    "\n",
    "        # Special treatment for ERA5 in North America: ECMWF stores ERA5 longitude in 0:360 format rather than -180:180. We need to reassign the longitudes here\n",
    "        ds = ds.assign_coords({'longitude':ds['longitude'].values[:]-360})\n",
    "        sub = ds.salem.roi(shape=shdf).mean(dim={'latitude','longitude'},keep_attrs=True)\n",
    "\n",
    "        # Define the path to the netcdf file and write to disk (the basin averaged data)\n",
    "\n",
    "        sub.to_netcdf(tsfile)\n",
    "\n",
    "        # Add precision on time format for Raven\n",
    "        D = nc.Dataset(tsfile, mode=\"a\")\n",
    "        D.variables[\"time\"].units += \" 00:00:00\"\n",
    "        D.close()\n",
    "    \n",
    "    #Perform the linear transform and time shift\n",
    "    nc_transforms=json.dumps({'tas': {'linear_transform': (1.0, -273.15), 'time_shift': UTCoffset_hours/24}, 'pr': {'linear_transform': (1000, 0.0), 'time_shift': UTCoffset_hours/24}})     \n",
    "   "
   ]
  },
  {
   "cell_type": "code",
   "execution_count": 7,
   "metadata": {},
   "outputs": [
    {
     "data": {
      "text/plain": [
       "<salem.graphics.Map at 0x7f0b7730f550>"
      ]
     },
     "execution_count": 7,
     "metadata": {},
     "output_type": "execute_result"
    },
    {
     "data": {
      "image/png": "[encoded data removed]",
      "text/plain": [
       "<Figure size 432x288 with 2 Axes>"
      ]
     },
     "metadata": {
      "needs_background": "light"
     },
     "output_type": "display_data"
    }
   ],
   "source": [
    "# Map of precip snapshot\n",
    "ds.pr.isel(time=2).salem.roi(shape=shdf).salem.quick_map()"
   ]
  },
  {
   "cell_type": "code",
   "execution_count": 8,
   "metadata": {},
   "outputs": [
    {
     "data": {
      "text/plain": [
       "<xarray.DataArray 'pr' (time: 1441)>\n",
       "array([1.9725623e-05, 2.7161006e-05, 3.7725804e-05, ..., 1.8322079e-06,\n",
       "       1.3108788e-06, 1.3241714e-06], dtype=float32)\n",
       "Coordinates:\n",
       "  * time     (time) datetime64[ns] 2000-12-31 2000-12-31T01:00:00 ... 2001-03-01\n",
       "Attributes:\n",
       "    units:       m\n",
       "    long_name:   Total precipitation\n",
       "    pyproj_srs:  +proj=longlat +datum=WGS84 +no_defs"
      ]
     },
     "execution_count": 8,
     "metadata": {},
     "output_type": "execute_result"
    }
   ],
   "source": [
    "sub.pr"
   ]
  },
  {
   "cell_type": "code",
   "execution_count": 9,
   "metadata": {},
   "outputs": [],
   "source": [
    "# Model configuration parameters\n",
    "config = dict(\n",
    "    start_date=start, \n",
    "    end_date=stop,\n",
    "    area=basin_area,\n",
    "    elevation=basin_elevation,\n",
    "    latitude=basin_latitude,\n",
    "    longitude=basin_longitude,\n",
    "    run_name='test_' + dataset + '_' + hydromodel,\n",
    "    nc_spec= nc_transforms\n",
    ")\n"
   ]
  },
  {
   "cell_type": "code",
   "execution_count": 10,
   "metadata": {},
   "outputs": [],
   "source": [
    "# Here is where the magic happens, and the RAVEN modeling framework parses the information that we give it\n",
    "# to run the hydrological model that we chose with the dataset that we chose.\n",
    "\n",
    "# Here we provide a set of hydrological model parameters by default, but these can be adjusted, modified or calibrated later.\n",
    "if hydromodel=='HMETS':\n",
    "    params = '9.5019, 0.2774, 6.3942, 0.6884, 1.2875, 5.4134, 2.3641, 0.0973, 0.0464, 0.1998, 0.0222, -1.0919,2.6851, 0.3740, 1.0000, 0.4739, 0.0114, 0.0243, 0.0069, 310.7211, 916.1947'\n",
    "    resp = wps.raven_hmets(ts=str(tsfile), params=params, rain_snow_fraction='RAINSNOW_DINGMAN', **config,)\n",
    "    \n",
    "elif hydromodel=='GR4JCN':\n",
    "    params = '0.529, -3.396, 407.29, 1.072, 16.9, 0.947'\n",
    "    resp = wps.raven_gr4j_cemaneige(ts=str(tsfile), params = params, **config)\n",
    "    \n",
    "elif hydromodel=='MOHYSE':\n",
    "    params = '1.00, 0.0468, 4.2952, 2.6580, 0.4038, 0.0621, 0.0273, 0.0453'\n",
    "    hrus = '0.9039, 5.6179775' # MOHYSE has a particular setup that requires parameters for HRUs.\n",
    "    resp = wps.raven_mohyse(ts=str(tsfile), params = params, hrus=hrus, rain_snow_fraction='RAINSNOW_DINGMAN', **config)  \n",
    "    \n",
    "elif hydromodel=='HBVEC':\n",
    "    params = '0.05984519, 4.072232, 2.001574, 0.03473693, 0.09985144, 0.5060520, 3.438486, 38.32455, 0.4606565, 0.06303738, 2.277781, 4.873686, 0.5718813, 0.04505643, 0.877607, 18.94145, 2.036937, 0.4452843, 0.6771759, 1.141608, 1.024278'\n",
    "    resp = wps.raven_hbv_ec(ts=str(tsfile), evaporation=\"PET_OUDIN\", ow_evaporation=\"PET_OUDIN\", params=params, **config)\n",
    "    "
   ]
  },
  {
   "cell_type": "code",
   "execution_count": 11,
   "metadata": {},
   "outputs": [],
   "source": [
    "# The model has run! We can get the response.\n",
    "# With `asobj` set to False, only the reference to the output is returned in the response. \n",
    "# Setting `asobj` to True will retrieve the actual files and copy them locally. \n",
    "[hydrograph, storage, solution, diagnostics, rv] = resp.get(asobj=True)"
   ]
  },
  {
   "cell_type": "markdown",
   "metadata": {},
   "source": [
    "Since we requested output objects, we can simply access the output objects. The dianostics is just a CSV file: "
   ]
  },
  {
   "cell_type": "code",
   "execution_count": 12,
   "metadata": {},
   "outputs": [
    {
     "name": "stdout",
     "output_type": "stream",
     "text": [
      ":TimeStamp 2001-02-28 00:00:00.00\n",
      ":HRUStateVariableTable\n",
      "  :Attributes,SURFACE_WATER,ATMOSPHERE,ATMOS_PRECIP,PONDED_WATER,SOIL[0],SOIL[1],SNOW,SNOW_LIQ,CUM_SNOWMELT,CONVOLUTION[0],CONVOLUTION[1],AET,CONV_STOR[0],CONV_STOR[1],CONV_STOR[2],CONV_STOR[3],CONV_STOR[4],CONV_STOR[5],CONV_STOR[6],CONV_STOR[7],CONV_STOR[8],CONV_STOR[9],CONV_STOR[10],CONV_STOR[11],CONV_STOR[12],CONV_STOR[13],CONV_STOR[14],CONV_STOR[15],CONV_STOR[16],CONV_STOR[17],CONV_STOR[18],CONV_STOR[19],CONV_STOR[20],CONV_STOR[21],CONV_STOR[22],CONV_STOR[23],CONV_STOR[24],CONV_STOR[25],CONV_STOR[26],CONV_STOR[27],CONV_STOR[28],CONV_STOR[29],CONV_STOR[30],CONV_STOR[31],CONV_STOR[32],CONV_STOR[33],CONV_STOR[34],CONV_STOR[35],CONV_STOR[36],CONV_STOR[37],CONV_STOR[38],CONV_STOR[39],CONV_STOR[40],CONV_STOR[41],CONV_STOR[42],CONV_STOR[43],CONV_STOR[44],CONV_STOR[45],CONV_STOR[46],CONV_STOR[47],CONV_STOR[48],CONV_STOR[49],CONV_STOR[50],CONV_STOR[51],CONV_STOR[52],CONV_STOR[53],CONV_STOR[54],CONV_STOR[55],CONV_STOR[56],CONV_STOR[57],CONV_STOR[58],CONV_STOR[59],CONV_STOR[60],CONV_STOR[61],CONV_STOR[62],CONV_STOR[63],CONV_STOR[64],CONV_STOR[65],CONV_STOR[66],CONV_STOR[67],CONV_STOR[68],CONV_STOR[69],CONV_STOR[70],CONV_STOR[71],CONV_STOR[72],CONV_STOR[73],CONV_STOR[74],CONV_STOR[75],CONV_STOR[76],CONV_STOR[77],CONV_STOR[78],CONV_STOR[79],CONV_STOR[80],CONV_STOR[81],CONV_STOR[82],CONV_STOR[83],CONV_STOR[84],CONV_STOR[85],CONV_STOR[86],CONV_STOR[87],CONV_STOR[88],CONV_STOR[89],CONV_STOR[90],CONV_STOR[91],CONV_STOR[92],CONV_STOR[93],CONV_STOR[94],CONV_STOR[95],CONV_STOR[96],CONV_STOR[97],CONV_STOR[98],CONV_STOR[99]\n",
      "  :Units,mm,mm,mm,mm,mm,mm,mm,mm,mm,mm,mm,mm,mm,mm,mm,mm,mm,mm,mm,mm,mm,mm,mm,mm,mm,mm,mm,mm,mm,mm,mm,mm,mm,mm,mm,mm,mm,mm,mm,mm,mm,mm,mm,mm,mm,mm,mm,mm,mm,mm,mm,mm,mm,mm,mm,mm,mm,mm,mm,mm,mm,mm,mm,mm,mm,mm,mm,mm,mm,mm,mm,mm,mm,mm,mm,mm,mm,mm,mm,mm,mm,mm,mm,mm,mm,mm,mm,mm,mm,mm,mm,mm,mm,mm,mm,mm,mm,mm,mm,mm,mm,mm,mm,mm,mm,mm,mm,mm,mm,mm,mm,mm\n",
      "  1,0.00000,0.00000,-3.91667,0.00000,19.18146,339.42372,3.91667,0.00000,0.00000,0.00000,0.00000,0.00000,0.00000,0.00000,0.00000,0.00000,0.00000,0.00000,0.00000,0.00000,0.00000,0.00000,0.00000,0.00000,0.00000,0.00000,0.00000,0.00000,0.00000,0.00000,0.00000,0.00000,0.00000,0.00000,0.00000,0.00000,0.00000,0.00000,0.00000,0.00000,0.00000,0.00000,0.00000,0.00000,0.00000,0.00000,0.00000,0.00000,0.00000,0.00000,0.00000,0.00000,0.00000,0.00000,0.00000,0.00000,0.00000,0.00000,0.00000,0.00000,0.00000,0.00000,0.00000,0.00000,0.00000,0.00000,0.00000,0.00000,0.00000,0.00000,0.00000,0.00000,0.00000,0.00000,0.00000,0.00000,0.00000,0.00000,0.00000,0.00000,0.00000,0.00000,0.00000,0.00000,0.00000,0.00000,0.00000,0.00000,0.00000,0.00000,0.00000,0.00000,0.00000,0.00000,0.00000,0.00000,0.00000,0.00000,0.00000,0.00000,0.00000,0.00000,0.00000,0.00000,0.00000,0.00000,0.00000,0.00000,0.00000,0.00000,0.00000,0.00000\n",
      ":EndHRUStateVariableTable\n",
      ":BasinStateVariables\n",
      "  :BasinIndex 1,watershed\n",
      "    :ChannelStorage, 0.00000\n",
      "    :RivuletStorage, 63759773.48786\n",
      "    :Qout,1,1475.92068,1492.85062\n",
      "    :Qlat,3,1475.92068,1492.85062,1510.14332,1475.92068\n",
      "    :Qin ,20,0.00000,0.00000,0.00000,0.00000,0.00000,0.00000,0.00000,0.00000,0.00000,0.00000,0.00000,0.00000,0.00000,0.00000,0.00000,0.00000,0.00000,0.00000,0.00000,0.00000\n",
      ":EndBasinStateVariables\n",
      "\n"
     ]
    }
   ],
   "source": [
    "print(diagnostics)"
   ]
  },
  {
   "cell_type": "markdown",
   "metadata": {},
   "source": [
    "The `hydrograph` and `storage` outputs are netCDF files storing the time series. These files are opened by default using `xarray`, which provides convenient and powerful time series analysis and plotting tools. "
   ]
  },
  {
   "cell_type": "code",
   "execution_count": 13,
   "metadata": {},
   "outputs": [
    {
     "data": {
      "text/plain": [
       "<xarray.DataArray 'q_sim' (time: 59, nbasins: 1)>\n",
       "array([[   0.      ],\n",
       "       [1804.451682],\n",
       "       [3571.474031],\n",
       "       [3497.758444],\n",
       "       [3426.289786],\n",
       "       [3356.990978],\n",
       "       [3289.787652],\n",
       "       [3224.608061],\n",
       "       [3161.382979],\n",
       "       [3100.045617],\n",
       "       [3040.531534],\n",
       "       [2982.778556],\n",
       "       [2926.726694],\n",
       "       [2872.318067],\n",
       "       [2819.496829],\n",
       "       [2768.209095],\n",
       "       [2718.402874],\n",
       "       [2670.027999],\n",
       "       [2623.036064],\n",
       "       [2577.380364],\n",
       "       [2533.01583 ],\n",
       "       [2489.898976],\n",
       "       [2447.98784 ],\n",
       "       [2407.24193 ],\n",
       "       [2367.622175],\n",
       "       [2329.090872],\n",
       "       [2291.611637],\n",
       "       [2255.149362],\n",
       "       [2219.670167],\n",
       "       [2185.141357],\n",
       "       [2151.53138 ],\n",
       "       [2118.809788],\n",
       "       [2086.947198],\n",
       "       [2055.915251],\n",
       "       [2025.68658 ],\n",
       "       [1996.234772],\n",
       "       [1967.534337],\n",
       "       [1939.560674],\n",
       "       [1912.290037],\n",
       "       [1885.69951 ],\n",
       "       [1859.766975],\n",
       "       [1834.471081],\n",
       "       [1809.791224],\n",
       "       [1785.707513],\n",
       "       [1762.20075 ],\n",
       "       [1739.252403],\n",
       "       [1716.844583],\n",
       "       [1694.960024],\n",
       "       [1673.582056],\n",
       "       [1652.694588],\n",
       "       [1632.282085],\n",
       "       [1612.329551],\n",
       "       [1592.822507],\n",
       "       [1573.746977],\n",
       "       [1555.089464],\n",
       "       [1536.83694 ],\n",
       "       [1518.976824],\n",
       "       [1501.49697 ],\n",
       "       [1484.38565 ]])\n",
       "Coordinates:\n",
       "  * time        (time) datetime64[ns] 2001-01-01 2001-01-02 ... 2001-02-28\n",
       "    basin_name  (nbasins) object ...\n",
       "Dimensions without coordinates: nbasins\n",
       "Attributes:\n",
       "    units:      m**3 s**-1\n",
       "    long_name:  Simulated outflows"
      ]
     },
     "execution_count": 13,
     "metadata": {},
     "output_type": "execute_result"
    }
   ],
   "source": [
    "hydrograph.q_sim"
   ]
  },
  {
   "cell_type": "code",
   "execution_count": 14,
   "metadata": {},
   "outputs": [
    {
     "data": {
      "text/plain": [
       "[<matplotlib.lines.Line2D at 0x7f0b5aaf97b8>]"
      ]
     },
     "execution_count": 14,
     "metadata": {},
     "output_type": "execute_result"
    },
    {
     "data": {
      "image/png": "[encoded data removed]",
      "text/plain": [
       "<Figure size 432x288 with 1 Axes>"
      ]
     },
     "metadata": {
      "needs_background": "light"
     },
     "output_type": "display_data"
    }
   ],
   "source": [
    "from pandas.plotting import register_matplotlib_converters\n",
    "register_matplotlib_converters()\n",
    "\n",
    "hydrograph.q_sim.plot()"
   ]
  },
  {
   "cell_type": "code",
   "execution_count": 15,
   "metadata": {},
   "outputs": [
    {
     "name": "stdout",
     "output_type": "stream",
     "text": [
      "Max:  <xarray.DataArray 'q_sim' ()>\n",
      "array(3571.47403105)\n",
      "Mean:  <xarray.DataArray 'q_sim' ()>\n",
      "array(2231.11144315)\n",
      "Monthly means:  <xarray.DataArray 'q_sim' (month: 2, nbasins: 1)>\n",
      "array([[2648.69867205],\n",
      "       [1768.78272545]])\n",
      "Coordinates:\n",
      "    basin_name  (nbasins) object ...\n",
      "  * month       (month) int64 1 2\n",
      "Dimensions without coordinates: nbasins\n"
     ]
    }
   ],
   "source": [
    "print(\"Max: \", hydrograph.q_sim.max())\n",
    "print(\"Mean: \", hydrograph.q_sim.mean())\n",
    "print(\"Monthly means: \", hydrograph.q_sim.groupby(hydrograph.time.dt.month).mean(dim='time'))"
   ]
  }
 ],
 "metadata": {
  "kernelspec": {
   "display_name": "Python 3",
   "language": "python",
   "name": "python3"
  },
  "language_info": {
   "codemirror_mode": {
    "name": "ipython",
    "version": 3
   },
   "file_extension": ".py",
   "mimetype": "text/x-python",
   "name": "python",
   "nbconvert_exporter": "python",
   "pygments_lexer": "ipython3",
   "version": "3.6.7"
  }
 },
 "nbformat": 4,
 "nbformat_minor": 1
}
