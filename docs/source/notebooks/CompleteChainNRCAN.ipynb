{
 "cells": [
  {
   "cell_type": "markdown",
   "metadata": {},
   "source": [
    "# Running HMETS using NRCAN forcing data\n",
    "\n",
    "Here we use birdy's WPS client to launch the HMETS hydrological model on the server and analyze the output. We also prepare NRCAN daily data for Canadian catchments."
   ]
  },
  {
   "cell_type": "code",
   "execution_count": 2,
   "metadata": {},
   "outputs": [],
   "source": [
    "from birdy import WPSClient\n",
    "\n",
    "from example_data import TESTDATA\n",
    "import datetime as dt\n",
    "from urllib.request import urlretrieve\n",
    "import xarray as xr\n",
    "import numpy as np\n",
    "from matplotlib import pyplot as plt\n",
    "import os\n",
    "import json\n",
    "import netCDF4 as nc\n",
    "\n",
    "# Set environment variable RAVEN_WPS_URL to \"http://localhost:9099\" to run on the default local server\n",
    "#url = os.environ.get(\"RAVEN_WPS_URL\", \"https://pavics.ouranos.ca/twitcher/ows/proxy/raven/wps\")\n",
    "\n",
    "# THIS CHANGED TO REFLECT MASTER, NOT LATEST RELEASE!\n",
    "url=\"http://localhost:9099\" \n",
    "\n",
    "wps = WPSClient(url)"
   ]
  },
  {
   "cell_type": "code",
   "execution_count": 3,
   "metadata": {},
   "outputs": [],
   "source": [
    "# SETUP THE RUN PARAMETERS, for now only the start and end years of the simulation, the rest is hard-coded to \n",
    "# the Salmon-river example\n",
    "\n",
    "startYear=2007 # Year of the beginning of the simulation\n",
    "endYear=2008 # Year of the end of the simulation\n"
   ]
  },
  {
   "cell_type": "code",
   "execution_count": 4,
   "metadata": {},
   "outputs": [],
   "source": [
    "# Define the NRCAN data URLs for the OPeNDAP netCDF files\n",
    "tasmax_urlBase='https://pavics.ouranos.ca/twitcher/ows/proxy/thredds/dodsC/birdhouse/nrcan/nrcan_canada_daily_v2/tasmax/nrcan_canada_daily_tasmax_'\n",
    "tasmin_urlBase = 'https://pavics.ouranos.ca/twitcher/ows/proxy/thredds/dodsC/birdhouse/nrcan/nrcan_canada_daily_v2/tasmin/nrcan_canada_daily_tasmin_'\n",
    "precip_urlBase = 'https://pavics.ouranos.ca/twitcher/ows/proxy/thredds/dodsC/birdhouse/nrcan/nrcan_canada_daily_v2/pr/nrcan_canada_daily_pr_'\n"
   ]
  },
  {
   "cell_type": "code",
   "execution_count": 5,
   "metadata": {},
   "outputs": [],
   "source": [
    "# Get information on the Salmon catchment from our test database. This will need to be changed to allow other data\n",
    "salmon=xr.open_dataset(TESTDATA['raven-hmets-nc-ts'])\n",
    "salmon_lat = salmon.lat.values[0]\n",
    "salmon_lon = salmon.lon.values[0]"
   ]
  },
  {
   "cell_type": "code",
   "execution_count": 6,
   "metadata": {},
   "outputs": [],
   "source": [
    "# Write file path for input data\n",
    "dirpath = os.getcwd()\n",
    "filepath = dirpath + \"/NRCAN_ts.nc\"\n"
   ]
  },
  {
   "cell_type": "code",
   "execution_count": 23,
   "metadata": {
    "scrolled": true
   },
   "outputs": [
    {
     "name": "stdout",
     "output_type": "stream",
     "text": [
      "-74.42878848411219\n",
      "-71.35694798796379\n",
      "47.39260355484589\n",
      "51.151291343300926\n"
     ]
    }
   ],
   "source": [
    "import salem\n",
    "# My shapefile\n",
    "vec='/home/ets/src/raven/raven/tests/testdata/watershed_vector/LSJ_LL/LSJ_LL.shp'\n",
    "shdf=salem.read_shapefile(vec)\n",
    "shdf\n",
    "\n",
    "lon_min=shdf['min_x'][0]\n",
    "lon_max=shdf['max_x'][0]\n",
    "lat_min=shdf['min_y'][0]\n",
    "lat_max=shdf['max_y'][0]\n",
    "print(lon_min)\n",
    "print(lon_max)\n",
    "print(lat_min)\n",
    "print(lat_max)\n"
   ]
  },
  {
   "cell_type": "code",
   "execution_count": null,
   "metadata": {},
   "outputs": [],
   "source": [
    "# THIS IS REQUIRED BUT NOT COMPLETE. NEED HELP!\n",
    "# Also get the elevation, centroid long, centroid lat and area\n",
    "resp = wps.shape_properties(shape=vec) # HERE \"vec\" IS NOT WORKING BECAUSE MISSING SHX. NEED TO BE ABLE TO FIND IT AUTOMATICALLY FROM .SHP?\n",
    "[properties, ]=resp.get(asobj=True)\n",
    "prop = properties[0]\n",
    "print(prop)\n",
    "\n",
    "basin_area = prop['area']/1000000.0\n",
    "basin_longitude = prop['centroid'][0]\n",
    "basin_latitude = prop['centroid'][1]\n",
    "\n",
    "resp = wps.terrain_analysis(shape=vec, select_all_touching=True, projected_crs=3978)\n",
    "properties, dem = resp.get(asobj=True)\n",
    "basin_elevation=properties[0]['elevation']"
   ]
  },
  {
   "cell_type": "code",
   "execution_count": 8,
   "metadata": {},
   "outputs": [],
   "source": [
    "\"\"\"Return a netCDF file with daily NRCAN data at the Salmon location.\"\"\"\n",
    "# Get first year of data. Here we use a boundary of 1 degree around the catchment to do a first subsetting (saves memory).\n",
    "firstYear=str(startYear)\n",
    "tmaxYear=xr.open_dataset(tasmax_urlBase + firstYear + '.nc').sel(lat=slice(lat_max+1,lat_min-1), lon=slice(lon_min-1,lon_max+1))\n",
    "tminYear=xr.open_dataset(tasmin_urlBase + firstYear + '.nc').sel(lat=slice(lat_max+1,lat_min-1), lon=slice(lon_min-1,lon_max+1))\n",
    "prYear=xr.open_dataset(precip_urlBase + firstYear + '.nc').sel(lat=slice(lat_max+1,lat_min-1), lon=slice(lon_min-1,lon_max+1))\n"
   ]
  },
  {
   "cell_type": "code",
   "execution_count": 14,
   "metadata": {},
   "outputs": [],
   "source": [
    "# Now extract all following years. It might take a few minutes depending on the number of years\n",
    "# that are fetched through the server. Again, using 1° around the catchment as buffer to subset the large datasets.\n",
    "for i in range(startYear+1,endYear+1):\n",
    "        \n",
    "    tmaxYear=xr.concat([tmaxYear,xr.open_dataset(tasmax_urlBase + str(i) + '.nc').sel(lat=slice(lat_max+1,lat_min-1), lon=slice(lon_min-1,lon_max+1))],dim=\"time\")\n",
    "    tminYear=xr.concat([tminYear,xr.open_dataset(tasmin_urlBase + str(i) + '.nc').sel(lat=slice(lat_max+1,lat_min-1), lon=slice(lon_min-1,lon_max+1))],dim=\"time\")\n",
    "    prYear=xr.concat([prYear,xr.open_dataset(precip_urlBase + str(i) + '.nc').sel(lat=slice(lat_max+1,lat_min-1), lon=slice(lon_min-1,lon_max+1))],dim=\"time\")\n",
    "     "
   ]
  },
  {
   "cell_type": "code",
   "execution_count": 15,
   "metadata": {},
   "outputs": [],
   "source": [
    "# EXTRACT THE CONTOUR AND MASK\n",
    "tmaxSub=tmaxYear.salem.roi(shape=shdf)\n",
    "tminSub=tminYear.salem.roi(shape=shdf)\n",
    "prSub=prYear.salem.roi(shape=shdf)\n"
   ]
  },
  {
   "cell_type": "code",
   "execution_count": 16,
   "metadata": {},
   "outputs": [
    {
     "data": {
      "text/plain": [
       "<salem.graphics.Map at 0x7fee9cbf5358>"
      ]
     },
     "execution_count": 16,
     "metadata": {},
     "output_type": "execute_result"
    },
    {
     "data": {
      "image/png": "[encoded data removed]",
      "text/plain": [
       "<Figure size 432x288 with 2 Axes>"
      ]
     },
     "metadata": {
      "needs_background": "light"
     },
     "output_type": "display_data"
    }
   ],
   "source": [
    "# Diagnostic tests, uncomment to verify\n",
    "\n",
    "t2=tmaxSub.tasmax.isel(time=200)\n",
    "t2.salem.quick_map()\n"
   ]
  },
  {
   "cell_type": "code",
   "execution_count": 17,
   "metadata": {},
   "outputs": [],
   "source": [
    "# Now we need to merge precip, tasmax and tasmin variables into one NetCDF file, and write to disk for future use.\n",
    "main=tmaxSub.merge(tminSub,compat='override')\n",
    "main=main.merge(prSub,compat='override')\n",
    "main.to_netcdf(filepath)\n"
   ]
  },
  {
   "cell_type": "code",
   "execution_count": 18,
   "metadata": {},
   "outputs": [],
   "source": [
    "# Finally, adjust the time units\n",
    "D = nc.Dataset(filepath, \"a\")\n",
    "D.variables[\"time\"].units = \"days since \" + str(startYear) + \"-01-01 00:00:00\"\n",
    "D.close()     \n",
    "D = nc.Dataset(filepath, \"r+\")\n",
    "D.variables[\"time\"] = list(range(0,D.variables[\"tasmax\"].shape[0]))\n",
    "D.close() "
   ]
  },
  {
   "cell_type": "code",
   "execution_count": 19,
   "metadata": {},
   "outputs": [
    {
     "name": "stdout",
     "output_type": "stream",
     "text": [
      " owslib.wps.WPSException : {'code': 'NoApplicableCode', 'locator': 'None', 'text': 'Process failed, please check server error log'}\n"
     ]
    }
   ],
   "source": [
    "# THIS FAILS: NEED STATION IDX IN NETCDF FILE?! \n",
    "import json\n",
    "# The model parameters. Can either be a string of comma separated values, a list, an array or a named tuple. \n",
    "params = '9.5019, 0.2774, 6.3942, 0.6884, 1.2875, 5.4134, 2.3641, 0.0973, 0.0464, 0.1998, 0.0222, -1.0919, ' \\\n",
    "            '     2.6851, 0.3740, 1.0000, 0.4739, 0.0114, 0.0243, 0.0069, 310.7211, 916.1947'\n",
    "\n",
    "# Forcing files: Let's use the file we just created\n",
    "ts=filepath\n",
    "\n",
    "# Model configuration parameters\n",
    "config = dict(\n",
    "    start_date=dt.datetime(2007, 5, 1),\n",
    "    end_date=dt.datetime(2007, 6, 30),\n",
    "    area=basin_area,\n",
    "    elevation=basin_elevation,\n",
    "    latitude=basin_latitude,\n",
    "    longitude=basin_longitude,\n",
    "    run_name='test_hmets_NRCAN',\n",
    "    rain_snow_fraction='RAINSNOW_DINGMAN', # <----- ##### THIS FAILS! NEED HELP HERE! ######\n",
    "    nc_spec=json.dumps({'tasmax': {'linear_transform': (1.0, -273.15)},'tasmin': {'linear_transform': (1.0, -273.15)},'pr': {'linear_transform': (86400.0, 0.0)}})  \n",
    ")\n",
    "\n",
    "# Let's call the model with the timeseries, model parameters and other configuration parameters\n",
    "resp = wps.raven_hmets(ts=str(ts), params=params, **config)\n"
   ]
  },
  {
   "cell_type": "code",
   "execution_count": null,
   "metadata": {},
   "outputs": [],
   "source": [
    "\n",
    "# And get the response\n",
    "# With `asobj` set to False, only the reference to the output is returned in the response. \n",
    "# Setting `asobj` to True will retrieve the actual files and copy the locally. \n",
    "[hydrograph, storage, solution, diagnostics, rv] = resp.get(asobj=True)"
   ]
  },
  {
   "cell_type": "markdown",
   "metadata": {},
   "source": [
    "Since we requested output objects, we can simply access the output objects. The dianostics is just a CSV file: "
   ]
  },
  {
   "cell_type": "code",
   "execution_count": null,
   "metadata": {},
   "outputs": [],
   "source": [
    "print(diagnostics)"
   ]
  },
  {
   "cell_type": "markdown",
   "metadata": {},
   "source": [
    "The `hydrograph` and `storage` outputs are netCDF files storing the time series. These files are opened by default using `xarray`, which provides convenient and powerful time series analysis and plotting tools. "
   ]
  },
  {
   "cell_type": "code",
   "execution_count": null,
   "metadata": {},
   "outputs": [],
   "source": [
    "hydrograph.q_sim"
   ]
  },
  {
   "cell_type": "code",
   "execution_count": null,
   "metadata": {},
   "outputs": [],
   "source": [
    "from pandas.plotting import register_matplotlib_converters\n",
    "register_matplotlib_converters()\n",
    "\n",
    "hydrograph.q_sim.plot()"
   ]
  },
  {
   "cell_type": "code",
   "execution_count": null,
   "metadata": {},
   "outputs": [],
   "source": [
    "print(\"Max: \", hydrograph.q_sim.max())\n",
    "print(\"Mean: \", hydrograph.q_sim.mean())\n",
    "print(\"Monthly means: \", hydrograph.q_sim.groupby(hydrograph.time.dt.month).mean(dim='time'))"
   ]
  }
 ],
 "metadata": {
  "kernelspec": {
   "display_name": "Python 3",
   "language": "python",
   "name": "python3"
  },
  "language_info": {
   "codemirror_mode": {
    "name": "ipython",
    "version": 3
   },
   "file_extension": ".py",
   "mimetype": "text/x-python",
   "name": "python",
   "nbconvert_exporter": "python",
   "pygments_lexer": "ipython3",
   "version": "3.6.7"
  }
 },
 "nbformat": 4,
 "nbformat_minor": 1
}
