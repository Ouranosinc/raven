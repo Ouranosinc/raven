{
 "cells": [
  {
   "cell_type": "markdown",
   "metadata": {},
   "source": [
    "# XX_Climatological_ESP_forecasting.ipynb"
   ]
  },
  {
   "cell_type": "markdown",
   "metadata": {},
   "source": [
    "## Extended Streamflow Prediction (ESP) forecasts from climatological time series\n",
    "\n",
    "This notebook shows how to perform a climatological Extended Streamflow Prediction (ESP) forecast, using historical weather as a proxy for future weather.\n",
    "\n",
    "The general idea is to initialize the state of the hydrological model to represent current conditions, but instead of using weather forecasts to predict future flows, we run the model with observed, historical weather series from past years. So for example if we have 30 years of weather observations, we get 30 different forecasts. The accuracy of this forecast ensemble can then be evaluated by different probabilistic metrics."
   ]
  },
  {
   "cell_type": "code",
   "execution_count": null,
   "metadata": {},
   "outputs": [],
   "source": [
    "import datetime as dt\n",
    "from matplotlib import pyplot as plt\n",
    "from ravenpy.utilities import forecasting\n",
    "from ravenpy.utilities.testdata import get_file\n",
    "from ravenpy.models import HRU, GR4JCN"
   ]
  },
  {
   "cell_type": "markdown",
   "metadata": {},
   "source": [
    "## Run the model simulations\n",
    "\n",
    "Here we set model parameters somewhat arbitrarily, but you can set the parameters to the calibrated parameters as seen in the \"06_Raven_calibration\" notebook we previously encountered. We can then specify the start date for the climatological ESP simulations and run the simulations.\n",
    "\n",
    "We also need to choose the forecast date. Each forecast will start with the same day and month. For example, sep-09-2005 will compare the climatology using all sep-09ths from the dataset."
   ]
  },
  {
   "cell_type": "code",
   "execution_count": null,
   "metadata": {},
   "outputs": [],
   "source": [
    "# Get the selected watershed's time series. You can use your own time-series for your catchment by replacing this line\n",
    "# to the name of your input file.\n",
    "ts = get_file(\"raven-gr4j-cemaneige/Salmon-River-Near-Prince-George_meteo_daily.nc\")\n",
    "\n",
    "# Here we add the physiographic data needed by Raven models.\n",
    "hru = GR4JCN.LandHRU(\n",
    "    area=4523.5, \n",
    "    longitude=-72.55, \n",
    "    latitude=48.39,\n",
    "    elevation=300.0\n",
    ")\n",
    "\n",
    "# Choose a hydrological model to use. We have 'HMETS', 'GR4JCN','MOHYSE', 'HBVEC' and 'BLENDED'.\n",
    "model = 'GR4JCN'\n",
    "\n",
    "# Since we've used GR4JCN, we need to provide that model's parameters. You should replace with your calibrated parameters!\n",
    "params = (0.529, -3.396, 407.29, 1.072, 16.9, 0.947)"
   ]
  },
  {
   "cell_type": "markdown",
   "metadata": {},
   "source": [
    "### Issuing the forecast\n",
    "\n",
    "Here we launch the code that will perform the forecast. Depending on the number of years in the historical dataset and the forecast duration, it might take a while to return a forecast result."
   ]
  },
  {
   "cell_type": "code",
   "execution_count": null,
   "metadata": {},
   "outputs": [],
   "source": [
    "# Forecast parameters:\n",
    "f_date = dt.datetime(2005, 9, 13)  # Choose the forecast date.\n",
    "f_duration = 10  # Length in days of the climatological ESP forecast\n",
    "\n",
    "# Simulate the climatological ESP:\n",
    "q_sims = forecasting.perform_climatology_esp(\n",
    "    model_name=model,          \n",
    "    forecast_date=f_date, \n",
    "    forecast_duration=f_duration,\n",
    "    params=params,\n",
    "    hrus=[hru,],\n",
    "    ts=ts,\n",
    ")"
   ]
  },
  {
   "cell_type": "markdown",
   "metadata": {},
   "source": [
    "We can now inspect and graph the resulting climatological ESP:"
   ]
  },
  {
   "cell_type": "code",
   "execution_count": null,
   "metadata": {},
   "outputs": [],
   "source": [
    "# Plot the resulting climatological ESP:\n",
    "plt.plot(q_sims.time, q_sims.T)\n",
    "plt.xlabel('Time [days]')\n",
    "plt.ylabel('Streamflow $[m^3s^{-1}]$')\n",
    "plt.title('GR4J-CN climatological ESP for 2015-09-13')\n",
    "plt.xticks(rotation=90)\n",
    "plt.grid('on')\n",
    "plt.show()"
   ]
  },
  {
   "cell_type": "markdown",
   "metadata": {},
   "source": [
    "## Compute the forecast scores\n",
    "\n",
    "There are different metric to evaluate the performance of forecasts. As an example, here we are computing the CRPS metric, using the [xskillscore](https://xskillscore.readthedocs.io/en/stable/) library included in PAVICS-Hydro."
   ]
  },
  {
   "cell_type": "code",
   "execution_count": null,
   "metadata": {},
   "outputs": [],
   "source": [
    "import xarray as xr\n",
    "import xskillscore as xs\n",
    "\n",
    "# Align time axes\n",
    "q_obs, q_sims = xr.align(xr.open_dataset(ts).qobs,q_sims,join=\"inner\")\n",
    "\n",
    "# Compute the Continuous Ranked Probability Score\n",
    "xs.crps_ensemble(q_obs,q_sims,dim=\"time\")"
   ]
  },
  {
   "cell_type": "markdown",
   "metadata": {},
   "source": [
    "## Performing a climatology ESP hindcast \n",
    "In this section, we make the hindcasts for each initialization date. Here we will extract ESP forecasts for a given calendar date for the years in \"included_years\" as hindcast dates. Each ESP hindcast uses all available data in the `ts` dataset, so in this case we will have 56/57 members for each hindcast initialization depending on the date that we start on. The \"hindcasts\" dataset contains all of the flow data from the ESP hindcasts for the initialization dates. The `q_obs` dataset contains all q_obs in the timeseries: Climpred will sort it all out during its processing. Note that the format of these datasets is tailor-made to be used in climpred, and thus has specific dimension names.\n",
    "\n",
    "\n",
    "This is a slimmed down example of how we would run an ESP forecast over multiple years to assess the skill of such a forecast. "
   ]
  },
  {
   "cell_type": "code",
   "execution_count": null,
   "metadata": {},
   "outputs": [],
   "source": [
    "hindcasts, q_obs = forecasting.make_ESP_hindcast_dataset(\n",
    "    model_name=model,\n",
    "    forecast_date=f_date,\n",
    "    included_years=list(range(1957, 1959)),\n",
    "    forecast_duration=f_duration,\n",
    "    ts=ts,\n",
    "    hrus=(hru, ),\n",
    "    params=params\n",
    ")"
   ]
  },
  {
   "cell_type": "markdown",
   "metadata": {},
   "source": [
    "## Evaluate the forecast using different metrics\n",
    "Once we have the correctly formatted datasets, Make the hindcast object for climpred\n",
    "\n",
    "These three functions respectively compute the rank histogram, the CRPS and the reliability for the set of initialized dates (i.e. forecast issue dates, here 1 day per year at the same calendar day)."
   ]
  },
  {
   "cell_type": "code",
   "execution_count": null,
   "metadata": {},
   "outputs": [],
   "source": [
    "# Once we have the correctly formatted datasets, Make the hindcast object for climpred\n",
    "hindcast_object = forecasting.make_climpred_hindcast_object(hindcasts, q_obs)\n",
    "\n",
    "# This function is used to convert to binary to see if yes/no forecast is larger than observations\n",
    "def pos(x):\n",
    "    return x > 0  # Check for binary outcome\n",
    "\n",
    "# Rank histogram verification metric\n",
    "rank_histo_verif = hindcast_object.verify(\n",
    "    metric=\"rank_histogram\",\n",
    "    comparison=\"m2o\",\n",
    "    dim=[\"member\", \"init\"],\n",
    "    alignment=\"same_inits\",\n",
    ")\n",
    "# CRPS verification metric\n",
    "crps_verif = hindcast_object.verify(\n",
    "    metric=\"crps\",\n",
    "    comparison=\"m2o\",\n",
    "    dim=[\"member\", \"init\"],\n",
    "    alignment=\"same_inits\",\n",
    ")\n",
    "# Reliability verification metric\n",
    "reliability_verif = hindcast_object.verify(\n",
    "    metric=\"reliability\",\n",
    "    comparison=\"m2o\",\n",
    "    dim=[\"member\", \"init\"],\n",
    "    alignment=\"same_inits\",\n",
    "    logical=pos,\n",
    ")"
   ]
  },
  {
   "cell_type": "code",
   "execution_count": null,
   "metadata": {},
   "outputs": [],
   "source": [
    "plt.plot(crps_verif.flow)\n",
    "plt.xlabel('Lead time [days]')\n",
    "plt.ylabel('CRPS $[m^3s^{-1}]$')\n",
    "plt.grid('on')\n",
    "plt.show()"
   ]
  }
 ],
 "metadata": {
  "kernelspec": {
   "display_name": "Python 3",
   "language": "python",
   "name": "python3"
  },
  "language_info": {
   "codemirror_mode": {
    "name": "ipython",
    "version": 3
   },
   "file_extension": ".py",
   "mimetype": "text/x-python",
   "name": "python",
   "nbconvert_exporter": "python",
   "pygments_lexer": "ipython3",
   "version": "3.7.10"
  }
 },
 "nbformat": 4,
 "nbformat_minor": 4
}
