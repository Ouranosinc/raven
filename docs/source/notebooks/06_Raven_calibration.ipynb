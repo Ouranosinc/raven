{
 "cells": [
  {
   "cell_type": "markdown",
   "id": "4a5f03fb",
   "metadata": {},
   "source": [
    "# 06 - Raven calibration"
   ]
  },
  {
   "cell_type": "markdown",
   "id": "d1ce69fb",
   "metadata": {},
   "source": [
    "## Calibration of a Raven model\n",
    "\n",
    "In this notebook, we show how to calibrate a Raven model using the GR4J-CN predefined structure. The users can refer to the documentation for the parameterization of other hydrological model structures.\n",
    "\n",
    "Let's start by importing the packages that will do the work.\n",
    "\n",
    "- ravenpy.models.GR4JCN: The Raven GR4JCN model Python wrapper we used in the 2 previous notebooks\n",
    "- ravenpy.models.GR4JCN_OST: The Raven GR4JCN model OSTRICH optimization python wrapper. It basically allows us to easily calibrate a Raven model.\n",
    "\n",
    "Depending on your model choice (HMETS, HBVEC, etc.), simply add \"\\_OST\" to the end to get the OSTRICH wrapper. "
   ]
  },
  {
   "cell_type": "code",
   "execution_count": 1,
   "id": "565a7b6c",
   "metadata": {},
   "outputs": [],
   "source": [
    "from ravenpy.models import GR4JCN, GR4JCN_OST"
   ]
  },
  {
   "cell_type": "markdown",
   "id": "cbfe7818",
   "metadata": {},
   "source": [
    "## Preparing the model to be calibrated on a given watershed\n",
    "Our test watershed from the last notebook is selected for this test. It can be replaced with any desired watershed."
   ]
  },
  {
   "cell_type": "code",
   "execution_count": 2,
   "id": "bf6a2500",
   "metadata": {},
   "outputs": [
    {
     "name": "stdout",
     "output_type": "stream",
     "text": [
      "/notebook_dir/writable-workspace/.home/.raven_testing_data/master/raven-gr4j-cemaneige/Salmon-River-Near-Prince-George_meteo_daily.nc\n"
     ]
    }
   ],
   "source": [
    "from ravenpy.utilities.testdata import get_file\n",
    "forcing = get_file(\"raven-gr4j-cemaneige/Salmon-River-Near-Prince-George_meteo_daily.nc\")\n",
    "\n",
    "# Display the datasets that we will be using\n",
    "print(forcing)"
   ]
  },
  {
   "cell_type": "markdown",
   "id": "e5611922",
   "metadata": {},
   "source": [
    "The selected model will be calibrated using the Ostrich library. For other model structures (e.g. HMETS, MOHYSE or HBV-EC, please refer to the user manual).\n",
    "\n",
    "The process is very similar to that of settign up a hydrological model. In this case, instead of creating a hydrological model directly, we will create an OSTRICH object that will template the parameters and configurations to create the GR4JCN model in the background for us."
   ]
  },
  {
   "cell_type": "code",
   "execution_count": 11,
   "id": "2105f6ea",
   "metadata": {},
   "outputs": [],
   "source": [
    "# Using Ostrich with the GR4JCN model. Start by creating the calibration model\n",
    "model = GR4JCN_OST()\n",
    "\n",
    "# Create the HRU for the watershed\n",
    "hru = GR4JCN.LandHRU(area = 4250.6,\n",
    "                     elevation = 843.0,\n",
    "                     latitude = 54.4848,\n",
    "                     longitude = -123.3659)\n",
    "\n",
    "# Establish the start date for the calibration\n",
    "import datetime as dt\n",
    "start_date=dt.datetime(1980, 1, 1)\n",
    "\n",
    "# Raven is also flexible in terms of how to set the end date of a simulation. It can be a date directly (i.e. dt.datetime(1981,12,31)),\n",
    "# or it can be a duration (in days). Raven will automatically calculate the end date from this information. Let's change things up a bit\n",
    "# by using the duration this time. You can always change it back to a dt.datetime object if you prefer!\n",
    "duration = 200"
   ]
  },
  {
   "cell_type": "markdown",
   "id": "cdddf267",
   "metadata": {},
   "source": [
    "### OSTRICH hyperparameters\n",
    "\n",
    "OSTRICH requires some information to perform a calibration, that a regular Raven model does not.\n",
    "\n",
    "- params: A set of initial parameters, as a starting point for the optimization;\n",
    "- lowerBounds, upperBounds: The `lower` and `upper` boundaries of the parameter search space;\n",
    "- algorithm: The name of the optimization algorithm that should be used;\n",
    "- max_iterations: The maximum number of model evaluations that OSTRICH is allowed to use before stopping.\n",
    "\n",
    "OSTRICH can also use a useful optional parameter:\n",
    "\n",
    "- random_seed: The optimization algorithms pseudorandom number generator starting point. If a value is given here, the results will always be the same if the rest of the data remains the same as well. It ensures repeatability. For a normal operation, this random_seed should not be provided which will ensure true randomness (or as close to true randomness the system can generate using it's internal clock).\n",
    "\n",
    "In the following cell, we will provide the desired information as hyperparameters:\n"
   ]
  },
  {
   "cell_type": "code",
   "execution_count": 12,
   "id": "731f8eff",
   "metadata": {},
   "outputs": [],
   "source": [
    "# Starting point parameters\n",
    "params = (0.529, -3.396, 407.29, 1.072, 16.9, 0.053)\n",
    "\n",
    "#lower and upper bounds for the parameters. Note that there are 6 values, each corresponding to the GR4JCN parameter in that position.\n",
    "lower = (0.01, -15.0, 10.0, 0.0, 1.0, 0.0)\n",
    "upper = (2.5, 10.0, 700.0, 7.0, 30.0, 1.0)\n",
    "\n",
    "# Optimization algorithm. Multiple options are available, see OSTRICH documentation for more information. Here, DDS is used as it is powerful and\n",
    "# particularly useful for optimizations with small evaluation budgets. See: \n",
    "#\n",
    "# Tolson, B.A. and Shoemaker, C.A., 2007. Dynamically dimensioned search algorithm for computationally efficient watershed model calibration. Water \n",
    "# Resources Research, 43(1)\n",
    "#\n",
    "# for more details.\n",
    "algorithm = 'DDS' \n",
    "\n",
    "# Maximum number of model evaluations. We only use 50 here to keep the computation time as low as possible, but you will want to increase this \n",
    "# for operational use.\n",
    "max_iterations = 50\n",
    "\n",
    "# Random seed. We will provide one for consistency purposes, but operationnaly this should not be provided.\n",
    "random_seed=0\n"
   ]
  },
  {
   "cell_type": "markdown",
   "id": "156425da",
   "metadata": {},
   "source": [
    "## Calibration of the selected model\n",
    "The model can be calibrated by feeding it the following informations:\n",
    "* forcing: input hydrometeorological data in the right model format\n",
    "* start_date: starting date of the simulation\n",
    "* duration: number of days to simulate\n",
    "* params: initial parameters' values\n",
    "* lowerBounds: lower boundaries of the parameters\n",
    "* upperBounds: upper boundaries of the parameters\n",
    "* algorithm: the optimization algorithm\n",
    "* random_seed=0,\n",
    "* max_iterations: maximum number of model iterations performed by the algoritm\n",
    "* overwrite: overwrite any previous parameter set"
   ]
  },
  {
   "cell_type": "code",
   "execution_count": 13,
   "id": "033e4cd2",
   "metadata": {},
   "outputs": [
    {
     "name": "stderr",
     "output_type": "stream",
     "text": [
      "/opt/conda/envs/birdy/lib/python3.8/site-packages/ravenpy/models/base.py:434: RavenWarning: Gauge:Initialize: both snowfall and rainfall data are provided at a gauge, but :RainSnowFraction method is something other than RAINSNOW_DATA. Snow fraction will be recalculated.\n",
      "  warn(msg, category=RavenWarning)\n",
      "/opt/conda/envs/birdy/lib/python3.8/site-packages/ravenpy/models/base.py:434: RavenWarning: PET data supplied at gauge Gauge1 but will not be used due to choice of forcing generation algorithm\n",
      "  warn(msg, category=RavenWarning)\n",
      "/opt/conda/envs/birdy/lib/python3.8/site-packages/ravenpy/models/base.py:434: RavenWarning: CModelInitialize: if a non-standard calendar is used, all observation data must be converted into the same calendar format\n",
      "  warn(msg, category=RavenWarning)\n",
      "/opt/conda/envs/birdy/lib/python3.8/site-packages/ravenpy/models/base.py:434: RavenWarning: CModelInitialize: if a non-standard calendar is used, care must be taken with forcing data. All gauge forcing data must use the same calendar convention. Mixed calendars are only supported for NetCDF forcing inputs.\n",
      "  warn(msg, category=RavenWarning)\n"
     ]
    }
   ],
   "source": [
    "# Here, the DDS algorithm with a maximum of 50 model iterations is used.\n",
    "model(\n",
    "    ts = forcing,\n",
    "    hrus = (hru,),\n",
    "    start_date=start_date,\n",
    "    duration=duration,\n",
    "    params=params,\n",
    "    lowerBounds=lower,\n",
    "    upperBounds=upper,\n",
    "    algorithm=algorithm,\n",
    "    random_seed=random_seed, # Remove this for operational use!\n",
    "    max_iterations=max_iterations,\n",
    "    overwrite=True,\n",
    ")\n"
   ]
  },
  {
   "cell_type": "markdown",
   "id": "7fc74dfc-75e0-4332-abd4-fc1b30776063",
   "metadata": {},
   "source": [
    "The optimization algorithm has finished! We can not explore not only the best NSE score, but also the calibrated parameters that can be used elsewhere in other notebooks"
   ]
  },
  {
   "cell_type": "markdown",
   "id": "f789c674",
   "metadata": {},
   "source": [
    "## Analysing the calibration results\n",
    "The best parameter set as well as objective functions can be analyzed."
   ]
  },
  {
   "cell_type": "code",
   "execution_count": 14,
   "id": "ae1fc2c4",
   "metadata": {},
   "outputs": [
    {
     "name": "stdout",
     "output_type": "stream",
     "text": [
      "Nash-Sutcliffe value is: [0.415253]\n",
      "GR4JCN.Params(GR4J_X1=1.615284, GR4J_X2=-1.738561, GR4J_X3=119.4733, GR4J_X4=6.883103, CEMANEIGE_X1=14.26573, CEMANEIGE_X2=0.8991888)\n",
      "[  1.615284   -1.738561  119.4733      6.883103   14.26573     0.8991888]\n"
     ]
    }
   ],
   "source": [
    "# Get the model diagnostics\n",
    "d = model.diagnostics\n",
    "\n",
    "# Print the NSE and the parameter set in 2 different ways:\n",
    "print('Nash-Sutcliffe value is: ' + str(d['DIAG_NASH_SUTCLIFFE']))\n",
    "print(model.calibrated_params) # With explanations of what these parameters are\n",
    "print(model.optimized_parameters) # Just the array that could be used in another process. This is what people will typically want to use."
   ]
  },
  {
   "cell_type": "markdown",
   "id": "d22ea8c6-173d-44e9-82c2-cf87a0227180",
   "metadata": {},
   "source": [
    "## Next steps\n",
    "\n",
    "In the next notebooks, we will apply the model to specific use-cases, including making and using hotstart files for forecasting, performing hindcasting and forecasting, applying data assimilation and evaluating the impacts of climate change on the hydrology of a watershed. "
   ]
  }
 ],
 "metadata": {
  "kernelspec": {
   "display_name": "Python 3 (ipykernel)",
   "language": "python",
   "name": "python3"
  },
  "language_info": {
   "codemirror_mode": {
    "name": "ipython",
    "version": 3
   },
   "file_extension": ".py",
   "mimetype": "text/x-python",
   "name": "python",
   "nbconvert_exporter": "python",
   "pygments_lexer": "ipython3",
   "version": "3.8.12"
  }
 },
 "nbformat": 4,
 "nbformat_minor": 5
}
