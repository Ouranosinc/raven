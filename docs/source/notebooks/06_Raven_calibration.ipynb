{
 "cells": [
  {
   "cell_type": "markdown",
   "id": "4a5f03fb",
   "metadata": {},
   "source": [
    "# 06_Raven_calibration.ipynb"
   ]
  },
  {
   "cell_type": "markdown",
   "id": "d1ce69fb",
   "metadata": {},
   "source": [
    "## Calibration of a Raven model\n",
    "\n",
    "In this notebook, we show how to calibrate a Raven model using the GR4J-CN predefined structure. The users can refer themselves to the documentation to the parameterization of other hydrological model structures."
   ]
  },
  {
   "cell_type": "code",
   "execution_count": null,
   "id": "0d3bd83a",
   "metadata": {},
   "outputs": [],
   "source": [
    "import os\n",
    "from glob import glob\n",
    "import datetime as dt\n",
    "from pathlib import Path\n",
    "from ravenpy.utilities.testdata import get_file, get_local_testdata"
   ]
  },
  {
   "cell_type": "code",
   "execution_count": null,
   "id": "565a7b6c",
   "metadata": {},
   "outputs": [],
   "source": [
    "from ravenpy.models import GR4JCN, GR4JCN_OST"
   ]
  },
  {
   "cell_type": "markdown",
   "id": "cbfe7818",
   "metadata": {},
   "source": [
    "## Preparing the model to be calibrated on a given watershed\n",
    "A random watershed is selected for this test. It can be replaced with any desired watershed."
   ]
  },
  {
   "cell_type": "code",
   "execution_count": null,
   "id": "bf6a2500",
   "metadata": {},
   "outputs": [],
   "source": [
    "forcing = get_file(\"raven-gr4j-cemaneige/Salmon-River-Near-Prince-George_meteo_daily.nc\")\n",
    "\n",
    "# Display the datasets that we will be using\n",
    "display(forcing)"
   ]
  },
  {
   "cell_type": "markdown",
   "id": "e5611922",
   "metadata": {},
   "source": [
    "The selected model will be calibrated using the Ostrich library.\n",
    "\n",
    "For other model structures (e.g. HMETS, MOHYSE or HBV-EC, please refer to the user manual)."
   ]
  },
  {
   "cell_type": "code",
   "execution_count": null,
   "id": "2105f6ea",
   "metadata": {},
   "outputs": [],
   "source": [
    "# Using Ostrich with the GR4JCN model\n",
    "model = GR4JCN_OST()\n",
    "salmon_land_hru_1 = dict(\n",
    "    area=4250.6, \n",
    "    elevation=843.0, \n",
    "    latitude=54.4848, \n",
    "    longitude=-123.3659\n",
    ")"
   ]
  },
  {
   "cell_type": "code",
   "execution_count": null,
   "id": "26e90155",
   "metadata": {},
   "outputs": [],
   "source": [
    "model.rvh.hrus=(GR4JCN.LandHRU(**salmon_land_hru_1),)"
   ]
  },
  {
   "cell_type": "markdown",
   "id": "cdddf267",
   "metadata": {},
   "source": [
    "Ostrich requires a set of initial parameters `params` and its `lower` and `upper` boundaries"
   ]
  },
  {
   "cell_type": "code",
   "execution_count": null,
   "id": "731f8eff",
   "metadata": {},
   "outputs": [],
   "source": [
    "params = (0.529, -3.396, 407.29, 1.072, 16.9, 0.053)\n",
    "lower = (0.01, -15.0, 10.0, 0.0, 1.0, 0.0)\n",
    "upper = (2.5, 10.0, 700.0, 7.0, 30.0, 1.0)"
   ]
  },
  {
   "cell_type": "markdown",
   "id": "156425da",
   "metadata": {},
   "source": [
    "## Calibration of the selected model\n",
    "The model can be calibrated by feeding it the following informations:\n",
    "* forcing: input hydrometeorological data in the right model format\n",
    "* start_date: starting date of the simulation\n",
    "* duration: number of days to simulate\n",
    "* params: initial parameters' values\n",
    "* lowerBounds: lower boundaries of the parameters\n",
    "* upperBounds: upper boundaries of the parameters\n",
    "* algorithm: the optimization algorithm\n",
    "* random_seed=0,\n",
    "* max_iterations: maximum number of model iterations performed by the algoritm\n",
    "* overwrite: overwrite any previous parameter set"
   ]
  },
  {
   "cell_type": "code",
   "execution_count": null,
   "id": "033e4cd2",
   "metadata": {},
   "outputs": [],
   "source": [
    "# Here, the DDS algorithm with a maximum of 50 model iterations is used.\n",
    "model(\n",
    "    forcing,\n",
    "    start_date=dt.datetime(1980, 1, 1),\n",
    "    duration=200,\n",
    "    params=params,\n",
    "    lowerBounds=lower,\n",
    "    upperBounds=upper,\n",
    "    algorithm=\"DDS\",\n",
    "    random_seed=0,\n",
    "    max_iterations=50,\n",
    "    overwrite=True,\n",
    ")\n",
    "\n",
    "d = model.diagnostics"
   ]
  },
  {
   "cell_type": "markdown",
   "id": "f789c674",
   "metadata": {},
   "source": [
    "## Analysing the calibration results\n",
    "The best parameter set as well as objective functions can be analyzed."
   ]
  },
  {
   "cell_type": "code",
   "execution_count": null,
   "id": "ae1fc2c4",
   "metadata": {},
   "outputs": [],
   "source": [
    "print('Nash-Sutcliffe value is: ' + str(d['DIAG_NASH_SUTCLIFFE']))\n",
    "print(model.calibrated_params) # With explanations of what these parameters are\n",
    "print(model.optimized_parameters) # Just the array that could be used in another process. This is what people will want to use."
   ]
  },
  {
   "cell_type": "code",
   "execution_count": null,
   "id": "2279db1c",
   "metadata": {},
   "outputs": [],
   "source": []
  }
 ],
 "metadata": {
  "kernelspec": {
   "display_name": "Python 3",
   "language": "python",
   "name": "python3"
  },
  "language_info": {
   "codemirror_mode": {
    "name": "ipython",
    "version": 3
   },
   "file_extension": ".py",
   "mimetype": "text/x-python",
   "name": "python",
   "nbconvert_exporter": "python",
   "pygments_lexer": "ipython3",
   "version": "3.7.10"
  }
 },
 "nbformat": 4,
 "nbformat_minor": 5
}
