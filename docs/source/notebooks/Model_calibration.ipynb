{
 "cells": [
  {
   "cell_type": "markdown",
   "metadata": {},
   "source": [
    "# Estimating the parameters of hydrologicals models\n",
    "\n",
    "Raven offers functions to calibrate hydrological models on a remote server. Under the hood, these functions use the OSTRICH library to find parameters optimizing some objective function. As in the previous example, we're using `birdy` to connect to a remote server.\n",
    "\n",
    "OSTRICH iteratively explores parameters to find the parameter set that optimizes a cost function. At the moment, the only optimization method that is supported is DDS (Dynamically Dimensioned Search, see [Tolson and Shoemaker, 2007](https://doi.org/10.1029/2005WR004723)), and the only objective function available is the Nash-Sutcliffe Efficiency. Submit an issue on the [issue tracker](https://github.com/Ouranosinc/raven/issues) if you have a use case for another metric supported by OSTRICH.\n",
    "\n",
    "To launch OSTRICH, we need to provide it with lower and an upper bounds for all parameters, as well as input data for the model and streamflow observations to compare against. Here we calibrate the GR4J-CemaNeige on the Salmon river watershed.\n"
   ]
  },
  {
   "cell_type": "code",
   "execution_count": 1,
   "metadata": {
    "execution": {
     "iopub.execute_input": "2021-09-08T20:36:01.539755Z",
     "iopub.status.busy": "2021-09-08T20:36:01.532741Z",
     "iopub.status.idle": "2021-09-08T20:36:03.648774Z",
     "shell.execute_reply": "2021-09-08T20:36:03.648395Z"
    }
   },
   "outputs": [
    {
     "data": {
      "text/plain": [
       "'http://0.0.0.0:9099'"
      ]
     },
     "execution_count": 1,
     "metadata": {},
     "output_type": "execute_result"
    }
   ],
   "source": [
    "import datetime as dt\n",
    "import os\n",
    "\n",
    "from birdy import WPSClient\n",
    "from matplotlib import pyplot as plt\n",
    "from pandas.plotting import register_matplotlib_converters\n",
    "\n",
    "from ravenpy.utilities.testdata import get_file\n",
    "\n",
    "register_matplotlib_converters()\n",
    "\n",
    "# Set environment variable WPS_URL to \"http://localhost:9099\" to run on the default local server\n",
    "url = os.environ.get(\n",
    "    \"WPS_URL\", \"https://pavics.ouranos.ca/twitcher/ows/proxy/raven/wps\"\n",
    ")\n",
    "wps = WPSClient(url)\n",
    "url"
   ]
  },
  {
   "cell_type": "code",
   "execution_count": 2,
   "metadata": {
    "execution": {
     "iopub.execute_input": "2021-09-08T20:36:03.654277Z",
     "iopub.status.busy": "2021-09-08T20:36:03.653800Z",
     "iopub.status.idle": "2021-09-08T20:36:04.861054Z",
     "shell.execute_reply": "2021-09-08T20:36:04.860672Z"
    }
   },
   "outputs": [],
   "source": [
    "# The model parameter boundaries. Can either be a string of comma separated values, a list, an array or a named tuple.\n",
    "lowerBounds = \"0.01, -15.0, 10.0, 0.0, 1.0, 0.0\"\n",
    "upperBounds = \"2.5, 10.0, 700.0, 7.0, 30.0, 1.\"\n",
    "\n",
    "# Dataset including forcing time series (temperature, precipitation) and observed streamflow.\n",
    "ts = get_file(\"raven-gr4j-cemaneige/Salmon-River-Near-Prince-George_meteo_daily.nc\")\n",
    "\n",
    "# GR4J-CN model configuration parameters\n",
    "config = dict(\n",
    "    area=4250.6,\n",
    "    elevation=843.0,\n",
    "    latitude=54.4848,\n",
    "    longitude=-123.3659,\n",
    "    start_date=dt.datetime(1954, 1, 1),\n",
    "    duration=208,\n",
    ")\n",
    "\n",
    "# OSTRICH configuration parameters\n",
    "calib = dict(\n",
    "    algorithm=\"DDS\",\n",
    "    max_iterations=10,\n",
    "    lowerbounds=lowerBounds,\n",
    "    upperbounds=upperBounds,\n",
    "    # Comment out the random seed to show different results!\n",
    "    random_seed=6.67408 * 10 ** -11,\n",
    ")\n",
    "\n",
    "# Call Ostrich with the timeseries, calibration parameters and other configuration parameters\n",
    "resp = wps.ostrich_gr4j_cemaneige(ts=str(ts), **config, **calib)"
   ]
  },
  {
   "cell_type": "code",
   "execution_count": 3,
   "metadata": {
    "execution": {
     "iopub.execute_input": "2021-09-08T20:36:04.866827Z",
     "iopub.status.busy": "2021-09-08T20:36:04.865808Z",
     "iopub.status.idle": "2021-09-08T20:36:04.869824Z",
     "shell.execute_reply": "2021-09-08T20:36:04.869493Z"
    }
   },
   "outputs": [
    {
     "data": {
      "text/plain": [
       "PosixPath('/home/david/.raven_testing_data/master/raven-gr4j-cemaneige/Salmon-River-Near-Prince-George_meteo_daily.nc')"
      ]
     },
     "execution_count": 3,
     "metadata": {},
     "output_type": "execute_result"
    }
   ],
   "source": [
    "ts"
   ]
  },
  {
   "cell_type": "markdown",
   "metadata": {},
   "source": [
    "Again, `resp` is the server's response. By default, it only contains the optimized parameter set and calibration diagnostics, and not the simulated hydrographs and storage variables. Indeed, writing the data to disk at each iteration takes considerable time and slows the calibration process."
   ]
  },
  {
   "cell_type": "code",
   "execution_count": 4,
   "metadata": {
    "execution": {
     "iopub.execute_input": "2021-09-08T20:36:04.874485Z",
     "iopub.status.busy": "2021-09-08T20:36:04.874118Z",
     "iopub.status.idle": "2021-09-08T20:36:04.894707Z",
     "shell.execute_reply": "2021-09-08T20:36:04.894265Z"
    },
    "pycharm": {
     "name": "#%%\n"
    }
   },
   "outputs": [
    {
     "name": "stdout",
     "output_type": "stream",
     "text": [
      "1.239022, 7.843634, 211.8366, 5.399504, 16.2756, 0.7699138\n"
     ]
    }
   ],
   "source": [
    "[calibration, hydrograph, storage, solution, diagnostics, calibparams, rv] = resp.get(\n",
    "    asobj=True\n",
    ")\n",
    "print(calibparams)"
   ]
  },
  {
   "cell_type": "markdown",
   "metadata": {},
   "source": [
    "To get the resulting hydrograph, one option is to set the argument `suppress_output` to False in the call to `ostrich_gr4j_cemaneige`. Another option is to make a second request to run the model using the calibrated parameters."
   ]
  },
  {
   "cell_type": "code",
   "execution_count": 5,
   "metadata": {
    "execution": {
     "iopub.execute_input": "2021-09-08T20:36:04.900013Z",
     "iopub.status.busy": "2021-09-08T20:36:04.899557Z",
     "iopub.status.idle": "2021-09-08T20:36:05.374559Z",
     "shell.execute_reply": "2021-09-08T20:36:05.374134Z"
    }
   },
   "outputs": [],
   "source": [
    "# Call the model with the time series, model parameters and other configuration parameters\n",
    "resp = wps.raven_gr4j_cemaneige(ts=str(ts), params=calibparams, **config)\n",
    "[hydrograph, storage, solution, diagnostics2, rv2] = resp.get(asobj=True)"
   ]
  },
  {
   "cell_type": "markdown",
   "metadata": {},
   "source": [
    "Now lets check to see if the diagnostics from this second run are the same as those from the calibration run."
   ]
  },
  {
   "cell_type": "code",
   "execution_count": 6,
   "metadata": {
    "execution": {
     "iopub.execute_input": "2021-09-08T20:36:05.378440Z",
     "iopub.status.busy": "2021-09-08T20:36:05.377804Z",
     "iopub.status.idle": "2021-09-08T20:36:05.381681Z",
     "shell.execute_reply": "2021-09-08T20:36:05.380308Z"
    }
   },
   "outputs": [
    {
     "name": "stdout",
     "output_type": "stream",
     "text": [
      "observed data series,filename,DIAG_NASH_SUTCLIFFE,DIAG_RMSE,\n",
      "HYDROGRAPH_ALL,/tmp/pywps_process_1qwpir_j/input.nc,0.33486,42.2559,\n",
      "\n",
      "observed data series,filename,DIAG_NASH_SUTCLIFFE,DIAG_RMSE,\n",
      "HYDROGRAPH_ALL,/tmp/pywps_process_s2qogcev/input.nc,0.334861,42.2559,\n",
      "\n"
     ]
    }
   ],
   "source": [
    "print(diagnostics)\n",
    "print(diagnostics2)"
   ]
  },
  {
   "cell_type": "markdown",
   "metadata": {},
   "source": [
    "Similar calibration processes are available for three other emulated models:\n",
    " - `ostrich_hbv_ec`\n",
    " - `ostrich_hmets`\n",
    " - `ostrich_mohyse`"
   ]
  }
 ],
 "metadata": {
  "kernelspec": {
   "display_name": "Python 3",
   "language": "python",
   "name": "python3"
  },
  "language_info": {
   "codemirror_mode": {
    "name": "ipython",
    "version": 3
   },
   "file_extension": ".py",
   "mimetype": "text/x-python",
   "name": "python",
   "nbconvert_exporter": "python",
   "pygments_lexer": "ipython3",
   "version": "3.9.6"
  }
 },
 "nbformat": 4,
 "nbformat_minor": 1
}
