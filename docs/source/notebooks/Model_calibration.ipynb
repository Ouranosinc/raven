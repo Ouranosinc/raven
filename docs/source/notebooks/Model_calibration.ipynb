{
 "cells": [
  {
   "cell_type": "markdown",
   "metadata": {},
   "source": [
    "# Estimating the parameters of hydrologicals models\n",
    "\n",
    "Raven offers functions to calibrate hydrological models on a remote server. Under the hood, these functions use the OSTRICH library to find parameters optimizing some objective function. As in the previous example, we're using `birdy` to connect to a remote server.\n",
    "\n",
    "OSTRICH iteratively explores parameters to find the parameter set that optimizes a cost function. At the moment, the only optimization method that is supported is DDS (Dynamically Dimensioned Search, see [Tolson and Shoemaker, 2007](https://doi.org/10.1029/2005WR004723)), and the only objective function available is the Nash-Sutcliffe Efficiency. Submit an issue on the [issue tracker](https://github.com/Ouranosinc/raven/issues) if you have a use case for another metric supported by OSTRICH.\n",
    "\n",
    "To launch OSTRICH, we need to provide it with lower and an upper bounds for all parameters, as well as input data for the model and streamflow observations to compare against. Here we calibrate the GR4J-CemaNeige on the Salmon river watershed.\n"
   ]
  },
  {
   "cell_type": "code",
   "execution_count": null,
   "metadata": {},
   "outputs": [
    {
     "data": {
      "text/plain": [
       "'http://localhost:9099'"
      ]
     },
     "execution_count": null,
     "metadata": {},
     "output_type": "execute_result"
    }
   ],
   "source": [
    "import datetime as dt\n",
    "import os\n",
    "\n",
    "from birdy import WPSClient\n",
    "from matplotlib import pyplot as plt\n",
    "from pandas.plotting import register_matplotlib_converters\n",
    "\n",
    "from ravenpy.utilities.testdata import get_file\n",
    "\n",
    "register_matplotlib_converters()\n",
    "\n",
    "# Set environment variable WPS_URL to \"http://localhost:9099\" to run on the default local server\n",
    "url = os.environ.get(\"WPS_URL\", \"https://pavics.ouranos.ca/twitcher/ows/proxy/raven/wps\")\n",
    "wps = WPSClient(url)\n",
    "url"
   ]
  },
  {
   "cell_type": "code",
   "execution_count": null,
   "metadata": {},
   "outputs": [],
   "source": [
    "# The model parameter boundaries. Can either be a string of comma separated values, a list, an array or a named tuple.\n",
    "lowerBounds = \"0.01, -15.0, 10.0, 0.0, 1.0, 0.0\"\n",
    "upperBounds = \"2.5, 10.0, 700.0, 7.0, 30.0, 1.\"\n",
    "\n",
    "# Dataset including forcing time series (temperature, precipitation) and observed streamflow.\n",
    "ts = get_file(\"raven-gr4j-cemaneige/Salmon-River-Near-Prince-George_meteo_daily.nc\")\n",
    "\n",
    "# GR4J-CN model configuration parameters\n",
    "config = dict(area=4250.6,\n",
    "              elevation=843.0,\n",
    "              latitude=54.4848,\n",
    "              longitude=-123.3659,\n",
    "              start_date=dt.datetime(1954, 1, 1),\n",
    "              duration=208)\n",
    "\n",
    "# OSTRICH configuration parameters\n",
    "calib = dict(algorithm='DDS',\n",
    "             max_iterations=10,\n",
    "             lowerbounds=lowerBounds,\n",
    "             upperbounds=upperBounds,\n",
    "             # Comment out the random seed to show different results!\n",
    "             random_seed=6.67408*10**-11)\n",
    "\n",
    "# Call Ostrich with the timeseries, calibration parameters and other configuration parameters\n",
    "resp = wps.ostrich_gr4j_cemaneige(ts=str(ts), **config, **calib)"
   ]
  },
  {
   "cell_type": "code",
   "execution_count": null,
   "metadata": {},
   "outputs": [
    {
     "data": {
      "text/plain": [
       "PosixPath('/home/david/.raven_testing_data/master/raven-gr4j-cemaneige/Salmon-River-Near-Prince-George_meteo_daily.nc')"
      ]
     },
     "execution_count": null,
     "metadata": {},
     "output_type": "execute_result"
    }
   ],
   "source": [
    "ts"
   ]
  },
  {
   "cell_type": "markdown",
   "metadata": {},
   "source": [
    "Again, `resp` is the server's response. By default, it only contains the optimized parameter set and calibration diagnostics, and not the simulated hydrographs and storage variables. Indeed, writing the data to disk at each iteration takes considerable time and slows the calibration process."
   ]
  },
  {
   "cell_type": "code",
   "execution_count": null,
   "metadata": {
    "pycharm": {
     "name": "#%%\n"
    }
   },
   "outputs": [
    {
     "name": "stdout",
     "output_type": "stream",
     "text": [
      "2.424726, 3.758972, 204.3856, 5.866946, 16.60408, 0.3728098\n"
     ]
    }
   ],
   "source": [
    "[calibration, hydrograph, storage, solution, diagnostics, calibparams, rv] = resp.get(asobj=True)\n",
    "print(calibparams)"
   ]
  },
  {
   "cell_type": "markdown",
   "metadata": {},
   "source": [
    "To get the resulting hydrograph, one option is to set the argument `suppress_output` to False in the call to `ostrich_gr4j_cemaneige`. Another option is to make a second request to run the model using the calibrated parameters."
   ]
  },
  {
   "cell_type": "code",
   "execution_count": null,
   "metadata": {},
   "outputs": [],
   "source": [
    "# Call the model with the time series, model parameters and other configuration parameters\n",
    "resp = wps.raven_gr4j_cemaneige(ts=str(ts), params=calibparams, **config)\n",
    "[hydrograph, storage, solution, diagnostics2, rv2] = resp.get(asobj=True)"
   ]
  },
  {
   "cell_type": "markdown",
   "metadata": {},
   "source": [
    "Now lets check to see if the diagnostics from this second run are the same as those from the calibration run."
   ]
  },
  {
   "cell_type": "code",
   "execution_count": null,
   "metadata": {},
   "outputs": [
    {
     "name": "stdout",
     "output_type": "stream",
     "text": [
      "observed data series,filename,DIAG_NASH_SUTCLIFFE,DIAG_RMSE,\n",
      "HYDROGRAPH_ALL,/tmp/pywps_process_v7rrenuq/Salmon-River-Near-Prince-George_meteo_daily.nc,0.50717,36.373,\n",
      "HYDROGRAPH_ALL,/tmp/pywps_process_v7rrenuq/Salmon-River-Near-Prince-George_meteo_daily.nc,0.50717,36.373,\n",
      "\n",
      "observed data series,filename,DIAG_NASH_SUTCLIFFE,DIAG_RMSE,\n",
      "HYDROGRAPH_ALL,/tmp/pywps_process_kwicu0f4/Salmon-River-Near-Prince-George_meteo_daily.nc,0.50717,36.373,\n",
      "HYDROGRAPH_ALL,/tmp/pywps_process_kwicu0f4/Salmon-River-Near-Prince-George_meteo_daily.nc,0.50717,36.373,\n",
      "\n"
     ]
    }
   ],
   "source": [
    "print(diagnostics)\n",
    "print(diagnostics2)"
   ]
  },
  {
   "cell_type": "markdown",
   "metadata": {},
   "source": [
    "Similar calibration processes are available for three other emulated models:\n",
    " - `ostrich_hbv_ec`\n",
    " - `ostrich_hmets`\n",
    " - `ostrich_mohyse`"
   ]
  }
 ],
 "metadata": {
  "kernelspec": {
   "display_name": "Python 3",
   "language": "python",
   "name": "python3"
  },
  "language_info": {
   "codemirror_mode": {
    "name": "ipython",
    "version": 3
   },
   "file_extension": ".py",
   "mimetype": "text/x-python",
   "name": "python",
   "nbconvert_exporter": "python",
   "pygments_lexer": "ipython3",
   "version": "3.8.6"
  }
 },
 "nbformat": 4,
 "nbformat_minor": 1
}
