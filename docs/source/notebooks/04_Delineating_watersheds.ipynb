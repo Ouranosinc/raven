{
 "cells": [
  {
   "cell_type": "markdown",
   "metadata": {},
   "source": [
    "# 04 - Delineating watersheds"
   ]
  },
  {
   "cell_type": "markdown",
   "metadata": {},
   "source": [
    "## Region Selection and Map Preview with Ipyleaflet\n",
    "In this notebook, you will extract a selected watershed from the HydroSHEDS database (see the reference manual for more information on HydroSHEDS). A GeoJSON with the watershed properties will be available for download and usable for other tasks such as extracting meteorological data covered in the next notebooks."
   ]
  },
  {
   "cell_type": "code",
   "execution_count": 1,
   "metadata": {},
   "outputs": [],
   "source": [
    "# Import the necessary libraries to format, send, and parse our returned results\n",
    "import os\n",
    "import birdy\n",
    "import geopandas as gpd\n",
    "import ipyleaflet\n",
    "import ipywidgets"
   ]
  },
  {
   "cell_type": "markdown",
   "metadata": {},
   "source": [
    "If you are running this locally (and not on the PAVICS-Hydro server), and your `notebook` is version prior to `5.3`, you might need to run this command `jupyter nbextension enable --py --sys-prefix ipyleaflet`.  For more information see https://ipyleaflet.readthedocs.io/en/latest/installation.html. This next box is all boilerplate, you do not need to understand it or play with it. Simply run it!"
   ]
  },
  {
   "cell_type": "code",
   "execution_count": 2,
   "metadata": {},
   "outputs": [],
   "source": [
    "# Create WPS instances# Set environment variable WPS_URL to \"http://localhost:9099\" to run on the default local server\n",
    "pavics_url = \"https://pavics.ouranos.ca\"\n",
    "raven_url = os.environ.get(\"WPS_URL\", f\"{pavics_url}/twitcher/ows/proxy/raven/wps\")\n",
    "\n",
    "raven = birdy.WPSClient(raven_url)\n",
    "\n",
    "# Build an interactive map with ipyleaflet\n",
    "initial_lat_lon = (48.63, -74.71)\n",
    "\n",
    "leaflet_map = ipyleaflet.Map(\n",
    "    center=initial_lat_lon,\n",
    "    basemap=ipyleaflet.basemaps.OpenTopoMap,\n",
    ")\n",
    "\n",
    "# Add a custom zoom slider\n",
    "zoom_slider = ipywidgets.IntSlider(description=\"Zoom level:\", min=1, max=10, value=6)\n",
    "ipywidgets.jslink(\n",
    "    (zoom_slider, \"value\"), \n",
    "    (leaflet_map, \"zoom\")\n",
    ")\n",
    "widget_control1 = ipyleaflet.WidgetControl(\n",
    "    widget=zoom_slider, \n",
    "    position=\"topright\"\n",
    ")\n",
    "leaflet_map.add_control(widget_control1)\n",
    "\n",
    "# Add a marker to the map\n",
    "marker = ipyleaflet.Marker(\n",
    "    location=initial_lat_lon, \n",
    "    draggable=True\n",
    ")\n",
    "leaflet_map.add_layer(marker)\n",
    "\n",
    "# Add an overlay widget\n",
    "html = ipywidgets.HTML(\"\"\"Hover over a feature!\"\"\")\n",
    "html.layout.margin = \"0px 10px 10px 10px\"\n",
    "\n",
    "control = ipyleaflet.WidgetControl(\n",
    "    widget=html, \n",
    "    position=\"bottomleft\"\n",
    ")\n",
    "leaflet_map.add_control(control)\n",
    "\n",
    "\n",
    "def update_html(feature, **kwargs):\n",
    "    html.value = \"\"\"\n",
    "        <h2><b>USGS HydroBASINS</b></h2>\n",
    "        <h4>ID: {}</h4>\n",
    "        <h4>Upstream Area: {} sq. km.</h4> \n",
    "        <h4>Sub-basin Area: {} sq. km.</h4>\n",
    "    \"\"\".format(\n",
    "        feature[\"properties\"][\"id\"],\n",
    "        feature[\"properties\"][\"UP_AREA\"],#\n",
    "        feature[\"properties\"][\"SUB_AREA\"],\n",
    "    )"
   ]
  },
  {
   "cell_type": "markdown",
   "metadata": {},
   "source": [
    "## Using the map to select the outlet of the watershed\n",
    "When using the \"leaflet_map\" command, an interative map will be displayed. \n",
    "\n",
    "Note that a blue marker will be displayed in the middle of the map, which can be dragged by interacting directly with it. Try dragging and placing the marker at the mouth of a river, over a large lake such as Lac Saint-Jean (next to Alma, east of the initial marker position), or anywhere else within North America. This coordinate will be used to find and extract the closest watershed outlet from the Hydrosheds database (see the reference manual for more info on Hydrosheds). The watershed ID and area will be displayed at the bottom left corner of the map.\n",
    "\n",
    "The user can zoom in and out on the map either by:\n",
    "* Using the Zoom level on the top right corner;\n",
    "* Using the + / - icons on the top left corner;\n",
    "* Double-clicking on the map on the area to zoom in."
   ]
  },
  {
   "cell_type": "code",
   "execution_count": 6,
   "metadata": {},
   "outputs": [
    {
     "data": {
      "application/vnd.jupyter.widget-view+json": {
       "model_id": "4253aedef3bc4d988f98975fb6762e99",
       "version_major": 2,
       "version_minor": 0
      },
      "text/plain": [
       "Map(center=[48.63, -74.71], controls=(ZoomControl(options=['position', 'zoom_in_text', 'zoom_in_title', 'zoom_…"
      ]
     },
     "metadata": {},
     "output_type": "display_data"
    }
   ],
   "source": [
    "# Load the map in the notebook\n",
    "leaflet_map"
   ]
  },
  {
   "cell_type": "code",
   "execution_count": 7,
   "metadata": {},
   "outputs": [
    {
     "name": "stdout",
     "output_type": "stream",
     "text": [
      "[-72.92724609375001, 47.010225655683485]\n"
     ]
    }
   ],
   "source": [
    "# Display the lat/lon coordinates of the marker location.\n",
    "user_lonlat = list(reversed(marker.location))\n",
    "print(user_lonlat)"
   ]
  },
  {
   "cell_type": "code",
   "execution_count": 8,
   "metadata": {},
   "outputs": [],
   "source": [
    "# Get the shape of the watershed contributing to flow at the selected location.\n",
    "resp = raven.hydrobasins_select(location=str(user_lonlat), aggregate_upstream=True)"
   ]
  },
  {
   "cell_type": "markdown",
   "metadata": {},
   "source": [
    "**Before continuing, wait for the process above to finish**\n",
    "\n",
    "This can be monitored when the \"[*]:\" on the left of the cell is replaced with a number."
   ]
  },
  {
   "cell_type": "code",
   "execution_count": 9,
   "metadata": {},
   "outputs": [
    {
     "name": "stdout",
     "output_type": "stream",
     "text": [
      "This is the geoJSON file that can be used as the watershed contour in other toolboxes:\n",
      "https://pavics.ouranos.ca/wpsoutputs/0acaa7fa-8ed9-11ec-9778-0242ac12001b/input.geojson\n",
      "\n"
     ]
    },
    {
     "data": {
      "text/html": [
       "<div>\n",
       "<style scoped>\n",
       "    .dataframe tbody tr th:only-of-type {\n",
       "        vertical-align: middle;\n",
       "    }\n",
       "\n",
       "    .dataframe tbody tr th {\n",
       "        vertical-align: top;\n",
       "    }\n",
       "\n",
       "    .dataframe thead th {\n",
       "        text-align: right;\n",
       "    }\n",
       "</style>\n",
       "<table border=\"1\" class=\"dataframe\">\n",
       "  <thead>\n",
       "    <tr style=\"text-align: right;\">\n",
       "      <th></th>\n",
       "      <th>COAST</th>\n",
       "      <th>DIST_MAIN</th>\n",
       "      <th>DIST_SINK</th>\n",
       "      <th>ENDO</th>\n",
       "      <th>HYBAS_ID</th>\n",
       "      <th>LAKE</th>\n",
       "      <th>NEXT_DOWN</th>\n",
       "      <th>NEXT_SINK</th>\n",
       "      <th>ORDER</th>\n",
       "      <th>PFAF_ID</th>\n",
       "      <th>SIDE</th>\n",
       "      <th>SORT</th>\n",
       "      <th>SUB_AREA</th>\n",
       "      <th>UP_AREA</th>\n",
       "      <th>id</th>\n",
       "      <th>geometry</th>\n",
       "    </tr>\n",
       "  </thead>\n",
       "  <tbody>\n",
       "    <tr>\n",
       "      <th>0</th>\n",
       "      <td>0</td>\n",
       "      <td>241.0</td>\n",
       "      <td>241.0</td>\n",
       "      <td>0</td>\n",
       "      <td>7120994290</td>\n",
       "      <td>175</td>\n",
       "      <td>7120360132</td>\n",
       "      <td>7120034520</td>\n",
       "      <td>2</td>\n",
       "      <td>725203010200</td>\n",
       "      <td>M</td>\n",
       "      <td>97825</td>\n",
       "      <td>33600.3</td>\n",
       "      <td>33612.4</td>\n",
       "      <td>USGS_HydroBASINS_lake_na_lev12.97825</td>\n",
       "      <td>MULTIPOLYGON (((-73.05360 47.00610, -73.05530 ...</td>\n",
       "    </tr>\n",
       "  </tbody>\n",
       "</table>\n",
       "</div>"
      ],
      "text/plain": [
       "   COAST  DIST_MAIN  DIST_SINK  ENDO    HYBAS_ID  LAKE   NEXT_DOWN  \\\n",
       "0      0      241.0      241.0     0  7120994290   175  7120360132   \n",
       "\n",
       "    NEXT_SINK  ORDER       PFAF_ID SIDE   SORT  SUB_AREA  UP_AREA  \\\n",
       "0  7120034520      2  725203010200    M  97825   33600.3  33612.4   \n",
       "\n",
       "                                     id  \\\n",
       "0  USGS_HydroBASINS_lake_na_lev12.97825   \n",
       "\n",
       "                                            geometry  \n",
       "0  MULTIPOLYGON (((-73.05360 47.00610, -73.05530 ...  "
      ]
     },
     "execution_count": 9,
     "metadata": {},
     "output_type": "execute_result"
    }
   ],
   "source": [
    "# Extract the URL of the resulting GeoJSON feature\n",
    "feat = resp.get(asobj=False).feature\n",
    "print(\"This is the geoJSON file that can be used as the watershed contour in other toolboxes:\")\n",
    "print(feat)\n",
    "print(\"\")\n",
    "gdf = gpd.read_file(feat)\n",
    "gdf"
   ]
  },
  {
   "cell_type": "markdown",
   "metadata": {},
   "source": [
    "## Now we will add the extracted watershed to the map above!\n",
    "\n",
    "Scroll back up after executing the next cell to see the watershed displayed in blue on the map. You may reextract another  watershed by moving restarting the kernel or running all the cells from the beginning to reload the map. "
   ]
  },
  {
   "cell_type": "code",
   "execution_count": 10,
   "metadata": {},
   "outputs": [],
   "source": [
    "# Adding the GeoJSON to the map above.\n",
    "user_geojson = ipyleaflet.GeoData(\n",
    "    geo_dataframe=gdf,\n",
    "    style={\n",
    "        \"color\": \"blue\",\n",
    "        \"opacity\": 1,\n",
    "        \"weight\": 1.9,\n",
    "        \"fillOpacity\": 0.5,\n",
    "    },\n",
    "    hover_style={\n",
    "        \"fillColor\": \"#b08a3e\", \n",
    "        \"fillOpacity\": 0.9\n",
    "    },\n",
    ")\n",
    "\n",
    "leaflet_map.add_layer(user_geojson)\n",
    "user_geojson.on_hover(update_html)"
   ]
  }
 ],
 "metadata": {
  "kernelspec": {
   "display_name": "Python 3 (ipykernel)",
   "language": "python",
   "name": "python3"
  },
  "language_info": {
   "codemirror_mode": {
    "name": "ipython",
    "version": 3
   },
   "file_extension": ".py",
   "mimetype": "text/x-python",
   "name": "python",
   "nbconvert_exporter": "python",
   "pygments_lexer": "ipython3",
   "version": "3.8.12"
  },
  "nbdime-conflicts": {
   "local_diff": [
    {
     "diff": [
      {
       "diff": [
        {
         "key": 0,
         "op": "addrange",
         "valuelist": [
          "3.6.7"
         ]
        },
        {
         "key": 0,
         "length": 1,
         "op": "removerange"
        }
       ],
       "key": "version",
       "op": "patch"
      }
     ],
     "key": "language_info",
     "op": "patch"
    }
   ],
   "remote_diff": [
    {
     "diff": [
      {
       "diff": [
        {
         "key": 0,
         "op": "addrange",
         "valuelist": [
          "3.6.10"
         ]
        },
        {
         "key": 0,
         "length": 1,
         "op": "removerange"
        }
       ],
       "key": "version",
       "op": "patch"
      }
     ],
     "key": "language_info",
     "op": "patch"
    }
   ]
  }
 },
 "nbformat": 4,
 "nbformat_minor": 4
}
