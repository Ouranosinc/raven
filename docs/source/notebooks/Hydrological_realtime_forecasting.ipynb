{
 "cells": [
  {
   "cell_type": "markdown",
   "metadata": {},
   "source": [
    "# Realtime flow forecast with ECCC weather forecasts\n",
    "\n",
    "This notebook shows how to perform a streamflow forecast, using ECCC weather forecasts. Generates the forecasts and plots them."
   ]
  },
  {
   "cell_type": "code",
   "execution_count": 1,
   "metadata": {},
   "outputs": [
    {
     "name": "stdout",
     "output_type": "stream",
     "text": [
      "<PreparedRequest [GET]>\n",
      "<PreparedRequest [GET]>\n"
     ]
    }
   ],
   "source": [
    "%matplotlib inline\n",
    "# This entire section is cookie-cutter template to allow calling the servers and instantiating the connection\n",
    "# to the WPS server. Do not modify this block.\n",
    "from urllib.request import urlretrieve\n",
    "from birdy import WPSClient\n",
    "from raven.tutorial import get_file\n",
    "from pathlib import Path\n",
    "import json\n",
    "import os\n",
    "import datetime as dt\n",
    "import tempfile\n",
    "import xarray as xr\n",
    "\n",
    "# Set environment variable WPS_URL to \"http://localhost:9099\" to run on the default local server\n",
    "url = os.environ.get(\"WPS_URL\", \"https://pavics.ouranos.ca/twitcher/ows/proxy/raven/wps\")\n",
    "wps = WPSClient(url)\n",
    "tmp = Path(tempfile.mkdtemp())"
   ]
  },
  {
   "cell_type": "code",
   "execution_count": 2,
   "metadata": {},
   "outputs": [
    {
     "name": "stdout",
     "output_type": "stream",
     "text": [
      "<PreparedRequest [POST]>\n"
     ]
    }
   ],
   "source": [
    "# Define some of the catchment properties. Could also be replaced by a call to the properties WPS!\n",
    "region_vector = str(get_file(\"watershed_vector/LSJ_LL.zip\"))\n",
    "\n",
    "basin_area = 44523.5\n",
    "basin_longitude = -72.55\n",
    "basin_latitude = 48.39\n",
    "basin_elevation= 300.0\n",
    "\n",
    "# Choose a hydrological model to use. We have 'HMETS', 'GR4JCN','MOHYSE' and 'HBVEC'.\n",
    "hydromodel = 'GR4JCN'\n",
    "\n",
    "# Since we've used GR4JCN, we need to provide that model's parameters.\n",
    "gr4j_parameters = '0.529, -3.396, 407.29, 1.072, 16.9, 0.947'\n",
    "\n",
    "nc_transforms = json.dumps({'tas': {'time_shift': -0.25},\n",
    "                            'pr': {'time_shift': -0.25, 'deaccumulate':True}})\n",
    "\n",
    "#Length of the desired forecast, in days\n",
    "duration = 7 \n",
    "\n",
    "# launch the hydrological realtime forecasting WPS\n",
    "resp = wps.realtime_forecast(region_vector=region_vector,\n",
    "                             latitude=basin_latitude,\n",
    "                             longitude=basin_longitude,\n",
    "                             area=basin_area, \n",
    "                             elevation=basin_elevation, \n",
    "                             forecast_model=\"GEPS\", \n",
    "                             gr4jcn=gr4j_parameters,\n",
    "                             duration=duration, \n",
    "                             rvc=str(TESTDATA['solution.rvc']), \n",
    "                             nc_spec=nc_transforms,  \n",
    "                             rain_snow_fraction='RAINSNOW_DINGMAN')\n"
   ]
  },
  {
   "cell_type": "code",
   "execution_count": 3,
   "metadata": {},
   "outputs": [
    {
     "name": "stdout",
     "output_type": "stream",
     "text": [
      "<PreparedRequest [GET]>\n",
      "<PreparedRequest [GET]>\n",
      "<PreparedRequest [GET]>\n",
      "<PreparedRequest [GET]>\n",
      "<PreparedRequest [GET]>\n"
     ]
    }
   ],
   "source": [
    "# The model has run! We can get the response.\n",
    "# With `asobj` set to False, only the reference to the output is returned in the response. \n",
    "# Setting `asobj` to True will retrieve the actual files and copy them locally. \n",
    "[hydrograph, storage, solution, diagnostics, rv ] = resp.get(asobj=True)\n"
   ]
  },
  {
   "cell_type": "markdown",
   "metadata": {},
   "source": [
    "### And, for visual representation of the forecasts:"
   ]
  },
  {
   "cell_type": "code",
   "execution_count": 4,
   "metadata": {},
   "outputs": [
    {
     "data": {
      "text/plain": [
       "[<matplotlib.lines.Line2D at 0x7f699d44ef98>,\n",
       " <matplotlib.lines.Line2D at 0x7f699d466080>,\n",
       " <matplotlib.lines.Line2D at 0x7f699d466128>,\n",
       " <matplotlib.lines.Line2D at 0x7f699d4661d0>,\n",
       " <matplotlib.lines.Line2D at 0x7f699d466278>,\n",
       " <matplotlib.lines.Line2D at 0x7f699d466320>,\n",
       " <matplotlib.lines.Line2D at 0x7f699d4663c8>,\n",
       " <matplotlib.lines.Line2D at 0x7f699d466470>,\n",
       " <matplotlib.lines.Line2D at 0x7f699d466518>,\n",
       " <matplotlib.lines.Line2D at 0x7f699d4665c0>,\n",
       " <matplotlib.lines.Line2D at 0x7f699d466668>,\n",
       " <matplotlib.lines.Line2D at 0x7f699d466710>,\n",
       " <matplotlib.lines.Line2D at 0x7f699d4667b8>,\n",
       " <matplotlib.lines.Line2D at 0x7f699d466860>,\n",
       " <matplotlib.lines.Line2D at 0x7f699d466908>,\n",
       " <matplotlib.lines.Line2D at 0x7f699d4669b0>,\n",
       " <matplotlib.lines.Line2D at 0x7f699d466a58>,\n",
       " <matplotlib.lines.Line2D at 0x7f699d466b00>,\n",
       " <matplotlib.lines.Line2D at 0x7f699d466ba8>,\n",
       " <matplotlib.lines.Line2D at 0x7f699d466c50>]"
      ]
     },
     "execution_count": 4,
     "metadata": {},
     "output_type": "execute_result"
    },
    {
     "data": {
      "image/png": "[encoded data removed]",
      "text/plain": [
       "<Figure size 432x288 with 1 Axes>"
      ]
     },
     "metadata": {
      "needs_background": "light"
     },
     "output_type": "display_data"
    }
   ],
   "source": [
    "# This is to be replaced with a call to the forecast graphing WPS as soon as merged.\n",
    "hydrograph.q_sim.plot.line('b',x='time')"
   ]
  }
 ],
 "metadata": {
  "kernelspec": {
   "display_name": "Python 3",
   "language": "python",
   "name": "python3"
  },
  "language_info": {
   "codemirror_mode": {
    "name": "ipython",
    "version": 3
   },
   "file_extension": ".py",
   "mimetype": "text/x-python",
   "name": "python",
   "nbconvert_exporter": "python",
   "pygments_lexer": "ipython3",
   "version": "3.8.6"
  }
 },
 "nbformat": 4,
 "nbformat_minor": 1
}
