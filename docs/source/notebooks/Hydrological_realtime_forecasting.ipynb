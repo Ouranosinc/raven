{
 "cells": [
  {
   "cell_type": "markdown",
   "metadata": {},
   "source": [
    "# Performing a realtime forecast for a given catchment with ECCC forecasts from the datamart.\n",
    "\n",
    "This notebook shows how to perform a Streamflow forecast, using ECCC weather forecasts. Generates the forecasts and plots them."
   ]
  },
  {
   "cell_type": "code",
   "execution_count": null,
   "metadata": {},
   "outputs": [],
   "source": [
    "%matplotlib inline\n",
    "# This entire section is cookie-cutter template to allow calling the servers and instantiating the connection\n",
    "# to the WPS server. Do not modify this block.\n",
    "from urllib.request import urlretrieve\n",
    "from birdy import WPSClient\n",
    "from example_data import TESTDATA\n",
    "from pathlib import Path\n",
    "import json\n",
    "import os\n",
    "import datetime as dt\n",
    "import tempfile\n",
    "import xarray as xr\n",
    "\n",
    "# Set environment variable WPS_URL to \"http://localhost:9099\" to run on the default local server\n",
    "url = os.environ.get(\"WPS_URL\", \"https://pavics.ouranos.ca/twitcher/ows/proxy/raven/wps\")\n",
    "url=\"http://localhost:9099\"\n",
    "wps = WPSClient(url)\n",
    "tmp = Path(tempfile.mkdtemp())"
   ]
  },
  {
   "cell_type": "code",
   "execution_count": null,
   "metadata": {},
   "outputs": [],
   "source": [
    "# Define some of the catchment properties. Could also be replaced by a call to the properties WPS!\n",
    "region_vector = str(TESTDATA['watershed_vector'])\n",
    "\n",
    "basin_area = 44523.5\n",
    "basin_longitude = -72.55\n",
    "basin_latitude = 48.39\n",
    "basin_elevation= 300.0\n",
    "\n",
    "# Choose a hydrological model to use. We have 'HMETS', 'GR4JCN','MOHYSE' and 'HBVEC'.\n",
    "hydromodel = 'GR4JCN'\n",
    "\n",
    "# Since we've used GR4JCN, we need to provide that model's parameters.\n",
    "gr4j_parameters = '0.529, -3.396, 407.29, 1.072, 16.9, 0.947'\n",
    "\n",
    "nc_transforms = json.dumps({'tas': {'linear_transform': (1.0, 0.0), 'time_shift': -0.25},'pr': {'linear_transform': (1.0, 0.0), 'time_shift': -0.25, 'deaccumulate':True}})\n",
    "\n",
    "duration=7 #Length of the desired forecast, in days\n",
    "\n",
    "# launch the hydrological realtime forecasting WPS\n",
    "resp=wps.realtime_forecast(region_vector=region_vector,latitude=basin_latitude,longitude=basin_longitude,area=basin_area, elevation=basin_elevation, forecast_model=\"GEPS\", gr4jcn=gr4j_parameters,duration=duration, rvc=str(TESTDATA['solution.rvc']), nc_spec=nc_transforms,  rain_snow_fraction='RAINSNOW_DINGMAN')\n"
   ]
  },
  {
   "cell_type": "code",
   "execution_count": null,
   "metadata": {},
   "outputs": [],
   "source": [
    "# The model has run! We can get the response.\n",
    "# With `asobj` set to False, only the reference to the output is returned in the response. \n",
    "# Setting `asobj` to True will retrieve the actual files and copy them locally. \n",
    "[hydrograph,storage, solution,diagnostics,rv ] = resp.get(asobj=True)\n"
   ]
  },
  {
   "cell_type": "markdown",
   "metadata": {},
   "source": [
    "### And, for visual representation of the forecasts:"
   ]
  },
  {
   "cell_type": "code",
   "execution_count": null,
   "metadata": {},
   "outputs": [],
   "source": [
    "# This is to be replaced with a call to the forecast graphing WPS as soon as merged.\n",
    "hydrograph.q_sim.plot.line('b',x='time')"
   ]
  }
 ],
 "metadata": {
  "kernelspec": {
   "display_name": "Python 3",
   "language": "python",
   "name": "python3"
  },
  "language_info": {
   "codemirror_mode": {
    "name": "ipython",
    "version": 3
   },
   "file_extension": ".py",
   "mimetype": "text/x-python",
   "name": "python",
   "nbconvert_exporter": "python",
   "pygments_lexer": "ipython3",
   "version": "3.6.12"
  }
 },
 "nbformat": 4,
 "nbformat_minor": 1
}
