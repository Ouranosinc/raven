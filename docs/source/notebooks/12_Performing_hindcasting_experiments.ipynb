{
 "cells": [
  {
   "cell_type": "markdown",
   "metadata": {},
   "source": [
    "# Hindcasting with CaSPAr-Archived ECCC forecasts\n",
    "\n",
    "This notebook shows how to perform a streamflow hindcast, using CaSPar archived weather forecasts. It generates the hindcasts and plots them.\n",
    "\n",
    "CaSPAr (Canadian Surface Prediction Archive) is an archive of historical ECCC forecasts developed by Juliane Mai at the University of Waterloo, Canada. More details on CaSPAr can be found here https://caspar-data.ca/.\n",
    "\n",
    "\n",
    "Mai, J., Kornelsen, K.C., Tolson, B.A., Fortin, V., Gasset, N., Bouhemhem, D., Schäfer, D., Leahy, M., Anctil, F. and Coulibaly, P., 2020. The Canadian Surface Prediction Archive (CaSPAr): A Platform to Enhance Environmental Modeling in Canada and Globally. Bulletin of the American Meteorological Society, 101(3), pp.E341-E356.\n"
   ]
  },
  {
   "cell_type": "code",
   "execution_count": null,
   "metadata": {},
   "outputs": [],
   "source": [
    "# This entire section is cookie-cutter template to import required packages and prepare the temporary writing space.\n",
    "import datetime as dt\n",
    "from matplotlib import pyplot as plt\n",
    "from ravenpy.utilities import forecasting\n",
    "from ravenpy.utilities.forecasting import get_CASPAR_dataset\n",
    "from ravenpy.utilities.testdata import get_file\n",
    "from ravenpy.models import HRU, GR4JCN\n",
    "from clisops.core import subset, average\n",
    "import xarray as xr\n",
    "import json\n",
    "import tempfile\n",
    "import xskillscore\n",
    "from pathlib import Path\n",
    "\n",
    "tmp = Path(tempfile.mkdtemp())"
   ]
  },
  {
   "cell_type": "markdown",
   "metadata": {},
   "source": [
    "## Run the model simulations\n",
    "\n",
    "Here we set model parameters somewhat arbitrarily, but you can set the parameters to the calibrated parameters as seen in the \"06_Raven_calibration\" notebook we previously encountered. We can then specify the start date for the hindcast ESP simulations and run the simulations.This means we need to choose the forecast (hindcast) date. Available data include May 2017 onwards."
   ]
  },
  {
   "cell_type": "code",
   "execution_count": null,
   "metadata": {},
   "outputs": [],
   "source": [
    "# Date of the hindcast\n",
    "hdate = dt.datetime(2018, 6, 1)\n",
    "\n",
    "# Get the Forecast data from GEPS via CASPAR\n",
    "ts_hindcast, _ = get_CASPAR_dataset(\"GEPS\",hdate)\n",
    "\n",
    "# Subset the data for the region of interest and take the mean to get a single vector\n",
    "ts_subset = subset.subset_shape(ts_hindcast,'input.geojson').mean(dim=('rlat', 'rlon'))\n",
    "ts_subset = ts_subset.resample(time='6H').nearest(tolerance='1H') # To make the timesteps identical accross the entire duration\n",
    "\n"
   ]
  },
  {
   "cell_type": "code",
   "execution_count": null,
   "metadata": {},
   "outputs": [],
   "source": [
    "# Prepare a RAVEN model run using historical data, GR4JCN in this case.\n",
    "# This is a dummy run to get initial states. In a real forecast situation,\n",
    "# this run would end on the day before the forecast, but process is the same.\n",
    "\n",
    "# Here we need a file of observation data to run a simulation to generate initial conditions for our forecast.\n",
    "ts = str(get_file(\"raven-gr4j-cemaneige/Salmon-River-Near-Prince-George_meteo_daily.nc\"))\n",
    "\n",
    "# Choose a hydrological model to use. We have 'HMETS', 'GR4JCN','MOHYSE', 'HBVEC' and 'BLENDED'.\n",
    "model = GR4JCN()\n",
    "\n",
    "# Here we add the physiographic data needed by Raven models. In this case, it is applied to the GR4JCN instance.\n",
    "hrus = (\n",
    "    GR4JCN.LandHRU(area=4250.6, elevation=843.0, latitude=54.4848, longitude=-123.3659),\n",
    "        )\n",
    "\n",
    "# And run the model with the desired inputs!\n",
    "model(ts, \n",
    "      start_date = dt.datetime(2000,1,1),\n",
    "      end_date = dt.datetime(2002,6,1),\n",
    "      hrus=hrus,\n",
    "      params = (0.529, -3.396, 407.29, 1.072, 16.9, 0.947),\n",
    ")\n",
    "\n",
    "# Extract the final states that will be used as the next initial states\n",
    "rvc = model.outputs[\"solution\"]\n",
    "\n",
    "# Duration of the hindcast, in days\n",
    "duration = 10"
   ]
  },
  {
   "cell_type": "code",
   "execution_count": null,
   "metadata": {},
   "outputs": [],
   "source": [
    "# It is necessary to clean the model state because the input variables of the previous\n",
    "# model are not the same as the ones provided in the forecast model. therefore, if we\n",
    "# do not clean, the model will simply add the hindcast file to the list of available\n",
    "# data provided in the testdata above. Then the dates will not work, and the model errors.\n",
    "model = GR4JCN()\n",
    "\n",
    "# Using a hot-start to ensure the forecasts are more reasonable. Typically we would use either the end of a previous simulation\n",
    "# window, or an assimilated state. Here we use an arbitrary value from the simulation from the above section\n",
    "model.config.rvc.parse_solution(rvc.read_text())\n",
    "\n",
    "# And run the model with the forecast data.\n",
    "number_members=len(ts_subset.member.data)\n",
    "\n",
    "# We need to write the netcdf data as a file for Raven to be able to access it.\n",
    "ts_subset.to_netcdf(tmp / 'hindcast.nc')  \n",
    "    \n",
    "model(\n",
    "    ts=str(tmp / 'hindcast.nc'),\n",
    "    nc_index=range(number_members),\n",
    "    start_date=hdate,\n",
    "    end_date=hdate+dt.timedelta(days=duration),\n",
    "    hrus=hrus,\n",
    "    params=(0.529, -3.396, 407.29, 1.072, 16.9, 0.947),\n",
    "    overwrite=True,\n",
    "    pr={   # This part is to scale the precipitation and temperature as well as align the UTC time zome differences\n",
    "        \"scale\": 1000.0,\n",
    "        \"offset\": 0.0,\n",
    "        \"time_shift\": -0.25,\n",
    "        \"deaccumulate\": True,\n",
    "    },\n",
    "    tas={\"time_shift\": -0.25},\n",
    ")"
   ]
  },
  {
   "cell_type": "code",
   "execution_count": null,
   "metadata": {},
   "outputs": [],
   "source": [
    "# We now have the forecasted flows for the desired date. We can access them as:\n",
    "print(model.q_sim)"
   ]
  },
  {
   "cell_type": "markdown",
   "metadata": {},
   "source": [
    "\n",
    "And, for visual representation of the forecasts:\n"
   ]
  },
  {
   "cell_type": "code",
   "execution_count": null,
   "metadata": {},
   "outputs": [],
   "source": [
    "import matplotlib.pyplot as plt\n",
    "\n",
    "\n",
    "# Simulate an observed streamflow timeseries: Here we take a member from the ensemble, but you should use your own\n",
    "# observed timeseries:\n",
    "qq = model.q_sim.isel(nbasins=10)\n",
    "\n",
    "# This is to be replaced with a call to the forecast graphing WPS as soon as merged.\n",
    "#model.q_sim.plot.line(\"b\", x=\"time\")\n",
    "model.q_sim.plot.line(\"b\", x=\"time\", add_legend=False)\n",
    "model.q_sim[:,0].plot.line(\"b\",x=\"time\", label=\"forecasts\")\n",
    "qq.plot.line(\"r\", x=\"time\", label=\"observations\")\n",
    "plt.legend(loc=\"upper left\")\n",
    "plt.show()"
   ]
  }
 ],
 "metadata": {
  "kernelspec": {
   "display_name": "Python 3 (ipykernel)",
   "language": "python",
   "name": "python3"
  },
  "language_info": {
   "codemirror_mode": {
    "name": "ipython",
    "version": 3
   },
   "file_extension": ".py",
   "mimetype": "text/x-python",
   "name": "python",
   "nbconvert_exporter": "python",
   "pygments_lexer": "ipython3",
   "version": "3.7.11"
  }
 },
 "nbformat": 4,
 "nbformat_minor": 1
}
