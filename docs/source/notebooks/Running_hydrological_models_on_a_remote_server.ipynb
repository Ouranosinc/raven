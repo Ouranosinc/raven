{
 "cells": [
  {
   "cell_type": "markdown",
   "metadata": {},
   "source": [
    "# Running hydrological models on a remote server\n",
    "\n",
    "Raven offers a mechanism to run hydrological model simulations on remote servers. One use case for this is to run Raven with remote input data. For example, if weather observations or predictions are stored in the cloud, it often makes more sense to launch simulations on the same cloud infrastructure rather than to download data locally then run Raven locally.\n",
    "\n",
    "For this to work, you need access to a Raven server, and a client able to communicate with the server. In this example, we use the raven server hosted at `https://pavics.ouranos.ca`, and a client named `birdy`. Communications between the client and the server are made using the Open Geospatial Consortium (OGC) Web Processing Services (WPS) standard.\n",
    "\n",
    "Here we use birdy's WPS client to launch the GR4J-CemaNeige hydrological model on the server and analyze the output. Other models can be launched using the same mechanism:\n",
    "  - HBV-EC\n",
    "  - HMETS\n",
    "  - MOHYSE\n",
    "\n",
    "Custom model configurations can also be used, but it is often more difficult to troubleshoot errors when the code runs on a remote server."
   ]
  },
  {
   "cell_type": "code",
   "execution_count": 1,
   "metadata": {},
   "outputs": [],
   "source": [
    "from birdy import WPSClient\n",
    "\n",
    "from example_data import TESTDATA\n",
    "import datetime as dt\n",
    "from matplotlib import pyplot as plt\n",
    "from pandas.plotting import register_matplotlib_converters\n",
    "import os\n",
    "register_matplotlib_converters()\n",
    "\n",
    "# Set environment variable WPS_URL to \"http://localhost:9099\" to run on the default local server\n",
    "url = os.environ.get(\"WPS_URL\", \"https://pavics.ouranos.ca/twitcher/ows/proxy/raven/wps\")\n",
    "wps = WPSClient(url)"
   ]
  },
  {
   "cell_type": "code",
   "execution_count": 2,
   "metadata": {},
   "outputs": [],
   "source": [
    "# The model parameters. Can either be a string of comma separated values, a list, an array or a named tuple.\n",
    "params = [0.529, -3.396, 407.29, 1.072, 16.9, 0.947]\n",
    "\n",
    "# Local forcing files\n",
    "ts=TESTDATA['raven-gr4j-cemaneige-nc-ts']\n",
    "\n",
    "# Model configuration parameters\n",
    "config = dict(\n",
    "    start_date=dt.datetime(2000, 1, 1),\n",
    "    end_date=dt.datetime(2002, 1, 1),\n",
    "    area=4250.6,\n",
    "    elevation=843.0,\n",
    "    latitude=54.4848,\n",
    "    longitude=-123.3659,\n",
    "    )\n",
    "\n",
    "# Send a request to the server, instructing it to launch the GR4J-CN emulated model.\n",
    "resp = wps.raven_gr4j_cemaneige(ts=str(ts), params=params, **config)\n"
   ]
  },
  {
   "cell_type": "markdown",
   "metadata": {},
   "source": [
    "`resp` is the server's response to the request. It can be polled to check what is the status of the request, or see what percentage of the task is completed.\n",
    "\n",
    "Once the simulation is complete, we fetch the output using the `get` method. With argument `asobj` set to False, only the URL of the output (stored on the remote server) is returned. To get the actual data, set `asobj` to True. Not only will this download the actual files locally, but also open them as python objects."
   ]
  },
  {
   "cell_type": "code",
   "execution_count": 3,
   "metadata": {},
   "outputs": [
    {
     "name": "stdout",
     "output_type": "stream",
     "text": [
      "observed data series,filename,DIAG_NASH_SUTCLIFFE,DIAG_RMSE,\n",
      "HYDROGRAPH,/tmp/pywps_process_q45enn8e/Salmon-River-Near-Prince-George_meteo_daily.nc,-0.0371048,36.562,\n",
      "\n"
     ]
    }
   ],
   "source": [
    "# The diagnostics output is CSV file.\n",
    "[hydrograph, storage, solution, diagnostics, rv] = resp.get(asobj=True)\n",
    "print(diagnostics)"
   ]
  },
  {
   "cell_type": "markdown",
   "metadata": {},
   "source": [
    "The `hydrograph` and `storage` outputs are netCDF files storing the time series. These files are opened by default using `xarray`, which provides convenient and powerful time series analysis and plotting tools. The `hydrograph` holds the simulated streamflow, while `storage` contains the different model state variables (soil water, snow, etc)."
   ]
  },
  {
   "cell_type": "code",
   "execution_count": 4,
   "metadata": {},
   "outputs": [
    {
     "data": {
      "text/plain": [
       "<xarray.DataArray 'q_sim' (time: 732, nbasins: 1)>\n",
       "array([[ 0.      ],\n",
       "       [ 0.165788],\n",
       "       [ 0.559366],\n",
       "       ...,\n",
       "       [28.077935],\n",
       "       [27.835868],\n",
       "       [27.597955]])\n",
       "Coordinates:\n",
       "  * time        (time) datetime64[ns] 2000-01-01 2000-01-02 ... 2002-01-01\n",
       "    basin_name  (nbasins) object ...\n",
       "Dimensions without coordinates: nbasins\n",
       "Attributes:\n",
       "    units:      m**3 s**-1\n",
       "    long_name:  Simulated outflows"
      ]
     },
     "execution_count": 4,
     "metadata": {},
     "output_type": "execute_result"
    }
   ],
   "source": [
    "hydrograph.q_sim"
   ]
  },
  {
   "cell_type": "code",
   "execution_count": 5,
   "metadata": {},
   "outputs": [
    {
     "data": {
      "text/plain": [
       "[<matplotlib.lines.Line2D at 0x7fd220882940>]"
      ]
     },
     "execution_count": 5,
     "metadata": {},
     "output_type": "execute_result"
    },
    {
     "data": {
      "image/png": "[encoded data removed]",
      "text/plain": [
       "<Figure size 432x288 with 1 Axes>"
      ]
     },
     "metadata": {
      "needs_background": "light"
     },
     "output_type": "display_data"
    }
   ],
   "source": [
    "fig, (ax1, ax2) = plt.subplots(1, 2)\n",
    "hydrograph.q_sim.plot(ax=ax1)\n",
    "storage.Snow.plot(ax=ax2)"
   ]
  },
  {
   "cell_type": "markdown",
   "source": [
    "One of the advantage of working with `xarray` objects is that it makes time series analysis extremely useful. Computing monthly maxima or climatological means can be done with one-liners."
   ],
   "metadata": {
    "collapsed": false
   }
  },
  {
   "cell_type": "code",
   "execution_count": 6,
   "metadata": {
    "pycharm": {
     "name": "#%%\n"
    }
   },
   "outputs": [
    {
     "name": "stdout",
     "output_type": "stream",
     "text": [
      "Max:  <xarray.DataArray 'q_sim' ()>\n",
      "array(89.92282654)\n",
      "Mean:  <xarray.DataArray 'q_sim' ()>\n",
      "array(24.68315955)\n",
      "Monthly means:  <xarray.DataArray 'q_sim' (month: 12, nbasins: 1)>\n",
      "array([[14.51757387],\n",
      "       [11.47384701],\n",
      "       [10.07247867],\n",
      "       [20.42010176],\n",
      "       [24.37541489],\n",
      "       [22.55812621],\n",
      "       [23.56102364],\n",
      "       [25.3008606 ],\n",
      "       [28.72388591],\n",
      "       [34.377813  ],\n",
      "       [46.44695716],\n",
      "       [34.09486238]])\n",
      "Coordinates:\n",
      "    basin_name  (nbasins) object ...\n",
      "  * month       (month) int64 1 2 3 4 5 6 7 8 9 10 11 12\n",
      "Dimensions without coordinates: nbasins\n"
     ]
    }
   ],
   "source": [
    "# Monthly maxima\n",
    "mm = hydrograph.q_sim.resample(time=\"M\").max()\n",
    "\n",
    "# Climatological monthly means\n",
    "hydrograph.q_sim.groupby('time.month').mean(dim='time')"
   ]
  },
  {
   "cell_type": "markdown",
   "source": [
    "To run simulations with other emulated models, simply call one of these functions:\n",
    " - `raven_hbv_ec` (21 parameters)\n",
    " - `raven_hmets` (21 parameters)\n",
    " - `raven_mohyse` (10 parameters)\n",
    "\n",
    "The docstring for each of these functions includes the name of expected model parameters.\n",
    "\n",
    "## Server-side analysis\n",
    "\n",
    "In the previous example, we downloaded the simulation results locally to compute means and plots the results. Another option is to keep the results on the server and use them as inputs to other analytical processes. In the next example, we're reusing the URL for the simulation outputs to launch a process computing objective functions. First, let's get the URLs for the simulation results."
   ],
   "metadata": {
    "collapsed": false,
    "pycharm": {
     "name": "#%% md\n"
    }
   }
  },
  {
   "cell_type": "code",
   "execution_count": null,
   "outputs": [],
   "source": [
    "links = resp.get(asobj=False)\n",
    "[hydrograph_url, storage_url, solution_url, diagnostics_url, rv_url] = links\n",
    "\n",
    "# The `objective_function` computes from 1 to 17 objective functions.\n",
    "resp_objfunc = wps.objective_function(obs=hydrograph_url, sim=hydrograph_url, name='agreementindex')\n",
    "results = resp_objfunc.get(asobj=True)\n",
    "print(results.metrics)"
   ],
   "metadata": {
    "collapsed": false,
    "pycharm": {
     "name": "#%%\n"
    }
   }
  },
  {
   "cell_type": "markdown",
   "source": [
    "Now that we have numerical values for the goodness-of-fit, let's perform a visual inspection."
   ],
   "metadata": {
    "collapsed": false
   }
  },
  {
   "cell_type": "code",
   "execution_count": null,
   "outputs": [],
   "source": [
    "# Call the objective function graphing wps while sending the hydrograph as input, which includes 'q_sim' and 'q_obs'\n",
    "resp_graph = wps.graph_objective_function_fit(sims=hydrograph)\n",
    "[graph_objfun_fit, graph_objfun_annual_fit] = resp_graph.get(asobj=True)\n",
    "\n",
    "# The `graph_objfun_fit` object is a figure that the notebook will automatically display.\n",
    "graph_objfun_fit"
   ],
   "metadata": {
    "collapsed": false,
    "pycharm": {
     "name": "#%%\n"
    }
   }
  }
 ],
 "metadata": {
  "kernelspec": {
   "display_name": "Python 3",
   "language": "python",
   "name": "python3"
  },
  "language_info": {
   "codemirror_mode": {
    "name": "ipython",
    "version": 3
   },
   "file_extension": ".py",
   "mimetype": "text/x-python",
   "name": "python",
   "nbconvert_exporter": "python",
   "pygments_lexer": "ipython3",
   "version": "3.6.7"
  }
 },
 "nbformat": 4,
 "nbformat_minor": 1
}