{
 "cells": [
  {
   "cell_type": "markdown",
   "id": "integrated-martin",
   "metadata": {},
   "source": [
    "# Compute the risk of flooding from a threshold extracted form a frequency analysis of observed data\n",
    "\n",
    "In this notebook, we combine the forecasting abilities and the time series analysis capabilities in a single seamless process to estimate the flood risk of a probabilisitc forecast. We first perform a frequency analysis on the observed data and extract the streamflow associated to a 2-year return period (this is user-adjustable). \n",
    "\n",
    "We then perform a climatological ESP forecast (to ensure repeatability, but a realtime forecast would work too!) and estimate the probability of flooding (exceeding the threshold) given the ensemble of members in the probabilisitc forecast."
   ]
  },
  {
   "cell_type": "code",
   "execution_count": null,
   "id": "false-penny",
   "metadata": {},
   "outputs": [],
   "source": [
    "# This entire section is cookie-cutter template to allow calling the servers and instantiating the connection\n",
    "# to the WPS server. Do not modify this block.\n",
    "%matplotlib inline\n",
    "\n",
    "from birdy import WPSClient\n",
    "from ravenpy.utilities.testdata import get_file\n",
    "import os\n",
    "import xarray as xr\n",
    "from urllib.request import urlretrieve\n",
    "from pathlib import Path\n",
    "import datetime as dt\n",
    "import tempfile\n",
    "\n",
    "# Set environment variable WPS_URL to \"http://localhost:9099\" to run on the default local server\n",
    "url = os.environ.get(\"FINCH_WPS_URL\", \"https://pavics.ouranos.ca/twitcher/ows/proxy/finch/wps\")\n",
    "wps = WPSClient(url)"
   ]
  },
  {
   "cell_type": "markdown",
   "id": "lucky-sheet",
   "metadata": {},
   "source": [
    "Perform the time series analysis on observed data for the catchment using the frequency analysis WPS capabilities."
   ]
  },
  {
   "cell_type": "code",
   "execution_count": null,
   "id": "scenic-space",
   "metadata": {},
   "outputs": [],
   "source": [
    "# Get the data that we will be using for the demonstration.\n",
    "fn = '/home/ets/src/raven-testdata/raven-gr4j-cemaneige/Salmon-River-Near-Prince-George_meteo_daily.nc'\n",
    "\n",
    "# Perform the frequency analysis for various return periods. We compute 2, 5, 10, 25, 50 and 100 year return\n",
    "# periods, but later on we will only compare the forecasts to the 2 year return period.\n",
    "resp_fa2 = wps.freq_analysis(fn, variable='qobs', mode='max', t=(2, 5, 10, 25, 50, 100), dist='gumbel_r')\n",
    "out, log, meta = resp_fa2.get(asobj=True)\n",
    "\n",
    "# Plot the results of the flows as a function of return period.\n",
    "out.q1maxannual.plot()"
   ]
  },
  {
   "cell_type": "markdown",
   "id": "celtic-might",
   "metadata": {},
   "source": [
    "### Now, let's do the probabilistic forecast.\n",
    "Here we will connect to the WPS server that performs hydrological modelling and forecasting."
   ]
  },
  {
   "cell_type": "code",
   "execution_count": null,
   "id": "bronze-advertising",
   "metadata": {},
   "outputs": [],
   "source": [
    "# Boilerplate, please ignore this\n",
    "url = os.environ.get(\"WPS_URL\", \"https://pavics.ouranos.ca/twitcher/ows/proxy/raven/wps\")\n",
    "wps = WPSClient(url)\n",
    "tmp = Path(tempfile.mkdtemp())"
   ]
  },
  {
   "cell_type": "code",
   "execution_count": null,
   "id": "private-enzyme",
   "metadata": {},
   "outputs": [],
   "source": [
    "# Define some of the catchment properties. Could also be replaced by a call to the properties WPS.\n",
    "basin_area = 4523.5\n",
    "basin_longitude = -72.55\n",
    "basin_latitude = 48.39\n",
    "basin_elevation= 300.0\n",
    "\n",
    "# Choose a hydrological model to use. We have 'HMETS', 'GR4JCN','MOHYSE' and 'HBVEC'.\n",
    "hydromodel = 'GR4JCN'\n",
    "\n",
    "# Since we've used GR4JCN, we need to provide that model's parameters.\n",
    "model_parameters = '0.529, -3.396, 157.29, 1.072, 16.9, 0.947'\n",
    "\n",
    "# Choose the forecast date. Each forecast will start with the same day and month. \n",
    "# For example, jan-05-2001 will compare the climatology using all jan-05ths from the dataset)\n",
    "fdate = dt.datetime(2003, 4, 13)\n",
    "\n",
    "# The dataset to use to get the forecast timeseries:\n",
    "ts = str(get_file(\"raven-gr4j-cemaneige/Salmon-River-Near-Prince-George_meteo_daily.nc\"))\n",
    "duration = 30  # Length in days of the climatological ESP forecast\n",
    "\n",
    "# Launch the climatology ESP on the remote server\n",
    "resp = wps.climatology_esp(fdate, \n",
    "                           model_parameters, \n",
    "                           ts, \n",
    "                           basin_latitude, \n",
    "                           basin_longitude,\n",
    "                           hydromodel, \n",
    "                           basin_elevation, \n",
    "                           duration,\n",
    "                           name='test_basin',\n",
    "                           area=basin_area)\n",
    "\n",
    "# Get the link to the forecast file, that will be used to compute the flood risk for this particular event.\n",
    "[forecast_url] = resp.get(asobj=False)"
   ]
  },
  {
   "cell_type": "code",
   "execution_count": null,
   "id": "female-recognition",
   "metadata": {},
   "outputs": [],
   "source": [
    "# Now compute the flood risk given the probabilistic forecast and the threshold associated to the 2-year return\n",
    "# period.\n",
    "\n",
    "# Get 2-year return period from the frequency analysis\n",
    "threshold=out.sel(return_period=2).q1maxannual.values\n",
    "\n",
    "# Run the flood forecast WPS to extract the probability of exceedance\n",
    "resp_floodrisk=wps.forecast_floodrisk(fcst=forecast_url, name='q_sim', flood_level=threshold)\n",
    "[flood_risk] = resp_floodrisk.get(asobj=True)\n",
    "\n",
    "# Extract the data and plot\n",
    "flood_risk.q_sim.plot()"
   ]
  },
  {
   "cell_type": "markdown",
   "id": "colored-taylor",
   "metadata": {},
   "source": [
    "### Results analysis\n",
    "We can see from the above figure that there is a small risk of exceeding the 2-year return period for a set of dates during the forecast."
   ]
  }
 ],
 "metadata": {
  "kernelspec": {
   "display_name": "Python 3",
   "language": "python",
   "name": "python3"
  },
  "language_info": {
   "codemirror_mode": {
    "name": "ipython",
    "version": 3
   },
   "file_extension": ".py",
   "mimetype": "text/x-python",
   "name": "python",
   "nbconvert_exporter": "python",
   "pygments_lexer": "ipython3",
   "version": "3.8.5"
  }
 },
 "nbformat": 4,
 "nbformat_minor": 5
}
