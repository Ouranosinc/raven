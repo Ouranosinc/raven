{
 "cells": [
  {
   "cell_type": "markdown",
   "metadata": {},
   "source": [
    "# Running RAVEN on a multi-basin NetCDF file in parallel\n",
    "\n",
    "Here we use birdy's WPS client to launch the GR4JCN hydrological model on the server for 2 basins in parallel. The NetCDF is thus a 2d file. We then analyze the outputs. "
   ]
  },
  {
   "cell_type": "code",
   "execution_count": 1,
   "metadata": {},
   "outputs": [],
   "source": [
    "#Import necessary packages and start the service \n",
    "from birdy import WPSClient\n",
    "\n",
    "from example_data import TESTDATA\n",
    "import datetime as dt\n",
    "from urllib.request import urlretrieve\n",
    "import xarray as xr\n",
    "import numpy as np\n",
    "from matplotlib import pyplot as plt\n",
    "\n",
    "url = \"http://localhost:9099/wps\"\n",
    "wps = WPSClient(url)"
   ]
  },
  {
   "cell_type": "code",
   "execution_count": 2,
   "metadata": {},
   "outputs": [
    {
     "data": {
      "text/plain": [
       "PosixPath('/home/david/src/raven/tests/testdata/input2d/input2d.nc')"
      ]
     },
     "execution_count": 2,
     "metadata": {},
     "output_type": "execute_result"
    }
   ],
   "source": [
    "TESTDATA['input2d']"
   ]
  },
  {
   "cell_type": "code",
   "execution_count": 3,
   "metadata": {
    "scrolled": true
   },
   "outputs": [
    {
     "ename": "TypeError",
     "evalue": "raven_gr4j_cemaneige() got an unexpected keyword argument 'nc_index'",
     "output_type": "error",
     "traceback": [
      "\u001b[0;31m---------------------------------------------------------------------------\u001b[0m",
      "\u001b[0;31mTypeError\u001b[0m                                 Traceback (most recent call last)",
      "\u001b[0;32m<ipython-input-3-db05841c9d82>\u001b[0m in \u001b[0;36m<module>\u001b[0;34m()\u001b[0m\n\u001b[1;32m     29\u001b[0m \u001b[0;34m\u001b[0m\u001b[0m\n\u001b[1;32m     30\u001b[0m \u001b[0;31m# Launch the WPS to get the multi-model results.  Note the \"gr4jcn\" and \"hmets\" keys.\u001b[0m\u001b[0;34m\u001b[0m\u001b[0;34m\u001b[0m\u001b[0m\n\u001b[0;32m---> 31\u001b[0;31m \u001b[0mresp\u001b[0m\u001b[0;34m=\u001b[0m\u001b[0mwps\u001b[0m\u001b[0;34m.\u001b[0m\u001b[0mraven_gr4j_cemaneige\u001b[0m\u001b[0;34m(\u001b[0m\u001b[0mts\u001b[0m\u001b[0;34m=\u001b[0m\u001b[0mstr\u001b[0m\u001b[0;34m(\u001b[0m\u001b[0mts\u001b[0m\u001b[0;34m)\u001b[0m\u001b[0;34m,\u001b[0m\u001b[0mparams\u001b[0m\u001b[0;34m=\u001b[0m\u001b[0mparams\u001b[0m\u001b[0;34m,\u001b[0m \u001b[0;34m**\u001b[0m\u001b[0mconfig\u001b[0m\u001b[0;34m)\u001b[0m\u001b[0;34m\u001b[0m\u001b[0m\n\u001b[0m\u001b[1;32m     32\u001b[0m \u001b[0;34m\u001b[0m\u001b[0m\n\u001b[1;32m     33\u001b[0m \u001b[0;31m# And get the response\u001b[0m\u001b[0;34m\u001b[0m\u001b[0;34m\u001b[0m\u001b[0m\n",
      "\u001b[0;31mTypeError\u001b[0m: raven_gr4j_cemaneige() got an unexpected keyword argument 'nc_index'"
     ]
    }
   ],
   "source": [
    "# The model parameters for gr4jcn for both catchments. Can either be a string of comma separated values, a list, an array or a named tuple. \n",
    "gr4jcn1 ='0.529, -3.396, 407.29, 1.072, 16.9, 0.947'\n",
    "gr4jcn2 ='0.28, -3.6, 380.9, 1.092, 14.6, 0.831'\n",
    "\n",
    "params=[gr4jcn1,gr4jcn2]\n",
    "\n",
    "# Forcing files. Raven uses the same forcing files for all and extracts the information it requires for each model.\n",
    "ts=TESTDATA['input2d']\n",
    "\n",
    "# Model configuration parameters.\n",
    "config = dict(\n",
    "    start_date=[dt.datetime(2000, 1, 1),dt.datetime(2000, 1, 1)],\n",
    "    end_date=[dt.datetime(2002, 1, 1),dt.datetime(2002, 1, 1)],\n",
    "    area=[4250.6,5000],\n",
    "    elevation=[843.0,780],\n",
    "    latitude=[54.4848,48.0],\n",
    "    longitude=[-123.3659,-122.99],\n",
    "    nc_index=[0,1],\n",
    "    )\n",
    "\n",
    "\n",
    "# This does not work. ERROR:\n",
    "# \"If there are multiple stations in NetCDF file, the StationIdx argument must be given ...\n",
    "# (numbering starts with 1) to identify station that should be read in\"\n",
    "#\n",
    "# However, not able to pass nc_index to the WPS, while the test_emulators parallel_basins test does (and works).\n",
    "# Also unsure how to also pass multiple area, elevation, latitude, parameter sets, etc.\n",
    "\n",
    "\n",
    "# Launch the WPS to get the multi-model results.  Note the \"gr4jcn\" and \"hmets\" keys.\n",
    "resp=wps.raven_gr4j_cemaneige(ts=str(ts),params=params, **config) \n",
    "\n",
    "# And get the response\n",
    "# With `asobj` set to False, only the reference to the output is returned in the response. \n",
    "# Setting `asobj` to True will retrieve the actual files and copy the locally. \n",
    "[hydrograph, storage, solution, diagnostics] = resp.get(asobj=True)"
   ]
  },
  {
   "cell_type": "markdown",
   "metadata": {},
   "source": [
    "# Here the code crashes on my instance with Errno:\n",
    "[Errno -51] NetCDF: Unknown file format: b'/tmp/tmp77v34gl4'\n",
    "\n",
    "Perhaps the NetCDF reader is not working well? Xarray should be installed. Need to verify please."
   ]
  },
  {
   "cell_type": "code",
   "execution_count": 4,
   "metadata": {},
   "outputs": [
    {
     "name": "stdout",
     "output_type": "stream",
     "text": [
      "observed data series,filename,DIAG_NASH_SUTCLIFFE,DIAG_RMSE,\n",
      "HYDROGRAPH,/tmp/pywps_process_39kh34_n/Salmon-River-Near-Prince-George_meteo_daily.nc,-0.130318,38.1697,\n",
      "\n"
     ]
    }
   ],
   "source": [
    "print(diagnostics)"
   ]
  },
  {
   "cell_type": "markdown",
   "metadata": {},
   "source": [
    "The `hydrograph` and `storage` outputs are netCDF files storing the time series. These files are opened by default using `xarray`, which provides convenient and powerful time series analysis and plotting tools. "
   ]
  },
  {
   "cell_type": "code",
   "execution_count": 5,
   "metadata": {},
   "outputs": [
    {
     "data": {
      "text/plain": [
       "<xarray.DataArray 'q_sim' (time: 732, nbasins: 1)>\n",
       "array([[ 0.      ],\n",
       "       [ 0.165788],\n",
       "       [ 0.559366],\n",
       "       ...,\n",
       "       [12.658797],\n",
       "       [12.58713 ],\n",
       "       [12.516335]])\n",
       "Coordinates:\n",
       "  * time        (time) datetime64[ns] 2000-01-01 2000-01-02 ... 2002-01-01\n",
       "    basin_name  (nbasins) object ...\n",
       "Dimensions without coordinates: nbasins\n",
       "Attributes:\n",
       "    units:      m**3 s**-1\n",
       "    long_name:  Simulated outflows"
      ]
     },
     "execution_count": 5,
     "metadata": {},
     "output_type": "execute_result"
    }
   ],
   "source": [
    "hydrograph.q_sim"
   ]
  },
  {
   "cell_type": "code",
   "execution_count": 6,
   "metadata": {},
   "outputs": [
    {
     "name": "stderr",
     "output_type": "stream",
     "text": [
      "/home/ets/miniconda3/lib/python3.7/site-packages/pandas/plotting/_converter.py:129: FutureWarning: Using an implicitly registered datetime converter for a matplotlib plotting method. The converter was registered by pandas on import. Future versions of pandas will require you to explicitly register matplotlib converters.\n",
      "\n",
      "To register the converters:\n",
      "\t>>> from pandas.plotting import register_matplotlib_converters\n",
      "\t>>> register_matplotlib_converters()\n",
      "  warnings.warn(msg, FutureWarning)\n"
     ]
    },
    {
     "data": {
      "text/plain": [
       "[<matplotlib.lines.Line2D at 0x7faeebc74d30>]"
      ]
     },
     "execution_count": 6,
     "metadata": {},
     "output_type": "execute_result"
    },
    {
     "data": {
      "image/png": "[encoded data removed]",
      "text/plain": [
       "<Figure size 432x288 with 1 Axes>"
      ]
     },
     "metadata": {
      "needs_background": "light"
     },
     "output_type": "display_data"
    }
   ],
   "source": [
    "hydrograph.q_sim.plot()"
   ]
  },
  {
   "cell_type": "code",
   "execution_count": 7,
   "metadata": {},
   "outputs": [
    {
     "name": "stdout",
     "output_type": "stream",
     "text": [
      "Max:  <xarray.DataArray 'q_sim' ()>\n",
      "array(60.536834)\n",
      "Mean:  <xarray.DataArray 'q_sim' ()>\n",
      "array(11.251376)\n",
      "Monthly means:  <xarray.DataArray 'q_sim' (month: 12)>\n",
      "array([ 6.511195,  5.870528,  5.666036, 13.566574, 15.296804, 14.211829,\n",
      "       12.746626, 11.378493, 10.235438, 11.298539, 14.896149, 13.235802])\n",
      "Coordinates:\n",
      "  * month    (month) int64 1 2 3 4 5 6 7 8 9 10 11 12\n"
     ]
    },
    {
     "name": "stderr",
     "output_type": "stream",
     "text": [
      "/home/ets/miniconda3/lib/python3.7/site-packages/xarray/core/groupby.py:631: FutureWarning: Default reduction dimension will be changed to the grouped dimension after xarray 0.12. To silence this warning, pass dim=xarray.ALL_DIMS explicitly.\n",
      "  skipna=skipna, allow_lazy=True, **kwargs)\n"
     ]
    }
   ],
   "source": [
    "print(\"Max: \", hydrograph.q_sim.max())\n",
    "print(\"Mean: \", hydrograph.q_sim.mean())\n",
    "print(\"Monthly means: \", hydrograph.q_sim.groupby('time.month').mean())"
   ]
  },
  {
   "cell_type": "code",
   "execution_count": null,
   "metadata": {},
   "outputs": [],
   "source": []
  }
 ],
 "metadata": {
  "kernelspec": {
   "display_name": "Python 3",
   "language": "python",
   "name": "python3"
  },
  "language_info": {
   "codemirror_mode": {
    "name": "ipython",
    "version": 3
   },
   "file_extension": ".py",
   "mimetype": "text/x-python",
   "name": "python",
   "nbconvert_exporter": "python",
   "pygments_lexer": "ipython3",
   "version": "3.6.3"
  }
 },
 "nbformat": 4,
 "nbformat_minor": 1
}
