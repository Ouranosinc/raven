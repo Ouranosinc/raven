{
 "cells": [
  {
   "cell_type": "markdown",
   "metadata": {},
   "source": [
    "# Running RAVEN on a multi-basin NetCDF file in parallel\n",
    "\n",
    "Here we use birdy's WPS client to launch the GR4JCN hydrological model on the server for 2 basins in parallel. The NetCDF is thus a 2d file. We then analyze the outputs. "
   ]
  },
  {
   "cell_type": "code",
   "execution_count": 1,
   "metadata": {},
   "outputs": [],
   "source": [
    "#Import necessary packages and start the service \n",
    "from birdy import WPSClient\n",
    "\n",
    "from example_data import TESTDATA\n",
    "import datetime as dt\n",
    "from urllib.request import urlretrieve\n",
    "import xarray as xr\n",
    "import numpy as np\n",
    "from matplotlib import pyplot as plt\n",
    "\n",
    "# url = \"http://localhost:9099/wps\"\n",
    "url = \"https://pavics.ouranos.ca/twitcher/ows/proxy/raven/wps\"\n",
    "wps = WPSClient(url)"
   ]
  },
  {
   "cell_type": "code",
   "execution_count": 2,
   "metadata": {
    "scrolled": true
   },
   "outputs": [
    {
     "ename": "XMLSyntaxError",
     "evalue": "Opening and ending tag mismatch: hr line 5 and body, line 6, column 8 (<string>, line 6)",
     "output_type": "error",
     "traceback": [
      "Traceback \u001b[0;36m(most recent call last)\u001b[0m:\n",
      "  File \u001b[1;32m\"/home/david/.conda/envs/birdy/lib/python3.6/site-packages/IPython/core/interactiveshell.py\"\u001b[0m, line \u001b[1;32m2963\u001b[0m, in \u001b[1;35mrun_code\u001b[0m\n    exec(code_obj, self.user_global_ns, self.user_ns)\n",
      "  File \u001b[1;32m\"<ipython-input-2-4a14f11d6da0>\"\u001b[0m, line \u001b[1;32m22\u001b[0m, in \u001b[1;35m<module>\u001b[0m\n    resp=wps.raven_gr4j_cemaneige(ts=str(ts),params=params, **config)\n",
      "  File \u001b[1;32m\"</home/david/src/birdy/birdy/client/base.py-3>\"\u001b[0m, line \u001b[1;32m45\u001b[0m, in \u001b[1;35mraven_gr4j_cemaneige\u001b[0m\n",
      "  File \u001b[1;32m\"/home/david/src/birdy/birdy/client/base.py\"\u001b[0m, line \u001b[1;32m277\u001b[0m, in \u001b[1;35m_execute\u001b[0m\n    pid, inputs=wps_inputs, output=wps_outputs, mode=mode\n",
      "  File \u001b[1;32m\"/home/david/src/OWSLib/owslib/wps.py\"\u001b[0m, line \u001b[1;32m336\u001b[0m, in \u001b[1;35mexecute\u001b[0m\n    response = execution.submitRequest(request)\n",
      "  File \u001b[1;32m\"/home/david/src/OWSLib/owslib/wps.py\"\u001b[0m, line \u001b[1;32m869\u001b[0m, in \u001b[1;35msubmitRequest\u001b[0m\n    headers=self.headers, verify=self.verify, cert=self.cert)\n",
      "  File \u001b[1;32m\"/home/david/src/OWSLib/owslib/wps.py\"\u001b[0m, line \u001b[1;32m565\u001b[0m, in \u001b[1;35mreadFromUrl\u001b[0m\n    headers=headers, verify=verify, cert=cert)\n",
      "  File \u001b[1;32m\"/home/david/src/OWSLib/owslib/wps.py\"\u001b[0m, line \u001b[1;32m476\u001b[0m, in \u001b[1;35m_readFromUrl\u001b[0m\n    return etree.fromstring(u.read())\n",
      "  File \u001b[1;32m\"src/lxml/etree.pyx\"\u001b[0m, line \u001b[1;32m3213\u001b[0m, in \u001b[1;35mlxml.etree.fromstring\u001b[0m\n",
      "  File \u001b[1;32m\"src/lxml/parser.pxi\"\u001b[0m, line \u001b[1;32m1876\u001b[0m, in \u001b[1;35mlxml.etree._parseMemoryDocument\u001b[0m\n",
      "  File \u001b[1;32m\"src/lxml/parser.pxi\"\u001b[0m, line \u001b[1;32m1764\u001b[0m, in \u001b[1;35mlxml.etree._parseDoc\u001b[0m\n",
      "  File \u001b[1;32m\"src/lxml/parser.pxi\"\u001b[0m, line \u001b[1;32m1126\u001b[0m, in \u001b[1;35mlxml.etree._BaseParser._parseDoc\u001b[0m\n",
      "  File \u001b[1;32m\"src/lxml/parser.pxi\"\u001b[0m, line \u001b[1;32m600\u001b[0m, in \u001b[1;35mlxml.etree._ParserContext._handleParseResultDoc\u001b[0m\n",
      "  File \u001b[1;32m\"src/lxml/parser.pxi\"\u001b[0m, line \u001b[1;32m710\u001b[0m, in \u001b[1;35mlxml.etree._handleParseResult\u001b[0m\n",
      "\u001b[0;36m  File \u001b[0;32m\"src/lxml/parser.pxi\"\u001b[0;36m, line \u001b[0;32m639\u001b[0;36m, in \u001b[0;35mlxml.etree._raiseParseError\u001b[0;36m\u001b[0m\n",
      "\u001b[0;36m  File \u001b[0;32m\"<string>\"\u001b[0;36m, line \u001b[0;32m6\u001b[0m\n\u001b[0;31mXMLSyntaxError\u001b[0m\u001b[0;31m:\u001b[0m Opening and ending tag mismatch: hr line 5 and body, line 6, column 8\n"
     ]
    }
   ],
   "source": [
    "# The model parameters for gr4jcn for both catchments. Can either be a string of comma separated values, a list, an array or a named tuple. \n",
    "gr4jcn1 ='0.529, -3.396, 407.29, 1.072, 16.9, 0.947'\n",
    "gr4jcn2 ='0.28, -3.6, 380.9, 1.092, 14.6, 0.831'\n",
    "\n",
    "params=[gr4jcn1,gr4jcn2]\n",
    "\n",
    "# Forcing files. Raven uses the same forcing files for all and extracts the information it requires for each model.\n",
    "ts=TESTDATA['input2d']\n",
    "\n",
    "# Model configuration parameters.\n",
    "config = dict(\n",
    "    start_date=[dt.datetime(2000, 1, 1),dt.datetime(2000, 1, 1)],\n",
    "    end_date=[dt.datetime(2002, 1, 1),dt.datetime(2002, 1, 1)],\n",
    "    area=[4250.6,5000],\n",
    "    elevation=[843.0,780],\n",
    "    latitude=[54.4848,48.0],\n",
    "    longitude=[-123.3659,-122.99],\n",
    "    nc_index=[0,0],\n",
    "    )\n",
    "\n",
    "# Launch the WPS to get the multi-model results.  Note the \"gr4jcn\" and \"hmets\" keys.\n",
    "resp=wps.raven_gr4j_cemaneige(ts=str(ts),params=params, **config) \n",
    "\n",
    "# And get the response\n",
    "# With `asobj` set to False, only the reference to the output is returned in the response. \n",
    "# Setting `asobj` to True will retrieve the actual files and copy the locally. \n",
    "[hydrograph, storage, solution, diagnostics] = resp.get(asobj=True)"
   ]
  },
  {
   "cell_type": "code",
   "execution_count": null,
   "metadata": {},
   "outputs": [],
   "source": [
    "# Print the diagnostics for both catchments\n",
    "print(diagnostics)"
   ]
  },
  {
   "cell_type": "markdown",
   "metadata": {},
   "source": [
    "The `hydrograph` and `storage` outputs are netCDF files storing the time series. These files are opened by default using `xarray`, which provides convenient and powerful time series analysis and plotting tools. "
   ]
  },
  {
   "cell_type": "code",
   "execution_count": null,
   "metadata": {},
   "outputs": [],
   "source": [
    "# Plot the hydrographs for both basins\n",
    "hydrograph.q_sim.isel(nbasins=0).plot.line(hue='realization')\n",
    "hydrograph.q_sim.isel(nbasins=1).plot.line(hue='realization')"
   ]
  },
  {
   "cell_type": "code",
   "execution_count": null,
   "metadata": {},
   "outputs": [],
   "source": []
  }
 ],
 "metadata": {
  "kernelspec": {
   "display_name": "Python 3",
   "language": "python",
   "name": "python3"
  },
  "language_info": {
   "codemirror_mode": {
    "name": "ipython",
    "version": 3
   },
   "file_extension": ".py",
   "mimetype": "text/x-python",
   "name": "python",
   "nbconvert_exporter": "python",
   "pygments_lexer": "ipython3",
   "version": "3.6.3"
  }
 },
 "nbformat": 4,
 "nbformat_minor": 1
}
