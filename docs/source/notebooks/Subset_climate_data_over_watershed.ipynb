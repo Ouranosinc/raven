{
 "cells": [
  {
   "cell_type": "markdown",
   "metadata": {},
   "source": [
    "# Subsetting climate variables over a watershed\n",
    "\n",
    "Hydrological models are driven by precipitation, temperature and a number of other variables depending on the processes that are simulated. These variables are typically provided by networks of weather stations. For practicality, these point values are often interpolated over space to create *gridded products*, that is, arrays of climate variables over regular coordinates of time and space.\n",
    "\n",
    "Global hydrological models however require time series of average climate variables over the entire watersheds. When the watershed includes multiples stations, or covers multiple grid cells, we first need to average these multiple stations or grids to yield a single value per time step. The Raven modeling framework can work directly with gridded datasets, provided the configuration includes the weights to apply to the array. For example, all grid cells outside of the watershed could be given weights of 0, while all grid cells inside given a weight proportional to the area of the grid that is inside the watershed.\n",
    "\n",
    "The Python wrapper does not however support the automatic creation of these grid weights. In the mean time, to use gridded products to drive Raven model simulations, we first need to subset and average gridded data over the watershed. Here we use the processes from two PAVICS services to extract the contour of a watershed and use it to average a gridded dataset: the raven server extracts the watershed contour, and the flyingpigeon server does the subsetting and averaging."
   ]
  },
  {
   "cell_type": "code",
   "execution_count": 13,
   "metadata": {},
   "outputs": [],
   "source": [
    "# Import the necessary libraries.\n",
    "\n",
    "%matplotlib inline\n",
    "import os\n",
    "\n",
    "import birdy\n",
    "import matplotlib.pyplot as plt\n",
    "import geopandas as gpd\n",
    "import shapely.geometry as sgeo\n",
    "from ravenpy.utilities.testdata import get_file"
   ]
  },
  {
   "cell_type": "code",
   "execution_count": 2,
   "metadata": {},
   "outputs": [],
   "source": [
    "# Set the links to the remote servers. If you run these services locally, the default ports that the WPS services are mapped to are 9099 for Raven and 8093 for Flyingpigeon, that is:\n",
    "# Local Raven URL: http://localhost:9099/wps\n",
    "# Local Flyingpigeon URL: http://localhost:8093/wps\n",
    "\n",
    "# Links to the remote servers\n",
    "url_flyingpigeon = os.environ.get(\"FLYINGPIGEON_WPS_URL\", \"https://pavics.ouranos.ca/twitcher/ows/proxy/flyingpigeon/wps\")\n",
    "\n",
    "url_raven = os.environ.get(\"WPS_URL\", \"https://pavics.ouranos.ca/twitcher/ows/proxy/raven/wps\")\n",
    "\n",
    "# Establish client connexions to the remote servers\n",
    "raven = birdy.WPSClient(url_raven) #, progress=True)\n",
    "fp = birdy.WPSClient(url_flyingpigeon) # , progress=True)"
   ]
  },
  {
   "cell_type": "markdown",
   "metadata": {},
   "source": [
    "## Extracting the watershed countour and sub-basins identifiers\n",
    "\n",
    "Let's consider trying to identify a sub-basin and all the upstream basins that flow into Lac Mistassini (Rupert Watershed) of Northern Quebec. Lac Mistassini is roughly found at 51.0 North, 73.621 West.\n",
    "\n",
    "We'll start by launching a process with Raven to find the upstream watersheds. The process, called `hydrobasins_select`, takes as an input geographical point coordinates, finds the HydroSheds sub-basin including this point, then looks up into the HydroSheds database to find all upstream sub-basins. It returns the polygon of the watershed contour as a GeoJSON file, as well as a list of all the sub-basins IDs within the watershed."
   ]
  },
  {
   "cell_type": "code",
   "execution_count": 3,
   "metadata": {},
   "outputs": [],
   "source": [
    "# Send a request to the server and get the response.\n",
    "hydrobasin_resp = raven.hydrobasins_select(\n",
    "    location=\"-73.621, 51.000\", aggregate_upstream=True)\n",
    "\n",
    "# Wait for the process to complete before continuing with calculations."
   ]
  },
  {
   "cell_type": "code",
   "execution_count": 31,
   "metadata": {},
   "outputs": [],
   "source": [
    "# Collecting the response: the watershed contour and the sub-basins ids\n",
    "feature, sb_ids = hydrobasin_resp.get(asobj=True)"
   ]
  },
  {
   "cell_type": "code",
   "execution_count": 34,
   "metadata": {},
   "outputs": [
    {
     "data": {
      "text/plain": [
       "'Number of subbasins: 325'"
      ]
     },
     "metadata": {},
     "output_type": "display_data"
    },
    {
     "data": {
      "image/png": "[encoded data removed]",
      "text/plain": [
       "<Figure size 432x288 with 1 Axes>"
      ]
     },
     "metadata": {
      "needs_background": "light"
     },
     "output_type": "display_data"
    }
   ],
   "source": [
    "# Plot our vector shapefile\n",
    "df = gpd.GeoDataFrame.from_features([feature])\n",
    "df.plot()\n",
    "\n",
    "display(f\"Number of subbasins: {len(sb_ids)}\")"
   ]
  },
  {
   "cell_type": "markdown",
   "metadata": {},
   "source": [
    "## Subsetting a gridded climate dataset\n",
    "\n",
    "The upstream IDs uniquely identify individual features within the \"Hydrobasin\" database, which is hosted on the PAVICS GeoServer instance. The process called `subset_wfs_polygon` is precisely meant to subset netCDF files based on features served through the WFS protocol, which is supported by GeoServer. What we are essentially doing is telling the process to grab the polygon from the GeoServer, and use it to subset a gridded data product. \n",
    "\n",
    "Note that due to a size limit on HTTP GET requests, passing a large number of subbasin ids will fail. We are working on this, and in the following, are only using 2 subbasins instead of the 325 identified."
   ]
  },
  {
   "cell_type": "code",
   "execution_count": 25,
   "metadata": {},
   "outputs": [
    {
     "name": "stdout",
     "output_type": "stream",
     "text": [
      " owslib.wps.WPSException : {'code': 'NoApplicableCode', 'locator': 'None', 'text': 'Process failed, please check server error log'}\n"
     ]
    }
   ],
   "source": [
    "# NBVAL_SKIP\n",
    "\n",
    "# Address of the GeoServer where the HydroBASINS data is pulled from\n",
    "geoserver = \"https://pavics.ouranos.ca/geoserver/wfs\"\n",
    "\n",
    "# A link to a remote file or the path to a local file.\n",
    "nc_file = get_file(\"cmip5/tas_Amon_CanESM2_rcp85_r1i1p1_200601-210012_subset.nc\")\n",
    "\n",
    "# Send a request to the flyingpigeon server\n",
    "resp = fp.subset_wfs_polygon(\n",
    "    resource=nc_file.as_posix(),\n",
    "    typename=\"public:USGS_HydroBASINS_lake_na_lev12\", # The store and name of the data set\n",
    "    geoserver=geoserver, # The address of the GeoServer\n",
    "    featureids=sb_ids[:2], # The IDs of the individual features\n",
    ")"
   ]
  },
  {
   "cell_type": "code",
   "execution_count": 26,
   "metadata": {},
   "outputs": [
    {
     "ename": "ProcessFailed",
     "evalue": "Sorry, process failed.",
     "output_type": "error",
     "traceback": [
      "\u001b[0;31m---------------------------------------------------------------------------\u001b[0m",
      "\u001b[0;31mProcessFailed\u001b[0m                             Traceback (most recent call last)",
      "\u001b[0;32m<ipython-input-26-61646245907f>\u001b[0m in \u001b[0;36m<module>\u001b[0;34m\u001b[0m\n\u001b[1;32m      1\u001b[0m \u001b[0;31m# Get the output files and plot the temperature time series averaged over the sub-basins.\u001b[0m\u001b[0;34m\u001b[0m\u001b[0;34m\u001b[0m\u001b[0;34m\u001b[0m\u001b[0m\n\u001b[0;32m----> 2\u001b[0;31m \u001b[0mds\u001b[0m\u001b[0;34m,\u001b[0m \u001b[0mmeta\u001b[0m \u001b[0;34m=\u001b[0m \u001b[0mresp\u001b[0m\u001b[0;34m.\u001b[0m\u001b[0mget\u001b[0m\u001b[0;34m(\u001b[0m\u001b[0masobj\u001b[0m\u001b[0;34m=\u001b[0m\u001b[0;32mTrue\u001b[0m\u001b[0;34m)\u001b[0m\u001b[0;34m\u001b[0m\u001b[0;34m\u001b[0m\u001b[0m\n\u001b[0m\u001b[1;32m      3\u001b[0m \u001b[0mplt\u001b[0m\u001b[0;34m.\u001b[0m\u001b[0mplot\u001b[0m\u001b[0;34m(\u001b[0m\u001b[0mds\u001b[0m\u001b[0;34m.\u001b[0m\u001b[0mtas\u001b[0m\u001b[0;34m.\u001b[0m\u001b[0msqueeze\u001b[0m\u001b[0;34m(\u001b[0m\u001b[0;34m)\u001b[0m\u001b[0;34m)\u001b[0m\u001b[0;34m\u001b[0m\u001b[0;34m\u001b[0m\u001b[0m\n",
      "\u001b[0;32m~/miniconda3/envs/raven/lib/python3.8/site-packages/birdy/client/outputs.py\u001b[0m in \u001b[0;36mget\u001b[0;34m(self, asobj)\u001b[0m\n\u001b[1;32m     28\u001b[0m         \u001b[0;32mif\u001b[0m \u001b[0;32mnot\u001b[0m \u001b[0mself\u001b[0m\u001b[0;34m.\u001b[0m\u001b[0misSucceded\u001b[0m\u001b[0;34m(\u001b[0m\u001b[0;34m)\u001b[0m\u001b[0;34m:\u001b[0m\u001b[0;34m\u001b[0m\u001b[0;34m\u001b[0m\u001b[0m\n\u001b[1;32m     29\u001b[0m             \u001b[0;31m# TODO: add reason for failure\u001b[0m\u001b[0;34m\u001b[0m\u001b[0;34m\u001b[0m\u001b[0;34m\u001b[0m\u001b[0m\n\u001b[0;32m---> 30\u001b[0;31m             \u001b[0;32mraise\u001b[0m \u001b[0mProcessFailed\u001b[0m\u001b[0;34m(\u001b[0m\u001b[0;34m\"Sorry, process failed.\"\u001b[0m\u001b[0;34m)\u001b[0m\u001b[0;34m\u001b[0m\u001b[0;34m\u001b[0m\u001b[0m\n\u001b[0m\u001b[1;32m     31\u001b[0m         \u001b[0;32mreturn\u001b[0m \u001b[0mself\u001b[0m\u001b[0;34m.\u001b[0m\u001b[0m_make_output\u001b[0m\u001b[0;34m(\u001b[0m\u001b[0masobj\u001b[0m\u001b[0;34m)\u001b[0m\u001b[0;34m\u001b[0m\u001b[0;34m\u001b[0m\u001b[0m\n\u001b[1;32m     32\u001b[0m \u001b[0;34m\u001b[0m\u001b[0m\n",
      "\u001b[0;31mProcessFailed\u001b[0m: Sorry, process failed."
     ]
    }
   ],
   "source": [
    "# Get the output files and plot the temperature time series averaged over the sub-basins.\n",
    "ds, meta = resp.get(asobj=True)\n",
    "plt.plot(ds.tas.squeeze())"
   ]
  }
 ],
 "metadata": {
  "kernelspec": {
   "display_name": "Python 3",
   "language": "python",
   "name": "python3"
  },
  "language_info": {
   "codemirror_mode": {
    "name": "ipython",
    "version": 3
   },
   "file_extension": ".py",
   "mimetype": "text/x-python",
   "name": "python",
   "nbconvert_exporter": "python",
   "pygments_lexer": "ipython3",
   "version": "3.8.8"
  }
 },
 "nbformat": 4,
 "nbformat_minor": 2
}
