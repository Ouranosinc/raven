{
 "cells": [
  {
   "cell_type": "markdown",
   "metadata": {},
   "source": [
    "# Calibrating the HBV-EC hydrological model using OSTRICH on the Raven server\n",
    "\n",
    "Here we use birdy's WPS client to calibrate the HBV-E hydrological model on the server and analyze the calibrated parameter set and hydrograph. "
   ]
  },
  {
   "cell_type": "code",
   "execution_count": 1,
   "metadata": {},
   "outputs": [],
   "source": [
    "from birdy import WPSClient\n",
    "\n",
    "from example_data import TESTDATA\n",
    "import datetime as dt\n",
    "from urllib.request import urlretrieve\n",
    "import xarray as xr\n",
    "import numpy as np\n",
    "from matplotlib import pyplot as plt\n",
    "import os\n",
    "\n",
    "# Set environment variable RAVEN_WPS_URL to \"http://localhost:9099\" to run on the default local server\n",
    "url = os.environ.get(\"RAVEN_WPS_URL\", \"https://pavics.ouranos.ca/twitcher/ows/proxy/raven/wps\")\n",
    "wps = WPSClient(url)"
   ]
  },
  {
   "cell_type": "code",
   "execution_count": 2,
   "metadata": {},
   "outputs": [],
   "source": [
    "# The model parameter boundaries. Can either be a string of comma separated values, a list, an array or a named tuple. \n",
    "lowerBounds = '-3.0, 0.0, 0.0, 0.0, 0.0, 0.3, 0.0, 0.0, 0.01, 0.05, 0.01, \\\n",
    "                      0.0, 0.0, 0.0, 0.0, 0.0, 0.01, 0.0, 0.05, 0.8, 0.8'\n",
    "upperBounds = '3.0, 8.0, 8.0, 0.1, 1.0, 1.0, 7.0, 100.0, 1.0, 0.1, 6.0, 5.0, \\\n",
    "                      5.0, 0.2, 1.0, 30.0, 3.0, 2.0, 1.0, 1.5, 1.5'\n",
    "          \n",
    "# Forcing files\n",
    "ts=TESTDATA['ostrich-hbv-ec-nc-ts']\n",
    "\n",
    "# OSTRICH configuration parameters\n",
    "config = dict(\n",
    "    algorithm='DDS',\n",
    "    max_iterations=10,\n",
    "    area=4250.6,\n",
    "    elevation=843.0,\n",
    "    latitude=54.4848,\n",
    "    longitude=-123.3659,\n",
    "    lowerbounds=lowerBounds,\n",
    "    upperbounds=upperBounds,\n",
    "    start_date=dt.datetime(1954, 1, 1),\n",
    "    duration=208,\n",
    "    # Comment out the random seed to show different results!\n",
    "    random_seed=6.67408*10**-11, \n",
    "    suppress_output=False,\n",
    "    )\n",
    "\n",
    "# Let's call Ostrich with the timeseries, calibration parameters and other configuration parameters\n",
    "resp = wps.ostrich_hbv_ec(ts=str(ts), **config)\n",
    "\n",
    "# And get the response\n",
    "# With `asobj` set to False, only the reference to the output is returned in the response. \n",
    "# Setting `asobj` to True will retrieve the actual files and copy the locally. \n",
    "[calibration, hydrograph, storage, solution, diagnostics, calibparams, rv] = resp.get(asobj=True)"
   ]
  },
  {
   "cell_type": "markdown",
   "metadata": {},
   "source": [
    "Since we requested output objects, we can simply access the output objects. The dianostics is just a CSV file: "
   ]
  },
  {
   "cell_type": "code",
   "execution_count": 3,
   "metadata": {},
   "outputs": [
    {
     "name": "stdout",
     "output_type": "stream",
     "text": [
      "-0.8317931, 4.072232, 2.001574, 0.005736299, 0.09985144, 0.4422529, 3.438486, 80.55843, 0.4440133, 0.08451082, 2.814201, 0.732797, 1.119773, 0.001161223, 0.4597179, 15.45857, 1.223865, 0.4452843, 0.9492006, 0.9948123, 1.110682\n"
     ]
    }
   ],
   "source": [
    "print(calibparams)"
   ]
  },
  {
   "cell_type": "markdown",
   "metadata": {},
   "source": [
    "The `hydrograph` and `storage` outputs are netCDF files storing the time series. These files are opened by default using `xarray`, which provides convenient and powerful time series analysis and plotting tools. "
   ]
  },
  {
   "cell_type": "code",
   "execution_count": 4,
   "metadata": {},
   "outputs": [
    {
     "data": {
      "text/plain": [
       "<xarray.DataArray 'q_sim' (time: 209, nbasins: 1)>\n",
       "array([[ 1.      ],\n",
       "       [ 0.747941],\n",
       "       [ 1.014662],\n",
       "       ...,\n",
       "       [ 3.402843],\n",
       "       [ 8.686634],\n",
       "       [28.116509]])\n",
       "Coordinates:\n",
       "  * time        (time) datetime64[ns] 1954-01-01 1954-01-02 ... 1954-07-28\n",
       "    basin_name  (nbasins) object ...\n",
       "Dimensions without coordinates: nbasins\n",
       "Attributes:\n",
       "    units:      m**3 s**-1\n",
       "    long_name:  Simulated outflows"
      ]
     },
     "execution_count": 4,
     "metadata": {},
     "output_type": "execute_result"
    }
   ],
   "source": [
    "hydrograph.q_sim"
   ]
  },
  {
   "cell_type": "code",
   "execution_count": 5,
   "metadata": {},
   "outputs": [
    {
     "data": {
      "text/plain": [
       "[<matplotlib.lines.Line2D at 0x7f6e886e26d8>]"
      ]
     },
     "execution_count": 5,
     "metadata": {},
     "output_type": "execute_result"
    },
    {
     "data": {
      "image/png": "[encoded data removed]",
      "text/plain": [
       "<Figure size 432x288 with 1 Axes>"
      ]
     },
     "metadata": {
      "needs_background": "light"
     },
     "output_type": "display_data"
    }
   ],
   "source": [
    "from pandas.plotting import register_matplotlib_converters\n",
    "register_matplotlib_converters()\n",
    "\n",
    "hydrograph.q_sim.plot()"
   ]
  },
  {
   "cell_type": "code",
   "execution_count": 6,
   "metadata": {},
   "outputs": [
    {
     "name": "stdout",
     "output_type": "stream",
     "text": [
      "Max:  <xarray.DataArray 'q_sim' ()>\n",
      "array(59.61522142)\n",
      "Mean:  <xarray.DataArray 'q_sim' ()>\n",
      "array(3.35716365)\n",
      "Monthly means:  <xarray.DataArray 'q_sim' (month: 7, nbasins: 1)>\n",
      "array([[5.70648088e-01],\n",
      "       [2.19688243e-03],\n",
      "       [0.00000000e+00],\n",
      "       [0.00000000e+00],\n",
      "       [1.77313287e+01],\n",
      "       [7.13205053e-01],\n",
      "       [4.02958061e+00]])\n",
      "Coordinates:\n",
      "    basin_name  (nbasins) object ...\n",
      "  * month       (month) int64 1 2 3 4 5 6 7\n",
      "Dimensions without coordinates: nbasins\n"
     ]
    }
   ],
   "source": [
    "print(\"Max: \", hydrograph.q_sim.max())\n",
    "print(\"Mean: \", hydrograph.q_sim.mean())\n",
    "print(\"Monthly means: \", hydrograph.q_sim.groupby('time.month').mean(dim='time'))"
   ]
  },
  {
   "cell_type": "markdown",
   "metadata": {},
   "source": [
    "Now, let's do a test: let's run the model again using the same parameters and check to see that the NSE is the same. \n",
    "\n",
    "First, lets extract the diagnostics from the optimized run, giving the calibration NSE."
   ]
  },
  {
   "cell_type": "code",
   "execution_count": 7,
   "metadata": {},
   "outputs": [
    {
     "data": {
      "text/plain": [
       "'observed data series,filename,DIAG_NASH_SUTCLIFFE,DIAG_RMSE,\\nHYDROGRAPH,/tmp/pywps_process_jhrr2yvi/Salmon-River-Near-Prince-George_meteo_daily.nc,-0.225991,57.3687,\\n'"
      ]
     },
     "execution_count": 7,
     "metadata": {},
     "output_type": "execute_result"
    }
   ],
   "source": [
    "diagnostics"
   ]
  },
  {
   "cell_type": "markdown",
   "metadata": {},
   "source": [
    "Run the HBV-EC WPS:"
   ]
  },
  {
   "cell_type": "code",
   "execution_count": 8,
   "metadata": {},
   "outputs": [],
   "source": [
    "# Model configuration parameters\n",
    "config = dict(area=4250.6,\n",
    "    elevation=843.0,\n",
    "    latitude=54.4848,\n",
    "    longitude=-123.3659,\n",
    "    start_date=dt.datetime(1954, 1, 1),\n",
    "    duration=208,\n",
    "             )\n",
    "# Let's call the model with the timeseries, model parameters and other configuration parameters\n",
    "resp = wps.raven_hbv_ec(ts=str(ts), params=calibparams, **config)\n",
    "[hydrograph, storage, solution, diagnostics2, rv2] = resp.get(asobj=True)"
   ]
  },
  {
   "cell_type": "markdown",
   "metadata": {},
   "source": [
    "Now lets check to see if the diagnostics are the same."
   ]
  },
  {
   "cell_type": "code",
   "execution_count": 9,
   "metadata": {},
   "outputs": [
    {
     "data": {
      "text/plain": [
       "'observed data series,filename,DIAG_NASH_SUTCLIFFE,DIAG_RMSE,\\nHYDROGRAPH,/tmp/pywps_process_qfqtz3r9/Salmon-River-Near-Prince-George_meteo_daily.nc,-0.225991,57.3687,\\n'"
      ]
     },
     "execution_count": 9,
     "metadata": {},
     "output_type": "execute_result"
    }
   ],
   "source": [
    "diagnostics2"
   ]
  }
 ],
 "metadata": {
  "kernelspec": {
   "display_name": "Python 3",
   "language": "python",
   "name": "python3"
  },
  "language_info": {
   "codemirror_mode": {
    "name": "ipython",
    "version": 3
   },
   "file_extension": ".py",
   "mimetype": "text/x-python",
   "name": "python",
   "nbconvert_exporter": "python",
   "pygments_lexer": "ipython3",
   "version": "3.6.7"
  }
 },
 "nbformat": 4,
 "nbformat_minor": 1
}
