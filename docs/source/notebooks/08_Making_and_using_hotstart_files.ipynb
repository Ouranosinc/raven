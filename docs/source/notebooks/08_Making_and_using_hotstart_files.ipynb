{
 "cells": [
  {
   "cell_type": "markdown",
   "metadata": {},
   "source": [
    "# 08_Making_and_using_hostart_files.ipynb"
   ]
  },
  {
   "cell_type": "markdown",
   "metadata": {},
   "source": [
    "## Using PAVICS-Hydro to create a hotstart file to resume a simulation from given hydrological conditions\n",
    "\n",
    "Here we run a hydrological model with `Raven` over a long period. Then we run the model on half of the period, save the final states, and then run the second half in an independent run but using the model states at the end of the first half. This should provide two (2) hydrographs that are exactly equal."
   ]
  },
  {
   "cell_type": "code",
   "execution_count": null,
   "metadata": {},
   "outputs": [],
   "source": [
    "import datetime as dt\n",
    "import xarray as xr\n",
    "from ravenpy.utilities.testdata import get_file"
   ]
  },
  {
   "cell_type": "markdown",
   "metadata": {},
   "source": [
    "## A note on datasets\n",
    "\n",
    "For this introduction to RavenPy, we will use pre-existing datasets that are hosted on the PAVICS-Hydro servers, as we did in the previous example notebook. However, this time the model will not be pre-configured: We will configure it on the fly! In the next tutorials, we will see how users can import and use their own datasets to make the entire process flexible and taylored the user needs."
   ]
  },
  {
   "cell_type": "code",
   "execution_count": null,
   "metadata": {},
   "outputs": [],
   "source": [
    "forcing = get_file(\"raven-gr4j-cemaneige/Salmon-River-Near-Prince-George_meteo_daily.nc\")\n",
    "\n",
    "# Display the datasets that we will be using\n",
    "display(forcing)"
   ]
  },
  {
   "cell_type": "markdown",
   "metadata": {},
   "source": [
    "## Using templated model emulators\n",
    "\n",
    "`Raven` framework can be used to emulate existing hydrological models. The Python wrapper offers at present four emulated models: GR4J-CN, HMETS, MOHYSE and HBV-EC. For each of these, templated configuration files are available to facilitate launching the model with options passed by Python at run-time. In this block of code, we are going to run the GR4JCN model and provide a list of configuration parameters. Please see the documentation for more details on the mandatory vs optional parameters, and what they represent. A glimpse is provided here."
   ]
  },
  {
   "cell_type": "code",
   "execution_count": null,
   "metadata": {},
   "outputs": [],
   "source": [
    "# Import the list of possible model templates. \n",
    "from ravenpy.models import GR4JCN, HMETS, MOHYSE, HBVEC\n",
    "\n",
    "# Generate a GR4JCN-configured Raven model instance. \n",
    "# By replacing \"GR4JCN()\" by \"HMETS()\", we would then be running a HMETS model emulator instead. \n",
    "model = GR4JCN()\n",
    "\n",
    "# Here is where we launch the model using all sorts of configuration parameters. \n",
    "# We will run the code, and explanations will follow.\n",
    "model(\n",
    "    forcing,\n",
    "    start_date=dt.datetime(2000, 1, 1),\n",
    "    end_date=dt.datetime(2001, 12, 31),\n",
    "    area=4250.6,\n",
    "    elevation=843.0,\n",
    "    latitude=54.4848,\n",
    "    longitude=-123.3659,\n",
    "    params=(0.529, -3.396, 407.29, 1.072, 16.9, 0.947),\n",
    "    run_name=\"Salmon\",\n",
    ")"
   ]
  },
  {
   "cell_type": "code",
   "execution_count": null,
   "metadata": {},
   "outputs": [],
   "source": [
    "first_hydrograph = model.hydrograph.q_sim "
   ]
  },
  {
   "cell_type": "markdown",
   "metadata": {},
   "source": [
    "### Now let's see if we can replicate the hydrograph using a hotstart file. \n",
    "First, run the model without a hotstart file, same as before, but only for one year:\n"
   ]
  },
  {
   "cell_type": "code",
   "execution_count": null,
   "metadata": {},
   "outputs": [],
   "source": [
    "model = GR4JCN()\n",
    "\n",
    "model(\n",
    "    forcing,\n",
    "    start_date=dt.datetime(2000, 1, 1),\n",
    "    end_date=dt.datetime(2000, 12, 31),\n",
    "    area=4250.6,\n",
    "    elevation=843.0,\n",
    "    latitude=54.4848,\n",
    "    longitude=-123.3659,\n",
    "    params=(0.529, -3.396, 407.29, 1.072, 16.9, 0.947),\n",
    "    run_name=\"Salmon\",\n",
    ")\n",
    "\n",
    "second_hydrograph_first_year = model.hydrograph.q_sim\n",
    "\n",
    "# Get the hotstart file path\n",
    "hotstart_states = model.outputs[\"solution\"] \n"
   ]
  },
  {
   "cell_type": "markdown",
   "metadata": {},
   "source": [
    "Now, let's run the model using the hotstart but for the second year only:"
   ]
  },
  {
   "cell_type": "code",
   "execution_count": null,
   "metadata": {},
   "outputs": [],
   "source": [
    "model = GR4JCN()\n",
    "\n",
    "# Here is where we launch the model using all sorts of configuration parameters. We will run the code, and explanations will follow.\n",
    "model(\n",
    "    forcing,\n",
    "    start_date=dt.datetime(2000, 12, 31),\n",
    "    end_date=dt.datetime(2001, 12, 31),\n",
    "    area=4250.6,\n",
    "    elevation=843.0,\n",
    "    latitude=54.4848,\n",
    "    longitude=-123.3659,\n",
    "    params=(0.529, -3.396, 407.29, 1.072, 16.9, 0.947),\n",
    "    run_name=\"Salmon\",\n",
    "    rvc=str(hotstart_states)\n",
    ")\n",
    "\n",
    "second_hydrograph_second_year = model.hydrograph.q_sim"
   ]
  },
  {
   "cell_type": "code",
   "execution_count": null,
   "metadata": {},
   "outputs": [],
   "source": [
    "second_hydrograph_complete = xr.concat([\n",
    "    second_hydrograph_first_year[0:-1],\n",
    "    second_hydrograph_second_year],\n",
    "    'time'\n",
    ")"
   ]
  },
  {
   "cell_type": "markdown",
   "metadata": {},
   "source": [
    "## Plotting both hydrographs\n",
    "Let's plot both hydrographs to see if they are the same:"
   ]
  },
  {
   "cell_type": "code",
   "execution_count": null,
   "metadata": {},
   "outputs": [],
   "source": [
    "first_hydrograph.plot()\n",
    "second_hydrograph_complete.plot()"
   ]
  },
  {
   "cell_type": "markdown",
   "metadata": {},
   "source": [
    "And now if we look at the difference between both hydrographs:"
   ]
  },
  {
   "cell_type": "code",
   "execution_count": null,
   "metadata": {},
   "outputs": [],
   "source": [
    "difference = first_hydrograph - second_hydrograph_complete\n",
    "difference.plot()"
   ]
  },
  {
   "cell_type": "markdown",
   "metadata": {},
   "source": [
    "We can see that differences are at machine precision levels, due to rounding in the hotstart file (note that the y-axis is 1e-6, which is essentially 0!). But the rest is perfect!"
   ]
  }
 ],
 "metadata": {
  "kernelspec": {
   "display_name": "Python 3",
   "language": "python",
   "name": "python3"
  },
  "language_info": {
   "codemirror_mode": {
    "name": "ipython",
    "version": 3
   },
   "file_extension": ".py",
   "mimetype": "text/x-python",
   "name": "python",
   "nbconvert_exporter": "python",
   "pygments_lexer": "ipython3",
   "version": "3.7.10"
  }
 },
 "nbformat": 4,
 "nbformat_minor": 4
}
