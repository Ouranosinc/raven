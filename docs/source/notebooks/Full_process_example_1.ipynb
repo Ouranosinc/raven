{
 "cells": [
  {
   "cell_type": "markdown",
   "metadata": {},
   "source": [
    "# Running a hydrological model over a watershed defined by a shapefile\n",
    "\n",
    "This notebook shows how to run Raven over a user-defined watershed. The watershed contour is provided by a shapefile, which we use to subset meteorological data and to extract watershed physiographic properties. The meteorological data is spatially averaged (crudely for now), then fed to the Raven hydrological model to simulate streamflow. "
   ]
  },
  {
   "cell_type": "code",
   "execution_count": 1,
   "metadata": {},
   "outputs": [],
   "source": [
    "# Import the necessary libraries to format, send, and parse our returned results.\n",
    "# TODO: Cleanup\n",
    "\n",
    "import os\n",
    "import json\n",
    "from birdy import WPSClient\n",
    "import geopandas as gpd\n",
    "import ipyleaflet\n",
    "import ipywidgets\n",
    "\n",
    "\n",
    "from pathlib import Path\n",
    "import datetime as dt\n",
    "from matplotlib import pyplot as plt\n",
    "import numpy as np\n",
    "import xarray as xr\n",
    "\n",
    "# Set environment variable WPS_URL to \"http://localhost:9099\" to run on the default local server\n",
    "url = os.environ.get(\"WPS_URL\", \"https://pavics.ouranos.ca/twitcher/ows/proxy/raven/wps\")\n",
    "wps = WPSClient(url)\n"
   ]
  },
  {
   "cell_type": "markdown",
   "metadata": {},
   "source": [
    "If your `notebook` is version prior to `5.3`, you might need to run this command `jupyter nbextension enable --py --sys-prefix ipyleaflet`.  For more information see https://ipyleaflet.readthedocs.io/en/latest/installation.html.\n",
    "\n",
    "## Select the watershed"
   ]
  },
  {
   "cell_type": "code",
   "execution_count": 2,
   "metadata": {},
   "outputs": [],
   "source": [
    "# Build an interactive map with ipyleaflet\n",
    "map_lat_lon = (48, -71)\n",
    "marker_lat_lon = (47.96, -71.41)\n",
    "leaflet_map = ipyleaflet.Map(\n",
    "    center=map_lat_lon,\n",
    "    basemap=ipyleaflet.basemaps.OpenTopoMap,\n",
    ")\n",
    "\n",
    "# Add a custom zoom slider\n",
    "zoom_slider = ipywidgets.IntSlider(description='Zoom level:', min=1, max=10, value=8)\n",
    "ipywidgets.jslink((zoom_slider, 'value'), (leaflet_map, 'zoom'))\n",
    "widget_control1 = ipyleaflet.WidgetControl(widget=zoom_slider, position='topright')\n",
    "leaflet_map.add_control(widget_control1)\n",
    "\n",
    "# Add a marker to the map\n",
    "marker = ipyleaflet.Marker(location=marker_lat_lon, draggable=True)\n",
    "leaflet_map.add_layer(marker)"
   ]
  },
  {
   "cell_type": "code",
   "execution_count": 3,
   "metadata": {},
   "outputs": [
    {
     "data": {
      "application/vnd.jupyter.widget-view+json": {
       "model_id": "188a128a953049399b2d50aa2aa8525c",
       "version_major": 2,
       "version_minor": 0
      },
      "text/plain": [
       "Map(center=[48, -71], controls=(ZoomControl(options=['position', 'zoom_in_text', 'zoom_in_title', 'zoom_out_te…"
      ]
     },
     "metadata": {},
     "output_type": "display_data"
    }
   ],
   "source": [
    "# Add an overlay widget\n",
    "\n",
    "html = ipywidgets.HTML(\"\"\"Hover over a feature!\"\"\")\n",
    "html.layout.margin = '0px 10px 10px 10px'\n",
    "\n",
    "control = ipyleaflet.WidgetControl(widget=html, position='bottomleft')\n",
    "leaflet_map.add_control(control)\n",
    "\n",
    "def update_html(feature,  **kwargs):\n",
    "    html.value = '''\n",
    "        <h2><b>USGS HydroBASINS</b></h2>\n",
    "        <h4>ID: {}</h4>\n",
    "        <h4>Upstream Area: {} sq. km.</h4> \n",
    "        <h4>Sub-basin Area: {} sq. km.</h4>\n",
    "    '''.format(feature['properties']['id'],\n",
    "               feature['properties']['UP_AREA'],\n",
    "               feature['properties']['SUB_AREA'])\n",
    "    \n",
    "# Load the map in the notebook\n",
    "leaflet_map"
   ]
  },
  {
   "cell_type": "markdown",
   "metadata": {},
   "source": [
    "**Before continuing!**\n",
    "\n",
    "Try dragging and placing the marker at the mouth of a river, over a large lake such as Lac Saint Jean (next to Alma, east of the initial marker position), or anywhere else within North America."
   ]
  },
  {
   "cell_type": "code",
   "execution_count": 4,
   "metadata": {},
   "outputs": [
    {
     "data": {
      "text/plain": [
       "[-71.41, 47.96]"
      ]
     },
     "execution_count": 4,
     "metadata": {},
     "output_type": "execute_result"
    }
   ],
   "source": [
    "user_lonlat = list(reversed(marker.location))\n",
    "user_lonlat"
   ]
  },
  {
   "cell_type": "markdown",
   "metadata": {},
   "source": [
    "## Extract watershed properties\n",
    "\n",
    "Now we get the watershed contour, physiographic properties, and land cover. "
   ]
  },
  {
   "cell_type": "code",
   "execution_count": 5,
   "metadata": {},
   "outputs": [],
   "source": [
    "# Get the shape of the watershed contributing to flow at the selected location. \n",
    "resp = wps.hydrobasins_select(location=str(user_lonlat), aggregate_upstream=True)"
   ]
  },
  {
   "cell_type": "code",
   "execution_count": 6,
   "metadata": {},
   "outputs": [],
   "source": [
    "# Before continuing, wait for the process above to finish.\n",
    "\n",
    "# Extract the URL of the resulting GeoJSON feature\n",
    "features, ids = resp.get(asobj=True)\n",
    "\n",
    "user_shape = resp.get(asobj=False).feature\n",
    "\n",
    "\n",
    "# Add this GeoJSON to the map above!\n",
    "df = gpd.read_file(user_shape)\n",
    "\n",
    "user_geojson = ipyleaflet.GeoData(geo_dataframe=df, \n",
    "    style = {\n",
    "        'color': 'blue', \n",
    "        'opacity':1, \n",
    "        'weight':1.9, \n",
    "        'fillOpacity':0.5,\n",
    "    },\n",
    "                                  \n",
    "    hover_style={'fillColor': '#b08a3e' , 'fillOpacity': 0.9}\n",
    ")\n",
    "\n",
    "leaflet_map.add_layer(user_geojson)\n",
    "\n",
    "user_geojson.on_hover(update_html)"
   ]
  },
  {
   "cell_type": "code",
   "execution_count": 7,
   "metadata": {},
   "outputs": [],
   "source": [
    "# Get and store the properties related to the shape of the catchment\n",
    "resp = wps.shape_properties(shape=user_shape)\n",
    "\n",
    "[properties, ] = resp.get(asobj=True)\n",
    "prop = properties[0]\n",
    "basin_area = prop['area']/1000000.0\n",
    "basin_longitude = prop['centroid'][0]\n",
    "basin_latitude = prop['centroid'][1]\n",
    "gravelius = prop['gravelius']\n",
    "perimeter = prop['perimeter']\n",
    "shapeProperties = {'area':basin_area, 'longitude':basin_longitude, 'latitude':basin_latitude, 'gravelius':gravelius, 'perimeter':perimeter}\n"
   ]
  },
  {
   "cell_type": "code",
   "execution_count": 8,
   "metadata": {},
   "outputs": [
    {
     "name": "stdout",
     "output_type": "stream",
     "text": [
      "Area:  539.0315395549537\n",
      "Elevation:  770.6216454535962\n",
      "Longitude:  -71.29316307348151\n",
      "Latitude:  47.83930090903027\n"
     ]
    }
   ],
   "source": [
    "# This uses the HydroSheds DEM\n",
    "resp = wps.terrain_analysis(shape=user_shape, select_all_touching=True, projected_crs=3978)\n",
    "\n",
    "# Collect the properties related to the catchment terrain (DEM)\n",
    "properties, dem = resp.get(asobj=True)\n",
    "basin_elevation=properties[0]['elevation']\n",
    "slope=properties[0]['slope']\n",
    "aspect=properties[0]['aspect']\n",
    "terrain_data={'elevation':basin_elevation, 'slope':slope,'aspect':aspect}\n",
    "\n",
    "print(\"Area: \", basin_area)\n",
    "print(\"Elevation: \", basin_elevation)\n",
    "print(\"Longitude: \", basin_longitude)\n",
    "print(\"Latitude: \", basin_latitude)"
   ]
  },
  {
   "cell_type": "code",
   "execution_count": 9,
   "metadata": {},
   "outputs": [],
   "source": [
    "# Use the geoserver to extract the land cover over the appropriate bounding box (automatic)\n",
    "resp = wps.nalcms_zonal_stats(shape=user_shape, select_all_touching=True, band=1, simple_categories=True)"
   ]
  },
  {
   "cell_type": "code",
   "execution_count": 10,
   "metadata": {},
   "outputs": [
    {
     "data": {
      "text/plain": [
       "{'area': 539.0315395549537,\n",
       " 'longitude': -71.29316307348151,\n",
       " 'latitude': 47.83930090903027,\n",
       " 'gravelius': 2.174992976617086,\n",
       " 'perimeter': 179006.94445911082,\n",
       " 'Ocean': 0.0,\n",
       " 'Forest': 0.928452760032436,\n",
       " 'Shrubs': 0.018500754863761924,\n",
       " 'Grass': 0.0041550470388903174,\n",
       " 'Wetland': 0.005412603917380326,\n",
       " 'Crops': 0.0038303567308136045,\n",
       " 'Urban': 0.008387558262956297,\n",
       " 'Water': 0.03126091915376146,\n",
       " 'SnowIce': 0.0,\n",
       " 'elevation': 770.6216454535962,\n",
       " 'slope': 6.90094691969857,\n",
       " 'aspect': 297.27643883428465}"
      ]
     },
     "metadata": {},
     "output_type": "display_data"
    }
   ],
   "source": [
    "# Finally, get the information related to the land use\n",
    "features, statistics  = resp.get(asobj=True)\n",
    "lu = statistics[0]\n",
    "total = sum(lu.values())\n",
    "landUse = {k: (v / total) for (k,v) in lu.items()}\n",
    "\n",
    "# Agregate all properties\n",
    "all_properties={**shapeProperties, **landUse, **terrain_data}\n",
    "\n",
    "# print all properties available\n",
    "display(all_properties)"
   ]
  },
  {
   "cell_type": "markdown",
   "metadata": {},
   "source": [
    "## Extract meteorological variables\n",
    "\n",
    "Here we're getting temperature and precipitation time series from the ERA5 dataset. Normally, we would compute the average over the watershed, but to speed things up, here we're only getting the grid cells whose centroid fall within the watershed. Since this is a small and narrow watershed, there is only one grid cell returned.\n",
    "\n",
    "Note that `finch.average_polygon` seems to crash with the ERA5 dataset. This will be investigated."
   ]
  },
  {
   "cell_type": "code",
   "execution_count": 11,
   "metadata": {},
   "outputs": [],
   "source": [
    "# SETUP THE RUN PARAMETERS. The data will be extracted to cover the simulation period\n",
    "start = dt.datetime(2020, 6, 1)\n",
    "stop = dt.datetime(2020, 6, 10)\n",
    "UTCoffset_hours = -6 # for UTC delta\n",
    "\n",
    "finch_url = os.environ.get(\"FINCH_WPS_URL\", \"https://pavics.ouranos.ca/twitcher/ows/proxy/finch/wps\")\n",
    "finch = WPSClient(finch_url)\n",
    "\n",
    "NRCAN_url='https://pavics.ouranos.ca/twitcher/ows/proxy/thredds/dodsC/datasets/gridded_obs/nrcan_v2.ncml'\n",
    "ERA5_url='https://pavics.ouranos.ca/twitcher/ows/proxy/thredds/dodsC/datasets/reanalyses/era5.ncml'\n",
    "ERA5_tas = \"https://pavics.ouranos.ca/twitcher/ows/proxy/thredds/dodsC/birdhouse/ecmwf/era5_rechunk/tas_era5_reanalysis_hourly_2020.nc\" \n",
    "ERA5_pr = \"https://pavics.ouranos.ca/twitcher/ows/proxy/thredds/dodsC/birdhouse/ecmwf/era5_rechunk/pr_era5_reanalysis_hourly_2020.nc\"\n",
    "\n",
    "tas_resp = finch.subset_polygon(resource=ERA5_tas, shape=user_shape, start_date=start, end_date=stop)\n",
    "pr_resp = finch.subset_polygon(resource=ERA5_pr, shape=user_shape, start_date=start, end_date=stop)"
   ]
  },
  {
   "cell_type": "code",
   "execution_count": 12,
   "metadata": {},
   "outputs": [
    {
     "name": "stdout",
     "output_type": "stream",
     "text": [
      "Metalink content-type detected.\n",
      "Downloading to /tmp/tmpds6kyv5l/tas_era5_reanalysis_hourly_2020_sub.nc.\n"
     ]
    },
    {
     "data": {
      "text/html": [
       "<div><svg style=\"position: absolute; width: 0; height: 0; overflow: hidden\">\n",
       "<defs>\n",
       "<symbol id=\"icon-database\" viewBox=\"0 0 32 32\">\n",
       "<path d=\"M16 0c-8.837 0-16 2.239-16 5v4c0 2.761 7.163 5 16 5s16-2.239 16-5v-4c0-2.761-7.163-5-16-5z\"></path>\n",
       "<path d=\"M16 17c-8.837 0-16-2.239-16-5v6c0 2.761 7.163 5 16 5s16-2.239 16-5v-6c0 2.761-7.163 5-16 5z\"></path>\n",
       "<path d=\"M16 26c-8.837 0-16-2.239-16-5v6c0 2.761 7.163 5 16 5s16-2.239 16-5v-6c0 2.761-7.163 5-16 5z\"></path>\n",
       "</symbol>\n",
       "<symbol id=\"icon-file-text2\" viewBox=\"0 0 32 32\">\n",
       "<path d=\"M28.681 7.159c-0.694-0.947-1.662-2.053-2.724-3.116s-2.169-2.030-3.116-2.724c-1.612-1.182-2.393-1.319-2.841-1.319h-15.5c-1.378 0-2.5 1.121-2.5 2.5v27c0 1.378 1.122 2.5 2.5 2.5h23c1.378 0 2.5-1.122 2.5-2.5v-19.5c0-0.448-0.137-1.23-1.319-2.841zM24.543 5.457c0.959 0.959 1.712 1.825 2.268 2.543h-4.811v-4.811c0.718 0.556 1.584 1.309 2.543 2.268zM28 29.5c0 0.271-0.229 0.5-0.5 0.5h-23c-0.271 0-0.5-0.229-0.5-0.5v-27c0-0.271 0.229-0.5 0.5-0.5 0 0 15.499-0 15.5 0v7c0 0.552 0.448 1 1 1h7v19.5z\"></path>\n",
       "<path d=\"M23 26h-14c-0.552 0-1-0.448-1-1s0.448-1 1-1h14c0.552 0 1 0.448 1 1s-0.448 1-1 1z\"></path>\n",
       "<path d=\"M23 22h-14c-0.552 0-1-0.448-1-1s0.448-1 1-1h14c0.552 0 1 0.448 1 1s-0.448 1-1 1z\"></path>\n",
       "<path d=\"M23 18h-14c-0.552 0-1-0.448-1-1s0.448-1 1-1h14c0.552 0 1 0.448 1 1s-0.448 1-1 1z\"></path>\n",
       "</symbol>\n",
       "</defs>\n",
       "</svg>\n",
       "<style>/* CSS stylesheet for displaying xarray objects in jupyterlab.\n",
       " *\n",
       " */\n",
       "\n",
       ":root {\n",
       "  --xr-font-color0: var(--jp-content-font-color0, rgba(0, 0, 0, 1));\n",
       "  --xr-font-color2: var(--jp-content-font-color2, rgba(0, 0, 0, 0.54));\n",
       "  --xr-font-color3: var(--jp-content-font-color3, rgba(0, 0, 0, 0.38));\n",
       "  --xr-border-color: var(--jp-border-color2, #e0e0e0);\n",
       "  --xr-disabled-color: var(--jp-layout-color3, #bdbdbd);\n",
       "  --xr-background-color: var(--jp-layout-color0, white);\n",
       "  --xr-background-color-row-even: var(--jp-layout-color1, white);\n",
       "  --xr-background-color-row-odd: var(--jp-layout-color2, #eeeeee);\n",
       "}\n",
       "\n",
       "html[theme=dark],\n",
       "body.vscode-dark {\n",
       "  --xr-font-color0: rgba(255, 255, 255, 1);\n",
       "  --xr-font-color2: rgba(255, 255, 255, 0.54);\n",
       "  --xr-font-color3: rgba(255, 255, 255, 0.38);\n",
       "  --xr-border-color: #1F1F1F;\n",
       "  --xr-disabled-color: #515151;\n",
       "  --xr-background-color: #111111;\n",
       "  --xr-background-color-row-even: #111111;\n",
       "  --xr-background-color-row-odd: #313131;\n",
       "}\n",
       "\n",
       ".xr-wrap {\n",
       "  display: block;\n",
       "  min-width: 300px;\n",
       "  max-width: 700px;\n",
       "}\n",
       "\n",
       ".xr-text-repr-fallback {\n",
       "  /* fallback to plain text repr when CSS is not injected (untrusted notebook) */\n",
       "  display: none;\n",
       "}\n",
       "\n",
       ".xr-header {\n",
       "  padding-top: 6px;\n",
       "  padding-bottom: 6px;\n",
       "  margin-bottom: 4px;\n",
       "  border-bottom: solid 1px var(--xr-border-color);\n",
       "}\n",
       "\n",
       ".xr-header > div,\n",
       ".xr-header > ul {\n",
       "  display: inline;\n",
       "  margin-top: 0;\n",
       "  margin-bottom: 0;\n",
       "}\n",
       "\n",
       ".xr-obj-type,\n",
       ".xr-array-name {\n",
       "  margin-left: 2px;\n",
       "  margin-right: 10px;\n",
       "}\n",
       "\n",
       ".xr-obj-type {\n",
       "  color: var(--xr-font-color2);\n",
       "}\n",
       "\n",
       ".xr-sections {\n",
       "  padding-left: 0 !important;\n",
       "  display: grid;\n",
       "  grid-template-columns: 150px auto auto 1fr 20px 20px;\n",
       "}\n",
       "\n",
       ".xr-section-item {\n",
       "  display: contents;\n",
       "}\n",
       "\n",
       ".xr-section-item input {\n",
       "  display: none;\n",
       "}\n",
       "\n",
       ".xr-section-item input + label {\n",
       "  color: var(--xr-disabled-color);\n",
       "}\n",
       "\n",
       ".xr-section-item input:enabled + label {\n",
       "  cursor: pointer;\n",
       "  color: var(--xr-font-color2);\n",
       "}\n",
       "\n",
       ".xr-section-item input:enabled + label:hover {\n",
       "  color: var(--xr-font-color0);\n",
       "}\n",
       "\n",
       ".xr-section-summary {\n",
       "  grid-column: 1;\n",
       "  color: var(--xr-font-color2);\n",
       "  font-weight: 500;\n",
       "}\n",
       "\n",
       ".xr-section-summary > span {\n",
       "  display: inline-block;\n",
       "  padding-left: 0.5em;\n",
       "}\n",
       "\n",
       ".xr-section-summary-in:disabled + label {\n",
       "  color: var(--xr-font-color2);\n",
       "}\n",
       "\n",
       ".xr-section-summary-in + label:before {\n",
       "  display: inline-block;\n",
       "  content: '►';\n",
       "  font-size: 11px;\n",
       "  width: 15px;\n",
       "  text-align: center;\n",
       "}\n",
       "\n",
       ".xr-section-summary-in:disabled + label:before {\n",
       "  color: var(--xr-disabled-color);\n",
       "}\n",
       "\n",
       ".xr-section-summary-in:checked + label:before {\n",
       "  content: '▼';\n",
       "}\n",
       "\n",
       ".xr-section-summary-in:checked + label > span {\n",
       "  display: none;\n",
       "}\n",
       "\n",
       ".xr-section-summary,\n",
       ".xr-section-inline-details {\n",
       "  padding-top: 4px;\n",
       "  padding-bottom: 4px;\n",
       "}\n",
       "\n",
       ".xr-section-inline-details {\n",
       "  grid-column: 2 / -1;\n",
       "}\n",
       "\n",
       ".xr-section-details {\n",
       "  display: none;\n",
       "  grid-column: 1 / -1;\n",
       "  margin-bottom: 5px;\n",
       "}\n",
       "\n",
       ".xr-section-summary-in:checked ~ .xr-section-details {\n",
       "  display: contents;\n",
       "}\n",
       "\n",
       ".xr-array-wrap {\n",
       "  grid-column: 1 / -1;\n",
       "  display: grid;\n",
       "  grid-template-columns: 20px auto;\n",
       "}\n",
       "\n",
       ".xr-array-wrap > label {\n",
       "  grid-column: 1;\n",
       "  vertical-align: top;\n",
       "}\n",
       "\n",
       ".xr-preview {\n",
       "  color: var(--xr-font-color3);\n",
       "}\n",
       "\n",
       ".xr-array-preview,\n",
       ".xr-array-data {\n",
       "  padding: 0 5px !important;\n",
       "  grid-column: 2;\n",
       "}\n",
       "\n",
       ".xr-array-data,\n",
       ".xr-array-in:checked ~ .xr-array-preview {\n",
       "  display: none;\n",
       "}\n",
       "\n",
       ".xr-array-in:checked ~ .xr-array-data,\n",
       ".xr-array-preview {\n",
       "  display: inline-block;\n",
       "}\n",
       "\n",
       ".xr-dim-list {\n",
       "  display: inline-block !important;\n",
       "  list-style: none;\n",
       "  padding: 0 !important;\n",
       "  margin: 0;\n",
       "}\n",
       "\n",
       ".xr-dim-list li {\n",
       "  display: inline-block;\n",
       "  padding: 0;\n",
       "  margin: 0;\n",
       "}\n",
       "\n",
       ".xr-dim-list:before {\n",
       "  content: '(';\n",
       "}\n",
       "\n",
       ".xr-dim-list:after {\n",
       "  content: ')';\n",
       "}\n",
       "\n",
       ".xr-dim-list li:not(:last-child):after {\n",
       "  content: ',';\n",
       "  padding-right: 5px;\n",
       "}\n",
       "\n",
       ".xr-has-index {\n",
       "  font-weight: bold;\n",
       "}\n",
       "\n",
       ".xr-var-list,\n",
       ".xr-var-item {\n",
       "  display: contents;\n",
       "}\n",
       "\n",
       ".xr-var-item > div,\n",
       ".xr-var-item label,\n",
       ".xr-var-item > .xr-var-name span {\n",
       "  background-color: var(--xr-background-color-row-even);\n",
       "  margin-bottom: 0;\n",
       "}\n",
       "\n",
       ".xr-var-item > .xr-var-name:hover span {\n",
       "  padding-right: 5px;\n",
       "}\n",
       "\n",
       ".xr-var-list > li:nth-child(odd) > div,\n",
       ".xr-var-list > li:nth-child(odd) > label,\n",
       ".xr-var-list > li:nth-child(odd) > .xr-var-name span {\n",
       "  background-color: var(--xr-background-color-row-odd);\n",
       "}\n",
       "\n",
       ".xr-var-name {\n",
       "  grid-column: 1;\n",
       "}\n",
       "\n",
       ".xr-var-dims {\n",
       "  grid-column: 2;\n",
       "}\n",
       "\n",
       ".xr-var-dtype {\n",
       "  grid-column: 3;\n",
       "  text-align: right;\n",
       "  color: var(--xr-font-color2);\n",
       "}\n",
       "\n",
       ".xr-var-preview {\n",
       "  grid-column: 4;\n",
       "}\n",
       "\n",
       ".xr-var-name,\n",
       ".xr-var-dims,\n",
       ".xr-var-dtype,\n",
       ".xr-preview,\n",
       ".xr-attrs dt {\n",
       "  white-space: nowrap;\n",
       "  overflow: hidden;\n",
       "  text-overflow: ellipsis;\n",
       "  padding-right: 10px;\n",
       "}\n",
       "\n",
       ".xr-var-name:hover,\n",
       ".xr-var-dims:hover,\n",
       ".xr-var-dtype:hover,\n",
       ".xr-attrs dt:hover {\n",
       "  overflow: visible;\n",
       "  width: auto;\n",
       "  z-index: 1;\n",
       "}\n",
       "\n",
       ".xr-var-attrs,\n",
       ".xr-var-data {\n",
       "  display: none;\n",
       "  background-color: var(--xr-background-color) !important;\n",
       "  padding-bottom: 5px !important;\n",
       "}\n",
       "\n",
       ".xr-var-attrs-in:checked ~ .xr-var-attrs,\n",
       ".xr-var-data-in:checked ~ .xr-var-data {\n",
       "  display: block;\n",
       "}\n",
       "\n",
       ".xr-var-data > table {\n",
       "  float: right;\n",
       "}\n",
       "\n",
       ".xr-var-name span,\n",
       ".xr-var-data,\n",
       ".xr-attrs {\n",
       "  padding-left: 25px !important;\n",
       "}\n",
       "\n",
       ".xr-attrs,\n",
       ".xr-var-attrs,\n",
       ".xr-var-data {\n",
       "  grid-column: 1 / -1;\n",
       "}\n",
       "\n",
       "dl.xr-attrs {\n",
       "  padding: 0;\n",
       "  margin: 0;\n",
       "  display: grid;\n",
       "  grid-template-columns: 125px auto;\n",
       "}\n",
       "\n",
       ".xr-attrs dt,\n",
       ".xr-attrs dd {\n",
       "  padding: 0;\n",
       "  margin: 0;\n",
       "  float: left;\n",
       "  padding-right: 10px;\n",
       "  width: auto;\n",
       "}\n",
       "\n",
       ".xr-attrs dt {\n",
       "  font-weight: normal;\n",
       "  grid-column: 1;\n",
       "}\n",
       "\n",
       ".xr-attrs dt:hover span {\n",
       "  display: inline-block;\n",
       "  background: var(--xr-background-color);\n",
       "  padding-right: 10px;\n",
       "}\n",
       "\n",
       ".xr-attrs dd {\n",
       "  grid-column: 2;\n",
       "  white-space: pre-wrap;\n",
       "  word-break: break-all;\n",
       "}\n",
       "\n",
       ".xr-icon-database,\n",
       ".xr-icon-file-text2 {\n",
       "  display: inline-block;\n",
       "  vertical-align: middle;\n",
       "  width: 1em;\n",
       "  height: 1.5em !important;\n",
       "  stroke-width: 0;\n",
       "  stroke: currentColor;\n",
       "  fill: currentColor;\n",
       "}\n",
       "</style><pre class='xr-text-repr-fallback'>&lt;xarray.Dataset&gt;\n",
       "Dimensions:    (latitude: 1, longitude: 1, time: 217)\n",
       "Coordinates:\n",
       "  * time       (time) datetime64[ns] 2020-06-01 ... 2020-06-10\n",
       "  * latitude   (latitude) float32 47.75\n",
       "  * longitude  (longitude) float32 288.8\n",
       "Data variables:\n",
       "    t2m        (time, latitude, longitude) float32 273.2 272.2 ... 285.3 285.1\n",
       "Attributes:\n",
       "    Conventions:  CF-1.6\n",
       "    history:      2021-04-09 13:50:26 GMT by grib_to_netcdf-2.16.0: /opt/ecmw...\n",
       "    crs:          +proj=longlat +ellps=WGS84 +datum=WGS84 +no_defs lon_wrap=1...</pre><div class='xr-wrap' hidden><div class='xr-header'><div class='xr-obj-type'>xarray.Dataset</div></div><ul class='xr-sections'><li class='xr-section-item'><input id='section-8c9b843e-203a-4969-b798-7014cb066d91' class='xr-section-summary-in' type='checkbox' disabled ><label for='section-8c9b843e-203a-4969-b798-7014cb066d91' class='xr-section-summary'  title='Expand/collapse section'>Dimensions:</label><div class='xr-section-inline-details'><ul class='xr-dim-list'><li><span class='xr-has-index'>latitude</span>: 1</li><li><span class='xr-has-index'>longitude</span>: 1</li><li><span class='xr-has-index'>time</span>: 217</li></ul></div><div class='xr-section-details'></div></li><li class='xr-section-item'><input id='section-dbb83a15-810a-42f6-bf03-4c4607467dbd' class='xr-section-summary-in' type='checkbox'  checked><label for='section-dbb83a15-810a-42f6-bf03-4c4607467dbd' class='xr-section-summary' >Coordinates: <span>(3)</span></label><div class='xr-section-inline-details'></div><div class='xr-section-details'><ul class='xr-var-list'><li class='xr-var-item'><div class='xr-var-name'><span class='xr-has-index'>time</span></div><div class='xr-var-dims'>(time)</div><div class='xr-var-dtype'>datetime64[ns]</div><div class='xr-var-preview xr-preview'>2020-06-01 ... 2020-06-10</div><input id='attrs-69480ca4-f05d-4980-9e18-ee18884b8a42' class='xr-var-attrs-in' type='checkbox' ><label for='attrs-69480ca4-f05d-4980-9e18-ee18884b8a42' title='Show/Hide attributes'><svg class='icon xr-icon-file-text2'><use xlink:href='#icon-file-text2'></use></svg></label><input id='data-0faa234f-0c9e-4180-b3e8-735f4a2705c0' class='xr-var-data-in' type='checkbox'><label for='data-0faa234f-0c9e-4180-b3e8-735f4a2705c0' title='Show/Hide data repr'><svg class='icon xr-icon-database'><use xlink:href='#icon-database'></use></svg></label><div class='xr-var-attrs'><dl class='xr-attrs'><dt><span>long_name :</span></dt><dd>time</dd></dl></div><div class='xr-var-data'><pre>array([&#x27;2020-06-01T00:00:00.000000000&#x27;, &#x27;2020-06-01T01:00:00.000000000&#x27;,\n",
       "       &#x27;2020-06-01T02:00:00.000000000&#x27;, ..., &#x27;2020-06-09T22:00:00.000000000&#x27;,\n",
       "       &#x27;2020-06-09T23:00:00.000000000&#x27;, &#x27;2020-06-10T00:00:00.000000000&#x27;],\n",
       "      dtype=&#x27;datetime64[ns]&#x27;)</pre></div></li><li class='xr-var-item'><div class='xr-var-name'><span class='xr-has-index'>latitude</span></div><div class='xr-var-dims'>(latitude)</div><div class='xr-var-dtype'>float32</div><div class='xr-var-preview xr-preview'>47.75</div><input id='attrs-f64eff11-ed01-48c1-be17-dc4e19c0dddf' class='xr-var-attrs-in' type='checkbox' ><label for='attrs-f64eff11-ed01-48c1-be17-dc4e19c0dddf' title='Show/Hide attributes'><svg class='icon xr-icon-file-text2'><use xlink:href='#icon-file-text2'></use></svg></label><input id='data-f7b00394-bdc2-4831-96dd-1d409e210534' class='xr-var-data-in' type='checkbox'><label for='data-f7b00394-bdc2-4831-96dd-1d409e210534' title='Show/Hide data repr'><svg class='icon xr-icon-database'><use xlink:href='#icon-database'></use></svg></label><div class='xr-var-attrs'><dl class='xr-attrs'><dt><span>long_name :</span></dt><dd>latitude</dd><dt><span>units :</span></dt><dd>degrees_north</dd></dl></div><div class='xr-var-data'><pre>array([47.75], dtype=float32)</pre></div></li><li class='xr-var-item'><div class='xr-var-name'><span class='xr-has-index'>longitude</span></div><div class='xr-var-dims'>(longitude)</div><div class='xr-var-dtype'>float32</div><div class='xr-var-preview xr-preview'>288.8</div><input id='attrs-4a2d666c-460a-410c-becc-b1ec6c85d334' class='xr-var-attrs-in' type='checkbox' ><label for='attrs-4a2d666c-460a-410c-becc-b1ec6c85d334' title='Show/Hide attributes'><svg class='icon xr-icon-file-text2'><use xlink:href='#icon-file-text2'></use></svg></label><input id='data-07c9a168-cb36-4885-b6a3-38c7cd7ad51a' class='xr-var-data-in' type='checkbox'><label for='data-07c9a168-cb36-4885-b6a3-38c7cd7ad51a' title='Show/Hide data repr'><svg class='icon xr-icon-database'><use xlink:href='#icon-database'></use></svg></label><div class='xr-var-attrs'><dl class='xr-attrs'><dt><span>units :</span></dt><dd>degrees_east</dd><dt><span>long_name :</span></dt><dd>longitude</dd></dl></div><div class='xr-var-data'><pre>array([288.75], dtype=float32)</pre></div></li></ul></div></li><li class='xr-section-item'><input id='section-b1e4e6b1-df7a-4c5f-ab6f-05974b2fc082' class='xr-section-summary-in' type='checkbox'  checked><label for='section-b1e4e6b1-df7a-4c5f-ab6f-05974b2fc082' class='xr-section-summary' >Data variables: <span>(1)</span></label><div class='xr-section-inline-details'></div><div class='xr-section-details'><ul class='xr-var-list'><li class='xr-var-item'><div class='xr-var-name'><span>t2m</span></div><div class='xr-var-dims'>(time, latitude, longitude)</div><div class='xr-var-dtype'>float32</div><div class='xr-var-preview xr-preview'>...</div><input id='attrs-5095190e-414d-4065-8f99-1e32fa89ee73' class='xr-var-attrs-in' type='checkbox' ><label for='attrs-5095190e-414d-4065-8f99-1e32fa89ee73' title='Show/Hide attributes'><svg class='icon xr-icon-file-text2'><use xlink:href='#icon-file-text2'></use></svg></label><input id='data-628c1f79-ec29-4619-8412-152f48906bc4' class='xr-var-data-in' type='checkbox'><label for='data-628c1f79-ec29-4619-8412-152f48906bc4' title='Show/Hide data repr'><svg class='icon xr-icon-database'><use xlink:href='#icon-database'></use></svg></label><div class='xr-var-attrs'><dl class='xr-attrs'><dt><span>units :</span></dt><dd>K</dd><dt><span>long_name :</span></dt><dd>2 metre temperature</dd><dt><span>_ChunkSizes :</span></dt><dd>[2928   25   50]</dd><dt><span>grid_mapping :</span></dt><dd>crs</dd></dl></div><div class='xr-var-data'><pre>array([[[273.18036]],\n",
       "\n",
       "       [[272.2012 ]],\n",
       "\n",
       "       ...,\n",
       "\n",
       "       [[285.2515 ]],\n",
       "\n",
       "       [[285.0866 ]]], dtype=float32)</pre></div></li></ul></div></li><li class='xr-section-item'><input id='section-8a11a2ae-9c32-41b3-8333-be839e07a519' class='xr-section-summary-in' type='checkbox'  checked><label for='section-8a11a2ae-9c32-41b3-8333-be839e07a519' class='xr-section-summary' >Attributes: <span>(3)</span></label><div class='xr-section-inline-details'></div><div class='xr-section-details'><dl class='xr-attrs'><dt><span>Conventions :</span></dt><dd>CF-1.6</dd><dt><span>history :</span></dt><dd>2021-04-09 13:50:26 GMT by grib_to_netcdf-2.16.0: /opt/ecmwf/eccodes/bin/grib_to_netcdf -S param -o /cache/data8/adaptor.mars.internal-1617975342.3352108-16291-15-79336316-ccdb-4719-a67e-0fed18ce01a1.nc /cache/tmp/79336316-ccdb-4719-a67e-0fed18ce01a1-adaptor.mars.internal-1617975342.3356965-16291-3-tmp.grib</dd><dt><span>crs :</span></dt><dd>+proj=longlat +ellps=WGS84 +datum=WGS84 +no_defs lon_wrap=180 +type=crs</dd></dl></div></li></ul></div></div>"
      ],
      "text/plain": [
       "<xarray.Dataset>\n",
       "Dimensions:    (latitude: 1, longitude: 1, time: 217)\n",
       "Coordinates:\n",
       "  * time       (time) datetime64[ns] 2020-06-01 ... 2020-06-10\n",
       "  * latitude   (latitude) float32 47.75\n",
       "  * longitude  (longitude) float32 288.8\n",
       "Data variables:\n",
       "    t2m        (time, latitude, longitude) float32 ...\n",
       "Attributes:\n",
       "    Conventions:  CF-1.6\n",
       "    history:      2021-04-09 13:50:26 GMT by grib_to_netcdf-2.16.0: /opt/ecmw...\n",
       "    crs:          +proj=longlat +ellps=WGS84 +datum=WGS84 +no_defs lon_wrap=1..."
      ]
     },
     "metadata": {},
     "output_type": "display_data"
    }
   ],
   "source": [
    "tas_url, ml = tas_resp.get()\n",
    "pr_url, ml = pr_resp.get()\n",
    "\n",
    "tas = tas_resp.get(asobj=True).output\n",
    "display(tas)"
   ]
  },
  {
   "cell_type": "markdown",
   "metadata": {},
   "source": [
    "## Run the hydrological model\n",
    "\n",
    "Typically, if you do not have a catchment contour available, you may be working in ungauged basins. Here we implement a regionalization approach to estimate the model parameters based on the catchment descriptors. In the example below, we're regionalizing parameters based on the watershed latitude, longiture and forest cover. "
   ]
  },
  {
   "cell_type": "code",
   "execution_count": 13,
   "metadata": {},
   "outputs": [],
   "source": [
    "# SETUP THE RUN PARAMETERS. The data will be extracted to cover the simulation period\n",
    "\n",
    "# Choose a hydrological model to use. We have 'HMETS', 'GR4JCN','MOHYSE' and 'HBVEC'.\n",
    "hydromodel = 'HMETS'\n",
    "UTCoffset_hours = -6 # for UTC delta\n",
    "\n",
    "config = dict(\n",
    "    start_date=dt.datetime(2020, 6, 2), \n",
    "    end_date=dt.datetime(2020, 6, 9),\n",
    "    area=basin_area,\n",
    "    elevation=basin_elevation,\n",
    "    latitude=basin_latitude,\n",
    "    longitude=basin_longitude,\n",
    "    method='PS', # for Physical Similarity\n",
    "    model_name = hydromodel,\n",
    "    min_nse=0.7, # Minimum calibration NSE required to be considered a donor (for selecting good donor catchments)\n",
    "    ndonors=5, # Number of donors we want to use. Usually between 4 and 8 is a robust number.\n",
    "    rain_snow_fraction='RAINSNOW_DINGMAN',\n",
    "    properties=json.dumps({'latitude':basin_latitude, 'longitude':basin_longitude, 'forest':all_properties['Forest']}),\n",
    "    nc_spec=json.dumps({'tas': {'offset': -273.15, 'time_shift': UTCoffset_hours/24}, 'pr': {'scale': 24000.0, 'time_shift': UTCoffset_hours/24}})\n",
    ")"
   ]
  },
  {
   "cell_type": "code",
   "execution_count": 14,
   "metadata": {},
   "outputs": [],
   "source": [
    "# Here is where we do the regionalization.\n",
    "resp = wps.regionalisation(ts=[tas_url, pr_url], **config)\n",
    "\n",
    "# And get the response\n",
    "# With `asobj` set to False, only the reference to the output is returned in the response. \n",
    "# Setting `asobj` to True will retrieve the actual files and copy the locally. \n",
    "[hydrograph, ensemble] = resp.get(asobj=True)"
   ]
  },
  {
   "cell_type": "markdown",
   "metadata": {},
   "source": [
    "Since we requested output objects, we can simply access the output objects. The dianostics is just a CSV file: "
   ]
  },
  {
   "cell_type": "markdown",
   "metadata": {},
   "source": [
    "The `hydrograph` and `ensemble` outputs are netCDF files storing the time series. These files are opened by default using `xarray`, which provides convenient and powerful time series analysis and plotting tools. "
   ]
  },
  {
   "cell_type": "code",
   "execution_count": 15,
   "metadata": {},
   "outputs": [
    {
     "data": {
      "text/plain": [
       "[<matplotlib.lines.Line2D at 0x7fb81714cf40>]"
      ]
     },
     "execution_count": 15,
     "metadata": {},
     "output_type": "execute_result"
    },
    {
     "data": {
      "image/png": "[encoded data removed]",
      "text/plain": [
       "<Figure size 432x288 with 1 Axes>"
      ]
     },
     "metadata": {
      "needs_background": "light"
     },
     "output_type": "display_data"
    }
   ],
   "source": [
    "hydrograph.q_sim.plot()"
   ]
  },
  {
   "cell_type": "code",
   "execution_count": 16,
   "metadata": {},
   "outputs": [
    {
     "data": {
      "text/plain": [
       "[<matplotlib.lines.Line2D at 0x7fb81705e580>,\n",
       " <matplotlib.lines.Line2D at 0x7fb817004ca0>,\n",
       " <matplotlib.lines.Line2D at 0x7fb817004be0>,\n",
       " <matplotlib.lines.Line2D at 0x7fb817004ac0>,\n",
       " <matplotlib.lines.Line2D at 0x7fb817004d30>]"
      ]
     },
     "execution_count": 16,
     "metadata": {},
     "output_type": "execute_result"
    },
    {
     "data": {
      "image/png": "[encoded data removed]",
      "text/plain": [
       "<Figure size 432x288 with 1 Axes>"
      ]
     },
     "metadata": {
      "needs_background": "light"
     },
     "output_type": "display_data"
    }
   ],
   "source": [
    "# Plot the simulations from the 5 donor parameter sets\n",
    "ensemble.q_sim.isel(nbasins=0).plot.line(hue='realization')"
   ]
  }
 ],
 "metadata": {
  "kernelspec": {
   "display_name": "Python 3",
   "language": "python",
   "name": "python3"
  },
  "language_info": {
   "codemirror_mode": {
    "name": "ipython",
    "version": 3
   },
   "file_extension": ".py",
   "mimetype": "text/x-python",
   "name": "python",
   "nbconvert_exporter": "python",
   "pygments_lexer": "ipython3",
   "version": "3.8.6"
  }
 },
 "nbformat": 4,
 "nbformat_minor": 1
}
