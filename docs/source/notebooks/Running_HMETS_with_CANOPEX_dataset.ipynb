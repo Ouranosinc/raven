{
 "cells": [
  {
   "cell_type": "markdown",
   "metadata": {},
   "source": [
    "# Running HMETS on the 5797 basins of the extended CANOPEX dataset\n",
    "\n",
    "Here we use birdy's WPS client to launch the HMETS hydrological model on the server and analyze the output. We also prepare and gather data directly from the CANOPEX dataset made available freely for all users."
   ]
  },
  {
   "cell_type": "code",
   "execution_count": 1,
   "metadata": {
    "execution": {
     "iopub.execute_input": "2021-09-08T20:36:56.268818Z",
     "iopub.status.busy": "2021-09-08T20:36:56.268370Z",
     "iopub.status.idle": "2021-09-08T20:37:00.359280Z",
     "shell.execute_reply": "2021-09-08T20:37:00.357631Z"
    }
   },
   "outputs": [],
   "source": [
    "# Cookie-cutter template necessary to provide the tools, packages and paths for the project. All notebooks\n",
    "# need this template (or a slightly adjusted one depending on the required packages)\n",
    "from birdy import WPSClient\n",
    "\n",
    "from ravenpy.utilities.testdata import get_file\n",
    "import datetime as dt\n",
    "from pathlib import Path\n",
    "from urllib.request import urlretrieve\n",
    "import xarray as xr\n",
    "import numpy as np\n",
    "import pandas as pd\n",
    "from matplotlib import pyplot as plt\n",
    "import os\n",
    "import json\n",
    "import netCDF4 as nc\n",
    "from zipfile import ZipFile\n",
    "import glob\n",
    "import tempfile\n",
    "\n",
    "# Set environment variable WPS_URL to \"http://localhost:9099\" to run on the default local server\n",
    "url = os.environ.get(\n",
    "    \"WPS_URL\", \"https://pavics.ouranos.ca/twitcher/ows/proxy/raven/wps\"\n",
    ")\n",
    "wps = WPSClient(url)\n",
    "\n",
    "# DATA MAIN SOURCE - DAP link to CANOPEX dataset\n",
    "CANOPEX_DAP = \"https://pavics.ouranos.ca/twitcher/ows/proxy/thredds/dodsC/birdhouse/ets/Watersheds_5797_cfcompliant.nc\"\n",
    "CANOPEX_URL = \"https://pavics.ouranos.ca/twitcher/ows/proxy/thredds/fileServer/birdhouse/ets/Watersheds_5797_cfcompliant.nc\"\n",
    "ds = xr.open_dataset(CANOPEX_DAP)"
   ]
  },
  {
   "cell_type": "code",
   "execution_count": 2,
   "metadata": {
    "execution": {
     "iopub.execute_input": "2021-09-08T20:37:00.369961Z",
     "iopub.status.busy": "2021-09-08T20:37:00.368559Z",
     "iopub.status.idle": "2021-09-08T20:37:00.374515Z",
     "shell.execute_reply": "2021-09-08T20:37:00.373296Z"
    }
   },
   "outputs": [],
   "source": [
    "# SETUP THE RUN PARAMETERS, for now only the start and end years of the simulation and choosing the watershed\n",
    "start = dt.datetime(1998, 1, 1)\n",
    "stop = dt.datetime(2010, 12, 31)\n",
    "\n",
    "# For now, we have no mechanism to link a location (lon, lat) to a given watershed. Let's pick one at random\n",
    "# from the dataset:\n",
    "watershedID = 5600"
   ]
  },
  {
   "cell_type": "code",
   "execution_count": 3,
   "metadata": {
    "execution": {
     "iopub.execute_input": "2021-09-08T20:37:00.388499Z",
     "iopub.status.busy": "2021-09-08T20:37:00.387053Z",
     "iopub.status.idle": "2021-09-08T20:37:00.419350Z",
     "shell.execute_reply": "2021-09-08T20:37:00.419020Z"
    }
   },
   "outputs": [
    {
     "name": "stdout",
     "output_type": "stream",
     "text": [
      "Basin name:  b'WHITEMOUTH RIVER NEAR WHITEMOUTH'\n",
      "Latitude:  49.51119663557124  °N\n",
      "Area:  3650.476384548832  km^2\n"
     ]
    }
   ],
   "source": [
    "# With this info, we can gather some properties from the CANOPEX database:\n",
    "tmp = pd.read_csv(get_file(\"regionalisation_data/gauged_catchment_properties.csv\"))\n",
    "basin_area = tmp[\"area\"][watershedID]\n",
    "basin_latitude = tmp[\"latitude\"][watershedID]\n",
    "basin_longitude = tmp[\"longitude\"][watershedID]\n",
    "basin_elevation = tmp[\"elevation\"][watershedID]\n",
    "basin_name = ds.watershed[watershedID].data\n",
    "\n",
    "print(\"Basin name: \", basin_name)\n",
    "print(\"Latitude: \", basin_latitude, \" °N\")\n",
    "print(\"Area: \", basin_area, \" km^2\")"
   ]
  },
  {
   "cell_type": "code",
   "execution_count": 4,
   "metadata": {
    "execution": {
     "iopub.execute_input": "2021-09-08T20:37:00.422397Z",
     "iopub.status.busy": "2021-09-08T20:37:00.422044Z",
     "iopub.status.idle": "2021-09-08T20:37:02.441365Z",
     "shell.execute_reply": "2021-09-08T20:37:02.441015Z"
    }
   },
   "outputs": [],
   "source": [
    "# Ideally we would be able to pass the DAP link directly to Raven, but there are still some issues\n",
    "# to fix to be able to do that. For now, we'll download the series at the point of interest.\n",
    "path = Path(tempfile.mkdtemp()) / \"ts.nc\"\n",
    "ts = ds.isel(watershed=watershedID).sel(time=slice(start, stop))\n",
    "ts.to_netcdf(path)"
   ]
  },
  {
   "cell_type": "markdown",
   "metadata": {},
   "source": [
    "Now, we might have the model and data, but we don't have model parameters! We need to calibrate. This next snippet shows how to do so."
   ]
  },
  {
   "cell_type": "code",
   "execution_count": 5,
   "metadata": {
    "execution": {
     "iopub.execute_input": "2021-09-08T20:37:02.449304Z",
     "iopub.status.busy": "2021-09-08T20:37:02.447661Z",
     "iopub.status.idle": "2021-09-08T20:37:06.197246Z",
     "shell.execute_reply": "2021-09-08T20:37:06.196910Z"
    }
   },
   "outputs": [],
   "source": [
    "# The model parameters bounds can either be set independently or we can use the defaults. We will use the defaults,\n",
    "# but if you wanted to use different values you could pass them as a comma delimited string, as so:\n",
    "lowerBounds = (\n",
    "    \"0.3, 0.01, 0.5, 0.15, 0.0, 0.0, -2.0, 0.01, 0.0, 0.01, 0.005, -5.0, \"\n",
    "    \"0.0, 0.0, 0.0, 0.0, 0.00001, 0.0, 0.00001, 0.0, 0.0\"\n",
    ")\n",
    "upperBounds = (\n",
    "    \"20.0, 5.0, 13.0, 1.5, 20.0, 20.0, 3.0, 0.2, 0.1, 0.3, 0.1, 2.0, 5.0, \"\n",
    "    \"1.0, 3.0, 1.0, 0.02, 0.1, 0.01, 0.5, 2.0\"\n",
    ")\n",
    "\n",
    "# ... and add them to the config dictionary below by uncommenting the two lines:\n",
    "\n",
    "# We'll definitely want to adjust the optimization algorithm, random seed and number of model evaluations\n",
    "algorithm = \"DDS\"\n",
    "max_iterations = 50  # This is to keep computing time fast for the demo, you should definitely increase this to a few hundreds or thousands.\n",
    "random_seed = (\n",
    "    1,\n",
    ")  # This is to allow reproduction. If it is left uncommented in the configuration below, the results will always be the same. Therefore it should always be commented except for debugging cases\n",
    "\n",
    "# We will also calibrate on only a subset of the years for now to keep the computations faster in this notebook.\n",
    "start_calib = dt.datetime(1998, 1, 1)\n",
    "end_calib = dt.datetime(1999, 12, 31)\n",
    "\n",
    "# Model configuration parameters\n",
    "config = dict(\n",
    "    start_date=start_calib,\n",
    "    end_date=end_calib,\n",
    "    area=basin_area,\n",
    "    elevation=basin_elevation,\n",
    "    # upperBounds=upperBounds,\n",
    "    # lowerBounds=lowerBounds,\n",
    "    random_seed=random_seed,\n",
    "    algorithm=algorithm,\n",
    "    max_iterations=max_iterations,\n",
    "    latitude=basin_latitude,\n",
    "    longitude=basin_longitude,\n",
    "    suppress_output=True,  # This will make raven much faster as it will not write the model outputs to file after each evaluation.\n",
    "    run_name=\"test_hmets_NRCAN\",\n",
    "    rain_snow_fraction=\"RAINSNOW_DINGMAN\",\n",
    "    nc_spec=json.dumps(\n",
    "        {\n",
    "            \"tasmax\": {\"offset\": -273.15},\n",
    "            \"tasmin\": {\"offset\": -273.15},\n",
    "            \"pr\": {\"scale\": 86400.0},\n",
    "        },\n",
    "    ),  # This allows transforming and scaling units for Raven\n",
    ")\n",
    "\n",
    "# Let's call the model with the timeseries (meteorological and observed streamflow for calibration!),\n",
    "# model parameters and other configuration parameters\n",
    "resp = wps.ostrich_hmets(ts=str(path), **config)\n",
    "\n",
    "# And get the response\n",
    "# With `asobj` set to False, only the reference to the output is returned in the response.\n",
    "# Setting `asobj` to True will retrieve the actual files and copy the locally.\n",
    "[calibration, hydrograph, storage, solution, diagnostics, calibparams, rv] = resp.get(\n",
    "    asobj=True\n",
    ")"
   ]
  },
  {
   "cell_type": "code",
   "execution_count": 6,
   "metadata": {
    "execution": {
     "iopub.execute_input": "2021-09-08T20:37:06.200767Z",
     "iopub.status.busy": "2021-09-08T20:37:06.200208Z",
     "iopub.status.idle": "2021-09-08T20:37:06.202836Z",
     "shell.execute_reply": "2021-09-08T20:37:06.202446Z"
    }
   },
   "outputs": [
    {
     "name": "stdout",
     "output_type": "stream",
     "text": [
      "14.84182, 0.06444441, 9.056403, 1.474334, 10.06818, 15.33386, 2.105304, 0.0629425, 0.04687986, 0.2330103, 0.08535756, 0.4835641, 3.836542, 0.8082868, 2.463173, 0.9814977, 0.01988597, 0.004307281, 0.005753699, 168.25789999999998, 67.11683000000001\n"
     ]
    }
   ],
   "source": [
    "# We can see the calibrated parameters:\n",
    "print(calibparams)"
   ]
  },
  {
   "cell_type": "code",
   "execution_count": 7,
   "metadata": {
    "execution": {
     "iopub.execute_input": "2021-09-08T20:37:06.205950Z",
     "iopub.status.busy": "2021-09-08T20:37:06.205506Z",
     "iopub.status.idle": "2021-09-08T20:37:06.209274Z",
     "shell.execute_reply": "2021-09-08T20:37:06.208949Z"
    }
   },
   "outputs": [
    {
     "name": "stdout",
     "output_type": "stream",
     "text": [
      "observed data series,filename,DIAG_NASH_SUTCLIFFE,DIAG_RMSE,\n",
      "HYDROGRAPH_ALL,/tmp/pywps_process_toq9iq7b/input.nc,0.0886072,24.1576,\n",
      "\n"
     ]
    }
   ],
   "source": [
    "# And also the NSE value:\n",
    "print(diagnostics)"
   ]
  },
  {
   "cell_type": "markdown",
   "metadata": {},
   "source": [
    "At this stage, we have calibrated the model on the observations for the desired dates. Now, let's run the model on a longer time period and look at the hydrograph"
   ]
  },
  {
   "cell_type": "code",
   "execution_count": 8,
   "metadata": {
    "execution": {
     "iopub.execute_input": "2021-09-08T20:37:06.213622Z",
     "iopub.status.busy": "2021-09-08T20:37:06.213231Z",
     "iopub.status.idle": "2021-09-08T20:37:08.124534Z",
     "shell.execute_reply": "2021-09-08T20:37:08.124830Z"
    }
   },
   "outputs": [],
   "source": [
    "# The model parameters. Can either be a string of comma separated values, a list, an array or a named tuple.\n",
    "# Here we will use the calibrated parameters, but we could overwrite them with our own parameters as so:\n",
    "\n",
    "# calibparams = '9.5019, 0.2774, 6.3942, 0.6884, 1.2875, 5.4134, 2.3641, 0.0973, 0.0464, 0.1998, 0.0222, -1.0919, ' \\\n",
    "#               '     2.6851, 0.3740, 1.0000, 0.4739, 0.0114, 0.0243, 0.0069, 310.7211, 916.1947'\n",
    "\n",
    "# Model configuration parameters\n",
    "config = dict(\n",
    "    start_date=start,\n",
    "    end_date=stop,\n",
    "    area=basin_area,\n",
    "    elevation=basin_elevation,\n",
    "    latitude=basin_latitude,\n",
    "    longitude=basin_longitude,\n",
    "    run_name=\"test_hmets_NRCAN\",\n",
    "    rain_snow_fraction=\"RAINSNOW_DINGMAN\",\n",
    "    nc_spec=json.dumps(\n",
    "        {\n",
    "            \"tasmax\": {\"offset\": -273.15},\n",
    "            \"tasmin\": {\"offset\": -273.15},\n",
    "            \"pr\": {\"scale\": 86400.0},\n",
    "        },\n",
    "    ),\n",
    ")\n",
    "\n",
    "# Let's call the model with the timeseries, model parameters and other configuration parameters\n",
    "resp = wps.raven_hmets(ts=str(path), params=calibparams, nc_index=watershedID, **config)"
   ]
  },
  {
   "cell_type": "code",
   "execution_count": 9,
   "metadata": {
    "execution": {
     "iopub.execute_input": "2021-09-08T20:37:08.131027Z",
     "iopub.status.busy": "2021-09-08T20:37:08.130243Z",
     "iopub.status.idle": "2021-09-08T20:37:08.182655Z",
     "shell.execute_reply": "2021-09-08T20:37:08.182262Z"
    }
   },
   "outputs": [],
   "source": [
    "# And get the response\n",
    "# With `asobj` set to False, only the reference to the output is returned in the response.\n",
    "# Setting `asobj` to True will retrieve the actual files and copy the locally.\n",
    "[hydrograph, storage, solution, diagnostics, rv] = resp.get(asobj=True)"
   ]
  },
  {
   "cell_type": "markdown",
   "metadata": {},
   "source": [
    "Since we requested output objects, we can simply access the output objects. The diagnostics is just a CSV file:"
   ]
  },
  {
   "cell_type": "code",
   "execution_count": 10,
   "metadata": {
    "execution": {
     "iopub.execute_input": "2021-09-08T20:37:08.185154Z",
     "iopub.status.busy": "2021-09-08T20:37:08.184807Z",
     "iopub.status.idle": "2021-09-08T20:37:08.186392Z",
     "shell.execute_reply": "2021-09-08T20:37:08.186728Z"
    }
   },
   "outputs": [
    {
     "name": "stdout",
     "output_type": "stream",
     "text": [
      "observed data series,filename,DIAG_NASH_SUTCLIFFE,DIAG_RMSE,\n",
      "HYDROGRAPH_ALL,/tmp/pywps_process_bp6z6vom/input.nc,-0.00365238,28.8105,\n",
      "\n"
     ]
    }
   ],
   "source": [
    "# We can analyze and plot the data directly here to see what it looks like, or we could download the data directly by\n",
    "# changing the asobj=True to asobj=False in the cell above this one.\n",
    "print(diagnostics)"
   ]
  },
  {
   "cell_type": "code",
   "execution_count": 11,
   "metadata": {
    "execution": {
     "iopub.execute_input": "2021-09-08T20:37:08.189079Z",
     "iopub.status.busy": "2021-09-08T20:37:08.188737Z",
     "iopub.status.idle": "2021-09-08T20:37:08.190806Z",
     "shell.execute_reply": "2021-09-08T20:37:08.190476Z"
    }
   },
   "outputs": [
    {
     "name": "stdout",
     "output_type": "stream",
     "text": [
      "observed data series,filename,DIAG_NASH_SUTCLIFFE,DIAG_RMSE,\n",
      "HYDROGRAPH_ALL,/tmp/pywps_process_bp6z6vom/input.nc,-0.00365238,28.8105,\n",
      "\n"
     ]
    }
   ],
   "source": [
    "print(diagnostics)"
   ]
  },
  {
   "cell_type": "markdown",
   "metadata": {},
   "source": [
    "The `hydrograph` and `storage` outputs are netCDF files storing the time series. These files are opened by default using `xarray`, which provides convenient and powerful time series analysis and plotting tools."
   ]
  },
  {
   "cell_type": "code",
   "execution_count": 12,
   "metadata": {
    "execution": {
     "iopub.execute_input": "2021-09-08T20:37:08.194893Z",
     "iopub.status.busy": "2021-09-08T20:37:08.194524Z",
     "iopub.status.idle": "2021-09-08T20:37:08.235636Z",
     "shell.execute_reply": "2021-09-08T20:37:08.235272Z"
    }
   },
   "outputs": [
    {
     "data": {
      "text/html": [
       "<div><svg style=\"position: absolute; width: 0; height: 0; overflow: hidden\">\n",
       "<defs>\n",
       "<symbol id=\"icon-database\" viewBox=\"0 0 32 32\">\n",
       "<path d=\"M16 0c-8.837 0-16 2.239-16 5v4c0 2.761 7.163 5 16 5s16-2.239 16-5v-4c0-2.761-7.163-5-16-5z\"></path>\n",
       "<path d=\"M16 17c-8.837 0-16-2.239-16-5v6c0 2.761 7.163 5 16 5s16-2.239 16-5v-6c0 2.761-7.163 5-16 5z\"></path>\n",
       "<path d=\"M16 26c-8.837 0-16-2.239-16-5v6c0 2.761 7.163 5 16 5s16-2.239 16-5v-6c0 2.761-7.163 5-16 5z\"></path>\n",
       "</symbol>\n",
       "<symbol id=\"icon-file-text2\" viewBox=\"0 0 32 32\">\n",
       "<path d=\"M28.681 7.159c-0.694-0.947-1.662-2.053-2.724-3.116s-2.169-2.030-3.116-2.724c-1.612-1.182-2.393-1.319-2.841-1.319h-15.5c-1.378 0-2.5 1.121-2.5 2.5v27c0 1.378 1.122 2.5 2.5 2.5h23c1.378 0 2.5-1.122 2.5-2.5v-19.5c0-0.448-0.137-1.23-1.319-2.841zM24.543 5.457c0.959 0.959 1.712 1.825 2.268 2.543h-4.811v-4.811c0.718 0.556 1.584 1.309 2.543 2.268zM28 29.5c0 0.271-0.229 0.5-0.5 0.5h-23c-0.271 0-0.5-0.229-0.5-0.5v-27c0-0.271 0.229-0.5 0.5-0.5 0 0 15.499-0 15.5 0v7c0 0.552 0.448 1 1 1h7v19.5z\"></path>\n",
       "<path d=\"M23 26h-14c-0.552 0-1-0.448-1-1s0.448-1 1-1h14c0.552 0 1 0.448 1 1s-0.448 1-1 1z\"></path>\n",
       "<path d=\"M23 22h-14c-0.552 0-1-0.448-1-1s0.448-1 1-1h14c0.552 0 1 0.448 1 1s-0.448 1-1 1z\"></path>\n",
       "<path d=\"M23 18h-14c-0.552 0-1-0.448-1-1s0.448-1 1-1h14c0.552 0 1 0.448 1 1s-0.448 1-1 1z\"></path>\n",
       "</symbol>\n",
       "</defs>\n",
       "</svg>\n",
       "<style>/* CSS stylesheet for displaying xarray objects in jupyterlab.\n",
       " *\n",
       " */\n",
       "\n",
       ":root {\n",
       "  --xr-font-color0: var(--jp-content-font-color0, rgba(0, 0, 0, 1));\n",
       "  --xr-font-color2: var(--jp-content-font-color2, rgba(0, 0, 0, 0.54));\n",
       "  --xr-font-color3: var(--jp-content-font-color3, rgba(0, 0, 0, 0.38));\n",
       "  --xr-border-color: var(--jp-border-color2, #e0e0e0);\n",
       "  --xr-disabled-color: var(--jp-layout-color3, #bdbdbd);\n",
       "  --xr-background-color: var(--jp-layout-color0, white);\n",
       "  --xr-background-color-row-even: var(--jp-layout-color1, white);\n",
       "  --xr-background-color-row-odd: var(--jp-layout-color2, #eeeeee);\n",
       "}\n",
       "\n",
       "html[theme=dark],\n",
       "body.vscode-dark {\n",
       "  --xr-font-color0: rgba(255, 255, 255, 1);\n",
       "  --xr-font-color2: rgba(255, 255, 255, 0.54);\n",
       "  --xr-font-color3: rgba(255, 255, 255, 0.38);\n",
       "  --xr-border-color: #1F1F1F;\n",
       "  --xr-disabled-color: #515151;\n",
       "  --xr-background-color: #111111;\n",
       "  --xr-background-color-row-even: #111111;\n",
       "  --xr-background-color-row-odd: #313131;\n",
       "}\n",
       "\n",
       ".xr-wrap {\n",
       "  display: block;\n",
       "  min-width: 300px;\n",
       "  max-width: 700px;\n",
       "}\n",
       "\n",
       ".xr-text-repr-fallback {\n",
       "  /* fallback to plain text repr when CSS is not injected (untrusted notebook) */\n",
       "  display: none;\n",
       "}\n",
       "\n",
       ".xr-header {\n",
       "  padding-top: 6px;\n",
       "  padding-bottom: 6px;\n",
       "  margin-bottom: 4px;\n",
       "  border-bottom: solid 1px var(--xr-border-color);\n",
       "}\n",
       "\n",
       ".xr-header > div,\n",
       ".xr-header > ul {\n",
       "  display: inline;\n",
       "  margin-top: 0;\n",
       "  margin-bottom: 0;\n",
       "}\n",
       "\n",
       ".xr-obj-type,\n",
       ".xr-array-name {\n",
       "  margin-left: 2px;\n",
       "  margin-right: 10px;\n",
       "}\n",
       "\n",
       ".xr-obj-type {\n",
       "  color: var(--xr-font-color2);\n",
       "}\n",
       "\n",
       ".xr-sections {\n",
       "  padding-left: 0 !important;\n",
       "  display: grid;\n",
       "  grid-template-columns: 150px auto auto 1fr 20px 20px;\n",
       "}\n",
       "\n",
       ".xr-section-item {\n",
       "  display: contents;\n",
       "}\n",
       "\n",
       ".xr-section-item input {\n",
       "  display: none;\n",
       "}\n",
       "\n",
       ".xr-section-item input + label {\n",
       "  color: var(--xr-disabled-color);\n",
       "}\n",
       "\n",
       ".xr-section-item input:enabled + label {\n",
       "  cursor: pointer;\n",
       "  color: var(--xr-font-color2);\n",
       "}\n",
       "\n",
       ".xr-section-item input:enabled + label:hover {\n",
       "  color: var(--xr-font-color0);\n",
       "}\n",
       "\n",
       ".xr-section-summary {\n",
       "  grid-column: 1;\n",
       "  color: var(--xr-font-color2);\n",
       "  font-weight: 500;\n",
       "}\n",
       "\n",
       ".xr-section-summary > span {\n",
       "  display: inline-block;\n",
       "  padding-left: 0.5em;\n",
       "}\n",
       "\n",
       ".xr-section-summary-in:disabled + label {\n",
       "  color: var(--xr-font-color2);\n",
       "}\n",
       "\n",
       ".xr-section-summary-in + label:before {\n",
       "  display: inline-block;\n",
       "  content: '►';\n",
       "  font-size: 11px;\n",
       "  width: 15px;\n",
       "  text-align: center;\n",
       "}\n",
       "\n",
       ".xr-section-summary-in:disabled + label:before {\n",
       "  color: var(--xr-disabled-color);\n",
       "}\n",
       "\n",
       ".xr-section-summary-in:checked + label:before {\n",
       "  content: '▼';\n",
       "}\n",
       "\n",
       ".xr-section-summary-in:checked + label > span {\n",
       "  display: none;\n",
       "}\n",
       "\n",
       ".xr-section-summary,\n",
       ".xr-section-inline-details {\n",
       "  padding-top: 4px;\n",
       "  padding-bottom: 4px;\n",
       "}\n",
       "\n",
       ".xr-section-inline-details {\n",
       "  grid-column: 2 / -1;\n",
       "}\n",
       "\n",
       ".xr-section-details {\n",
       "  display: none;\n",
       "  grid-column: 1 / -1;\n",
       "  margin-bottom: 5px;\n",
       "}\n",
       "\n",
       ".xr-section-summary-in:checked ~ .xr-section-details {\n",
       "  display: contents;\n",
       "}\n",
       "\n",
       ".xr-array-wrap {\n",
       "  grid-column: 1 / -1;\n",
       "  display: grid;\n",
       "  grid-template-columns: 20px auto;\n",
       "}\n",
       "\n",
       ".xr-array-wrap > label {\n",
       "  grid-column: 1;\n",
       "  vertical-align: top;\n",
       "}\n",
       "\n",
       ".xr-preview {\n",
       "  color: var(--xr-font-color3);\n",
       "}\n",
       "\n",
       ".xr-array-preview,\n",
       ".xr-array-data {\n",
       "  padding: 0 5px !important;\n",
       "  grid-column: 2;\n",
       "}\n",
       "\n",
       ".xr-array-data,\n",
       ".xr-array-in:checked ~ .xr-array-preview {\n",
       "  display: none;\n",
       "}\n",
       "\n",
       ".xr-array-in:checked ~ .xr-array-data,\n",
       ".xr-array-preview {\n",
       "  display: inline-block;\n",
       "}\n",
       "\n",
       ".xr-dim-list {\n",
       "  display: inline-block !important;\n",
       "  list-style: none;\n",
       "  padding: 0 !important;\n",
       "  margin: 0;\n",
       "}\n",
       "\n",
       ".xr-dim-list li {\n",
       "  display: inline-block;\n",
       "  padding: 0;\n",
       "  margin: 0;\n",
       "}\n",
       "\n",
       ".xr-dim-list:before {\n",
       "  content: '(';\n",
       "}\n",
       "\n",
       ".xr-dim-list:after {\n",
       "  content: ')';\n",
       "}\n",
       "\n",
       ".xr-dim-list li:not(:last-child):after {\n",
       "  content: ',';\n",
       "  padding-right: 5px;\n",
       "}\n",
       "\n",
       ".xr-has-index {\n",
       "  font-weight: bold;\n",
       "}\n",
       "\n",
       ".xr-var-list,\n",
       ".xr-var-item {\n",
       "  display: contents;\n",
       "}\n",
       "\n",
       ".xr-var-item > div,\n",
       ".xr-var-item label,\n",
       ".xr-var-item > .xr-var-name span {\n",
       "  background-color: var(--xr-background-color-row-even);\n",
       "  margin-bottom: 0;\n",
       "}\n",
       "\n",
       ".xr-var-item > .xr-var-name:hover span {\n",
       "  padding-right: 5px;\n",
       "}\n",
       "\n",
       ".xr-var-list > li:nth-child(odd) > div,\n",
       ".xr-var-list > li:nth-child(odd) > label,\n",
       ".xr-var-list > li:nth-child(odd) > .xr-var-name span {\n",
       "  background-color: var(--xr-background-color-row-odd);\n",
       "}\n",
       "\n",
       ".xr-var-name {\n",
       "  grid-column: 1;\n",
       "}\n",
       "\n",
       ".xr-var-dims {\n",
       "  grid-column: 2;\n",
       "}\n",
       "\n",
       ".xr-var-dtype {\n",
       "  grid-column: 3;\n",
       "  text-align: right;\n",
       "  color: var(--xr-font-color2);\n",
       "}\n",
       "\n",
       ".xr-var-preview {\n",
       "  grid-column: 4;\n",
       "}\n",
       "\n",
       ".xr-var-name,\n",
       ".xr-var-dims,\n",
       ".xr-var-dtype,\n",
       ".xr-preview,\n",
       ".xr-attrs dt {\n",
       "  white-space: nowrap;\n",
       "  overflow: hidden;\n",
       "  text-overflow: ellipsis;\n",
       "  padding-right: 10px;\n",
       "}\n",
       "\n",
       ".xr-var-name:hover,\n",
       ".xr-var-dims:hover,\n",
       ".xr-var-dtype:hover,\n",
       ".xr-attrs dt:hover {\n",
       "  overflow: visible;\n",
       "  width: auto;\n",
       "  z-index: 1;\n",
       "}\n",
       "\n",
       ".xr-var-attrs,\n",
       ".xr-var-data {\n",
       "  display: none;\n",
       "  background-color: var(--xr-background-color) !important;\n",
       "  padding-bottom: 5px !important;\n",
       "}\n",
       "\n",
       ".xr-var-attrs-in:checked ~ .xr-var-attrs,\n",
       ".xr-var-data-in:checked ~ .xr-var-data {\n",
       "  display: block;\n",
       "}\n",
       "\n",
       ".xr-var-data > table {\n",
       "  float: right;\n",
       "}\n",
       "\n",
       ".xr-var-name span,\n",
       ".xr-var-data,\n",
       ".xr-attrs {\n",
       "  padding-left: 25px !important;\n",
       "}\n",
       "\n",
       ".xr-attrs,\n",
       ".xr-var-attrs,\n",
       ".xr-var-data {\n",
       "  grid-column: 1 / -1;\n",
       "}\n",
       "\n",
       "dl.xr-attrs {\n",
       "  padding: 0;\n",
       "  margin: 0;\n",
       "  display: grid;\n",
       "  grid-template-columns: 125px auto;\n",
       "}\n",
       "\n",
       ".xr-attrs dt,\n",
       ".xr-attrs dd {\n",
       "  padding: 0;\n",
       "  margin: 0;\n",
       "  float: left;\n",
       "  padding-right: 10px;\n",
       "  width: auto;\n",
       "}\n",
       "\n",
       ".xr-attrs dt {\n",
       "  font-weight: normal;\n",
       "  grid-column: 1;\n",
       "}\n",
       "\n",
       ".xr-attrs dt:hover span {\n",
       "  display: inline-block;\n",
       "  background: var(--xr-background-color);\n",
       "  padding-right: 10px;\n",
       "}\n",
       "\n",
       ".xr-attrs dd {\n",
       "  grid-column: 2;\n",
       "  white-space: pre-wrap;\n",
       "  word-break: break-all;\n",
       "}\n",
       "\n",
       ".xr-icon-database,\n",
       ".xr-icon-file-text2 {\n",
       "  display: inline-block;\n",
       "  vertical-align: middle;\n",
       "  width: 1em;\n",
       "  height: 1.5em !important;\n",
       "  stroke-width: 0;\n",
       "  stroke: currentColor;\n",
       "  fill: currentColor;\n",
       "}\n",
       "</style><pre class='xr-text-repr-fallback'>&lt;xarray.DataArray &#x27;q_sim&#x27; (time: 4748, nbasins: 1)&gt;\n",
       "array([[ 0.      ],\n",
       "       [11.936645],\n",
       "       [23.861701],\n",
       "       ...,\n",
       "       [13.899536],\n",
       "       [14.810014],\n",
       "       [12.807957]])\n",
       "Coordinates:\n",
       "  * time        (time) datetime64[ns] 1998-01-01 1998-01-02 ... 2010-12-31\n",
       "    basin_name  (nbasins) object &#x27;sub_001&#x27;\n",
       "Dimensions without coordinates: nbasins\n",
       "Attributes:\n",
       "    units:      m**3 s**-1\n",
       "    long_name:  Simulated outflows</pre><div class='xr-wrap' hidden><div class='xr-header'><div class='xr-obj-type'>xarray.DataArray</div><div class='xr-array-name'>'q_sim'</div><ul class='xr-dim-list'><li><span class='xr-has-index'>time</span>: 4748</li><li><span>nbasins</span>: 1</li></ul></div><ul class='xr-sections'><li class='xr-section-item'><div class='xr-array-wrap'><input id='section-293c26b4-df30-49ae-8b3d-aec296319abb' class='xr-array-in' type='checkbox' checked><label for='section-293c26b4-df30-49ae-8b3d-aec296319abb' title='Show/hide data repr'><svg class='icon xr-icon-database'><use xlink:href='#icon-database'></use></svg></label><div class='xr-array-preview xr-preview'><span>0.0 11.94 23.86 23.84 23.81 23.78 ... 12.57 13.16 13.9 14.81 12.81</span></div><div class='xr-array-data'><pre>array([[ 0.      ],\n",
       "       [11.936645],\n",
       "       [23.861701],\n",
       "       ...,\n",
       "       [13.899536],\n",
       "       [14.810014],\n",
       "       [12.807957]])</pre></div></div></li><li class='xr-section-item'><input id='section-0fe6f5af-170d-4f30-8b7b-b76b86ebfd44' class='xr-section-summary-in' type='checkbox'  checked><label for='section-0fe6f5af-170d-4f30-8b7b-b76b86ebfd44' class='xr-section-summary' >Coordinates: <span>(2)</span></label><div class='xr-section-inline-details'></div><div class='xr-section-details'><ul class='xr-var-list'><li class='xr-var-item'><div class='xr-var-name'><span class='xr-has-index'>time</span></div><div class='xr-var-dims'>(time)</div><div class='xr-var-dtype'>datetime64[ns]</div><div class='xr-var-preview xr-preview'>1998-01-01 ... 2010-12-31</div><input id='attrs-e9b25f68-ad48-489b-8818-048a903a4341' class='xr-var-attrs-in' type='checkbox' ><label for='attrs-e9b25f68-ad48-489b-8818-048a903a4341' title='Show/Hide attributes'><svg class='icon xr-icon-file-text2'><use xlink:href='#icon-file-text2'></use></svg></label><input id='data-4318cffb-fcd0-48e9-b7bc-1a62365eacee' class='xr-var-data-in' type='checkbox'><label for='data-4318cffb-fcd0-48e9-b7bc-1a62365eacee' title='Show/Hide data repr'><svg class='icon xr-icon-database'><use xlink:href='#icon-database'></use></svg></label><div class='xr-var-attrs'><dl class='xr-attrs'><dt><span>standard_name :</span></dt><dd>time</dd></dl></div><div class='xr-var-data'><pre>array([&#x27;1998-01-01T00:00:00.000000000&#x27;, &#x27;1998-01-02T00:00:00.000000000&#x27;,\n",
       "       &#x27;1998-01-03T00:00:00.000000000&#x27;, ..., &#x27;2010-12-29T00:00:00.000000000&#x27;,\n",
       "       &#x27;2010-12-30T00:00:00.000000000&#x27;, &#x27;2010-12-31T00:00:00.000000000&#x27;],\n",
       "      dtype=&#x27;datetime64[ns]&#x27;)</pre></div></li><li class='xr-var-item'><div class='xr-var-name'><span>basin_name</span></div><div class='xr-var-dims'>(nbasins)</div><div class='xr-var-dtype'>object</div><div class='xr-var-preview xr-preview'>...</div><input id='attrs-f57664b3-5c49-484b-af50-150032772cfb' class='xr-var-attrs-in' type='checkbox' ><label for='attrs-f57664b3-5c49-484b-af50-150032772cfb' title='Show/Hide attributes'><svg class='icon xr-icon-file-text2'><use xlink:href='#icon-file-text2'></use></svg></label><input id='data-471cb2b6-9968-45d2-a471-d6ccc1abb3c7' class='xr-var-data-in' type='checkbox'><label for='data-471cb2b6-9968-45d2-a471-d6ccc1abb3c7' title='Show/Hide data repr'><svg class='icon xr-icon-database'><use xlink:href='#icon-database'></use></svg></label><div class='xr-var-attrs'><dl class='xr-attrs'><dt><span>long_name :</span></dt><dd>Name/ID of sub-basins with simulated outflows</dd><dt><span>cf_role :</span></dt><dd>timeseries_id</dd><dt><span>units :</span></dt><dd>1</dd></dl></div><div class='xr-var-data'><pre>array([&#x27;sub_001&#x27;], dtype=object)</pre></div></li></ul></div></li><li class='xr-section-item'><input id='section-1adfbc8a-1019-4135-b3a3-06f682e70752' class='xr-section-summary-in' type='checkbox'  checked><label for='section-1adfbc8a-1019-4135-b3a3-06f682e70752' class='xr-section-summary' >Attributes: <span>(2)</span></label><div class='xr-section-inline-details'></div><div class='xr-section-details'><dl class='xr-attrs'><dt><span>units :</span></dt><dd>m**3 s**-1</dd><dt><span>long_name :</span></dt><dd>Simulated outflows</dd></dl></div></li></ul></div></div>"
      ],
      "text/plain": [
       "<xarray.DataArray 'q_sim' (time: 4748, nbasins: 1)>\n",
       "array([[ 0.      ],\n",
       "       [11.936645],\n",
       "       [23.861701],\n",
       "       ...,\n",
       "       [13.899536],\n",
       "       [14.810014],\n",
       "       [12.807957]])\n",
       "Coordinates:\n",
       "  * time        (time) datetime64[ns] 1998-01-01 1998-01-02 ... 2010-12-31\n",
       "    basin_name  (nbasins) object ...\n",
       "Dimensions without coordinates: nbasins\n",
       "Attributes:\n",
       "    units:      m**3 s**-1\n",
       "    long_name:  Simulated outflows"
      ]
     },
     "execution_count": 12,
     "metadata": {},
     "output_type": "execute_result"
    }
   ],
   "source": [
    "hydrograph.q_sim"
   ]
  },
  {
   "cell_type": "code",
   "execution_count": 13,
   "metadata": {
    "execution": {
     "iopub.execute_input": "2021-09-08T20:37:08.238599Z",
     "iopub.status.busy": "2021-09-08T20:37:08.238201Z",
     "iopub.status.idle": "2021-09-08T20:37:08.361328Z",
     "shell.execute_reply": "2021-09-08T20:37:08.361914Z"
    }
   },
   "outputs": [
    {
     "data": {
      "text/plain": [
       "[<matplotlib.lines.Line2D at 0x7fc164fc7a90>]"
      ]
     },
     "execution_count": 13,
     "metadata": {},
     "output_type": "execute_result"
    },
    {
     "data": {
      "image/png": "[encoded data removed]",
      "text/plain": [
       "<Figure size 432x288 with 1 Axes>"
      ]
     },
     "metadata": {
      "needs_background": "light"
     },
     "output_type": "display_data"
    }
   ],
   "source": [
    "# Plot the simulated hydrograph\n",
    "from pandas.plotting import register_matplotlib_converters\n",
    "\n",
    "register_matplotlib_converters()\n",
    "hydrograph.q_sim.plot()"
   ]
  },
  {
   "cell_type": "code",
   "execution_count": 14,
   "metadata": {
    "execution": {
     "iopub.execute_input": "2021-09-08T20:37:08.367532Z",
     "iopub.status.busy": "2021-09-08T20:37:08.366839Z",
     "iopub.status.idle": "2021-09-08T20:37:08.375481Z",
     "shell.execute_reply": "2021-09-08T20:37:08.375119Z"
    }
   },
   "outputs": [
    {
     "name": "stdout",
     "output_type": "stream",
     "text": [
      "Max:  <xarray.DataArray 'q_sim' ()>\n",
      "array(259.95939439)\n",
      "Mean:  <xarray.DataArray 'q_sim' ()>\n",
      "array(13.58407278)\n",
      "Monthly means:  <xarray.DataArray 'q_sim' (month: 12, nbasins: 1)>\n",
      "array([[ 7.65032172],\n",
      "       [ 6.63937407],\n",
      "       [ 8.6459087 ],\n",
      "       [20.31188009],\n",
      "       [35.38097472],\n",
      "       [16.70298779],\n",
      "       [14.38227892],\n",
      "       [10.20047481],\n",
      "       [ 8.32604189],\n",
      "       [ 9.72928757],\n",
      "       [11.78167964],\n",
      "       [12.72717387]])\n",
      "Coordinates:\n",
      "    basin_name  (nbasins) object 'sub_001'\n",
      "  * month       (month) int64 1 2 3 4 5 6 7 8 9 10 11 12\n",
      "Dimensions without coordinates: nbasins\n"
     ]
    }
   ],
   "source": [
    "# You can also get statistics from the data directly here.\n",
    "print(\"Max: \", hydrograph.q_sim.max())\n",
    "print(\"Mean: \", hydrograph.q_sim.mean())\n",
    "print(\n",
    "    \"Monthly means: \",\n",
    "    hydrograph.q_sim.groupby(hydrograph.time.dt.month).mean(dim=\"time\"),\n",
    ")"
   ]
  },
  {
   "cell_type": "markdown",
   "metadata": {},
   "source": [
    "For an example of how to download the data directly to analyze locally on your own computer/server, see here:"
   ]
  },
  {
   "cell_type": "code",
   "execution_count": 15,
   "metadata": {
    "execution": {
     "iopub.execute_input": "2021-09-08T20:37:08.380556Z",
     "iopub.status.busy": "2021-09-08T20:37:08.380163Z",
     "iopub.status.idle": "2021-09-08T20:37:08.382445Z",
     "shell.execute_reply": "2021-09-08T20:37:08.382071Z"
    }
   },
   "outputs": [
    {
     "name": "stdout",
     "output_type": "stream",
     "text": [
      "https://pavics.ouranos.ca/wpsoutputs/8803ba38-10e4-11ec-af5b-a44cc85b43bf/test_hmets_NRCAN-0_Hydrographs.nc\n",
      "https://pavics.ouranos.ca/wpsoutputs/8803ba38-10e4-11ec-af5b-a44cc85b43bf/test_hmets_NRCAN-0_WatershedStorage.nc\n",
      "https://pavics.ouranos.ca/wpsoutputs/8803ba38-10e4-11ec-af5b-a44cc85b43bf/test_hmets_NRCAN-0_solution.rvc\n",
      "https://pavics.ouranos.ca/wpsoutputs/8803ba38-10e4-11ec-af5b-a44cc85b43bf/test_hmets_NRCAN-0_Diagnostics.csv\n",
      "https://pavics.ouranos.ca/wpsoutputs/8803ba38-10e4-11ec-af5b-a44cc85b43bf/rv.zip\n"
     ]
    }
   ],
   "source": [
    "# Rerun the analysis of the WPS response, this type by using asobj=False.\n",
    "[hydrograph, storage, solution, diagnostics, rv] = resp.get(asobj=False)\n",
    "print(hydrograph)\n",
    "print(storage)\n",
    "print(solution)\n",
    "print(diagnostics)\n",
    "print(rv)"
   ]
  }
 ],
 "metadata": {
  "kernelspec": {
   "display_name": "Python 3",
   "language": "python",
   "name": "python3"
  },
  "language_info": {
   "codemirror_mode": {
    "name": "ipython",
    "version": 3
   },
   "file_extension": ".py",
   "mimetype": "text/x-python",
   "name": "python",
   "nbconvert_exporter": "python",
   "pygments_lexer": "ipython3",
   "version": "3.9.6"
  }
 },
 "nbformat": 4,
 "nbformat_minor": 1
}
