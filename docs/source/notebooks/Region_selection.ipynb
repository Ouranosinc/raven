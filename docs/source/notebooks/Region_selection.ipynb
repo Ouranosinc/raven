{
 "cells": [
  {
   "cell_type": "markdown",
   "metadata": {},
   "source": [
    "# Region Selection and Map Preview with Ipyleaflet"
   ]
  },
  {
   "cell_type": "code",
   "execution_count": 1,
   "metadata": {},
   "outputs": [],
   "source": [
    "# Import the necessary libraries to format, send, and parse our returned results\n",
    "\n",
    "import birdy\n",
    "import json\n",
    "import geopandas as gpd\n",
    "import requests\n",
    "import matplotlib\n",
    "import ipyleaflet\n",
    "import ipywidgets\n",
    "import os"
   ]
  },
  {
   "cell_type": "code",
   "execution_count": 2,
   "metadata": {},
   "outputs": [
    {
     "name": "stdout",
     "output_type": "stream",
     "text": [
      "Enabling notebook extension jupyter-leaflet/extension...\r\n",
      "      - Validating: \u001b[32mOK\u001b[0m\r\n"
     ]
    }
   ],
   "source": [
    "# Ensure that the ipyleaflet extension is enbaled\n",
    "\n",
    "!jupyter nbextension enable --py --sys-prefix ipyleaflet"
   ]
  },
  {
   "cell_type": "code",
   "execution_count": 3,
   "metadata": {},
   "outputs": [],
   "source": [
    "# Create WPS instances\n",
    "# Set environment variable RAVEN_WPS_URL to \"http://localhost:9099\" to run on the default local server\n",
    "pavics_url = \"https://pavics.ouranos.ca\"\n",
    "raven_url = os.environ.get(\"RAVEN_WPS_URL\", f\"{pavics_url}/twitcher/ows/proxy/raven/wps\")\n",
    "\n",
    "raven = birdy.WPSClient(raven_url, progress=True)"
   ]
  },
  {
   "cell_type": "code",
   "execution_count": 4,
   "metadata": {},
   "outputs": [],
   "source": [
    "# Build an interactive map with ipyleaflet\n",
    "\n",
    "initial_lat_lon = (48.63, -74.71)\n",
    "\n",
    "leaflet_map = ipyleaflet.Map(\n",
    "    center=initial_lat_lon,\n",
    "    basemap=ipyleaflet.basemaps.OpenTopoMap,\n",
    ")\n",
    "\n",
    "# Add a custom zoom slider\n",
    "zoom_slider = ipywidgets.IntSlider(description='Zoom level:', min=1, max=10, value=5)\n",
    "ipywidgets.jslink((zoom_slider, 'value'), (leaflet_map, 'zoom'))\n",
    "widget_control1 = ipyleaflet.WidgetControl(widget=zoom_slider, position='topright')\n",
    "leaflet_map.add_control(widget_control1)\n",
    "\n",
    "# Add a marker to the map\n",
    "marker = ipyleaflet.Marker(location=initial_lat_lon, draggable=True)\n",
    "leaflet_map.add_layer(marker)"
   ]
  },
  {
   "cell_type": "code",
   "execution_count": 5,
   "metadata": {},
   "outputs": [],
   "source": [
    "# Add an overlay widget\n",
    "\n",
    "html = ipywidgets.HTML(\"\"\"Hover over a feature!\"\"\")\n",
    "html.layout.margin = '0px 10px 10px 10px'\n",
    "\n",
    "control = ipyleaflet.WidgetControl(widget=html, position='bottomleft')\n",
    "leaflet_map.add_control(control)\n",
    "\n",
    "def update_html(feature,  **kwargs):\n",
    "    html.value = '''\n",
    "        <h2><b>USGS HydroBASINS</b></h2>\n",
    "        <h4>ID: {}</h4>\n",
    "        <h4>Upstream Area: {} sq. km.</h4> \n",
    "        <h4>Sub-basin Area: {} sq. km.</h4>\n",
    "    '''.format(feature['properties']['id'],\n",
    "               feature['properties']['UP_AREA'],\n",
    "               feature['properties']['SUB_AREA'])"
   ]
  },
  {
   "cell_type": "code",
   "execution_count": 6,
   "metadata": {},
   "outputs": [
    {
     "data": {
      "application/vnd.jupyter.widget-view+json": {
       "model_id": "6bf0347c6e9846b48bd0f5c7b54816ce",
       "version_major": 2,
       "version_minor": 0
      },
      "text/plain": [
       "Map(basemap={'url': 'https://{s}.tile.opentopomap.org/{z}/{x}/{y}.png', 'max_zoom': 17, 'attribution': 'Map da…"
      ]
     },
     "metadata": {},
     "output_type": "display_data"
    }
   ],
   "source": [
    "# Load the map in the notebook\n",
    "leaflet_map"
   ]
  },
  {
   "cell_type": "markdown",
   "metadata": {},
   "source": [
    "**Before continuing!**\n",
    "\n",
    "Try dragging and placing the marker at the mouth of a river, over a large lake such as Lac Saint Jean (next to Alma, east of the initial marker position), or anywhere else within North America."
   ]
  },
  {
   "cell_type": "code",
   "execution_count": 7,
   "metadata": {},
   "outputs": [
    {
     "data": {
      "text/plain": [
       "[-72.33398437500001, 48.748945343432936]"
      ]
     },
     "execution_count": 7,
     "metadata": {},
     "output_type": "execute_result"
    }
   ],
   "source": [
    "user_lonlat = list(reversed(marker.location))\n",
    "user_lonlat"
   ]
  },
  {
   "cell_type": "code",
   "execution_count": 8,
   "metadata": {},
   "outputs": [
    {
     "data": {
      "application/vnd.jupyter.widget-view+json": {
       "model_id": "a484d2457236427e97fcefe4439800a6",
       "version_major": 2,
       "version_minor": 0
      },
      "text/plain": [
       "HBox(children=(IntProgress(value=0, bar_style='info', description='Processing:'), Button(button_style='danger'…"
      ]
     },
     "metadata": {},
     "output_type": "display_data"
    }
   ],
   "source": [
    "# NBVAL_SKIP\n",
    "# Get the shape of the watershed contributing to flow at the selected location. \n",
    "resp = raven.hydrobasins_select(location=str(user_lonlat), aggregate_upstream=True)"
   ]
  },
  {
   "cell_type": "code",
   "execution_count": 9,
   "metadata": {},
   "outputs": [],
   "source": [
    "# NBVAL_SKIP\n",
    "# Before continuing, wait for the process to finish!\n",
    "\n",
    "# Extract the URL of the resulting GeoJSON feature\n",
    "features, ids = resp.get(asobj=True)\n",
    "\n",
    "user_shape = resp.get(asobj=False).feature\n",
    "\n",
    "# Examine its properties\n",
    "#features[0]['properties']"
   ]
  },
  {
   "cell_type": "code",
   "execution_count": 10,
   "metadata": {},
   "outputs": [],
   "source": [
    "# NBVAL_SKIP\n",
    "# Add this GeoJSON to the map above!\n",
    "#df = gpd.GeoDataFrame.from_features(features)\n",
    "df = gpd.read_file(user_shape)\n",
    "\n",
    "user_geojson = ipyleaflet.GeoData(geo_dataframe=df, \n",
    "    style = {\n",
    "        'color': 'blue', \n",
    "        'opacity':1, \n",
    "        'weight':1.9, \n",
    "        'fillOpacity':0.5,\n",
    "    },\n",
    "                                  \n",
    "    hover_style={'fillColor': '#b08a3e' , 'fillOpacity': 0.9}\n",
    ")\n",
    "\n",
    "leaflet_map.add_layer(user_geojson)\n",
    "\n",
    "user_geojson.on_hover(update_html)"
   ]
  },
  {
   "cell_type": "code",
   "execution_count": null,
   "metadata": {},
   "outputs": [],
   "source": []
  }
 ],
 "metadata": {
  "kernelspec": {
   "display_name": "Python 3",
   "language": "python",
   "name": "python3"
  },
  "language_info": {
   "codemirror_mode": {
    "name": "ipython",
    "version": 3
   },
   "file_extension": ".py",
   "mimetype": "text/x-python",
   "name": "python",
   "nbconvert_exporter": "python",
   "pygments_lexer": "ipython3",
   "version": "3.6.7"
  }
 },
 "nbformat": 4,
 "nbformat_minor": 2
}
