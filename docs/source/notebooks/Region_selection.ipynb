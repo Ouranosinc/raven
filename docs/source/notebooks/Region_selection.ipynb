{
 "cells": [
  {
   "cell_type": "code",
   "execution_count": 1,
   "metadata": {},
   "outputs": [
    {
     "name": "stdout",
     "output_type": "stream",
     "text": [
      "birdy: 0.6.5 \n",
      "json: 2.0.9 \n",
      "xarray: 0.14.0 \n",
      "requests: 2.22.0 \n",
      "matplotlib: 3.1.1 \n",
      "geopandas: 0.6.1 \n",
      "ipyleaflet: 0.11.4\n"
     ]
    }
   ],
   "source": [
    "# Import the necessary libraries to format, send, and parse our returned results\n",
    "\n",
    "%matplotlib inline\n",
    "\n",
    "import birdy\n",
    "import json\n",
    "import xarray as xr\n",
    "import requests\n",
    "import matplotlib\n",
    "import matplotlib.pyplot as plt\n",
    "import geopandas as gpd\n",
    "import ipyleaflet\n",
    "import ipywidgets\n",
    "\n",
    "print(\n",
    "    'birdy:', birdy.__version__, '\\n'\n",
    "    'json:', json.__version__, '\\n'\n",
    "    'xarray:', xr.__version__, '\\n'\n",
    "    'requests:', requests.__version__, '\\n'\n",
    "    'matplotlib:', matplotlib.__version__, '\\n'\n",
    "    'geopandas:', gpd.__version__, '\\n'\n",
    "    'ipyleaflet:', ipyleaflet.__version__\n",
    ")"
   ]
  },
  {
   "cell_type": "code",
   "execution_count": 2,
   "metadata": {},
   "outputs": [
    {
     "name": "stdout",
     "output_type": "stream",
     "text": [
      "Enabling notebook extension jupyter-leaflet/extension...\r\n",
      "      - Validating: \u001b[32mOK\u001b[0m\r\n"
     ]
    }
   ],
   "source": [
    "# Ensure that the ipyleaflet extension is enbaled\n",
    "\n",
    "!jupyter nbextension enable --py --sys-prefix ipyleaflet"
   ]
  },
  {
   "cell_type": "code",
   "execution_count": 3,
   "metadata": {},
   "outputs": [],
   "source": [
    "# Create WPS instances\n",
    "\n",
    "# # locally running instance\n",
    "# raven_url = \"http://localhost:9099/wps\"\n",
    "# raven = birdy.WPSClient(raven_url, progress=True)\n",
    "\n",
    "# instance via pavics.ouranos.ca\n",
    "pavics_url = \"https://pavics.ouranos.ca\"\n",
    "raven_url = f'{pavics_url}/twitcher/ows/proxy/raven/wps'\n",
    "\n",
    "raven = birdy.WPSClient(raven_url, progress=True)\n"
   ]
  },
  {
   "cell_type": "code",
   "execution_count": 4,
   "metadata": {},
   "outputs": [
    {
     "data": {
      "application/vnd.jupyter.widget-view+json": {
       "model_id": "b2eddccb60d54b7285f95006b1d75ec9",
       "version_major": 2,
       "version_minor": 0
      },
      "text/plain": [
       "Map(basemap={'url': 'https://{s}.tile.opentopomap.org/{z}/{x}/{y}.png', 'max_zoom': 17, 'attribution': 'Map da…"
      ]
     },
     "metadata": {},
     "output_type": "display_data"
    }
   ],
   "source": [
    "# Build an interactive map with ipyleaflet\n",
    "\n",
    "canada_center_lat_lon = (48.63, -74.71)\n",
    "\n",
    "leaflet_map = ipyleaflet.Map(\n",
    "    center=canada_center_lat_lon,\n",
    "    basemap=ipyleaflet.basemaps.OpenTopoMap,\n",
    ")\n",
    "\n",
    "\n",
    "zoom_slider = ipywidgets.IntSlider(description='Zoom level:', min=0, max=10, value=4)\n",
    "ipywidgets.jslink((zoom_slider, 'value'), (leaflet_map, 'zoom'))\n",
    "widget_control1 = ipyleaflet.WidgetControl(widget=zoom_slider, position='topright')\n",
    "leaflet_map.add_control(widget_control1)\n",
    "\n",
    "initial_marker_location = canada_center_lat_lon\n",
    "marker = ipyleaflet.Marker(location=initial_marker_location, draggable=True)\n",
    "leaflet_map.add_layer(marker)\n",
    "\n",
    "leaflet_map"
   ]
  },
  {
   "cell_type": "code",
   "execution_count": 5,
   "metadata": {},
   "outputs": [
    {
     "data": {
      "text/plain": [
       "[-74.71, 48.63]"
      ]
     },
     "execution_count": 5,
     "metadata": {},
     "output_type": "execute_result"
    }
   ],
   "source": [
    "user_lonlat = list(reversed(marker.location))\n",
    "user_lonlat"
   ]
  },
  {
   "cell_type": "code",
   "execution_count": 6,
   "metadata": {},
   "outputs": [
    {
     "data": {
      "application/vnd.jupyter.widget-view+json": {
       "model_id": "1a3a5c8ad4434ff893549f7c96d744db",
       "version_major": 2,
       "version_minor": 0
      },
      "text/plain": [
       "HBox(children=(IntProgress(value=0, bar_style='info', description='Processing:'), Button(button_style='danger'…"
      ]
     },
     "metadata": {},
     "output_type": "display_data"
    }
   ],
   "source": [
    "# geo = raven.hydrobasins_select(location=lonlat, aggregate_upstream=True)\n",
    "user_location = raven.hydrosheds_select(location=str(user_lonlat), aggregate_upstream=True)\n"
   ]
  },
  {
   "cell_type": "code",
   "execution_count": 7,
   "metadata": {},
   "outputs": [
    {
     "data": {
      "text/plain": [
       "'https://pavics.ouranos.ca/wpsoutputs/4b3e7934-f434-11e9-acb7-0242ac120006/input.geojson'"
      ]
     },
     "execution_count": 7,
     "metadata": {},
     "output_type": "execute_result"
    }
   ],
   "source": [
    "# Extract the URL of the resulting GeoJSON feature\n",
    "user_shape = user_location.get(asobj=False).feature\n",
    "user_shape"
   ]
  },
  {
   "cell_type": "code",
   "execution_count": 8,
   "metadata": {},
   "outputs": [],
   "source": [
    "# Add this GeoJSON to the map!\n",
    "user_data = requests.get(user_shape).json()\n",
    "user_geojson = ipyleaflet.GeoJSON(data=user_data, style = {'color': 'blue', 'opacity':1, 'weight':1.9, 'dashArray':'9', 'fillOpacity':0.5})\n",
    "leaflet_map.add_layer(user_geojson)"
   ]
  },
  {
   "cell_type": "code",
   "execution_count": 9,
   "metadata": {},
   "outputs": [
    {
     "data": {
      "application/vnd.jupyter.widget-view+json": {
       "model_id": "92bed90316094cdfa4b2dda0e87e9276",
       "version_major": 2,
       "version_minor": 0
      },
      "text/plain": [
       "HBox(children=(IntProgress(value=0, bar_style='info', description='Processing:'), Button(button_style='danger'…"
      ]
     },
     "metadata": {},
     "output_type": "display_data"
    },
    {
     "data": {
      "application/vnd.jupyter.widget-view+json": {
       "model_id": "d8ff57ed324a430ab7960acad29bf213",
       "version_major": 2,
       "version_minor": 0
      },
      "text/plain": [
       "HBox(children=(IntProgress(value=0, bar_style='info', description='Processing:'), Button(button_style='danger'…"
      ]
     },
     "metadata": {},
     "output_type": "display_data"
    }
   ],
   "source": [
    "# Let's add a few more regions to the map!\n",
    "\n",
    "smallwood = raven.hydrosheds_select(location=str([-64.2, 54.1]), aggregate_upstream=True)\n",
    "erie = raven.hydrosheds_select(location=str([-81.3, 41.95]), aggregate_upstream=True)"
   ]
  },
  {
   "cell_type": "code",
   "execution_count": 10,
   "metadata": {},
   "outputs": [],
   "source": [
    "# Run the hydrobasins selections\n",
    "smallwood_shape, erie_shape = smallwood.get(asobj=False).feature, erie.get(asobj=False).feature\n",
    "\n",
    "# Collect and read in the GeoJSON features\n",
    "smallwood_data, erie_data = requests.get(smallwood_shape).json(),requests.get(erie_shape).json()\n",
    "\n",
    "# Add them both to the map\n",
    "smallwood_geojson = ipyleaflet.GeoJSON(data=smallwood_data, style = {'color': 'magenta', 'opacity':1, 'weight':1.9, 'dashArray':'9', 'fillOpacity':0.5})\n",
    "erie_geojson = ipyleaflet.GeoJSON(data=erie_data, style = {'color': 'cyan', 'opacity':1, 'weight':1.9, 'dashArray':'9', 'fillOpacity':0.5})\n",
    "\n",
    "leaflet_map.add_layer(smallwood_geojson)\n",
    "leaflet_map.add_layer(erie_geojson)\n"
   ]
  }
 ],
 "metadata": {
  "kernelspec": {
   "display_name": "Python 3",
   "language": "python",
   "name": "python3"
  },
  "language_info": {
   "codemirror_mode": {
    "name": "ipython",
    "version": 3
   },
   "file_extension": ".py",
   "mimetype": "text/x-python",
   "name": "python",
   "nbconvert_exporter": "python",
   "pygments_lexer": "ipython3",
   "version": "3.6.7"
  }
 },
 "nbformat": 4,
 "nbformat_minor": 2
}
