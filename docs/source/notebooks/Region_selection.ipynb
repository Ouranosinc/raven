{
 "cells": [
  {
   "cell_type": "markdown",
   "metadata": {},
   "source": [
    "# Region Selection and Map Preview with Ipyleaflet"
   ]
  },
  {
   "cell_type": "code",
   "execution_count": 19,
   "metadata": {
    "ExecuteTime": {
     "end_time": "2023-08-02T15:51:17.932498228Z",
     "start_time": "2023-08-02T15:51:17.930490681Z"
    }
   },
   "outputs": [],
   "source": [
    "# Import the necessary libraries to format, send, and parse our returned results\n",
    "import os\n",
    "\n",
    "import birdy\n",
    "import geopandas as gpd\n",
    "import ipyleaflet\n",
    "import ipywidgets"
   ]
  },
  {
   "cell_type": "markdown",
   "metadata": {},
   "source": [
    "If your `notebook` is version prior to `5.3`, you might need to run this command `jupyter nbextension enable --py --sys-prefix ipyleaflet`.  For more information see https://ipyleaflet.readthedocs.io/en/latest/installation.html."
   ]
  },
  {
   "cell_type": "code",
   "execution_count": 20,
   "metadata": {
    "ExecuteTime": {
     "end_time": "2023-08-02T15:51:18.340139930Z",
     "start_time": "2023-08-02T15:51:17.930716737Z"
    }
   },
   "outputs": [],
   "source": [
    "# Create WPS instances\n",
    "# Set environment variable WPS_URL to \"http://localhost:9099\" to run on the default local server\n",
    "pavics_url = \"https://pavics.ouranos.ca\"\n",
    "raven_url = os.environ.get(\"WPS_URL\", f\"{pavics_url}/twitcher/ows/proxy/raven/wps\")\n",
    "\n",
    "raven = birdy.WPSClient(raven_url)"
   ]
  },
  {
   "cell_type": "code",
   "execution_count": 21,
   "metadata": {
    "ExecuteTime": {
     "end_time": "2023-08-02T15:51:18.387787911Z",
     "start_time": "2023-08-02T15:51:18.353245743Z"
    }
   },
   "outputs": [],
   "source": [
    "# Build an interactive map with ipyleaflet\n",
    "\n",
    "initial_lat_lon = (48.63, -74.71)\n",
    "\n",
    "leaflet_map = ipyleaflet.Map(\n",
    "    center=initial_lat_lon,\n",
    "    basemap=ipyleaflet.basemaps.OpenTopoMap,\n",
    ")\n",
    "\n",
    "# Add a custom zoom slider\n",
    "zoom_slider = ipywidgets.IntSlider(description=\"Zoom level:\", min=1, max=10, value=6)\n",
    "ipywidgets.jslink((zoom_slider, \"value\"), (leaflet_map, \"zoom\"))\n",
    "widget_control1 = ipyleaflet.WidgetControl(widget=zoom_slider, position=\"topright\")\n",
    "leaflet_map.add_control(widget_control1)\n",
    "\n",
    "# Add a marker to the map\n",
    "marker = ipyleaflet.Marker(location=initial_lat_lon, draggable=True)\n",
    "leaflet_map.add_layer(marker)"
   ]
  },
  {
   "cell_type": "code",
   "execution_count": 22,
   "metadata": {},
   "outputs": [],
   "source": [
    "# Add an overlay widget\n",
    "\n",
    "html = ipywidgets.HTML(\"\"\"Hover over a feature!\"\"\")\n",
    "html.layout.margin = \"0px 10px 10px 10px\"\n",
    "\n",
    "control = ipyleaflet.WidgetControl(widget=html, position=\"bottomleft\")\n",
    "leaflet_map.add_control(control)\n",
    "\n",
    "\n",
    "def update_html(feature, **kwargs):\n",
    "    html.value = \"\"\"\n",
    "        <h2><b>USGS HydroBASINS</b></h2>\n",
    "        <h4>ID: {}</h4>\n",
    "        <h4>Upstream Area: {} sq. km.</h4> \n",
    "        <h4>Sub-basin Area: {} sq. km.</h4>\n",
    "    \"\"\".format(\n",
    "        feature[\"properties\"][\"id\"],\n",
    "        feature[\"properties\"][\"UP_AREA\"],\n",
    "        feature[\"properties\"][\"SUB_AREA\"],\n",
    "    )"
   ]
  },
  {
   "cell_type": "code",
   "execution_count": 23,
   "metadata": {},
   "outputs": [
    {
     "data": {
      "application/vnd.jupyter.widget-view+json": {
       "model_id": "3865d831f8234a53bd8e93fc23c3aa53",
       "version_major": 2,
       "version_minor": 0
      },
      "text/plain": [
       "Map(center=[48.63, -74.71], controls=(ZoomControl(options=['position', 'zoom_in_text', 'zoom_in_title', 'zoom_…"
      ]
     },
     "execution_count": 23,
     "metadata": {},
     "output_type": "execute_result"
    }
   ],
   "source": [
    "# Load the map in the notebook\n",
    "leaflet_map"
   ]
  },
  {
   "cell_type": "markdown",
   "metadata": {},
   "source": [
    "**Before continuing!**\n",
    "\n",
    "Try dragging and placing the marker at the mouth of a river, over a large lake such as Lac Saint Jean (next to Alma, east of the initial marker position), or anywhere else within North America."
   ]
  },
  {
   "cell_type": "code",
   "execution_count": 24,
   "metadata": {
    "ExecuteTime": {
     "end_time": "2023-08-02T15:51:18.472499646Z",
     "start_time": "2023-08-02T15:51:18.467653248Z"
    }
   },
   "outputs": [
    {
     "data": {
      "text/plain": [
       "[-74.71, 48.63]"
      ]
     },
     "execution_count": 24,
     "metadata": {},
     "output_type": "execute_result"
    }
   ],
   "source": [
    "user_lonlat = list(reversed(marker.location))\n",
    "user_lonlat"
   ]
  },
  {
   "cell_type": "code",
   "execution_count": 25,
   "metadata": {
    "ExecuteTime": {
     "end_time": "2023-08-02T15:51:25.526813115Z",
     "start_time": "2023-08-02T15:51:18.467864231Z"
    }
   },
   "outputs": [],
   "source": [
    "# Get the shape of the watershed contributing to flow at the selected location.\n",
    "resp = raven.hydrobasins_select(location=str(user_lonlat), aggregate_upstream=True)"
   ]
  },
  {
   "cell_type": "code",
   "execution_count": 26,
   "metadata": {
    "ExecuteTime": {
     "end_time": "2023-08-02T15:51:25.720013852Z",
     "start_time": "2023-08-02T15:51:25.527131157Z"
    }
   },
   "outputs": [
    {
     "data": {
      "text/html": [
       "<div>\n",
       "<style scoped>\n",
       "    .dataframe tbody tr th:only-of-type {\n",
       "        vertical-align: middle;\n",
       "    }\n",
       "\n",
       "    .dataframe tbody tr th {\n",
       "        vertical-align: top;\n",
       "    }\n",
       "\n",
       "    .dataframe thead th {\n",
       "        text-align: right;\n",
       "    }\n",
       "</style>\n",
       "<table border=\"1\" class=\"dataframe\">\n",
       "  <thead>\n",
       "    <tr style=\"text-align: right;\">\n",
       "      <th></th>\n",
       "      <th>id</th>\n",
       "      <th>HYBAS_ID</th>\n",
       "      <th>NEXT_DOWN</th>\n",
       "      <th>NEXT_SINK</th>\n",
       "      <th>DIST_SINK</th>\n",
       "      <th>DIST_MAIN</th>\n",
       "      <th>SUB_AREA</th>\n",
       "      <th>UP_AREA</th>\n",
       "      <th>PFAF_ID</th>\n",
       "      <th>SIDE</th>\n",
       "      <th>LAKE</th>\n",
       "      <th>ENDO</th>\n",
       "      <th>COAST</th>\n",
       "      <th>ORDER</th>\n",
       "      <th>SORT</th>\n",
       "      <th>geometry</th>\n",
       "    </tr>\n",
       "  </thead>\n",
       "  <tbody>\n",
       "    <tr>\n",
       "      <th>0</th>\n",
       "      <td>USGS_HydroBASINS_lake_na_lev12.99410</td>\n",
       "      <td>7129001061</td>\n",
       "      <td>7120323452</td>\n",
       "      <td>7120034520</td>\n",
       "      <td>517.6</td>\n",
       "      <td>517.6</td>\n",
       "      <td>8470.5</td>\n",
       "      <td>8773.1</td>\n",
       "      <td>725209301000</td>\n",
       "      <td>L</td>\n",
       "      <td>56</td>\n",
       "      <td>0</td>\n",
       "      <td>0</td>\n",
       "      <td>2</td>\n",
       "      <td>99410</td>\n",
       "      <td>POLYGON ((-75.18990 47.99540, -75.18190 47.994...</td>\n",
       "    </tr>\n",
       "  </tbody>\n",
       "</table>\n",
       "</div>"
      ],
      "text/plain": [
       "                                     id    HYBAS_ID   NEXT_DOWN   NEXT_SINK  \\\n",
       "0  USGS_HydroBASINS_lake_na_lev12.99410  7129001061  7120323452  7120034520   \n",
       "\n",
       "   DIST_SINK  DIST_MAIN  SUB_AREA  UP_AREA       PFAF_ID SIDE  LAKE  ENDO  \\\n",
       "0      517.6      517.6    8470.5   8773.1  725209301000    L    56     0   \n",
       "\n",
       "   COAST  ORDER   SORT                                           geometry  \n",
       "0      0      2  99410  POLYGON ((-75.18990 47.99540, -75.18190 47.994...  "
      ]
     },
     "execution_count": 26,
     "metadata": {},
     "output_type": "execute_result"
    }
   ],
   "source": [
    "# Before continuing, wait for the process above to finish.\n",
    "\n",
    "# Extract the URL of the resulting GeoJSON feature\n",
    "feat = resp.get(asobj=False).feature\n",
    "gdf = gpd.read_file(feat)\n",
    "gdf"
   ]
  },
  {
   "cell_type": "code",
   "execution_count": 27,
   "metadata": {
    "ExecuteTime": {
     "end_time": "2023-08-02T15:51:25.940617777Z",
     "start_time": "2023-08-02T15:51:25.726274308Z"
    }
   },
   "outputs": [],
   "source": [
    "# Add this GeoJSON to the map above!\n",
    "# Scroll back up after executing this cell to see the watershed displayed on the map.\n",
    "user_geojson = ipyleaflet.GeoData(\n",
    "    geo_dataframe=gdf,\n",
    "    style={\n",
    "        \"color\": \"blue\",\n",
    "        \"opacity\": 1,\n",
    "        \"weight\": 1.9,\n",
    "        \"fillOpacity\": 0.5,\n",
    "    },\n",
    "    hover_style={\"fillColor\": \"#b08a3e\", \"fillOpacity\": 0.9},\n",
    ")\n",
    "\n",
    "leaflet_map.add_layer(user_geojson)\n",
    "user_geojson.on_hover(update_html)"
   ]
  }
 ],
 "metadata": {
  "kernelspec": {
   "display_name": "Python 3 (ipykernel)",
   "language": "python",
   "name": "python3"
  },
  "language_info": {
   "codemirror_mode": {
    "name": "ipython",
    "version": 3
   },
   "file_extension": ".py",
   "mimetype": "text/x-python",
   "name": "python",
   "nbconvert_exporter": "python",
   "pygments_lexer": "ipython3",
   "version": "3.11.4"
  },
  "nbdime-conflicts": {
   "local_diff": [
    {
     "diff": [
      {
       "diff": [
        {
         "key": 0,
         "op": "addrange",
         "valuelist": [
          "3.6.7"
         ]
        },
        {
         "key": 0,
         "length": 1,
         "op": "removerange"
        }
       ],
       "key": "version",
       "op": "patch"
      }
     ],
     "key": "language_info",
     "op": "patch"
    }
   ],
   "remote_diff": [
    {
     "diff": [
      {
       "diff": [
        {
         "key": 0,
         "op": "addrange",
         "valuelist": [
          "3.6.10"
         ]
        },
        {
         "key": 0,
         "length": 1,
         "op": "removerange"
        }
       ],
       "key": "version",
       "op": "patch"
      }
     ],
     "key": "language_info",
     "op": "patch"
    }
   ]
  }
 },
 "nbformat": 4,
 "nbformat_minor": 4
}
