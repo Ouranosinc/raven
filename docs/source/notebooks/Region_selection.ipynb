{
 "cells": [
  {
   "cell_type": "markdown",
   "metadata": {},
   "source": [
    "# Region Selection and Map Preview with Ipyleaflet"
   ]
  },
  {
   "cell_type": "code",
   "execution_count": 1,
   "metadata": {
    "execution": {
     "iopub.execute_input": "2021-09-08T20:36:31.901660Z",
     "iopub.status.busy": "2021-09-08T20:36:31.901253Z",
     "iopub.status.idle": "2021-09-08T20:36:32.307955Z",
     "shell.execute_reply": "2021-09-08T20:36:32.307534Z"
    }
   },
   "outputs": [],
   "source": [
    "# Import the necessary libraries to format, send, and parse our returned results\n",
    "import os\n",
    "\n",
    "import birdy\n",
    "import geopandas as gpd\n",
    "import ipyleaflet\n",
    "import ipywidgets"
   ]
  },
  {
   "cell_type": "markdown",
   "metadata": {},
   "source": [
    "If your `notebook` is version prior to `5.3`, you might need to run this command `jupyter nbextension enable --py --sys-prefix ipyleaflet`.  For more information see https://ipyleaflet.readthedocs.io/en/latest/installation.html."
   ]
  },
  {
   "cell_type": "code",
   "execution_count": 2,
   "metadata": {
    "execution": {
     "iopub.execute_input": "2021-09-08T20:36:32.313589Z",
     "iopub.status.busy": "2021-09-08T20:36:32.311449Z",
     "iopub.status.idle": "2021-09-08T20:36:33.057536Z",
     "shell.execute_reply": "2021-09-08T20:36:33.057192Z"
    }
   },
   "outputs": [],
   "source": [
    "# Create WPS instances\n",
    "# Set environment variable WPS_URL to \"http://localhost:9099\" to run on the default local server\n",
    "pavics_url = \"https://pavics.ouranos.ca\"\n",
    "raven_url = os.environ.get(\"WPS_URL\", f\"{pavics_url}/twitcher/ows/proxy/raven/wps\")\n",
    "\n",
    "raven = birdy.WPSClient(raven_url)"
   ]
  },
  {
   "cell_type": "code",
   "execution_count": 3,
   "metadata": {
    "execution": {
     "iopub.execute_input": "2021-09-08T20:36:33.080653Z",
     "iopub.status.busy": "2021-09-08T20:36:33.080250Z",
     "iopub.status.idle": "2021-09-08T20:36:33.088180Z",
     "shell.execute_reply": "2021-09-08T20:36:33.083006Z"
    }
   },
   "outputs": [],
   "source": [
    "# Build an interactive map with ipyleaflet\n",
    "\n",
    "initial_lat_lon = (48.63, -74.71)\n",
    "\n",
    "leaflet_map = ipyleaflet.Map(\n",
    "    center=initial_lat_lon,\n",
    "    basemap=ipyleaflet.basemaps.OpenTopoMap,\n",
    ")\n",
    "\n",
    "# Add a custom zoom slider\n",
    "zoom_slider = ipywidgets.IntSlider(description=\"Zoom level:\", min=1, max=10, value=6)\n",
    "ipywidgets.jslink((zoom_slider, \"value\"), (leaflet_map, \"zoom\"))\n",
    "widget_control1 = ipyleaflet.WidgetControl(widget=zoom_slider, position=\"topright\")\n",
    "leaflet_map.add_control(widget_control1)\n",
    "\n",
    "# Add a marker to the map\n",
    "marker = ipyleaflet.Marker(location=initial_lat_lon, draggable=True)\n",
    "leaflet_map.add_layer(marker)"
   ]
  },
  {
   "cell_type": "code",
   "execution_count": 4,
   "metadata": {
    "execution": {
     "iopub.execute_input": "2021-09-08T20:36:33.097236Z",
     "iopub.status.busy": "2021-09-08T20:36:33.096869Z",
     "iopub.status.idle": "2021-09-08T20:36:33.100084Z",
     "shell.execute_reply": "2021-09-08T20:36:33.099101Z"
    }
   },
   "outputs": [],
   "source": [
    "# Add an overlay widget\n",
    "\n",
    "html = ipywidgets.HTML(\"\"\"Hover over a feature!\"\"\")\n",
    "html.layout.margin = \"0px 10px 10px 10px\"\n",
    "\n",
    "control = ipyleaflet.WidgetControl(widget=html, position=\"bottomleft\")\n",
    "leaflet_map.add_control(control)\n",
    "\n",
    "\n",
    "def update_html(feature, **kwargs):\n",
    "    html.value = \"\"\"\n",
    "        <h2><b>USGS HydroBASINS</b></h2>\n",
    "        <h4>ID: {}</h4>\n",
    "        <h4>Upstream Area: {} sq. km.</h4> \n",
    "        <h4>Sub-basin Area: {} sq. km.</h4>\n",
    "    \"\"\".format(\n",
    "        feature[\"properties\"][\"id\"],\n",
    "        feature[\"properties\"][\"UP_AREA\"],\n",
    "        feature[\"properties\"][\"SUB_AREA\"],\n",
    "    )"
   ]
  },
  {
   "cell_type": "code",
   "execution_count": 5,
   "metadata": {
    "execution": {
     "iopub.execute_input": "2021-09-08T20:36:33.104854Z",
     "iopub.status.busy": "2021-09-08T20:36:33.104446Z",
     "iopub.status.idle": "2021-09-08T20:36:33.106900Z",
     "shell.execute_reply": "2021-09-08T20:36:33.107195Z"
    }
   },
   "outputs": [
    {
     "data": {
      "application/vnd.jupyter.widget-view+json": {
       "model_id": "88f5f028c41c4fd3a9a86d1a05d9dc7d",
       "version_major": 2,
       "version_minor": 0
      },
      "text/plain": [
       "Map(center=[48.63, -74.71], controls=(ZoomControl(options=['position', 'zoom_in_text', 'zoom_in_title', 'zoom_…"
      ]
     },
     "metadata": {},
     "output_type": "display_data"
    }
   ],
   "source": [
    "# Load the map in the notebook\n",
    "leaflet_map"
   ]
  },
  {
   "cell_type": "markdown",
   "metadata": {},
   "source": [
    "**Before continuing!**\n",
    "\n",
    "Try dragging and placing the marker at the mouth of a river, over a large lake such as Lac Saint Jean (next to Alma, east of the initial marker position), or anywhere else within North America."
   ]
  },
  {
   "cell_type": "code",
   "execution_count": 6,
   "metadata": {
    "execution": {
     "iopub.execute_input": "2021-09-08T20:36:33.113268Z",
     "iopub.status.busy": "2021-09-08T20:36:33.112895Z",
     "iopub.status.idle": "2021-09-08T20:36:33.115082Z",
     "shell.execute_reply": "2021-09-08T20:36:33.114784Z"
    }
   },
   "outputs": [
    {
     "data": {
      "text/plain": [
       "[-74.71, 48.63]"
      ]
     },
     "execution_count": 6,
     "metadata": {},
     "output_type": "execute_result"
    }
   ],
   "source": [
    "user_lonlat = list(reversed(marker.location))\n",
    "user_lonlat"
   ]
  },
  {
   "cell_type": "code",
   "execution_count": 7,
   "metadata": {
    "execution": {
     "iopub.execute_input": "2021-09-08T20:36:33.119170Z",
     "iopub.status.busy": "2021-09-08T20:36:33.117370Z",
     "iopub.status.idle": "2021-09-08T20:36:54.385040Z",
     "shell.execute_reply": "2021-09-08T20:36:54.384713Z"
    }
   },
   "outputs": [],
   "source": [
    "# Get the shape of the watershed contributing to flow at the selected location.\n",
    "resp = raven.hydrobasins_select(location=str(user_lonlat), aggregate_upstream=True)"
   ]
  },
  {
   "cell_type": "code",
   "execution_count": 8,
   "metadata": {
    "execution": {
     "iopub.execute_input": "2021-09-08T20:36:54.389967Z",
     "iopub.status.busy": "2021-09-08T20:36:54.389489Z",
     "iopub.status.idle": "2021-09-08T20:36:54.432747Z",
     "shell.execute_reply": "2021-09-08T20:36:54.433040Z"
    }
   },
   "outputs": [
    {
     "data": {
      "text/html": [
       "<div>\n",
       "<style scoped>\n",
       "    .dataframe tbody tr th:only-of-type {\n",
       "        vertical-align: middle;\n",
       "    }\n",
       "\n",
       "    .dataframe tbody tr th {\n",
       "        vertical-align: top;\n",
       "    }\n",
       "\n",
       "    .dataframe thead th {\n",
       "        text-align: right;\n",
       "    }\n",
       "</style>\n",
       "<table border=\"1\" class=\"dataframe\">\n",
       "  <thead>\n",
       "    <tr style=\"text-align: right;\">\n",
       "      <th></th>\n",
       "      <th>COAST</th>\n",
       "      <th>DIST_MAIN</th>\n",
       "      <th>DIST_SINK</th>\n",
       "      <th>ENDO</th>\n",
       "      <th>HYBAS_ID</th>\n",
       "      <th>LAKE</th>\n",
       "      <th>NEXT_DOWN</th>\n",
       "      <th>NEXT_SINK</th>\n",
       "      <th>ORDER</th>\n",
       "      <th>PFAF_ID</th>\n",
       "      <th>SIDE</th>\n",
       "      <th>SORT</th>\n",
       "      <th>SUB_AREA</th>\n",
       "      <th>UP_AREA</th>\n",
       "      <th>id</th>\n",
       "      <th>geometry</th>\n",
       "    </tr>\n",
       "  </thead>\n",
       "  <tbody>\n",
       "    <tr>\n",
       "      <th>0</th>\n",
       "      <td>0</td>\n",
       "      <td>517.6</td>\n",
       "      <td>517.6</td>\n",
       "      <td>0</td>\n",
       "      <td>7129001061</td>\n",
       "      <td>56</td>\n",
       "      <td>7120323452</td>\n",
       "      <td>7120034520</td>\n",
       "      <td>2</td>\n",
       "      <td>725209301000</td>\n",
       "      <td>L</td>\n",
       "      <td>99410</td>\n",
       "      <td>8470.5</td>\n",
       "      <td>8773.1</td>\n",
       "      <td>USGS_HydroBASINS_lake_na_lev12.99410</td>\n",
       "      <td>POLYGON ((-75.18190 47.99460, -75.17170 47.988...</td>\n",
       "    </tr>\n",
       "  </tbody>\n",
       "</table>\n",
       "</div>"
      ],
      "text/plain": [
       "   COAST  DIST_MAIN  DIST_SINK  ENDO    HYBAS_ID  LAKE   NEXT_DOWN  \\\n",
       "0      0      517.6      517.6     0  7129001061    56  7120323452   \n",
       "\n",
       "    NEXT_SINK  ORDER       PFAF_ID SIDE   SORT  SUB_AREA  UP_AREA  \\\n",
       "0  7120034520      2  725209301000    L  99410    8470.5   8773.1   \n",
       "\n",
       "                                     id  \\\n",
       "0  USGS_HydroBASINS_lake_na_lev12.99410   \n",
       "\n",
       "                                            geometry  \n",
       "0  POLYGON ((-75.18190 47.99460, -75.17170 47.988...  "
      ]
     },
     "execution_count": 8,
     "metadata": {},
     "output_type": "execute_result"
    }
   ],
   "source": [
    "# Before continuing, wait for the process above to finish.\n",
    "\n",
    "# Extract the URL of the resulting GeoJSON feature\n",
    "feat = resp.get(asobj=False).feature\n",
    "gdf = gpd.read_file(feat)\n",
    "gdf"
   ]
  },
  {
   "cell_type": "code",
   "execution_count": 9,
   "metadata": {
    "execution": {
     "iopub.execute_input": "2021-09-08T20:36:54.437521Z",
     "iopub.status.busy": "2021-09-08T20:36:54.436958Z",
     "iopub.status.idle": "2021-09-08T20:36:54.461357Z",
     "shell.execute_reply": "2021-09-08T20:36:54.461001Z"
    }
   },
   "outputs": [],
   "source": [
    "# Add this GeoJSON to the map above!\n",
    "# Scroll back up after executing this cell to see the watershed displayed on the map.\n",
    "user_geojson = ipyleaflet.GeoData(\n",
    "    geo_dataframe=gdf,\n",
    "    style={\n",
    "        \"color\": \"blue\",\n",
    "        \"opacity\": 1,\n",
    "        \"weight\": 1.9,\n",
    "        \"fillOpacity\": 0.5,\n",
    "    },\n",
    "    hover_style={\"fillColor\": \"#b08a3e\", \"fillOpacity\": 0.9},\n",
    ")\n",
    "\n",
    "leaflet_map.add_layer(user_geojson)\n",
    "user_geojson.on_hover(update_html)"
   ]
  }
 ],
 "metadata": {
  "kernelspec": {
   "display_name": "Python 3",
   "language": "python",
   "name": "python3"
  },
  "language_info": {
   "codemirror_mode": {
    "name": "ipython",
    "version": 3
   },
   "file_extension": ".py",
   "mimetype": "text/x-python",
   "name": "python",
   "nbconvert_exporter": "python",
   "pygments_lexer": "ipython3",
   "version": "3.9.6"
  },
  "nbdime-conflicts": {
   "local_diff": [
    {
     "diff": [
      {
       "diff": [
        {
         "key": 0,
         "op": "addrange",
         "valuelist": [
          "3.6.7"
         ]
        },
        {
         "key": 0,
         "length": 1,
         "op": "removerange"
        }
       ],
       "key": "version",
       "op": "patch"
      }
     ],
     "key": "language_info",
     "op": "patch"
    }
   ],
   "remote_diff": [
    {
     "diff": [
      {
       "diff": [
        {
         "key": 0,
         "op": "addrange",
         "valuelist": [
          "3.6.10"
         ]
        },
        {
         "key": 0,
         "length": 1,
         "op": "removerange"
        }
       ],
       "key": "version",
       "op": "patch"
      }
     ],
     "key": "language_info",
     "op": "patch"
    }
   ]
  },
  "widgets": {
   "application/vnd.jupyter.widget-state+json": {
    "state": {
     "059139cf63d8424d897f7b487e96c4ec": {
      "model_module": "@jupyter-widgets/controls",
      "model_module_version": "1.5.0",
      "model_name": "DescriptionStyleModel",
      "state": {
       "_model_module": "@jupyter-widgets/controls",
       "_model_module_version": "1.5.0",
       "_model_name": "DescriptionStyleModel",
       "_view_count": null,
       "_view_module": "@jupyter-widgets/base",
       "_view_module_version": "1.2.0",
       "_view_name": "StyleView",
       "description_width": ""
      }
     },
     "103a7fe809a946d1a3b6390a5e9599a2": {
      "model_module": "@jupyter-widgets/controls",
      "model_module_version": "1.5.0",
      "model_name": "HTMLModel",
      "state": {
       "_dom_classes": [],
       "_model_module": "@jupyter-widgets/controls",
       "_model_module_version": "1.5.0",
       "_model_name": "HTMLModel",
       "_view_count": null,
       "_view_module": "@jupyter-widgets/controls",
       "_view_module_version": "1.5.0",
       "_view_name": "HTMLView",
       "description": "",
       "description_tooltip": null,
       "layout": "IPY_MODEL_3ec37f297077482d96d08873d3501991",
       "placeholder": "​",
       "style": "IPY_MODEL_059139cf63d8424d897f7b487e96c4ec",
       "value": "Hover over a feature!"
      }
     },
     "125bd1d787314b21b614504af4d22953": {
      "model_module": "@jupyter-widgets/controls",
      "model_module_version": "1.5.0",
      "model_name": "SliderStyleModel",
      "state": {
       "_model_module": "@jupyter-widgets/controls",
       "_model_module_version": "1.5.0",
       "_model_name": "SliderStyleModel",
       "_view_count": null,
       "_view_module": "@jupyter-widgets/base",
       "_view_module_version": "1.2.0",
       "_view_name": "StyleView",
       "description_width": "",
       "handle_color": null
      }
     },
     "16497234980343d0beec2d7cc58b2ce4": {
      "model_module": "@jupyter-widgets/controls",
      "model_module_version": "1.5.0",
      "model_name": "LinkModel",
      "state": {
       "_model_module": "@jupyter-widgets/controls",
       "_model_module_version": "1.5.0",
       "_model_name": "LinkModel",
       "_view_count": null,
       "_view_module": "@jupyter-widgets/controls",
       "_view_module_version": "1.5.0",
       "_view_name": null,
       "source": [
        "IPY_MODEL_79ffeeb83d824f5b88772702c2a63bd9",
        "value"
       ],
       "target": [
        "IPY_MODEL_88f5f028c41c4fd3a9a86d1a05d9dc7d",
        "zoom"
       ]
      }
     },
     "3ec37f297077482d96d08873d3501991": {
      "model_module": "@jupyter-widgets/base",
      "model_module_version": "1.2.0",
      "model_name": "LayoutModel",
      "state": {
       "_model_module": "@jupyter-widgets/base",
       "_model_module_version": "1.2.0",
       "_model_name": "LayoutModel",
       "_view_count": null,
       "_view_module": "@jupyter-widgets/base",
       "_view_module_version": "1.2.0",
       "_view_name": "LayoutView",
       "align_content": null,
       "align_items": null,
       "align_self": null,
       "border": null,
       "bottom": null,
       "display": null,
       "flex": null,
       "flex_flow": null,
       "grid_area": null,
       "grid_auto_columns": null,
       "grid_auto_flow": null,
       "grid_auto_rows": null,
       "grid_column": null,
       "grid_gap": null,
       "grid_row": null,
       "grid_template_areas": null,
       "grid_template_columns": null,
       "grid_template_rows": null,
       "height": null,
       "justify_content": null,
       "justify_items": null,
       "left": null,
       "margin": "0px 10px 10px 10px",
       "max_height": null,
       "max_width": null,
       "min_height": null,
       "min_width": null,
       "object_fit": null,
       "object_position": null,
       "order": null,
       "overflow": null,
       "overflow_x": null,
       "overflow_y": null,
       "padding": null,
       "right": null,
       "top": null,
       "visibility": null,
       "width": null
      }
     },
     "4d89f56f69e148268c36bb0d8fc74f9d": {
      "model_module": "jupyter-leaflet",
      "model_module_version": "^0.14.0",
      "model_name": "LeafletGeoJSONModel",
      "state": {
       "_model_module": "jupyter-leaflet",
       "_model_module_version": "^0.14.0",
       "_model_name": "LeafletGeoJSONModel",
       "_view_count": null,
       "_view_module": "jupyter-leaflet",
       "_view_module_version": "^0.14.0",
       "_view_name": "LeafletGeoJSONView",
       "base": false,
       "bottom": false,
       "data": {
        "features": [
         {
          "geometry": {
           "coordinates": [
            [
             [
              -75.1819,
              47.9946
             ],
             [
              -75.1717,
              47.9885
             ],
             [
              -75.1626,
              47.9864
             ],
             [
              -75.1554,
              47.9863
             ],
             [
              -75.143,
              47.9905
             ],
             [
              -75.1447,
              47.9921
             ],
             [
              -75.1464,
              47.9966
             ],
             [
              -75.1414,
              48.003
             ],
             [
              -75.1458,
              48.0042
             ],
             [
              -75.147,
              48.0001
             ],
             [
              -75.152,
              47.9965
             ],
             [
              -75.1605,
              47.9952
             ],
             [
              -75.1655,
              47.9916
             ],
             [
              -75.1676,
              47.9992
             ],
             [
              -75.1772,
              48.0006
             ],
             [
              -75.1829,
              48.0048
             ],
             [
              -75.1855,
              48.0035
             ],
             [
              -75.1895,
              48.0006
             ],
             [
              -75.1938,
              47.9994
             ],
             [
              -75.1991,
              47.9956
             ],
             [
              -75.2006,
              48.0063
             ],
             [
              -75.2035,
              48.0103
             ],
             [
              -75.2053,
              48.0164
             ],
             [
              -75.2145,
              48.0244
             ],
             [
              -75.2272,
              48.0256
             ],
             [
              -75.2312,
              48.0285
             ],
             [
              -75.2375,
              48.0292
             ],
             [
              -75.2387,
              48.0244
             ],
             [
              -75.2522,
              48.0256
             ],
             [
              -75.2562,
              48.0287
             ],
             [
              -75.2603,
              48.0256
             ],
             [
              -75.2814,
              48.0244
             ],
             [
              -75.2864,
              48.0206
             ],
             [
              -75.2884,
              48.0286
             ],
             [
              -75.3208,
              48.0292
             ],
             [
              -75.3215,
              48.0448
             ],
             [
              -75.3271,
              48.0465
             ],
             [
              -75.332,
              48.0499
             ],
             [
              -75.334,
              48.0563
             ],
             [
              -75.3452,
              48.0687
             ],
             [
              -75.3468,
              48.074
             ],
             [
              -75.3534,
              48.0761
             ],
             [
              -75.3548,
              48.0919
             ],
             [
              -75.3497,
              48.0992
             ],
             [
              -75.373,
              48.1007
             ],
             [
              -75.3812,
              48.1077
             ],
             [
              -75.3855,
              48.109
             ],
             [
              -75.3895,
              48.1118
             ],
             [
              -75.3949,
              48.1135
             ],
             [
              -75.3965,
              48.1188
             ],
             [
              -75.3993,
              48.1229
             ],
             [
              -75.4007,
              48.1271
             ],
             [
              -75.4077,
              48.1354
             ],
             [
              -75.4048,
              48.1395
             ],
             [
              -75.4035,
              48.1461
             ],
             [
              -75.4077,
              48.152
             ],
             [
              -75.4083,
              48.1542
             ],
             [
              -75.4147,
              48.1536
             ],
             [
              -75.4186,
              48.1506
             ],
             [
              -75.4202,
              48.1504
             ],
             [
              -75.4201,
              48.1487
             ],
             [
              -75.428,
              48.1417
             ],
             [
              -75.4308,
              48.1287
             ],
             [
              -75.4257,
              48.1236
             ],
             [
              -75.4258,
              48.1236
             ],
             [
              -75.4295,
              48.122
             ],
             [
              -75.4424,
              48.1264
             ],
             [
              -75.4437,
              48.1315
             ],
             [
              -75.4401,
              48.1376
             ],
             [
              -75.4392,
              48.139
             ],
             [
              -75.4372,
              48.1383
             ],
             [
              -75.4314,
              48.1435
             ],
             [
              -75.4271,
              48.1494
             ],
             [
              -75.4272,
              48.1494
             ],
             [
              -75.4311,
              48.1464
             ],
             [
              -75.4405,
              48.1453
             ],
             [
              -75.4417,
              48.15
             ],
             [
              -75.4424,
              48.1575
             ],
             [
              -75.4532,
              48.1591
             ],
             [
              -75.4542,
              48.1625
             ],
             [
              -75.4535,
              48.173
             ],
             [
              -75.4506,
              48.1771
             ],
             [
              -75.4577,
              48.1853
             ],
             [
              -75.459,
              48.1897
             ],
             [
              -75.4619,
              48.1937
             ],
             [
              -75.4631,
              48.223
             ],
             [
              -75.4712,
              48.2324
             ],
             [
              -75.4603,
              48.234
             ],
             [
              -75.4549,
              48.2383
             ],
             [
              -75.4535,
              48.2522
             ],
             [
              -75.4506,
              48.2562
             ],
             [
              -75.45,
              48.2625
             ],
             [
              -75.4506,
              48.2647
             ],
             [
              -75.4619,
              48.277
             ],
             [
              -75.4631,
              48.2897
             ],
             [
              -75.4711,
              48.2989
             ],
             [
              -75.4784,
              48.301
             ],
             [
              -75.4798,
              48.3132
             ],
             [
              -75.4715,
              48.3228
             ],
             [
              -75.4702,
              48.3272
             ],
             [
              -75.4673,
              48.3312
             ],
             [
              -75.466,
              48.3445
             ],
             [
              -75.4742,
              48.3468
             ],
             [
              -75.4758,
              48.3575
             ],
             [
              -75.4865,
              48.3591
             ],
             [
              -75.4875,
              48.3625
             ],
             [
              -75.4865,
              48.3657
             ],
             [
              -75.4801,
              48.3676
             ],
             [
              -75.4785,
              48.373
             ],
             [
              -75.4757,
              48.377
             ],
             [
              -75.4743,
              48.4021
             ],
             [
              -75.4715,
              48.4062
             ],
             [
              -75.4702,
              48.4271
             ],
             [
              -75.462,
              48.4367
             ],
             [
              -75.4479,
              48.4382
             ],
             [
              -75.4388,
              48.4459
             ],
             [
              -75.4368,
              48.4521
             ],
             [
              -75.434,
              48.4562
             ],
             [
              -75.4324,
              48.4615
             ],
             [
              -75.427,
              48.4632
             ],
             [
              -75.423,
              48.466
             ],
             [
              -75.4187,
              48.4673
             ],
             [
              -75.4134,
              48.4711
             ],
             [
              -75.4118,
              48.484
             ],
             [
              -75.4251,
              48.4987
             ],
             [
              -75.4175,
              48.501
             ],
             [
              -75.4159,
              48.5115
             ],
             [
              -75.4091,
              48.5136
             ],
             [
              -75.4076,
              48.5326
             ],
             [
              -75.3854,
              48.534
             ],
             [
              -75.38,
              48.5377
             ],
             [
              -75.3792,
              48.5458
             ],
             [
              -75.3788,
              48.5483
             ],
             [
              -75.3754,
              48.5517
             ],
             [
              -75.375,
              48.5583
             ],
             [
              -75.3756,
              48.5647
             ],
             [
              -75.3787,
              48.5688
             ],
             [
              -75.3756,
              48.5728
             ],
             [
              -75.3744,
              48.6022
             ],
             [
              -75.3672,
              48.6103
             ],
             [
              -75.3658,
              48.6158
             ],
             [
              -75.3603,
              48.6172
             ],
             [
              -75.3458,
              48.6307
             ],
             [
              -75.3536,
              48.6395
             ],
             [
              -75.3542,
              48.6417
             ],
             [
              -75.353,
              48.6457
             ],
             [
              -75.348,
              48.6494
             ],
             [
              -75.3395,
              48.6506
             ],
             [
              -75.3355,
              48.6535
             ],
             [
              -75.327,
              48.6548
             ],
             [
              -75.3213,
              48.659
             ],
             [
              -75.302,
              48.6577
             ],
             [
              -75.2963,
              48.6535
             ],
             [
              -75.2895,
              48.6548
             ],
             [
              -75.2855,
              48.6577
             ],
             [
              -75.2747,
              48.6593
             ],
             [
              -75.2798,
              48.6662
             ],
             [
              -75.2775,
              48.671
             ],
             [
              -75.2688,
              48.6785
             ],
             [
              -75.2633,
              48.6801
             ],
             [
              -75.2617,
              48.6907
             ],
             [
              -75.2543,
              48.6928
             ],
             [
              -75.2506,
              48.6978
             ],
             [
              -75.2494,
              48.7022
             ],
             [
              -75.2465,
              48.7062
             ],
             [
              -75.2452,
              48.7105
             ],
             [
              -75.2423,
              48.7145
             ],
             [
              -75.241,
              48.7188
             ],
             [
              -75.2381,
              48.7228
             ],
             [
              -75.2363,
              48.7291
             ],
             [
              -75.2313,
              48.7327
             ],
             [
              -75.227,
              48.734
             ],
             [
              -75.223,
              48.7369
             ],
             [
              -75.2187,
              48.7381
             ],
             [
              -75.2063,
              48.7494
             ],
             [
              -75.2042,
              48.75
             ],
             [
              -75.2009,
              48.7509
             ],
             [
              -75.2,
              48.7542
             ],
             [
              -75.2009,
              48.7577
             ],
             [
              -75.2174,
              48.7589
             ],
             [
              -75.2228,
              48.7547
             ],
             [
              -75.2272,
              48.7536
             ],
             [
              -75.2311,
              48.7506
             ],
             [
              -75.2417,
              48.75
             ],
             [
              -75.2425,
              48.7533
             ],
             [
              -75.248,
              48.7547
             ],
             [
              -75.252,
              48.7578
             ],
             [
              -75.2657,
              48.759
             ],
             [
              -75.2708,
              48.7652
             ],
             [
              -75.2647,
              48.7703
             ],
             [
              -75.2603,
              48.7714
             ],
             [
              -75.2439,
              48.7869
             ],
             [
              -75.2353,
              48.7881
             ],
             [
              -75.2272,
              48.7953
             ],
             [
              -75.2228,
              48.7964
             ],
             [
              -75.2147,
              48.8036
             ],
             [
              -75.209,
              48.8051
             ],
             [
              -75.2077,
              48.824
             ],
             [
              -75.198,
              48.8328
             ],
             [
              -75.1895,
              48.8339
             ],
             [
              -75.1855,
              48.8369
             ],
             [
              -75.177,
              48.8381
             ],
             [
              -75.173,
              48.8411
             ],
             [
              -75.1686,
              48.8422
             ],
             [
              -75.1647,
              48.8453
             ],
             [
              -75.152,
              48.8464
             ],
             [
              -75.148,
              48.8494
             ],
             [
              -75.1375,
              48.85
             ],
             [
              -75.1366,
              48.8533
             ],
             [
              -75.1311,
              48.8547
             ],
             [
              -75.1272,
              48.8578
             ],
             [
              -75.1051,
              48.859
             ],
             [
              -75.1036,
              48.8647
             ],
             [
              -75.0922,
              48.877
             ],
             [
              -75.0917,
              48.8792
             ],
             [
              -75.0884,
              48.88
             ],
             [
              -75.0875,
              48.8833
             ],
             [
              -75.0853,
              48.8839
             ],
             [
              -75.0814,
              48.887
             ],
             [
              -75.0644,
              48.888
             ],
             [
              -75.0599,
              48.8917
             ],
             [
              -75.0547,
              48.8856
             ],
             [
              -75.0534,
              48.8801
             ],
             [
              -75.0479,
              48.8754
             ],
             [
              -75.0439,
              48.8786
             ],
             [
              -75.0269,
              48.8797
             ],
             [
              -75.0231,
              48.8828
             ],
             [
              -75.0176,
              48.8841
             ],
             [
              -75.012,
              48.8906
             ],
             [
              -75.013,
              48.9022
             ],
             [
              -75.0214,
              48.9114
             ],
             [
              -75.0199,
              48.9161
             ],
             [
              -75.0061,
              48.9172
             ],
             [
              -75.0022,
              48.9203
             ],
             [
              -74.9875,
              48.9208
             ],
             [
              -74.9871,
              48.9274
             ],
             [
              -74.9837,
              48.9309
             ],
             [
              -74.983,
              48.9566
             ],
             [
              -74.967,
              48.9726
             ],
             [
              -74.9667,
              48.975
             ],
             [
              -74.9458,
              48.975
             ],
             [
              -74.9462,
              48.9774
             ],
             [
              -74.9496,
              48.9809
             ],
             [
              -74.9504,
              48.9858
             ],
             [
              -74.9538,
              48.9892
             ],
             [
              -74.9545,
              48.9934
             ],
             [
              -74.9504,
              48.9976
             ],
             [
              -74.9496,
              49.0108
             ],
             [
              -74.9462,
              49.0142
             ],
             [
              -74.9455,
              49.0233
             ],
             [
              -74.9379,
              49.0309
             ],
             [
              -74.9375,
              49.0417
             ],
             [
              -74.9366,
              49.0451
             ],
             [
              -74.927,
              49.0464
             ],
             [
              -74.923,
              49.0494
             ],
             [
              -74.9103,
              49.0506
             ],
             [
              -74.9022,
              49.0578
             ],
             [
              -74.8936,
              49.0589
             ],
             [
              -74.8814,
              49.0703
             ],
             [
              -74.8542,
              49.0708
             ],
             [
              -74.8509,
              49.0717
             ],
             [
              -74.8494,
              49.0772
             ],
             [
              -74.8422,
              49.0853
             ],
             [
              -74.8408,
              49.0908
             ],
             [
              -74.8342,
              49.0925
             ],
             [
              -74.8328,
              49.098
             ],
             [
              -74.8297,
              49.102
             ],
             [
              -74.8283,
              49.1077
             ],
             [
              -74.8061,
              49.1089
             ],
             [
              -74.7897,
              49.1244
             ],
             [
              -74.7811,
              49.1256
             ],
             [
              -74.7772,
              49.1286
             ],
             [
              -74.7728,
              49.1297
             ],
             [
              -74.7564,
              49.1453
             ],
             [
              -74.752,
              49.1464
             ],
             [
              -74.748,
              49.1494
             ],
             [
              -74.7343,
              49.1507
             ],
             [
              -74.7297,
              49.1561
             ],
             [
              -74.7286,
              49.1647
             ],
             [
              -74.7256,
              49.1686
             ],
             [
              -74.7241,
              49.1741
             ],
             [
              -74.7208,
              49.175
             ],
             [
              -74.7208,
              49.1667
             ],
             [
              -74.7172,
              49.1657
             ],
             [
              -74.7078,
              49.1551
             ],
             [
              -74.7089,
              49.1478
             ],
             [
              -74.7119,
              49.1439
             ],
             [
              -74.7131,
              49.1353
             ],
             [
              -74.7161,
              49.1314
             ],
             [
              -74.7176,
              49.1254
             ],
             [
              -74.7228,
              49.1214
             ],
             [
              -74.7272,
              49.1203
             ],
             [
              -74.7353,
              49.1131
             ],
             [
              -74.741,
              49.1116
             ],
             [
              -74.7423,
              49.0968
             ],
             [
              -74.7473,
              49.0926
             ],
             [
              -74.7512,
              49.0914
             ],
             [
              -74.7535,
              49.0908
             ],
             [
              -74.7672,
              49.076
             ],
             [
              -74.766,
              49.0635
             ],
             [
              -74.7564,
              49.0547
             ],
             [
              -74.752,
              49.0536
             ],
             [
              -74.748,
              49.0506
             ],
             [
              -74.7458,
              49.05
             ],
             [
              -74.7425,
              49.0509
             ],
             [
              -74.7407,
              49.0579
             ],
             [
              -74.7355,
              49.0619
             ],
             [
              -74.7103,
              49.0631
             ],
             [
              -74.7064,
              49.0661
             ],
             [
              -74.7042,
              49.0667
             ],
             [
              -74.7038,
              49.0642
             ],
             [
              -74.7004,
              49.0608
             ],
             [
              -74.6996,
              49.0559
             ],
             [
              -74.6941,
              49.0504
             ],
             [
              -74.6875,
              49.05
             ],
             [
              -74.6879,
              49.0476
             ],
             [
              -74.6913,
              49.0441
             ],
             [
              -74.6917,
              49.0333
             ],
             [
              -74.6843,
              49.0327
             ],
             [
              -74.6797,
              49.0272
             ],
             [
              -74.6782,
              49.0212
             ],
             [
              -74.6716,
              49.0161
             ],
             [
              -74.6592,
              49.0173
             ],
             [
              -74.6578,
              49.023
             ],
             [
              -74.6547,
              49.027
             ],
             [
              -74.6532,
              49.0329
             ],
             [
              -74.648,
              49.0369
             ],
             [
              -74.6417,
              49.0375
             ],
             [
              -74.6342,
              49.0368
             ],
             [
              -74.6333,
              49.0333
             ],
             [
              -74.6286,
              49.0321
             ],
             [
              -74.6298,
              49.0051
             ],
             [
              -74.6355,
              49.0036
             ],
             [
              -74.6395,
              49.0006
             ],
             [
              -74.648,
              48.9994
             ],
             [
              -74.652,
              48.9964
             ],
             [
              -74.6564,
              48.9953
             ],
             [
              -74.6603,
              48.9922
             ],
             [
              -74.6699,
              48.991
             ],
             [
              -74.6708,
              48.9875
             ],
             [
              -74.6738,
              48.9866
             ],
             [
              -74.6756,
              48.9828
             ],
             [
              -74.6701,
              48.9757
             ],
             [
              -74.6466,
              48.9743
             ],
             [
              -74.6458,
              48.9667
             ],
             [
              -74.6267,
              48.967
             ],
             [
              -74.6225,
              48.9712
             ],
             [
              -74.6184,
              48.9705
             ],
             [
              -74.6108,
              48.9629
             ],
             [
              -74.6059,
              48.9621
             ],
             [
              -74.6017,
              48.958
             ],
             [
              -74.5976,
              48.9587
             ],
             [
              -74.5941,
              48.9621
             ],
             [
              -74.5917,
              48.9625
             ],
             [
              -74.591,
              48.9784
             ],
             [
              -74.5795,
              48.98
             ],
             [
              -74.5756,
              48.9853
             ],
             [
              -74.5739,
              48.9914
             ],
             [
              -74.5632,
              49.0006
             ],
             [
              -74.5603,
              48.9994
             ],
             [
              -74.5438,
              48.9839
             ],
             [
              -74.538,
              48.9881
             ],
             [
              -74.534,
              48.9863
             ],
             [
              -74.5326,
              48.9718
             ],
             [
              -74.5259,
              48.9699
             ],
             [
              -74.525,
              48.9667
             ],
             [
              -74.5256,
              48.9645
             ],
             [
              -74.5287,
              48.9604
             ],
             [
              -74.5256,
              48.9564
             ],
             [
              -74.5244,
              48.9436
             ],
             [
              -74.5131,
              48.9314
             ],
             [
              -74.5113,
              48.9244
             ],
             [
              -74.5061,
              48.9256
             ],
             [
              -74.5022,
              48.9286
             ],
             [
              -74.4895,
              48.9297
             ],
             [
              -74.4855,
              48.9328
             ],
             [
              -74.4551,
              48.9339
             ],
             [
              -74.4532,
              48.9411
             ],
             [
              -74.4439,
              48.9494
             ],
             [
              -74.4417,
              48.95
             ],
             [
              -74.4375,
              48.95
             ],
             [
              -74.4342,
              48.9491
             ],
             [
              -74.4324,
              48.9422
             ],
             [
              -74.423,
              48.9339
             ],
             [
              -74.4208,
              48.9333
             ],
             [
              -74.3976,
              48.9337
             ],
             [
              -74.3941,
              48.9371
             ],
             [
              -74.3684,
              48.9379
             ],
             [
              -74.3646,
              48.9417
             ],
             [
              -74.3608,
              48.9379
             ],
             [
              -74.35,
              48.9375
             ],
             [
              -74.3507,
              48.9216
             ],
             [
              -74.3622,
              48.92
             ],
             [
              -74.3673,
              48.913
             ],
             [
              -74.366,
              48.9103
             ],
             [
              -74.3624,
              48.9054
             ],
             [
              -74.3705,
              48.9031
             ],
             [
              -74.3785,
              48.8938
             ],
             [
              -74.3792,
              48.8917
             ],
             [
              -74.3759,
              48.8909
             ],
             [
              -74.3745,
              48.8865
             ],
             [
              -74.3786,
              48.8814
             ],
             [
              -74.3797,
              48.8769
             ],
             [
              -74.3828,
              48.8731
             ],
             [
              -74.3833,
              48.8667
             ],
             [
              -74.384,
              48.8592
             ],
             [
              -74.3875,
              48.8583
             ],
             [
              -74.3949,
              48.8577
             ],
             [
              -74.3964,
              48.852
             ],
             [
              -74.3995,
              48.8479
             ],
             [
              -74.3922,
              48.8397
             ],
             [
              -74.3917,
              48.8375
             ],
             [
              -74.3892,
              48.8379
             ],
             [
              -74.3858,
              48.8413
             ],
             [
              -74.3667,
              48.8417
             ],
             [
              -74.355,
              48.8424
             ],
             [
              -74.3534,
              48.8534
             ],
             [
              -74.3425,
              48.855
             ],
             [
              -74.3409,
              48.8659
             ],
             [
              -74.327,
              48.8673
             ],
             [
              -74.323,
              48.8702
             ],
             [
              -74.3159,
              48.8715
             ],
             [
              -74.3063,
              48.8631
             ],
             [
              -74.302,
              48.8619
             ],
             [
              -74.298,
              48.859
             ],
             [
              -74.2889,
              48.8577
             ],
             [
              -74.2875,
              48.8625
             ],
             [
              -74.2842,
              48.8616
             ],
             [
              -74.2833,
              48.8583
             ],
             [
              -74.28,
              48.8575
             ],
             [
              -74.2792,
              48.8542
             ],
             [
              -74.2792,
              48.85
             ],
             [
              -74.2798,
              48.8478
             ],
             [
              -74.2827,
              48.8438
             ],
             [
              -74.2841,
              48.8341
             ],
             [
              -74.2965,
              48.8323
             ],
             [
              -74.2952,
              48.827
             ],
             [
              -74.2869,
              48.8174
             ],
             [
              -74.2886,
              48.8134
             ],
             [
              -74.2959,
              48.8113
             ],
             [
              -74.2923,
              48.8063
             ],
             [
              -74.291,
              48.802
             ],
             [
              -74.284,
              48.7938
             ],
             [
              -74.282,
              48.7869
             ],
             [
              -74.2728,
              48.7881
             ],
             [
              -74.2647,
              48.7952
             ],
             [
              -74.2603,
              48.7965
             ],
             [
              -74.2546,
              48.8006
             ],
             [
              -74.252,
              48.7994
             ],
             [
              -74.2438,
              48.7923
             ],
             [
              -74.2375,
              48.7917
             ],
             [
              -74.2369,
              48.7895
             ],
             [
              -74.2328,
              48.7841
             ],
             [
              -74.2344,
              48.7799
             ],
             [
              -74.2449,
              48.7785
             ],
             [
              -74.2464,
              48.7728
             ],
             [
              -74.2494,
              48.7689
             ],
             [
              -74.25,
              48.7667
             ],
             [
              -74.2466,
              48.7656
             ],
             [
              -74.2452,
              48.752
             ],
             [
              -74.2423,
              48.748
             ],
             [
              -74.241,
              48.7395
             ],
             [
              -74.2381,
              48.7355
             ],
             [
              -74.2369,
              48.7229
             ],
             [
              -74.2285,
              48.7131
             ],
             [
              -74.2298,
              48.6937
             ],
             [
              -74.2423,
              48.6799
             ],
             [
              -74.24,
              48.6747
             ],
             [
              -74.2355,
              48.6715
             ],
             [
              -74.2216,
              48.6701
             ],
             [
              -74.2202,
              48.652
             ],
             [
              -74.2173,
              48.648
             ],
             [
              -74.2167,
              48.6375
             ],
             [
              -74.217,
              48.635
             ],
             [
              -74.2267,
              48.6254
             ],
             [
              -74.2333,
              48.625
             ],
             [
              -74.2343,
              48.6285
             ],
             [
              -74.2532,
              48.6298
             ],
             [
              -74.2548,
              48.6187
             ],
             [
              -74.2584,
              48.6137
             ],
             [
              -74.2625,
              48.6125
             ],
             [
              -74.2621,
              48.6059
             ],
             [
              -74.2545,
              48.5983
             ],
             [
              -74.2538,
              48.5934
             ],
             [
              -74.2496,
              48.5892
             ],
             [
              -74.2504,
              48.5851
             ],
             [
              -74.2538,
              48.5816
             ],
             [
              -74.2542,
              48.5792
             ],
             [
              -74.227,
              48.5785
             ],
             [
              -74.223,
              48.5757
             ],
             [
              -74.2104,
              48.5743
             ],
             [
              -74.2063,
              48.5715
             ],
             [
              -74.202,
              48.5702
             ],
             [
              -74.198,
              48.5673
             ],
             [
              -74.1839,
              48.5659
             ],
             [
              -74.1715,
              48.5521
             ],
             [
              -74.1701,
              48.5341
             ],
             [
              -74.1503,
              48.5325
             ],
             [
              -74.1465,
              48.5271
             ],
             [
              -74.1448,
              48.516
             ],
             [
              -74.1335,
              48.5176
             ],
             [
              -74.1298,
              48.5229
             ],
             [
              -74.1279,
              48.5293
             ],
             [
              -74.1211,
              48.534
             ],
             [
              -74.1126,
              48.5323
             ],
             [
              -74.109,
              48.5271
             ],
             [
              -74.1071,
              48.5209
             ],
             [
              -74.1013,
              48.5249
             ],
             [
              -74.0965,
              48.5188
             ],
             [
              -74.0952,
              48.5145
             ],
             [
              -74.0923,
              48.5105
             ],
             [
              -74.091,
              48.5062
             ],
             [
              -74.0798,
              48.4938
             ],
             [
              -74.0777,
              48.4868
             ],
             [
              -74.0729,
              48.4882
             ],
             [
              -74.0669,
              48.4923
             ],
             [
              -74.0535,
              48.4907
             ],
             [
              -74.0549,
              48.4549
             ],
             [
              -74.0604,
              48.4507
             ],
             [
              -74.0708,
              48.45
             ],
             [
              -74.0826,
              48.4493
             ],
             [
              -74.084,
              48.4354
             ],
             [
              -74.091,
              48.4271
             ],
             [
              -74.0917,
              48.4208
             ],
             [
              -74.095,
              48.4217
             ],
             [
              -74.0964,
              48.4272
             ],
             [
              -74.1009,
              48.4326
             ],
             [
              -74.1091,
              48.4339
             ],
             [
              -74.1145,
              48.4297
             ],
             [
              -74.1238,
              48.4286
             ],
             [
              -74.1259,
              48.4368
             ],
             [
              -74.1341,
              48.4381
             ],
             [
              -74.1395,
              48.4339
             ],
             [
              -74.1488,
              48.4328
             ],
             [
              -74.15,
              48.4375
             ],
             [
              -74.1509,
              48.4463
             ],
             [
              -74.1613,
              48.4374
             ],
             [
              -74.1635,
              48.43
             ],
             [
              -74.173,
              48.4285
             ],
             [
              -74.177,
              48.4256
             ],
             [
              -74.1826,
              48.424
             ],
             [
              -74.1841,
              48.4094
             ],
             [
              -74.1896,
              48.4077
             ],
             [
              -74.1937,
              48.4048
             ],
             [
              -74.2021,
              48.4035
             ],
             [
              -74.2145,
              48.3923
             ],
             [
              -74.223,
              48.391
             ],
             [
              -74.227,
              48.3881
             ],
             [
              -74.2292,
              48.3875
             ],
             [
              -74.2295,
              48.3809
             ],
             [
              -74.2351,
              48.3754
             ],
             [
              -74.2422,
              48.3748
             ],
             [
              -74.2438,
              48.3741
             ],
             [
              -74.2448,
              48.374
             ],
             [
              -74.2496,
              48.3691
             ],
             [
              -74.25,
              48.3634
             ],
             [
              -74.2488,
              48.3647
             ],
             [
              -74.2462,
              48.3672
             ],
             [
              -74.2379,
              48.3692
             ],
             [
              -74.23,
              48.3723
             ],
             [
              -74.2244,
              48.3749
             ],
             [
              -74.2219,
              48.3792
             ],
             [
              -74.2162,
              48.3826
             ],
             [
              -74.2073,
              48.3868
             ],
             [
              -74.2041,
              48.3877
             ],
             [
              -74.2007,
              48.3878
             ],
             [
              -74.1986,
              48.3864
             ],
             [
              -74.1977,
              48.3861
             ],
             [
              -74.1935,
              48.385
             ],
             [
              -74.1913,
              48.385
             ],
             [
              -74.1733,
              48.3914
             ],
             [
              -74.1599,
              48.3966
             ],
             [
              -74.158,
              48.3975
             ],
             [
              -74.1523,
              48.3997
             ],
             [
              -74.1495,
              48.3997
             ],
             [
              -74.148,
              48.3992
             ],
             [
              -74.148,
              48.3983
             ],
             [
              -74.1568,
              48.3933
             ],
             [
              -74.1597,
              48.3933
             ],
             [
              -74.1626,
              48.3928
             ],
             [
              -74.1644,
              48.3921
             ],
             [
              -74.1671,
              48.3886
             ],
             [
              -74.1666,
              48.3875
             ],
             [
              -74.1654,
              48.3871
             ],
             [
              -74.1535,
              48.3875
             ],
             [
              -74.1465,
              48.3825
             ],
             [
              -74.1401,
              48.3841
             ],
             [
              -74.125,
              48.3878
             ],
             [
              -74.1227,
              48.3891
             ],
             [
              -74.1213,
              48.3905
             ],
             [
              -74.1205,
              48.3926
             ],
             [
              -74.1089,
              48.3916
             ],
             [
              -74.1044,
              48.3908
             ],
             [
              -74.0992,
              48.3898
             ],
             [
              -74.0977,
              48.3874
             ],
             [
              -74.0995,
              48.3868
             ],
             [
              -74.1008,
              48.3856
             ],
             [
              -74.1026,
              48.3829
             ],
             [
              -74.104,
              48.3794
             ],
             [
              -74.1027,
              48.378
             ],
             [
              -74.1013,
              48.3783
             ],
             [
              -74.0982,
              48.379
             ],
             [
              -74.0969,
              48.3798
             ],
             [
              -74.0928,
              48.3834
             ],
             [
              -74.0896,
              48.3842
             ],
             [
              -74.085,
              48.3831
             ],
             [
              -74.0816,
              48.3811
             ],
             [
              -74.0799,
              48.3795
             ],
             [
              -74.0804,
              48.3789
             ],
             [
              -74.0824,
              48.3777
             ],
             [
              -74.0873,
              48.3769
             ],
             [
              -74.0909,
              48.3778
             ],
             [
              -74.0941,
              48.378
             ],
             [
              -74.1022,
              48.3769
             ],
             [
              -74.1093,
              48.3753
             ],
             [
              -74.1099,
              48.3741
             ],
             [
              -74.111,
              48.3705
             ],
             [
              -74.111,
              48.3671
             ],
             [
              -74.1055,
              48.3618
             ],
             [
              -74.1051,
              48.3616
             ],
             [
              -74.1026,
              48.3617
             ],
             [
              -74.0986,
              48.3601
             ],
             [
              -74.0958,
              48.3567
             ],
             [
              -74.0953,
              48.3554
             ],
             [
              -74.0966,
              48.3543
             ],
             [
              -74.0969,
              48.3541
             ],
             [
              -74.1005,
              48.3533
             ],
             [
              -74.1041,
              48.3533
             ],
             [
              -74.1127,
              48.3549
             ],
             [
              -74.1231,
              48.3576
             ],
             [
              -74.1337,
              48.3626
             ],
             [
              -74.1404,
              48.3665
             ],
             [
              -74.1421,
              48.3683
             ],
             [
              -74.1426,
              48.3696
             ],
             [
              -74.1454,
              48.3704
             ],
             [
              -74.1577,
              48.3697
             ],
             [
              -74.16,
              48.3691
             ],
             [
              -74.1663,
              48.3655
             ],
             [
              -74.1702,
              48.363
             ],
             [
              -74.1724,
              48.3611
             ],
             [
              -74.1766,
              48.3605
             ],
             [
              -74.1991,
              48.3605
             ],
             [
              -74.2002,
              48.3611
             ],
             [
              -74.1993,
              48.3621
             ],
             [
              -74.1963,
              48.3639
             ],
             [
              -74.1938,
              48.3647
             ],
             [
              -74.1933,
              48.3658
             ],
             [
              -74.194,
              48.3666
             ],
             [
              -74.1951,
              48.3667
             ],
             [
              -74.2016,
              48.3658
             ],
             [
              -74.2163,
              48.3621
             ],
             [
              -74.2198,
              48.366
             ],
             [
              -74.2215,
              48.3667
             ],
             [
              -74.2289,
              48.3662
             ],
             [
              -74.2377,
              48.3634
             ],
             [
              -74.2385,
              48.363
             ],
             [
              -74.2467,
              48.3585
             ],
             [
              -74.2475,
              48.3574
             ],
             [
              -74.2482,
              48.3563
             ],
             [
              -74.2486,
              48.3541
             ],
             [
              -74.2488,
              48.3422
             ],
             [
              -74.2482,
              48.3411
             ],
             [
              -74.2442,
              48.3392
             ],
             [
              -74.242,
              48.3385
             ],
             [
              -74.2402,
              48.3367
             ],
             [
              -74.2381,
              48.3312
             ],
             [
              -74.2377,
              48.3284
             ],
             [
              -74.2367,
              48.3213
             ],
             [
              -74.2359,
              48.3087
             ],
             [
              -74.2357,
              48.3065
             ],
             [
              -74.2357,
              48.3042
             ],
             [
              -74.2363,
              48.3014
             ],
             [
              -74.2374,
              48.3016
             ],
             [
              -74.238,
              48.3019
             ],
             [
              -74.2375,
              48.3
             ],
             [
              -74.2369,
              48.2895
             ],
             [
              -74.2339,
              48.2855
             ],
             [
              -74.2326,
              48.2759
             ],
             [
              -74.2254,
              48.274
             ],
             [
              -74.2209,
              48.2682
             ],
             [
              -74.2311,
              48.2589
             ],
             [
              -74.2397,
              48.2578
             ],
             [
              -74.2478,
              48.2506
             ],
             [
              -74.2536,
              48.2491
             ],
             [
              -74.2542,
              48.2333
             ],
             [
              -74.2452,
              48.2324
             ],
             [
              -74.2465,
              48.2145
             ],
             [
              -74.2545,
              48.2052
             ],
             [
              -74.2437,
              48.2035
             ],
             [
              -74.2396,
              48.2006
             ],
             [
              -74.2354,
              48.1994
             ],
             [
              -74.2271,
              48.1923
             ],
             [
              -74.2135,
              48.1909
             ],
             [
              -74.2112,
              48.1833
             ],
             [
              -74.2063,
              48.1798
             ],
             [
              -74.2007,
              48.1781
             ],
             [
              -74.2,
              48.1708
             ],
             [
              -74.2,
              48.1625
             ],
             [
              -74.2034,
              48.1615
             ],
             [
              -74.205,
              48.1507
             ],
             [
              -74.2367,
              48.1493
             ],
             [
              -74.2384,
              48.1331
             ],
             [
              -74.2437,
              48.1368
             ],
             [
              -74.2485,
              48.1382
             ],
             [
              -74.251,
              48.13
             ],
             [
              -74.2586,
              48.1285
             ],
             [
              -74.2659,
              48.1336
             ],
             [
              -74.2667,
              48.1208
             ],
             [
              -74.2676,
              48.1173
             ],
             [
              -74.2866,
              48.116
             ],
             [
              -74.2884,
              48.1092
             ],
             [
              -74.2917,
              48.1083
             ],
             [
              -74.3033,
              48.1077
             ],
             [
              -74.3042,
              48.1042
             ],
             [
              -74.3047,
              48.0978
             ],
             [
              -74.3161,
              48.0855
             ],
             [
              -74.3175,
              48.08
             ],
             [
              -74.3241,
              48.0783
             ],
             [
              -74.3259,
              48.0717
             ],
             [
              -74.3325,
              48.07
             ],
             [
              -74.3339,
              48.0645
             ],
             [
              -74.3378,
              48.0595
             ],
             [
              -74.3288,
              48.0572
             ],
             [
              -74.3422,
              48.0427
             ],
             [
              -74.3411,
              48.0395
             ],
             [
              -74.3339,
              48.0314
             ],
             [
              -74.3333,
              48.0292
             ],
             [
              -74.3358,
              48.0288
             ],
             [
              -74.3559,
              48.0087
             ],
             [
              -74.3625,
              48.0083
             ],
             [
              -74.3647,
              48.009
             ],
             [
              -74.3687,
              48.0119
             ],
             [
              -74.3772,
              48.0131
             ],
             [
              -74.3812,
              48.016
             ],
             [
              -74.4022,
              48.0173
             ],
             [
              -74.4103,
              48.0244
             ],
             [
              -74.4157,
              48.0259
             ],
             [
              -74.4175,
              48.0322
             ],
             [
              -74.4213,
              48.034
             ],
             [
              -74.4275,
              48.0294
             ],
             [
              -74.4298,
              48.0245
             ],
             [
              -74.4249,
              48.0179
             ],
             [
              -74.4326,
              48.0157
             ],
             [
              -74.4341,
              48.0049
             ],
             [
              -74.4463,
              48.0035
             ],
             [
              -74.452,
              48.0077
             ],
             [
              -74.4542,
              48.0083
             ],
             [
              -74.4536,
              48.0105
             ],
             [
              -74.4505,
              48.0146
             ],
             [
              -74.4536,
              48.0186
             ],
             [
              -74.455,
              48.0241
             ],
             [
              -74.4616,
              48.0259
             ],
             [
              -74.4631,
              48.0314
             ],
             [
              -74.4668,
              48.0363
             ],
             [
              -74.4716,
              48.0381
             ],
             [
              -74.4771,
              48.0338
             ],
             [
              -74.4827,
              48.0385
             ],
             [
              -74.4839,
              48.0509
             ],
             [
              -74.476,
              48.0598
             ],
             [
              -74.4768,
              48.0612
             ],
             [
              -74.4748,
              48.0635
             ],
             [
              -74.4741,
              48.0658
             ],
             [
              -74.4721,
              48.0663
             ],
             [
              -74.4669,
              48.072
             ],
             [
              -74.4661,
              48.0814
             ],
             [
              -74.4588,
              48.0896
             ],
             [
              -74.464,
              48.0958
             ],
             [
              -74.4686,
              48.0922
             ],
             [
              -74.4855,
              48.0911
             ],
             [
              -74.4936,
              48.0839
             ],
             [
              -74.5083,
              48.0833
             ],
             [
              -74.508,
              48.1024
             ],
             [
              -74.5045,
              48.1059
             ],
             [
              -74.5038,
              48.1309
             ],
             [
              -74.508,
              48.1351
             ],
             [
              -74.5083,
              48.1375
             ],
             [
              -74.5147,
              48.1369
             ],
             [
              -74.5186,
              48.1339
             ],
             [
              -74.5324,
              48.1327
             ],
             [
              -74.5342,
              48.1259
             ],
             [
              -74.5397,
              48.1244
             ],
             [
              -74.5478,
              48.1172
             ],
             [
              -74.5574,
              48.116
             ],
             [
              -74.5592,
              48.109
             ],
             [
              -74.5772,
              48.1078
             ],
             [
              -74.5811,
              48.1047
             ],
             [
              -74.5866,
              48.1033
             ],
             [
              -74.5884,
              48.0966
             ],
             [
              -74.5966,
              48.0953
             ],
             [
              -74.6029,
              48.1002
             ],
             [
              -74.6077,
              48.0991
             ],
             [
              -74.6089,
              48.077
             ],
             [
              -74.6129,
              48.0718
             ],
             [
              -74.6189,
              48.0703
             ],
             [
              -74.6311,
              48.0589
             ],
             [
              -74.6397,
              48.0578
             ],
             [
              -74.6436,
              48.0547
             ],
             [
              -74.6458,
              48.0542
             ],
             [
              -74.6566,
              48.0538
             ],
             [
              -74.6604,
              48.05
             ],
             [
              -74.6663,
              48.0559
             ],
             [
              -74.6667,
              48.0583
             ],
             [
              -74.6699,
              48.0591
             ],
             [
              -74.6714,
              48.0634
             ],
             [
              -74.6672,
              48.0686
             ],
             [
              -74.6661,
              48.0772
             ],
             [
              -74.663,
              48.0811
             ],
             [
              -74.662,
              48.0968
             ],
             [
              -74.6661,
              48.1019
             ],
             [
              -74.6667,
              48.1208
             ],
             [
              -74.6733,
              48.1205
             ],
             [
              -74.6767,
              48.117
             ],
             [
              -74.6816,
              48.1163
             ],
             [
              -74.6851,
              48.1129
             ],
             [
              -74.6899,
              48.1121
             ],
             [
              -74.6934,
              48.1087
             ],
             [
              -74.6975,
              48.108
             ],
             [
              -74.7021,
              48.1125
             ],
             [
              -74.7059,
              48.1087
             ],
             [
              -74.7184,
              48.108
             ],
             [
              -74.7312,
              48.1208
             ],
             [
              -74.7351,
              48.117
             ],
             [
              -74.7475,
              48.1163
             ],
             [
              -74.7517,
              48.1205
             ],
             [
              -74.7542,
              48.1208
             ],
             [
              -74.7625,
              48.1208
             ],
             [
              -74.7658,
              48.12
             ],
             [
              -74.7675,
              48.1134
             ],
             [
              -74.773,
              48.1119
             ],
             [
              -74.777,
              48.1089
             ],
             [
              -74.7814,
              48.1078
             ],
             [
              -74.7895,
              48.1006
             ],
             [
              -74.7966,
              48.0994
             ],
             [
              -74.802,
              48.1036
             ],
             [
              -74.8064,
              48.1047
             ],
             [
              -74.8114,
              48.1086
             ],
             [
              -74.8131,
              48.102
             ],
             [
              -74.8203,
              48.0939
             ],
             [
              -74.8217,
              48.0883
             ],
             [
              -74.828,
              48.0869
             ],
             [
              -74.83,
              48.0951
             ],
             [
              -74.8382,
              48.0964
             ],
             [
              -74.8436,
              48.0922
             ],
             [
              -74.8564,
              48.0911
             ],
             [
              -74.8604,
              48.088
             ],
             [
              -74.8645,
              48.0911
             ],
             [
              -74.873,
              48.0922
             ],
             [
              -74.8824,
              48.1006
             ],
             [
              -74.8839,
              48.1064
             ],
             [
              -74.8879,
              48.1115
             ],
             [
              -74.8917,
              48.1125
             ],
             [
              -74.8925,
              48.1092
             ],
             [
              -74.898,
              48.1078
             ],
             [
              -74.9034,
              48.1036
             ],
             [
              -74.9105,
              48.1047
             ],
             [
              -74.9145,
              48.1078
             ],
             [
              -74.9189,
              48.1089
             ],
             [
              -74.9243,
              48.1131
             ],
             [
              -74.9286,
              48.1114
             ],
             [
              -74.9297,
              48.0895
             ],
             [
              -74.9328,
              48.0855
             ],
             [
              -74.934,
              48.0759
             ],
             [
              -74.9395,
              48.0714
             ],
             [
              -74.9491,
              48.0701
             ],
             [
              -74.95,
              48.0667
             ],
             [
              -74.9506,
              48.0645
             ],
             [
              -74.9536,
              48.0605
             ],
             [
              -74.9549,
              48.0509
             ],
             [
              -74.9619,
              48.0491
             ],
             [
              -74.9631,
              48.0301
             ],
             [
              -74.9667,
              48.0292
             ],
             [
              -74.967,
              48.0267
             ],
             [
              -74.9705,
              48.0233
             ],
             [
              -74.9712,
              48.01
             ],
             [
              -74.9767,
              48.0045
             ],
             [
              -74.9816,
              48.0038
             ],
             [
              -74.9851,
              48.0004
             ],
             [
              -74.9875,
              48.0
             ],
             [
              -74.9949,
              47.9993
             ],
             [
              -74.9967,
              47.9925
             ],
             [
              -75.0022,
              47.9911
             ],
             [
              -75.0077,
              47.9865
             ],
             [
              -75.0089,
              47.9728
             ],
             [
              -75.0129,
              47.9676
             ],
             [
              -75.02,
              47.9658
             ],
             [
              -75.0217,
              47.959
             ],
             [
              -75.0314,
              47.9578
             ],
             [
              -75.0365,
              47.9538
             ],
             [
              -75.0383,
              47.9468
             ],
             [
              -75.0424,
              47.9453
             ],
             [
              -75.0478,
              47.9494
             ],
             [
              -75.0522,
              47.9506
             ],
             [
              -75.0603,
              47.9578
             ],
             [
              -75.073,
              47.9589
             ],
             [
              -75.077,
              47.9619
             ],
             [
              -75.0792,
              47.9625
             ],
             [
              -75.0792,
              47.9667
             ],
             [
              -75.0797,
              47.9689
             ],
             [
              -75.0828,
              47.9728
             ],
             [
              -75.0839,
              47.9772
             ],
             [
              -75.0884,
              47.9826
             ],
             [
              -75.098,
              47.9839
             ],
             [
              -75.102,
              47.9869
             ],
             [
              -75.1049,
              47.9881
             ],
             [
              -75.1103,
              47.9839
             ],
             [
              -75.1272,
              47.9828
             ],
             [
              -75.1313,
              47.9796
             ],
             [
              -75.1364,
              47.9844
             ],
             [
              -75.1476,
              47.9833
             ],
             [
              -75.152,
              47.9806
             ],
             [
              -75.1538,
              47.975
             ],
             [
              -75.1528,
              47.9713
             ],
             [
              -75.1514,
              47.966
             ],
             [
              -75.1523,
              47.9616
             ],
             [
              -75.1591,
              47.9614
             ],
             [
              -75.1617,
              47.9634
             ],
             [
              -75.1618,
              47.9762
             ],
             [
              -75.1663,
              47.9796
             ],
             [
              -75.176,
              47.9784
             ],
             [
              -75.1797,
              47.9805
             ],
             [
              -75.1815,
              47.985
             ],
             [
              -75.1876,
              47.987
             ],
             [
              -75.1957,
              47.9808
             ],
             [
              -75.1962,
              47.9801
             ],
             [
              -75.1967,
              47.98
             ],
             [
              -75.2014,
              47.9765
             ],
             [
              -75.2106,
              47.9732
             ],
             [
              -75.2187,
              47.9728
             ],
             [
              -75.2209,
              47.9743
             ],
             [
              -75.2205,
              47.9745
             ],
             [
              -75.2125,
              47.9782
             ],
             [
              -75.1899,
              47.9954
             ],
             [
              -75.1819,
              47.9946
             ]
            ],
            [
             [
              -74.2828,
              48.3353
             ],
             [
              -74.2756,
              48.3272
             ],
             [
              -74.2741,
              48.3217
             ],
             [
              -74.2661,
              48.3196
             ],
             [
              -74.2672,
              48.3103
             ],
             [
              -74.2744,
              48.3022
             ],
             [
              -74.275,
              48.3
             ],
             [
              -74.2726,
              48.3004
             ],
             [
              -74.2691,
              48.3038
             ],
             [
              -74.2458,
              48.3042
             ],
             [
              -74.2459,
              48.3067
             ],
             [
              -74.247,
              48.3194
             ],
             [
              -74.2508,
              48.3256
             ],
             [
              -74.2577,
              48.3291
             ],
             [
              -74.2583,
              48.3297
             ],
             [
              -74.2606,
              48.3355
             ],
             [
              -74.2616,
              48.3378
             ],
             [
              -74.2649,
              48.3427
             ],
             [
              -74.2685,
              48.3452
             ],
             [
              -74.271,
              48.3469
             ],
             [
              -74.2731,
              48.3499
             ],
             [
              -74.2767,
              48.3462
             ],
             [
              -74.2833,
              48.3458
             ],
             [
              -74.2828,
              48.3353
             ]
            ]
           ],
           "type": "Polygon"
          },
          "id": "0",
          "properties": {
           "COAST": 0,
           "DIST_MAIN": 517.6,
           "DIST_SINK": 517.6,
           "ENDO": 0,
           "HYBAS_ID": 7129001061,
           "LAKE": 56,
           "NEXT_DOWN": 7120323452,
           "NEXT_SINK": 7120034520,
           "ORDER": 2,
           "PFAF_ID": 725209301000,
           "SIDE": "L",
           "SORT": 99410,
           "SUB_AREA": 8470.5,
           "UP_AREA": 8773.1,
           "id": "USGS_HydroBASINS_lake_na_lev12.99410"
          },
          "type": "Feature"
         }
        ],
        "type": "FeatureCollection"
       },
       "hover_style": {
        "fillColor": "#b08a3e",
        "fillOpacity": 0.9
       },
       "layers": [],
       "name": "",
       "options": [],
       "point_style": {},
       "popup": null,
       "popup_max_height": null,
       "popup_max_width": 300,
       "popup_min_width": 50,
       "style": {
        "color": "blue",
        "fillOpacity": 0.5,
        "opacity": 1,
        "weight": 1.9
       }
      }
     },
     "6cdbdad3e5e8477f9945462f8dda865f": {
      "model_module": "jupyter-leaflet",
      "model_module_version": "^0.14.0",
      "model_name": "LeafletTileLayerModel",
      "state": {
       "_model_module": "jupyter-leaflet",
       "_model_module_version": "^0.14.0",
       "_model_name": "LeafletTileLayerModel",
       "_view_count": null,
       "_view_module": "jupyter-leaflet",
       "_view_module_version": "^0.14.0",
       "_view_name": "LeafletTileLayerView",
       "attribution": "Map data: &copy; <a href=\"http://www.openstreetmap.org/copyright\">OpenStreetMap</a>, <a href=\"http://viewfinderpanoramas.org\">SRTM</a> | Map style: &copy; <a href=\"https://opentopomap.org\">OpenTopoMap</a> (<a href=\"https://creativecommons.org/licenses/by-sa/3.0/\">CC-BY-SA</a>)",
       "base": true,
       "bottom": true,
       "detect_retina": false,
       "loading": false,
       "max_native_zoom": 18,
       "max_zoom": 17,
       "min_native_zoom": 0,
       "min_zoom": 1,
       "name": "OpenTopoMap",
       "no_wrap": false,
       "opacity": 1.0,
       "options": [
        "attribution",
        "detect_retina",
        "max_native_zoom",
        "max_zoom",
        "min_native_zoom",
        "min_zoom",
        "no_wrap",
        "tile_size",
        "tms"
       ],
       "popup": null,
       "popup_max_height": null,
       "popup_max_width": 300,
       "popup_min_width": 50,
       "show_loading": false,
       "tile_size": 256,
       "tms": false,
       "url": "https://{s}.tile.opentopomap.org/{z}/{x}/{y}.png",
       "visible": true
      }
     },
     "7915232b82e34fd38e1b62ae415bc10f": {
      "model_module": "jupyter-leaflet",
      "model_module_version": "^0.14.0",
      "model_name": "LeafletMapStyleModel",
      "state": {
       "_model_module": "jupyter-leaflet",
       "_model_module_version": "^0.14.0",
       "_model_name": "LeafletMapStyleModel",
       "_view_count": null,
       "_view_module": "@jupyter-widgets/base",
       "_view_module_version": "1.2.0",
       "_view_name": "StyleView",
       "cursor": "grab"
      }
     },
     "79ffeeb83d824f5b88772702c2a63bd9": {
      "model_module": "@jupyter-widgets/controls",
      "model_module_version": "1.5.0",
      "model_name": "IntSliderModel",
      "state": {
       "_dom_classes": [],
       "_model_module": "@jupyter-widgets/controls",
       "_model_module_version": "1.5.0",
       "_model_name": "IntSliderModel",
       "_view_count": null,
       "_view_module": "@jupyter-widgets/controls",
       "_view_module_version": "1.5.0",
       "_view_name": "IntSliderView",
       "continuous_update": true,
       "description": "Zoom level:",
       "description_tooltip": null,
       "disabled": false,
       "layout": "IPY_MODEL_ac90fd59690448008964532341183b9c",
       "max": 10,
       "min": 1,
       "orientation": "horizontal",
       "readout": true,
       "readout_format": "d",
       "step": 1,
       "style": "IPY_MODEL_125bd1d787314b21b614504af4d22953",
       "value": 6
      }
     },
     "82a62c4263d246e69c8521bea915cf1d": {
      "model_module": "jupyter-leaflet",
      "model_module_version": "^0.14.0",
      "model_name": "LeafletMarkerModel",
      "state": {
       "_model_module": "jupyter-leaflet",
       "_model_module_version": "^0.14.0",
       "_model_name": "LeafletMarkerModel",
       "_view_count": null,
       "_view_module": "jupyter-leaflet",
       "_view_module_version": "^0.14.0",
       "_view_name": "LeafletMarkerView",
       "alt": "",
       "base": false,
       "bottom": false,
       "draggable": true,
       "icon": null,
       "keyboard": true,
       "location": [
        48.63,
        -74.71
       ],
       "name": "",
       "opacity": 1.0,
       "options": [
        "alt",
        "draggable",
        "keyboard",
        "rise_offset",
        "rise_on_hover",
        "rotation_angle",
        "rotation_origin",
        "title",
        "z_index_offset"
       ],
       "popup": null,
       "popup_max_height": null,
       "popup_max_width": 300,
       "popup_min_width": 50,
       "rise_offset": 250,
       "rise_on_hover": false,
       "rotation_angle": 0.0,
       "rotation_origin": "",
       "title": "",
       "visible": true,
       "z_index_offset": 0
      }
     },
     "88f5f028c41c4fd3a9a86d1a05d9dc7d": {
      "model_module": "jupyter-leaflet",
      "model_module_version": "^0.14.0",
      "model_name": "LeafletMapModel",
      "state": {
       "_dom_classes": [],
       "_model_module": "jupyter-leaflet",
       "_model_module_version": "^0.14.0",
       "_model_name": "LeafletMapModel",
       "_view_count": null,
       "_view_module": "jupyter-leaflet",
       "_view_module_version": "^0.14.0",
       "_view_name": "LeafletMapView",
       "bottom": 0.0,
       "bounce_at_zoom_limits": true,
       "box_zoom": true,
       "center": [
        48.63,
        -74.71
       ],
       "close_popup_on_click": true,
       "controls": [
        "IPY_MODEL_f7f0a09c4e3446adb0e9d96cea940a67",
        "IPY_MODEL_a55c3e171a7843e68e272129cada3217",
        "IPY_MODEL_bebed6b7ad334640a059d6aaec4e9e34",
        "IPY_MODEL_b890e6c7e46746d0ab067ae46054e7df"
       ],
       "crs": {
        "custom": false,
        "name": "EPSG3857"
       },
       "default_style": "IPY_MODEL_7915232b82e34fd38e1b62ae415bc10f",
       "double_click_zoom": true,
       "dragging": true,
       "dragging_style": "IPY_MODEL_c38cafd46f0440e79898405ca34afb8c",
       "east": 0.0,
       "fullscreen": false,
       "inertia": true,
       "inertia_deceleration": 3000,
       "inertia_max_speed": 1500,
       "interpolation": "bilinear",
       "keyboard": true,
       "keyboard_pan_offset": 80,
       "keyboard_zoom_offset": 1,
       "layers": [
        "IPY_MODEL_6cdbdad3e5e8477f9945462f8dda865f",
        "IPY_MODEL_82a62c4263d246e69c8521bea915cf1d",
        "IPY_MODEL_4d89f56f69e148268c36bb0d8fc74f9d"
       ],
       "layout": "IPY_MODEL_c3d16381a3734e3f8f47bf2cb94b2eae",
       "left": 9007199254740991.0,
       "max_zoom": 18.0,
       "min_zoom": 1.0,
       "modisdate": "yesterday",
       "north": 0.0,
       "options": [
        "bounce_at_zoom_limits",
        "box_zoom",
        "center",
        "close_popup_on_click",
        "double_click_zoom",
        "dragging",
        "fullscreen",
        "inertia",
        "inertia_deceleration",
        "inertia_max_speed",
        "interpolation",
        "keyboard",
        "keyboard_pan_offset",
        "keyboard_zoom_offset",
        "max_zoom",
        "min_zoom",
        "scroll_wheel_zoom",
        "tap",
        "tap_tolerance",
        "touch_zoom",
        "world_copy_jump",
        "zoom",
        "zoom_animation_threshold",
        "zoom_delta",
        "zoom_snap",
        "zoom_start"
       ],
       "right": 0.0,
       "scroll_wheel_zoom": false,
       "south": 0.0,
       "style": "IPY_MODEL_b5f36c5b56d24364b9de5b5435345b7f",
       "tap": true,
       "tap_tolerance": 15,
       "top": 9007199254740991.0,
       "touch_zoom": true,
       "west": 0.0,
       "window_url": "",
       "world_copy_jump": false,
       "zoom": 12.0,
       "zoom_animation_threshold": 4,
       "zoom_delta": 1.0,
       "zoom_snap": 1.0,
       "zoom_start": 12.0
      }
     },
     "a55c3e171a7843e68e272129cada3217": {
      "model_module": "jupyter-leaflet",
      "model_module_version": "^0.14.0",
      "model_name": "LeafletAttributionControlModel",
      "state": {
       "_model_module": "jupyter-leaflet",
       "_model_module_version": "^0.14.0",
       "_model_name": "LeafletAttributionControlModel",
       "_view_count": null,
       "_view_module": "jupyter-leaflet",
       "_view_module_version": "^0.14.0",
       "_view_name": "LeafletAttributionControlView",
       "options": [
        "position",
        "prefix"
       ],
       "position": "bottomright",
       "prefix": "ipyleaflet"
      }
     },
     "ac90fd59690448008964532341183b9c": {
      "model_module": "@jupyter-widgets/base",
      "model_module_version": "1.2.0",
      "model_name": "LayoutModel",
      "state": {
       "_model_module": "@jupyter-widgets/base",
       "_model_module_version": "1.2.0",
       "_model_name": "LayoutModel",
       "_view_count": null,
       "_view_module": "@jupyter-widgets/base",
       "_view_module_version": "1.2.0",
       "_view_name": "LayoutView",
       "align_content": null,
       "align_items": null,
       "align_self": null,
       "border": null,
       "bottom": null,
       "display": null,
       "flex": null,
       "flex_flow": null,
       "grid_area": null,
       "grid_auto_columns": null,
       "grid_auto_flow": null,
       "grid_auto_rows": null,
       "grid_column": null,
       "grid_gap": null,
       "grid_row": null,
       "grid_template_areas": null,
       "grid_template_columns": null,
       "grid_template_rows": null,
       "height": null,
       "justify_content": null,
       "justify_items": null,
       "left": null,
       "margin": null,
       "max_height": null,
       "max_width": null,
       "min_height": null,
       "min_width": null,
       "object_fit": null,
       "object_position": null,
       "order": null,
       "overflow": null,
       "overflow_x": null,
       "overflow_y": null,
       "padding": null,
       "right": null,
       "top": null,
       "visibility": null,
       "width": null
      }
     },
     "b5f36c5b56d24364b9de5b5435345b7f": {
      "model_module": "jupyter-leaflet",
      "model_module_version": "^0.14.0",
      "model_name": "LeafletMapStyleModel",
      "state": {
       "_model_module": "jupyter-leaflet",
       "_model_module_version": "^0.14.0",
       "_model_name": "LeafletMapStyleModel",
       "_view_count": null,
       "_view_module": "@jupyter-widgets/base",
       "_view_module_version": "1.2.0",
       "_view_name": "StyleView",
       "cursor": "grab"
      }
     },
     "b890e6c7e46746d0ab067ae46054e7df": {
      "model_module": "jupyter-leaflet",
      "model_module_version": "^0.14.0",
      "model_name": "LeafletWidgetControlModel",
      "state": {
       "_model_module": "jupyter-leaflet",
       "_model_module_version": "^0.14.0",
       "_model_name": "LeafletWidgetControlModel",
       "_view_count": null,
       "_view_module": "jupyter-leaflet",
       "_view_module_version": "^0.14.0",
       "_view_name": "LeafletWidgetControlView",
       "max_height": null,
       "max_width": null,
       "min_height": null,
       "min_width": null,
       "options": [
        "position",
        "transparent_bg"
       ],
       "position": "bottomleft",
       "transparent_bg": false,
       "widget": "IPY_MODEL_103a7fe809a946d1a3b6390a5e9599a2"
      }
     },
     "bebed6b7ad334640a059d6aaec4e9e34": {
      "model_module": "jupyter-leaflet",
      "model_module_version": "^0.14.0",
      "model_name": "LeafletWidgetControlModel",
      "state": {
       "_model_module": "jupyter-leaflet",
       "_model_module_version": "^0.14.0",
       "_model_name": "LeafletWidgetControlModel",
       "_view_count": null,
       "_view_module": "jupyter-leaflet",
       "_view_module_version": "^0.14.0",
       "_view_name": "LeafletWidgetControlView",
       "max_height": null,
       "max_width": null,
       "min_height": null,
       "min_width": null,
       "options": [
        "position",
        "transparent_bg"
       ],
       "position": "topright",
       "transparent_bg": false,
       "widget": "IPY_MODEL_79ffeeb83d824f5b88772702c2a63bd9"
      }
     },
     "c38cafd46f0440e79898405ca34afb8c": {
      "model_module": "jupyter-leaflet",
      "model_module_version": "^0.14.0",
      "model_name": "LeafletMapStyleModel",
      "state": {
       "_model_module": "jupyter-leaflet",
       "_model_module_version": "^0.14.0",
       "_model_name": "LeafletMapStyleModel",
       "_view_count": null,
       "_view_module": "@jupyter-widgets/base",
       "_view_module_version": "1.2.0",
       "_view_name": "StyleView",
       "cursor": "move"
      }
     },
     "c3d16381a3734e3f8f47bf2cb94b2eae": {
      "model_module": "@jupyter-widgets/base",
      "model_module_version": "1.2.0",
      "model_name": "LayoutModel",
      "state": {
       "_model_module": "@jupyter-widgets/base",
       "_model_module_version": "1.2.0",
       "_model_name": "LayoutModel",
       "_view_count": null,
       "_view_module": "@jupyter-widgets/base",
       "_view_module_version": "1.2.0",
       "_view_name": "LayoutView",
       "align_content": null,
       "align_items": null,
       "align_self": null,
       "border": null,
       "bottom": null,
       "display": null,
       "flex": null,
       "flex_flow": null,
       "grid_area": null,
       "grid_auto_columns": null,
       "grid_auto_flow": null,
       "grid_auto_rows": null,
       "grid_column": null,
       "grid_gap": null,
       "grid_row": null,
       "grid_template_areas": null,
       "grid_template_columns": null,
       "grid_template_rows": null,
       "height": null,
       "justify_content": null,
       "justify_items": null,
       "left": null,
       "margin": null,
       "max_height": null,
       "max_width": null,
       "min_height": null,
       "min_width": null,
       "object_fit": null,
       "object_position": null,
       "order": null,
       "overflow": null,
       "overflow_x": null,
       "overflow_y": null,
       "padding": null,
       "right": null,
       "top": null,
       "visibility": null,
       "width": null
      }
     },
     "f7f0a09c4e3446adb0e9d96cea940a67": {
      "model_module": "jupyter-leaflet",
      "model_module_version": "^0.14.0",
      "model_name": "LeafletZoomControlModel",
      "state": {
       "_model_module": "jupyter-leaflet",
       "_model_module_version": "^0.14.0",
       "_model_name": "LeafletZoomControlModel",
       "_view_count": null,
       "_view_module": "jupyter-leaflet",
       "_view_module_version": "^0.14.0",
       "_view_name": "LeafletZoomControlView",
       "options": [
        "position",
        "zoom_in_text",
        "zoom_in_title",
        "zoom_out_text",
        "zoom_out_title"
       ],
       "position": "topleft",
       "zoom_in_text": "+",
       "zoom_in_title": "Zoom in",
       "zoom_out_text": "-",
       "zoom_out_title": "Zoom out"
      }
     }
    },
    "version_major": 2,
    "version_minor": 0
   }
  }
 },
 "nbformat": 4,
 "nbformat_minor": 4
}
