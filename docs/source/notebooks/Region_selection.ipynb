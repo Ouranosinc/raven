{
 "cells": [
  {
   "cell_type": "markdown",
   "metadata": {},
   "source": [
    "# Region Selection and Map Preview with Ipyleaflet"
   ]
  },
  {
   "cell_type": "code",
   "execution_count": 1,
   "metadata": {},
   "outputs": [],
   "source": [
    "# Import the necessary libraries to format, send, and parse our returned results\n",
    "\n",
    "import birdy\n",
    "import json\n",
    "import geopandas as gpd\n",
    "import requests\n",
    "import matplotlib\n",
    "import ipyleaflet\n",
    "import ipywidgets"
   ]
  },
  {
   "cell_type": "code",
   "execution_count": 2,
   "metadata": {},
   "outputs": [
    {
     "name": "stdout",
     "output_type": "stream",
     "text": [
      "Enabling notebook extension jupyter-leaflet/extension...\r\n",
      "      - Validating: \u001b[32mOK\u001b[0m\r\n"
     ]
    }
   ],
   "source": [
    "# Ensure that the ipyleaflet extension is enbaled\n",
    "\n",
    "!jupyter nbextension enable --py --sys-prefix ipyleaflet"
   ]
  },
  {
   "cell_type": "code",
   "execution_count": 3,
   "metadata": {},
   "outputs": [],
   "source": [
    "# Create WPS instances\n",
    "\n",
    "# # locally running instance\n",
    "# raven_url = \"http://localhost:9099/wps\"\n",
    "# raven = birdy.WPSClient(raven_url, progress=True)\n",
    "\n",
    "# instance via pavics.ouranos.ca\n",
    "pavics_url = \"https://pavics.ouranos.ca\"\n",
    "raven_url = f'{pavics_url}/twitcher/ows/proxy/raven/wps'\n",
    "\n",
    "raven = birdy.WPSClient(raven_url, progress=True)"
   ]
  },
  {
   "cell_type": "code",
   "execution_count": 4,
   "metadata": {},
   "outputs": [],
   "source": [
    "# Build an interactive map with ipyleaflet\n",
    "\n",
    "initial_lat_lon = (48.63, -74.71)\n",
    "\n",
    "leaflet_map = ipyleaflet.Map(\n",
    "    center=initial_lat_lon,\n",
    "    basemap=ipyleaflet.basemaps.OpenTopoMap,\n",
    ")\n",
    "\n",
    "# Add a custom zoom slider\n",
    "zoom_slider = ipywidgets.IntSlider(description='Zoom level:', min=1, max=10, value=5)\n",
    "ipywidgets.jslink((zoom_slider, 'value'), (leaflet_map, 'zoom'))\n",
    "widget_control1 = ipyleaflet.WidgetControl(widget=zoom_slider, position='topright')\n",
    "leaflet_map.add_control(widget_control1)\n",
    "\n",
    "# Add a marker to the map\n",
    "marker = ipyleaflet.Marker(location=initial_lat_lon, draggable=True)\n",
    "leaflet_map.add_layer(marker)"
   ]
  },
  {
   "cell_type": "code",
   "execution_count": 5,
   "metadata": {},
   "outputs": [],
   "source": [
    "# Add an overlay widget\n",
    "\n",
    "html = ipywidgets.HTML(\"\"\"Hover over a feature!\"\"\")\n",
    "html.layout.margin = '0px 10px 10px 10px'\n",
    "\n",
    "control = ipyleaflet.WidgetControl(widget=html, position='bottomleft')\n",
    "leaflet_map.add_control(control)\n",
    "\n",
    "def update_html(feature,  **kwargs):\n",
    "    html.value = '''\n",
    "        <h2><b>USGS HydroBASINS</b></h2>\n",
    "        <h4>ID: {}</h4>\n",
    "        <h4>Upstream Area: {} sq. km.</h4> \n",
    "        <h4>Sub-basin Area: {} sq. km.</h4>\n",
    "    '''.format(feature['properties']['id'],\n",
    "               feature['properties']['UP_AREA'],\n",
    "               feature['properties']['SUB_AREA'])"
   ]
  },
  {
   "cell_type": "code",
   "execution_count": 6,
   "metadata": {},
   "outputs": [
    {
     "data": {
      "application/vnd.jupyter.widget-view+json": {
       "model_id": "89452f06cebe438181f1d08de3a2dad6",
       "version_major": 2,
       "version_minor": 0
      },
      "text/plain": [
       "Map(basemap={'url': 'https://{s}.tile.opentopomap.org/{z}/{x}/{y}.png', 'max_zoom': 17, 'attribution': 'Map da…"
      ]
     },
     "metadata": {},
     "output_type": "display_data"
    }
   ],
   "source": [
    "# Load the map in the notebook\n",
    "leaflet_map"
   ]
  },
  {
   "cell_type": "markdown",
   "metadata": {},
   "source": [
    "**Before continuing!**\n",
    "\n",
    "Try dragging and placing the marker at the mouth of a river, over a large lake such as Lac Saint Jean (next to Alma, east of the initial marker position), or anywhere else within North America."
   ]
  },
  {
   "cell_type": "code",
   "execution_count": 11,
   "metadata": {},
   "outputs": [
    {
     "data": {
      "text/plain": [
       "[-71.93847656250001, 48.48748647988415]"
      ]
     },
     "execution_count": 11,
     "metadata": {},
     "output_type": "execute_result"
    }
   ],
   "source": [
    "user_lonlat = list(reversed(marker.location))\n",
    "user_lonlat"
   ]
  },
  {
   "cell_type": "code",
   "execution_count": 12,
   "metadata": {},
   "outputs": [
    {
     "data": {
      "application/vnd.jupyter.widget-view+json": {
       "model_id": "4411003f654c4a2ab105986d88974af1",
       "version_major": 2,
       "version_minor": 0
      },
      "text/plain": [
       "HBox(children=(IntProgress(value=0, bar_style='info', description='Processing:'), Button(button_style='danger'…"
      ]
     },
     "metadata": {},
     "output_type": "display_data"
    }
   ],
   "source": [
    "# user_location = raven.hydrobasins_select(location=lonlat, aggregate_upstream=True)\n",
    "user_location = raven.hydrosheds_select(location=str(user_lonlat), aggregate_upstream=True)\n"
   ]
  },
  {
   "cell_type": "code",
   "execution_count": 13,
   "metadata": {},
   "outputs": [
    {
     "data": {
      "text/plain": [
       "{'COAST': 0,\n",
       " 'DIST_MAIN': 167.2,\n",
       " 'DIST_SINK': 167.2,\n",
       " 'ENDO': 0,\n",
       " 'HYBAS_ID': 7129001701,\n",
       " 'LAKE': 301,\n",
       " 'NEXT_DOWN': 7120317402,\n",
       " 'NEXT_SINK': 7120034330,\n",
       " 'ORDER': 1,\n",
       " 'PFAF_ID': 724083034000,\n",
       " 'SIDE': 'L',\n",
       " 'SORT': 96070,\n",
       " 'SUB_AREA': 72417.5,\n",
       " 'UP_AREA': 1067.6,\n",
       " 'id': 'USGS_HydroBASINS_lake_na_lev12.96070'}"
      ]
     },
     "execution_count": 13,
     "metadata": {},
     "output_type": "execute_result"
    }
   ],
   "source": [
    "# Before continuing, wait for the process to finish!\n",
    "\n",
    "# Extract the URL of the resulting GeoJSON feature\n",
    "user_shape = user_location.get(asobj=False).feature\n",
    "user_shape\n",
    "\n",
    "# Examine its properties\n",
    "user_data = requests.get(user_shape).json()\n",
    "user_data['properties']"
   ]
  },
  {
   "cell_type": "code",
   "execution_count": 14,
   "metadata": {},
   "outputs": [],
   "source": [
    "# Add this GeoJSON to the map!\n",
    "df = gpd.read_file(user_shape)\n",
    "user_geojson = ipyleaflet.GeoData(geo_dataframe=df, \n",
    "    style = {\n",
    "        'color': 'blue', \n",
    "        'opacity':1, \n",
    "        'weight':1.9, \n",
    "        'fillOpacity':0.5,\n",
    "    },\n",
    "                                  \n",
    "    hover_style={'fillColor': '#b08a3e' , 'fillOpacity': 0.9}\n",
    ")\n",
    "\n",
    "leaflet_map.add_layer(user_geojson)\n",
    "\n",
    "user_geojson.on_hover(update_html)"
   ]
  },
  {
   "cell_type": "code",
   "execution_count": null,
   "metadata": {},
   "outputs": [],
   "source": []
  }
 ],
 "metadata": {
  "kernelspec": {
   "display_name": "Python 3",
   "language": "python",
   "name": "python3"
  },
  "language_info": {
   "codemirror_mode": {
    "name": "ipython",
    "version": 3
   },
   "file_extension": ".py",
   "mimetype": "text/x-python",
   "name": "python",
   "nbconvert_exporter": "python",
   "pygments_lexer": "ipython3",
   "version": "3.6.7"
  }
 },
 "nbformat": 4,
 "nbformat_minor": 2
}
