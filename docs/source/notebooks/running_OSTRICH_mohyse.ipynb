{
 "cells": [
  {
   "cell_type": "markdown",
   "metadata": {},
   "source": [
    "# Calibrating the MOHYSE hydrological model using OSTRICH on the Raven server\n",
    "\n",
    "Here we use birdy's WPS client to calibrate the MOHYSE hydrological model on the server and analyze the calibrated parameter set and hydrograph. "
   ]
  },
  {
   "cell_type": "code",
   "execution_count": 3,
   "metadata": {},
   "outputs": [],
   "source": [
    "from birdy import WPSClient\n",
    "\n",
    "from example_data import TESTDATA\n",
    "import datetime as dt\n",
    "from urllib.request import urlretrieve\n",
    "import xarray as xr\n",
    "import numpy as np\n",
    "from matplotlib import pyplot as plt\n",
    "\n",
    "# url = \"https://pavics.ouranos.ca/twitcher/ows/proxy/raven/wps\"\n",
    "url = \"http://localhost:9099/wps\"\n",
    "\n",
    "wps = WPSClient(url)"
   ]
  },
  {
   "cell_type": "code",
   "execution_count": 4,
   "metadata": {},
   "outputs": [],
   "source": [
    "# The model parameter boundaries. Can either be a string of comma separated values, a list, an array or a named tuple. \n",
    "low_p = '0.01, 0.01, 0.01, -5.00, 0.01, 0.01, 0.01, 0.01'\n",
    "high_p = '20.0, 1.0, 20.0, 5.0, 0.5, 1.0, 1.0, 1.0'\n",
    "low_h = '0.01, 0.01'\n",
    "high_h = '15.0, 15.0'\n",
    "          \n",
    "# Forcing files\n",
    "ts=TESTDATA['ostrich-mohyse-nc-ts']\n",
    "\n",
    "# OSTRICH configuration parameters\n",
    "config = dict(\n",
    "    algorithm='DDS',\n",
    "    max_iterations=10,\n",
    "    area=4250.6,\n",
    "    elevation=843.0,\n",
    "    latitude=54.4848,\n",
    "    longitude=-123.3659,\n",
    "    lowerbounds=low_p,\n",
    "    upperbounds=high_p,\n",
    "    start_date=dt.datetime(1954, 1, 1),\n",
    "    duration=208,\n",
    "    hruslowerbounds=low_h,\n",
    "    hrusupperbounds=high_h,\n",
    "    )\n",
    "\n",
    "# Let's call Ostrich with the timeseries, calibration parameters and other configuration parameters\n",
    "resp = wps.ostrich_mohyse(ts=str(ts), **config)\n",
    "\n",
    "# And get the response\n",
    "# With `asobj` set to False, only the reference to the output is returned in the response. \n",
    "# Setting `asobj` to True will retrieve the actual files and copy the locally. \n",
    "[calibration, hydrograph, storage, solution, diagnostics, calibparams] = resp.get(asobj=True)"
   ]
  },
  {
   "cell_type": "markdown",
   "metadata": {},
   "source": [
    "Since we requested output objects, we can simply access the output objects. The dianostics is just a CSV file: \n",
    "# Here there is a problem because we only get the 8 calibrated parameters but not the 2 \"hru\" calibrated parameters, which means we can't run the code afterwards with the calibrated HRU parameters."
   ]
  },
  {
   "cell_type": "code",
   "execution_count": 5,
   "metadata": {},
   "outputs": [
    {
     "name": "stdout",
     "output_type": "stream",
     "text": [
      "2.67175, 0.5272563, 16.24117, -2.744269, 0.06924371, 0.7500638, 0.3232848, 0.7336175\n"
     ]
    }
   ],
   "source": [
    "print(calibparams)"
   ]
  },
  {
   "cell_type": "markdown",
   "metadata": {},
   "source": [
    "The `hydrograph` and `storage` outputs are netCDF files storing the time series. These files are opened by default using `xarray`, which provides convenient and powerful time series analysis and plotting tools. "
   ]
  },
  {
   "cell_type": "code",
   "execution_count": 6,
   "metadata": {},
   "outputs": [
    {
     "data": {
      "text/plain": [
       "<xarray.DataArray 'q_sim' (time: 209, nbasins: 1)>\n",
       "array([[ 0.      ],\n",
       "       [ 0.      ],\n",
       "       [ 0.      ],\n",
       "       ...,\n",
       "       [34.204588],\n",
       "       [34.019456],\n",
       "       [33.845014]])\n",
       "Coordinates:\n",
       "  * time        (time) datetime64[ns] 1954-01-01 1954-01-02 ... 1954-07-28\n",
       "    basin_name  (nbasins) object ...\n",
       "Dimensions without coordinates: nbasins\n",
       "Attributes:\n",
       "    units:      m**3 s**-1\n",
       "    long_name:  Simulated outflows"
      ]
     },
     "execution_count": 6,
     "metadata": {},
     "output_type": "execute_result"
    }
   ],
   "source": [
    "hydrograph.q_sim"
   ]
  },
  {
   "cell_type": "code",
   "execution_count": 7,
   "metadata": {},
   "outputs": [
    {
     "name": "stderr",
     "output_type": "stream",
     "text": [
      "/home/tjs/miniconda3/envs/raven-dev/lib/python3.6/site-packages/pandas/plotting/_converter.py:129: FutureWarning: Using an implicitly registered datetime converter for a matplotlib plotting method. The converter was registered by pandas on import. Future versions of pandas will require you to explicitly register matplotlib converters.\n",
      "\n",
      "To register the converters:\n",
      "\t>>> from pandas.plotting import register_matplotlib_converters\n",
      "\t>>> register_matplotlib_converters()\n",
      "  warnings.warn(msg, FutureWarning)\n"
     ]
    },
    {
     "data": {
      "text/plain": [
       "[<matplotlib.lines.Line2D at 0x7fbb04b70c18>]"
      ]
     },
     "execution_count": 7,
     "metadata": {},
     "output_type": "execute_result"
    },
    {
     "data": {
      "image/png": "[encoded data removed]",
      "text/plain": [
       "<Figure size 432x288 with 1 Axes>"
      ]
     },
     "metadata": {
      "needs_background": "light"
     },
     "output_type": "display_data"
    }
   ],
   "source": [
    "hydrograph.q_sim.plot()"
   ]
  },
  {
   "cell_type": "code",
   "execution_count": 8,
   "metadata": {},
   "outputs": [
    {
     "name": "stdout",
     "output_type": "stream",
     "text": [
      "Max:  <xarray.DataArray 'q_sim' ()>\n",
      "array(58.32816)\n",
      "Mean:  <xarray.DataArray 'q_sim' ()>\n",
      "array(26.665683)\n",
      "Monthly means:  <xarray.DataArray 'q_sim' (month: 7)>\n",
      "array([ 0.      ,  0.133339,  6.999801, 34.898921, 56.453474, 50.140229,\n",
      "       37.541724])\n",
      "Coordinates:\n",
      "  * month    (month) int64 1 2 3 4 5 6 7\n"
     ]
    },
    {
     "name": "stderr",
     "output_type": "stream",
     "text": [
      "/home/tjs/miniconda3/envs/raven-dev/lib/python3.6/site-packages/xarray/core/groupby.py:639: FutureWarning: Default reduction dimension will be changed to the grouped dimension in a future version of xarray. To silence this warning, pass dim=xarray.ALL_DIMS explicitly.\n",
      "  skipna=skipna, allow_lazy=True, **kwargs)\n"
     ]
    }
   ],
   "source": [
    "print(\"Max: \", hydrograph.q_sim.max())\n",
    "print(\"Mean: \", hydrograph.q_sim.mean())\n",
    "print(\"Monthly means: \", hydrograph.q_sim.groupby('time.month').mean())"
   ]
  },
  {
   "cell_type": "markdown",
   "metadata": {},
   "source": [
    "Now, let's do a test: let's run the model again using the same parameters and check to see that the NSE is the same. \n",
    "\n",
    "First, lets extract the diagnostics from the optimized run, giving the calibration NSE."
   ]
  },
  {
   "cell_type": "code",
   "execution_count": 9,
   "metadata": {},
   "outputs": [
    {
     "data": {
      "text/plain": [
       "'observed data series,filename,DIAG_NASH_SUTCLIFFE,DIAG_RMSE,\\nHYDROGRAPH,./model//Salmon-River-Near-Prince-George_meteo_daily.nc,0.384373,40.6527,\\n'"
      ]
     },
     "execution_count": 9,
     "metadata": {},
     "output_type": "execute_result"
    }
   ],
   "source": [
    "diagnostics"
   ]
  },
  {
   "cell_type": "markdown",
   "metadata": {},
   "source": [
    "Run the MOHYSE WPS:"
   ]
  },
  {
   "cell_type": "code",
   "execution_count": 10,
   "metadata": {},
   "outputs": [],
   "source": [
    "# Model configuration parameters\n",
    "config = dict(area=4250.6,\n",
    "    elevation=843.0,\n",
    "    latitude=54.4848,\n",
    "    longitude=-123.3659,\n",
    "    start_date=dt.datetime(1954, 1, 1),\n",
    "    duration=208,\n",
    "             )\n",
    "# Let's call the model with the timeseries, model parameters and other configuration parameters\n",
    "resp = wps.raven_mohyse(ts=str(ts), params=calibparams, **config)\n",
    "[hydrograph, storage, solution, diagnostics2] = resp.get(asobj=True)"
   ]
  },
  {
   "cell_type": "markdown",
   "metadata": {},
   "source": [
    "Now lets check to see if the diagnostics are the same."
   ]
  },
  {
   "cell_type": "code",
   "execution_count": 11,
   "metadata": {},
   "outputs": [
    {
     "data": {
      "text/plain": [
       "'observed data series,filename,DIAG_NASH_SUTCLIFFE,DIAG_RMSE,\\nHYDROGRAPH,/tmp/pywps_process__5lis_lm/Salmon-River-Near-Prince-George_meteo_daily.nc,-1.42284,80.6479,\\n'"
      ]
     },
     "execution_count": 11,
     "metadata": {},
     "output_type": "execute_result"
    }
   ],
   "source": [
    "diagnostics2"
   ]
  }
 ],
 "metadata": {
  "kernelspec": {
   "display_name": "Python 3",
   "language": "python",
   "name": "python3"
  },
  "language_info": {
   "codemirror_mode": {
    "name": "ipython",
    "version": 3
   },
   "file_extension": ".py",
   "mimetype": "text/x-python",
   "name": "python",
   "nbconvert_exporter": "python",
   "pygments_lexer": "ipython3",
   "version": "3.6.8"
  }
 },
 "nbformat": 4,
 "nbformat_minor": 1
}
