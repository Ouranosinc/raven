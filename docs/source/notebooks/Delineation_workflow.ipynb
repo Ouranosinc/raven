{
 "cells": [
  {
   "cell_type": "markdown",
   "metadata": {},
   "source": [
    "# Geographical analysis for hydrological modelling\n",
    "\n",
    "This notebook shows how to delineate a catchment and extract properties from a digital elevation model (DEM) and a land-use data set. The processes are hosted on the Raven server, which in the background connects to a GeoServer instance to query watershed contours, DEM and land-use data. \n",
    "\n",
    "We connect to Raven's Web Processing Service interface using birdy's `WPSClient`. "
   ]
  },
  {
   "cell_type": "code",
   "execution_count": 1,
   "metadata": {},
   "outputs": [],
   "source": [
    "from birdy import WPSClient\n",
    "\n",
    "import numpy as np\n",
    "from matplotlib import pyplot as plt\n",
    "from descartes import PolygonPatch\n",
    "\n",
    "url = \"https://pavics.ouranos.ca/twitcher/ows/proxy/raven/wps\"\n",
    "wps = WPSClient(url, progress=True)"
   ]
  },
  {
   "cell_type": "markdown",
   "metadata": {},
   "source": [
    "We first extract the watershed contour for the point of interest. The process looks into the HydroSheds databast to finds the watershed enclosing the given location. The `location` parameter identifies the outlet of the watershed, and `aggregate_upstream` determines whether or not we want the service to return the union of all upstream basins. Here we set it to `False` to reduce the size of the basin and speed-up computations. \n",
    "\n",
    "The output of the `hydrosheds-select` process is a GeoJSON geometry. "
   ]
  },
  {
   "cell_type": "code",
   "execution_count": 2,
   "metadata": {},
   "outputs": [
    {
     "data": {
      "application/vnd.jupyter.widget-view+json": {
       "model_id": "adfe8fff5c534b529f9620a94bbbcf66",
       "version_major": 2,
       "version_minor": 0
      },
      "text/plain": [
       "HBox(children=(IntProgress(value=0, bar_style='info', description='Processing:'), Button(button_style='danger'…"
      ]
     },
     "metadata": {},
     "output_type": "display_data"
    }
   ],
   "source": [
    "# MANIC: lonlat_coordinate=\"(-68.724444, 50.646667)\"\n",
    "# St-Lawrence I guess is \"-75.724444, 44.646667\"?  Returns 770 000 sq.km basin...\n",
    "r_select = wps.hydrobasins_select(location=\"-71.291660, 50.492758\", aggregate_upstream=False)"
    "\n",
    "#r_select = wps.hydrosheds_select(location=\"-68.724444, 50.646667\", aggregate_upstream=True)"
   ]
  },
  {
   "cell_type": "code",
   "execution_count": 3,
   "metadata": {},
   "outputs": [
    {
     "data": {
      "text/plain": [
       "{\"geometry\": {\"coordinates\": [[[[-71.3592, 50.4196], [-71.3621, 50.4226], [-71.3625, 50.425], [-71.3629, 50.4358], [-71.3705, 50.4434], [-71.3712, 50.4566], [-71.3746, 50.4601], [-71.3754, 50.4642], [-71.3712, 50.4684], [-71.3705, 50.4733], [-71.367, 50.4767], [-71.3663, 50.4983], [-71.3629, 50.5017], [-71.3621, 50.5108], [-71.3587, 50.5142], [-71.3583, 50.5208], [-71.3561, 50.5203], [-71.348, 50.5131], [-71.3436, 50.5119], [-71.3382, 50.5078], [-71.3353, 50.5089], [-71.3299, 50.5131], [-71.3257, 50.5114], [-71.3243, 50.5009], [-71.3186, 50.4994], [-71.3146, 50.4963], [-71.3105, 50.4994], [-71.3061, 50.5006], [-71.2927, 50.5131], [-71.2883, 50.5115], [-71.2869, 50.5061], [-71.2839, 50.5022], [-71.2833, 50.4958], [-71.2833, 50.4917], [-71.2875, 50.4917], [-71.298, 50.4911], [-71.302, 50.4881], [-71.3105, 50.4869], [-71.3199, 50.4786], [-71.3214, 50.4728], [-71.3306, 50.4632], [-71.3366, 50.4609], [-71.3491, 50.4533], [-71.3488, 50.4529], [-71.3472, 50.4513], [-71.3461, 50.4439], [-71.3479, 50.4291], [-71.3535, 50.4237], [-71.3592, 50.4196]]]], \"type\": \"MultiPolygon\"}, \"id\": \"96929\", \"properties\": {\"COAST\": 0, \"DIST_MAIN\": 490.9, \"DIST_SINK\": 490.9, \"ENDO\": 0, \"HYBAS_ID\": 7120270182, \"LAKE\": 0, \"MAIN_BAS\": 7120034330, \"NEXT_DOWN\": 7120270181, \"NEXT_SINK\": 7120034330, \"ORDER\": 1, \"PFAF_ID\": 724089370000, \"SIDE\": \"R\", \"SORT\": 96929, \"SUB_AREA\": 29.0, \"UP_AREA\": 9419.6, \"gml_id\": \"USGS_HydroBASINS_lake_na_lev12.96929\"}, \"type\": \"Feature\"}"
      ]
     },
     "execution_count": 3,
     "metadata": {},
     "output_type": "execute_result"
    }
   ],
   "source": [
    "# Get the links to the files on the server\n",
    "[feature_url, upstream_basins_url] = r_select.get(asobj=False)\n",
    "\n",
    "# Get GeoJSON polygon of the delineated catchment.\n",
    "[feature, upstream_basins] = r_select.get(asobj=True)\n",
    "feature"
   ]
  },
  {
   "cell_type": "markdown",
   "metadata": {},
   "source": [
    "We can now plot the outline of the watershed using the `descartes` package and `matplotlib`. "
   ]
  },
  {
   "cell_type": "code",
   "execution_count": 4,
   "metadata": {},
   "outputs": [
    {
     "data": {
      "image/png": "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\n",
      "text/plain": [
       "<Figure size 432x288 with 1 Axes>"
      ]
     },
     "metadata": {
      "needs_background": "light"
     },
     "output_type": "display_data"
    }
   ],
   "source": [
    "BLUE = '#6699cc'\n",
    "fig = plt.figure() \n",
    "ax = fig.gca() \n",
    "ax.add_patch(PolygonPatch(feature['geometry'], fc=BLUE, ec=BLUE, alpha=0.5, zorder=2 ))\n",
    "ax.axis('scaled')\n",
    "plt.show()"
   ]
  },
  {
   "cell_type": "markdown",
   "metadata": {},
   "source": [
    "Now that we have delineated a catchment, lets find the zonal statistics and other properties of the catchment."
   ]
  },
  {
   "cell_type": "code",
   "execution_count": 5,
   "metadata": {},
   "outputs": [
    {
     "data": {
      "application/vnd.jupyter.widget-view+json": {
       "model_id": "1f2f576124fa491997d8616eca6b6e44",
       "version_major": 2,
       "version_minor": 0
      },
      "text/plain": [
       "HBox(children=(IntProgress(value=0, bar_style='info', description='Processing:'), Button(button_style='danger'…"
      ]
     },
     "metadata": {},
     "output_type": "display_data"
    }
   ],
   "source": [
    "# Here we are using the geojson file created on the server in the last step as the input value to a process \n",
    "# computing watershed properties. \n",
    "#crs=4326\n",
    "#projected_crs=32198\n",
    "resp = wps.shape_properties(shape=feature_url)"
   ]
  },
  {
   "cell_type": "markdown",
   "metadata": {},
   "source": [
    "Now, let's extract the data from the WPS service response:"
   ]
  },
  {
   "cell_type": "code",
   "execution_count": 6,
   "metadata": {},
   "outputs": [
    {
     "name": "stdout",
     "output_type": "stream",
     "text": [
      "{'id': '96929', 'gml_id': 'USGS_HydroBASINS_lake_na_lev12.96929', 'HYBAS_ID': 7120270182, 'NEXT_DOWN': 7120270181, 'NEXT_SINK': 7120034330, 'MAIN_BAS': 7120034330, 'DIST_SINK': 490.9, 'DIST_MAIN': 490.9, 'SUB_AREA': 29.0, 'UP_AREA': 9419.6, 'PFAF_ID': 724089370000, 'SIDE': 'R', 'LAKE': 0, 'ENDO': 0, 'COAST': 0, 'ORDER': 1, 'SORT': 96929, 'area': 28764849.46504176, 'centroid': [-71.3409808346398, 50.478880424555875], 'perimeter': 33017.42666655582, 'gravelius': 1.7366297521025682}\n"
     ]
    },
    {
     "data": {
      "text/plain": [
       "{'area': 28.76484946504176,\n",
       " 'longitude': -71.3409808346398,\n",
       " 'latitude': 50.478880424555875,\n",
       " 'gravelius': 1.7366297521025682,\n",
       " 'perimeter': 33017.42666655582}"
      ]
     },
     "execution_count": 6,
     "metadata": {},
     "output_type": "execute_result"
    }
   ],
   "source": [
    "[properties, ]=resp.get(asobj=True)\n",
    "prop = properties[0]\n",
    "print(prop)\n",
    "\n",
    "area = prop['area']/1000000.0\n",
    "longitude = prop['centroid'][0]\n",
    "latitude = prop['centroid'][1]\n",
    "gravelius = prop['gravelius']\n",
    "perimeter = prop['perimeter']\n",
    "\n",
    "shapeProperties = {'area':area, 'longitude':longitude, 'latitude':latitude, 'gravelius':gravelius, 'perimeter':perimeter}\n",
    "shapeProperties"
   ]
  },
  {
   "cell_type": "markdown",
   "metadata": {},
   "source": [
    "Note that these properties are a mix of the properties of the original file where the shape is stored, and properties computed by the process (area, centroid, perimeter and gravelius). Note also that the computed area is in m², while the \"SUB_AREA\" property is in km², and that there are slight differences between the two values. \n",
    "\n",
    "Now we'll extract the land-use properties of the watershed. We pass the link to the watershed outline to a process using in the background the [North American Land Change Monitoring System](http://www.cec.org/tools-and-resources/north-american-environmental-atlas/north-american-land-change-monitoring-system) dataset, and retrieve properties over the region.  "
   ]
  },
  {
   "cell_type": "code",
   "execution_count": 7,
   "metadata": {},
   "outputs": [
    {
     "data": {
      "application/vnd.jupyter.widget-view+json": {
       "model_id": "9946d99cbd654bedaa2b52bc239cf78e",
       "version_major": 2,
       "version_minor": 0
      },
      "text/plain": [
       "HBox(children=(IntProgress(value=0, bar_style='info', description='Processing:'), Button(button_style='danger'…"
      ]
     },
     "metadata": {},
     "output_type": "display_data"
    }
   ],
   "source": [
    "# Use the geoserver to extract the land cover over the appropriate bounding box (automatic)\n",
    "resp = wps.nalcms_zonal_stats(shape=feature_url, select_all_touching=True, band=1, simple_categories=True)"
   ]
  },
  {
   "cell_type": "code",
   "execution_count": 8,
   "metadata": {},
   "outputs": [
    {
     "data": {
      "text/plain": [
       "{'type': 'FeatureCollection',\n",
       " 'features': [{'type': 'Feature',\n",
       "   'id': '0',\n",
       "   'properties': {'id': '96929',\n",
       "    'gml_id': 'USGS_HydroBASINS_lake_na_lev12.96929',\n",
       "    'HYBAS_ID': 7120270182,\n",
       "    'NEXT_DOWN': 7120270181,\n",
       "    'NEXT_SINK': 7120034330,\n",
       "    'MAIN_BAS': 7120034330,\n",
       "    'DIST_SINK': 490.9,\n",
       "    'DIST_MAIN': 490.9,\n",
       "    'SUB_AREA': 29.0,\n",
       "    'UP_AREA': 9419.6,\n",
       "    'PFAF_ID': 724089370000,\n",
       "    'SIDE': 'R',\n",
       "    'LAKE': 0,\n",
       "    'ENDO': 0,\n",
       "    'COAST': 0,\n",
       "    'ORDER': 1,\n",
       "    'SORT': 96929,\n",
       "    'count': 33068,\n",
       "    'nodata': 8.0,\n",
       "    'nan': 0,\n",
       "    'land-use': {'Forest': 19081,\n",
       "     'Shrubs': 10239,\n",
       "     'Grass': 479,\n",
       "     'Wetland': 21,\n",
       "     'Crops': 0,\n",
       "     'Urban': 0,\n",
       "     'Water': 3248,\n",
       "     'SnowIce': 0}},\n",
       "   'geometry': {'type': 'MultiPolygon',\n",
       "    'coordinates': [[[[1981874.096748117, 967399.0911914052],\n",
       "       [1981560.4971648867, 967640.7996158176],\n",
       "       [1981434.9369879127, 967882.7807668581],\n",
       "       [1980961.2637742816, 969007.1294172165],\n",
       "       [1980150.4532387636, 969613.136897321],\n",
       "       [1979557.7882538023, 970982.0066178304],\n",
       "       [1979190.993435453, 971263.6623110471],\n",
       "       [1978968.9179589564, 971674.108712833],\n",
       "       [1979068.7370289837, 972221.4986643237],\n",
       "       [1978911.2766435912, 972753.8972656073],\n",
       "       [1978998.5184324386, 973199.5400577396],\n",
       "       [1978148.5360125287, 975486.0006584836],\n",
       "       [1978229.0726735129, 975929.0688304713],\n",
       "       [1977903.7424964204, 976905.0670857691],\n",
       "       [1977984.1732537195, 977348.1154956503],\n",
       "       [1977736.39888101, 978051.40082158],\n",
       "       [1977900.4252855848, 978054.5035027583],\n",
       "       [1978726.7671066807, 977503.1475924414],\n",
       "       [1979063.162155457, 977488.4102143587],\n",
       "       [1979585.086480826, 977194.4381107079],\n",
       "       [1979728.31449522, 977383.3356572706],\n",
       "       [1979905.6264661902, 977961.0506469918],\n",
       "       [1980249.760065988, 977888.8221596053],\n",
       "       [1980777.0205245588, 976821.6140084906],\n",
       "       [1981210.6254241262, 976808.4123675763],\n",
       "       [1981599.9652658133, 976584.1723129161],\n",
       "       [1981738.2557495865, 977013.5474293529],\n",
       "       [1981974.993178329, 977251.010851383],\n",
       "       [1982328.0510653253, 978903.0377999832],\n",
       "       [1982681.0729708741, 978846.538718968],\n",
       "       [1982996.7907913027, 978315.0344648779],\n",
       "       [1983354.3364343601, 977981.5895128745],\n",
       "       [1983659.5600711212, 977324.8163370308],\n",
       "       [1983830.0521372445, 976894.3229222285],\n",
       "       [1983556.471153514, 976787.8376635303],\n",
       "       [1982897.423789108, 976458.6876778962],\n",
       "       [1982761.5084731434, 976042.3007405908],\n",
       "       [1982257.5670965123, 975700.9204296736],\n",
       "       [1981989.7596723628, 974591.1839045994],\n",
       "       [1982132.8261994827, 973944.0859803229],\n",
       "       [1981931.5999756719, 972702.8546073242],\n",
       "       [1981635.8450955295, 972309.3457865227],\n",
       "       [1981135.976983787, 971194.6244946554],\n",
       "       [1981172.1313644364, 971160.2056112073],\n",
       "       [1981342.8394163426, 971032.6586613981],\n",
       "       [1981721.483719015, 970283.2595854887],\n",
       "       [1982217.756235964, 968683.1417384447],\n",
       "       [1982076.182758441, 967974.1057193918],\n",
       "       [1981874.096748117, 967399.0911914052]]]]}}]}"
      ]
     },
     "execution_count": 8,
     "metadata": {},
     "output_type": "execute_result"
    }
   ],
   "source": [
    "(statistics, ) = resp.get(asobj=True)\n",
    "statistics"
   ]
  },
  {
   "cell_type": "markdown",
   "metadata": {},
   "source": [
    "We now have the statistics from the NALCMS zonal_stats toolbox regarding the land use, from which we calculate the ratio of each land-use component."
   ]
  },
  {
   "cell_type": "code",
   "execution_count": 9,
   "metadata": {},
   "outputs": [
    {
     "data": {
      "text/plain": [
       "{'Forest': 0.5770231039071005,\n",
       " 'Shrubs': 0.3096346921495101,\n",
       " 'Grass': 0.014485303011975323,\n",
       " 'Wetland': 0.0006350550381033022,\n",
       " 'Crops': 0.0,\n",
       " 'Urban': 0.0,\n",
       " 'Water': 0.09822184589331075,\n",
       " 'SnowIce': 0.0}"
      ]
     },
     "execution_count": 9,
     "metadata": {},
     "output_type": "execute_result"
    }
   ],
   "source": [
    "lu = statistics['features'][0]['properties']['land-use']\n",
    "total = sum(lu.values())\n",
    "\n",
    "landUse = {k: v / total for (k,v) in lu.items()}\n",
    "landUse"
   ]
  },
  {
   "cell_type": "markdown",
   "metadata": {},
   "source": [
    "The next step will be to collect terrain data, such as elevation, slope and aspect. We will do this using the Terrain_Analysis WPS service:"
   ]
  },
  {
   "cell_type": "code",
   "execution_count": 10,
   "metadata": {},
   "outputs": [
    {
     "data": {
      "application/vnd.jupyter.widget-view+json": {
       "model_id": "1a594785a65b4cf3a268e3a47fac21fd",
       "version_major": 2,
       "version_minor": 0
      },
      "text/plain": [
       "HBox(children=(IntProgress(value=0, bar_style='info', description='Processing:'), Button(button_style='danger'…"
      ]
     },
     "metadata": {},
     "output_type": "display_data"
    }
   ],
   "source": [
    "resp=wps.terrain_analysis(shape=feature_url, select_all_touching=True, projected_crs=3978)"
   ]
  },
  {
   "cell_type": "markdown",
   "metadata": {},
   "source": [
    "Now let's extract the properties from the WPS response. Use asobj=True to have Birdy preprocess the data and return the data directly."
   ]
  },
  {
   "cell_type": "code",
   "execution_count": 11,
   "metadata": {},
   "outputs": [],
   "source": [
    "[properties, dem]=resp.get(asobj=True)\n",
    "\n",
    "elevation=properties[0]['elevation']\n",
    "slope=properties[0]['slope']\n",
    "aspect=properties[0]['aspect']\n",
    "\n",
    "terrain_data={'elevation':elevation, 'slope':slope,'aspect':aspect}"
   ]
  },
  {
   "cell_type": "markdown",
   "metadata": {},
   "source": [
    "Finally, display all the extracted parameters for the user:"
   ]
  },
  {
   "cell_type": "code",
   "execution_count": 12,
   "metadata": {},
   "outputs": [
    {
     "name": "stdout",
     "output_type": "stream",
     "text": [
      "{'area': 28.76484946504176, 'longitude': -71.3409808346398, 'latitude': 50.478880424555875, 'gravelius': 1.7366297521025682, 'perimeter': 33017.42666655582, 'Forest': 0.5770231039071005, 'Shrubs': 0.3096346921495101, 'Grass': 0.014485303011975323, 'Wetland': 0.0006350550381033022, 'Crops': 0.0, 'Urban': 0.0, 'Water': 0.09822184589331075, 'SnowIce': 0.0, 'elevation': 490.04395604395603, 'slope': 3.9660612485567572, 'aspect': 116.79663053081183}\n"
     ]
    }
   ],
   "source": [
    "all_properties={**shapeProperties, **landUse, **terrain_data}\n",
    "print(all_properties)"
   ]
  },
  {
   "cell_type": "code",
   "execution_count": 13,
   "metadata": {},
   "outputs": [
    {
     "data": {
      "image/png": "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\n",
      "text/plain": [
       "<Figure size 432x288 with 2 Axes>"
      ]
     },
     "metadata": {
      "needs_background": "light"
     },
     "output_type": "display_data"
    }
   ],
   "source": [
    "import cartopy.crs as ccrs\n",
    "import rasterio\n",
    "from rasterio.plot import show\n",
    "import xarray as xr\n",
    "from rasterio.io import MemoryFile\n",
    "\n",
    "with MemoryFile(dem) as mem:\n",
    "    with mem.open(driver='gtiff') as src:\n",
    "        crs = ccrs.epsg(src.crs.to_epsg())\n",
    "        da = xr.open_rasterio(src)\n",
    "        da.name = 'Elevation'\n",
    "        da.attrs['units'] = 'm'\n",
    "        ax = plt.subplot(projection=crs)\n",
    "        da.where(da!=-32768).sel(band=1).plot.imshow(ax=ax, transform=crs)\n",
    "        plt.show()"
   ]
  }
 ],
 "metadata": {
  "kernelspec": {
   "display_name": "Python 3",
   "language": "python",
   "name": "python3"
  },
  "language_info": {
   "codemirror_mode": {
    "name": "ipython",
    "version": 3
   },
   "file_extension": ".py",
   "mimetype": "text/x-python",
   "name": "python",
   "nbconvert_exporter": "python",
   "pygments_lexer": "ipython3",
   "version": "3.6.8"
  }
 },
 "nbformat": 4,
 "nbformat_minor": 1
}
