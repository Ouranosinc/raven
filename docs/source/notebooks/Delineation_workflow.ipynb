{
 "cells": [
  {
   "cell_type": "markdown",
   "metadata": {},
   "source": [
    "# Geographical analysis for hydrological modelling\n",
    "\n",
    "This notebook shows how to delineate a catchment and extract properties from a digital elevation model (DEM) and a land-use data set. The processes are hosted on the Raven server, which in the background connects to a GeoServer instance to query watershed contours, DEM and land-use data. \n",
    "\n",
    "We connect to Raven's Web Processing Service interface using birdy's `WPSClient`. "
   ]
  },
  {
   "cell_type": "code",
   "execution_count": null,
   "metadata": {},
   "outputs": [],
   "source": [
    "# Cookie-cutter template required to connect to the PAVICS-Hydro Raven WPS server\n",
    "\n",
    "from birdy import WPSClient\n",
    "import numpy as np\n",
    "import matplotlib.pyplot as plt\n",
    "import geopandas as gpd\n",
    "import json\n",
    "import os\n",
    "\n",
    "# Set environment variable RAVEN_WPS_URL to \"http://localhost:9099\" to run on the default local server\n",
    "# url = os.environ.get(\"RAVEN_WPS_URL\", \"https://pavics.ouranos.ca/twitcher/ows/proxy/raven/wps\")\n",
    "url = os.environ.get(\"RAVEN_WPS_URL\", \"http://localhost:9099\")\n",
    "\n",
    "wps = WPSClient(url)"
   ]
  },
  {
   "cell_type": "markdown",
   "metadata": {},
   "source": [
    "We first extract the watershed contour for the point of interest. The process looks into the HydroSheds databast to finds the watershed enclosing the given location. The `location` parameter identifies the outlet of the watershed, and `aggregate_upstream` determines whether or not we want the service to return the union of all upstream basins. Here we set it to `False` to reduce the size of the basin and speed-up computations. \n",
    "\n",
    "The output of the `hydrosheds-select` process is a GeoJSON geometry. "
   ]
  },
  {
   "cell_type": "code",
   "execution_count": null,
   "metadata": {},
   "outputs": [],
   "source": [
    "r_select = wps.hydrobasins_select(location=\"-71.291660, 50.492758\", aggregate_upstream=False)"
   ]
  },
  {
   "cell_type": "code",
   "execution_count": null,
   "metadata": {},
   "outputs": [],
   "source": [
    "# Get GeoJSON polygon of the delineated catchment.\n",
    "# We can either get links to the files stored on the server, or get the data directly. \n",
    "[feature_url, upstream_basins_url] = r_select.get(asobj=False)\n",
    "[feature, upstream_basins] = r_select.get(asobj=True)"
   ]
  },
  {
   "cell_type": "markdown",
   "metadata": {},
   "source": [
    "We can now plot the outline of the watershed by loading it into `GeoPandas`. "
   ]
  },
  {
   "cell_type": "code",
   "execution_count": null,
   "metadata": {},
   "outputs": [],
   "source": [
    "# df = gpd.read_file(feature_url)\n",
    "df = gpd.GeoDataFrame.from_features([feature])\n",
    "df.plot()"
   ]
  },
  {
   "cell_type": "markdown",
   "metadata": {},
   "source": [
    "Now that we have delineated a catchment, lets find the zonal statistics and other properties of the catchment. We can pass the catchment outline either as a link to a file (e.g. `feature_url`), or pass the data directly as a string. "
   ]
  },
  {
   "cell_type": "code",
   "execution_count": null,
   "metadata": {},
   "outputs": [],
   "source": [
    "# Here we are using the geojson file created on the server in the last step as the input value to a process \n",
    "# computing watershed properties. \n",
    "#crs=4326\n",
    "#projected_crs=32198\n",
    "resp = wps.shape_properties(shape=json.dumps(feature))"
   ]
  },
  {
   "cell_type": "markdown",
   "metadata": {},
   "source": [
    "Now, let's extract the data from the WPS service response:"
   ]
  },
  {
   "cell_type": "code",
   "execution_count": null,
   "metadata": {},
   "outputs": [],
   "source": [
    "[properties, ]=resp.get(asobj=True)\n",
    "prop = properties[0]\n",
    "print(prop)\n",
    "\n",
    "area = prop['area']/1000000.0\n",
    "longitude = prop['centroid'][0]\n",
    "latitude = prop['centroid'][1]\n",
    "gravelius = prop['gravelius']\n",
    "perimeter = prop['perimeter']\n",
    "\n",
    "shapeProperties = {'area':area, 'longitude':longitude, 'latitude':latitude, 'gravelius':gravelius, 'perimeter':perimeter}\n",
    "shapeProperties"
   ]
  },
  {
   "cell_type": "markdown",
   "metadata": {},
   "source": [
    "Note that these properties are a mix of the properties of the original file where the shape is stored, and properties computed by the process (area, centroid, perimeter and gravelius). Note also that the computed area is in m², while the \"SUB_AREA\" property is in km², and that there are slight differences between the two values. \n",
    "\n",
    "Now we'll extract the land-use properties of the watershed. We pass the link to the watershed outline to a process using in the background the [North American Land Change Monitoring System](http://www.cec.org/tools-and-resources/north-american-environmental-atlas/north-american-land-change-monitoring-system) dataset, and retrieve properties over the region.  "
   ]
  },
  {
   "cell_type": "code",
   "execution_count": null,
   "metadata": {},
   "outputs": [],
   "source": [
    "# Use the geoserver to extract the land cover over the appropriate bounding box (automatic)\n",
    "resp = wps.nalcms_zonal_stats(shape=feature_url, select_all_touching=True, band=1, simple_categories=True)"
   ]
  },
  {
   "cell_type": "code",
   "execution_count": null,
   "metadata": {},
   "outputs": [],
   "source": [
    "# Note that geojson needs to be installed for this to work. \n",
    "# $ pip install -r requirements_extra.txt\n",
    "features, statistics  = resp.get(asobj=True)\n",
    "print(features[0]['properties'], '\\n\\n')\n",
    "print(statistics)"
   ]
  },
  {
   "cell_type": "markdown",
   "metadata": {},
   "source": [
    "We now have the statistics from the NALCMS zonal_stats toolbox regarding the land use, from which we calculate the ratio of each land-use component."
   ]
  },
  {
   "cell_type": "code",
   "execution_count": null,
   "metadata": {},
   "outputs": [],
   "source": [
    "# total = sum(lu.values())\n",
    "lu = statistics[0]\n",
    "total = sum(lu.values())\n",
    "\n",
    "landUse = {k: (v / total) for (k,v) in lu.items()}\n",
    "landUse"
   ]
  },
  {
   "cell_type": "markdown",
   "metadata": {},
   "source": [
    "The next step will be to collect terrain data, such as elevation, slope and aspect. We will do this using the `terrain_analysis` WPS service:"
   ]
  },
  {
   "cell_type": "code",
   "execution_count": null,
   "metadata": {},
   "outputs": [],
   "source": [
    "resp = wps.terrain_analysis(shape=feature_url, select_all_touching=True, projected_crs=3978)"
   ]
  },
  {
   "cell_type": "markdown",
   "metadata": {},
   "source": [
    "Now let's extract the properties from the WPS response. Use `asobj=True` to have Birdy preprocess the data and return the data directly."
   ]
  },
  {
   "cell_type": "code",
   "execution_count": null,
   "metadata": {},
   "outputs": [],
   "source": [
    "properties, dem = resp.get(asobj=True)\n",
    "\n",
    "elevation=properties[0]['elevation']\n",
    "slope=properties[0]['slope']\n",
    "aspect=properties[0]['aspect']\n",
    "\n",
    "terrain_data={'elevation':elevation, 'slope':slope,'aspect':aspect}"
   ]
  },
  {
   "cell_type": "markdown",
   "metadata": {},
   "source": [
    "Finally, display all the extracted parameters for the user:"
   ]
  },
  {
   "cell_type": "code",
   "execution_count": null,
   "metadata": {},
   "outputs": [],
   "source": [
    "all_properties={**shapeProperties, **landUse, **terrain_data}\n",
    "print(all_properties)"
   ]
  },
  {
   "cell_type": "markdown",
   "metadata": {},
   "source": [
    "Note here that while the feature outline is defined above in terms of geographic coordinates (latitude, longitude), the DEM is projected onto a 2D cartesion coordinate system (here NAD83, the Canada Atlas Lambert projection). This is necessary to perform slope calculations. \n",
    "\n",
    "For more information on this, see: https://en.wikipedia.org/wiki/Map_projection"
   ]
  },
  {
   "cell_type": "code",
   "execution_count": null,
   "metadata": {},
   "outputs": [],
   "source": [
    "# NBVAL_SKIP\n",
    "import cartopy.crs as ccrs\n",
    "import rasterio\n",
    "from rasterio.plot import show\n",
    "import xarray as xr\n",
    "import rasterio\n",
    "from rasterio.io import MemoryFile\n",
    "\n",
    "with MemoryFile(dem) as mem:\n",
    "    with mem.open(driver='gtiff') as src:\n",
    "        crs = ccrs.LambertConformal(central_latitude=49, central_longitude=-95, standard_parallels=(49, 77))\n",
    "        da = xr.open_rasterio(src)\n",
    "        da.name = 'Elevation'\n",
    "        da.attrs['units'] = 'm'\n",
    "        ax = plt.subplot(projection=crs)\n",
    "        da.where(da!=-32768).sel(band=1).plot.imshow(ax=ax, transform=crs)\n",
    "        plt.show()"
   ]
  },
  {
   "cell_type": "code",
   "execution_count": null,
   "metadata": {},
   "outputs": [],
   "source": []
  }
 ],
 "metadata": {
  "kernelspec": {
   "display_name": "Python 3",
   "language": "python",
   "name": "python3"
  },
  "language_info": {
   "codemirror_mode": {
    "name": "ipython",
    "version": 3
   },
   "file_extension": ".py",
   "mimetype": "text/x-python",
   "name": "python",
   "nbconvert_exporter": "python",
   "pygments_lexer": "ipython3",
   "version": "3.6.10"
  }
 },
 "nbformat": 4,
 "nbformat_minor": 1
}
