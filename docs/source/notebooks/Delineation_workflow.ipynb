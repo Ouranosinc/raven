{
 "cells": [
  {
   "cell_type": "markdown",
   "metadata": {},
   "source": [
    "# Complete workflow to get info from GIS tools for hydrological modelling\n",
    "\n",
    "Here we use birdy's WPS client to perform a catchment delineation, use the delineation to extract physical properties and prepare data for hydrological modelling, all using the Raven server."
   ]
  },
  {
   "cell_type": "code",
   "execution_count": 9,
   "metadata": {},
   "outputs": [],
   "source": [
    "from birdy import WPSClient\n",
    "\n",
    "from example_data import TESTDATA\n",
    "import datetime as dt\n",
    "from urllib.request import urlretrieve\n",
    "import xarray as xr\n",
    "import numpy as np\n",
    "from matplotlib import pyplot as plt\n",
    "\n",
    "url = \"http://localhost:9099/wps\"\n",
    "wps = WPSClient(url)"
   ]
  },
  {
   "cell_type": "code",
   "execution_count": 71,
   "metadata": {},
   "outputs": [],
   "source": [
    "# The parameters to define the outlet coordinates. \n",
    "# MANIC: lonlat_coordinate=\"(-68.724444, 50.646667)\"\n",
    "lonlat_coordinate=\"(-75.724444, 44.646667)\"\n",
    "level=\"12\"\n",
    "lakes=False\n",
    "collect_upstream=False\n",
    "\n",
    "# Let's call the model\n",
    "resp = wps.shape_selection(lonlat_coordinate=lonlat_coordinate,level=level,lakes=lakes, collect_upstream=collect_upstream)\n"
   ]
  },
  {
   "cell_type": "code",
   "execution_count": 73,
   "metadata": {},
   "outputs": [
    {
     "name": "stdout",
     "output_type": "stream",
     "text": [
      "http://localhost:9099/outputs/bf8f09fe-5031-11e9-a59a-b8ca3a8f5177/input.json\n"
     ]
    }
   ],
   "source": [
    "# Get JSON Polygons of the delineated catchment\n",
    "[geojson_file,upstream_basins]=resp.get(asobj=False)\n",
    "dir(geojson_file)\n",
    "print(geojson_file)"
   ]
  },
  {
   "cell_type": "markdown",
   "metadata": {},
   "source": [
    "Now that we have delineated a catchment, lets find the zonal statistics and other properties of the catchment.\n",
    "\n",
    "### Here I have to copy the file in the link returned just above from print(geojson_file) because I can't seem to get the actual json_file. Option \"asobj=True\" fails.\n"
   ]
  },
  {
   "cell_type": "code",
   "execution_count": 76,
   "metadata": {},
   "outputs": [
    {
     "name": "stdout",
     "output_type": "stream",
     "text": [
      "{\"coordinates\": [[[-75.80050734964804, 44.487062560222626], [-75.79938235812715, 44.50463595920141], [-75.80361005995006, 44.51042310926652], [-75.79645097520614, 44.51867302788631], [-75.79503919813365, 44.528372531467035], [-75.78533986409502, 44.52978413899742], [-75.77610643174911, 44.53779669867624], [-75.77438235812714, 44.54382697211374], [-75.76728430853947, 44.55200636121964], [-75.76604902479382, 44.55632697211374], [-75.75895097520613, 44.56450636121964], [-75.75771569146048, 44.56882697211374], [-75.74228430853947, 44.58533969455298], [-75.74104902479381, 44.58966030544707], [-75.7381176418728, 44.59367302788631], [-75.73688235812715, 44.59799363878041], [-75.7338948567708, 44.602083333333354], [-75.73688235812715, 44.60617302788631], [-75.7381176418728, 44.610493638780405], [-75.74104902479381, 44.61450636121964], [-75.74228430853947, 44.61882697211374], [-75.74938235812715, 44.62700636121964], [-75.75061764187281, 44.6354936387804], [-75.75354902479381, 44.639506361219645], [-75.75478430853947, 44.66049363878041], [-75.75771569146048, 44.664506361219644], [-75.75833333333331, 44.66666666666669], [-75.75195617675779, 44.66723395453562], [-75.74804382324217, 44.67026604546443], [-75.74251759847003, 44.67168409559464], [-75.74081573486326, 44.67831590440541], [-75.73418426513669, 44.680017428927975], [-75.7333333333333, 44.68333333333336], [-75.7208333333333, 44.68333333333336], [-75.71732788085936, 44.682433742947076], [-75.71601070827906, 44.66762661404082], [-75.71054382324216, 44.66306728786895], [-75.70612284342445, 44.6619327121311], [-75.69804382324216, 44.654733954535615], [-75.67695617675778, 44.653599378797765], [-75.67291666666664, 44.650468614366346], [-75.66887715657549, 44.653599378797765], [-75.66249999999998, 44.65416666666669], [-75.65776604546438, 44.65295172797312], [-75.65890062120224, 44.6436228434245], [-75.66193271213105, 44.63971048990888], [-75.6630672878689, 44.62695617675784], [-75.66609937879772, 44.62304382324221], [-75.66723395453556, 44.6061228434245], [-75.67859937879771, 44.593877156575545], [-75.67973395453556, 44.589456176757835], [-75.68276604546439, 44.58554382324221], [-75.68333333333331, 44.57916666666669], [-75.68333333333331, 44.575000000000024], [-75.68575778537324, 44.574646674262176], [-75.68924221462672, 44.5711866590712], [-75.69409111870657, 44.570480007595506], [-75.70590888129338, 44.558686659071206], [-75.71075778537323, 44.55798000759551], [-75.72257554796005, 44.5461866590712], [-75.72742445203991, 44.54548000759551], [-75.73924221462671, 44.5336866590712], [-75.74409111870658, 44.53298000759551], [-75.79470096684538, 44.48239099359107], [-75.80050734964804, 44.487062560222626]]], \"type\": \"Polygon\"}\n"
     ]
    }
   ],
   "source": [
    "import geojson\n",
    "\n",
    "with open(\"/tmp/tmp8yh_8sx2.json\") as json_file:\n",
    "    json_data = geojson.load(json_file)\n",
    "\n",
    "poly = json_data['geometry']\n",
    "print(poly)"
   ]
  },
  {
   "cell_type": "markdown",
   "metadata": {},
   "source": [
    "## Here I try to plot the GeoJSON File. Manic does not work, it returns the lake only, not the catchment."
   ]
  },
  {
   "cell_type": "code",
   "execution_count": 77,
   "metadata": {},
   "outputs": [
    {
     "data": {
      "image/png": "[encoded data removed]",
      "text/plain": [
       "<Figure size 432x288 with 1 Axes>"
      ]
     },
     "metadata": {
      "needs_background": "light"
     },
     "output_type": "display_data"
    }
   ],
   "source": [
    "from descartes import PolygonPatch\n",
    "import matplotlib.pyplot as plt \n",
    "\n",
    "BLUE = '#6699cc'\n",
    "fig = plt.figure() \n",
    "ax = fig.gca() \n",
    "ax.add_patch(PolygonPatch(poly, fc=BLUE, ec=BLUE, alpha=0.5, zorder=2 ))\n",
    "ax.axis('scaled')\n",
    "plt.show()\n"
   ]
  },
  {
   "cell_type": "code",
   "execution_count": 89,
   "metadata": {},
   "outputs": [],
   "source": [
    "#############\n",
    "# NEED TO PASS THE EXTRACTED JSON AUTOMATICALLY\n",
    "#############\n",
    "shape = TESTDATA['watershed_vector'] # HERE, instead of this default\n",
    "\n",
    "crs=4326\n",
    "projected_crs=32198\n",
    "\n",
    "resp=wps.shape_properties(shape=str(shape))\n",
    "\n",
    "[properties]=resp.get(asobj=True)"
   ]
  },
  {
   "cell_type": "code",
   "execution_count": 90,
   "metadata": {},
   "outputs": [
    {
     "name": "stdout",
     "output_type": "stream",
     "text": [
      "[{'id': '0', 'SUPERFICIE': 2489.88211, 'NOM': 'Rivière aux Rats', 'ARRONDIE': 2490.0, 'area': 44877188052.9685, 'centroid': [-72.69128332186322, 49.50119363123194], 'perimeter': 1861151.6997088182, 'gravelius': 2.4783578987646804}]\n"
     ]
    }
   ],
   "source": [
    "print(properties)"
   ]
  },
  {
   "cell_type": "markdown",
   "metadata": {},
   "source": [
    "# Properties seem off: SUPERFICIE does not seem to coincide with \"area\". Which is right?"
   ]
  },
  {
   "cell_type": "markdown",
   "metadata": {},
   "source": [
    "## Now, Let's extract Zonal Stats. Again, can't use the asobj=true, so we use False and then I am stuck with the  problem that the results are behind a link I can't seem to access."
   ]
  },
  {
   "cell_type": "code",
   "execution_count": 95,
   "metadata": {},
   "outputs": [],
   "source": [
    "select_all_touching = True\n",
    "return_geojson=False\n",
    "categorical=False\n",
    "band=1\n",
    "shape=TESTDATA['watershed_vector']\n",
    "raster=TESTDATA['earthenv_dem_90m']\n",
    "\n",
    "resp=wps.zonal_stats(select_all_touching=select_all_touching,return_geojson=return_geojson,categorical=categorical, band=band, raster=str(raster), shape=str(shape))\n",
    "\n",
    "statistics=resp.get(asobj=False)"
   ]
  },
  {
   "cell_type": "code",
   "execution_count": 99,
   "metadata": {},
   "outputs": [
    {
     "name": "stdout",
     "output_type": "stream",
     "text": [
      "http://localhost:9099/outputs/8e6efd40-5034-11e9-9c84-b8ca3a8f5177/input.json\n"
     ]
    }
   ],
   "source": [
    "print(statistics[0])"
   ]
  },
  {
   "cell_type": "markdown",
   "metadata": {},
   "source": [
    "# NEED TO ADD LAND COVER AND SLOPE EXTRACTIONS, BUT THIS IS A GOOD START!"
   ]
  },
  {
   "cell_type": "code",
   "execution_count": null,
   "metadata": {},
   "outputs": [],
   "source": []
  }
 ],
 "metadata": {
  "kernelspec": {
   "display_name": "Python 3",
   "language": "python",
   "name": "python3"
  },
  "language_info": {
   "codemirror_mode": {
    "name": "ipython",
    "version": 3
   },
   "file_extension": ".py",
   "mimetype": "text/x-python",
   "name": "python",
   "nbconvert_exporter": "python",
   "pygments_lexer": "ipython3",
   "version": "3.7.1"
  }
 },
 "nbformat": 4,
 "nbformat_minor": 1
}
