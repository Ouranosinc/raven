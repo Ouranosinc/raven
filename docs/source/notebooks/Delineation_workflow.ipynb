{
 "cells": [
  {
   "cell_type": "markdown",
   "metadata": {},
   "source": [
    "# Geographical analysis for hydrological modelling\n",
    "\n",
    "This notebook shows how to delineate a catchment and extract properties from a digital elevation model (DEM) and a land-use data set. The processes are hosted on the Raven server, which in the background connects to a GeoServer instance to query watershed contours, DEM and land-use data. \n",
    "\n",
    "We connect to Raven's Web Processing Service interface using birdy's `WPSClient`. "
   ]
  },
  {
   "cell_type": "code",
   "execution_count": 29,
   "metadata": {},
   "outputs": [],
   "source": [
    "from birdy import WPSClient\n",
    "\n",
    "import numpy as np\n",
    "from matplotlib import pyplot as plt\n",
    "from descartes import PolygonPatch\n",
    "\n",
    "url = \"http://localhost:9099/wps\"\n",
    "wps = WPSClient(url, progress=True)"
   ]
  },
  {
   "cell_type": "markdown",
   "metadata": {},
   "source": [
    "We first extract the watershed contour for the point of interest. The process looks into the HydroSheds databast to finds the watershed enclosing the given location. The `location` parameter identifies the outlet of the watershed, and `aggregate_upstream` determines whether or not we want the service to return the union of all upstream basins. Here we set it to `False` to reduce the size of the basin and speed-up computations. \n",
    "\n",
    "The output of the `hydrosheds-select` process is a GeoJSON geometry. "
   ]
  },
  {
   "cell_type": "code",
   "execution_count": 45,
   "metadata": {},
   "outputs": [
    {
     "data": {
      "application/vnd.jupyter.widget-view+json": {
       "model_id": "adfe8fff5c534b529f9620a94bbbcf66",
       "version_major": 2,
       "version_minor": 0
      },
      "text/plain": [
       "HBox(children=(IntProgress(value=0, bar_style='info', description='Processing:'), Button(button_style='danger'…"
      ]
     },
     "metadata": {},
     "output_type": "display_data"
    }
   ],
   "source": [
    "# MANIC: lonlat_coordinate=\"(-68.724444, 50.646667)\"\n",
    "# St-Lawrence I guess is \"-75.724444, 44.646667\"?  Returns 770 000 sq.km basin...\n",
    "r_select = wps.hydrobasins_select(location=\"-71.291660, 50.492758\", aggregate_upstream=False)"
    "\n",
    "#r_select = wps.hydrosheds_select(location=\"-68.724444, 50.646667\", aggregate_upstream=True)"
   ]
  },
  {
   "cell_type": "code",
   "execution_count": 46,
   "metadata": {},
   "outputs": [
    {
     "data": {
      "text/plain": [
       "{\"geometry\": {\"coordinates\": [[[[-71.3592, 50.4196], [-71.3621, 50.4226], [-71.3625, 50.425], [-71.3629, 50.4358], [-71.3705, 50.4434], [-71.3712, 50.4566], [-71.3746, 50.4601], [-71.3754, 50.4642], [-71.3712, 50.4684], [-71.3705, 50.4733], [-71.367, 50.4767], [-71.3663, 50.4983], [-71.3629, 50.5017], [-71.3621, 50.5108], [-71.3587, 50.5142], [-71.3583, 50.5208], [-71.3561, 50.5203], [-71.348, 50.5131], [-71.3436, 50.5119], [-71.3382, 50.5078], [-71.3353, 50.5089], [-71.3299, 50.5131], [-71.3257, 50.5114], [-71.3243, 50.5009], [-71.3186, 50.4994], [-71.3146, 50.4963], [-71.3105, 50.4994], [-71.3061, 50.5006], [-71.2927, 50.5131], [-71.2883, 50.5115], [-71.2869, 50.5061], [-71.2839, 50.5022], [-71.2833, 50.4958], [-71.2833, 50.4917], [-71.2875, 50.4917], [-71.298, 50.4911], [-71.302, 50.4881], [-71.3105, 50.4869], [-71.3199, 50.4786], [-71.3214, 50.4728], [-71.3306, 50.4632], [-71.3366, 50.4609], [-71.3491, 50.4533], [-71.3488, 50.4529], [-71.3472, 50.4513], [-71.3461, 50.4439], [-71.3479, 50.4291], [-71.3535, 50.4237], [-71.3592, 50.4196]]]], \"type\": \"MultiPolygon\"}, \"id\": \"96929\", \"properties\": {\"COAST\": 0, \"DIST_MAIN\": 490.9, \"DIST_SINK\": 490.9, \"ENDO\": 0, \"HYBAS_ID\": 7120270182, \"LAKE\": 0, \"MAIN_BAS\": 7120034330, \"NEXT_DOWN\": 7120270181, \"NEXT_SINK\": 7120034330, \"ORDER\": 1, \"PFAF_ID\": 724089370000, \"SIDE\": \"R\", \"SORT\": 96929, \"SUB_AREA\": 29.0, \"UP_AREA\": 9419.6, \"gml_id\": \"USGS_HydroBASINS_lake_na_lev12.96929\"}, \"type\": \"Feature\"}"
      ]
     },
     "execution_count": 46,
     "metadata": {},
     "output_type": "execute_result"
    }
   ],
   "source": [
    "# Get the links to the files on the server\n",
    "[feature_url, upstream_basins_url] = r_select.get(asobj=False)\n",
    "\n",
    "# Get GeoJSON polygon of the delineated catchment.\n",
    "[feature, upstream_basins] = r_select.get(asobj=True)\n",
    "feature"
   ]
  },
  {
   "cell_type": "markdown",
   "metadata": {},
   "source": [
    "We can now plot the outline of the watershed using the `descartes` package and `matplotlib`. "
   ]
  },
  {
   "cell_type": "code",
   "execution_count": 47,
   "metadata": {},
   "outputs": [
    {
     "data": {
      "image/png": "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\n",
      "text/plain": [
       "<Figure size 432x288 with 1 Axes>"
      ]
     },
     "metadata": {
      "needs_background": "light"
     },
     "output_type": "display_data"
    }
   ],
   "source": [
    "BLUE = '#6699cc'\n",
    "fig = plt.figure() \n",
    "ax = fig.gca() \n",
    "ax.add_patch(PolygonPatch(feature['geometry'], fc=BLUE, ec=BLUE, alpha=0.5, zorder=2 ))\n",
    "ax.axis('scaled')\n",
    "plt.show()"
   ]
  },
  {
   "cell_type": "markdown",
   "metadata": {},
   "source": [
    "Now that we have delineated a catchment, lets find the zonal statistics and other properties of the catchment."
   ]
  },
  {
   "cell_type": "code",
   "execution_count": 48,
   "metadata": {},
   "outputs": [
    {
     "data": {
      "application/vnd.jupyter.widget-view+json": {
       "model_id": "1f2f576124fa491997d8616eca6b6e44",
       "version_major": 2,
       "version_minor": 0
      },
      "text/plain": [
       "HBox(children=(IntProgress(value=0, bar_style='info', description='Processing:'), Button(button_style='danger'…"
      ]
     },
     "metadata": {},
     "output_type": "display_data"
    }
   ],
   "source": [
    "# Here we are using the geojson file created on the server in the last step as the input value to a process \n",
    "# computing watershed properties. \n",
    "#crs=4326\n",
    "#projected_crs=32198\n",
    "resp = wps.shape_properties(shape=feature_url)"
   ]
  },
  {
   "cell_type": "markdown",
   "metadata": {},
   "source": [
    "Now, let's extract the data from the WPS service response:"
   ]
  },
  {
   "cell_type": "code",
   "execution_count": 49,
   "metadata": {},
   "outputs": [
    {
     "name": "stdout",
     "output_type": "stream",
     "text": [
      "{'id': '96929', 'gml_id': 'USGS_HydroBASINS_lake_na_lev12.96929', 'HYBAS_ID': 7120270182, 'NEXT_DOWN': 7120270181, 'NEXT_SINK': 7120034330, 'MAIN_BAS': 7120034330, 'DIST_SINK': 490.9, 'DIST_MAIN': 490.9, 'SUB_AREA': 29.0, 'UP_AREA': 9419.6, 'PFAF_ID': 724089370000, 'SIDE': 'R', 'LAKE': 0, 'ENDO': 0, 'COAST': 0, 'ORDER': 1, 'SORT': 96929, 'area': 28764849.46504176, 'centroid': [-71.3409808346398, 50.478880424555875], 'perimeter': 33017.42666655582, 'gravelius': 1.7366297521025682}\n"
     ]
    },
    {
     "data": {
      "text/plain": [
       "{'area': 28.76484946504176,\n",
       " 'longitude': -71.3409808346398,\n",
       " 'latitude': 50.478880424555875,\n",
       " 'gravelius': 1.7366297521025682,\n",
       " 'perimeter': 33017.42666655582}"
      ]
     },
     "execution_count": 49,
     "metadata": {},
     "output_type": "execute_result"
    }
   ],
   "source": [
    "[properties, ]=resp.get(asobj=True)\n",
    "prop = properties[0]\n",
    "print(prop)\n",
    "\n",
    "area = prop['area']/1000000.0\n",
    "longitude = prop['centroid'][0]\n",
    "latitude = prop['centroid'][1]\n",
    "gravelius = prop['gravelius']\n",
    "perimeter = prop['perimeter']\n",
    "\n",
    "shapeProperties = {'area':area, 'longitude':longitude, 'latitude':latitude, 'gravelius':gravelius, 'perimeter':perimeter}\n",
    "shapeProperties"
   ]
  },
  {
   "cell_type": "markdown",
   "metadata": {},
   "source": [
    "Note that these properties are a mix of the properties of the original file where the shape is stored, and properties computed by the process (area, centroid, perimeter and gravelius). Note also that the computed area is in m², while the \"SUB_AREA\" property is in km², and that there are slight differences between the two values. \n",
    "\n",
    "Now we'll extract the land-use properties of the watershed. We pass the link to the watershed outline to a process using in the background the [North American Land Change Monitoring System](http://www.cec.org/tools-and-resources/north-american-environmental-atlas/north-american-land-change-monitoring-system) dataset, and retrieve properties over the region.  "
   ]
  },
  {
   "cell_type": "code",
   "execution_count": 50,
   "metadata": {},
   "outputs": [
    {
     "data": {
      "application/vnd.jupyter.widget-view+json": {
       "model_id": "9946d99cbd654bedaa2b52bc239cf78e",
       "version_major": 2,
       "version_minor": 0
      },
      "text/plain": [
       "HBox(children=(IntProgress(value=0, bar_style='info', description='Processing:'), Button(button_style='danger'…"
      ]
     },
     "metadata": {},
     "output_type": "display_data"
    }
   ],
   "source": [
    "# Use the geoserver to extract the land cover over the appropriate bounding box (automatic)\n",
    "resp = wps.nalcms_zonal_stats(shape=feature_url, select_all_touching=True, band=1, simple_categories=True)"
   ]
  },
  {
   "cell_type": "code",
   "execution_count": 22,
   "metadata": {},
   "outputs": [
    {
     "data": {
      "text/plain": [
       "{'type': 'FeatureCollection',\n",
       " 'features': [{'type': 'Feature',\n",
       "   'id': '0',\n",
       "   'properties': {'id': '96929',\n",
       "    'gml_id': 'USGS_HydroBASINS_lake_na_lev12.96929',\n",
       "    'HYBAS_ID': 7120270182,\n",
       "    'NEXT_DOWN': 7120270181,\n",
       "    'NEXT_SINK': 7120034330,\n",
       "    'MAIN_BAS': 7120034330,\n",
       "    'DIST_SINK': 490.9,\n",
       "    'DIST_MAIN': 490.9,\n",
       "    'SUB_AREA': 29.0,\n",
       "    'UP_AREA': 9419.6,\n",
       "    'PFAF_ID': 724089370000,\n",
       "    'SIDE': 'R',\n",
       "    'LAKE': 0,\n",
       "    'ENDO': 0,\n",
       "    'COAST': 0,\n",
       "    'ORDER': 1,\n",
       "    'SORT': 96929,\n",
       "    'count': 33068,\n",
       "    'nodata': 8.0,\n",
       "    'nan': 0,\n",
       "    'land-use': {'Forest': 19081,\n",
       "     'Shrubs': 10239,\n",
       "     'Grass': 479,\n",
       "     'Wetland': 21,\n",
       "     'Crops': 0,\n",
       "     'Urban': 0,\n",
       "     'Water': 3248,\n",
       "     'SnowIce': 0}},\n",
       "   'geometry': {'type': 'MultiPolygon',\n",
       "    'coordinates': [[[[1981874.096748117, 967399.0911914052],\n",
       "       [1981560.4971648867, 967640.7996158176],\n",
       "       [1981434.9369879127, 967882.7807668581],\n",
       "       [1980961.2637742816, 969007.1294172165],\n",
       "       [1980150.4532387636, 969613.136897321],\n",
       "       [1979557.7882538023, 970982.0066178304],\n",
       "       [1979190.993435453, 971263.6623110471],\n",
       "       [1978968.9179589564, 971674.108712833],\n",
       "       [1979068.7370289837, 972221.4986643237],\n",
       "       [1978911.2766435912, 972753.8972656073],\n",
       "       [1978998.5184324386, 973199.5400577396],\n",
       "       [1978148.5360125287, 975486.0006584836],\n",
       "       [1978229.0726735129, 975929.0688304713],\n",
       "       [1977903.7424964204, 976905.0670857691],\n",
       "       [1977984.1732537195, 977348.1154956503],\n",
       "       [1977736.39888101, 978051.40082158],\n",
       "       [1977900.4252855848, 978054.5035027583],\n",
       "       [1978726.7671066807, 977503.1475924414],\n",
       "       [1979063.162155457, 977488.4102143587],\n",
       "       [1979585.086480826, 977194.4381107079],\n",
       "       [1979728.31449522, 977383.3356572706],\n",
       "       [1979905.6264661902, 977961.0506469918],\n",
       "       [1980249.760065988, 977888.8221596053],\n",
       "       [1980777.0205245588, 976821.6140084906],\n",
       "       [1981210.6254241262, 976808.4123675763],\n",
       "       [1981599.9652658133, 976584.1723129161],\n",
       "       [1981738.2557495865, 977013.5474293529],\n",
       "       [1981974.993178329, 977251.010851383],\n",
       "       [1982328.0510653253, 978903.0377999832],\n",
       "       [1982681.0729708741, 978846.538718968],\n",
       "       [1982996.7907913027, 978315.0344648779],\n",
       "       [1983354.3364343601, 977981.5895128745],\n",
       "       [1983659.5600711212, 977324.8163370308],\n",
       "       [1983830.0521372445, 976894.3229222285],\n",
       "       [1983556.471153514, 976787.8376635303],\n",
       "       [1982897.423789108, 976458.6876778962],\n",
       "       [1982761.5084731434, 976042.3007405908],\n",
       "       [1982257.5670965123, 975700.9204296736],\n",
       "       [1981989.7596723628, 974591.1839045994],\n",
       "       [1982132.8261994827, 973944.0859803229],\n",
       "       [1981931.5999756719, 972702.8546073242],\n",
       "       [1981635.8450955295, 972309.3457865227],\n",
       "       [1981135.976983787, 971194.6244946554],\n",
       "       [1981172.1313644364, 971160.2056112073],\n",
       "       [1981342.8394163426, 971032.6586613981],\n",
       "       [1981721.483719015, 970283.2595854887],\n",
       "       [1982217.756235964, 968683.1417384447],\n",
       "       [1982076.182758441, 967974.1057193918],\n",
       "       [1981874.096748117, 967399.0911914052]]]]}}]}"
      ]
     },
     "execution_count": 22,
     "metadata": {},
     "output_type": "execute_result"
    }
   ],
   "source": [
    "(statistics, ) = resp.get(asobj=True)\n",
    "statistics"
   ]
  },
  {
   "cell_type": "markdown",
   "metadata": {},
   "source": [
    "We now have the statistics from the NALCMS zonal_stats toolbox regarding the land use, from which we calculate the ratio of each land-use component."
   ]
  },
  {
   "cell_type": "code",
   "execution_count": 51,
   "metadata": {},
   "outputs": [
    {
     "data": {
      "text/plain": [
       "{'Forest': 0.5770231039071005,\n",
       " 'Shrubs': 0.3096346921495101,\n",
       " 'Grass': 0.014485303011975323,\n",
       " 'Wetland': 0.0006350550381033022,\n",
       " 'Crops': 0.0,\n",
       " 'Urban': 0.0,\n",
       " 'Water': 0.09822184589331075,\n",
       " 'SnowIce': 0.0}"
      ]
     },
     "execution_count": 51,
     "metadata": {},
     "output_type": "execute_result"
    }
   ],
   "source": [
    "lu = statistics['features'][0]['properties']['land-use']\n",
    "total = sum(lu.values())\n",
    "\n",
    "landUse = {k: v / total for (k,v) in lu.items()}\n",
    "landUse"
   ]
  },
  {
   "cell_type": "markdown",
   "metadata": {},
   "source": [
    "The next step will be to collect terrain data, such as elevation, slope and aspect. We will do this using the Terrain_Analysis WPS service:"
   ]
  },
  {
   "cell_type": "code",
   "execution_count": 10,
   "metadata": {},
   "outputs": [
    {
     "data": {
      "application/vnd.jupyter.widget-view+json": {
       "model_id": "1a594785a65b4cf3a268e3a47fac21fd",
       "version_major": 2,
       "version_minor": 0
      },
      "text/plain": [
       "HBox(children=(IntProgress(value=0, bar_style='info', description='Processing:'), Button(button_style='danger'…"
      ]
     },
     "metadata": {},
     "output_type": "display_data"
    }
   ],
   "source": [
    "resp=wps.terrain_analysis(shape=feature_url, select_all_touching=True, projected_crs=3978)"
   ]
  },
  {
   "cell_type": "markdown",
   "metadata": {},
   "source": [
    "Now let's extract the properties from the WPS response. Use asobj=True to have Birdy preprocess the data and return the data directly."
   ]
  },
  {
   "cell_type": "code",
   "execution_count": 11,
   "metadata": {},
   "outputs": [],
   "source": [
    "[properties, dem]=resp.get(asobj=True)\n",
    "\n",
    "elevation=properties[0]['elevation']\n",
    "slope=properties[0]['slope']\n",
    "aspect=properties[0]['aspect']\n",
    "\n",
    "terrain_data={'elevation':elevation, 'slope':slope,'aspect':aspect}"
   ]
  },
  {
   "cell_type": "markdown",
   "metadata": {},
   "source": [
    "Finally, display all the extracted parameters for the user:"
   ]
  },
  {
   "cell_type": "code",
   "execution_count": 12,
   "metadata": {},
   "outputs": [
    {
     "name": "stdout",
     "output_type": "stream",
     "text": [
      "{'area': 28.76484946504176, 'longitude': -71.3409808346398, 'latitude': 50.478880424555875, 'gravelius': 1.7366297521025682, 'perimeter': 33017.42666655582, 'Forest': 0.5770231039071005, 'Shrubs': 0.3096346921495101, 'Grass': 0.014485303011975323, 'Wetland': 0.0006350550381033022, 'Crops': 0.0, 'Urban': 0.0, 'Water': 0.09822184589331075, 'SnowIce': 0.0, 'elevation': 490.04395604395603, 'slope': 3.9660612485567572, 'aspect': 116.79663053081183}\n"
     ]
    }
   ],
   "source": [
    "all_properties={**shapeProperties, **landUse, **terrain_data}\n",
    "print(all_properties)"
   ]
  },
  {
   "cell_type": "code",
   "execution_count": 44,
   "metadata": {},
   "outputs": [
    {
     "ename": "RasterioIOError",
     "evalue": "Range downloading not supported by this server!",
     "output_type": "error",
     "traceback": [
      "\u001b[0;31m---------------------------------------------------------------------------\u001b[0m",
      "\u001b[0;31mCPLE_AppDefinedError\u001b[0m                      Traceback (most recent call last)",
      "\u001b[0;32mrasterio/_base.pyx\u001b[0m in \u001b[0;36mrasterio._base.DatasetBase.__init__\u001b[0;34m()\u001b[0m\n",
      "\u001b[0;32mrasterio/_shim.pyx\u001b[0m in \u001b[0;36mrasterio._shim.open_dataset\u001b[0;34m()\u001b[0m\n",
      "\u001b[0;32mrasterio/_err.pyx\u001b[0m in \u001b[0;36mrasterio._err.exc_wrap_pointer\u001b[0;34m()\u001b[0m\n",
      "\u001b[0;31mCPLE_AppDefinedError\u001b[0m: Range downloading not supported by this server!",
      "\nDuring handling of the above exception, another exception occurred:\n",
      "\u001b[0;31mRasterioIOError\u001b[0m                           Traceback (most recent call last)",
      "\u001b[0;32m<ipython-input-44-d1f3fae09500>\u001b[0m in \u001b[0;36m<module>\u001b[0;34m\u001b[0m\n\u001b[1;32m      4\u001b[0m \u001b[0;32mimport\u001b[0m \u001b[0mxarray\u001b[0m \u001b[0;32mas\u001b[0m \u001b[0mxr\u001b[0m\u001b[0;34m\u001b[0m\u001b[0;34m\u001b[0m\u001b[0m\n\u001b[1;32m      5\u001b[0m \u001b[0;34m\u001b[0m\u001b[0m\n\u001b[0;32m----> 6\u001b[0;31m \u001b[0;32mwith\u001b[0m \u001b[0mrasterio\u001b[0m\u001b[0;34m.\u001b[0m\u001b[0mopen\u001b[0m\u001b[0;34m(\u001b[0m\u001b[0mdem\u001b[0m\u001b[0;34m,\u001b[0m \u001b[0;34m'r'\u001b[0m\u001b[0;34m)\u001b[0m \u001b[0;32mas\u001b[0m \u001b[0msrc\u001b[0m\u001b[0;34m:\u001b[0m\u001b[0;34m\u001b[0m\u001b[0;34m\u001b[0m\u001b[0m\n\u001b[0m\u001b[1;32m      7\u001b[0m     \u001b[0mcrs\u001b[0m \u001b[0;34m=\u001b[0m \u001b[0mccrs\u001b[0m\u001b[0;34m.\u001b[0m\u001b[0mepsg\u001b[0m\u001b[0;34m(\u001b[0m\u001b[0msrc\u001b[0m\u001b[0;34m.\u001b[0m\u001b[0mcrs\u001b[0m\u001b[0;34m.\u001b[0m\u001b[0mto_epsg\u001b[0m\u001b[0;34m(\u001b[0m\u001b[0;34m)\u001b[0m\u001b[0;34m)\u001b[0m\u001b[0;34m\u001b[0m\u001b[0;34m\u001b[0m\u001b[0m\n\u001b[1;32m      8\u001b[0m     \u001b[0mda\u001b[0m \u001b[0;34m=\u001b[0m \u001b[0mxr\u001b[0m\u001b[0;34m.\u001b[0m\u001b[0mopen_rasterio\u001b[0m\u001b[0;34m(\u001b[0m\u001b[0mdem\u001b[0m\u001b[0;34m)\u001b[0m\u001b[0;34m\u001b[0m\u001b[0;34m\u001b[0m\u001b[0m\n",
      "\u001b[0;32m~/miniconda3/lib/python3.7/site-packages/rasterio/env.py\u001b[0m in \u001b[0;36mwrapper\u001b[0;34m(*args, **kwds)\u001b[0m\n\u001b[1;32m    421\u001b[0m \u001b[0;34m\u001b[0m\u001b[0m\n\u001b[1;32m    422\u001b[0m         \u001b[0;32mwith\u001b[0m \u001b[0menv_ctor\u001b[0m\u001b[0;34m(\u001b[0m\u001b[0msession\u001b[0m\u001b[0;34m=\u001b[0m\u001b[0msession\u001b[0m\u001b[0;34m)\u001b[0m\u001b[0;34m:\u001b[0m\u001b[0;34m\u001b[0m\u001b[0;34m\u001b[0m\u001b[0m\n\u001b[0;32m--> 423\u001b[0;31m             \u001b[0;32mreturn\u001b[0m \u001b[0mf\u001b[0m\u001b[0;34m(\u001b[0m\u001b[0;34m*\u001b[0m\u001b[0margs\u001b[0m\u001b[0;34m,\u001b[0m \u001b[0;34m**\u001b[0m\u001b[0mkwds\u001b[0m\u001b[0;34m)\u001b[0m\u001b[0;34m\u001b[0m\u001b[0;34m\u001b[0m\u001b[0m\n\u001b[0m\u001b[1;32m    424\u001b[0m \u001b[0;34m\u001b[0m\u001b[0m\n\u001b[1;32m    425\u001b[0m     \u001b[0;32mreturn\u001b[0m \u001b[0mwrapper\u001b[0m\u001b[0;34m\u001b[0m\u001b[0;34m\u001b[0m\u001b[0m\n",
      "\u001b[0;32m~/miniconda3/lib/python3.7/site-packages/rasterio/__init__.py\u001b[0m in \u001b[0;36mopen\u001b[0;34m(fp, mode, driver, width, height, count, crs, transform, dtype, nodata, sharing, **kwargs)\u001b[0m\n\u001b[1;32m    214\u001b[0m         \u001b[0;31m# None.\u001b[0m\u001b[0;34m\u001b[0m\u001b[0;34m\u001b[0m\u001b[0;34m\u001b[0m\u001b[0m\n\u001b[1;32m    215\u001b[0m         \u001b[0;32mif\u001b[0m \u001b[0mmode\u001b[0m \u001b[0;34m==\u001b[0m \u001b[0;34m'r'\u001b[0m\u001b[0;34m:\u001b[0m\u001b[0;34m\u001b[0m\u001b[0;34m\u001b[0m\u001b[0m\n\u001b[0;32m--> 216\u001b[0;31m             \u001b[0ms\u001b[0m \u001b[0;34m=\u001b[0m \u001b[0mDatasetReader\u001b[0m\u001b[0;34m(\u001b[0m\u001b[0mpath\u001b[0m\u001b[0;34m,\u001b[0m \u001b[0mdriver\u001b[0m\u001b[0;34m=\u001b[0m\u001b[0mdriver\u001b[0m\u001b[0;34m,\u001b[0m \u001b[0;34m**\u001b[0m\u001b[0mkwargs\u001b[0m\u001b[0;34m)\u001b[0m\u001b[0;34m\u001b[0m\u001b[0;34m\u001b[0m\u001b[0m\n\u001b[0m\u001b[1;32m    217\u001b[0m         \u001b[0;32melif\u001b[0m \u001b[0mmode\u001b[0m \u001b[0;34m==\u001b[0m \u001b[0;34m'r+'\u001b[0m\u001b[0;34m:\u001b[0m\u001b[0;34m\u001b[0m\u001b[0;34m\u001b[0m\u001b[0m\n\u001b[1;32m    218\u001b[0m             \u001b[0ms\u001b[0m \u001b[0;34m=\u001b[0m \u001b[0mget_writer_for_path\u001b[0m\u001b[0;34m(\u001b[0m\u001b[0mpath\u001b[0m\u001b[0;34m)\u001b[0m\u001b[0;34m(\u001b[0m\u001b[0mpath\u001b[0m\u001b[0;34m,\u001b[0m \u001b[0mmode\u001b[0m\u001b[0;34m,\u001b[0m \u001b[0mdriver\u001b[0m\u001b[0;34m=\u001b[0m\u001b[0mdriver\u001b[0m\u001b[0;34m,\u001b[0m \u001b[0;34m**\u001b[0m\u001b[0mkwargs\u001b[0m\u001b[0;34m)\u001b[0m\u001b[0;34m\u001b[0m\u001b[0;34m\u001b[0m\u001b[0m\n",
      "\u001b[0;32mrasterio/_base.pyx\u001b[0m in \u001b[0;36mrasterio._base.DatasetBase.__init__\u001b[0;34m()\u001b[0m\n",
      "\u001b[0;31mRasterioIOError\u001b[0m: Range downloading not supported by this server!"
     ]
    }
   ],
   "source": [
    "import cartopy.crs as ccrs\n",
    "import rasterio\n",
    "from rasterio.plot import show\n",
    "import xarray as xr\n",
    "\n",
    "with rasterio.open(dem, 'r') as src:\n",
    "    crs = ccrs.epsg(src.crs.to_epsg())\n",
    "    da = xr.open_rasterio(dem)\n",
    "    da.name = 'Elevation'\n",
    "    da.attrs['units'] = 'm'\n",
    "    ax = plt.subplot(projection=crs)\n",
    "    da.where(da!=-32768).sel(band=1).plot.imshow(ax=ax, transform=crs)\n",
    "    plt.show()"
   ]
  },
  {
   "cell_type": "markdown",
   "metadata": {},
   "source": [
    "### There we go! We have extracted the contours of a watershed along with a series of hydrologically relevant properties, all from the coordinates of a single location (outlet)!"
   ]
  }
 ],
 "metadata": {
  "kernelspec": {
   "display_name": "Python 3",
   "language": "python",
   "name": "python3"
  },
  "language_info": {
   "codemirror_mode": {
    "name": "ipython",
    "version": 3
   },
   "file_extension": ".py",
   "mimetype": "text/x-python",
   "name": "python",
   "nbconvert_exporter": "python",
   "pygments_lexer": "ipython3",
   "version": "3.6.8"
  }
 },
 "nbformat": 4,
 "nbformat_minor": 1
}
