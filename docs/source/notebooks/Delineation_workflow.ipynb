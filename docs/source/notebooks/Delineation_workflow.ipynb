{
 "cells": [
  {
   "cell_type": "markdown",
   "metadata": {},
   "source": [
    "# Complete workflow to get info from GIS tools for hydrological modelling\n",
    "\n",
    "Here we use birdy's WPS client to perform a catchment delineation, use the delineation to extract physical properties and prepare data for hydrological modelling, all using the Raven server."
   ]
  },
  {
   "cell_type": "code",
   "execution_count": 70,
   "metadata": {},
   "outputs": [],
   "source": [
    "from birdy import WPSClient\n",
    "\n",
    "from example_data import TESTDATA\n",
    "import datetime as dt\n",
    "from urllib.request import urlretrieve\n",
    "import xarray as xr\n",
    "import numpy as np\n",
    "from matplotlib import pyplot as plt\n",
    "\n",
    "url = \"http://localhost:9099/wps\"\n",
    "wps = WPSClient(url, progress=True)"
   ]
  },
  {
   "cell_type": "code",
   "execution_count": 71,
   "metadata": {},
   "outputs": [
    {
     "data": {
      "application/vnd.jupyter.widget-view+json": {
       "model_id": "f8b842e624f9400ea803ddbd8c792757",
       "version_major": 2,
       "version_minor": 0
      },
      "text/plain": [
       "HBox(children=(IntProgress(value=0, bar_style='info', description='Processing:'), Button(button_style='danger'…"
      ]
     },
     "metadata": {},
     "output_type": "display_data"
    }
   ],
   "source": [
    "# MANIC: lonlat_coordinate=\"(-68.724444, 50.646667)\"\n",
    "# St-Lawrence I guess is \"-75.724444, 44.646667\"?  Returns 770 000 sq.km basin...\n",
    "r_select = wps.shape_selection(location=\"-71.291660, 50.492758\",lakes=True, aggregate_upstream=True)"
   ]
  },
  {
   "cell_type": "markdown",
   "metadata": {},
   "source": [
    "The `location` parameter identifies the outlet of the watershed, and `aggregate_upstream` determines whether or not we want the service to return all upstream basins. "
   ]
  },
  {
   "cell_type": "code",
   "execution_count": 72,
   "metadata": {},
   "outputs": [],
   "source": [
    "# Get JSON Polygons of the delineated catchment\n",
    "[features, upstream_basins] = r_select.get(asobj=True)\n",
    "feature = features['features'][0] # TODO: Fix this server-side: What does this do? Why even have it?"
   ]
  },
  {
   "cell_type": "markdown",
   "metadata": {},
   "source": [
    "Now that we have delineated a catchment, lets find the zonal statistics and other properties of the catchment."
   ]
  },
  {
   "cell_type": "code",
   "execution_count": 73,
   "metadata": {},
   "outputs": [
    {
     "data": {
      "image/png": "[encoded data removed]",
      "text/plain": [
       "<Figure size 432x288 with 1 Axes>"
      ]
     },
     "metadata": {
      "needs_background": "light"
     },
     "output_type": "display_data"
    }
   ],
   "source": [
    "from descartes import PolygonPatch\n",
    "import matplotlib.pyplot as plt \n",
    "\n",
    "BLUE = '#6699cc'\n",
    "fig = plt.figure() \n",
    "ax = fig.gca() \n",
    "ax.add_patch(PolygonPatch(feature['geometry'], fc=BLUE, ec=BLUE, alpha=0.5, zorder=2 ))\n",
    "ax.axis('scaled')\n",
    "plt.show()\n"
   ]
  },
  {
   "cell_type": "code",
   "execution_count": 74,
   "metadata": {},
   "outputs": [
    {
     "data": {
      "application/vnd.jupyter.widget-view+json": {
       "model_id": "567c9663c3204dfa828428ed9bd646be",
       "version_major": 2,
       "version_minor": 0
      },
      "text/plain": [
       "HBox(children=(IntProgress(value=0, bar_style='info', description='Processing:'), Button(button_style='danger'…"
      ]
     },
     "metadata": {},
     "output_type": "display_data"
    }
   ],
   "source": [
    "# Here we are using the geojson file created on the server in the last step as the input value to a process \n",
    "# computing watershed properties. \n",
    "#crs=4326\n",
    "#projected_crs=32198\n",
    "[features, upstream_basins] = r_select.get()\n",
    "resp = wps.shape_properties(shape=features)"
   ]
  },
  {
   "cell_type": "markdown",
   "metadata": {},
   "source": [
    "Now, let's extract the data from the WPS service response:"
   ]
  },
  {
   "cell_type": "code",
   "execution_count": 75,
   "metadata": {},
   "outputs": [
    {
     "name": "stdout",
     "output_type": "stream",
     "text": [
      "[{'id': 'USGS_HydroBASINS_lake_na_lev12.96929', 'COAST': 0, 'DIST_MAIN': 490.9, 'DIST_SINK': 490.9, 'ENDO': 0, 'HYBAS_ID': 7120270182, 'LAKE': 74, 'NEXT_DOWN': 7120270181, 'NEXT_SINK': 7120034330, 'ORDER': 1, 'PFAF_ID': 724089370000, 'SIDE': 'R', 'SORT': 96929, 'SUB_AREA': 14201.2, 'UP_AREA': 9419.6, 'area': 14058617253.170454, 'centroid': [-71.07253186896766, 51.278194003798866], 'perimeter': 935996.9220052982, 'gravelius': 2.2268870250753334}]\n"
     ]
    }
   ],
   "source": [
    "[properties]=resp.get(asobj=True)\n",
    "print(properties)\n",
    "\n",
    "area=properties[0]['area']/1000000.0\n",
    "longitude=properties[0]['centroid'][0]\n",
    "latitude=properties[0]['centroid'][1]\n",
    "gravelius=properties[0]['gravelius']\n",
    "perimeter=properties[0]['perimeter']\n",
    "\n",
    "shapeProperties={'area':area, 'longitude':longitude, 'latitude':latitude, 'gravelius':gravelius, 'perimeter':perimeter}\n"
   ]
  },
  {
   "cell_type": "markdown",
   "metadata": {},
   "source": [
    "Note that these properties are a mix of the properties of the original file where the shape is stored, and properties computed by the process (area, centroid, perimeter and gravelius). Note also that the computed area is in m², while the \"SUB_AREA\" property is in km², and that there are differences between the two values. "
   ]
  },
  {
   "cell_type": "markdown",
   "metadata": {},
   "source": [
    "## PROBLEM: USING \"FEATURE\" INSTEAD OF \"FEATURES\" FAILS FOR THE WPS SERVICES. NOT SURE IF BUG OR...\n",
    "\n",
    "Yeah, same problem server-side... "
   ]
  },
  {
   "cell_type": "code",
   "execution_count": 77,
   "metadata": {},
   "outputs": [
    {
     "data": {
      "application/vnd.jupyter.widget-view+json": {
       "model_id": "c802036a35794fcf99c1872a47bf4b13",
       "version_major": 2,
       "version_minor": 0
      },
      "text/plain": [
       "HBox(children=(IntProgress(value=0, bar_style='info', description='Processing:'), Button(button_style='danger'…"
      ]
     },
     "metadata": {},
     "output_type": "display_data"
    }
   ],
   "source": [
    "# Use the geoserver to extract the land cover over the appropriate bounding box (automatic)\n",
    "resp = wps.nalcms_zonal_stats(shape=features, select_all_touching=True,band=1, simple_categories=True)\n",
    "\n",
    "#resp = wps.zonal_stats(features, str(raster), select_all_touching=True,return_geojson=False)"
   ]
  },
  {
   "cell_type": "code",
   "execution_count": 78,
   "metadata": {},
   "outputs": [],
   "source": [
    "statistics=resp.get(asobj=True)"
   ]
  },
  {
   "cell_type": "markdown",
   "metadata": {},
   "source": [
    "We now have the statistics from the NALCMS zonal_stats toolbox regarding the land use: "
   ]
  },
  {
   "cell_type": "code",
   "execution_count": 79,
   "metadata": {},
   "outputs": [
    {
     "data": {
      "text/plain": [
       "{'COAST': 0,\n",
       " 'DIST_MAIN': 490.9,\n",
       " 'DIST_SINK': 490.9,\n",
       " 'ENDO': 0,\n",
       " 'HYBAS_ID': 7120270182,\n",
       " 'LAKE': 74,\n",
       " 'NEXT_DOWN': 7120270181,\n",
       " 'NEXT_SINK': 7120034330,\n",
       " 'ORDER': 1,\n",
       " 'PFAF_ID': 724089370000,\n",
       " 'SIDE': 'R',\n",
       " 'SORT': 96929,\n",
       " 'SUB_AREA': 14201.2,\n",
       " 'UP_AREA': 9419.6,\n",
       " 'id': 'USGS_HydroBASINS_lake_na_lev12.96929',\n",
       " 'Forest': 67823,\n",
       " 'Shrubs': 1937016,\n",
       " 'Grass': 80526,\n",
       " 'Wetland': 186466,\n",
       " 'Urban': 1986,\n",
       " 'Water': 1943684,\n",
       " 'count': 15857875,\n",
       " 'nodata': 5.0}"
      ]
     },
     "execution_count": 79,
     "metadata": {},
     "output_type": "execute_result"
    }
   ],
   "source": [
    "\n",
    "statistics=statistics[0]['features'][0]['properties']\n",
    "statistics\n"
   ]
  },
  {
   "cell_type": "markdown",
   "metadata": {},
   "source": [
    "Now, let's calculate the ratio of each land-use component. The \"count\" property is sometimes off so we recount the total ourselves:\n"
   ]
  },
  {
   "cell_type": "code",
   "execution_count": 80,
   "metadata": {},
   "outputs": [],
   "source": [
    "# Extract each of the possible properties. Note that sometimes some properties are not present, \n",
    "# so we check them individually. Start by setting them to zero, we will update if the land use class is present.\n",
    "Forest=0.\n",
    "Shrubs=0.\n",
    "Crops=0.\n",
    "Urban=0.\n",
    "Water=0.\n",
    "Wetland=0.\n",
    "Grass=0.\n",
    "SnowIce=0.\n",
    "                \n",
    "# Update the land-use class according to the land use availability for the catchment.\n",
    "if 'Forest' in statistics.keys():\n",
    "    Forest=statistics['Forest']\n",
    "if 'Shrubs' in statistics.keys():\n",
    "    Shrubs=statistics['Shrubs']\n",
    "if 'Grass' in statistics.keys():\n",
    "    Grass=statistics['Grass']\n",
    "if 'Wetland' in statistics.keys():\n",
    "    Wetland=statistics['Wetland']\n",
    "if 'Water' in statistics.keys():\n",
    "    Water=statistics['Water']\n",
    "if 'Urban' in statistics.keys():\n",
    "    Urban=statistics['Urban']\n",
    "if 'Crops' in statistics.keys():\n",
    "    Crops=statistics['Crops']\n",
    "if 'SnowIce' in statistics.keys():\n",
    "    SnowIce=statistics['SnowIce']\n",
    "\n",
    "# Calculate the total amount of land cover from these processes\n",
    "Total=Forest+Shrubs+Grass+Wetland+Water+Urban+Crops+SnowIce\n",
    "\n",
    "# Calculate the ratios\n",
    "Forest=Forest/Total\n",
    "Grass=Grass/Total\n",
    "Wetland=Wetland/Total\n",
    "Water=Water/Total\n",
    "Urban=Urban/Total\n",
    "Shrubs=Shrubs/Total\n",
    "Crops=Crops/Total\n",
    "SnowIce=SnowIce/Total    \n",
    "\n",
    "# Store in dict format\n",
    "landUse={'Forest':Forest, 'Grass':Grass, 'Wetland':Wetland, 'Water':Water,'Urban':Urban,'Shrubs':Shrubs,'Crops':Crops,'SnowIce':SnowIce}"
   ]
  },
  {
   "cell_type": "markdown",
   "metadata": {},
   "source": [
    "Let's display these values for the user:\n"
   ]
  },
  {
   "cell_type": "code",
   "execution_count": 81,
   "metadata": {},
   "outputs": [
    {
     "data": {
      "text/plain": [
       "{'Forest': 0.016081323987830708,\n",
       " 'Grass': 0.019093297191867885,\n",
       " 'Wetland': 0.04421243764968876,\n",
       " 'Water': 0.4608615386220418,\n",
       " 'Urban': 0.0004708949683710804,\n",
       " 'Shrubs': 0.4592805075801997,\n",
       " 'Crops': 0.0,\n",
       " 'SnowIce': 0.0}"
      ]
     },
     "execution_count": 81,
     "metadata": {},
     "output_type": "execute_result"
    }
   ],
   "source": [
    "landUse"
   ]
  },
  {
   "cell_type": "markdown",
   "metadata": {},
   "source": [
    "The next step will be to collect terrain data, such as elevation, slope and aspect. We will do this using the Terrain_Analysis WPS service:"
   ]
  },
  {
   "cell_type": "code",
   "execution_count": 82,
   "metadata": {},
   "outputs": [
    {
     "data": {
      "application/vnd.jupyter.widget-view+json": {
       "model_id": "93daab6271c544e5baae71da24dc2829",
       "version_major": 2,
       "version_minor": 0
      },
      "text/plain": [
       "HBox(children=(IntProgress(value=0, bar_style='info', description='Processing:'), Button(button_style='danger'…"
      ]
     },
     "metadata": {},
     "output_type": "display_data"
    }
   ],
   "source": [
    "resp=wps.terrain_analysis(shape=features, select_all_touching=True,projected_crs=3978)"
   ]
  },
  {
   "cell_type": "markdown",
   "metadata": {},
   "source": [
    "Now let's extract the properties from the WPS response. Use asobj=True to have Birdy preprocess the data and return the data directly."
   ]
  },
  {
   "cell_type": "code",
   "execution_count": 83,
   "metadata": {},
   "outputs": [],
   "source": [
    "[properties]=resp.get(asobj=True)\n",
    "\n",
    "elevation=properties[0]['elevation']\n",
    "slope=properties[0]['slope']\n",
    "aspect=properties[0]['aspect']\n",
    "\n",
    "terrain_data={'elevation':elevation, 'slope':slope,'aspect':aspect}"
   ]
  },
  {
   "cell_type": "markdown",
   "metadata": {},
   "source": [
    "Finally, display all the extracted parameters for the user:"
   ]
  },
  {
   "cell_type": "code",
   "execution_count": 84,
   "metadata": {},
   "outputs": [
    {
     "name": "stdout",
     "output_type": "stream",
     "text": [
      "{'area': 14058.617253170454, 'longitude': -71.07253186896766, 'latitude': 51.278194003798866, 'gravelius': 2.2268870250753334, 'perimeter': 935996.9220052982, 'Forest': 0.016081323987830708, 'Grass': 0.019093297191867885, 'Wetland': 0.04421243764968876, 'Water': 0.4608615386220418, 'Urban': 0.0004708949683710804, 'Shrubs': 0.4592805075801997, 'Crops': 0.0, 'SnowIce': 0.0, 'elevation': 594.800152859848, 'slope': 2.9303332229214973, 'aspect': 186.10866554968163}\n"
     ]
    }
   ],
   "source": [
    "all_properties={**shapeProperties, **landUse, **terrain_data}\n",
    "print(all_properties)"
   ]
  },
  {
   "cell_type": "markdown",
   "metadata": {},
   "source": [
    "### There we go! We have extracted the contours of a watershed along with a series of hydrologically relevant properties, all from the coordinates of a single location (outlet)!"
   ]
  }
 ],
 "metadata": {
  "kernelspec": {
   "display_name": "Python 3",
   "language": "python",
   "name": "python3"
  },
  "language_info": {
   "codemirror_mode": {
    "name": "ipython",
    "version": 3
   },
   "file_extension": ".py",
   "mimetype": "text/x-python",
   "name": "python",
   "nbconvert_exporter": "python",
   "pygments_lexer": "ipython3",
   "version": "3.7.1"
  }
 },
 "nbformat": 4,
 "nbformat_minor": 1
}
