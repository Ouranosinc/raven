{
 "cells": [
  {
   "cell_type": "markdown",
   "metadata": {},
   "source": [
    "# Geographical analysis for hydrological modelling\n",
    "\n",
    "This notebook shows how to delineate a catchment and extract properties from a digital elevation model (DEM) and a land-use data set. The processes are hosted on the Raven server, which in the background connects to a GeoServer instance to query watershed contours, DEM and land-use data. \n",
    "\n",
    "We connect to Raven's Web Processing Service interface using birdy's `WPSClient`. "
   ]
  },
  {
   "cell_type": "code",
   "execution_count": 1,
   "metadata": {},
   "outputs": [],
   "source": [
    "from birdy import WPSClient\n",
    "import numpy as np\n",
    "import matplotlib.pyplot as plt\n",
    "import geopandas as gpd\n",
    "import json\n",
    "import os"
   ]
  },
  {
   "cell_type": "code",
   "execution_count": 2,
   "metadata": {},
   "outputs": [],
   "source": [
    "# Set environment variable RAVEN_WPS_URL to \"http://localhost:9099\" to run on the default local server\n",
    "# url = os.environ.get(\"RAVEN_WPS_URL\", \"https://pavics.ouranos.ca/twitcher/ows/proxy/raven/wps\")\n",
    "url = os.environ.get(\"RAVEN_WPS_URL\", \"http://localhost:9099\")\n",
    "\n",
    "wps = WPSClient(url)"
   ]
  },
  {
   "cell_type": "markdown",
   "metadata": {},
   "source": [
    "We first extract the watershed contour for the point of interest. The process looks into the HydroSheds databast to finds the watershed enclosing the given location. The `location` parameter identifies the outlet of the watershed, and `aggregate_upstream` determines whether or not we want the service to return the union of all upstream basins. Here we set it to `False` to reduce the size of the basin and speed-up computations. \n",
    "\n",
    "The output of the `hydrosheds-select` process is a GeoJSON geometry. "
   ]
  },
  {
   "cell_type": "code",
   "execution_count": 3,
   "metadata": {},
   "outputs": [],
   "source": [
    "r_select = wps.hydrobasins_select(location=\"-71.291660, 50.492758\", aggregate_upstream=False)"
   ]
  },
  {
   "cell_type": "code",
   "execution_count": 4,
   "metadata": {},
   "outputs": [
    {
     "data": {
      "text/plain": [
       "{\"geometry\": {\"coordinates\": [[[[-71.3592, 50.4196], [-71.3621, 50.4226], [-71.3625, 50.425], [-71.3629, 50.4358], [-71.3705, 50.4434], [-71.3712, 50.4566], [-71.3746, 50.4601], [-71.3754, 50.4642], [-71.3712, 50.4684], [-71.3705, 50.4733], [-71.367, 50.4767], [-71.3663, 50.4983], [-71.3629, 50.5017], [-71.3621, 50.5108], [-71.3587, 50.5142], [-71.3583, 50.5208], [-71.3561, 50.5203], [-71.348, 50.5131], [-71.3436, 50.5119], [-71.3382, 50.5078], [-71.3353, 50.5089], [-71.3299, 50.5131], [-71.3257, 50.5114], [-71.3243, 50.5009], [-71.3186, 50.4994], [-71.3146, 50.4963], [-71.3105, 50.4994], [-71.3061, 50.5006], [-71.2927, 50.5131], [-71.2883, 50.5115], [-71.2869, 50.5061], [-71.2839, 50.5022], [-71.2833, 50.4958], [-71.2833, 50.4917], [-71.2875, 50.4917], [-71.298, 50.4911], [-71.302, 50.4881], [-71.3105, 50.4869], [-71.3199, 50.4786], [-71.3214, 50.4728], [-71.3306, 50.4632], [-71.3366, 50.4609], [-71.3491, 50.4533], [-71.3488, 50.4529], [-71.3472, 50.4513], [-71.3461, 50.4439], [-71.3479, 50.4291], [-71.3535, 50.4237], [-71.3592, 50.4196]]]], \"type\": \"MultiPolygon\"}, \"id\": \"96929\", \"properties\": {\"COAST\": 0, \"DIST_MAIN\": 490.9, \"DIST_SINK\": 490.9, \"ENDO\": 0, \"HYBAS_ID\": 7120270182, \"LAKE\": 0, \"MAIN_BAS\": 7120034330, \"NEXT_DOWN\": 7120270181, \"NEXT_SINK\": 7120034330, \"ORDER\": 1, \"PFAF_ID\": 724089370000, \"SIDE\": \"R\", \"SORT\": 96929, \"SUB_AREA\": 29.0, \"UP_AREA\": 9419.6, \"gml_id\": \"USGS_HydroBASINS_lake_na_lev12.96929\"}, \"type\": \"Feature\"}"
      ]
     },
     "execution_count": 4,
     "metadata": {},
     "output_type": "execute_result"
    }
   ],
   "source": [
    "# Get GeoJSON polygon of the delineated catchment.\n",
    "# We can either get links to the files stored on the server, or get the data directly. \n",
    "[feature_url, upstream_basins_url] = r_select.get(asobj=False)\n",
    "[feature, upstream_basins] = r_select.get(asobj=True)\n",
    "feature"
   ]
  },
  {
   "cell_type": "markdown",
   "metadata": {},
   "source": [
    "We can now plot the outline of the watershed by loading it into `GeoPandas`. "
   ]
  },
  {
   "cell_type": "code",
   "execution_count": 5,
   "metadata": {},
   "outputs": [
    {
     "data": {
      "text/plain": [
       "<matplotlib.axes._subplots.AxesSubplot at 0x7fa4a74bb048>"
      ]
     },
     "execution_count": 5,
     "metadata": {},
     "output_type": "execute_result"
    },
    {
     "data": {
      "image/png": "[encoded data removed]",
      "text/plain": [
       "<Figure size 432x288 with 1 Axes>"
      ]
     },
     "metadata": {
      "needs_background": "light"
     },
     "output_type": "display_data"
    }
   ],
   "source": [
    "# df = gpd.read_file(feature_url)\n",
    "df = gpd.GeoDataFrame.from_features([feature])\n",
    "df.plot()"
   ]
  },
  {
   "cell_type": "markdown",
   "metadata": {},
   "source": [
    "Now that we have delineated a catchment, lets find the zonal statistics and other properties of the catchment. We can pass the catchment outline either as a link to a file (e.g. `feature_url`), or pass the data directly as a string. "
   ]
  },
  {
   "cell_type": "code",
   "execution_count": 6,
   "metadata": {},
   "outputs": [],
   "source": [
    "# Here we are using the geojson file created on the server in the last step as the input value to a process \n",
    "# computing watershed properties. \n",
    "#crs=4326\n",
    "#projected_crs=32198\n",
    "resp = wps.shape_properties(shape=json.dumps(feature))"
   ]
  },
  {
   "cell_type": "markdown",
   "metadata": {},
   "source": [
    "Now, let's extract the data from the WPS service response:"
   ]
  },
  {
   "cell_type": "code",
   "execution_count": 7,
   "metadata": {},
   "outputs": [
    {
     "name": "stdout",
     "output_type": "stream",
     "text": [
      "{'id': '96929', 'gml_id': 'USGS_HydroBASINS_lake_na_lev12.96929', 'HYBAS_ID': 7120270182, 'NEXT_DOWN': 7120270181, 'NEXT_SINK': 7120034330, 'MAIN_BAS': 7120034330, 'DIST_SINK': 490.9, 'DIST_MAIN': 490.9, 'SUB_AREA': 29.0, 'UP_AREA': 9419.6, 'PFAF_ID': 724089370000, 'SIDE': 'R', 'LAKE': 0, 'ENDO': 0, 'COAST': 0, 'ORDER': 1, 'SORT': 96929, 'area': 28764849.46504176, 'centroid': [-71.3409808346398, 50.478880424555875], 'perimeter': 33017.42666655582, 'gravelius': 1.7366297521025682}\n"
     ]
    },
    {
     "data": {
      "text/plain": [
       "{'area': 28.76484946504176,\n",
       " 'longitude': -71.3409808346398,\n",
       " 'latitude': 50.478880424555875,\n",
       " 'gravelius': 1.7366297521025682,\n",
       " 'perimeter': 33017.42666655582}"
      ]
     },
     "execution_count": 7,
     "metadata": {},
     "output_type": "execute_result"
    }
   ],
   "source": [
    "[properties, ]=resp.get(asobj=True)\n",
    "prop = properties[0]\n",
    "print(prop)\n",
    "\n",
    "area = prop['area']/1000000.0\n",
    "longitude = prop['centroid'][0]\n",
    "latitude = prop['centroid'][1]\n",
    "gravelius = prop['gravelius']\n",
    "perimeter = prop['perimeter']\n",
    "\n",
    "shapeProperties = {'area':area, 'longitude':longitude, 'latitude':latitude, 'gravelius':gravelius, 'perimeter':perimeter}\n",
    "shapeProperties"
   ]
  },
  {
   "cell_type": "markdown",
   "metadata": {},
   "source": [
    "Note that these properties are a mix of the properties of the original file where the shape is stored, and properties computed by the process (area, centroid, perimeter and gravelius). Note also that the computed area is in m², while the \"SUB_AREA\" property is in km², and that there are slight differences between the two values. \n",
    "\n",
    "Now we'll extract the land-use properties of the watershed. We pass the link to the watershed outline to a process using in the background the [North American Land Change Monitoring System](http://www.cec.org/tools-and-resources/north-american-environmental-atlas/north-american-land-change-monitoring-system) dataset, and retrieve properties over the region.  "
   ]
  },
  {
   "cell_type": "code",
   "execution_count": 8,
   "metadata": {},
   "outputs": [
    {
     "ename": "ValueError",
     "evalue": "mimetype application/geo+json not in supported mimetypes ['application/vnd.geo+json', 'application/gml+xml', 'application/json', 'application/x-zipped-shp'].",
     "output_type": "error",
     "traceback": [
      "\u001b[0;31m---------------------------------------------------------------------------\u001b[0m",
      "\u001b[0;31mValueError\u001b[0m                                Traceback (most recent call last)",
      "\u001b[0;32m<ipython-input-8-1084d56c28fe>\u001b[0m in \u001b[0;36m<module>\u001b[0;34m\u001b[0m\n\u001b[1;32m      1\u001b[0m \u001b[0;31m# Use the geoserver to extract the land cover over the appropriate bounding box (automatic)\u001b[0m\u001b[0;34m\u001b[0m\u001b[0;34m\u001b[0m\u001b[0;34m\u001b[0m\u001b[0m\n\u001b[0;32m----> 2\u001b[0;31m \u001b[0mresp\u001b[0m \u001b[0;34m=\u001b[0m \u001b[0mwps\u001b[0m\u001b[0;34m.\u001b[0m\u001b[0mnalcms_zonal_stats\u001b[0m\u001b[0;34m(\u001b[0m\u001b[0mshape\u001b[0m\u001b[0;34m=\u001b[0m\u001b[0mfeature_url\u001b[0m\u001b[0;34m,\u001b[0m \u001b[0mselect_all_touching\u001b[0m\u001b[0;34m=\u001b[0m\u001b[0;32mTrue\u001b[0m\u001b[0;34m,\u001b[0m \u001b[0mband\u001b[0m\u001b[0;34m=\u001b[0m\u001b[0;36m1\u001b[0m\u001b[0;34m,\u001b[0m \u001b[0msimple_categories\u001b[0m\u001b[0;34m=\u001b[0m\u001b[0;32mTrue\u001b[0m\u001b[0;34m)\u001b[0m\u001b[0;34m\u001b[0m\u001b[0;34m\u001b[0m\u001b[0m\n\u001b[0m",
      "\u001b[0;32m</home/tjs/miniconda3/envs/raven/lib/python3.6/site-packages/birdy/client/base.py-11>\u001b[0m in \u001b[0;36mnalcms_zonal_stats\u001b[0;34m(self, shape, raster, simple_categories, band, select_all_touching)\u001b[0m\n",
      "\u001b[0;32m~/miniconda3/envs/raven/lib/python3.6/site-packages/birdy/client/base.py\u001b[0m in \u001b[0;36m_execute\u001b[0;34m(self, pid, **kwargs)\u001b[0m\n\u001b[1;32m    281\u001b[0m     \u001b[0;32mdef\u001b[0m \u001b[0m_execute\u001b[0m\u001b[0;34m(\u001b[0m\u001b[0mself\u001b[0m\u001b[0;34m,\u001b[0m \u001b[0mpid\u001b[0m\u001b[0;34m,\u001b[0m \u001b[0;34m**\u001b[0m\u001b[0mkwargs\u001b[0m\u001b[0;34m)\u001b[0m\u001b[0;34m:\u001b[0m\u001b[0;34m\u001b[0m\u001b[0;34m\u001b[0m\u001b[0m\n\u001b[1;32m    282\u001b[0m         \u001b[0;34m\"\"\"Execute the process.\"\"\"\u001b[0m\u001b[0;34m\u001b[0m\u001b[0;34m\u001b[0m\u001b[0m\n\u001b[0;32m--> 283\u001b[0;31m         \u001b[0mwps_inputs\u001b[0m \u001b[0;34m=\u001b[0m \u001b[0mself\u001b[0m\u001b[0;34m.\u001b[0m\u001b[0m_build_inputs\u001b[0m\u001b[0;34m(\u001b[0m\u001b[0mpid\u001b[0m\u001b[0;34m,\u001b[0m \u001b[0;34m**\u001b[0m\u001b[0mkwargs\u001b[0m\u001b[0;34m)\u001b[0m\u001b[0;34m\u001b[0m\u001b[0;34m\u001b[0m\u001b[0m\n\u001b[0m\u001b[1;32m    284\u001b[0m         wps_outputs = [\n\u001b[1;32m    285\u001b[0m             \u001b[0;34m(\u001b[0m\u001b[0mo\u001b[0m\u001b[0;34m.\u001b[0m\u001b[0midentifier\u001b[0m\u001b[0;34m,\u001b[0m \u001b[0;34m\"ComplexData\"\u001b[0m \u001b[0;32min\u001b[0m \u001b[0mo\u001b[0m\u001b[0;34m.\u001b[0m\u001b[0mdataType\u001b[0m\u001b[0;34m)\u001b[0m\u001b[0;34m\u001b[0m\u001b[0;34m\u001b[0m\u001b[0m\n",
      "\u001b[0;32m~/miniconda3/envs/raven/lib/python3.6/site-packages/birdy/client/base.py\u001b[0m in \u001b[0;36m_build_inputs\u001b[0;34m(self, pid, **kwargs)\u001b[0m\n\u001b[1;32m    251\u001b[0m \u001b[0;34m\u001b[0m\u001b[0m\n\u001b[1;32m    252\u001b[0m                     \u001b[0;31m# Guess the mimetype of the input value\u001b[0m\u001b[0;34m\u001b[0m\u001b[0;34m\u001b[0m\u001b[0;34m\u001b[0m\u001b[0m\n\u001b[0;32m--> 253\u001b[0;31m                     \u001b[0mmimetype\u001b[0m\u001b[0;34m,\u001b[0m \u001b[0mencoding\u001b[0m \u001b[0;34m=\u001b[0m \u001b[0mguess_type\u001b[0m\u001b[0;34m(\u001b[0m\u001b[0mvalue\u001b[0m\u001b[0;34m,\u001b[0m \u001b[0msupported_mimetypes\u001b[0m\u001b[0;34m)\u001b[0m\u001b[0;34m\u001b[0m\u001b[0;34m\u001b[0m\u001b[0m\n\u001b[0m\u001b[1;32m    254\u001b[0m \u001b[0;34m\u001b[0m\u001b[0m\n\u001b[1;32m    255\u001b[0m                     \u001b[0;32mif\u001b[0m \u001b[0mencoding\u001b[0m \u001b[0;32mis\u001b[0m \u001b[0;32mNone\u001b[0m\u001b[0;34m:\u001b[0m\u001b[0;34m\u001b[0m\u001b[0;34m\u001b[0m\u001b[0m\n",
      "\u001b[0;32m~/miniconda3/envs/raven/lib/python3.6/site-packages/birdy/utils.py\u001b[0m in \u001b[0;36mguess_type\u001b[0;34m(url, supported)\u001b[0m\n\u001b[1;32m    167\u001b[0m     \u001b[0;32melse\u001b[0m\u001b[0;34m:\u001b[0m\u001b[0;34m\u001b[0m\u001b[0;34m\u001b[0m\u001b[0m\n\u001b[1;32m    168\u001b[0m         \u001b[0;32mif\u001b[0m \u001b[0mmime\u001b[0m \u001b[0;32mnot\u001b[0m \u001b[0;32min\u001b[0m \u001b[0msupported\u001b[0m\u001b[0;34m:\u001b[0m\u001b[0;34m\u001b[0m\u001b[0;34m\u001b[0m\u001b[0m\n\u001b[0;32m--> 169\u001b[0;31m             \u001b[0;32mraise\u001b[0m \u001b[0mValueError\u001b[0m\u001b[0;34m(\u001b[0m\u001b[0;34mf\"mimetype {mime} not in supported mimetypes {supported}.\"\u001b[0m\u001b[0;34m)\u001b[0m\u001b[0;34m\u001b[0m\u001b[0;34m\u001b[0m\u001b[0m\n\u001b[0m\u001b[1;32m    170\u001b[0m \u001b[0;34m\u001b[0m\u001b[0m\n\u001b[1;32m    171\u001b[0m     \u001b[0;32mreturn\u001b[0m \u001b[0mmime\u001b[0m\u001b[0;34m,\u001b[0m \u001b[0menc\u001b[0m\u001b[0;34m\u001b[0m\u001b[0;34m\u001b[0m\u001b[0m\n",
      "\u001b[0;31mValueError\u001b[0m: mimetype application/geo+json not in supported mimetypes ['application/vnd.geo+json', 'application/gml+xml', 'application/json', 'application/x-zipped-shp']."
     ]
    }
   ],
   "source": [
    "# Use the geoserver to extract the land cover over the appropriate bounding box (automatic)\n",
    "resp = wps.nalcms_zonal_stats(shape=feature_url, select_all_touching=True, band=1, simple_categories=True)"
   ]
  },
  {
   "cell_type": "code",
   "execution_count": null,
   "metadata": {},
   "outputs": [],
   "source": [
    "# Note that geojson needs to be installed for this to work. \n",
    "# $ pip install -r requirements_extra.txt\n",
    "features, statistics  = resp.get(asobj=True)\n",
    "print(features[0]['properties'], '\\n\\n')\n",
    "print(statistics)"
   ]
  },
  {
   "cell_type": "code",
   "execution_count": null,
   "metadata": {},
   "outputs": [],
   "source": [
    "features"
   ]
  },
  {
   "cell_type": "markdown",
   "metadata": {},
   "source": [
    "We now have the statistics from the NALCMS zonal_stats toolbox regarding the land use, from which we calculate the ratio of each land-use component."
   ]
  },
  {
   "cell_type": "code",
   "execution_count": null,
   "metadata": {},
   "outputs": [],
   "source": [
    "# total = sum(lu.values())\n",
    "lu = statistics[0]\n",
    "total = sum(lu.values())\n",
    "\n",
    "landUse = {k: (v / total) for (k,v) in lu.items()}\n",
    "landUse"
   ]
  },
  {
   "cell_type": "markdown",
   "metadata": {},
   "source": [
    "The next step will be to collect terrain data, such as elevation, slope and aspect. We will do this using the `terrain_analysis` WPS service:"
   ]
  },
  {
   "cell_type": "code",
   "execution_count": null,
   "metadata": {},
   "outputs": [],
   "source": [
    "resp = wps.terrain_analysis(shape=feature_url, select_all_touching=True, projected_crs=3978)"
   ]
  },
  {
   "cell_type": "markdown",
   "metadata": {},
   "source": [
    "Now let's extract the properties from the WPS response. Use `asobj=True` to have Birdy preprocess the data and return the data directly."
   ]
  },
  {
   "cell_type": "code",
   "execution_count": null,
   "metadata": {},
   "outputs": [],
   "source": [
    "properties, dem = resp.get(asobj=True)\n",
    "\n",
    "elevation=properties[0]['elevation']\n",
    "slope=properties[0]['slope']\n",
    "aspect=properties[0]['aspect']\n",
    "\n",
    "terrain_data={'elevation':elevation, 'slope':slope,'aspect':aspect}"
   ]
  },
  {
   "cell_type": "markdown",
   "metadata": {},
   "source": [
    "Finally, display all the extracted parameters for the user:"
   ]
  },
  {
   "cell_type": "code",
   "execution_count": null,
   "metadata": {},
   "outputs": [],
   "source": [
    "all_properties={**shapeProperties, **landUse, **terrain_data}\n",
    "print(all_properties)"
   ]
  },
  {
   "cell_type": "markdown",
   "metadata": {},
   "source": [
    "Note here that while the feature outline is defined above in terms of geographic coordinates (latitude, longitude), the DEM is projected onto a 2D cartesion coordinate system (here NAD83, the Canada Atlas Lambert projection). This is necessary to perform slope calculations. \n",
    "\n",
    "For more information on this, see: https://en.wikipedia.org/wiki/Map_projection"
   ]
  },
  {
   "cell_type": "code",
   "execution_count": null,
   "metadata": {},
   "outputs": [],
   "source": [
    "# NBVAL_SKIP\n",
    "import cartopy.crs as ccrs\n",
    "import rasterio\n",
    "from rasterio.plot import show\n",
    "import xarray as xr\n",
    "import rasterio\n",
    "from rasterio.io import MemoryFile\n",
    "\n",
    "with MemoryFile(dem) as mem:\n",
    "    with mem.open(driver='gtiff') as src:\n",
    "        crs = ccrs.LambertConformal(central_latitude=49, central_longitude=-95, standard_parallels=(49, 77))\n",
    "        da = xr.open_rasterio(src)\n",
    "        da.name = 'Elevation'\n",
    "        da.attrs['units'] = 'm'\n",
    "        ax = plt.subplot(projection=crs)\n",
    "        da.where(da!=-32768).sel(band=1).plot.imshow(ax=ax, transform=crs)\n",
    "        plt.show()"
   ]
  }
 ],
 "metadata": {
  "kernelspec": {
   "display_name": "Python 3",
   "language": "python",
   "name": "python3"
  },
  "language_info": {
   "codemirror_mode": {
    "name": "ipython",
    "version": 3
   },
   "file_extension": ".py",
   "mimetype": "text/x-python",
   "name": "python",
   "nbconvert_exporter": "python",
   "pygments_lexer": "ipython3",
   "version": "3.6.10"
  }
 },
 "nbformat": 4,
 "nbformat_minor": 1
}
