{
 "cells": [
  {
   "cell_type": "markdown",
   "metadata": {},
   "source": [
    "# Complete workflow to get info from GIS tools for hydrological modelling\n",
    "\n",
    "Here we use birdy's WPS client to perform a catchment delineation, use the delineation to extract physical properties and prepare data for hydrological modelling, all using the Raven server."
   ]
  },
  {
   "cell_type": "code",
   "execution_count": 5,
   "metadata": {},
   "outputs": [],
   "source": [
    "from birdy import WPSClient\n",
    "\n",
    "from example_data import TESTDATA\n",
    "import datetime as dt\n",
    "from urllib.request import urlretrieve\n",
    "import xarray as xr\n",
    "import numpy as np\n",
    "from matplotlib import pyplot as plt\n",
    "\n",
    "url = \"http://localhost:9099/wps\"\n",
    "wps = WPSClient(url, progress=True)"
   ]
  },
  {
   "cell_type": "code",
   "execution_count": 6,
   "metadata": {},
   "outputs": [
    {
     "data": {
      "application/vnd.jupyter.widget-view+json": {
       "model_id": "efc0288b92264367b9898b6073ee3a0f",
       "version_major": 2,
       "version_minor": 0
      },
      "text/plain": [
       "HBox(children=(IntProgress(value=0, bar_style='info', description='Processing:'), Button(button_style='danger'…"
      ]
     },
     "metadata": {},
     "output_type": "display_data"
    }
   ],
   "source": [
    "# MANIC: lonlat_coordinate=\"(-68.724444, 50.646667)\"\n",
    "r_select = wps.shape_selection(location=\"-75.724444, 44.646667\",lakes=True, aggregate_upstream=True)"
   ]
  },
  {
   "cell_type": "markdown",
   "metadata": {},
   "source": [
    "The `location` parameter identifies the outlet of the watershed, and `aggregate_upstream` determines whether or not we want the service to return all upstream basins. "
   ]
  },
  {
   "cell_type": "code",
   "execution_count": 7,
   "metadata": {},
   "outputs": [],
   "source": [
    "# Get JSON Polygons of the delineated catchment\n",
    "[features, upstream_basins] = r_select.get(asobj=True)\n",
    "feature = features['features'][0] # TODO: Fix this server-side"
   ]
  },
  {
   "cell_type": "markdown",
   "metadata": {},
   "source": [
    "Now that we have delineated a catchment, lets find the zonal statistics and other properties of the catchment."
   ]
  },
  {
   "cell_type": "code",
   "execution_count": 8,
   "metadata": {},
   "outputs": [
    {
     "data": {
      "image/png": "[encoded data removed]",
      "text/plain": [
       "<Figure size 432x288 with 1 Axes>"
      ]
     },
     "metadata": {
      "needs_background": "light"
     },
     "output_type": "display_data"
    }
   ],
   "source": [
    "from descartes import PolygonPatch\n",
    "import matplotlib.pyplot as plt \n",
    "\n",
    "BLUE = '#6699cc'\n",
    "fig = plt.figure() \n",
    "ax = fig.gca() \n",
    "ax.add_patch(PolygonPatch(feature['geometry'], fc=BLUE, ec=BLUE, alpha=0.5, zorder=2 ))\n",
    "ax.axis('scaled')\n",
    "plt.show()\n"
   ]
  },
  {
   "cell_type": "code",
   "execution_count": 9,
   "metadata": {},
   "outputs": [
    {
     "data": {
      "application/vnd.jupyter.widget-view+json": {
       "model_id": "e79da7d847ed4a6882da23ed186a181e",
       "version_major": 2,
       "version_minor": 0
      },
      "text/plain": [
       "HBox(children=(IntProgress(value=0, bar_style='info', description='Processing:'), Button(button_style='danger'…"
      ]
     },
     "metadata": {},
     "output_type": "display_data"
    }
   ],
   "source": [
    "# Here we are using the geojson file created on the server in the last step as the input value to a process \n",
    "# computing watershed properties. \n",
    "#crs=4326\n",
    "#projected_crs=32198\n",
    "[features, upstream_basins] = r_select.get()\n",
    "resp = wps.shape_properties(shape=features)"
   ]
  },
  {
   "cell_type": "code",
   "execution_count": 10,
   "metadata": {},
   "outputs": [
    {
     "name": "stdout",
     "output_type": "stream",
     "text": [
      "[{'id': '7120034520', 'COAST': 0, 'DIST_MAIN': 500.1, 'DIST_SINK': 500.1, 'ENDO': 0, 'HYBAS_ID': 7121021261, 'LAKE': 1209, 'NEXT_DOWN': 7120421412, 'NEXT_SINK': 7120034520, 'ORDER': 1, 'PFAF_ID': 725510701200, 'SIDE': 'L', 'SORT': 99271, 'SUB_AREA': 766237.7, 'UP_AREA': 766270.4, 'area': 772095248092.3353, 'centroid': [-84.31996604288439, 45.16993914390546], 'perimeter': 9807568.183716247, 'gravelius': 3.148625180402048}]\n"
     ]
    }
   ],
   "source": [
    "[properties]=resp.get(asobj=True)\n",
    "print(properties)"
   ]
  },
  {
   "cell_type": "markdown",
   "metadata": {},
   "source": [
    "# Properties seem off: SUPERFICIE does not seem to coincide with \"area\". Which is right?\n",
    "\n",
    "area probably, as long as the projection is ok. In this case, I think the aggregation of upstream basins did not do the sum of the individual basins, so we get the area of the most downstream one. "
   ]
  },
  {
   "cell_type": "markdown",
   "metadata": {},
   "source": [
    "## Now, Let's extract Zonal Stats. Again, can't use the asobj=true, so we use False and then I am stuck with the  problem that the results are behind a link I can't seem to access.\n",
    "\n",
    "Yeah, same problem server-side... "
   ]
  },
  {
   "cell_type": "code",
   "execution_count": 95,
   "metadata": {},
   "outputs": [],
   "source": [
    "return_geojson=False\n",
    "\n",
    "\n",
    "\n",
    "# This should be a GeoServer link to the full raster\n",
    "raster=TESTDATA['earthenv_dem_90m']\n",
    "\n",
    "resp = wps.zonal_stats(features, str(raster), select_all_touching=True,return_geojson=return_geojson,)\n",
    "\n",
    "statistics=resp.get(asobj=False)"
   ]
  },
  {
   "cell_type": "code",
   "execution_count": 99,
   "metadata": {},
   "outputs": [
    {
     "name": "stdout",
     "output_type": "stream",
     "text": [
      "http://localhost:9099/outputs/8e6efd40-5034-11e9-9c84-b8ca3a8f5177/input.json\n"
     ]
    }
   ],
   "source": [
    "print(statistics[0])"
   ]
  },
  {
   "cell_type": "markdown",
   "metadata": {},
   "source": [
    "# NEED TO ADD LAND COVER AND SLOPE EXTRACTIONS, BUT THIS IS A GOOD START!"
   ]
  },
  {
   "cell_type": "code",
   "execution_count": null,
   "metadata": {},
   "outputs": [],
   "source": []
  }
 ],
 "metadata": {
  "kernelspec": {
   "display_name": "Python 3",
   "language": "python",
   "name": "python3"
  },
  "language_info": {
   "codemirror_mode": {
    "name": "ipython",
    "version": 3
   },
   "file_extension": ".py",
   "mimetype": "text/x-python",
   "name": "python",
   "nbconvert_exporter": "python",
   "pygments_lexer": "ipython3",
   "version": "3.6.3"
  }
 },
 "nbformat": 4,
 "nbformat_minor": 1
}
