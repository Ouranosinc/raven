{
 "cells": [
  {
   "cell_type": "markdown",
   "metadata": {},
   "source": [
    "# Calling HBV-EC on the Raven server\n",
    "\n",
    "Here we use birdy's WPS client to launch the HBV-EC hydrological model on the server and analyze the output. "
   ]
  },
  {
   "cell_type": "code",
   "execution_count": 1,
   "metadata": {},
   "outputs": [],
   "source": [
    "from birdy import WPSClient\n",
    "\n",
    "from example_data import TESTDATA\n",
    "import datetime as dt\n",
    "from urllib.request import urlretrieve\n",
    "import xarray as xr\n",
    "import numpy as np\n",
    "from matplotlib import pyplot as plt\n",
    "import os\n",
    "\n",
    "# Set environment variable RAVEN_WPS_URL to \"http://localhost:9099\" to run on the default local server\n",
    "url = os.environ.get(\"RAVEN_WPS_URL\", \"https://pavics.ouranos.ca/twitcher/ows/proxy/raven/wps\")\n",
    "wps = WPSClient(url)"
   ]
  },
  {
   "cell_type": "code",
   "execution_count": 2,
   "metadata": {},
   "outputs": [],
   "source": [
    "# The model parameters. Can either be a string of comma separated values, a list, an array or a named tuple. \n",
    "params = '0.05984519, 4.072232, 2.001574, 0.03473693, 0.09985144, 0.5060520, 3.438486, 38.32455, ' \\\n",
    "                 '0.4606565, 0.06303738, 2.277781, 4.873686, 0.5718813, 0.04505643, 0.877607, 18.94145,  ' \\\n",
    "                 '2.036937, 0.4452843, 0.6771759, 1.141608, 1.024278'\n",
    "\n",
    "# Forcing files\n",
    "ts=TESTDATA['raven-hbv-ec-nc-ts']\n",
    "\n",
    "# Model configuration parameters\n",
    "config = dict(\n",
    "    start_date=dt.datetime(2000, 1, 1),\n",
    "    end_date=dt.datetime(2002, 1, 1),\n",
    "    area=4250.6,\n",
    "    elevation=843.0,\n",
    "    latitude=54.4848,\n",
    "    longitude=-123.3659,\n",
    "    )\n",
    "\n",
    "# Let's call the model with the timeseries, model parameters and other configuration parameters\n",
    "resp = wps.raven_hbv_ec(ts=str(ts), params=params, **config)\n",
    "\n",
    "# And get the response\n",
    "# With `asobj` set to False, only the reference to the output is returned in the response. \n",
    "# Setting `asobj` to True will retrieve the actual files and copy the locally. \n",
    "[hydrograph, storage, solution, diagnostics] = resp.get(asobj=True)"
   ]
  },
  {
   "cell_type": "markdown",
   "metadata": {},
   "source": [
    "Since we requested output objects, we can simply access the output objects. The dianostics is just a CSV file: "
   ]
  },
  {
   "cell_type": "code",
   "execution_count": 3,
   "metadata": {},
   "outputs": [
    {
     "name": "stdout",
     "output_type": "stream",
     "text": [
      "observed data series,filename,DIAG_NASH_SUTCLIFFE,DIAG_RMSE,\n",
      "HYDROGRAPH,/tmp/pywps_process_5s8wml7k/Salmon-River-Near-Prince-George_meteo_daily.nc,-0.075407,37.231,\n",
      "\n"
     ]
    }
   ],
   "source": [
    "print(diagnostics)"
   ]
  },
  {
   "cell_type": "markdown",
   "metadata": {},
   "source": [
    "The `hydrograph` and `storage` outputs are netCDF files storing the time series. These files are opened by default using `xarray`, which provides convenient and powerful time series analysis and plotting tools. "
   ]
  },
  {
   "cell_type": "code",
   "execution_count": 4,
   "metadata": {},
   "outputs": [
    {
     "data": {
      "text/plain": [
       "<xarray.DataArray 'q_sim' (time: 732, nbasins: 1)>\n",
       "array([[1.      ],\n",
       "       [0.768899],\n",
       "       [0.928763],\n",
       "       ...,\n",
       "       [0.      ],\n",
       "       [0.      ],\n",
       "       [0.      ]])\n",
       "Coordinates:\n",
       "  * time        (time) datetime64[ns] 2000-01-01 2000-01-02 ... 2002-01-01\n",
       "    basin_name  (nbasins) object ...\n",
       "Dimensions without coordinates: nbasins\n",
       "Attributes:\n",
       "    units:      m**3 s**-1\n",
       "    long_name:  Simulated outflows"
      ]
     },
     "execution_count": 4,
     "metadata": {},
     "output_type": "execute_result"
    }
   ],
   "source": [
    "hydrograph.q_sim"
   ]
  },
  {
   "cell_type": "code",
   "execution_count": 5,
   "metadata": {},
   "outputs": [
    {
     "data": {
      "text/plain": [
       "[<matplotlib.lines.Line2D at 0x7ff6109092b0>]"
      ]
     },
     "execution_count": 5,
     "metadata": {},
     "output_type": "execute_result"
    },
    {
     "data": {
      "image/png": "[encoded data removed]",
      "text/plain": [
       "<Figure size 432x288 with 1 Axes>"
      ]
     },
     "metadata": {
      "needs_background": "light"
     },
     "output_type": "display_data"
    }
   ],
   "source": [
    "from pandas.plotting import register_matplotlib_converters\n",
    "register_matplotlib_converters()\n",
    "\n",
    "hydrograph.q_sim.plot()"
   ]
  },
  {
   "cell_type": "code",
   "execution_count": 6,
   "metadata": {},
   "outputs": [
    {
     "name": "stdout",
     "output_type": "stream",
     "text": [
      "Max:  <xarray.DataArray 'q_sim' ()>\n",
      "array(124.86333084)\n",
      "Mean:  <xarray.DataArray 'q_sim' ()>\n",
      "array(6.54508271)\n",
      "Monthly means:  <xarray.DataArray 'q_sim' (month: 12, nbasins: 1)>\n",
      "array([[ 1.19363324],\n",
      "       [ 0.05415771],\n",
      "       [ 4.18564509],\n",
      "       [28.76080213],\n",
      "       [20.22635228],\n",
      "       [ 2.7529817 ],\n",
      "       [ 0.36849142],\n",
      "       [ 0.03634777],\n",
      "       [ 0.        ],\n",
      "       [ 1.09206023],\n",
      "       [16.62483913],\n",
      "       [ 3.51686589]])\n",
      "Coordinates:\n",
      "    basin_name  (nbasins) object ...\n",
      "  * month       (month) int64 1 2 3 4 5 6 7 8 9 10 11 12\n",
      "Dimensions without coordinates: nbasins\n"
     ]
    }
   ],
   "source": [
    "print(\"Max: \", hydrograph.q_sim.max())\n",
    "print(\"Mean: \", hydrograph.q_sim.mean())\n",
    "print(\"Monthly means: \", hydrograph.q_sim.groupby('time.month').mean(dim='time'))"
   ]
  }
 ],
 "metadata": {
  "kernelspec": {
   "display_name": "Python 3",
   "language": "python",
   "name": "python3"
  },
  "language_info": {
   "codemirror_mode": {
    "name": "ipython",
    "version": 3
   },
   "file_extension": ".py",
   "mimetype": "text/x-python",
   "name": "python",
   "nbconvert_exporter": "python",
   "pygments_lexer": "ipython3",
   "version": "3.6.7"
  }
 },
 "nbformat": 4,
 "nbformat_minor": 1
}
