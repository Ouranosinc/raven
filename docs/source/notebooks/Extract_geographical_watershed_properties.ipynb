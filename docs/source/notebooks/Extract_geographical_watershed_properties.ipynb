{
 "cells": [
  {
   "cell_type": "markdown",
   "metadata": {},
   "source": [
    "# Extract geographical watershed properties\n",
    "\n",
    "Hydrological model typically need geographical information about watersheds being simulated: latitude and longitude, area, mean altitude, land-use, etc. This notebook shows how to obtain this information using remote services. These services connect to a digital elevation model (DEM) and a land-use data set to extract relevant information.\n",
    "\n",
    "The DEM used in the following is the [EarthEnv-DEM90](https://www.earthenv.org/DEM), while the land-use dataset is the [North American Land Change Monitoring System](http://www.cec.org/tools-and-resources/north-american-environmental-atlas/north-american-land-change-monitoring-system). Other data sources could be used, given their availability through the Web Coverage Service (WCS) protocol.\n"
   ]
  },
  {
   "cell_type": "code",
   "execution_count": 1,
   "metadata": {},
   "outputs": [],
   "source": [
    "import json\n",
    "import os\n",
    "from zipfile import ZipFile\n",
    "\n",
    "from birdy import WPSClient\n",
    "import geopandas as gpd\n",
    "import matplotlib.pyplot as plt\n",
    "import numpy\n",
    "import rasterio\n",
    "import rioxarray as rio\n",
    "import xarray as xr\n",
    "\n",
    "# Set environment variable WPS_URL to \"http://localhost:9099\" to run on the default local server\n",
    "url = os.environ.get(\"WPS_URL\", \"https://pavics.ouranos.ca/twitcher/ows/proxy/raven/wps\")\n",
    "\n",
    "# Connect to the PAVICS-Hydro Raven WPS server\n",
    "wps = WPSClient(url)"
   ]
  },
  {
   "cell_type": "markdown",
   "metadata": {},
   "source": [
    "## Watershed contour\n",
    "\n",
    "We first extract the watershed contour for the point of interest. The process looks into the HydroSheds database to finds the watershed enclosing the given location. The `location` parameter identifies the outlet of the watershed, and `aggregate_upstream` determines whether or not we want the service to return the union of all upstream basins. Here we set it to `False` to reduce the size of the basin and speed-up computations.\n",
    "\n",
    "The output of the `hydrosheds-select` process is a GeoJSON file."
   ]
  },
  {
   "cell_type": "code",
   "execution_count": 2,
   "metadata": {},
   "outputs": [],
   "source": [
    "select_resp = wps.hydrobasins_select(location=\"-71.291660, 50.492758\", aggregate_upstream=False)"
   ]
  },
  {
   "cell_type": "code",
   "execution_count": 3,
   "metadata": {},
   "outputs": [],
   "source": [
    "# Get GeoJSON polygon of the delineated catchment.\n",
    "# We can either get links to the files stored on the server, or get the data directly. \n",
    "# This requires updated Birdy with geojson converters\n",
    "feature_url, upstream_basins_url = select_resp.get(asobj=False)\n",
    "feature, upstream_basins = select_resp.get(asobj=True)"
   ]
  },
  {
   "cell_type": "markdown",
   "metadata": {},
   "source": [
    "We can now plot the outline of the watershed by loading it into `GeoPandas`."
   ]
  },
  {
   "cell_type": "code",
   "execution_count": 4,
   "metadata": {},
   "outputs": [
    {
     "data": {
      "text/html": [
       "<div>\n",
       "<style scoped>\n",
       "    .dataframe tbody tr th:only-of-type {\n",
       "        vertical-align: middle;\n",
       "    }\n",
       "\n",
       "    .dataframe tbody tr th {\n",
       "        vertical-align: top;\n",
       "    }\n",
       "\n",
       "    .dataframe thead th {\n",
       "        text-align: right;\n",
       "    }\n",
       "</style>\n",
       "<table border=\"1\" class=\"dataframe\">\n",
       "  <thead>\n",
       "    <tr style=\"text-align: right;\">\n",
       "      <th></th>\n",
       "      <th>COAST</th>\n",
       "      <th>DIST_MAIN</th>\n",
       "      <th>DIST_SINK</th>\n",
       "      <th>ENDO</th>\n",
       "      <th>HYBAS_ID</th>\n",
       "      <th>LAKE</th>\n",
       "      <th>MAIN_BAS</th>\n",
       "      <th>NEXT_DOWN</th>\n",
       "      <th>NEXT_SINK</th>\n",
       "      <th>ORDER</th>\n",
       "      <th>PFAF_ID</th>\n",
       "      <th>SIDE</th>\n",
       "      <th>SORT</th>\n",
       "      <th>SUB_AREA</th>\n",
       "      <th>UP_AREA</th>\n",
       "      <th>id</th>\n",
       "      <th>geometry</th>\n",
       "    </tr>\n",
       "  </thead>\n",
       "  <tbody>\n",
       "    <tr>\n",
       "      <th>0</th>\n",
       "      <td>0</td>\n",
       "      <td>490.9</td>\n",
       "      <td>490.9</td>\n",
       "      <td>0</td>\n",
       "      <td>7120270182</td>\n",
       "      <td>0</td>\n",
       "      <td>7120034330</td>\n",
       "      <td>7120270181</td>\n",
       "      <td>7120034330</td>\n",
       "      <td>1</td>\n",
       "      <td>724089370000</td>\n",
       "      <td>R</td>\n",
       "      <td>96929</td>\n",
       "      <td>29</td>\n",
       "      <td>9419.6</td>\n",
       "      <td>USGS_HydroBASINS_lake_na_lev12.96929</td>\n",
       "      <td>MULTIPOLYGON (((-71.35920 50.41960, -71.36210 ...</td>\n",
       "    </tr>\n",
       "  </tbody>\n",
       "</table>\n",
       "</div>"
      ],
      "text/plain": [
       "   COAST  DIST_MAIN  DIST_SINK  ENDO    HYBAS_ID  LAKE    MAIN_BAS  \\\n",
       "0      0      490.9      490.9     0  7120270182     0  7120034330   \n",
       "\n",
       "    NEXT_DOWN   NEXT_SINK  ORDER       PFAF_ID SIDE   SORT  SUB_AREA  UP_AREA  \\\n",
       "0  7120270181  7120034330      1  724089370000    R  96929        29   9419.6   \n",
       "\n",
       "                                     id  \\\n",
       "0  USGS_HydroBASINS_lake_na_lev12.96929   \n",
       "\n",
       "                                            geometry  \n",
       "0  MULTIPOLYGON (((-71.35920 50.41960, -71.36210 ...  "
      ]
     },
     "metadata": {},
     "output_type": "display_data"
    },
    {
     "data": {
      "text/plain": [
       "<AxesSubplot:>"
      ]
     },
     "execution_count": 4,
     "metadata": {},
     "output_type": "execute_result"
    },
    {
     "data": {
      "image/png": "[encoded data removed]",
      "text/plain": [
       "<Figure size 432x288 with 1 Axes>"
      ]
     },
     "metadata": {
      "needs_background": "light"
     },
     "output_type": "display_data"
    }
   ],
   "source": [
    "df = gpd.read_file(feature_url)\n",
    "display(df)\n",
    "df.plot()"
   ]
  },
  {
   "cell_type": "markdown",
   "metadata": {},
   "source": [
    "## Generic watershed properties\n",
    "\n",
    "Now that we have delineated a watershed, lets find the zonal statistics and other properties using the `shape_properties` process. This process requires a `shape` argument defining the watershed contour, the exterior polygon. The polygon can be given either as a link to a geometry file  (e.g. a geojson file such as `feature_url`), or as data embeded in a string. For example, if variable `feature` is a geopandas geometry, `json.dumps(feature)` can be used to convert it to a string and pass it as the `shape` argument."
   ]
  },
  {
   "cell_type": "code",
   "execution_count": 5,
   "metadata": {},
   "outputs": [],
   "source": [
    "shape_resp = wps.shape_properties(shape=feature_url)"
   ]
  },
  {
   "cell_type": "markdown",
   "metadata": {},
   "source": [
    "Once the process has completed, we extract the data from the response:"
   ]
  },
  {
   "cell_type": "code",
   "execution_count": 6,
   "metadata": {},
   "outputs": [
    {
     "data": {
      "text/plain": [
       "{'id': 'USGS_HydroBASINS_lake_na_lev12.96929',\n",
       " 'COAST': 0,\n",
       " 'DIST_MAIN': 490.9,\n",
       " 'DIST_SINK': 490.9,\n",
       " 'ENDO': 0,\n",
       " 'HYBAS_ID': 7120270182,\n",
       " 'LAKE': 0,\n",
       " 'MAIN_BAS': 7120034330,\n",
       " 'NEXT_DOWN': 7120270181,\n",
       " 'NEXT_SINK': 7120034330,\n",
       " 'ORDER': 1,\n",
       " 'PFAF_ID': 724089370000,\n",
       " 'SIDE': 'R',\n",
       " 'SORT': 96929,\n",
       " 'SUB_AREA': 29,\n",
       " 'UP_AREA': 9419.6,\n",
       " 'area': 28764849.46504176,\n",
       " 'centroid': [-71.3409808346398, 50.478880424555875],\n",
       " 'perimeter': 33017.42666655582,\n",
       " 'gravelius': 1.7366297521025682}"
      ]
     },
     "metadata": {},
     "output_type": "display_data"
    },
    {
     "data": {
      "text/plain": [
       "{'area': 28.76484946504176,\n",
       " 'longitude': -71.3409808346398,\n",
       " 'latitude': 50.478880424555875,\n",
       " 'gravelius': 1.7366297521025682,\n",
       " 'perimeter': 33017.42666655582}"
      ]
     },
     "metadata": {},
     "output_type": "display_data"
    }
   ],
   "source": [
    "[properties, ] = shape_resp.get(asobj=True)\n",
    "prop = properties[0]\n",
    "display(prop)\n",
    "\n",
    "area = prop['area']/1000000.0\n",
    "longitude = prop['centroid'][0]\n",
    "latitude = prop['centroid'][1]\n",
    "gravelius = prop['gravelius']\n",
    "perimeter = prop['perimeter']\n",
    "\n",
    "shape_info = {'area':area, 'longitude':longitude, 'latitude':latitude, 'gravelius':gravelius, 'perimeter':perimeter}\n",
    "display(shape_info)"
   ]
  },
  {
   "cell_type": "markdown",
   "metadata": {},
   "source": [
    "Note that these properties are a mix of the properties of the original file where the shape is stored, and properties computed by the process (area, centroid, perimeter and gravelius). Note also that the computed area is in m², while the \"SUB_AREA\" property is in km², and that there are slight differences between the two values.\n",
    "\n",
    "## Land-use information\n",
    "\n",
    "Now we extract the land-use properties of the watershed using the `nalcms_zonal_stats` process. As mentionned, it uses the [North American Land Change Monitoring System](http://www.cec.org/tools-and-resources/north-american-environmental-atlas/north-american-land-change-monitoring-system) dataset, and retrieve properties over the given region.\n",
    "\n",
    "With the `nalcms_zonal_stats_raster` process, we also return the grid with variable accessors (`gdal`, `rasterio`, or `rioxarray`) depending on what libraries are available in our runtime environment (The following examples show `rioxarray`-like access)."
   ]
  },
  {
   "cell_type": "code",
   "execution_count": 7,
   "metadata": {},
   "outputs": [],
   "source": [
    "stats_resp = wps.nalcms_zonal_stats_raster(shape=feature_url, select_all_touching=True, band=1, simple_categories=True)"
   ]
  },
  {
   "cell_type": "code",
   "execution_count": 8,
   "metadata": {},
   "outputs": [
    {
     "name": "stdout",
     "output_type": "stream",
     "text": [
      "Metalink content-type detected.\n",
      "Downloading to /tmp/tmpgaq8cwdj/subset_1.tiff.\n"
     ]
    },
    {
     "data": {
      "text/plain": [
       "<matplotlib.collections.QuadMesh at 0x7f38f2045ee0>"
      ]
     },
     "execution_count": 8,
     "metadata": {},
     "output_type": "execute_result"
    },
    {
     "data": {
      "image/png": "[encoded data removed]",
      "text/plain": [
       "<Figure size 432x288 with 2 Axes>"
      ]
     },
     "metadata": {
      "needs_background": "light"
     },
     "output_type": "display_data"
    }
   ],
   "source": [
    "# Note that geojson, and rasterio/rioxarray need to be installed for this to work. \n",
    "# In the next birdy release, the tiff grid will be automatically converted to a DataArray.\n",
    "# Here we need to manually convert it. \n",
    "features, statistics, grid  = stats_resp.get(asobj=True)\n",
    "\n",
    "with rasterio.io.MemoryFile(grid[0]) as memfile:\n",
    "    with memfile.open() as dataset:\n",
    "        grid = rio.open_rasterio(dataset)\n",
    "\n",
    "grid.plot()"
   ]
  },
  {
   "cell_type": "markdown",
   "metadata": {},
   "source": [
    "From there, it's easy to calculate the ratio and percentages of each land-use component."
   ]
  },
  {
   "cell_type": "code",
   "execution_count": 9,
   "metadata": {},
   "outputs": [
    {
     "data": {
      "text/plain": [
       "'Land use ratios'"
      ]
     },
     "metadata": {},
     "output_type": "display_data"
    },
    {
     "data": {
      "text/plain": [
       "{'Ocean': 0.0,\n",
       " 'Forest': 0.5770231039071005,\n",
       " 'Shrubs': 0.3096346921495101,\n",
       " 'Grass': 0.014485303011975323,\n",
       " 'Wetland': 0.0006350550381033022,\n",
       " 'Crops': 0.0,\n",
       " 'Urban': 0.0,\n",
       " 'Water': 0.09822184589331075,\n",
       " 'SnowIce': 0.0}"
      ]
     },
     "metadata": {},
     "output_type": "display_data"
    },
    {
     "data": {
      "text/plain": [
       "'Land use percentages'"
      ]
     },
     "metadata": {},
     "output_type": "display_data"
    },
    {
     "data": {
      "text/plain": [
       "{'Ocean': '0.0 %',\n",
       " 'Forest': '57.7 %',\n",
       " 'Shrubs': '30.96 %',\n",
       " 'Grass': '1.44 %',\n",
       " 'Wetland': '0.06 %',\n",
       " 'Crops': '0.0 %',\n",
       " 'Urban': '0.0 %',\n",
       " 'Water': '9.82 %',\n",
       " 'SnowIce': '0.0 %'}"
      ]
     },
     "metadata": {},
     "output_type": "display_data"
    }
   ],
   "source": [
    "lu = statistics[0]\n",
    "total = sum(lu.values())\n",
    "\n",
    "land_use = {k: (v / total) for (k,v) in lu.items()}\n",
    "display(\"Land use ratios\", land_use)\n",
    "\n",
    "precision = 2\n",
    "land_use_pct = {k: \"{} %\".format(int((v / total) * 100 * 10**precision) / 10**precision)\n",
    "                for (k,v)  in lu.items()}\n",
    "display(\"Land use percentages\", land_use_pct)"
   ]
  },
  {
   "cell_type": "code",
   "execution_count": 10,
   "metadata": {},
   "outputs": [
    {
     "data": {
      "text/html": [
       "<div><svg style=\"position: absolute; width: 0; height: 0; overflow: hidden\">\n",
       "<defs>\n",
       "<symbol id=\"icon-database\" viewBox=\"0 0 32 32\">\n",
       "<path d=\"M16 0c-8.837 0-16 2.239-16 5v4c0 2.761 7.163 5 16 5s16-2.239 16-5v-4c0-2.761-7.163-5-16-5z\"></path>\n",
       "<path d=\"M16 17c-8.837 0-16-2.239-16-5v6c0 2.761 7.163 5 16 5s16-2.239 16-5v-6c0 2.761-7.163 5-16 5z\"></path>\n",
       "<path d=\"M16 26c-8.837 0-16-2.239-16-5v6c0 2.761 7.163 5 16 5s16-2.239 16-5v-6c0 2.761-7.163 5-16 5z\"></path>\n",
       "</symbol>\n",
       "<symbol id=\"icon-file-text2\" viewBox=\"0 0 32 32\">\n",
       "<path d=\"M28.681 7.159c-0.694-0.947-1.662-2.053-2.724-3.116s-2.169-2.030-3.116-2.724c-1.612-1.182-2.393-1.319-2.841-1.319h-15.5c-1.378 0-2.5 1.121-2.5 2.5v27c0 1.378 1.122 2.5 2.5 2.5h23c1.378 0 2.5-1.122 2.5-2.5v-19.5c0-0.448-0.137-1.23-1.319-2.841zM24.543 5.457c0.959 0.959 1.712 1.825 2.268 2.543h-4.811v-4.811c0.718 0.556 1.584 1.309 2.543 2.268zM28 29.5c0 0.271-0.229 0.5-0.5 0.5h-23c-0.271 0-0.5-0.229-0.5-0.5v-27c0-0.271 0.229-0.5 0.5-0.5 0 0 15.499-0 15.5 0v7c0 0.552 0.448 1 1 1h7v19.5z\"></path>\n",
       "<path d=\"M23 26h-14c-0.552 0-1-0.448-1-1s0.448-1 1-1h14c0.552 0 1 0.448 1 1s-0.448 1-1 1z\"></path>\n",
       "<path d=\"M23 22h-14c-0.552 0-1-0.448-1-1s0.448-1 1-1h14c0.552 0 1 0.448 1 1s-0.448 1-1 1z\"></path>\n",
       "<path d=\"M23 18h-14c-0.552 0-1-0.448-1-1s0.448-1 1-1h14c0.552 0 1 0.448 1 1s-0.448 1-1 1z\"></path>\n",
       "</symbol>\n",
       "</defs>\n",
       "</svg>\n",
       "<style>/* CSS stylesheet for displaying xarray objects in jupyterlab.\n",
       " *\n",
       " */\n",
       "\n",
       ":root {\n",
       "  --xr-font-color0: var(--jp-content-font-color0, rgba(0, 0, 0, 1));\n",
       "  --xr-font-color2: var(--jp-content-font-color2, rgba(0, 0, 0, 0.54));\n",
       "  --xr-font-color3: var(--jp-content-font-color3, rgba(0, 0, 0, 0.38));\n",
       "  --xr-border-color: var(--jp-border-color2, #e0e0e0);\n",
       "  --xr-disabled-color: var(--jp-layout-color3, #bdbdbd);\n",
       "  --xr-background-color: var(--jp-layout-color0, white);\n",
       "  --xr-background-color-row-even: var(--jp-layout-color1, white);\n",
       "  --xr-background-color-row-odd: var(--jp-layout-color2, #eeeeee);\n",
       "}\n",
       "\n",
       "html[theme=dark],\n",
       "body.vscode-dark {\n",
       "  --xr-font-color0: rgba(255, 255, 255, 1);\n",
       "  --xr-font-color2: rgba(255, 255, 255, 0.54);\n",
       "  --xr-font-color3: rgba(255, 255, 255, 0.38);\n",
       "  --xr-border-color: #1F1F1F;\n",
       "  --xr-disabled-color: #515151;\n",
       "  --xr-background-color: #111111;\n",
       "  --xr-background-color-row-even: #111111;\n",
       "  --xr-background-color-row-odd: #313131;\n",
       "}\n",
       "\n",
       ".xr-wrap {\n",
       "  display: block;\n",
       "  min-width: 300px;\n",
       "  max-width: 700px;\n",
       "}\n",
       "\n",
       ".xr-text-repr-fallback {\n",
       "  /* fallback to plain text repr when CSS is not injected (untrusted notebook) */\n",
       "  display: none;\n",
       "}\n",
       "\n",
       ".xr-header {\n",
       "  padding-top: 6px;\n",
       "  padding-bottom: 6px;\n",
       "  margin-bottom: 4px;\n",
       "  border-bottom: solid 1px var(--xr-border-color);\n",
       "}\n",
       "\n",
       ".xr-header > div,\n",
       ".xr-header > ul {\n",
       "  display: inline;\n",
       "  margin-top: 0;\n",
       "  margin-bottom: 0;\n",
       "}\n",
       "\n",
       ".xr-obj-type,\n",
       ".xr-array-name {\n",
       "  margin-left: 2px;\n",
       "  margin-right: 10px;\n",
       "}\n",
       "\n",
       ".xr-obj-type {\n",
       "  color: var(--xr-font-color2);\n",
       "}\n",
       "\n",
       ".xr-sections {\n",
       "  padding-left: 0 !important;\n",
       "  display: grid;\n",
       "  grid-template-columns: 150px auto auto 1fr 20px 20px;\n",
       "}\n",
       "\n",
       ".xr-section-item {\n",
       "  display: contents;\n",
       "}\n",
       "\n",
       ".xr-section-item input {\n",
       "  display: none;\n",
       "}\n",
       "\n",
       ".xr-section-item input + label {\n",
       "  color: var(--xr-disabled-color);\n",
       "}\n",
       "\n",
       ".xr-section-item input:enabled + label {\n",
       "  cursor: pointer;\n",
       "  color: var(--xr-font-color2);\n",
       "}\n",
       "\n",
       ".xr-section-item input:enabled + label:hover {\n",
       "  color: var(--xr-font-color0);\n",
       "}\n",
       "\n",
       ".xr-section-summary {\n",
       "  grid-column: 1;\n",
       "  color: var(--xr-font-color2);\n",
       "  font-weight: 500;\n",
       "}\n",
       "\n",
       ".xr-section-summary > span {\n",
       "  display: inline-block;\n",
       "  padding-left: 0.5em;\n",
       "}\n",
       "\n",
       ".xr-section-summary-in:disabled + label {\n",
       "  color: var(--xr-font-color2);\n",
       "}\n",
       "\n",
       ".xr-section-summary-in + label:before {\n",
       "  display: inline-block;\n",
       "  content: '►';\n",
       "  font-size: 11px;\n",
       "  width: 15px;\n",
       "  text-align: center;\n",
       "}\n",
       "\n",
       ".xr-section-summary-in:disabled + label:before {\n",
       "  color: var(--xr-disabled-color);\n",
       "}\n",
       "\n",
       ".xr-section-summary-in:checked + label:before {\n",
       "  content: '▼';\n",
       "}\n",
       "\n",
       ".xr-section-summary-in:checked + label > span {\n",
       "  display: none;\n",
       "}\n",
       "\n",
       ".xr-section-summary,\n",
       ".xr-section-inline-details {\n",
       "  padding-top: 4px;\n",
       "  padding-bottom: 4px;\n",
       "}\n",
       "\n",
       ".xr-section-inline-details {\n",
       "  grid-column: 2 / -1;\n",
       "}\n",
       "\n",
       ".xr-section-details {\n",
       "  display: none;\n",
       "  grid-column: 1 / -1;\n",
       "  margin-bottom: 5px;\n",
       "}\n",
       "\n",
       ".xr-section-summary-in:checked ~ .xr-section-details {\n",
       "  display: contents;\n",
       "}\n",
       "\n",
       ".xr-array-wrap {\n",
       "  grid-column: 1 / -1;\n",
       "  display: grid;\n",
       "  grid-template-columns: 20px auto;\n",
       "}\n",
       "\n",
       ".xr-array-wrap > label {\n",
       "  grid-column: 1;\n",
       "  vertical-align: top;\n",
       "}\n",
       "\n",
       ".xr-preview {\n",
       "  color: var(--xr-font-color3);\n",
       "}\n",
       "\n",
       ".xr-array-preview,\n",
       ".xr-array-data {\n",
       "  padding: 0 5px !important;\n",
       "  grid-column: 2;\n",
       "}\n",
       "\n",
       ".xr-array-data,\n",
       ".xr-array-in:checked ~ .xr-array-preview {\n",
       "  display: none;\n",
       "}\n",
       "\n",
       ".xr-array-in:checked ~ .xr-array-data,\n",
       ".xr-array-preview {\n",
       "  display: inline-block;\n",
       "}\n",
       "\n",
       ".xr-dim-list {\n",
       "  display: inline-block !important;\n",
       "  list-style: none;\n",
       "  padding: 0 !important;\n",
       "  margin: 0;\n",
       "}\n",
       "\n",
       ".xr-dim-list li {\n",
       "  display: inline-block;\n",
       "  padding: 0;\n",
       "  margin: 0;\n",
       "}\n",
       "\n",
       ".xr-dim-list:before {\n",
       "  content: '(';\n",
       "}\n",
       "\n",
       ".xr-dim-list:after {\n",
       "  content: ')';\n",
       "}\n",
       "\n",
       ".xr-dim-list li:not(:last-child):after {\n",
       "  content: ',';\n",
       "  padding-right: 5px;\n",
       "}\n",
       "\n",
       ".xr-has-index {\n",
       "  font-weight: bold;\n",
       "}\n",
       "\n",
       ".xr-var-list,\n",
       ".xr-var-item {\n",
       "  display: contents;\n",
       "}\n",
       "\n",
       ".xr-var-item > div,\n",
       ".xr-var-item label,\n",
       ".xr-var-item > .xr-var-name span {\n",
       "  background-color: var(--xr-background-color-row-even);\n",
       "  margin-bottom: 0;\n",
       "}\n",
       "\n",
       ".xr-var-item > .xr-var-name:hover span {\n",
       "  padding-right: 5px;\n",
       "}\n",
       "\n",
       ".xr-var-list > li:nth-child(odd) > div,\n",
       ".xr-var-list > li:nth-child(odd) > label,\n",
       ".xr-var-list > li:nth-child(odd) > .xr-var-name span {\n",
       "  background-color: var(--xr-background-color-row-odd);\n",
       "}\n",
       "\n",
       ".xr-var-name {\n",
       "  grid-column: 1;\n",
       "}\n",
       "\n",
       ".xr-var-dims {\n",
       "  grid-column: 2;\n",
       "}\n",
       "\n",
       ".xr-var-dtype {\n",
       "  grid-column: 3;\n",
       "  text-align: right;\n",
       "  color: var(--xr-font-color2);\n",
       "}\n",
       "\n",
       ".xr-var-preview {\n",
       "  grid-column: 4;\n",
       "}\n",
       "\n",
       ".xr-var-name,\n",
       ".xr-var-dims,\n",
       ".xr-var-dtype,\n",
       ".xr-preview,\n",
       ".xr-attrs dt {\n",
       "  white-space: nowrap;\n",
       "  overflow: hidden;\n",
       "  text-overflow: ellipsis;\n",
       "  padding-right: 10px;\n",
       "}\n",
       "\n",
       ".xr-var-name:hover,\n",
       ".xr-var-dims:hover,\n",
       ".xr-var-dtype:hover,\n",
       ".xr-attrs dt:hover {\n",
       "  overflow: visible;\n",
       "  width: auto;\n",
       "  z-index: 1;\n",
       "}\n",
       "\n",
       ".xr-var-attrs,\n",
       ".xr-var-data {\n",
       "  display: none;\n",
       "  background-color: var(--xr-background-color) !important;\n",
       "  padding-bottom: 5px !important;\n",
       "}\n",
       "\n",
       ".xr-var-attrs-in:checked ~ .xr-var-attrs,\n",
       ".xr-var-data-in:checked ~ .xr-var-data {\n",
       "  display: block;\n",
       "}\n",
       "\n",
       ".xr-var-data > table {\n",
       "  float: right;\n",
       "}\n",
       "\n",
       ".xr-var-name span,\n",
       ".xr-var-data,\n",
       ".xr-attrs {\n",
       "  padding-left: 25px !important;\n",
       "}\n",
       "\n",
       ".xr-attrs,\n",
       ".xr-var-attrs,\n",
       ".xr-var-data {\n",
       "  grid-column: 1 / -1;\n",
       "}\n",
       "\n",
       "dl.xr-attrs {\n",
       "  padding: 0;\n",
       "  margin: 0;\n",
       "  display: grid;\n",
       "  grid-template-columns: 125px auto;\n",
       "}\n",
       "\n",
       ".xr-attrs dt,\n",
       ".xr-attrs dd {\n",
       "  padding: 0;\n",
       "  margin: 0;\n",
       "  float: left;\n",
       "  padding-right: 10px;\n",
       "  width: auto;\n",
       "}\n",
       "\n",
       ".xr-attrs dt {\n",
       "  font-weight: normal;\n",
       "  grid-column: 1;\n",
       "}\n",
       "\n",
       ".xr-attrs dt:hover span {\n",
       "  display: inline-block;\n",
       "  background: var(--xr-background-color);\n",
       "  padding-right: 10px;\n",
       "}\n",
       "\n",
       ".xr-attrs dd {\n",
       "  grid-column: 2;\n",
       "  white-space: pre-wrap;\n",
       "  word-break: break-all;\n",
       "}\n",
       "\n",
       ".xr-icon-database,\n",
       ".xr-icon-file-text2 {\n",
       "  display: inline-block;\n",
       "  vertical-align: middle;\n",
       "  width: 1em;\n",
       "  height: 1.5em !important;\n",
       "  stroke-width: 0;\n",
       "  stroke: currentColor;\n",
       "  fill: currentColor;\n",
       "}\n",
       "</style><pre class='xr-text-repr-fallback'>&lt;xarray.DataArray (band: 1, y: 385, x: 204)&gt;\n",
       "array([[[127, 127, ..., 127, 127],\n",
       "        [127, 127, ..., 127, 127],\n",
       "        ...,\n",
       "        [127, 127, ..., 127, 127],\n",
       "        [127, 127, ..., 127, 127]]], dtype=uint8)\n",
       "Coordinates:\n",
       "  * band         (band) int64 1\n",
       "  * y            (y) float64 9.789e+05 9.789e+05 ... 9.674e+05 9.674e+05\n",
       "  * x            (x) float64 1.978e+06 1.978e+06 ... 1.984e+06 1.984e+06\n",
       "    spatial_ref  int64 0\n",
       "Attributes:\n",
       "    _FillValue:    127.0\n",
       "    scale_factor:  1.0\n",
       "    add_offset:    0.0\n",
       "    grid_mapping:  spatial_ref</pre><div class='xr-wrap' hidden><div class='xr-header'><div class='xr-obj-type'>xarray.DataArray</div><div class='xr-array-name'></div><ul class='xr-dim-list'><li><span class='xr-has-index'>band</span>: 1</li><li><span class='xr-has-index'>y</span>: 385</li><li><span class='xr-has-index'>x</span>: 204</li></ul></div><ul class='xr-sections'><li class='xr-section-item'><div class='xr-array-wrap'><input id='section-97e07a5d-5fc5-4078-acef-7fef1f1fa364' class='xr-array-in' type='checkbox' checked><label for='section-97e07a5d-5fc5-4078-acef-7fef1f1fa364' title='Show/hide data repr'><svg class='icon xr-icon-database'><use xlink:href='#icon-database'></use></svg></label><div class='xr-array-preview xr-preview'><span>127 127 127 127 127 127 127 127 ... 127 127 127 127 127 127 127 127</span></div><div class='xr-array-data'><pre>array([[[127, 127, ..., 127, 127],\n",
       "        [127, 127, ..., 127, 127],\n",
       "        ...,\n",
       "        [127, 127, ..., 127, 127],\n",
       "        [127, 127, ..., 127, 127]]], dtype=uint8)</pre></div></div></li><li class='xr-section-item'><input id='section-e9defe34-da81-4984-b084-e439d0aa31c2' class='xr-section-summary-in' type='checkbox'  checked><label for='section-e9defe34-da81-4984-b084-e439d0aa31c2' class='xr-section-summary' >Coordinates: <span>(4)</span></label><div class='xr-section-inline-details'></div><div class='xr-section-details'><ul class='xr-var-list'><li class='xr-var-item'><div class='xr-var-name'><span class='xr-has-index'>band</span></div><div class='xr-var-dims'>(band)</div><div class='xr-var-dtype'>int64</div><div class='xr-var-preview xr-preview'>1</div><input id='attrs-82a42848-94cf-4fa3-8c1e-387c4e21a32b' class='xr-var-attrs-in' type='checkbox' disabled><label for='attrs-82a42848-94cf-4fa3-8c1e-387c4e21a32b' title='Show/Hide attributes'><svg class='icon xr-icon-file-text2'><use xlink:href='#icon-file-text2'></use></svg></label><input id='data-bb41985c-fcc3-4315-8051-daae9654f06d' class='xr-var-data-in' type='checkbox'><label for='data-bb41985c-fcc3-4315-8051-daae9654f06d' title='Show/Hide data repr'><svg class='icon xr-icon-database'><use xlink:href='#icon-database'></use></svg></label><div class='xr-var-attrs'><dl class='xr-attrs'></dl></div><div class='xr-var-data'><pre>array([1])</pre></div></li><li class='xr-var-item'><div class='xr-var-name'><span class='xr-has-index'>y</span></div><div class='xr-var-dims'>(y)</div><div class='xr-var-dtype'>float64</div><div class='xr-var-preview xr-preview'>9.789e+05 9.789e+05 ... 9.674e+05</div><input id='attrs-719c106b-68bb-4735-b2a7-9fde8b7115ad' class='xr-var-attrs-in' type='checkbox' disabled><label for='attrs-719c106b-68bb-4735-b2a7-9fde8b7115ad' title='Show/Hide attributes'><svg class='icon xr-icon-file-text2'><use xlink:href='#icon-file-text2'></use></svg></label><input id='data-9f8c3c6d-6228-44e8-a638-21f955d54e14' class='xr-var-data-in' type='checkbox'><label for='data-9f8c3c6d-6228-44e8-a638-21f955d54e14' title='Show/Hide data repr'><svg class='icon xr-icon-database'><use xlink:href='#icon-database'></use></svg></label><div class='xr-var-attrs'><dl class='xr-attrs'></dl></div><div class='xr-var-data'><pre>array([978905., 978875., 978845., ..., 967445., 967415., 967385.])</pre></div></li><li class='xr-var-item'><div class='xr-var-name'><span class='xr-has-index'>x</span></div><div class='xr-var-dims'>(x)</div><div class='xr-var-dtype'>float64</div><div class='xr-var-preview xr-preview'>1.978e+06 1.978e+06 ... 1.984e+06</div><input id='attrs-dd6230ab-d7f2-4a51-8b39-b98e06134c60' class='xr-var-attrs-in' type='checkbox' disabled><label for='attrs-dd6230ab-d7f2-4a51-8b39-b98e06134c60' title='Show/Hide attributes'><svg class='icon xr-icon-file-text2'><use xlink:href='#icon-file-text2'></use></svg></label><input id='data-ccf6a61c-5c7d-4f81-adfb-2230ab320ee1' class='xr-var-data-in' type='checkbox'><label for='data-ccf6a61c-5c7d-4f81-adfb-2230ab320ee1' title='Show/Hide data repr'><svg class='icon xr-icon-database'><use xlink:href='#icon-database'></use></svg></label><div class='xr-var-attrs'><dl class='xr-attrs'></dl></div><div class='xr-var-data'><pre>array([1977735., 1977765., 1977795., ..., 1983765., 1983795., 1983825.])</pre></div></li><li class='xr-var-item'><div class='xr-var-name'><span>spatial_ref</span></div><div class='xr-var-dims'>()</div><div class='xr-var-dtype'>int64</div><div class='xr-var-preview xr-preview'>0</div><input id='attrs-af6d38a9-c162-481d-b2ac-d54662ca29f9' class='xr-var-attrs-in' type='checkbox' ><label for='attrs-af6d38a9-c162-481d-b2ac-d54662ca29f9' title='Show/Hide attributes'><svg class='icon xr-icon-file-text2'><use xlink:href='#icon-file-text2'></use></svg></label><input id='data-e1ed2472-483f-4661-9b15-5a15e3c13c75' class='xr-var-data-in' type='checkbox'><label for='data-e1ed2472-483f-4661-9b15-5a15e3c13c75' title='Show/Hide data repr'><svg class='icon xr-icon-database'><use xlink:href='#icon-database'></use></svg></label><div class='xr-var-attrs'><dl class='xr-attrs'><dt><span>crs_wkt :</span></dt><dd>PROJCS[&quot;unknown&quot;,GEOGCS[&quot;WGS 84&quot;,DATUM[&quot;WGS_1984&quot;,SPHEROID[&quot;WGS 84&quot;,6378137,298.257223563,AUTHORITY[&quot;EPSG&quot;,&quot;7030&quot;]],AUTHORITY[&quot;EPSG&quot;,&quot;6326&quot;]],PRIMEM[&quot;Greenwich&quot;,0],UNIT[&quot;degree&quot;,0.0174532925199433,AUTHORITY[&quot;EPSG&quot;,&quot;9122&quot;]],AUTHORITY[&quot;EPSG&quot;,&quot;4326&quot;]],PROJECTION[&quot;Lambert_Azimuthal_Equal_Area&quot;],PARAMETER[&quot;latitude_of_center&quot;,45],PARAMETER[&quot;longitude_of_center&quot;,-100],PARAMETER[&quot;false_easting&quot;,0],PARAMETER[&quot;false_northing&quot;,0],UNIT[&quot;metre&quot;,1],AXIS[&quot;Easting&quot;,EAST],AXIS[&quot;Northing&quot;,NORTH]]</dd><dt><span>semi_major_axis :</span></dt><dd>6378137.0</dd><dt><span>semi_minor_axis :</span></dt><dd>6356752.314245179</dd><dt><span>inverse_flattening :</span></dt><dd>298.257223563</dd><dt><span>reference_ellipsoid_name :</span></dt><dd>WGS 84</dd><dt><span>longitude_of_prime_meridian :</span></dt><dd>0.0</dd><dt><span>prime_meridian_name :</span></dt><dd>Greenwich</dd><dt><span>geographic_crs_name :</span></dt><dd>WGS 84</dd><dt><span>horizontal_datum_name :</span></dt><dd>World Geodetic System 1984</dd><dt><span>projected_crs_name :</span></dt><dd>unknown</dd><dt><span>grid_mapping_name :</span></dt><dd>lambert_azimuthal_equal_area</dd><dt><span>latitude_of_projection_origin :</span></dt><dd>45.0</dd><dt><span>longitude_of_projection_origin :</span></dt><dd>-100.0</dd><dt><span>false_easting :</span></dt><dd>0.0</dd><dt><span>false_northing :</span></dt><dd>0.0</dd><dt><span>spatial_ref :</span></dt><dd>PROJCS[&quot;unknown&quot;,GEOGCS[&quot;WGS 84&quot;,DATUM[&quot;WGS_1984&quot;,SPHEROID[&quot;WGS 84&quot;,6378137,298.257223563,AUTHORITY[&quot;EPSG&quot;,&quot;7030&quot;]],AUTHORITY[&quot;EPSG&quot;,&quot;6326&quot;]],PRIMEM[&quot;Greenwich&quot;,0],UNIT[&quot;degree&quot;,0.0174532925199433,AUTHORITY[&quot;EPSG&quot;,&quot;9122&quot;]],AUTHORITY[&quot;EPSG&quot;,&quot;4326&quot;]],PROJECTION[&quot;Lambert_Azimuthal_Equal_Area&quot;],PARAMETER[&quot;latitude_of_center&quot;,45],PARAMETER[&quot;longitude_of_center&quot;,-100],PARAMETER[&quot;false_easting&quot;,0],PARAMETER[&quot;false_northing&quot;,0],UNIT[&quot;metre&quot;,1],AXIS[&quot;Easting&quot;,EAST],AXIS[&quot;Northing&quot;,NORTH]]</dd><dt><span>GeoTransform :</span></dt><dd>1977719.9999999972 30.0 0.0 978920.0000000019 0.0 -30.0</dd></dl></div><div class='xr-var-data'><pre>array(0)</pre></div></li></ul></div></li><li class='xr-section-item'><input id='section-e3d72256-2134-4d96-9326-da34954fd82c' class='xr-section-summary-in' type='checkbox'  checked><label for='section-e3d72256-2134-4d96-9326-da34954fd82c' class='xr-section-summary' >Attributes: <span>(4)</span></label><div class='xr-section-inline-details'></div><div class='xr-section-details'><dl class='xr-attrs'><dt><span>_FillValue :</span></dt><dd>127.0</dd><dt><span>scale_factor :</span></dt><dd>1.0</dd><dt><span>add_offset :</span></dt><dd>0.0</dd><dt><span>grid_mapping :</span></dt><dd>spatial_ref</dd></dl></div></li></ul></div></div>"
      ],
      "text/plain": [
       "<xarray.DataArray (band: 1, y: 385, x: 204)>\n",
       "array([[[127, 127, ..., 127, 127],\n",
       "        [127, 127, ..., 127, 127],\n",
       "        ...,\n",
       "        [127, 127, ..., 127, 127],\n",
       "        [127, 127, ..., 127, 127]]], dtype=uint8)\n",
       "Coordinates:\n",
       "  * band         (band) int64 1\n",
       "  * y            (y) float64 9.789e+05 9.789e+05 ... 9.674e+05 9.674e+05\n",
       "  * x            (x) float64 1.978e+06 1.978e+06 ... 1.984e+06 1.984e+06\n",
       "    spatial_ref  int64 0\n",
       "Attributes:\n",
       "    _FillValue:    127.0\n",
       "    scale_factor:  1.0\n",
       "    add_offset:    0.0\n",
       "    grid_mapping:  spatial_ref"
      ]
     },
     "execution_count": 10,
     "metadata": {},
     "output_type": "execute_result"
    }
   ],
   "source": [
    "grid"
   ]
  },
  {
   "cell_type": "code",
   "execution_count": 11,
   "metadata": {},
   "outputs": [
    {
     "data": {
      "text/plain": [
       "array([  1,   2,   5,   6,   8,  10,  12,  14,  16,  18, 127], dtype=uint8)"
      ]
     },
     "metadata": {},
     "output_type": "display_data"
    },
    {
     "data": {
      "text/plain": [
       "array([13532,   335,  4367,   847, 10239,    60,   380,    21,    39,\n",
       "        3248, 45472])"
      ]
     },
     "metadata": {},
     "output_type": "display_data"
    },
    {
     "data": {
      "image/png": "[encoded data removed]",
      "text/plain": [
       "<Figure size 432x288 with 1 Axes>"
      ]
     },
     "metadata": {
      "needs_background": "light"
     },
     "output_type": "display_data"
    },
    {
     "data": {
      "image/png": "[encoded data removed]",
      "text/plain": [
       "<Figure size 432x288 with 2 Axes>"
      ]
     },
     "metadata": {
      "needs_background": "light"
     },
     "output_type": "display_data"
    }
   ],
   "source": [
    "unique, counts = numpy.unique(grid.sel(band=1), return_counts=True)\n",
    "display(unique, counts)\n",
    "\n",
    "# Pixels values at '127' are NaN and can be ignored.\n",
    "plt.bar(unique[:-1], counts[:-1])\n",
    "plt.show()\n",
    "\n",
    "grid.where(grid!=127).sel(band=1).plot.imshow(cmap=\"tab20\")\n",
    "plt.show()"
   ]
  },
  {
   "cell_type": "markdown",
   "metadata": {},
   "source": [
    "With `rioxarray` and `cartopy` (and `birdy>0.7.0`) installed, we can receive the geotiff object as an `xarray.Dataset` with the `.open_rasterio()` method. This makes it very easy to spatially reproject it with the `cartopy` library."
   ]
  },
  {
   "cell_type": "code",
   "execution_count": 12,
   "metadata": {},
   "outputs": [
    {
     "data": {
      "image/png": "[encoded data removed]",
      "text/plain": [
       "<Figure size 432x288 with 2 Axes>"
      ]
     },
     "metadata": {
      "needs_background": "light"
     },
     "output_type": "display_data"
    }
   ],
   "source": [
    "import cartopy.crs as ccrs\n",
    "\n",
    "# Set a CRS transformation:\n",
    "crs = ccrs.LambertConformal(central_latitude=49, central_longitude=-95, standard_parallels=(49, 77))\n",
    "\n",
    "ax = plt.subplot(projection=crs)\n",
    "grid.name = \"Land Use Categories\"\n",
    "grid.where(grid!=127).sel(band=1).plot.imshow(ax=ax, transform=crs, cmap=\"tab20\")\n",
    "plt.show()"
   ]
  },
  {
   "cell_type": "markdown",
   "metadata": {},
   "source": [
    "## Terrain information from the DEM\n",
    "\n",
    "Here we collect terrain data, such as elevation, slope and aspect, from the DEM. We will do this using the `terrain_analysis` WPS service, which by default uses DEM data from [EarthEnv-DEM90](https://www.earthenv.org/DEM).\n",
    "\n",
    "Note here that while the feature outline is defined above in terms of geographic coordinates (latitude, longitude), the DEM is projected onto a 2D cartesian coordinate system (here NAD83, the Canada Atlas Lambert projection). This is necessary to perform slope calculations. For more information on this, see: https://en.wikipedia.org/wiki/Map_projection\n",
    "\n",
    "The DEM data returned in the process response here shows `rioxarray`-like access but using the URLs we can open the files however we like."
   ]
  },
  {
   "cell_type": "code",
   "execution_count": 13,
   "metadata": {},
   "outputs": [],
   "source": [
    "terrain_resp = wps.terrain_analysis(shape=feature_url, select_all_touching=True, projected_crs=3978)"
   ]
  },
  {
   "cell_type": "code",
   "execution_count": 14,
   "metadata": {},
   "outputs": [
    {
     "data": {
      "text/plain": [
       "{'elevation': 490.04395604395603,\n",
       " 'slope': 3.9660650465635636,\n",
       " 'aspect': 116.79663053081183}"
      ]
     },
     "metadata": {},
     "output_type": "display_data"
    }
   ],
   "source": [
    "properties, dem = terrain_resp.get(asobj=True)\n",
    "\n",
    "with rasterio.io.MemoryFile(dem) as memfile:\n",
    "    with memfile.open() as dataset:\n",
    "        dem = rio.open_rasterio(dataset)\n",
    "        \n",
    "elevation=properties[0]['elevation']\n",
    "slope=properties[0]['slope']\n",
    "aspect=properties[0]['aspect']\n",
    "\n",
    "terrain = {'elevation':elevation, 'slope':slope,'aspect':aspect}\n",
    "display(terrain)"
   ]
  },
  {
   "cell_type": "code",
   "execution_count": 15,
   "metadata": {
    "pycharm": {
     "name": "#%%\n"
    }
   },
   "outputs": [
    {
     "data": {
      "image/png": "[encoded data removed]",
      "text/plain": [
       "<Figure size 432x288 with 2 Axes>"
      ]
     },
     "metadata": {
      "needs_background": "light"
     },
     "output_type": "display_data"
    }
   ],
   "source": [
    "crs = ccrs.LambertConformal(central_latitude=49, central_longitude=-95, standard_parallels=(49, 77))\n",
    "\n",
    "dem.name = 'Elevation'\n",
    "dem.attrs['units'] = 'm'\n",
    "ax = plt.subplot(projection=crs)\n",
    "dem.where(dem!=-32768).sel(band=1).plot.imshow(ax=ax, transform=crs, cmap=\"gnuplot\")\n",
    "plt.show()"
   ]
  },
  {
   "cell_type": "code",
   "execution_count": 16,
   "metadata": {},
   "outputs": [
    {
     "data": {
      "text/plain": [
       "'http://localhost:9099/outputs/c35da36a-9c65-11eb-a1cc-a44cc85b43bf/input.json'"
      ]
     },
     "metadata": {},
     "output_type": "display_data"
    },
    {
     "data": {
      "text/plain": [
       "'http://localhost:9099/outputs/c35da36a-9c65-11eb-a1cc-a44cc85b43bf/clipped_htsy0ss9.tiff'"
      ]
     },
     "metadata": {},
     "output_type": "display_data"
    },
    {
     "data": {
      "text/plain": [
       "array([[-32768, -32768, -32768, ..., -32768, -32768, -32768],\n",
       "       [-32768, -32768, -32768, ..., -32768, -32768, -32768],\n",
       "       [-32768, -32768, -32768, ..., -32768, -32768, -32768],\n",
       "       ...,\n",
       "       [-32768, -32768, -32768, ..., -32768, -32768, -32768],\n",
       "       [-32768, -32768, -32768, ..., -32768, -32768, -32768],\n",
       "       [-32768, -32768, -32768, ..., -32768, -32768, -32768]], dtype=int16)"
      ]
     },
     "metadata": {},
     "output_type": "display_data"
    }
   ],
   "source": [
    "# We can also access the files directly via their URLs:\n",
    "properties, dem = terrain_resp.get(asobj=False)\n",
    "display(properties, dem)\n",
    "\n",
    "# Let's read the data from band=1 as numpy array\n",
    "display(rasterio.open(dem).read(1))"
   ]
  },
  {
   "cell_type": "markdown",
   "metadata": {},
   "source": [
    "## Overview\n",
    "\n",
    "A synthesis of all watershed properties can be created by merging the various dictionaries created."
   ]
  },
  {
   "cell_type": "code",
   "execution_count": 17,
   "metadata": {
    "pycharm": {
     "name": "#%%\n"
    }
   },
   "outputs": [
    {
     "data": {
      "text/plain": [
       "{'area': 28.76484946504176,\n",
       " 'longitude': -71.3409808346398,\n",
       " 'latitude': 50.478880424555875,\n",
       " 'gravelius': 1.7366297521025682,\n",
       " 'perimeter': 33017.42666655582,\n",
       " 'Ocean': 0.0,\n",
       " 'Forest': 0.5770231039071005,\n",
       " 'Shrubs': 0.3096346921495101,\n",
       " 'Grass': 0.014485303011975323,\n",
       " 'Wetland': 0.0006350550381033022,\n",
       " 'Crops': 0.0,\n",
       " 'Urban': 0.0,\n",
       " 'Water': 0.09822184589331075,\n",
       " 'SnowIce': 0.0,\n",
       " 'elevation': 490.04395604395603,\n",
       " 'slope': 3.9660650465635636,\n",
       " 'aspect': 116.79663053081183}"
      ]
     },
     "metadata": {},
     "output_type": "display_data"
    }
   ],
   "source": [
    "all_properties = {**shape_info, **land_use, **terrain}\n",
    "display(all_properties)"
   ]
  }
 ],
 "metadata": {
  "kernelspec": {
   "display_name": "Python 3",
   "language": "python",
   "name": "python3"
  },
  "language_info": {
   "codemirror_mode": {
    "name": "ipython",
    "version": 3
   },
   "file_extension": ".py",
   "mimetype": "text/x-python",
   "name": "python",
   "nbconvert_exporter": "python",
   "pygments_lexer": "ipython3",
   "version": "3.8.6"
  }
 },
 "nbformat": 4,
 "nbformat_minor": 1
}
