{
 "cells": [
  {
   "cell_type": "markdown",
   "metadata": {},
   "source": [
    "# Extract geographical watershed properties\n",
    "\n",
    "Hydrological model typically need geographical information about watersheds being simulated: latitude and longitude, area, mean altitude, land-use, etc. This notebook shows how to obtain this information using remote services. These services connect to a digital elevation model (DEM) and a land-use data set to extract relevant information.\n",
    "\n",
    "The DEM used in the following is the [EarthEnv-DEM90](https://www.earthenv.org/DEM), while the land-use dataset is the [North American Land Change Monitoring System](http://www.cec.org/tools-and-resources/north-american-environmental-atlas/north-american-land-change-monitoring-system). Other data sources could be used, given their availability through the Web Coverage Service (WCS) protocol.\n"
   ]
  },
  {
   "cell_type": "code",
   "execution_count": 1,
   "metadata": {
    "execution": {
     "iopub.execute_input": "2020-10-08T17:52:49.013637Z",
     "iopub.status.busy": "2020-10-08T17:52:49.009470Z",
     "iopub.status.idle": "2020-10-08T17:52:50.757826Z",
     "shell.execute_reply": "2020-10-08T17:52:50.757385Z"
    }
   },
   "outputs": [],
   "source": [
    "from birdy import WPSClient\n",
    "import matplotlib.pyplot as plt\n",
    "import geopandas as gpd\n",
    "import json\n",
    "import os\n",
    "\n",
    "# Set environment variable WPS_URL to \"http://localhost:9099\" to run on the default local server\n",
    "url = os.environ.get(\"WPS_URL\", \"https://pavics.ouranos.ca/twitcher/ows/proxy/raven/wps\")\n",
    "\n",
    "# Connect to the PAVICS-Hydro Raven WPS server\n",
    "wps = WPSClient(url)"
   ]
  },
  {
   "cell_type": "markdown",
   "metadata": {},
   "source": [
    "## Watershed contour\n",
    "\n",
    "We first extract the watershed contour for the point of interest. The process looks into the HydroSheds database to finds the watershed enclosing the given location. The `location` parameter identifies the outlet of the watershed, and `aggregate_upstream` determines whether or not we want the service to return the union of all upstream basins. Here we set it to `False` to reduce the size of the basin and speed-up computations.\n",
    "\n",
    "The output of the `hydrosheds-select` process is a GeoJSON file."
   ]
  },
  {
   "cell_type": "code",
   "execution_count": 2,
   "metadata": {
    "execution": {
     "iopub.execute_input": "2020-10-08T17:52:50.761690Z",
     "iopub.status.busy": "2020-10-08T17:52:50.761235Z",
     "iopub.status.idle": "2020-10-08T17:52:56.478801Z",
     "shell.execute_reply": "2020-10-08T17:52:56.477728Z"
    }
   },
   "outputs": [],
   "source": [
    "select_resp = wps.hydrobasins_select(location=\"-71.291660, 50.492758\", aggregate_upstream=False)"
   ]
  },
  {
   "cell_type": "code",
   "execution_count": 3,
   "metadata": {
    "execution": {
     "iopub.execute_input": "2020-10-08T17:52:56.487650Z",
     "iopub.status.busy": "2020-10-08T17:52:56.486890Z",
     "iopub.status.idle": "2020-10-08T17:52:56.510648Z",
     "shell.execute_reply": "2020-10-08T17:52:56.509924Z"
    }
   },
   "outputs": [],
   "source": [
    "# Get GeoJSON polygon of the delineated catchment.\n",
    "# We can either get links to the files stored on the server, or get the data directly.\n",
    "[feature_url, upstream_basins_url] = select_resp.get(asobj=False)\n",
    "[feature, upstream_basins] = select_resp.get(asobj=True)"
   ]
  },
  {
   "cell_type": "markdown",
   "metadata": {},
   "source": [
    "We can now plot the outline of the watershed by loading it into `GeoPandas`."
   ]
  },
  {
   "cell_type": "code",
   "execution_count": 4,
   "metadata": {
    "execution": {
     "iopub.execute_input": "2020-10-08T17:52:56.515996Z",
     "iopub.status.busy": "2020-10-08T17:52:56.515305Z",
     "iopub.status.idle": "2020-10-08T17:52:56.745279Z",
     "shell.execute_reply": "2020-10-08T17:52:56.744886Z"
    }
   },
   "outputs": [
    {
     "data": {
      "text/plain": [
       "<matplotlib.axes._subplots.AxesSubplot at 0x7fc2e57e1d30>"
      ]
     },
     "execution_count": 4,
     "metadata": {},
     "output_type": "execute_result"
    },
    {
     "data": {
      "image/png": "[encoded data removed]",
      "text/plain": [
       "<Figure size 432x288 with 1 Axes>"
      ]
     },
     "metadata": {
      "needs_background": "light"
     },
     "output_type": "display_data"
    }
   ],
   "source": [
    "df = gpd.GeoDataFrame.from_features([feature])\n",
    "# Alternatively use `df = gpd.read_file(feature_url)`\n",
    "df.plot()"
   ]
  },
  {
   "cell_type": "markdown",
   "metadata": {},
   "source": [
    "## Generic watershed properties\n",
    "\n",
    "Now that we have delineated a watershed, lets find the zonal statistics and other properties using the `shape_properties` process. This process requires a `shape` argument defining the watershed contour, the exterior polygon. The polygon can be given either as a link to a geometry file  (e.g. a geojson file such as `feature_url`), or as data embeded in a string. For example, if variable `feature` is a geopandas geometry, `json.dumps(feature)` can be used to convert it to a string and pass it as the `shape` argument."
   ]
  },
  {
   "cell_type": "code",
   "execution_count": 5,
   "metadata": {
    "execution": {
     "iopub.execute_input": "2020-10-08T17:52:56.749300Z",
     "iopub.status.busy": "2020-10-08T17:52:56.748701Z",
     "iopub.status.idle": "2020-10-08T17:52:57.044881Z",
     "shell.execute_reply": "2020-10-08T17:52:57.045500Z"
    }
   },
   "outputs": [],
   "source": [
    "shape_resp = wps.shape_properties(shape=feature_url)"
   ]
  },
  {
   "cell_type": "markdown",
   "metadata": {},
   "source": [
    "Once the process has completed, we extract the data from the response:"
   ]
  },
  {
   "cell_type": "code",
   "execution_count": 6,
   "metadata": {
    "execution": {
     "iopub.execute_input": "2020-10-08T17:52:57.053951Z",
     "iopub.status.busy": "2020-10-08T17:52:57.053405Z",
     "iopub.status.idle": "2020-10-08T17:52:57.062218Z",
     "shell.execute_reply": "2020-10-08T17:52:57.061806Z"
    }
   },
   "outputs": [
    {
     "name": "stdout",
     "output_type": "stream",
     "text": [
      "{'id': '96929', 'gml_id': 'USGS_HydroBASINS_lake_na_lev12.96929', 'HYBAS_ID': 7120270182, 'NEXT_DOWN': 7120270181, 'NEXT_SINK': 7120034330, 'MAIN_BAS': 7120034330, 'DIST_SINK': 490.9, 'DIST_MAIN': 490.9, 'SUB_AREA': 29.0, 'UP_AREA': 9419.6, 'PFAF_ID': 724089370000, 'SIDE': 'R', 'LAKE': 0, 'ENDO': 0, 'COAST': 0, 'ORDER': 1, 'SORT': 96929, 'area': 28764849.46504176, 'centroid': [-71.3409808346398, 50.478880424555875], 'perimeter': 33017.42666655582, 'gravelius': 1.7366297521025682}\n"
     ]
    },
    {
     "data": {
      "text/plain": [
       "{'area': 28.76484946504176,\n",
       " 'longitude': -71.3409808346398,\n",
       " 'latitude': 50.478880424555875,\n",
       " 'gravelius': 1.7366297521025682,\n",
       " 'perimeter': 33017.42666655582}"
      ]
     },
     "execution_count": 6,
     "metadata": {},
     "output_type": "execute_result"
    }
   ],
   "source": [
    "[properties, ] = shape_resp.get(asobj=True)\n",
    "prop = properties[0]\n",
    "print(prop)\n",
    "\n",
    "area = prop['area']/1000000.0\n",
    "longitude = prop['centroid'][0]\n",
    "latitude = prop['centroid'][1]\n",
    "gravelius = prop['gravelius']\n",
    "perimeter = prop['perimeter']\n",
    "\n",
    "shape_info = {'area':area, 'longitude':longitude, 'latitude':latitude, 'gravelius':gravelius, 'perimeter':perimeter}\n",
    "shape_info"
   ]
  },
  {
   "cell_type": "markdown",
   "metadata": {},
   "source": [
    "Note that these properties are a mix of the properties of the original file where the shape is stored, and properties computed by the process (area, centroid, perimeter and gravelius). Note also that the computed area is in m², while the \"SUB_AREA\" property is in km², and that there are slight differences between the two values.\n",
    "\n",
    "## Land-use information\n",
    "\n",
    "Now we extract the land-use properties of the watershed using the `nalcms_zonal_stats` process. As mentionned, it uses the [North American Land Change Monitoring System](http://www.cec.org/tools-and-resources/north-american-environmental-atlas/north-american-land-change-monitoring-system) dataset, and retrieve properties over the given region."
   ]
  },
  {
   "cell_type": "code",
   "execution_count": 7,
   "metadata": {
    "execution": {
     "iopub.execute_input": "2020-10-08T17:52:57.066584Z",
     "iopub.status.busy": "2020-10-08T17:52:57.065148Z",
     "iopub.status.idle": "2020-10-08T17:53:13.709912Z",
     "shell.execute_reply": "2020-10-08T17:53:13.710317Z"
    }
   },
   "outputs": [],
   "source": [
    "stats_resp = wps.nalcms_zonal_stats(shape=feature_url, select_all_touching=True, band=1, simple_categories=True)"
   ]
  },
  {
   "cell_type": "code",
   "execution_count": 8,
   "metadata": {
    "execution": {
     "iopub.execute_input": "2020-10-08T17:53:13.716162Z",
     "iopub.status.busy": "2020-10-08T17:53:13.715708Z",
     "iopub.status.idle": "2020-10-08T17:53:13.729554Z",
     "shell.execute_reply": "2020-10-08T17:53:13.730028Z"
    }
   },
   "outputs": [
    {
     "name": "stdout",
     "output_type": "stream",
     "text": [
      "{'id': '96929', 'gml_id': 'USGS_HydroBASINS_lake_na_lev12.96929', 'HYBAS_ID': 7120270182, 'NEXT_DOWN': 7120270181, 'NEXT_SINK': 7120034330, 'MAIN_BAS': 7120034330, 'DIST_SINK': 490.9, 'DIST_MAIN': 490.9, 'SUB_AREA': 29.0, 'UP_AREA': 9419.6, 'PFAF_ID': 724089370000, 'SIDE': 'R', 'LAKE': 0, 'ENDO': 0, 'COAST': 0, 'ORDER': 1, 'SORT': 96929, '1': 13532, '2': 335, '5': 4367, '6': 847, '8': 10239, '10': 60, '12': 380, '14': 21, '16': 39, '18': 3248, 'count': 33068, 'nodata': 8.0, 'nan': 0, 'Ocean': 0, 'Forest': 19081, 'Shrubs': 10239, 'Grass': 479, 'Wetland': 21, 'Crops': 0, 'Urban': 0, 'Water': 3248, 'SnowIce': 0} \n",
      "\n",
      "\n",
      "[{'Ocean': 0, 'Forest': 19081, 'Shrubs': 10239, 'Grass': 479, 'Wetland': 21, 'Crops': 0, 'Urban': 0, 'Water': 3248, 'SnowIce': 0}]\n"
     ]
    },
    {
     "data": {
      "text/plain": [
       "{\"features\": [{\"geometry\": {\"coordinates\": [[[[1981874.096748, 967399.091191], [1981560.497165, 967640.799616], [1981434.936988, 967882.780767], [1980961.263774, 969007.129417], [1980150.453239, 969613.136897], [1979557.788254, 970982.006618], [1979190.993435, 971263.662311], [1978968.917959, 971674.108713], [1979068.737029, 972221.498664], [1978911.276644, 972753.897266], [1978998.518432, 973199.540058], [1978148.536013, 975486.000658], [1978229.072674, 975929.06883], [1977903.742496, 976905.067086], [1977984.173254, 977348.115496], [1977736.398881, 978051.400822], [1977900.425286, 978054.503503], [1978726.767107, 977503.147592], [1979063.162155, 977488.410214], [1979585.086481, 977194.438111], [1979728.314495, 977383.335657], [1979905.626466, 977961.050647], [1980249.760066, 977888.82216], [1980777.020525, 976821.614008], [1981210.625424, 976808.412368], [1981599.965266, 976584.172313], [1981738.25575, 977013.547429], [1981974.993178, 977251.010851], [1982328.051065, 978903.0378], [1982681.072971, 978846.538719], [1982996.790791, 978315.034465], [1983354.336434, 977981.589513], [1983659.560071, 977324.816337], [1983830.052137, 976894.322922], [1983556.471154, 976787.837664], [1982897.423789, 976458.687678], [1982761.508473, 976042.300741], [1982257.567097, 975700.92043], [1981989.759672, 974591.183905], [1982132.826199, 973944.08598], [1981931.599976, 972702.854607], [1981635.845096, 972309.345787], [1981135.976984, 971194.624495], [1981172.131364, 971160.205611], [1981342.839416, 971032.658661], [1981721.483719, 970283.259585], [1982217.756236, 968683.141738], [1982076.182758, 967974.105719], [1981874.096748, 967399.091191]]]], \"type\": \"MultiPolygon\"}, \"id\": \"0\", \"properties\": {\"1\": 13532, \"10\": 60, \"12\": 380, \"14\": 21, \"16\": 39, \"18\": 3248, \"2\": 335, \"5\": 4367, \"6\": 847, \"8\": 10239, \"COAST\": 0, \"Crops\": 0, \"DIST_MAIN\": 490.9, \"DIST_SINK\": 490.9, \"ENDO\": 0, \"Forest\": 19081, \"Grass\": 479, \"HYBAS_ID\": 7120270182, \"LAKE\": 0, \"MAIN_BAS\": 7120034330, \"NEXT_DOWN\": 7120270181, \"NEXT_SINK\": 7120034330, \"ORDER\": 1, \"Ocean\": 0, \"PFAF_ID\": 724089370000, \"SIDE\": \"R\", \"SORT\": 96929, \"SUB_AREA\": 29.0, \"Shrubs\": 10239, \"SnowIce\": 0, \"UP_AREA\": 9419.6, \"Urban\": 0, \"Water\": 3248, \"Wetland\": 21, \"count\": 33068, \"gml_id\": \"USGS_HydroBASINS_lake_na_lev12.96929\", \"id\": \"96929\", \"nan\": 0, \"nodata\": 8.0}, \"type\": \"Feature\"}], \"type\": \"FeatureCollection\"}"
      ]
     },
     "execution_count": 8,
     "metadata": {},
     "output_type": "execute_result"
    }
   ],
   "source": [
    "# Note that geojson needs to be installed for this to work.\n",
    "# $ pip install -r requirements_extra.txt\n",
    "features, statistics  = stats_resp.get(asobj=True)\n",
    "print(features[0]['properties'], '\\n\\n')\n",
    "print(statistics)\n",
    "features"
   ]
  },
  {
   "cell_type": "markdown",
   "metadata": {},
   "source": [
    "From there, it's easy to calculate the ratio of each land-use component."
   ]
  },
  {
   "cell_type": "code",
   "execution_count": 9,
   "metadata": {
    "execution": {
     "iopub.execute_input": "2020-10-08T17:53:13.736820Z",
     "iopub.status.busy": "2020-10-08T17:53:13.736114Z",
     "iopub.status.idle": "2020-10-08T17:53:13.739877Z",
     "shell.execute_reply": "2020-10-08T17:53:13.739215Z"
    }
   },
   "outputs": [
    {
     "data": {
      "text/plain": [
       "{'Ocean': 0.0,\n",
       " 'Forest': 0.5770231039071005,\n",
       " 'Shrubs': 0.3096346921495101,\n",
       " 'Grass': 0.014485303011975323,\n",
       " 'Wetland': 0.0006350550381033022,\n",
       " 'Crops': 0.0,\n",
       " 'Urban': 0.0,\n",
       " 'Water': 0.09822184589331075,\n",
       " 'SnowIce': 0.0}"
      ]
     },
     "execution_count": 9,
     "metadata": {},
     "output_type": "execute_result"
    }
   ],
   "source": [
    "lu = statistics[0]\n",
    "total = sum(lu.values())\n",
    "\n",
    "land_use = {k: (v / total) for (k,v) in lu.items()}\n",
    "land_use"
   ]
  },
  {
   "cell_type": "markdown",
   "metadata": {},
   "source": [
    "## Terrain information from the DEM\n",
    "\n",
    "Here we collect terrain data, such as elevation, slope and aspect, from the DEM. We will do this using the `terrain_analysis` WPS service, which by default uses DEM data from [EarthEnv-DEM90](https://www.earthenv.org/DEM).\n",
    "\n",
    "Note here that while the feature outline is defined above in terms of geographic coordinates (latitude, longitude), the DEM is projected onto a 2D cartesian coordinate system (here NAD83, the Canada Atlas Lambert projection). This is necessary to perform slope calculations. For more information on this, see: https://en.wikipedia.org/wiki/Map_projection\n",
    "\n",
    "The DEM data is returned in the process response and can be displayed using `rasterio`."
   ]
  },
  {
   "cell_type": "code",
   "execution_count": 10,
   "metadata": {
    "execution": {
     "iopub.execute_input": "2020-10-08T17:53:13.746322Z",
     "iopub.status.busy": "2020-10-08T17:53:13.745774Z",
     "iopub.status.idle": "2020-10-08T17:53:18.853347Z",
     "shell.execute_reply": "2020-10-08T17:53:18.853988Z"
    }
   },
   "outputs": [],
   "source": [
    "terrain_resp = wps.terrain_analysis(shape=feature_url, select_all_touching=True, projected_crs=3978)"
   ]
  },
  {
   "cell_type": "code",
   "execution_count": 11,
   "metadata": {
    "execution": {
     "iopub.execute_input": "2020-10-08T17:53:18.862723Z",
     "iopub.status.busy": "2020-10-08T17:53:18.861036Z",
     "iopub.status.idle": "2020-10-08T17:53:18.873278Z",
     "shell.execute_reply": "2020-10-08T17:53:18.872281Z"
    }
   },
   "outputs": [],
   "source": [
    "properties, dem = terrain_resp.get(asobj=True)\n",
    "\n",
    "elevation=properties[0]['elevation']\n",
    "slope=properties[0]['slope']\n",
    "aspect=properties[0]['aspect']\n",
    "\n",
    "terrain = {'elevation':elevation, 'slope':slope,'aspect':aspect}"
   ]
  },
  {
   "cell_type": "code",
   "execution_count": 12,
   "metadata": {
    "execution": {
     "iopub.execute_input": "2020-10-08T17:53:18.879835Z",
     "iopub.status.busy": "2020-10-08T17:53:18.879271Z",
     "iopub.status.idle": "2020-10-08T17:53:19.552775Z",
     "shell.execute_reply": "2020-10-08T17:53:19.551269Z"
    },
    "pycharm": {
     "name": "#%%\n"
    }
   },
   "outputs": [
    {
     "data": {
      "image/png": "[encoded data removed]",
      "text/plain": [
       "<Figure size 432x288 with 2 Axes>"
      ]
     },
     "metadata": {
      "needs_background": "light"
     },
     "output_type": "display_data"
    }
   ],
   "source": [
    "# NBVAL_SKIP\n",
    "import cartopy.crs as ccrs\n",
    "import xarray as xr\n",
    "from rasterio.io import MemoryFile\n",
    "\n",
    "with MemoryFile(dem) as mem:\n",
    "    with mem.open(driver='gtiff') as src:\n",
    "        crs = ccrs.LambertConformal(central_latitude=49, central_longitude=-95, standard_parallels=(49, 77))\n",
    "        da = xr.open_rasterio(src)\n",
    "        da.name = 'Elevation'\n",
    "        da.attrs['units'] = 'm'\n",
    "        ax = plt.subplot(projection=crs)\n",
    "        da.where(da!=-32768).sel(band=1).plot.imshow(ax=ax, transform=crs)\n",
    "        plt.show()"
   ]
  },
  {
   "cell_type": "markdown",
   "metadata": {},
   "source": [
    "## Overview\n",
    "\n",
    "A synthesis of all watershed properties can be created by merging the various dictionaries created."
   ]
  },
  {
   "cell_type": "code",
   "execution_count": 13,
   "metadata": {
    "execution": {
     "iopub.execute_input": "2020-10-08T17:53:19.557987Z",
     "iopub.status.busy": "2020-10-08T17:53:19.557502Z",
     "iopub.status.idle": "2020-10-08T17:53:19.560647Z",
     "shell.execute_reply": "2020-10-08T17:53:19.560269Z"
    },
    "pycharm": {
     "name": "#%%\n"
    }
   },
   "outputs": [
    {
     "name": "stdout",
     "output_type": "stream",
     "text": [
      "{'area': 28.76484946504176, 'longitude': -71.3409808346398, 'latitude': 50.478880424555875, 'gravelius': 1.7366297521025682, 'perimeter': 33017.42666655582, 'Ocean': 0.0, 'Forest': 0.5770231039071005, 'Shrubs': 0.3096346921495101, 'Grass': 0.014485303011975323, 'Wetland': 0.0006350550381033022, 'Crops': 0.0, 'Urban': 0.0, 'Water': 0.09822184589331075, 'SnowIce': 0.0, 'elevation': 490.04395604395603, 'slope': 3.9660650465635636, 'aspect': 116.79663053081183}\n"
     ]
    }
   ],
   "source": [
    "all_properties = {**shape_info, **land_use, **terrain}\n",
    "print(all_properties)\n",
    "\n"
   ]
  }
 ],
 "metadata": {
  "kernelspec": {
   "display_name": "Python 3",
   "language": "python",
   "name": "python3"
  },
  "language_info": {
   "codemirror_mode": {
    "name": "ipython",
    "version": 3
   },
   "file_extension": ".py",
   "mimetype": "text/x-python",
   "name": "python",
   "nbconvert_exporter": "python",
   "pygments_lexer": "ipython3",
   "version": "3.7.3"
  }
 },
 "nbformat": 4,
 "nbformat_minor": 1
}
