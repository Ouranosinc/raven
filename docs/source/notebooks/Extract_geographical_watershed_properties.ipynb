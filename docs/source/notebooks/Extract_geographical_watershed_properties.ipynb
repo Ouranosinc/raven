{
 "cells": [
  {
   "cell_type": "markdown",
   "metadata": {},
   "source": [
    "# Extract geographical watershed properties\n",
    "\n",
    "Hydrological model typically need geographical information about watersheds being simulated: latitude and longitude, area, mean altitude, land-use, etc. This notebook shows how to obtain this information using remote services. These services connect to a digital elevation model (DEM) and a land-use data set to extract relevant information.\n",
    "\n",
    "The DEM used in the following is the [EarthEnv-DEM90](https://www.earthenv.org/DEM), while the land-use dataset is the [North American Land Change Monitoring System](http://www.cec.org/tools-and-resources/north-american-environmental-atlas/north-american-land-change-monitoring-system). Other data sources could be used, given their availability through the Web Coverage Service (WCS) protocol.\n"
   ]
  },
  {
   "cell_type": "code",
   "execution_count": 1,
   "metadata": {
    "execution": {
     "iopub.execute_input": "2020-10-08T17:52:49.013637Z",
     "iopub.status.busy": "2020-10-08T17:52:49.009470Z",
     "iopub.status.idle": "2020-10-08T17:52:50.757826Z",
     "shell.execute_reply": "2020-10-08T17:52:50.757385Z"
    }
   },
   "outputs": [],
   "source": [
    "import json\n",
    "import os\n",
    "from zipfile import ZipFile\n",
    "\n",
    "from birdy import WPSClient\n",
    "import geopandas as gpd\n",
    "import matplotlib.pyplot as plt\n",
    "import numpy\n",
    "import rasterio\n",
    "import xarray as xr\n",
    "\n",
    "# Set environment variable WPS_URL to \"http://localhost:9099\" to run on the default local server\n",
    "url = os.environ.get(\"WPS_URL\", \"https://pavics.ouranos.ca/twitcher/ows/proxy/raven/wps\")\n",
    "\n",
    "# Connect to the PAVICS-Hydro Raven WPS server\n",
    "wps = WPSClient(url)"
   ]
  },
  {
   "cell_type": "markdown",
   "metadata": {},
   "source": [
    "## Watershed contour\n",
    "\n",
    "We first extract the watershed contour for the point of interest. The process looks into the HydroSheds database to finds the watershed enclosing the given location. The `location` parameter identifies the outlet of the watershed, and `aggregate_upstream` determines whether or not we want the service to return the union of all upstream basins. Here we set it to `False` to reduce the size of the basin and speed-up computations.\n",
    "\n",
    "The output of the `hydrosheds-select` process is a GeoJSON file."
   ]
  },
  {
   "cell_type": "code",
   "execution_count": 2,
   "metadata": {
    "execution": {
     "iopub.execute_input": "2020-10-08T17:52:50.761690Z",
     "iopub.status.busy": "2020-10-08T17:52:50.761235Z",
     "iopub.status.idle": "2020-10-08T17:52:56.478801Z",
     "shell.execute_reply": "2020-10-08T17:52:56.477728Z"
    }
   },
   "outputs": [],
   "source": [
    "select_resp = wps.hydrobasins_select(location=\"-71.291660, 50.492758\", aggregate_upstream=False)"
   ]
  },
  {
   "cell_type": "code",
   "execution_count": 3,
   "metadata": {
    "execution": {
     "iopub.execute_input": "2020-10-08T17:52:56.487650Z",
     "iopub.status.busy": "2020-10-08T17:52:56.486890Z",
     "iopub.status.idle": "2020-10-08T17:52:56.510648Z",
     "shell.execute_reply": "2020-10-08T17:52:56.509924Z"
    }
   },
   "outputs": [],
   "source": [
    "# Get GeoJSON polygon of the delineated catchment.\n",
    "# We can either get links to the files stored on the server, or get the data directly.\n",
    "feature_url, upstream_basins_url = select_resp.get(asobj=False)"
   ]
  },
  {
   "cell_type": "markdown",
   "metadata": {},
   "source": [
    "We can now plot the outline of the watershed by loading it into `GeoPandas`."
   ]
  },
  {
   "cell_type": "code",
   "execution_count": 4,
   "metadata": {
    "execution": {
     "iopub.execute_input": "2020-10-08T17:52:56.515996Z",
     "iopub.status.busy": "2020-10-08T17:52:56.515305Z",
     "iopub.status.idle": "2020-10-08T17:52:56.745279Z",
     "shell.execute_reply": "2020-10-08T17:52:56.744886Z"
    }
   },
   "outputs": [
    {
     "data": {
      "text/plain": [
       "<AxesSubplot:>"
      ]
     },
     "execution_count": 4,
     "metadata": {},
     "output_type": "execute_result"
    },
    {
     "data": {
      "image/png": "[encoded data removed]",
      "text/plain": [
       "<Figure size 432x288 with 1 Axes>"
      ]
     },
     "metadata": {
      "needs_background": "light"
     },
     "output_type": "display_data"
    }
   ],
   "source": [
    "feature, upstream_basins = select_resp.get(asobj=True)\n",
    "df = gpd.GeoDataFrame.from_features([feature])\n",
    "# Alternatively use `df = gpd.read_file(feature_url)`\n",
    "df.plot()"
   ]
  },
  {
   "cell_type": "markdown",
   "metadata": {},
   "source": [
    "## Generic watershed properties\n",
    "\n",
    "Now that we have delineated a watershed, lets find the zonal statistics and other properties using the `shape_properties` process. This process requires a `shape` argument defining the watershed contour, the exterior polygon. The polygon can be given either as a link to a geometry file  (e.g. a geojson file such as `feature_url`), or as data embeded in a string. For example, if variable `feature` is a geopandas geometry, `json.dumps(feature)` can be used to convert it to a string and pass it as the `shape` argument."
   ]
  },
  {
   "cell_type": "code",
   "execution_count": 5,
   "metadata": {
    "execution": {
     "iopub.execute_input": "2020-10-08T17:52:56.749300Z",
     "iopub.status.busy": "2020-10-08T17:52:56.748701Z",
     "iopub.status.idle": "2020-10-08T17:52:57.044881Z",
     "shell.execute_reply": "2020-10-08T17:52:57.045500Z"
    }
   },
   "outputs": [],
   "source": [
    "shape_resp = wps.shape_properties(shape=feature_url)"
   ]
  },
  {
   "cell_type": "markdown",
   "metadata": {},
   "source": [
    "Once the process has completed, we extract the data from the response:"
   ]
  },
  {
   "cell_type": "code",
   "execution_count": 6,
   "metadata": {
    "execution": {
     "iopub.execute_input": "2020-10-08T17:52:57.053951Z",
     "iopub.status.busy": "2020-10-08T17:52:57.053405Z",
     "iopub.status.idle": "2020-10-08T17:52:57.062218Z",
     "shell.execute_reply": "2020-10-08T17:52:57.061806Z"
    }
   },
   "outputs": [
    {
     "name": "stdout",
     "output_type": "stream",
     "text": [
      "{'id': '96929', 'gml_id': 'USGS_HydroBASINS_lake_na_lev12.96929', 'HYBAS_ID': 7120270182, 'NEXT_DOWN': 7120270181, 'NEXT_SINK': 7120034330, 'MAIN_BAS': 7120034330, 'DIST_SINK': 490.9, 'DIST_MAIN': 490.9, 'SUB_AREA': 29.0, 'UP_AREA': 9419.6, 'PFAF_ID': 724089370000, 'SIDE': 'R', 'LAKE': 0, 'ENDO': 0, 'COAST': 0, 'ORDER': 1, 'SORT': 96929, 'area': 28764841.283497635, 'centroid': [-71.3409808346398, 50.478880424555875], 'perimeter': 33017.421967873546, 'gravelius': 1.7366297519377956}\n"
     ]
    },
    {
     "data": {
      "text/plain": [
       "{'area': 28.764841283497635,\n",
       " 'longitude': -71.3409808346398,\n",
       " 'latitude': 50.478880424555875,\n",
       " 'gravelius': 1.7366297519377956,\n",
       " 'perimeter': 33017.421967873546}"
      ]
     },
     "execution_count": 6,
     "metadata": {},
     "output_type": "execute_result"
    }
   ],
   "source": [
    "[properties, ] = shape_resp.get(asobj=True)\n",
    "prop = properties[0]\n",
    "print(prop)\n",
    "\n",
    "area = prop['area']/1000000.0\n",
    "longitude = prop['centroid'][0]\n",
    "latitude = prop['centroid'][1]\n",
    "gravelius = prop['gravelius']\n",
    "perimeter = prop['perimeter']\n",
    "\n",
    "shape_info = {'area':area, 'longitude':longitude, 'latitude':latitude, 'gravelius':gravelius, 'perimeter':perimeter}\n",
    "shape_info"
   ]
  },
  {
   "cell_type": "markdown",
   "metadata": {},
   "source": [
    "Note that these properties are a mix of the properties of the original file where the shape is stored, and properties computed by the process (area, centroid, perimeter and gravelius). Note also that the computed area is in m², while the \"SUB_AREA\" property is in km², and that there are slight differences between the two values.\n",
    "\n",
    "## Land-use information\n",
    "\n",
    "Now we extract the land-use properties of the watershed using the `nalcms_zonal_stats` process. As mentionned, it uses the [North American Land Change Monitoring System](http://www.cec.org/tools-and-resources/north-american-environmental-atlas/north-american-land-change-monitoring-system) dataset, and retrieve properties over the given region."
   ]
  },
  {
   "cell_type": "code",
   "execution_count": 7,
   "metadata": {
    "execution": {
     "iopub.execute_input": "2020-10-08T17:52:57.066584Z",
     "iopub.status.busy": "2020-10-08T17:52:57.065148Z",
     "iopub.status.idle": "2020-10-08T17:53:13.709912Z",
     "shell.execute_reply": "2020-10-08T17:53:13.710317Z"
    }
   },
   "outputs": [],
   "source": [
    "stats_resp = wps.nalcms_zonal_stats(shape=feature_url, select_all_touching=True, band=1, simple_categories=True)"
   ]
  },
  {
   "cell_type": "code",
   "execution_count": 8,
   "metadata": {
    "execution": {
     "iopub.execute_input": "2020-10-08T17:53:13.716162Z",
     "iopub.status.busy": "2020-10-08T17:53:13.715708Z",
     "iopub.status.idle": "2020-10-08T17:53:13.729554Z",
     "shell.execute_reply": "2020-10-08T17:53:13.730028Z"
    }
   },
   "outputs": [
    {
     "data": {
      "text/plain": [
       "{'id': '96929',\n",
       " 'gml_id': 'USGS_HydroBASINS_lake_na_lev12.96929',\n",
       " 'HYBAS_ID': 7120270182,\n",
       " 'NEXT_DOWN': 7120270181,\n",
       " 'NEXT_SINK': 7120034330,\n",
       " 'MAIN_BAS': 7120034330,\n",
       " 'DIST_SINK': 490.9,\n",
       " 'DIST_MAIN': 490.9,\n",
       " 'SUB_AREA': 29.0,\n",
       " 'UP_AREA': 9419.6,\n",
       " 'PFAF_ID': 724089370000,\n",
       " 'SIDE': 'R',\n",
       " 'LAKE': 0,\n",
       " 'ENDO': 0,\n",
       " 'COAST': 0,\n",
       " 'ORDER': 1,\n",
       " 'SORT': 96929,\n",
       " '1': 13532,\n",
       " '2': 335,\n",
       " '5': 4367,\n",
       " '6': 847,\n",
       " '8': 10239,\n",
       " '10': 60,\n",
       " '12': 380,\n",
       " '14': 21,\n",
       " '16': 39,\n",
       " '18': 3248,\n",
       " 'count': 33068,\n",
       " 'nodata': 8.0,\n",
       " 'nan': 0,\n",
       " 'Ocean': 0,\n",
       " 'Forest': 19081,\n",
       " 'Shrubs': 10239,\n",
       " 'Grass': 479,\n",
       " 'Wetland': 21,\n",
       " 'Crops': 0,\n",
       " 'Urban': 0,\n",
       " 'Water': 3248,\n",
       " 'SnowIce': 0}"
      ]
     },
     "metadata": {},
     "output_type": "display_data"
    },
    {
     "data": {
      "text/plain": [
       "[{'Ocean': 0,\n",
       "  'Forest': 19081,\n",
       "  'Shrubs': 10239,\n",
       "  'Grass': 479,\n",
       "  'Wetland': 21,\n",
       "  'Crops': 0,\n",
       "  'Urban': 0,\n",
       "  'Water': 3248,\n",
       "  'SnowIce': 0}]"
      ]
     },
     "metadata": {},
     "output_type": "display_data"
    }
   ],
   "source": [
    "# Note that geojson needs to be installed for this to work.\n",
    "# $ pip install -r requirements_extra.txt\n",
    "features, statistics  = stats_resp.get(asobj=True)\n",
    "\n",
    "display(features.features[0].properties)\n",
    "display(statistics)"
   ]
  },
  {
   "cell_type": "markdown",
   "metadata": {},
   "source": [
    "From there, it's easy to calculate the ratio and percentages of each land-use component."
   ]
  },
  {
   "cell_type": "code",
   "execution_count": 9,
   "metadata": {
    "execution": {
     "iopub.execute_input": "2020-10-08T17:53:13.736820Z",
     "iopub.status.busy": "2020-10-08T17:53:13.736114Z",
     "iopub.status.idle": "2020-10-08T17:53:13.739877Z",
     "shell.execute_reply": "2020-10-08T17:53:13.739215Z"
    }
   },
   "outputs": [
    {
     "data": {
      "text/plain": [
       "'Land use ratios'"
      ]
     },
     "metadata": {},
     "output_type": "display_data"
    },
    {
     "data": {
      "text/plain": [
       "{'Ocean': 0.0,\n",
       " 'Forest': 0.5770231039071005,\n",
       " 'Shrubs': 0.3096346921495101,\n",
       " 'Grass': 0.014485303011975323,\n",
       " 'Wetland': 0.0006350550381033022,\n",
       " 'Crops': 0.0,\n",
       " 'Urban': 0.0,\n",
       " 'Water': 0.09822184589331075,\n",
       " 'SnowIce': 0.0}"
      ]
     },
     "metadata": {},
     "output_type": "display_data"
    },
    {
     "data": {
      "text/plain": [
       "'Land use percentages'"
      ]
     },
     "metadata": {},
     "output_type": "display_data"
    },
    {
     "data": {
      "text/plain": [
       "{'Ocean': '0.0 %',\n",
       " 'Forest': '57.7 %',\n",
       " 'Shrubs': '30.96 %',\n",
       " 'Grass': '1.44 %',\n",
       " 'Wetland': '0.06 %',\n",
       " 'Crops': '0.0 %',\n",
       " 'Urban': '0.0 %',\n",
       " 'Water': '9.82 %',\n",
       " 'SnowIce': '0.0 %'}"
      ]
     },
     "metadata": {},
     "output_type": "display_data"
    }
   ],
   "source": [
    "lu = statistics[0]\n",
    "total = sum(lu.values())\n",
    "\n",
    "land_use_ratios = {k: (v / total) for (k,v) in lu.items()}\n",
    "display(\"Land use ratios\", land_use_ratios)\n",
    "\n",
    "precision = 2\n",
    "land_use_pct = {k: \"{} %\".format(int((v / total) * 100 * 10**precision) / 10**precision)\n",
    "                for (k,v)  in lu.items()}\n",
    "display(\"Land use percentages\", land_use_pct)"
   ]
  },
  {
   "cell_type": "markdown",
   "metadata": {},
   "source": [
    "Let's assume we are also intererested in the land-use grid. In that case we can construct a request for a process (`nalcms_zonal_stats_raster`) that also returns this information:\n"
   ]
  },
  {
   "cell_type": "code",
   "execution_count": 10,
   "metadata": {},
   "outputs": [],
   "source": [
    "stats_resp = wps.nalcms_zonal_stats_raster(\n",
    "    shape=feature_url, select_all_touching=True, band=1, simple_categories=True\n",
    ")"
   ]
  },
  {
   "cell_type": "code",
   "execution_count": 11,
   "metadata": {},
   "outputs": [
    {
     "name": "stdout",
     "output_type": "stream",
     "text": [
      "Metalink content-type detected.\n",
      "Downloading to /tmp/tmpg10i84ez/subset_1.tiff.\n"
     ]
    },
    {
     "data": {
      "text/plain": [
       "array([[[127, 127, 127, ..., 127, 127, 127],\n",
       "        [127, 127, 127, ..., 127, 127, 127],\n",
       "        [127, 127, 127, ..., 127, 127, 127],\n",
       "        ...,\n",
       "        [127, 127, 127, ..., 127, 127, 127],\n",
       "        [127, 127, 127, ..., 127, 127, 127],\n",
       "        [127, 127, 127, ..., 127, 127, 127]]], dtype=uint8)"
      ]
     },
     "metadata": {},
     "output_type": "display_data"
    },
    {
     "name": "stdout",
     "output_type": "stream",
     "text": [
      "[  1   2   5   6   8  10  12  14  16  18 127]\n"
     ]
    },
    {
     "data": {
      "text/plain": [
       "<BarContainer object of 10 artists>"
      ]
     },
     "execution_count": 11,
     "metadata": {},
     "output_type": "execute_result"
    },
    {
     "data": {
      "image/png": "[encoded data removed]",
      "text/plain": [
       "<Figure size 432x288 with 1 Axes>"
      ]
     },
     "metadata": {
      "needs_background": "light"
     },
     "output_type": "display_data"
    }
   ],
   "source": [
    "# We can access our grid directly as a numpy array\n",
    "_, _, grid = stats_resp.get(asobj=True)\n",
    "\n",
    "display(grid[0])\n",
    "\n",
    "unique, counts = numpy.unique(grid[0][0], return_counts=True)\n",
    "print(unique)\n",
    "\n",
    "plt.bar(unique[:-1], counts[:-1])"
   ]
  },
  {
   "cell_type": "markdown",
   "metadata": {},
   "source": [
    "## Terrain information from the DEM\n",
    "\n",
    "Here we collect terrain data, such as elevation, slope and aspect, from the DEM. We will do this using the `terrain_analysis` WPS service, which by default uses DEM data from [EarthEnv-DEM90](https://www.earthenv.org/DEM).\n",
    "\n",
    "Note here that while the feature outline is defined above in terms of geographic coordinates (latitude, longitude), the DEM is projected onto a 2D cartesian coordinate system (here NAD83, the Canada Atlas Lambert projection). This is necessary to perform slope calculations. For more information on this, see: https://en.wikipedia.org/wiki/Map_projection\n",
    "\n",
    "The DEM data is returned in the process response and can be displayed using `rasterio`."
   ]
  },
  {
   "cell_type": "code",
   "execution_count": 12,
   "metadata": {
    "execution": {
     "iopub.execute_input": "2020-10-08T17:53:13.746322Z",
     "iopub.status.busy": "2020-10-08T17:53:13.745774Z",
     "iopub.status.idle": "2020-10-08T17:53:18.853347Z",
     "shell.execute_reply": "2020-10-08T17:53:18.853988Z"
    }
   },
   "outputs": [],
   "source": [
    "terrain_resp = wps.terrain_analysis(shape=feature_url, select_all_touching=True, projected_crs=3978)"
   ]
  },
  {
   "cell_type": "code",
   "execution_count": 13,
   "metadata": {
    "execution": {
     "iopub.execute_input": "2020-10-08T17:53:18.862723Z",
     "iopub.status.busy": "2020-10-08T17:53:18.861036Z",
     "iopub.status.idle": "2020-10-08T17:53:18.873278Z",
     "shell.execute_reply": "2020-10-08T17:53:18.872281Z"
    }
   },
   "outputs": [],
   "source": [
    "properties, dem = terrain_resp.get(asobj=True)\n",
    "\n",
    "elevation=properties[0]['elevation']\n",
    "slope=properties[0]['slope']\n",
    "aspect=properties[0]['aspect']\n",
    "\n",
    "terrain = {'elevation':elevation, 'slope':slope,'aspect':aspect}"
   ]
  },
  {
   "cell_type": "code",
   "execution_count": 17,
   "metadata": {
    "execution": {
     "iopub.execute_input": "2020-10-08T17:53:18.879835Z",
     "iopub.status.busy": "2020-10-08T17:53:18.879271Z",
     "iopub.status.idle": "2020-10-08T17:53:19.552775Z",
     "shell.execute_reply": "2020-10-08T17:53:19.551269Z"
    },
    "pycharm": {
     "name": "#%%\n"
    }
   },
   "outputs": [
    {
     "ename": "ImportError",
     "evalue": "/home/tjs/miniconda3/envs/raven/lib/python3.8/site-packages/cartopy/_crs.cpython-38-x86_64-linux-gnu.so: undefined symbol: pj_get_release",
     "output_type": "error",
     "traceback": [
      "\u001b[0;31m---------------------------------------------------------------------------\u001b[0m",
      "\u001b[0;31mImportError\u001b[0m                               Traceback (most recent call last)",
      "\u001b[0;32m<ipython-input-17-62eb47589804>\u001b[0m in \u001b[0;36m<module>\u001b[0;34m\u001b[0m\n\u001b[1;32m      1\u001b[0m \u001b[0;31m# NBVAL_SKIP\u001b[0m\u001b[0;34m\u001b[0m\u001b[0;34m\u001b[0m\u001b[0;34m\u001b[0m\u001b[0m\n\u001b[0;32m----> 2\u001b[0;31m \u001b[0;32mimport\u001b[0m \u001b[0mcartopy\u001b[0m\u001b[0;34m.\u001b[0m\u001b[0mcrs\u001b[0m \u001b[0;32mas\u001b[0m \u001b[0mccrs\u001b[0m\u001b[0;34m\u001b[0m\u001b[0;34m\u001b[0m\u001b[0m\n\u001b[0m\u001b[1;32m      3\u001b[0m \u001b[0;34m\u001b[0m\u001b[0m\n\u001b[1;32m      4\u001b[0m \u001b[0;32mfrom\u001b[0m \u001b[0mrasterio\u001b[0m\u001b[0;34m.\u001b[0m\u001b[0mio\u001b[0m \u001b[0;32mimport\u001b[0m \u001b[0mMemoryFile\u001b[0m\u001b[0;34m\u001b[0m\u001b[0;34m\u001b[0m\u001b[0m\n\u001b[1;32m      5\u001b[0m \u001b[0;34m\u001b[0m\u001b[0m\n",
      "\u001b[0;32m~/miniconda3/envs/raven/lib/python3.8/site-packages/cartopy/__init__.py\u001b[0m in \u001b[0;36m<module>\u001b[0;34m\u001b[0m\n\u001b[1;32m     94\u001b[0m \u001b[0;31m# Commonly used sub-modules. Imported here to provide end-user\u001b[0m\u001b[0;34m\u001b[0m\u001b[0;34m\u001b[0m\u001b[0;34m\u001b[0m\u001b[0m\n\u001b[1;32m     95\u001b[0m \u001b[0;31m# convenience.\u001b[0m\u001b[0;34m\u001b[0m\u001b[0;34m\u001b[0m\u001b[0;34m\u001b[0m\u001b[0m\n\u001b[0;32m---> 96\u001b[0;31m \u001b[0;32mimport\u001b[0m \u001b[0mcartopy\u001b[0m\u001b[0;34m.\u001b[0m\u001b[0mcrs\u001b[0m\u001b[0;34m\u001b[0m\u001b[0;34m\u001b[0m\u001b[0m\n\u001b[0m\u001b[1;32m     97\u001b[0m \u001b[0;32mimport\u001b[0m \u001b[0mcartopy\u001b[0m\u001b[0;34m.\u001b[0m\u001b[0mfeature\u001b[0m  \u001b[0;31m# noqa: F401  (flake8 = unused import)\u001b[0m\u001b[0;34m\u001b[0m\u001b[0;34m\u001b[0m\u001b[0m\n",
      "\u001b[0;32m~/miniconda3/envs/raven/lib/python3.8/site-packages/cartopy/crs.py\u001b[0m in \u001b[0;36m<module>\u001b[0;34m\u001b[0m\n\u001b[1;32m     34\u001b[0m \u001b[0;32mimport\u001b[0m \u001b[0msix\u001b[0m\u001b[0;34m\u001b[0m\u001b[0;34m\u001b[0m\u001b[0m\n\u001b[1;32m     35\u001b[0m \u001b[0;34m\u001b[0m\u001b[0m\n\u001b[0;32m---> 36\u001b[0;31m from cartopy._crs import (CRS, Geodetic, Globe, PROJ4_VERSION,\n\u001b[0m\u001b[1;32m     37\u001b[0m                           WGS84_SEMIMAJOR_AXIS, WGS84_SEMIMINOR_AXIS)\n\u001b[1;32m     38\u001b[0m \u001b[0;32mfrom\u001b[0m \u001b[0mcartopy\u001b[0m\u001b[0;34m.\u001b[0m\u001b[0m_crs\u001b[0m \u001b[0;32mimport\u001b[0m \u001b[0mGeocentric\u001b[0m  \u001b[0;31m# noqa: F401 (flake8 = unused import)\u001b[0m\u001b[0;34m\u001b[0m\u001b[0;34m\u001b[0m\u001b[0m\n",
      "\u001b[0;31mImportError\u001b[0m: /home/tjs/miniconda3/envs/raven/lib/python3.8/site-packages/cartopy/_crs.cpython-38-x86_64-linux-gnu.so: undefined symbol: pj_get_release"
     ]
    }
   ],
   "source": [
    "# NBVAL_SKIP\n",
    "import cartopy.crs as ccrs\n",
    "\n",
    "from rasterio.io import MemoryFile\n",
    "\n",
    "with MemoryFile(dem) as mem:\n",
    "    with mem.open(driver='gtiff') as src:\n",
    "        crs = ccrs.LambertConformal(central_latitude=49, central_longitude=-95, standard_parallels=(49, 77))\n",
    "        da = xr.open_rasterio(src)\n",
    "        da.name = 'Elevation'\n",
    "        da.attrs['units'] = 'm'\n",
    "        ax = plt.subplot(projection=crs)\n",
    "        da.where(da!=-32768).sel(band=1).plot.imshow(ax=ax, transform=crs)\n",
    "        plt.show()"
   ]
  },
  {
   "cell_type": "markdown",
   "metadata": {},
   "source": [
    "## Overview\n",
    "\n",
    "A synthesis of all watershed properties can be created by merging the various dictionaries created."
   ]
  },
  {
   "cell_type": "code",
   "execution_count": 15,
   "metadata": {
    "execution": {
     "iopub.execute_input": "2020-10-08T17:53:19.557987Z",
     "iopub.status.busy": "2020-10-08T17:53:19.557502Z",
     "iopub.status.idle": "2020-10-08T17:53:19.560647Z",
     "shell.execute_reply": "2020-10-08T17:53:19.560269Z"
    },
    "pycharm": {
     "name": "#%%\n"
    }
   },
   "outputs": [
    {
     "ename": "NameError",
     "evalue": "name 'land_use' is not defined",
     "output_type": "error",
     "traceback": [
      "\u001b[0;31m---------------------------------------------------------------------------\u001b[0m",
      "\u001b[0;31mNameError\u001b[0m                                 Traceback (most recent call last)",
      "\u001b[0;32m<ipython-input-15-3300a576bebe>\u001b[0m in \u001b[0;36m<module>\u001b[0;34m\u001b[0m\n\u001b[0;32m----> 1\u001b[0;31m \u001b[0mall_properties\u001b[0m \u001b[0;34m=\u001b[0m \u001b[0;34m{\u001b[0m\u001b[0;34m**\u001b[0m\u001b[0mshape_info\u001b[0m\u001b[0;34m,\u001b[0m \u001b[0;34m**\u001b[0m\u001b[0mland_use\u001b[0m\u001b[0;34m,\u001b[0m \u001b[0;34m**\u001b[0m\u001b[0mterrain\u001b[0m\u001b[0;34m}\u001b[0m\u001b[0;34m\u001b[0m\u001b[0;34m\u001b[0m\u001b[0m\n\u001b[0m\u001b[1;32m      2\u001b[0m \u001b[0mprint\u001b[0m\u001b[0;34m(\u001b[0m\u001b[0mall_properties\u001b[0m\u001b[0;34m)\u001b[0m\u001b[0;34m\u001b[0m\u001b[0;34m\u001b[0m\u001b[0m\n\u001b[1;32m      3\u001b[0m \u001b[0;34m\u001b[0m\u001b[0m\n",
      "\u001b[0;31mNameError\u001b[0m: name 'land_use' is not defined"
     ]
    }
   ],
   "source": [
    "all_properties = {**shape_info, **land_use, **terrain}\n",
    "print(all_properties)"
   ]
  }
 ],
 "metadata": {
  "kernelspec": {
   "display_name": "Python 3",
   "language": "python",
   "name": "python3"
  },
  "language_info": {
   "codemirror_mode": {
    "name": "ipython",
    "version": 3
   },
   "file_extension": ".py",
   "mimetype": "text/x-python",
   "name": "python",
   "nbconvert_exporter": "python",
   "pygments_lexer": "ipython3",
   "version": "3.8.8"
  }
 },
 "nbformat": 4,
 "nbformat_minor": 1
}
