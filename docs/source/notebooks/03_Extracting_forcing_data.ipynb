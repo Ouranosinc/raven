{
 "cells": [
  {
   "cell_type": "markdown",
   "metadata": {},
   "source": [
    "# 03 - Extracting forcing data"
   ]
  },
  {
   "cell_type": "markdown",
   "metadata": {},
   "source": [
    "## Extracting meteorological data for a selected watershed\n",
    "Using a GeoJSON file extracted from the HydroSHEDS database or given by the user, meteorological datasets can be extracted inside the watershed's boundaries using the PAVICS-Hydro ERA5 database."
   ]
  },
  {
   "cell_type": "code",
   "execution_count": 1,
   "metadata": {},
   "outputs": [],
   "source": [
    "# Boilerplate packages required. Do not modify!\n",
    "import datetime as dt\n",
    "\n",
    "import fsspec\n",
    "import intake\n",
    "import s3fs\n",
    "import xarray as xr\n",
    "from clisops.core import subset"
   ]
  },
  {
   "cell_type": "markdown",
   "metadata": {},
   "source": [
    "If we want to extract data for our watershed, we need to know:\n",
    "\n",
    "- The spatial extent (as defined by the watershed boundaries);\n",
    "- The temporal extent (as defined by the start and end days of the period of interest).\n",
    "\n",
    "Let's define those now:"
   ]
  },
  {
   "cell_type": "code",
   "execution_count": 2,
   "metadata": {},
   "outputs": [],
   "source": [
    "# This will be our input section, where we control what we want to extract.\n",
    "# We know which watershed interests us, it is the input.geojson file that we previously generated!\n",
    "\n",
    "basin_contour = (\n",
    "    \"input.geojson\"  # Can be generated using notebook \"04_Delineating watersheds\"\n",
    ")\n",
    "\n",
    "# Also, we can specify which timeframe we want to extract. Here let's focus on a 10-year period\n",
    "reference_start_day = dt.datetime(1980, 12, 31)\n",
    "reference_stop_day = dt.datetime(1991, 1, 1)\n",
    "# Notice we are using one day before and one day after the desired period of 1981-01-01 to 1990-12-31.\n",
    "# This is to account for any UTC shifts that might require getting data in a previous or later time."
   ]
  },
  {
   "cell_type": "markdown",
   "metadata": {},
   "source": [
    "We now provide a means to get some data to run our model. Typically, models wil require precipitation and temperature data, so let's get that data. We will use a generally reliable dataset that is available everywhere to minimize missing values: the ERA5 Reanalysis. \n",
    "\n",
    "The code block below gathers the required data automatically. If you need other data or want to use another source, this cell will need to be replaced for your customized needs."
   ]
  },
  {
   "cell_type": "code",
   "execution_count": 3,
   "metadata": {},
   "outputs": [],
   "source": [
    "# Get the ERA5 data from the Wasabi/Amazon S3 server.\n",
    "catalog_name = \"https://raw.githubusercontent.com/hydrocloudservices/catalogs/main/catalogs/atmosphere.yaml\"\n",
    "cat = intake.open_catalog(catalog_name)\n",
    "ds = cat.era5_reanalysis_single_levels.to_dask()\n",
    "\n",
    "\"\"\"\n",
    "Get the ERA5 data. We will rechunk it to a single chunck to make it compatible with other codes on the platform, especially bias-correction.\n",
    "We are also taking the daily min and max temperatures as well as the daily total precipitation.\n",
    "\"\"\"\n",
    "# We will add a wrapper to ensure that the following operations will preserve the original data attributes, such as units and variable names.\n",
    "with xr.set_options(keep_attrs=True):\n",
    "    ERA5_reference = subset.subset_shape(\n",
    "        ds.sel(time=slice(reference_start_day, reference_stop_day)), basin_contour\n",
    "    )\n",
    "    ERA5_tmin = ERA5_reference[\"t2m\"].resample(time=\"1D\").min().chunk(-1, -1, -1)\n",
    "    ERA5_tmax = ERA5_reference[\"t2m\"].resample(time=\"1D\").max().chunk(-1, -1, -1)\n",
    "    ERA5_pr = ERA5_reference[\"tp\"].resample(time=\"1D\").sum().chunk(-1, -1, -1)"
   ]
  },
  {
   "cell_type": "markdown",
   "metadata": {},
   "source": [
    "### We can now convert these variables to the desired format and save them to disk in netcdf files to use at a later time (in a future notebook!)\n",
    "\n",
    "First, we will want to make sure that the units we are working with are compatible with the Raven modelling framework. We will want precipitation to be in mm (per time period, here we are working daily so it will be in mm/day), and temperatures will be in °C. Let's check out the current units:"
   ]
  },
  {
   "cell_type": "code",
   "execution_count": 4,
   "metadata": {},
   "outputs": [
    {
     "name": "stdout",
     "output_type": "stream",
     "text": [
      "INFORMATION FOR TMIN\n",
      "<xarray.DataArray 't2m' (time: 3654, latitude: 11, longitude: 8)>\n",
      "dask.array<rechunk-merge, shape=(3654, 11, 8), dtype=float32, chunksize=(3654, 11, 8), chunktype=numpy.ndarray>\n",
      "Coordinates:\n",
      "  * time       (time) datetime64[ns] 1980-12-31 1981-01-01 ... 1991-01-01\n",
      "  * latitude   (latitude) float32 52.25 52.0 51.75 51.5 ... 50.25 50.0 49.75\n",
      "  * longitude  (longitude) float32 -70.5 -70.25 -70.0 ... -69.25 -69.0 -68.75\n",
      "Attributes:\n",
      "    long_name:       2 metre temperature\n",
      "    nameCDM:         2_metre_temperature_surface\n",
      "    nameECMWF:       2 metre temperature\n",
      "    product_type:    analysis\n",
      "    shortNameECMWF:  2t\n",
      "    standard_name:   air_temperature\n",
      "    units:           K\n",
      "    grid_mapping:    crs\n",
      "\n",
      "INFORMATION FOR TMAX\n",
      "<xarray.DataArray 't2m' (time: 3654, latitude: 11, longitude: 8)>\n",
      "dask.array<rechunk-merge, shape=(3654, 11, 8), dtype=float32, chunksize=(3654, 11, 8), chunktype=numpy.ndarray>\n",
      "Coordinates:\n",
      "  * time       (time) datetime64[ns] 1980-12-31 1981-01-01 ... 1991-01-01\n",
      "  * latitude   (latitude) float32 52.25 52.0 51.75 51.5 ... 50.25 50.0 49.75\n",
      "  * longitude  (longitude) float32 -70.5 -70.25 -70.0 ... -69.25 -69.0 -68.75\n",
      "Attributes:\n",
      "    long_name:       2 metre temperature\n",
      "    nameCDM:         2_metre_temperature_surface\n",
      "    nameECMWF:       2 metre temperature\n",
      "    product_type:    analysis\n",
      "    shortNameECMWF:  2t\n",
      "    standard_name:   air_temperature\n",
      "    units:           K\n",
      "    grid_mapping:    crs\n",
      "\n",
      "INFORMATION FOR PRECIPITATION\n",
      "<xarray.DataArray 'tp' (time: 3654, latitude: 11, longitude: 8)>\n",
      "dask.array<rechunk-merge, shape=(3654, 11, 8), dtype=float32, chunksize=(3654, 11, 8), chunktype=numpy.ndarray>\n",
      "Coordinates:\n",
      "  * time       (time) datetime64[ns] 1980-12-31 1981-01-01 ... 1991-01-01\n",
      "  * latitude   (latitude) float32 52.25 52.0 51.75 51.5 ... 50.25 50.0 49.75\n",
      "  * longitude  (longitude) float32 -70.5 -70.25 -70.0 ... -69.25 -69.0 -68.75\n",
      "Attributes:\n",
      "    long_name:       Total precipitation\n",
      "    nameCDM:         Total_precipitation_1hour_Accumulation\n",
      "    nameECMWF:       Total precipitation\n",
      "    product_type:    forecast\n",
      "    shortNameECMWF:  tp\n",
      "    standard_name:   precipitation_amount\n",
      "    units:           m\n",
      "    grid_mapping:    crs\n",
      "\n"
     ]
    }
   ],
   "source": [
    "print(\"INFORMATION FOR TMIN\")\n",
    "print(ERA5_tmin)\n",
    "print(\"\")\n",
    "print(\"INFORMATION FOR TMAX\")\n",
    "print(ERA5_tmax)\n",
    "print(\"\")\n",
    "print(\"INFORMATION FOR PRECIPITATION\")\n",
    "print(ERA5_pr)\n",
    "print(\"\")"
   ]
  },
  {
   "cell_type": "markdown",
   "metadata": {},
   "source": [
    "We can see that the units are in Kelvin for temperatures and in meters for precipitation. We will want to do some conversions!\n",
    "\n",
    "Let's start by applying offsets for temperatures and a conversion factor for precipitation:\n"
   ]
  },
  {
   "cell_type": "code",
   "execution_count": 5,
   "metadata": {},
   "outputs": [],
   "source": [
    "with xr.set_options(keep_attrs=True):\n",
    "    ERA5_tmin = ERA5_tmin - 273.15  # K to °C\n",
    "    ERA5_tmin.attrs[\"units\"] = \"degC\"\n",
    "\n",
    "    ERA5_tmax = ERA5_tmax - 273.15  # K to °C\n",
    "    ERA5_tmax.attrs[\"units\"] = \"degC\"\n",
    "\n",
    "    ERA5_pr = ERA5_pr * 1000  # m to mm\n",
    "    ERA5_pr.attrs[\"units\"] = \"mm\""
   ]
  },
  {
   "cell_type": "markdown",
   "metadata": {},
   "source": [
    "We can see the changes now by re-inspecting the datasets:"
   ]
  },
  {
   "cell_type": "code",
   "execution_count": 6,
   "metadata": {},
   "outputs": [
    {
     "name": "stdout",
     "output_type": "stream",
     "text": [
      "INFORMATION FOR TMIN\n",
      "<xarray.DataArray 't2m' (time: 3654, latitude: 11, longitude: 8)>\n",
      "dask.array<sub, shape=(3654, 11, 8), dtype=float32, chunksize=(3654, 11, 8), chunktype=numpy.ndarray>\n",
      "Coordinates:\n",
      "  * time       (time) datetime64[ns] 1980-12-31 1981-01-01 ... 1991-01-01\n",
      "  * latitude   (latitude) float32 52.25 52.0 51.75 51.5 ... 50.25 50.0 49.75\n",
      "  * longitude  (longitude) float32 -70.5 -70.25 -70.0 ... -69.25 -69.0 -68.75\n",
      "Attributes:\n",
      "    long_name:       2 metre temperature\n",
      "    nameCDM:         2_metre_temperature_surface\n",
      "    nameECMWF:       2 metre temperature\n",
      "    product_type:    analysis\n",
      "    shortNameECMWF:  2t\n",
      "    standard_name:   air_temperature\n",
      "    units:           degC\n",
      "    grid_mapping:    crs\n",
      "\n",
      "INFORMATION FOR TMAX\n",
      "<xarray.DataArray 't2m' (time: 3654, latitude: 11, longitude: 8)>\n",
      "dask.array<sub, shape=(3654, 11, 8), dtype=float32, chunksize=(3654, 11, 8), chunktype=numpy.ndarray>\n",
      "Coordinates:\n",
      "  * time       (time) datetime64[ns] 1980-12-31 1981-01-01 ... 1991-01-01\n",
      "  * latitude   (latitude) float32 52.25 52.0 51.75 51.5 ... 50.25 50.0 49.75\n",
      "  * longitude  (longitude) float32 -70.5 -70.25 -70.0 ... -69.25 -69.0 -68.75\n",
      "Attributes:\n",
      "    long_name:       2 metre temperature\n",
      "    nameCDM:         2_metre_temperature_surface\n",
      "    nameECMWF:       2 metre temperature\n",
      "    product_type:    analysis\n",
      "    shortNameECMWF:  2t\n",
      "    standard_name:   air_temperature\n",
      "    units:           degC\n",
      "    grid_mapping:    crs\n",
      "\n",
      "INFORMATION FOR PRECIPITATION\n",
      "<xarray.DataArray 'tp' (time: 3654, latitude: 11, longitude: 8)>\n",
      "dask.array<mul, shape=(3654, 11, 8), dtype=float32, chunksize=(3654, 11, 8), chunktype=numpy.ndarray>\n",
      "Coordinates:\n",
      "  * time       (time) datetime64[ns] 1980-12-31 1981-01-01 ... 1991-01-01\n",
      "  * latitude   (latitude) float32 52.25 52.0 51.75 51.5 ... 50.25 50.0 49.75\n",
      "  * longitude  (longitude) float32 -70.5 -70.25 -70.0 ... -69.25 -69.0 -68.75\n",
      "Attributes:\n",
      "    long_name:       Total precipitation\n",
      "    nameCDM:         Total_precipitation_1hour_Accumulation\n",
      "    nameECMWF:       Total precipitation\n",
      "    product_type:    forecast\n",
      "    shortNameECMWF:  tp\n",
      "    standard_name:   precipitation_amount\n",
      "    units:           mm\n",
      "    grid_mapping:    crs\n",
      "\n"
     ]
    }
   ],
   "source": [
    "print(\"INFORMATION FOR TMIN\")\n",
    "print(ERA5_tmin)\n",
    "print(\"\")\n",
    "print(\"INFORMATION FOR TMAX\")\n",
    "print(ERA5_tmax)\n",
    "print(\"\")\n",
    "print(\"INFORMATION FOR PRECIPITATION\")\n",
    "print(ERA5_pr)\n",
    "print(\"\")"
   ]
  },
  {
   "cell_type": "markdown",
   "metadata": {},
   "source": [
    "So let's write them to disk for now. We will use the netcdf format as this is what Raven uses for inputs. It is possible you will get some warnings, this is OK and should not cause any problems. Since our model will run in lumped mode, we will average the spatial dimensions of each variable over the domain."
   ]
  },
  {
   "cell_type": "code",
   "execution_count": 7,
   "metadata": {},
   "outputs": [],
   "source": [
    "with xr.set_options(keep_attrs=True):\n",
    "    # Average the variables\n",
    "    ERA5_tmin = ERA5_tmin.mean({\"latitude\", \"longitude\"})\n",
    "    ERA5_tmax = ERA5_tmax.mean({\"latitude\", \"longitude\"})\n",
    "    ERA5_pr = ERA5_pr.mean({\"latitude\", \"longitude\"})\n",
    "\n",
    "    # Ensure that the precipitation is non-negative, which can happen with some reanalysis models.\n",
    "    ERA5_pr[ERA5_pr < 0] = 0\n",
    "\n",
    "    # Transform them to a dataset such that they can be written with attributes to netcdf\n",
    "    ERA5_tmin = ERA5_tmin.to_dataset(name=\"tmin\", promote_attrs=True)\n",
    "    ERA5_tmax = ERA5_tmax.to_dataset(name=\"tmax\", promote_attrs=True)\n",
    "    ERA5_pr = ERA5_pr.to_dataset(name=\"pr\", promote_attrs=True)"
   ]
  },
  {
   "cell_type": "code",
   "execution_count": 8,
   "metadata": {},
   "outputs": [
    {
     "data": {
      "text/plain": [
       "[<matplotlib.lines.Line2D at 0x7fbb58c75d00>]"
      ]
     },
     "execution_count": 8,
     "metadata": {},
     "output_type": "execute_result"
    },
    {
     "data": {
      "image/png": "[encoded data removed]",
      "text/plain": [
       "<Figure size 432x288 with 1 Axes>"
      ]
     },
     "metadata": {
      "needs_background": "light"
     },
     "output_type": "display_data"
    }
   ],
   "source": [
    "ERA5_pr.pr.plot()"
   ]
  },
  {
   "cell_type": "code",
   "execution_count": 9,
   "metadata": {},
   "outputs": [
    {
     "name": "stderr",
     "output_type": "stream",
     "text": [
      "/opt/conda/envs/birdy/lib/python3.8/site-packages/dask/array/reductions.py:538: RuntimeWarning: All-NaN slice encountered\n",
      "  return np.nanmin(x_chunk, axis=axis, keepdims=keepdims)\n",
      "/opt/conda/envs/birdy/lib/python3.8/site-packages/dask/array/reductions.py:567: RuntimeWarning: All-NaN slice encountered\n",
      "  return np.nanmax(x_chunk, axis=axis, keepdims=keepdims)\n"
     ]
    }
   ],
   "source": [
    "with xr.set_options(keep_attrs=True):\n",
    "    # Write to disk.\n",
    "    ERA5_tmin.to_netcdf(\"ERA5_tmin.nc\")\n",
    "    ERA5_tmax.to_netcdf(\"ERA5_tmax.nc\")\n",
    "    ERA5_pr.to_netcdf(\"ERA5_pr.nc\")"
   ]
  },
  {
   "cell_type": "markdown",
   "metadata": {},
   "source": [
    "We now have daily precipitation and minimum/maximum temperatures to drive our Raven Model, which we will do in the next notebook!"
   ]
  }
 ],
 "metadata": {
  "kernelspec": {
   "display_name": "Python 3 (ipykernel)",
   "language": "python",
   "name": "python3"
  },
  "language_info": {
   "codemirror_mode": {
    "name": "ipython",
    "version": 3
   },
   "file_extension": ".py",
   "mimetype": "text/x-python",
   "name": "python",
   "nbconvert_exporter": "python",
   "pygments_lexer": "ipython3",
   "version": "3.8.13"
  },
  "nbdime-conflicts": {
   "local_diff": [
    {
     "diff": [
      {
       "diff": [
        {
         "key": 0,
         "op": "addrange",
         "valuelist": [
          "3.6.7"
         ]
        },
        {
         "key": 0,
         "length": 1,
         "op": "removerange"
        }
       ],
       "key": "version",
       "op": "patch"
      }
     ],
     "key": "language_info",
     "op": "patch"
    }
   ],
   "remote_diff": [
    {
     "diff": [
      {
       "diff": [
        {
         "key": 0,
         "op": "addrange",
         "valuelist": [
          "3.6.10"
         ]
        },
        {
         "key": 0,
         "length": 1,
         "op": "removerange"
        }
       ],
       "key": "version",
       "op": "patch"
      }
     ],
     "key": "language_info",
     "op": "patch"
    }
   ]
  }
 },
 "nbformat": 4,
 "nbformat_minor": 4
}
