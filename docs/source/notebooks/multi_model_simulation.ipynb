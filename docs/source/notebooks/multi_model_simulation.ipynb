{
 "cells": [
  {
   "cell_type": "markdown",
   "metadata": {},
   "source": [
    "# Running a multi-member hydrological ensemble on the Raven Server\n",
    "\n",
    "Here we use birdy's WPS client to launch the GR4JCN and HMETS hydrological models on the server and analyze the outputs. "
   ]
  },
  {
   "cell_type": "code",
   "execution_count": 1,
   "metadata": {},
   "outputs": [],
   "source": [
    "from birdy import WPSClient\n",
    "\n",
    "from example_data import TESTDATA\n",
    "import datetime as dt\n",
    "from urllib.request import urlretrieve\n",
    "import xarray as xr\n",
    "import numpy as np\n",
    "from matplotlib import pyplot as plt\n",
    "\n",
    "# url = \"https://pavics.ouranos.ca/twitcher/ows/proxy/raven/wps\"\n",
    "url = \"http://localhost:9099/wps\"\n",
    "wps = WPSClient(url)"
   ]
  },
  {
   "cell_type": "code",
   "execution_count": 2,
   "metadata": {
    "scrolled": true
   },
   "outputs": [],
   "source": [
    "# The model parameters for gr4jcn and hmets. Can either be a string of comma separated values, a list, an array or a named tuple. \n",
    "gr4jcn ='0.529, -3.396, 407.29, 1.072, 16.9, 0.947'\n",
    "hmets = '9.5019, 0.2774, 6.3942, 0.6884, 1.2875, 5.4134, 2.3641, 0.0973, 0.0464, 0.1998, 0.0222, -1.0919, ' \\\n",
    "         '2.6851, 0.3740, 1.0000, 0.4739, 0.0114, 0.0243, 0.0069, 310.7211, 916.1947'\n",
    "\n",
    "# Forcing files. Raven uses the same forcing files for all and extracts the information it requires for each model.\n",
    "ts=TESTDATA['raven-gr4j-cemaneige-nc-ts']\n",
    "\n",
    "# Model configuration parameters.\n",
    "config = dict(\n",
    "    start_date=dt.datetime(2000, 1, 1),\n",
    "    end_date=dt.datetime(2002, 1, 1),\n",
    "    area=4250.6,\n",
    "    elevation=843.0,\n",
    "    latitude=54.4848,\n",
    "    longitude=-123.3659,\n",
    "    )\n",
    "\n",
    "# Launch the WPS to get the multi-model results.  Note the \"gr4jcn\" and \"hmets\" keys.\n",
    "resp=wps.raven_multi_model(ts=str(ts),gr4jcn=gr4jcn,hmets=hmets, **config) "
   ]
  },
  {
   "cell_type": "markdown",
   "metadata": {},
   "source": [
    "Let's see the diagnostics and the output hydrograph. "
   ]
  },
  {
   "cell_type": "code",
   "execution_count": 3,
   "metadata": {},
   "outputs": [
    {
     "name": "stdout",
     "output_type": "stream",
     "text": [
      "['observed data series,filename,DIAG_NASH_SUTCLIFFE,DIAG_RMSE,\\nHYDROGRAPH,/tmp/pywps_process_55e4t4d_/Salmon-River-Near-Prince-George_meteo_daily.nc,-0.0371048,36.562,\\n', 'observed data series,filename,DIAG_NASH_SUTCLIFFE,DIAG_RMSE,\\nHYDROGRAPH,/tmp/pywps_process_55e4t4d_/Salmon-River-Near-Prince-George_meteo_daily.nc,-7.03141,101.745,\\n']\n",
      "[<xarray.Dataset>\n",
      "Dimensions:     (nbasins: 1, time: 732)\n",
      "Coordinates:\n",
      "  * time        (time) datetime64[ns] 2000-01-01 2000-01-02 ... 2002-01-01\n",
      "    basin_name  (nbasins) object ...\n",
      "Dimensions without coordinates: nbasins\n",
      "Data variables:\n",
      "    precip      (time) float64 ...\n",
      "    q_sim       (time, nbasins) float64 ...\n",
      "    q_obs       (time, nbasins) float64 ...\n",
      "    q_in        (time, nbasins) float64 ...\n",
      "Attributes:\n",
      "    Conventions:          CF-1.6\n",
      "    featureType:          timeSeries\n",
      "    history:              Created on 2019-09-05 13:53:46 by Raven\n",
      "    description:          Standard Output\n",
      "    title:                Simulated river discharge\n",
      "    references:           Craig J.R. and the Raven Development Team Raven use...\n",
      "    comment:              Raven Hydrological Framework version 2.9 rev#177\n",
      "    model_id:             gr4jcn\n",
      "    time_frequency:       day\n",
      "    time_coverage_start:  2000-01-01 00:00:00\n",
      "    time_coverage_end:    2002-01-01 00:00:00, <xarray.Dataset>\n",
      "Dimensions:     (nbasins: 1, time: 732)\n",
      "Coordinates:\n",
      "  * time        (time) datetime64[ns] 2000-01-01 2000-01-02 ... 2002-01-01\n",
      "    basin_name  (nbasins) object ...\n",
      "Dimensions without coordinates: nbasins\n",
      "Data variables:\n",
      "    precip      (time) float64 ...\n",
      "    q_sim       (time, nbasins) float64 ...\n",
      "    q_obs       (time, nbasins) float64 ...\n",
      "    q_in        (time, nbasins) float64 ...\n",
      "Attributes:\n",
      "    Conventions:          CF-1.6\n",
      "    featureType:          timeSeries\n",
      "    history:              Created on 2019-09-05 13:53:46 by Raven\n",
      "    description:          Standard Output\n",
      "    title:                Simulated river discharge\n",
      "    references:           Craig J.R. and the Raven Development Team Raven use...\n",
      "    comment:              Raven Hydrological Framework version 2.9 rev#177\n",
      "    model_id:             hmets\n",
      "    time_frequency:       day\n",
      "    time_coverage_start:  2000-01-01 00:00:00\n",
      "    time_coverage_end:    2002-01-01 00:00:00]\n"
     ]
    }
   ],
   "source": [
    "# And get the response\n",
    "# With `asobj` set to False, only the reference to the output is returned in the response. \n",
    "# Setting `asobj` to True will retrieve the actual files and copy the locally. \n",
    "[hydrograph, storage, solution, diagnostics] = resp.get(asobj=True)\n",
    "print(diagnostics)\n",
    "print(hydrograph)"
   ]
  },
  {
   "cell_type": "markdown",
   "metadata": {},
   "source": [
    "The `hydrograph` and `storage` outputs are netCDF files storing the time series. These files are opened by default using `xarray`, which provides convenient and powerful time series analysis and plotting tools. "
   ]
  },
  {
   "cell_type": "code",
   "execution_count": 4,
   "metadata": {},
   "outputs": [
    {
     "data": {
      "text/plain": [
       "<xarray.DataArray 'q_sim' (time: 732, nbasins: 1)>\n",
       "array([[ 0.      ],\n",
       "       [ 0.165788],\n",
       "       [ 0.559366],\n",
       "       ...,\n",
       "       [28.077934],\n",
       "       [27.835867],\n",
       "       [27.597955]])\n",
       "Coordinates:\n",
       "  * time        (time) datetime64[ns] 2000-01-01 2000-01-02 ... 2002-01-01\n",
       "    basin_name  (nbasins) object ...\n",
       "Dimensions without coordinates: nbasins\n",
       "Attributes:\n",
       "    units:      m**3 s**-1\n",
       "    long_name:  Simulated outflows"
      ]
     },
     "execution_count": 4,
     "metadata": {},
     "output_type": "execute_result"
    }
   ],
   "source": [
    "hydrograph[0].q_sim"
   ]
  },
  {
   "cell_type": "code",
   "execution_count": 6,
   "metadata": {},
   "outputs": [
    {
     "data": {
      "text/plain": [
       "[<matplotlib.lines.Line2D at 0x7fe584dc7320>]"
      ]
     },
     "execution_count": 6,
     "metadata": {},
     "output_type": "execute_result"
    },
    {
     "data": {
      "image/png": "[encoded data removed]",
      "text/plain": [
       "<Figure size 432x288 with 1 Axes>"
      ]
     },
     "metadata": {
      "needs_background": "light"
     },
     "output_type": "display_data"
    }
   ],
   "source": [
    "from pandas.plotting import register_matplotlib_converters\n",
    "register_matplotlib_converters()\n",
    "\n",
    "hydrograph[0].q_sim.plot()\n",
    "hydrograph[1].q_sim.plot()"
   ]
  },
  {
   "cell_type": "code",
   "execution_count": 7,
   "metadata": {},
   "outputs": [
    {
     "name": "stdout",
     "output_type": "stream",
     "text": [
      "Max:  <xarray.DataArray 'q_sim' ()>\n",
      "array(89.922826)\n",
      "Mean:  <xarray.DataArray 'q_sim' ()>\n",
      "array(24.683159)\n",
      "Monthly means:  <xarray.DataArray 'q_sim' (month: 12)>\n",
      "array([14.517574, 11.473847, 10.072479, 20.420102, 24.375415, 22.558126,\n",
      "       23.561023, 25.30086 , 28.723886, 34.377812, 46.446956, 34.094862])\n",
      "Coordinates:\n",
      "  * month    (month) int64 1 2 3 4 5 6 7 8 9 10 11 12\n"
     ]
    },
    {
     "name": "stderr",
     "output_type": "stream",
     "text": [
      "/home/tjs/miniconda3/envs/raven-dev/lib/python3.6/site-packages/xarray/core/groupby.py:639: FutureWarning: Default reduction dimension will be changed to the grouped dimension in a future version of xarray. To silence this warning, pass dim=xarray.ALL_DIMS explicitly.\n",
      "  skipna=skipna, allow_lazy=True, **kwargs)\n"
     ]
    }
   ],
   "source": [
    "print(\"Max: \", hydrograph[0].q_sim.max())\n",
    "print(\"Mean: \", hydrograph[0].q_sim.mean())\n",
    "print(\"Monthly means: \", hydrograph[0].q_sim.groupby('time.month').mean())"
   ]
  }
 ],
 "metadata": {
  "kernelspec": {
   "display_name": "Python 3",
   "language": "python",
   "name": "python3"
  },
  "language_info": {
   "codemirror_mode": {
    "name": "ipython",
    "version": 3
   },
   "file_extension": ".py",
   "mimetype": "text/x-python",
   "name": "python",
   "nbconvert_exporter": "python",
   "pygments_lexer": "ipython3",
   "version": "3.6.8"
  }
 },
 "nbformat": 4,
 "nbformat_minor": 1
}
