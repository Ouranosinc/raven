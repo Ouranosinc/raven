{
 "cells": [
  {
   "cell_type": "markdown",
   "id": "chinese-dealer",
   "metadata": {},
   "source": [
    "# Compute the risk of flooding from a threshold extracted form a frequency analysis of observed data\n",
    "\n",
    "In this notebook, we combine the forecasting abilities and the time series analysis capabilities in a single seamless process to estimate the flood risk of a probabilistic forecast. As an example, we first perform a frequency analysis on an observed time series, then estimate the streamflow associated to a 2-year return period. We then perform a climatological ESP forecast (to ensure repeatability, but a realtime forecast would work too!) and estimate the probability of flooding (exceeding the threshold) given the ensemble of members in the probabilistic forecast."
   ]
  },
  {
   "cell_type": "code",
   "execution_count": null,
   "id": "descending-bedroom",
   "metadata": {
    "scrolled": true
   },
   "outputs": [],
   "source": [
    "%matplotlib inline\n",
    "\n",
    "from birdy import WPSClient\n",
    "from ravenpy.utilities.testdata import get_file\n",
    "import os\n",
    "import xarray as xr\n",
    "from urllib.request import urlretrieve\n",
    "from pathlib import Path\n",
    "import datetime as dt\n",
    "from matplotlib import pyplot as plt\n",
    "import tempfile\n",
    "\n",
    "\n",
    "# Set environment variable WPS_URL to \"http://localhost:9099\" to run on the default local server\n",
    "finch_url = os.environ.get(\n",
    "    \"FINCH_WPS_URL\", \"https://pavics.ouranos.ca/twitcher/ows/proxy/finch/wps\"\n",
    ")\n",
    "finch = WPSClient(finch_url)"
   ]
  },
  {
   "cell_type": "markdown",
   "id": "genuine-dodge",
   "metadata": {},
   "source": [
    "Perform the time series analysis on observed data for the catchment using the frequency analysis WPS capabilities."
   ]
  },
  {
   "cell_type": "code",
   "execution_count": null,
   "id": "quiet-queens",
   "metadata": {},
   "outputs": [],
   "source": [
    "# Get the data that we will be using for the demonstration.\n",
    "fn = \"https://pavics.ouranos.ca/twitcher/ows/proxy/thredds/fileServer/birdhouse/testdata/raven/raven-gr4j-cemaneige/Salmon-River-Near-Prince-George_meteo_daily.nc\"\n",
    "\n",
    "# Perform the frequency analysis for various return periods. We compute 2, 5, 10, 25, 50 and 100 year return\n",
    "# periods, but later on we will only compare the forecasts to the 2 year return period.\n",
    "resp_fa = finch.(\n",
    "    fn, variable=\"qobs\", mode=\"max\", t=(2, 5, 10, 25, 50, 100), dist=\"gumbel_r\"\n",
    ")\n",
    "out, log, meta = resp_fa.get(asobj=True)"
   ]
  },
  {
   "cell_type": "code",
   "execution_count": null,
   "id": "appointed-toner",
   "metadata": {},
   "outputs": [],
   "source": [
    "# Plot the results of the flows as a function of return period.\n",
    "fig, ax = plt.subplots(1)\n",
    "lines = out.q1maxannual.plot(ax=ax)\n",
    "\n",
    "# Get 2-year return period from the frequency analysis\n",
    "threshold = out.sel(return_period=2).q1maxannual.values\n",
    "print(f\"Threshold: {threshold:.1f}\")\n",
    "\n",
    "pt = ax.plot([2], [threshold], \"ro\")\n",
    "\n",
    "ax.annotate(\n",
    "    \"Flow threshold, set at 2-year return period\",\n",
    "    (2, threshold),\n",
    "    xytext=(25, 10),\n",
    "    textcoords=\"offset points\",\n",
    "    arrowprops=dict(arrowstyle=\"->\", connectionstyle=\"arc3\"),\n",
    ")"
   ]
  },
  {
   "cell_type": "markdown",
   "id": "explicit-accent",
   "metadata": {},
   "source": [
    "## Probabilistic forecast\n",
    "\n",
    "Let's first connect to the WPS server that performs hydrological modelling and forecasting.\n",
    "\n",
    "Then we generate a series of forecasts based on the climatology of previous years."
   ]
  },
  {
   "cell_type": "code",
   "execution_count": null,
   "id": "needed-vector",
   "metadata": {
    "execution": {
     "iopub.execute_input": "2021-09-08T20:34:05.290875Z",
     "iopub.status.busy": "2021-09-08T20:34:05.290298Z",
     "iopub.status.idle": "2021-09-08T20:34:06.021431Z",
     "shell.execute_reply": "2021-09-08T20:34:06.021079Z"
    }
   },
   "outputs": [],
   "source": [
    "raven_url = os.environ.get(\n",
    "    \"WPS_URL\", \"https://pavics.ouranos.ca/twitcher/ows/proxy/raven/wps\"\n",
    ")\n",
    "wps = WPSClient(raven_url)\n",
    "tmp = Path(tempfile.mkdtemp())"
   ]
  },
  {
   "cell_type": "code",
   "execution_count": null,
   "id": "excessive-apparatus",
   "metadata": {
    "execution": {
     "iopub.execute_input": "2021-09-08T20:34:06.026173Z",
     "iopub.status.busy": "2021-09-08T20:34:06.025792Z",
     "iopub.status.idle": "2021-09-08T20:34:21.490991Z",
     "shell.execute_reply": "2021-09-08T20:34:21.490647Z"
    }
   },
   "outputs": [],
   "source": [
    "# Define some of the catchment properties. Could also be replaced by a call to the properties WPS.\n",
    "basin_area = 4523.5\n",
    "basin_longitude = -72.55\n",
    "basin_latitude = 48.39\n",
    "basin_elevation = 300.0\n",
    "\n",
    "# Choose a hydrological model to use. We have 'HMETS', 'GR4JCN','MOHYSE' and 'HBVEC'.\n",
    "hydromodel = \"GR4JCN\"\n",
    "\n",
    "# Since we've used GR4JCN, we need to provide that model's parameters.\n",
    "model_parameters = \"0.529, -3.396, 157.29, 1.072, 16.9, 0.947\"\n",
    "\n",
    "# Choose the forecast date. Each forecast will start with the same day and month.\n",
    "# For example, jan-05-2001 will compare the climatology using all jan-05ths from the dataset)\n",
    "fdate = dt.datetime(2003, 4, 13)\n",
    "\n",
    "# The dataset to use to get the forecast timeseries:\n",
    "# ts = str(get_file(\"raven-gr4j-cemaneige/Salmon-River-Near-Prince-George_meteo_daily.nc\"))\n",
    "duration = 30  # Length in days of the climatological ESP forecast\n",
    "\n",
    "# Launch the climatology ESP on the remote server\n",
    "resp = wps.climatology_esp(\n",
    "    fdate,\n",
    "    forecast_duration=duration,\n",
    "    ts=fn,\n",
    "    model_name=hydromodel,\n",
    "    params=model_parameters,\n",
    "    latitude=basin_latitude,\n",
    "    longitude=basin_longitude,\n",
    "    elevation=basin_elevation,\n",
    "    area=basin_area,\n",
    ")\n",
    "\n",
    "# Get the link to the forecast file, that will be used to compute the flood risk for this particular event.\n",
    "[forecast_url] = resp.get(asobj=False)\n",
    "[forecast] = resp.get(asobj=True)"
   ]
  },
  {
   "cell_type": "code",
   "execution_count": null,
   "id": "embedded-patrol",
   "metadata": {},
   "outputs": [],
   "source": [
    "# Plot the forecasts and the 2-year threshold previously estimated\n",
    "fig, ax = plt.subplots(1)\n",
    "lines = forecast.q_sim.plot(ax=ax, hue=\"member\", add_legend=False, color=\"gray\", lw=0.5)\n",
    "t = ax.axhline(threshold, color=\"red\")"
   ]
  },
  {
   "cell_type": "code",
   "execution_count": null,
   "id": "british-bunch",
   "metadata": {},
   "outputs": [],
   "source": [
    "# Now compute the flood risk given the probabilistic forecast and the threshold associated to the 2-year return\n",
    "# period.\n",
    "\n",
    "threshold = out.sel(return_period=2).q1maxannual.values\n",
    "\n",
    "# Run the flood forecast WPS to extract the probability of exceedance\n",
    "resp_floodrisk = wps.forecast_floodrisk(\n",
    "    fcst=forecast_url, name=\"q_sim\", flood_level=threshold\n",
    ")\n",
    "[flood_risk] = resp_floodrisk.get(asobj=True)\n",
    "\n",
    "# Extract the data and plot\n",
    "fig, ax = plt.subplots(1)\n",
    "l = flood_risk.exceedance_probability.plot()\n",
    "ax.set_ylabel(\"Flood risk\")"
   ]
  },
  {
   "cell_type": "markdown",
   "id": "surface-constitutional",
   "metadata": {},
   "source": [
    "### Results analysis\n",
    "We can see from the above figure that there is a small risk of exceeding the 2-year return period for a set of dates during the forecast."
   ]
  }
 ],
 "metadata": {
  "kernelspec": {
   "display_name": "Python 3 (ipykernel)",
   "language": "python",
   "name": "python3"
  },
  "language_info": {
   "codemirror_mode": {
    "name": "ipython",
    "version": 3
   },
   "file_extension": ".py",
   "mimetype": "text/x-python",
   "name": "python",
   "nbconvert_exporter": "python",
   "pygments_lexer": "ipython3",
   "version": "3.7.11"
  }
 },
 "nbformat": 4,
 "nbformat_minor": 5
}
