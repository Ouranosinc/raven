{
 "cells": [
  {
   "cell_type": "markdown",
   "metadata": {},
   "source": [
    "# Computing Objective Functions on the Raven server\n",
    "\n",
    "Here we use birdy's WPS client to compare simulated and observed discharge using various objective functions on the server."
   ]
  },
  {
   "cell_type": "code",
   "execution_count": 16,
   "metadata": {},
   "outputs": [],
   "source": [
    "from birdy import WPSClient\n",
    "\n",
    "from example_data import TESTDATA\n",
    "import datetime as dt\n",
    "from urllib.request import urlretrieve\n",
    "import xarray as xr\n",
    "import numpy as np\n",
    "from matplotlib import pyplot as plt\n",
    "\n",
    "url = \"http://localhost:9099/wps\"\n",
    "wps = WPSClient(url)"
   ]
  },
  {
   "cell_type": "markdown",
   "metadata": {},
   "source": [
    "# First, Run GR4JCN to generate a NetCDF file containing 'q_obs' and 'q_sim'.\n",
    "This file contains 'q_obs' from the initial dataset, plus the simulated discharge 'q_sim' from the model."
   ]
  },
  {
   "cell_type": "code",
   "execution_count": 17,
   "metadata": {},
   "outputs": [],
   "source": [
    "# The model parameters. Can either be a string of comma separated values, a list, an array or a named tuple. \n",
    "params = '0.529, -3.396, 407.29, 1.072, 16.9, 0.947'\n",
    "\n",
    "# Forcing files\n",
    "ts=TESTDATA['raven-gr4j-cemaneige-nc-ts']\n",
    "\n",
    "# Model configuration parameters\n",
    "config = dict(\n",
    "    start_date=dt.datetime(2000, 1, 1),\n",
    "    end_date=dt.datetime(2002, 1, 1),\n",
    "    area=4250.6,\n",
    "    elevation=843.0,\n",
    "    latitude=54.4848,\n",
    "    longitude=-123.3659,\n",
    "    )\n",
    "\n",
    "# Let's call the model\n",
    "resp = wps.raven_gr4j_cemaneige(ts=str(ts), params = params, **config)\n",
    "\n",
    "# And get the response\n",
    "# With `asobj` set to False, only the reference to the output is returned in the response. \n",
    "# Setting `asobj` to True will retrieve the actual files and copy the locally.\n",
    "# Here we use false, as we do not want the file, we only want the path to the file.\n",
    "[hydrograph, storage, solution, diagnostics] = resp.get(asobj=False)"
   ]
  },
  {
   "cell_type": "markdown",
   "metadata": {},
   "source": [
    "Now we can call the objective function WPS service on the Raven Server and collect the results using 'asobj=True' to collect the actual results in a dict format."
   ]
  },
  {
   "cell_type": "code",
   "execution_count": 22,
   "metadata": {},
   "outputs": [],
   "source": [
    "resp = wps.objective_function(obs=hydrograph, sim=hydrograph)\n",
    "results=resp.get(asobj=True)"
   ]
  },
  {
   "cell_type": "markdown",
   "metadata": {},
   "source": [
    "Let's see the results!"
   ]
  },
  {
   "cell_type": "code",
   "execution_count": 23,
   "metadata": {},
   "outputs": [
    {
     "name": "stdout",
     "output_type": "stream",
     "text": [
      "{'agreementindex': 0.4101473235671874, 'bias': 16.714572745371907, 'correlationcoefficient': 0.29808341759679674, 'covariance': 95.60942322512605, 'decomposed_mse': 1456.9251620291332, 'kge': -0.18901069937022497, 'log_p': -93.9590477440829, 'lognashsutcliffe': -1.768327662096807, 'mae': 20.36859544677684, 'mse': 1456.9251620291332, 'nashsutcliffe': -0.1303183349889243, 'pbias': -59.73471023716637, 'rmse': 38.16968904810639, 'rrmse': 1.364112232999017, 'rsquared': 0.08885372384618631, 'rsr': 1.0631643029132065, 'volume_error': -0.5973471023716637}\n"
     ]
    }
   ],
   "source": [
    "print(results.metrics)"
   ]
  },
  {
   "cell_type": "markdown",
   "metadata": {},
   "source": [
    "There are 17 objective functions. We can also call the WPS server with any one of those objective functions:"
   ]
  },
  {
   "cell_type": "code",
   "execution_count": 24,
   "metadata": {
    "scrolled": true
   },
   "outputs": [
    {
     "name": "stdout",
     "output_type": "stream",
     "text": [
      "{'agreementindex': 0.4101473235671874}\n"
     ]
    }
   ],
   "source": [
    "resp = wps.objective_function(obs=hydrograph, sim=hydrograph, name='agreementindex')\n",
    "results=resp.get(asobj=True)\n",
    "print(results.metrics)"
   ]
  }
 ],
 "metadata": {
  "kernelspec": {
   "display_name": "Python 3",
   "language": "python",
   "name": "python3"
  },
  "language_info": {
   "codemirror_mode": {
    "name": "ipython",
    "version": 3
   },
   "file_extension": ".py",
   "mimetype": "text/x-python",
   "name": "python",
   "nbconvert_exporter": "python",
   "pygments_lexer": "ipython3",
   "version": "3.7.1"
  }
 },
 "nbformat": 4,
 "nbformat_minor": 1
}
