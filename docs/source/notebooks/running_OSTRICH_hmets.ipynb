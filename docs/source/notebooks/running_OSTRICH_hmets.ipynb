{
 "cells": [
  {
   "cell_type": "code",
   "execution_count": null,
   "metadata": {},
   "outputs": [],
   "source": []
  },
  {
   "cell_type": "markdown",
   "metadata": {},
   "source": [
    "# Calibrating the HMETS hydrological model using OSTRICH on the Raven server\n",
    "\n",
    "Here we use birdy's WPS client to calibrate the HMETS hydrological model on the server and analyze the calibrated parameter set and hydrograph. "
   ]
  },
  {
   "cell_type": "code",
   "execution_count": 1,
   "metadata": {},
   "outputs": [],
   "source": [
    "from birdy import WPSClient\n",
    "\n",
    "from example_data import TESTDATA\n",
    "import datetime as dt\n",
    "from urllib.request import urlretrieve\n",
    "import xarray as xr\n",
    "import numpy as np\n",
    "from matplotlib import pyplot as plt\n",
    "\n",
    "url = \"http://localhost:9099/wps\"\n",
    "wps = WPSClient(url)"
   ]
  },
  {
   "cell_type": "code",
   "execution_count": 2,
   "metadata": {},
   "outputs": [],
   "source": [
    "# The model parameter boundaries. Can either be a string of comma separated values, a list, an array or a named tuple. \n",
    "lowerBounds = '0.3, 0.01, 0.5, 0.15, 0.0, 0.0, -2.0, 0.01, 0.0, 0.01, 0.005, -5.0, \\\n",
    "                      0.0, 0.0, 0.0, 0.0, 0.00001, 0.0, 0.00001, 0.0, 0.0'\n",
    "upperBounds = '20.0, 5.0, 13.0, 1.5, 20.0, 20.0, 3.0, 0.2, 0.1, 0.3, 0.1, 2.0, 5.0, \\\n",
    "                      1.0, 3.0, 1.0, 0.02, 0.1, 0.01, 0.5, 2.0'\n",
    "          \n",
    "# Forcing files\n",
    "ts=TESTDATA['ostrich-hmets-nc-ts']\n",
    "\n",
    "# OSTRICH configuration parameters\n",
    "config = dict(\n",
    "    algorithm='DDS',\n",
    "    max_iterations=10,\n",
    "    area=4250.6,\n",
    "    elevation=843.0,\n",
    "    latitude=54.4848,\n",
    "    longitude=-123.3659,\n",
    "    lowerbounds=lowerBounds,\n",
    "    upperbounds=upperBounds,\n",
    "    start_date=dt.datetime(1954, 1, 1),\n",
    "    duration=208,\n",
    "    )\n",
    "\n",
    "# Let's call Ostrich with the timeseries, calibration parameters and other configuration parameters\n",
    "resp = wps.ostrich_hmets(ts=str(ts), **config)\n",
    "\n",
    "# And get the response\n",
    "# With `asobj` set to False, only the reference to the output is returned in the response. \n",
    "# Setting `asobj` to True will retrieve the actual files and copy the locally. \n",
    "[calibration, hydrograph, storage, solution, diagnostics] = resp.get(asobj=True)"
   ]
  },
  {
   "cell_type": "markdown",
   "metadata": {},
   "source": [
    "Since we requested output objects, we can simply access the output objects. The dianostics is just a CSV file: "
   ]
  },
  {
   "cell_type": "code",
   "execution_count": 3,
   "metadata": {},
   "outputs": [
    {
     "name": "stdout",
     "output_type": "stream",
     "text": [
      "observed data series,filename,DIAG_NASH_SUTCLIFFE,DIAG_RMSE,\n",
      "HYDROGRAPH,/tmp/pywps_process_x97siyk4/Salmon-River-Near-Prince-George_meteo_daily.nc,-1.20677,76.9679,\n",
      "\n"
     ]
    }
   ],
   "source": [
    "print(diagnostics)"
   ]
  },
  {
   "cell_type": "markdown",
   "metadata": {},
   "source": [
    "The `hydrograph` and `storage` outputs are netCDF files storing the time series. These files are opened by default using `xarray`, which provides convenient and powerful time series analysis and plotting tools. "
   ]
  },
  {
   "cell_type": "code",
   "execution_count": 4,
   "metadata": {},
   "outputs": [
    {
     "data": {
      "text/plain": [
       "<xarray.DataArray 'q_sim' (time: 209, nbasins: 1)>\n",
       "array([[  0.      ],\n",
       "       [ 81.069867],\n",
       "       [155.109581],\n",
       "       ...,\n",
       "       [ 77.309924],\n",
       "       [115.485875],\n",
       "       [161.592978]])\n",
       "Coordinates:\n",
       "  * time        (time) datetime64[ns] 1954-01-01 1954-01-02 ... 1954-07-28\n",
       "    basin_name  (nbasins) object ...\n",
       "Dimensions without coordinates: nbasins\n",
       "Attributes:\n",
       "    units:      m**3 s**-1\n",
       "    long_name:  Simulated outflows"
      ]
     },
     "execution_count": 4,
     "metadata": {},
     "output_type": "execute_result"
    }
   ],
   "source": [
    "hydrograph.q_sim"
   ]
  },
  {
   "cell_type": "code",
   "execution_count": 5,
   "metadata": {},
   "outputs": [
    {
     "name": "stderr",
     "output_type": "stream",
     "text": [
      "/home/ets/miniconda3/lib/python3.7/site-packages/pandas/plotting/_converter.py:129: FutureWarning: Using an implicitly registered datetime converter for a matplotlib plotting method. The converter was registered by pandas on import. Future versions of pandas will require you to explicitly register matplotlib converters.\n",
      "\n",
      "To register the converters:\n",
      "\t>>> from pandas.plotting import register_matplotlib_converters\n",
      "\t>>> register_matplotlib_converters()\n",
      "  warnings.warn(msg, FutureWarning)\n"
     ]
    },
    {
     "data": {
      "text/plain": [
       "[<matplotlib.lines.Line2D at 0x7f89f0cae780>]"
      ]
     },
     "execution_count": 5,
     "metadata": {},
     "output_type": "execute_result"
    },
    {
     "data": {
      "image/png": "[encoded data removed]",
      "text/plain": [
       "<Figure size 432x288 with 1 Axes>"
      ]
     },
     "metadata": {
      "needs_background": "light"
     },
     "output_type": "display_data"
    }
   ],
   "source": [
    "hydrograph.q_sim.plot()"
   ]
  },
  {
   "cell_type": "code",
   "execution_count": 6,
   "metadata": {},
   "outputs": [
    {
     "name": "stdout",
     "output_type": "stream",
     "text": [
      "Max:  <xarray.DataArray 'q_sim' ()>\n",
      "array(201.030086)\n",
      "Mean:  <xarray.DataArray 'q_sim' ()>\n",
      "array(84.175412)\n",
      "Monthly means:  <xarray.DataArray 'q_sim' (month: 7)>\n",
      "array([ 64.017862, 100.245198,  94.658255,  58.603366,  65.044782, 100.572446,\n",
      "       109.827618])\n",
      "Coordinates:\n",
      "  * month    (month) int64 1 2 3 4 5 6 7\n"
     ]
    },
    {
     "name": "stderr",
     "output_type": "stream",
     "text": [
      "/home/ets/miniconda3/lib/python3.7/site-packages/xarray/core/groupby.py:639: FutureWarning: Default reduction dimension will be changed to the grouped dimension in a future version of xarray. To silence this warning, pass dim=xarray.ALL_DIMS explicitly.\n",
      "  skipna=skipna, allow_lazy=True, **kwargs)\n"
     ]
    }
   ],
   "source": [
    "print(\"Max: \", hydrograph.q_sim.max())\n",
    "print(\"Mean: \", hydrograph.q_sim.mean())\n",
    "print(\"Monthly means: \", hydrograph.q_sim.groupby('time.month').mean())"
   ]
  },
  {
   "cell_type": "markdown",
   "metadata": {},
   "source": [
    "## Here is the tricky part: How to extract the best parameter sets? The results are in \"calibration\", which is just a text file:"
   ]
  },
  {
   "cell_type": "code",
   "execution_count": 7,
   "metadata": {},
   "outputs": [
    {
     "data": {
      "text/plain": [
       "'--------------------------------------------------------------------------\\n OSTRICH version 19.06.04 (Built Jun  4 2019 @ 23:17:50)\\n\\n A computer program for model-independent calibration and optimization.\\n\\n Author             L. Shawn Matott\\n Copyright (C) 2007 L. Shawn Matott\\n\\n This program is free software; you can redistribute \\n it and/or modify it under the terms of the GNU  \\n General Public License as published by the Free \\n Software Foundation; either version 2 of the \\n License, or(at your option) any later version. \\n\\n This program is distributed in the hope that it will \\n be useful, but WITHOUT ANY WARRANTY; without even \\n the implied warranty of MERCHANTABILITY or FITNESS \\n FOR A PARTICULAR PURPOSE. See the GNU General Public \\n License for more details. \\n\\n You should have received a copy of the GNU General \\n Public License along with this program; if not, \\n write to the Free Software Foundation, Inc., 59 \\n Temple Place, Suite 330, Boston, MA 02111-1307 USA \\n--------------------------------------------------------------------------\\n\\nOstrich Setup\\nModel                  : ./ostrich-runs-raven.sh > OstExeOut.txt 2>&1\\nAlgorithm              : Dynamically Dimensioned Search Algorithm (DDS)\\nObjective Function     : GCOP\\nNumber of Parameters   : 21\\nNumber of Tied Params  : 4\\nNumber of Observations : 0\\nSeed for Random Nums.  : 1559869656\\nNumber of Resp. Vars        : 1\\nNumber of Tied Resp. Vars   : 1\\nNumber of Constraints       : 0\\nPenalty Method              : Additive Penalty Method (APM)\\n\\nOstrich Run Record\\ntrial    best fitness   par_x01       par_x02       par_x03       par_x04       par_x05       par_x06       par_x07       par_x08       par_x09       par_x10       par_x11       par_x12       par_x13       par_x14       par_x15       par_x16       par_x17       par_x18       par_x19       par_x20       par_x21        trials remaining\\n1     2.386060E+00  1.640672E+01  3.626491E+00  1.027555E+01  4.628261E-01  5.552098E+00  8.803170E+00  -1.828128E+00  9.342238E-02  5.315137E-02  2.093300E-01  6.551283E-02  1.043406E+00  1.927828E+00  8.394327E-01  2.441438E+00  3.009978E-01  1.984692E-02  5.735226E-03  3.078175E-03  1.822071E-01  1.353083E+00  9.000000E+00\\n5     1.926670E+00  1.900415E+01  2.285090E+00  4.656642E+00  1.434251E+00  8.734307E+00  5.984988E+00  -8.934524E-01  1.269747E-01  7.883822E-03  1.773552E-01  7.316258E-02  -1.826606E+00  1.251761E+00  1.985354E-02  2.588758E+00  2.754796E-01  1.923598E-02  8.390839E-02  3.404743E-03  9.012821E-02  4.903588E-01  5.000000E+00\\n7     1.490420E+00  1.720767E+01  1.278350E+00  1.109482E+00  1.425166E+00  1.001931E+01  3.703735E+00  -8.934524E-01  1.269747E-01  9.677961E-03  1.773552E-01  7.316258E-02  -1.529080E+00  1.052644E+00  3.654738E-02  2.478741E+00  2.754796E-01  1.306296E-02  8.390839E-02  3.404743E-03  9.012821E-02  2.784125E-01  3.000000E+00\\n8     1.376520E+00  1.720767E+01  1.278350E+00  1.109482E+00  1.433786E+00  1.001931E+01  3.703735E+00  -8.934524E-01  1.517969E-01  9.677961E-03  1.773552E-01  7.316258E-02  -1.529080E+00  1.762380E+00  3.654738E-02  2.478741E+00  3.752680E-01  1.911386E-02  8.390839E-02  3.404743E-03  9.012821E-02  2.784125E-01  2.000000E+00\\n9     1.206770E+00  1.720767E+01  1.278350E+00  1.109482E+00  1.433786E+00  1.001931E+01  3.703735E+00  -8.934524E-01  1.517969E-01  9.677961E-03  1.773552E-01  7.316258E-02  -1.529080E+00  1.585980E+00  3.654738E-02  2.478741E+00  3.752680E-01  1.911386E-02  8.390839E-02  3.404743E-03  6.721080E-02  2.784125E-01  1.000000E+00\\n10    1.206770E+00  1.720767E+01  1.278350E+00  1.109482E+00  1.433786E+00  1.001931E+01  3.703735E+00  -8.934524E-01  1.517969E-01  9.677961E-03  1.773552E-01  7.316258E-02  -1.529080E+00  1.585980E+00  3.654738E-02  2.478741E+00  3.752680E-01  1.911386E-02  8.390839E-02  3.404743E-03  6.721080E-02  2.784125E-01  0.000000E+00\\n\\nOptimal Parameter Set\\nObjective Function : 1.206770E+00\\npar_x01            : 1.720767E+01\\npar_x02            : 1.278350E+00\\npar_x03            : 1.109482E+00\\npar_x04            : 1.433786E+00\\npar_x05            : 1.001931E+01\\npar_x06            : 3.703735E+00\\npar_x07            : -8.934524E-01\\npar_x08            : 1.517969E-01\\npar_x09            : 9.677961E-03\\npar_x10            : 1.773552E-01\\npar_x11            : 7.316258E-02\\npar_x12            : -1.529080E+00\\npar_x13            : 1.585980E+00\\npar_x14            : 3.654738E-02\\npar_x15            : 2.478741E+00\\npar_x16            : 3.752680E-01\\npar_x17            : 1.911386E-02\\npar_x18            : 8.390839E-02\\npar_x19            : 3.404743E-03\\npar_x20            : 6.721080E-02\\npar_x21            : 2.784125E-01\\npar_sum_x05_x06    : 1.372305E+01\\npar_sum_x09_x10    : 1.870332E-01\\npar_half_x20       : 3.360540E+01\\npar_half_x21       : 1.392063E+02\\n\\nSummary of Constraints\\n\\nAlgorithm Metrics\\nAlgorithm               : Dynamically-Dimensioned Search Algorithm (DDS)\\nDesired Convergence Val : N/A\\nActual Convergence Val  : N/A\\nMax Generations         : 10\\nActual Generations      : 10\\nPeterbation Value       : 0.200000\\nTotal Evals             : 11\\nTelescoping Strategy    : none\\nAlgorithm successfully converged on a solution, however more runs may be needed\\n'"
      ]
     },
     "execution_count": 7,
     "metadata": {},
     "output_type": "execute_result"
    }
   ],
   "source": [
    "calibration"
   ]
  },
  {
   "cell_type": "markdown",
   "metadata": {},
   "source": [
    "## We would need some type of method to automate the extraction that is independent of the  hydrological model!"
   ]
  },
  {
   "cell_type": "code",
   "execution_count": null,
   "metadata": {},
   "outputs": [],
   "source": []
  }
 ],
 "metadata": {
  "kernelspec": {
   "display_name": "Python 3",
   "language": "python",
   "name": "python3"
  },
  "language_info": {
   "codemirror_mode": {
    "name": "ipython",
    "version": 3
   },
   "file_extension": ".py",
   "mimetype": "text/x-python",
   "name": "python",
   "nbconvert_exporter": "python",
   "pygments_lexer": "ipython3",
   "version": "3.7.1"
  }
 },
 "nbformat": 4,
 "nbformat_minor": 1
}
