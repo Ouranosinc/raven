{
 "cells": [
  {
   "cell_type": "code",
   "execution_count": null,
   "metadata": {},
   "outputs": [],
   "source": []
  },
  {
   "cell_type": "markdown",
   "metadata": {},
   "source": [
    "# Calibrating the HMETS hydrological model using OSTRICH on the Raven server\n",
    "\n",
    "Here we use birdy's WPS client to calibrate the HMETS hydrological model on the server and analyze the calibrated parameter set and hydrograph. "
   ]
  },
  {
   "cell_type": "code",
   "execution_count": 11,
   "metadata": {},
   "outputs": [],
   "source": [
    "from birdy import WPSClient\n",
    "\n",
    "from example_data import TESTDATA\n",
    "import datetime as dt\n",
    "from urllib.request import urlretrieve\n",
    "import xarray as xr\n",
    "import numpy as np\n",
    "from matplotlib import pyplot as plt\n",
    "\n",
    "url = \"http://localhost:9099/wps\"\n",
    "wps = WPSClient(url)"
   ]
  },
  {
   "cell_type": "code",
   "execution_count": 12,
   "metadata": {},
   "outputs": [],
   "source": [
    "# The model parameter boundaries. Can either be a string of comma separated values, a list, an array or a named tuple. \n",
    "lowerBounds = '0.3, 0.01, 0.5, 0.15, 0.0, 0.0, -2.0, 0.01, 0.0, 0.01, 0.005, -5.0, \\\n",
    "                      0.0, 0.0, 0.0, 0.0, 0.00001, 0.0, 0.00001, 0.0, 0.0'\n",
    "upperBounds = '20.0, 5.0, 13.0, 1.5, 20.0, 20.0, 3.0, 0.2, 0.1, 0.3, 0.1, 2.0, 5.0, \\\n",
    "                      1.0, 3.0, 1.0, 0.02, 0.1, 0.01, 0.5, 2.0'\n",
    "          \n",
    "# Forcing files\n",
    "ts=TESTDATA['ostrich-hmets-nc-ts']\n",
    "\n",
    "# OSTRICH configuration parameters\n",
    "config = dict(\n",
    "    algorithm='DDS',\n",
    "    max_iterations=10,\n",
    "    area=4250.6,\n",
    "    elevation=843.0,\n",
    "    latitude=54.4848,\n",
    "    longitude=-123.3659,\n",
    "    lowerbounds=lowerBounds,\n",
    "    upperbounds=upperBounds,\n",
    "    start_date=dt.datetime(1954, 1, 1),\n",
    "    duration=208,\n",
    "    )\n",
    "\n",
    "# Let's call Ostrich with the timeseries, calibration parameters and other configuration parameters\n",
    "resp = wps.ostrich_hmets(ts=str(ts), **config)\n",
    "\n",
    "# And get the response\n",
    "# With `asobj` set to False, only the reference to the output is returned in the response. \n",
    "# Setting `asobj` to True will retrieve the actual files and copy the locally. \n",
    "[calibration, hydrograph, storage, solution, diagnostics, calibparams] = resp.get(asobj=True)"
   ]
  },
  {
   "cell_type": "markdown",
   "metadata": {},
   "source": [
    "Since we requested output objects, we can simply access the output objects. The dianostics is just a CSV file: "
   ]
  },
  {
   "cell_type": "code",
   "execution_count": 13,
   "metadata": {},
   "outputs": [
    {
     "name": "stdout",
     "output_type": "stream",
     "text": [
      "9.085404, 4.665533, 6.178425, 0.9814462, 11.76428, 10.46332, 1.008005, 0.1221266, 0.04072559, 0.1796678, 0.0911823, 0.1369186, 2.763684, 0.8040897, 2.168483, 0.1437723, 0.01982355, 0.06246197, 1.221015e-05, 0.128403, 1.609123\n"
     ]
    }
   ],
   "source": [
    "print(calibparams)"
   ]
  },
  {
   "cell_type": "markdown",
   "metadata": {},
   "source": [
    "The `hydrograph` and `storage` outputs are netCDF files storing the time series. These files are opened by default using `xarray`, which provides convenient and powerful time series analysis and plotting tools. "
   ]
  },
  {
   "cell_type": "code",
   "execution_count": 14,
   "metadata": {},
   "outputs": [
    {
     "data": {
      "text/plain": [
       "<xarray.DataArray 'q_sim' (time: 209, nbasins: 1)>\n",
       "array([[  0.      ],\n",
       "       [ 98.885254],\n",
       "       [189.776065],\n",
       "       ...,\n",
       "       [ 60.759727],\n",
       "       [ 87.219262],\n",
       "       [124.92618 ]])\n",
       "Coordinates:\n",
       "  * time        (time) datetime64[ns] 1954-01-01 1954-01-02 ... 1954-07-28\n",
       "    basin_name  (nbasins) object ...\n",
       "Dimensions without coordinates: nbasins\n",
       "Attributes:\n",
       "    units:      m**3 s**-1\n",
       "    long_name:  Simulated outflows"
      ]
     },
     "execution_count": 14,
     "metadata": {},
     "output_type": "execute_result"
    }
   ],
   "source": [
    "hydrograph.q_sim"
   ]
  },
  {
   "cell_type": "code",
   "execution_count": 15,
   "metadata": {},
   "outputs": [
    {
     "name": "stderr",
     "output_type": "stream",
     "text": [
      "/home/ets/miniconda3/lib/python3.7/site-packages/pandas/plotting/_converter.py:129: FutureWarning: Using an implicitly registered datetime converter for a matplotlib plotting method. The converter was registered by pandas on import. Future versions of pandas will require you to explicitly register matplotlib converters.\n",
      "\n",
      "To register the converters:\n",
      "\t>>> from pandas.plotting import register_matplotlib_converters\n",
      "\t>>> register_matplotlib_converters()\n",
      "  warnings.warn(msg, FutureWarning)\n"
     ]
    },
    {
     "data": {
      "text/plain": [
       "[<matplotlib.lines.Line2D at 0x7f69c8baec18>]"
      ]
     },
     "execution_count": 15,
     "metadata": {},
     "output_type": "execute_result"
    },
    {
     "data": {
      "image/png": "[encoded data removed]",
      "text/plain": [
       "<Figure size 432x288 with 1 Axes>"
      ]
     },
     "metadata": {
      "needs_background": "light"
     },
     "output_type": "display_data"
    }
   ],
   "source": [
    "hydrograph.q_sim.plot()"
   ]
  },
  {
   "cell_type": "code",
   "execution_count": 16,
   "metadata": {},
   "outputs": [
    {
     "name": "stdout",
     "output_type": "stream",
     "text": [
      "Max:  <xarray.DataArray 'q_sim' ()>\n",
      "array(189.776065)\n",
      "Mean:  <xarray.DataArray 'q_sim' ()>\n",
      "array(64.516246)\n",
      "Monthly means:  <xarray.DataArray 'q_sim' (month: 7)>\n",
      "array([72.494011, 61.427157, 70.98165 , 45.012963, 44.121687, 75.272349,\n",
      "       83.566352])\n",
      "Coordinates:\n",
      "  * month    (month) int64 1 2 3 4 5 6 7\n"
     ]
    },
    {
     "name": "stderr",
     "output_type": "stream",
     "text": [
      "/home/ets/miniconda3/lib/python3.7/site-packages/xarray/core/groupby.py:639: FutureWarning: Default reduction dimension will be changed to the grouped dimension in a future version of xarray. To silence this warning, pass dim=xarray.ALL_DIMS explicitly.\n",
      "  skipna=skipna, allow_lazy=True, **kwargs)\n"
     ]
    }
   ],
   "source": [
    "print(\"Max: \", hydrograph.q_sim.max())\n",
    "print(\"Mean: \", hydrograph.q_sim.mean())\n",
    "print(\"Monthly means: \", hydrograph.q_sim.groupby('time.month').mean())"
   ]
  },
  {
   "cell_type": "markdown",
   "metadata": {},
   "source": [
    "## Now, let's do a test: Let's run the model again using the same parameters and check to see that the NSE is the same. \n",
    "\n",
    "First, lets extract the diagnostics from the optimized run, giving the calibration NSE."
   ]
  },
  {
   "cell_type": "code",
   "execution_count": 17,
   "metadata": {},
   "outputs": [
    {
     "data": {
      "text/plain": [
       "'observed data series,filename,DIAG_NASH_SUTCLIFFE,DIAG_RMSE,\\nHYDROGRAPH,/tmp/pywps_process_074jt55s/Salmon-River-Near-Prince-George_meteo_daily.nc,-0.728655,68.1217,\\n'"
      ]
     },
     "execution_count": 17,
     "metadata": {},
     "output_type": "execute_result"
    }
   ],
   "source": [
    "diagnostics"
   ]
  },
  {
   "cell_type": "markdown",
   "metadata": {},
   "source": [
    "## Run the HMETS WPS:"
   ]
  },
  {
   "cell_type": "code",
   "execution_count": 19,
   "metadata": {},
   "outputs": [],
   "source": [
    "# Model configuration parameters\n",
    "config = dict(area=4250.6,\n",
    "    elevation=843.0,\n",
    "    latitude=54.4848,\n",
    "    longitude=-123.3659,\n",
    "    start_date=dt.datetime(1954, 1, 1),\n",
    "    duration=208,\n",
    "             )\n",
    "# Let's call the model with the timeseries, model parameters and other configuration parameters\n",
    "resp = wps.raven_hmets(ts=str(ts), params=calibparams, **config)\n",
    "[hydrograph, storage, solution, diagnostics2] = resp.get(asobj=True)"
   ]
  },
  {
   "cell_type": "markdown",
   "metadata": {},
   "source": [
    "Now lets check to see if the diagnostics are the same."
   ]
  },
  {
   "cell_type": "code",
   "execution_count": 20,
   "metadata": {},
   "outputs": [
    {
     "data": {
      "text/plain": [
       "'observed data series,filename,DIAG_NASH_SUTCLIFFE,DIAG_RMSE,\\nHYDROGRAPH,/tmp/pywps_process_aqtf6c0k/Salmon-River-Near-Prince-George_meteo_daily.nc,-10.0765,172.438,\\n'"
      ]
     },
     "execution_count": 20,
     "metadata": {},
     "output_type": "execute_result"
    }
   ],
   "source": [
    "diagnostics2"
   ]
  },
  {
   "cell_type": "code",
   "execution_count": null,
   "metadata": {},
   "outputs": [],
   "source": []
  }
 ],
 "metadata": {
  "kernelspec": {
   "display_name": "Python 3",
   "language": "python",
   "name": "python3"
  },
  "language_info": {
   "codemirror_mode": {
    "name": "ipython",
    "version": 3
   },
   "file_extension": ".py",
   "mimetype": "text/x-python",
   "name": "python",
   "nbconvert_exporter": "python",
   "pygments_lexer": "ipython3",
   "version": "3.7.1"
  }
 },
 "nbformat": 4,
 "nbformat_minor": 1
}
