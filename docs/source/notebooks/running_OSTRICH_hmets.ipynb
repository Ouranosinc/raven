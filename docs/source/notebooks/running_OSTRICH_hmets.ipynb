{
 "cells": [
  {
   "cell_type": "code",
   "execution_count": null,
   "metadata": {},
   "outputs": [],
   "source": []
  },
  {
   "cell_type": "markdown",
   "metadata": {},
   "source": [
    "# Calibrating the HMETS hydrological model using OSTRICH on the Raven server\n",
    "\n",
    "Here we use birdy's WPS client to calibrate the HMETS hydrological model on the server and analyze the calibrated parameter set and hydrograph. "
   ]
  },
  {
   "cell_type": "code",
   "execution_count": 11,
   "metadata": {},
   "outputs": [],
   "source": [
    "from birdy import WPSClient\n",
    "\n",
    "from example_data import TESTDATA\n",
    "import datetime as dt\n",
    "from urllib.request import urlretrieve\n",
    "import xarray as xr\n",
    "import numpy as np\n",
    "from matplotlib import pyplot as plt\n",
    "\n",
    "url = \"http://localhost:9099/wps\"\n",
    "wps = WPSClient(url)"
   ]
  },
  {
   "cell_type": "code",
   "execution_count": 32,
   "metadata": {},
   "outputs": [],
   "source": [
    "# The model parameter boundaries. Can either be a string of comma separated values, a list, an array or a named tuple. \n",
    "lowerBounds = '0.3, 0.01, 0.5, 0.15, 0.0, 0.0, -2.0, 0.01, 0.0, 0.01, 0.005, -5.0, \\\n",
    "                      0.0, 0.0, 0.0, 0.0, 0.00001, 0.0, 0.00001, 0.0, 0.0'\n",
    "upperBounds = '20.0, 5.0, 13.0, 1.5, 20.0, 20.0, 3.0, 0.2, 0.1, 0.3, 0.1, 2.0, 5.0, \\\n",
    "                      1.0, 3.0, 1.0, 0.02, 0.1, 0.01, 0.5, 2.0'\n",
    "          \n",
    "# Forcing files\n",
    "ts=TESTDATA['ostrich-hmets-nc-ts']\n",
    "\n",
    "# OSTRICH configuration parameters\n",
    "config = dict(\n",
    "    algorithm='DDS',\n",
    "    max_iterations=10,\n",
    "    area=4250.6,\n",
    "    elevation=843.0,\n",
    "    latitude=54.4848,\n",
    "    longitude=-123.3659,\n",
    "    lowerbounds=lowerBounds,\n",
    "    upperbounds=upperBounds,\n",
    "    start_date=dt.datetime(1954, 1, 1),\n",
    "    duration=208,\n",
    "    )\n",
    "\n",
    "# Let's call Ostrich with the timeseries, calibration parameters and other configuration parameters\n",
    "resp = wps.ostrich_hmets(ts=str(ts), **config)\n",
    "\n",
    "# And get the response\n",
    "# With `asobj` set to False, only the reference to the output is returned in the response. \n",
    "# Setting `asobj` to True will retrieve the actual files and copy the locally. \n",
    "[calibration, hydrograph, storage, solution, diagnostics] = resp.get(asobj=True)"
   ]
  },
  {
   "cell_type": "markdown",
   "metadata": {},
   "source": [
    "Since we requested output objects, we can simply access the output objects. The dianostics is just a CSV file: "
   ]
  },
  {
   "cell_type": "code",
   "execution_count": 33,
   "metadata": {},
   "outputs": [
    {
     "name": "stdout",
     "output_type": "stream",
     "text": [
      "observed data series,filename,DIAG_NASH_SUTCLIFFE,DIAG_RMSE,\n",
      "HYDROGRAPH,./model//Salmon-River-Near-Prince-George_meteo_daily.nc,-0.686583,67.2876,\n",
      "\n"
     ]
    }
   ],
   "source": [
    "print(diagnostics)"
   ]
  },
  {
   "cell_type": "markdown",
   "metadata": {},
   "source": [
    "The `hydrograph` and `storage` outputs are netCDF files storing the time series. These files are opened by default using `xarray`, which provides convenient and powerful time series analysis and plotting tools. "
   ]
  },
  {
   "cell_type": "code",
   "execution_count": 29,
   "metadata": {},
   "outputs": [
    {
     "data": {
      "text/plain": [
       "<xarray.DataArray 'q_sim' (time: 209, nbasins: 1)>\n",
       "array([[  0.      ],\n",
       "       [317.767047],\n",
       "       [602.685996],\n",
       "       ...,\n",
       "       [ 16.700328],\n",
       "       [ 55.739867],\n",
       "       [101.356578]])\n",
       "Coordinates:\n",
       "  * time        (time) datetime64[ns] 1954-01-01 1954-01-02 1954-01-03 ...\n",
       "    basin_name  (nbasins) object ...\n",
       "Dimensions without coordinates: nbasins\n",
       "Attributes:\n",
       "    units:      m**3 s**-1\n",
       "    long_name:  Simulated outflows"
      ]
     },
     "execution_count": 29,
     "metadata": {},
     "output_type": "execute_result"
    }
   ],
   "source": [
    "hydrograph.q_sim"
   ]
  },
  {
   "cell_type": "code",
   "execution_count": 30,
   "metadata": {},
   "outputs": [
    {
     "data": {
      "text/plain": [
       "[<matplotlib.lines.Line2D at 0x7faf9b796710>]"
      ]
     },
     "execution_count": 30,
     "metadata": {},
     "output_type": "execute_result"
    },
    {
     "data": {
      "image/png": "[encoded data removed]",
      "text/plain": [
       "<Figure size 432x288 with 1 Axes>"
      ]
     },
     "metadata": {
      "needs_background": "light"
     },
     "output_type": "display_data"
    }
   ],
   "source": [
    "hydrograph.q_sim.plot()"
   ]
  },
  {
   "cell_type": "code",
   "execution_count": 31,
   "metadata": {},
   "outputs": [
    {
     "name": "stdout",
     "output_type": "stream",
     "text": [
      "Max:  <xarray.DataArray 'q_sim' ()>\n",
      "array(602.685996)\n",
      "Mean:  <xarray.DataArray 'q_sim' ()>\n",
      "array(71.840511)\n",
      "Monthly means:  <xarray.DataArray 'q_sim' (month: 7)>\n",
      "array([190.565714,  60.216904,   5.036852,   9.51106 , 139.359067,  48.586079,\n",
      "        42.923882])\n",
      "Coordinates:\n",
      "  * month    (month) int64 1 2 3 4 5 6 7\n"
     ]
    }
   ],
   "source": [
    "print(\"Max: \", hydrograph.q_sim.max())\n",
    "print(\"Mean: \", hydrograph.q_sim.mean())\n",
    "print(\"Monthly means: \", hydrograph.q_sim.groupby('time.month').mean())"
   ]
  },
  {
   "cell_type": "code",
   "execution_count": null,
   "metadata": {},
   "outputs": [],
   "source": []
  }
 ],
 "metadata": {
  "kernelspec": {
   "display_name": "Python 3",
   "language": "python",
   "name": "python3"
  },
  "language_info": {
   "codemirror_mode": {
    "name": "ipython",
    "version": 3
   },
   "file_extension": ".py",
   "mimetype": "text/x-python",
   "name": "python",
   "nbconvert_exporter": "python",
   "pygments_lexer": "ipython3",
   "version": "3.6.3"
  }
 },
 "nbformat": 4,
 "nbformat_minor": 1
}
