{
 "cells": [
  {
   "cell_type": "markdown",
   "metadata": {},
   "source": [
    "# Subsetting a watershed using Raven and Flyingpigeon\n",
    "\n",
    "Here we use the processes from two PAVICS/Birdhouse services to perform an analysis based on an upstream watershed delineation"
   ]
  },
  {
   "cell_type": "code",
   "execution_count": 1,
   "metadata": {},
   "outputs": [
    {
     "name": "stdout",
     "output_type": "stream",
     "text": [
      "birdy: 0.6.2 \n",
      "json: 2.0.9 \n",
      "xarray: 0.12.1 \n",
      "requests: 2.21.0 \n",
      "matplotlib: 3.0.2 \n",
      "geopandas: 0.4.0\n"
     ]
    }
   ],
   "source": [
    "# Import the necessary libraries to format, send, and parse our returned results\n",
    "\n",
    "%matplotlib inline\n",
    "\n",
    "import birdy\n",
    "import json\n",
    "import xarray as xr\n",
    "import requests\n",
    "import matplotlib\n",
    "import matplotlib.pyplot as plt\n",
    "import geopandas as gpd\n",
    "\n",
    "\n",
    "print(\n",
    "    'birdy:', birdy.__version__, '\\n'\n",
    "    'json:', json.__version__, '\\n'\n",
    "    'xarray:', xr.__version__, '\\n'\n",
    "    'requests:', requests.__version__, '\\n'\n",
    "    'matplotlib:', matplotlib.__version__, '\\n'\n",
    "    'geopandas:', gpd.__version__\n",
    ")"
   ]
  },
  {
   "cell_type": "markdown",
   "metadata": {},
   "source": [
    "Assuming that you are running the Raven and FlyingPigeon modules locally, the default ports that the WPS services are mapped to are as follows:\n",
    "\n",
    "* **Raven: http://localhost:9099/wps**\n",
    "* **Flyingpigeon: http://localhost:8093/wps**\n"
   ]
  },
  {
   "cell_type": "code",
   "execution_count": 3,
   "metadata": {},
   "outputs": [],
   "source": [
    "url_raven = \"http://localhost:9099/wps\"\n",
    "url_flyingpigeon = \"http://localhost:8093/wps\"\n",
    "\n",
    "raven = birdy.WPSClient(url_raven, progress=True)\n",
    "fp = birdy.WPSClient(url_flyingpigeon, progress=True)"
   ]
  },
  {
   "cell_type": "markdown",
   "metadata": {},
   "source": [
    "Let's consider trying to identify a sub-basin and all the upstream basins that flow into Lac Mistassini (Rupert Watershed) of Northern Quebec. Lac Mistassini is roughly found at 51.0 North, 73.621 West.\n",
    "\n",
    "We'll start by launching a process with Raven to find the upstream watersheds and return us both a GeoJSON of this watershed as well as the feature IDs of all the sub-basins."
   ]
  },
  {
   "cell_type": "code",
   "execution_count": 4,
   "metadata": {},
   "outputs": [
    {
     "data": {
      "application/vnd.jupyter.widget-view+json": {
       "model_id": "7e19176570a74532a37f21cc6c369cb2",
       "version_major": 2,
       "version_minor": 0
      },
      "text/plain": [
       "HBox(children=(IntProgress(value=0, bar_style='info', description='Processing:'), Button(button_style='danger'…"
      ]
     },
     "metadata": {},
     "output_type": "display_data"
    }
   ],
   "source": [
    "basin_process = raven.hydrobasins_select(\n",
    "    location=\"-73.621, 51.000\", aggregate_upstream=True)\n",
    "\n",
    "# Wait for the process to complete before continuing with calculations"
   ]
  },
  {
   "cell_type": "code",
   "execution_count": 5,
   "metadata": {},
   "outputs": [
    {
     "data": {
      "text/plain": [
       "<matplotlib.axes._subplots.AxesSubplot at 0x7f6d7d869e10>"
      ]
     },
     "execution_count": 5,
     "metadata": {},
     "output_type": "execute_result"
    },
    {
     "data": {
      "image/png": "[encoded data removed]",
      "text/plain": [
       "<Figure size 432x288 with 1 Axes>"
      ]
     },
     "metadata": {
      "needs_background": "light"
     },
     "output_type": "display_data"
    }
   ],
   "source": [
    "# Collecting the response\n",
    "\n",
    "url = basin_process.get(asobj=False)\n",
    "\n",
    "feature = requests.get(url[0]).content\n",
    "upstream_ids = json.loads(requests.get(url[1]).content)\n",
    "\n",
    "# Write our feature to a GeoJSON\n",
    "file_name = \"mistassini.geojson\"\n",
    "with open(file_name, \"wb\") as f:\n",
    "    f.write(feature)\n",
    "\n",
    "# Plot our vector shapefile\n",
    "df = gpd.read_file(file_name)\n",
    "df.plot()"
   ]
  },
  {
   "cell_type": "code",
   "execution_count": 6,
   "metadata": {},
   "outputs": [
    {
     "name": "stdout",
     "output_type": "stream",
     "text": [
      "USGS_HydroBASINS_lake_na_lev12.67061\n",
      "USGS_HydroBASINS_lake_na_lev12.67088\n",
      "USGS_HydroBASINS_lake_na_lev12.67089\n",
      "USGS_HydroBASINS_lake_na_lev12.67090\n",
      "USGS_HydroBASINS_lake_na_lev12.67091\n",
      "USGS_HydroBASINS_lake_na_lev12.67097\n",
      "USGS_HydroBASINS_lake_na_lev12.67098\n",
      "USGS_HydroBASINS_lake_na_lev12.67099\n",
      "USGS_HydroBASINS_lake_na_lev12.67100\n",
      "USGS_HydroBASINS_lake_na_lev12.67101\n",
      "USGS_HydroBASINS_lake_na_lev12.67102\n",
      "USGS_HydroBASINS_lake_na_lev12.67103\n",
      "USGS_HydroBASINS_lake_na_lev12.67104\n",
      "USGS_HydroBASINS_lake_na_lev12.67105\n",
      "USGS_HydroBASINS_lake_na_lev12.67106\n",
      "USGS_HydroBASINS_lake_na_lev12.67107\n",
      "USGS_HydroBASINS_lake_na_lev12.67108\n",
      "USGS_HydroBASINS_lake_na_lev12.67116\n",
      "USGS_HydroBASINS_lake_na_lev12.67117\n",
      "USGS_HydroBASINS_lake_na_lev12.67118\n",
      "USGS_HydroBASINS_lake_na_lev12.67119\n",
      "USGS_HydroBASINS_lake_na_lev12.67120\n",
      "USGS_HydroBASINS_lake_na_lev12.67121\n",
      "USGS_HydroBASINS_lake_na_lev12.67122\n",
      "USGS_HydroBASINS_lake_na_lev12.67123\n",
      "USGS_HydroBASINS_lake_na_lev12.67124\n",
      "USGS_HydroBASINS_lake_na_lev12.67132\n",
      "USGS_HydroBASINS_lake_na_lev12.67133\n",
      "USGS_HydroBASINS_lake_na_lev12.67134\n",
      "USGS_HydroBASINS_lake_na_lev12.67135\n",
      "USGS_HydroBASINS_lake_na_lev12.67136\n",
      "USGS_HydroBASINS_lake_na_lev12.67141\n",
      "USGS_HydroBASINS_lake_na_lev12.67142\n",
      "USGS_HydroBASINS_lake_na_lev12.67143\n",
      "USGS_HydroBASINS_lake_na_lev12.67144\n",
      "USGS_HydroBASINS_lake_na_lev12.67145\n",
      "USGS_HydroBASINS_lake_na_lev12.67146\n",
      "USGS_HydroBASINS_lake_na_lev12.67147\n",
      "USGS_HydroBASINS_lake_na_lev12.67148\n",
      "USGS_HydroBASINS_lake_na_lev12.67151\n",
      "USGS_HydroBASINS_lake_na_lev12.67152\n",
      "USGS_HydroBASINS_lake_na_lev12.67153\n",
      "USGS_HydroBASINS_lake_na_lev12.67154\n",
      "USGS_HydroBASINS_lake_na_lev12.67155\n",
      "USGS_HydroBASINS_lake_na_lev12.67156\n",
      "USGS_HydroBASINS_lake_na_lev12.67157\n",
      "USGS_HydroBASINS_lake_na_lev12.67158\n",
      "USGS_HydroBASINS_lake_na_lev12.67159\n",
      "USGS_HydroBASINS_lake_na_lev12.67160\n",
      "USGS_HydroBASINS_lake_na_lev12.67161\n",
      "USGS_HydroBASINS_lake_na_lev12.67162\n",
      "USGS_HydroBASINS_lake_na_lev12.67163\n",
      "USGS_HydroBASINS_lake_na_lev12.67164\n",
      "USGS_HydroBASINS_lake_na_lev12.67165\n",
      "USGS_HydroBASINS_lake_na_lev12.67166\n",
      "USGS_HydroBASINS_lake_na_lev12.67167\n",
      "USGS_HydroBASINS_lake_na_lev12.67168\n",
      "USGS_HydroBASINS_lake_na_lev12.67169\n",
      "USGS_HydroBASINS_lake_na_lev12.67170\n",
      "USGS_HydroBASINS_lake_na_lev12.67174\n",
      "USGS_HydroBASINS_lake_na_lev12.67175\n",
      "USGS_HydroBASINS_lake_na_lev12.67176\n",
      "USGS_HydroBASINS_lake_na_lev12.67177\n",
      "USGS_HydroBASINS_lake_na_lev12.67178\n",
      "USGS_HydroBASINS_lake_na_lev12.67179\n",
      "USGS_HydroBASINS_lake_na_lev12.67180\n",
      "USGS_HydroBASINS_lake_na_lev12.67181\n",
      "USGS_HydroBASINS_lake_na_lev12.67182\n",
      "USGS_HydroBASINS_lake_na_lev12.67183\n",
      "USGS_HydroBASINS_lake_na_lev12.67184\n",
      "USGS_HydroBASINS_lake_na_lev12.67185\n",
      "USGS_HydroBASINS_lake_na_lev12.67186\n",
      "USGS_HydroBASINS_lake_na_lev12.67187\n",
      "USGS_HydroBASINS_lake_na_lev12.67188\n",
      "USGS_HydroBASINS_lake_na_lev12.67189\n",
      "USGS_HydroBASINS_lake_na_lev12.67190\n",
      "USGS_HydroBASINS_lake_na_lev12.67191\n",
      "USGS_HydroBASINS_lake_na_lev12.67192\n",
      "USGS_HydroBASINS_lake_na_lev12.67193\n",
      "USGS_HydroBASINS_lake_na_lev12.67194\n",
      "USGS_HydroBASINS_lake_na_lev12.67195\n",
      "USGS_HydroBASINS_lake_na_lev12.67196\n",
      "USGS_HydroBASINS_lake_na_lev12.67197\n",
      "USGS_HydroBASINS_lake_na_lev12.67198\n",
      "USGS_HydroBASINS_lake_na_lev12.67199\n",
      "USGS_HydroBASINS_lake_na_lev12.67200\n",
      "USGS_HydroBASINS_lake_na_lev12.67201\n",
      "USGS_HydroBASINS_lake_na_lev12.67202\n",
      "USGS_HydroBASINS_lake_na_lev12.67203\n",
      "USGS_HydroBASINS_lake_na_lev12.67204\n",
      "USGS_HydroBASINS_lake_na_lev12.67205\n",
      "USGS_HydroBASINS_lake_na_lev12.67206\n",
      "USGS_HydroBASINS_lake_na_lev12.67207\n",
      "USGS_HydroBASINS_lake_na_lev12.67208\n",
      "USGS_HydroBASINS_lake_na_lev12.67209\n",
      "USGS_HydroBASINS_lake_na_lev12.67210\n",
      "USGS_HydroBASINS_lake_na_lev12.67211\n",
      "USGS_HydroBASINS_lake_na_lev12.67212\n",
      "USGS_HydroBASINS_lake_na_lev12.67213\n",
      "USGS_HydroBASINS_lake_na_lev12.67214\n",
      "USGS_HydroBASINS_lake_na_lev12.67215\n",
      "USGS_HydroBASINS_lake_na_lev12.67216\n",
      "USGS_HydroBASINS_lake_na_lev12.67217\n",
      "USGS_HydroBASINS_lake_na_lev12.67218\n",
      "USGS_HydroBASINS_lake_na_lev12.67219\n",
      "USGS_HydroBASINS_lake_na_lev12.67220\n",
      "USGS_HydroBASINS_lake_na_lev12.67221\n",
      "USGS_HydroBASINS_lake_na_lev12.67222\n",
      "USGS_HydroBASINS_lake_na_lev12.67223\n",
      "USGS_HydroBASINS_lake_na_lev12.67224\n",
      "USGS_HydroBASINS_lake_na_lev12.67225\n",
      "USGS_HydroBASINS_lake_na_lev12.67226\n",
      "USGS_HydroBASINS_lake_na_lev12.67227\n",
      "USGS_HydroBASINS_lake_na_lev12.67228\n",
      "USGS_HydroBASINS_lake_na_lev12.67229\n",
      "USGS_HydroBASINS_lake_na_lev12.67230\n",
      "USGS_HydroBASINS_lake_na_lev12.67231\n",
      "USGS_HydroBASINS_lake_na_lev12.67232\n",
      "USGS_HydroBASINS_lake_na_lev12.67233\n",
      "USGS_HydroBASINS_lake_na_lev12.67234\n",
      "USGS_HydroBASINS_lake_na_lev12.67235\n",
      "USGS_HydroBASINS_lake_na_lev12.67236\n",
      "USGS_HydroBASINS_lake_na_lev12.67237\n",
      "USGS_HydroBASINS_lake_na_lev12.67238\n",
      "USGS_HydroBASINS_lake_na_lev12.67239\n",
      "USGS_HydroBASINS_lake_na_lev12.67240\n",
      "USGS_HydroBASINS_lake_na_lev12.67241\n",
      "USGS_HydroBASINS_lake_na_lev12.67242\n",
      "USGS_HydroBASINS_lake_na_lev12.67243\n",
      "USGS_HydroBASINS_lake_na_lev12.67244\n",
      "USGS_HydroBASINS_lake_na_lev12.67245\n",
      "USGS_HydroBASINS_lake_na_lev12.67246\n",
      "USGS_HydroBASINS_lake_na_lev12.67247\n",
      "USGS_HydroBASINS_lake_na_lev12.67248\n",
      "USGS_HydroBASINS_lake_na_lev12.67249\n",
      "USGS_HydroBASINS_lake_na_lev12.67250\n",
      "USGS_HydroBASINS_lake_na_lev12.67251\n",
      "USGS_HydroBASINS_lake_na_lev12.67252\n",
      "USGS_HydroBASINS_lake_na_lev12.67253\n",
      "USGS_HydroBASINS_lake_na_lev12.67254\n",
      "USGS_HydroBASINS_lake_na_lev12.67255\n",
      "USGS_HydroBASINS_lake_na_lev12.67256\n",
      "USGS_HydroBASINS_lake_na_lev12.67257\n",
      "USGS_HydroBASINS_lake_na_lev12.67264\n",
      "USGS_HydroBASINS_lake_na_lev12.67265\n",
      "USGS_HydroBASINS_lake_na_lev12.67266\n",
      "USGS_HydroBASINS_lake_na_lev12.67267\n",
      "USGS_HydroBASINS_lake_na_lev12.67268\n",
      "USGS_HydroBASINS_lake_na_lev12.67269\n",
      "USGS_HydroBASINS_lake_na_lev12.67270\n",
      "USGS_HydroBASINS_lake_na_lev12.67271\n",
      "USGS_HydroBASINS_lake_na_lev12.67272\n",
      "USGS_HydroBASINS_lake_na_lev12.67273\n",
      "USGS_HydroBASINS_lake_na_lev12.67274\n",
      "USGS_HydroBASINS_lake_na_lev12.67275\n",
      "USGS_HydroBASINS_lake_na_lev12.67276\n",
      "USGS_HydroBASINS_lake_na_lev12.67277\n",
      "USGS_HydroBASINS_lake_na_lev12.67278\n",
      "USGS_HydroBASINS_lake_na_lev12.67279\n",
      "USGS_HydroBASINS_lake_na_lev12.67280\n",
      "USGS_HydroBASINS_lake_na_lev12.67281\n",
      "USGS_HydroBASINS_lake_na_lev12.67282\n",
      "USGS_HydroBASINS_lake_na_lev12.67283\n",
      "USGS_HydroBASINS_lake_na_lev12.67286\n",
      "USGS_HydroBASINS_lake_na_lev12.67287\n",
      "USGS_HydroBASINS_lake_na_lev12.67288\n",
      "USGS_HydroBASINS_lake_na_lev12.67289\n",
      "USGS_HydroBASINS_lake_na_lev12.67290\n",
      "USGS_HydroBASINS_lake_na_lev12.67291\n",
      "USGS_HydroBASINS_lake_na_lev12.67292\n",
      "USGS_HydroBASINS_lake_na_lev12.67293\n",
      "USGS_HydroBASINS_lake_na_lev12.67294\n",
      "USGS_HydroBASINS_lake_na_lev12.67295\n",
      "USGS_HydroBASINS_lake_na_lev12.67296\n",
      "USGS_HydroBASINS_lake_na_lev12.67297\n",
      "USGS_HydroBASINS_lake_na_lev12.67298\n",
      "USGS_HydroBASINS_lake_na_lev12.67299\n",
      "USGS_HydroBASINS_lake_na_lev12.67300\n",
      "USGS_HydroBASINS_lake_na_lev12.67301\n",
      "USGS_HydroBASINS_lake_na_lev12.67302\n",
      "USGS_HydroBASINS_lake_na_lev12.67303\n",
      "USGS_HydroBASINS_lake_na_lev12.67304\n",
      "USGS_HydroBASINS_lake_na_lev12.67307\n",
      "USGS_HydroBASINS_lake_na_lev12.67308\n",
      "USGS_HydroBASINS_lake_na_lev12.67309\n",
      "USGS_HydroBASINS_lake_na_lev12.67310\n",
      "USGS_HydroBASINS_lake_na_lev12.67311\n",
      "USGS_HydroBASINS_lake_na_lev12.67312\n",
      "USGS_HydroBASINS_lake_na_lev12.67313\n",
      "USGS_HydroBASINS_lake_na_lev12.67314\n",
      "USGS_HydroBASINS_lake_na_lev12.67315\n",
      "USGS_HydroBASINS_lake_na_lev12.67316\n",
      "USGS_HydroBASINS_lake_na_lev12.67317\n",
      "USGS_HydroBASINS_lake_na_lev12.67318\n",
      "USGS_HydroBASINS_lake_na_lev12.67319\n",
      "USGS_HydroBASINS_lake_na_lev12.67320\n",
      "USGS_HydroBASINS_lake_na_lev12.67321\n",
      "USGS_HydroBASINS_lake_na_lev12.67322\n",
      "USGS_HydroBASINS_lake_na_lev12.67323\n",
      "USGS_HydroBASINS_lake_na_lev12.67324\n",
      "USGS_HydroBASINS_lake_na_lev12.67325\n",
      "USGS_HydroBASINS_lake_na_lev12.67326\n",
      "USGS_HydroBASINS_lake_na_lev12.67327\n",
      "USGS_HydroBASINS_lake_na_lev12.67328\n",
      "USGS_HydroBASINS_lake_na_lev12.67329\n",
      "USGS_HydroBASINS_lake_na_lev12.67330\n",
      "USGS_HydroBASINS_lake_na_lev12.67331\n",
      "USGS_HydroBASINS_lake_na_lev12.67332\n",
      "USGS_HydroBASINS_lake_na_lev12.67333\n",
      "USGS_HydroBASINS_lake_na_lev12.67334\n",
      "USGS_HydroBASINS_lake_na_lev12.67335\n",
      "USGS_HydroBASINS_lake_na_lev12.67336\n",
      "USGS_HydroBASINS_lake_na_lev12.67337\n",
      "USGS_HydroBASINS_lake_na_lev12.67338\n",
      "USGS_HydroBASINS_lake_na_lev12.67339\n",
      "USGS_HydroBASINS_lake_na_lev12.67340\n",
      "USGS_HydroBASINS_lake_na_lev12.67341\n",
      "USGS_HydroBASINS_lake_na_lev12.67342\n",
      "USGS_HydroBASINS_lake_na_lev12.67343\n",
      "USGS_HydroBASINS_lake_na_lev12.67344\n",
      "USGS_HydroBASINS_lake_na_lev12.67345\n",
      "USGS_HydroBASINS_lake_na_lev12.67346\n",
      "USGS_HydroBASINS_lake_na_lev12.67347\n",
      "USGS_HydroBASINS_lake_na_lev12.67348\n",
      "USGS_HydroBASINS_lake_na_lev12.67349\n",
      "USGS_HydroBASINS_lake_na_lev12.67350\n",
      "USGS_HydroBASINS_lake_na_lev12.67351\n",
      "USGS_HydroBASINS_lake_na_lev12.67352\n",
      "USGS_HydroBASINS_lake_na_lev12.67353\n",
      "USGS_HydroBASINS_lake_na_lev12.67354\n",
      "USGS_HydroBASINS_lake_na_lev12.67355\n",
      "USGS_HydroBASINS_lake_na_lev12.67356\n",
      "USGS_HydroBASINS_lake_na_lev12.67357\n",
      "USGS_HydroBASINS_lake_na_lev12.67358\n",
      "USGS_HydroBASINS_lake_na_lev12.67359\n",
      "USGS_HydroBASINS_lake_na_lev12.67360\n",
      "USGS_HydroBASINS_lake_na_lev12.67361\n",
      "USGS_HydroBASINS_lake_na_lev12.67362\n",
      "USGS_HydroBASINS_lake_na_lev12.67363\n",
      "USGS_HydroBASINS_lake_na_lev12.67364\n",
      "USGS_HydroBASINS_lake_na_lev12.67365\n",
      "USGS_HydroBASINS_lake_na_lev12.67366\n",
      "USGS_HydroBASINS_lake_na_lev12.67367\n",
      "USGS_HydroBASINS_lake_na_lev12.67368\n",
      "USGS_HydroBASINS_lake_na_lev12.67369\n",
      "USGS_HydroBASINS_lake_na_lev12.67370\n",
      "USGS_HydroBASINS_lake_na_lev12.67371\n",
      "USGS_HydroBASINS_lake_na_lev12.67372\n",
      "USGS_HydroBASINS_lake_na_lev12.67373\n",
      "USGS_HydroBASINS_lake_na_lev12.67374\n",
      "USGS_HydroBASINS_lake_na_lev12.67375\n",
      "USGS_HydroBASINS_lake_na_lev12.67376\n",
      "USGS_HydroBASINS_lake_na_lev12.67377\n",
      "USGS_HydroBASINS_lake_na_lev12.67378\n",
      "USGS_HydroBASINS_lake_na_lev12.67379\n",
      "USGS_HydroBASINS_lake_na_lev12.67380\n",
      "USGS_HydroBASINS_lake_na_lev12.67381\n",
      "USGS_HydroBASINS_lake_na_lev12.67382\n",
      "USGS_HydroBASINS_lake_na_lev12.67383\n",
      "USGS_HydroBASINS_lake_na_lev12.67384\n",
      "USGS_HydroBASINS_lake_na_lev12.67385\n",
      "USGS_HydroBASINS_lake_na_lev12.67386\n",
      "USGS_HydroBASINS_lake_na_lev12.67387\n",
      "USGS_HydroBASINS_lake_na_lev12.67388\n",
      "USGS_HydroBASINS_lake_na_lev12.67389\n",
      "USGS_HydroBASINS_lake_na_lev12.67390\n",
      "USGS_HydroBASINS_lake_na_lev12.67391\n",
      "USGS_HydroBASINS_lake_na_lev12.67392\n",
      "USGS_HydroBASINS_lake_na_lev12.67393\n",
      "USGS_HydroBASINS_lake_na_lev12.67394\n",
      "USGS_HydroBASINS_lake_na_lev12.67395\n",
      "USGS_HydroBASINS_lake_na_lev12.67396\n",
      "USGS_HydroBASINS_lake_na_lev12.67397\n",
      "USGS_HydroBASINS_lake_na_lev12.67398\n",
      "USGS_HydroBASINS_lake_na_lev12.67399\n",
      "USGS_HydroBASINS_lake_na_lev12.67400\n",
      "USGS_HydroBASINS_lake_na_lev12.67401\n",
      "USGS_HydroBASINS_lake_na_lev12.67402\n",
      "USGS_HydroBASINS_lake_na_lev12.67403\n",
      "USGS_HydroBASINS_lake_na_lev12.67404\n",
      "USGS_HydroBASINS_lake_na_lev12.67405\n",
      "USGS_HydroBASINS_lake_na_lev12.67406\n",
      "USGS_HydroBASINS_lake_na_lev12.67407\n",
      "USGS_HydroBASINS_lake_na_lev12.67408\n",
      "USGS_HydroBASINS_lake_na_lev12.67409\n",
      "USGS_HydroBASINS_lake_na_lev12.67410\n",
      "USGS_HydroBASINS_lake_na_lev12.67411\n",
      "USGS_HydroBASINS_lake_na_lev12.67412\n",
      "USGS_HydroBASINS_lake_na_lev12.67413\n",
      "USGS_HydroBASINS_lake_na_lev12.67414\n",
      "USGS_HydroBASINS_lake_na_lev12.67415\n",
      "USGS_HydroBASINS_lake_na_lev12.67416\n",
      "USGS_HydroBASINS_lake_na_lev12.67417\n",
      "USGS_HydroBASINS_lake_na_lev12.67418\n",
      "USGS_HydroBASINS_lake_na_lev12.67419\n",
      "USGS_HydroBASINS_lake_na_lev12.67420\n",
      "USGS_HydroBASINS_lake_na_lev12.67421\n",
      "USGS_HydroBASINS_lake_na_lev12.67422\n",
      "USGS_HydroBASINS_lake_na_lev12.67423\n",
      "USGS_HydroBASINS_lake_na_lev12.67424\n",
      "USGS_HydroBASINS_lake_na_lev12.67425\n",
      "USGS_HydroBASINS_lake_na_lev12.67426\n",
      "USGS_HydroBASINS_lake_na_lev12.67427\n",
      "USGS_HydroBASINS_lake_na_lev12.67428\n",
      "USGS_HydroBASINS_lake_na_lev12.67429\n",
      "USGS_HydroBASINS_lake_na_lev12.67430\n",
      "USGS_HydroBASINS_lake_na_lev12.67431\n",
      "USGS_HydroBASINS_lake_na_lev12.67432\n",
      "USGS_HydroBASINS_lake_na_lev12.67433\n",
      "USGS_HydroBASINS_lake_na_lev12.67434\n",
      "USGS_HydroBASINS_lake_na_lev12.67435\n",
      "USGS_HydroBASINS_lake_na_lev12.67436\n",
      "USGS_HydroBASINS_lake_na_lev12.67437\n",
      "USGS_HydroBASINS_lake_na_lev12.67438\n",
      "USGS_HydroBASINS_lake_na_lev12.67439\n",
      "USGS_HydroBASINS_lake_na_lev12.67440\n",
      "USGS_HydroBASINS_lake_na_lev12.67441\n",
      "USGS_HydroBASINS_lake_na_lev12.67442\n",
      "USGS_HydroBASINS_lake_na_lev12.67443\n",
      "USGS_HydroBASINS_lake_na_lev12.67444\n",
      "USGS_HydroBASINS_lake_na_lev12.67445\n",
      "USGS_HydroBASINS_lake_na_lev12.67446\n",
      "USGS_HydroBASINS_lake_na_lev12.67447\n",
      "USGS_HydroBASINS_lake_na_lev12.67448\n",
      "USGS_HydroBASINS_lake_na_lev12.67449\n"
     ]
    }
   ],
   "source": [
    "# Verify that the HydroBASINS IDs are present in the response\n",
    "\n",
    "for basin in upstream_ids:\n",
    "    print(basin)"
   ]
  },
  {
   "cell_type": "markdown",
   "metadata": {},
   "source": [
    "These IDs are WFS addresses to the individual features from the vector data present on GeoServer. So long as we know the address of the GeoServer, we can use these addresses to pull data from the data server and launch processes using a PAVICS/Birdhouse process that is located elsewhere."
   ]
  },
  {
   "cell_type": "code",
   "execution_count": 7,
   "metadata": {},
   "outputs": [
    {
     "data": {
      "application/vnd.jupyter.widget-view+json": {
       "model_id": "792e6628edea4ae0a8cfacfe1164c16c",
       "version_major": 2,
       "version_minor": 0
      },
      "text/plain": [
       "HBox(children=(IntProgress(value=0, bar_style='info', description='Processing:'), Button(button_style='danger'…"
      ]
     },
     "metadata": {},
     "output_type": "display_data"
    }
   ],
   "source": [
    "# Address of the GeoServer where the HydroBASINS data is pulled from\n",
    "geoserver = \"https://boreas.ouranos.ca/geoserver/wfs\"\n",
    "\n",
    "# A local address of a NetCDF file\n",
    "nc1 = \"/home/tjs/Desktop/tas/tas_Amon_CanESM2_rcp85_r1i1p1_200601-210012.nc\"\n",
    "\n",
    "# The first sub-basin where our point was taken\n",
    "primary_basin = upstream_ids[0]\n",
    "\n",
    "\n",
    "x = fp.subset_wfs_polygon(\n",
    "    resource=nc1,\n",
    "    typename=\"public:USGS_HydroBASINS_lake_na_lev12\", # The store and name of the data set \n",
    "    geoserver=geoserver, # The address of the GeoServer\n",
    "    featureids=primary_basin, # The ID of the individual feature\n",
    "    mosaic=\"False\",\n",
    ")"
   ]
  },
  {
   "cell_type": "code",
   "execution_count": 8,
   "metadata": {},
   "outputs": [],
   "source": [
    "# Collect the file\n",
    "\n",
    "file_url, meta = x.get(asobj=False)\n",
    "response = requests.get(file_url).content\n",
    "with open('mistassini.nc', 'wb') as f:\n",
    "    f.write(response)"
   ]
  },
  {
   "cell_type": "code",
   "execution_count": 21,
   "metadata": {},
   "outputs": [
    {
     "data": {
      "text/plain": [
       "[<matplotlib.lines.Line2D at 0x7f6d7c35af28>]"
      ]
     },
     "execution_count": 21,
     "metadata": {},
     "output_type": "execute_result"
    },
    {
     "data": {
      "image/png": "[encoded data removed]",
      "text/plain": [
       "<Figure size 432x288 with 1 Axes>"
      ]
     },
     "metadata": {
      "needs_background": "light"
     },
     "output_type": "display_data"
    }
   ],
   "source": [
    "# Open with xarray and plot with matplotlib\n",
    "\n",
    "ds = xr.open_dataset('mistassini.nc')\n",
    "plt.plot(ds.tas)"
   ]
  },
  {
   "cell_type": "code",
   "execution_count": null,
   "metadata": {},
   "outputs": [],
   "source": []
  }
 ],
 "metadata": {
  "kernelspec": {
   "display_name": "Python 3",
   "language": "python",
   "name": "python3"
  },
  "language_info": {
   "codemirror_mode": {
    "name": "ipython",
    "version": 3
   },
   "file_extension": ".py",
   "mimetype": "text/x-python",
   "name": "python",
   "nbconvert_exporter": "python",
   "pygments_lexer": "ipython3",
   "version": "3.6.8"
  }
 },
 "nbformat": 4,
 "nbformat_minor": 2
}
