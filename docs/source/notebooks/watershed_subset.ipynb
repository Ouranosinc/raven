{
 "cells": [
  {
   "cell_type": "markdown",
   "metadata": {},
   "source": [
    "# Subsetting a watershed using Raven and Flyingpigeon\n",
    "\n",
    "Here we use the processes from two PAVICS/Birdhouse services to perform an analysis based on an upstream watershed delineation"
   ]
  },
  {
   "cell_type": "code",
   "execution_count": 1,
   "metadata": {},
   "outputs": [],
   "source": [
    "# Import the necessary libraries to format, send, and parse our returned results\n",
    "\n",
    "%matplotlib inline\n",
    "\n",
    "import birdy\n",
    "import json\n",
    "import xarray as xr\n",
    "import requests\n",
    "import matplotlib\n",
    "import matplotlib.pyplot as plt\n",
    "import geopandas as gpd\n",
    "from example_data import TESTDATA\n",
    "import os\n"
   ]
  },
  {
   "cell_type": "markdown",
   "metadata": {},
   "source": [
    "Assuming that you are running the Raven and FlyingPigeon modules locally, the default ports that the WPS services are mapped to are as follows:\n",
    "\n",
    "* **Raven: http://localhost:9099/wps**\n",
    "* **Flyingpigeon: http://localhost:8093/wps**\n"
   ]
  },
  {
   "cell_type": "code",
   "execution_count": 2,
   "metadata": {},
   "outputs": [],
   "source": [
    "# url_raven = \"https://pavics.ouranos.ca/twitcher/ows/proxy/raven/wps\"\n",
    "url_flyingpigeon = os.environ.get(\"FLYINGPIGEON_WPS_URL\", \"https://pavics.ouranos.ca/twitcher/ows/proxy/flyingpigeon/wps\")\n",
    "\n",
    "url_raven = os.environ.get(\"RAVEN_WPS_URL\", \"https://pavics.ouranos.ca/twitcher/ows/proxy/raven/wps\")\n",
    "\n",
    "raven = birdy.WPSClient(url_raven) #, progress=True)\n",
    "fp = birdy.WPSClient(url_flyingpigeon) # , progress=True)"
   ]
  },
  {
   "cell_type": "markdown",
   "metadata": {},
   "source": [
    "Let's consider trying to identify a sub-basin and all the upstream basins that flow into Lac Mistassini (Rupert Watershed) of Northern Quebec. Lac Mistassini is roughly found at 51.0 North, 73.621 West.\n",
    "\n",
    "We'll start by launching a process with Raven to find the upstream watersheds and return us both a GeoJSON of this watershed as well as the feature IDs of all the sub-basins."
   ]
  },
  {
   "cell_type": "code",
   "execution_count": 3,
   "metadata": {},
   "outputs": [],
   "source": [
    "basin_process = raven.hydrobasins_select(\n",
    "    location=\"-73.621, 51.000\", aggregate_upstream=True)\n",
    "\n",
    "# Wait for the process to complete before continuing with calculations"
   ]
  },
  {
   "cell_type": "code",
   "execution_count": 4,
   "metadata": {},
   "outputs": [
    {
     "name": "stdout",
     "output_type": "stream",
     "text": [
      "Number of subbasins: 325\n"
     ]
    },
    {
     "data": {
      "image/png": "[encoded data removed]",
      "text/plain": [
       "<Figure size 432x288 with 1 Axes>"
      ]
     },
     "metadata": {
      "needs_background": "light"
     },
     "output_type": "display_data"
    }
   ],
   "source": [
    "# Collecting the response\n",
    "feature, upstream_ids = basin_process.get(asobj=True)\n",
    "\n",
    "# Plot our vector shapefile\n",
    "df = gpd.GeoDataFrame.from_features([feature])\n",
    "df.plot()\n",
    "\n",
    "print(\"Number of subbasins: {}\".format(len(upstream_ids)))"
   ]
  },
  {
   "cell_type": "markdown",
   "metadata": {},
   "source": [
    "The upstream IDs are WFS addresses to the individual features from the vector data present on GeoServer. So long as we know the address of the GeoServer, we can use these addresses to pull data from the data server and launch processes using a PAVICS/Birdhouse process that is located elsewhere. Here we'll only pull data from the first two subbasins. "
   ]
  },
  {
   "cell_type": "code",
   "execution_count": 5,
   "metadata": {},
   "outputs": [],
   "source": [
    "# NBVAL_SKIP\n",
    "\n",
    "# Address of the GeoServer where the HydroBASINS data is pulled from\n",
    "geoserver = \"https://pavics.ouranos.ca/geoserver/wfs\"\n",
    "\n",
    "# A local address of a NetCDF file\n",
    "# A link to a remote file or the path to a local file. \n",
    "nc1 = str(TESTDATA[\"cmip5_subset\"])\n",
    "\n",
    "resp = fp.subset_wfs_polygon(\n",
    "    resource=nc1,\n",
    "    typename=\"public:USGS_HydroBASINS_lake_na_lev12\", # The store and name of the data set \n",
    "    geoserver=geoserver, # The address of the GeoServer\n",
    "    featureids=upstream_ids[:2], # The IDs of the individual features\n",
    "    mosaic=False,\n",
    ")"
   ]
  },
  {
   "cell_type": "code",
   "execution_count": 15,
   "metadata": {},
   "outputs": [
    {
     "name": "stdout",
     "output_type": "stream",
     "text": [
      "b'<?xml version=\"1.0\" encoding=\"UTF-8\"?>\\n<metalink xmlns=\"urn:ietf:params:xml:ns:metalink\">\\n    <published>2020-03-23T20:51:32Z</published>\\n    <generator>PyWPS/4.2.2</generator>\\n\\n    <file name=\"input.nc\">\\n        <identity>input</identity>\\n        <size>37916</size>\\n        <metaurl mediatype=\"application/x-netcdf\">https://pavics.ouranos.ca/wpsoutputs/140cd5d6-6d48-11ea-86ce-0242ac120010/input.nc</metaurl>\\n        <publisher name=\"None\" url=\"http://localhost:8093/wps\"/>\\n    </file>\\n    <file name=\"input.nc\">\\n        <identity>input</identity>\\n        <size>37916</size>\\n        <metaurl mediatype=\"application/x-netcdf\">https://pavics.ouranos.ca/wpsoutputs/140cf840-6d48-11ea-86ce-0242ac120010/input.nc</metaurl>\\n        <publisher name=\"None\" url=\"http://localhost:8093/wps\"/>\\n    </file>\\n\\n</metalink>'\n"
     ]
    }
   ],
   "source": [
    "ds, meta = resp.get(asobj=True)\n",
    "\n",
    "print(meta)"
   ]
  },
  {
   "cell_type": "code",
   "execution_count": 7,
   "metadata": {},
   "outputs": [
    {
     "ename": "AttributeError",
     "evalue": "'int' object has no attribute 'tas'",
     "output_type": "error",
     "traceback": [
      "\u001b[0;31m---------------------------------------------------------------------------\u001b[0m",
      "\u001b[0;31mAttributeError\u001b[0m                            Traceback (most recent call last)",
      "\u001b[0;32m<ipython-input-7-5eb68eea727d>\u001b[0m in \u001b[0;36m<module>\u001b[0;34m\u001b[0m\n\u001b[1;32m      6\u001b[0m \u001b[0mds\u001b[0m\u001b[0;34m,\u001b[0m \u001b[0mmeta\u001b[0m \u001b[0;34m=\u001b[0m \u001b[0mresp\u001b[0m\u001b[0;34m.\u001b[0m\u001b[0mget\u001b[0m\u001b[0;34m(\u001b[0m\u001b[0masobj\u001b[0m\u001b[0;34m=\u001b[0m\u001b[0;32mTrue\u001b[0m\u001b[0;34m)\u001b[0m\u001b[0;34m\u001b[0m\u001b[0;34m\u001b[0m\u001b[0m\n\u001b[1;32m      7\u001b[0m \u001b[0mfig\u001b[0m\u001b[0;34m,\u001b[0m \u001b[0maxes\u001b[0m \u001b[0;34m=\u001b[0m \u001b[0mplt\u001b[0m\u001b[0;34m.\u001b[0m\u001b[0msubplots\u001b[0m\u001b[0;34m(\u001b[0m\u001b[0;36m1\u001b[0m\u001b[0;34m,\u001b[0m \u001b[0;36m2\u001b[0m\u001b[0;34m,\u001b[0m \u001b[0mfigsize\u001b[0m\u001b[0;34m=\u001b[0m\u001b[0;34m(\u001b[0m\u001b[0;36m12\u001b[0m\u001b[0;34m,\u001b[0m\u001b[0;36m4\u001b[0m\u001b[0;34m)\u001b[0m\u001b[0;34m)\u001b[0m\u001b[0;34m\u001b[0m\u001b[0;34m\u001b[0m\u001b[0m\n\u001b[0;32m----> 8\u001b[0;31m \u001b[0maxes\u001b[0m\u001b[0;34m[\u001b[0m\u001b[0;36m0\u001b[0m\u001b[0;34m]\u001b[0m\u001b[0;34m.\u001b[0m\u001b[0mplot\u001b[0m\u001b[0;34m(\u001b[0m\u001b[0mmeta\u001b[0m\u001b[0;34m[\u001b[0m\u001b[0;36m0\u001b[0m\u001b[0;34m]\u001b[0m\u001b[0;34m.\u001b[0m\u001b[0mtas\u001b[0m\u001b[0;34m)\u001b[0m\u001b[0;34m\u001b[0m\u001b[0;34m\u001b[0m\u001b[0m\n\u001b[0m\u001b[1;32m      9\u001b[0m \u001b[0maxes\u001b[0m\u001b[0;34m[\u001b[0m\u001b[0;36m1\u001b[0m\u001b[0;34m]\u001b[0m\u001b[0;34m.\u001b[0m\u001b[0mplot\u001b[0m\u001b[0;34m(\u001b[0m\u001b[0mmeta\u001b[0m\u001b[0;34m[\u001b[0m\u001b[0;36m1\u001b[0m\u001b[0;34m]\u001b[0m\u001b[0;34m.\u001b[0m\u001b[0mtas\u001b[0m\u001b[0;34m)\u001b[0m\u001b[0;34m\u001b[0m\u001b[0;34m\u001b[0m\u001b[0m\n",
      "\u001b[0;31mAttributeError\u001b[0m: 'int' object has no attribute 'tas'"
     ]
    },
    {
     "data": {
      "image/png": "[encoded data removed]",
      "text/plain": [
       "<Figure size 864x288 with 2 Axes>"
      ]
     },
     "metadata": {
      "needs_background": "light"
     },
     "output_type": "display_data"
    }
   ],
   "source": [
    "# NBVAL_SKIP\n",
    "\n",
    "# The response from the process is the first netCDF file (as an easy to inspect example),\n",
    "# and a Metalink file storing the links to all the files created. \n",
    "# Note that you need to have pymetalink installed for this to work. \n",
    "ds, meta = resp.get(asobj=True)\n",
    "fig, axes = plt.subplots(1, 2, figsize=(12,4))\n",
    "axes[0].plot(meta[0].tas)\n",
    "axes[1].plot(meta[1].tas)"
   ]
  },
  {
   "cell_type": "markdown",
   "metadata": {},
   "source": [
    "We can also aggregate multiple subbasins to get a single file. Note however that due to a software limitation, no more than 220 upstream ids can be aggregated for now. "
   ]
  },
  {
   "cell_type": "code",
   "execution_count": 22,
   "metadata": {},
   "outputs": [
    {
     "name": "stdout",
     "output_type": "stream",
     "text": [
      " owslib.wps.WPSException : {'code': 'NoApplicableCode', 'locator': 'None', 'text': 'Process failed, please check server error log'}\n"
     ]
    }
   ],
   "source": [
    "resp = fp.subset_wfs_polygon(\n",
    "    resource=nc1,\n",
    "    typename=\"public:USGS_HydroBASINS_lake_na_lev12\", # The store and name of the data set \n",
    "    geoserver=geoserver, # The address of the GeoServer\n",
    "    featureids=upstream_ids[:10], # The IDs of the individual features\n",
    "    mosaic=True,\n",
    ")"
   ]
  },
  {
   "cell_type": "code",
   "execution_count": 23,
   "metadata": {},
   "outputs": [
    {
     "ename": "ProcessFailed",
     "evalue": "Sorry, process failed.",
     "output_type": "error",
     "traceback": [
      "\u001b[0;31m---------------------------------------------------------------------------\u001b[0m",
      "\u001b[0;31mProcessFailed\u001b[0m                             Traceback (most recent call last)",
      "\u001b[0;32m<ipython-input-23-797d7818790a>\u001b[0m in \u001b[0;36m<module>\u001b[0;34m\u001b[0m\n\u001b[0;32m----> 1\u001b[0;31m \u001b[0mdsa\u001b[0m\u001b[0;34m,\u001b[0m \u001b[0mmetaa\u001b[0m \u001b[0;34m=\u001b[0m \u001b[0mresp\u001b[0m\u001b[0;34m.\u001b[0m\u001b[0mget\u001b[0m\u001b[0;34m(\u001b[0m\u001b[0masobj\u001b[0m\u001b[0;34m=\u001b[0m\u001b[0;32mTrue\u001b[0m\u001b[0;34m)\u001b[0m\u001b[0;34m\u001b[0m\u001b[0;34m\u001b[0m\u001b[0m\n\u001b[0m\u001b[1;32m      2\u001b[0m \u001b[0mplt\u001b[0m\u001b[0;34m.\u001b[0m\u001b[0mplot\u001b[0m\u001b[0;34m(\u001b[0m\u001b[0mdsa\u001b[0m\u001b[0;34m.\u001b[0m\u001b[0mtas\u001b[0m\u001b[0;34m)\u001b[0m\u001b[0;34m\u001b[0m\u001b[0;34m\u001b[0m\u001b[0m\n",
      "\u001b[0;32m~/miniconda3/envs/raven/lib/python3.6/site-packages/birdy/client/outputs.py\u001b[0m in \u001b[0;36mget\u001b[0;34m(self, asobj)\u001b[0m\n\u001b[1;32m     29\u001b[0m         \u001b[0;32mif\u001b[0m \u001b[0;32mnot\u001b[0m \u001b[0mself\u001b[0m\u001b[0;34m.\u001b[0m\u001b[0misSucceded\u001b[0m\u001b[0;34m(\u001b[0m\u001b[0;34m)\u001b[0m\u001b[0;34m:\u001b[0m\u001b[0;34m\u001b[0m\u001b[0;34m\u001b[0m\u001b[0m\n\u001b[1;32m     30\u001b[0m             \u001b[0;31m# TODO: add reason for failure\u001b[0m\u001b[0;34m\u001b[0m\u001b[0;34m\u001b[0m\u001b[0;34m\u001b[0m\u001b[0m\n\u001b[0;32m---> 31\u001b[0;31m             \u001b[0;32mraise\u001b[0m \u001b[0mProcessFailed\u001b[0m\u001b[0;34m(\u001b[0m\u001b[0;34m\"Sorry, process failed.\"\u001b[0m\u001b[0;34m)\u001b[0m\u001b[0;34m\u001b[0m\u001b[0;34m\u001b[0m\u001b[0m\n\u001b[0m\u001b[1;32m     32\u001b[0m         \u001b[0;32mreturn\u001b[0m \u001b[0mself\u001b[0m\u001b[0;34m.\u001b[0m\u001b[0m_make_output\u001b[0m\u001b[0;34m(\u001b[0m\u001b[0masobj\u001b[0m\u001b[0;34m)\u001b[0m\u001b[0;34m\u001b[0m\u001b[0;34m\u001b[0m\u001b[0m\n\u001b[1;32m     33\u001b[0m \u001b[0;34m\u001b[0m\u001b[0m\n",
      "\u001b[0;31mProcessFailed\u001b[0m: Sorry, process failed."
     ]
    }
   ],
   "source": [
    "dsa, metaa = resp.get(asobj=True)\n",
    "plt.plot(dsa.tas)"
   ]
  }
 ],
 "metadata": {
  "kernelspec": {
   "display_name": "Python 3",
   "language": "python",
   "name": "python3"
  },
  "language_info": {
   "codemirror_mode": {
    "name": "ipython",
    "version": 3
   },
   "file_extension": ".py",
   "mimetype": "text/x-python",
   "name": "python",
   "nbconvert_exporter": "python",
   "pygments_lexer": "ipython3",
   "version": "3.6.10"
  }
 },
 "nbformat": 4,
 "nbformat_minor": 2
}
