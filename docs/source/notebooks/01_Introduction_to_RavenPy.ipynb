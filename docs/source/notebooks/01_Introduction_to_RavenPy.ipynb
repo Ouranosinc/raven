{
 "cells": [
  {
   "cell_type": "markdown",
   "metadata": {},
   "source": [
    "# 01_Introduction_to_RavenPy.ipynb\n",
    "\n",
    "## Before going any further. These notebooks are best visualized by copying them to your writable-workspace on your PAVICS account, as files will be created and written and your writable-workspace has write access. Please copy the tutorial notebooks (1-11) to that folder before continuing.  "
   ]
  },
  {
   "cell_type": "markdown",
   "metadata": {},
   "source": [
    "## The RavenPy interface to Raven\n",
    "\n",
    "Welcome to this PAVICS-Hydro tutorial, where we will explore the various possibilities of what can be done in terms of hydrological modelling and forecasting on this platform. The platform uses the Raven hydrological modelling framework to build, run and analyze hydrological models, therefore the tutorial starts by exploring how to use the model itself. In later stages, we will look at how to perform various tasks using this framework.\n",
    "\n",
    "RavenPy can be used to call Raven from Python. At its most basic, existing configuration files can be used to launch Raven for a given setup that a user could have built independently, but RavenPy is most useful when leveraging its templating system to configure models interactively.\n",
    "\n",
    "## Basic usage using pre-existing configuration files\n",
    "\n",
    "The simplest way to existing Raven users to use the wrapper is to pass existing configuration files to the `Raven` class. This is what we will explore first too keep the introduction as simple as possible. In the next tutorial, we will look at how to build a new raven model from scratch. \n",
    "\n",
    "Let's start by importing some utilities that will make our life easier to get data on the servers. If you already have raven model setups, you could simply upload the files here and create your own \"config\" list.:"
   ]
  },
  {
   "cell_type": "code",
   "execution_count": null,
   "metadata": {},
   "outputs": [],
   "source": [
    "import os\n",
    "from glob import glob\n",
    "from pathlib import Path\n",
    "from ravenpy.utilities.testdata import get_file"
   ]
  },
  {
   "cell_type": "markdown",
   "metadata": {},
   "source": [
    "## A note on datasets\n",
    "\n",
    "For this introduction to RavenPy, we will use pre-existing datasets that are hosted on the PAVICS-Hydro servers. The model is already pre-configured, and the required datasets are pre-built. In the next tutorials, we will see how users can import and use their own datasets to customize the process."
   ]
  },
  {
   "cell_type": "code",
   "execution_count": null,
   "metadata": {},
   "outputs": [],
   "source": [
    "config = [get_file(f\"raven-gr4j-cemaneige/raven-gr4j-salmon.{ext}\") for ext in ['rvt', 'rvc', 'rvi', 'rvh', 'rvp']]\n",
    "forcing = get_file(\"raven-gr4j-cemaneige/Salmon-River-Near-Prince-George_meteo_daily.nc\")\n",
    "\n",
    "# Display the datasets that we will be using\n",
    "display(tuple(config), forcing)"
   ]
  },
  {
   "cell_type": "markdown",
   "metadata": {},
   "source": [
    "## Building a hydrological model on-the-fly using existing configuration files.\n",
    "\n",
    "In this section, we create a Raven model instance and then configure it using the provided datasets. The configuration we provide is for a GR4J-CN model emulator that Raven will run for us. We provide the configuration files for GR4J-CN as well as the forcing data (precipitation, temperature, observed streamflow, etc.) that will be used to run the model. We will explore forcing data a little later in a future tutorial."
   ]
  },
  {
   "cell_type": "code",
   "execution_count": null,
   "metadata": {},
   "outputs": [],
   "source": [
    "# Import the Raven model object\n",
    "from ravenpy.models import Raven\n",
    "\n",
    "# Start a Raven model instance (general, not for a specific model)\n",
    "model = Raven()\n",
    "\n",
    "# Now configure it so that Raven emulates the model we want from our configuration files. \n",
    "model.configure(config)\n",
    "\n",
    "# Finally, call the model with the forcing data to run it. Later we will see how to also provide other options.\n",
    "model(forcing)"
   ]
  },
  {
   "cell_type": "markdown",
   "metadata": {},
   "source": [
    "## Evaluating the model response\n",
    "\n",
    "That's it! The code above has launched the GR4J model using weather data and the GR4J configuration we provided. There are many other options we could provide, but for now we left everything to the default options to keep things simple. We will explore those in a future tutorial as well.\n",
    "Now, let's look at the modeled hydrographs. Note that there is a \"q_obs\" hydrograph, representing the observations we provided ourselves. This is to facilitate the comparison between observations and simulations, and it is not required per se to run the model.\n",
    "The \"q_sim\" variable is the simulated streamflow and is the one we are interested in.\n"
   ]
  },
  {
   "cell_type": "code",
   "execution_count": null,
   "metadata": {},
   "outputs": [],
   "source": [
    "model.hydrograph"
   ]
  },
  {
   "cell_type": "markdown",
   "metadata": {},
   "source": [
    "We can analyze the data visually bu plotting it using any Python plotting tool, as follows:"
   ]
  },
  {
   "cell_type": "code",
   "execution_count": null,
   "metadata": {},
   "outputs": [],
   "source": [
    "model.q_sim.plot()"
   ]
  },
  {
   "cell_type": "markdown",
   "metadata": {},
   "source": [
    "Note that we could also extract much more data from the model, including state variables and diagnostics as is typically done with RAVEN. This will be done in a future tutorial!"
   ]
  },
  {
   "cell_type": "code",
   "execution_count": null,
   "metadata": {},
   "outputs": [],
   "source": [
    "model.storage"
   ]
  }
 ],
 "metadata": {
  "kernelspec": {
   "display_name": "Python 3",
   "language": "python",
   "name": "python3"
  },
  "language_info": {
   "codemirror_mode": {
    "name": "ipython",
    "version": 3
   },
   "file_extension": ".py",
   "mimetype": "text/x-python",
   "name": "python",
   "nbconvert_exporter": "python",
   "pygments_lexer": "ipython3",
   "version": "3.7.10"
  }
 },
 "nbformat": 4,
 "nbformat_minor": 4
}
