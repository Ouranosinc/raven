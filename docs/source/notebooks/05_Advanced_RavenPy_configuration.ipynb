{
 "cells": [
  {
   "cell_type": "markdown",
   "metadata": {},
   "source": [
    "# 05 - Advanced RavenPy configuration"
   ]
  },
  {
   "cell_type": "markdown",
   "metadata": {},
   "source": [
    "In this notebook, we will explore alternative ways to setup a Raven model and run it using datasets from remote access points such as datasets hosted on the cloud.\n",
    "\n",
    "## Running Raven using pre-existing configuration files\n",
    "\n",
    "To run Raven, we need configuration (`.rvX`) files defining hydrological processes, watersheds and meteorological data. If you already have those configuration files ready, or want to see how to import an existing Raven model into PAVICS-Hydro, this tutorial is for you. It shows how to run Raven from a Python programming environment using [RavenPy](https://ravenpy.readthedocs.io/en/latest/). \n",
    "\n",
    "Let's start by importing some utilities that will make our life easier to get data on the servers. If you already have raven model setups, you could simply upload the files here and create your own \"config\" list:"
   ]
  },
  {
   "cell_type": "code",
   "execution_count": 1,
   "metadata": {},
   "outputs": [],
   "source": [
    "from ravenpy.utilities.testdata import get_file # Utility that simplifies getting data from a remote server hosted on the PAVICS-Hydro data server."
   ]
  },
  {
   "cell_type": "markdown",
   "metadata": {},
   "source": [
    "## A note on datasets\n",
    "\n",
    "For this part of the tutorial, we will use pre-existing datasets that are hosted on the PAVICS-Hydro servers to setup the Raven model. This means that the .rv files are all built and the forcing file already exists. Let's import the files:"
   ]
  },
  {
   "cell_type": "code",
   "execution_count": 7,
   "metadata": {},
   "outputs": [
    {
     "data": {
      "text/plain": [
       "[PosixPath('/notebook_dir/writable-workspace/.home/.raven_testing_data/master/raven-gr4j-cemaneige/raven-gr4j-salmon.rvt'),\n",
       " PosixPath('/notebook_dir/writable-workspace/.home/.raven_testing_data/master/raven-gr4j-cemaneige/raven-gr4j-salmon.rvc'),\n",
       " PosixPath('/notebook_dir/writable-workspace/.home/.raven_testing_data/master/raven-gr4j-cemaneige/raven-gr4j-salmon.rvi'),\n",
       " PosixPath('/notebook_dir/writable-workspace/.home/.raven_testing_data/master/raven-gr4j-cemaneige/raven-gr4j-salmon.rvh'),\n",
       " PosixPath('/notebook_dir/writable-workspace/.home/.raven_testing_data/master/raven-gr4j-cemaneige/raven-gr4j-salmon.rvp')]"
      ]
     },
     "execution_count": 7,
     "metadata": {},
     "output_type": "execute_result"
    }
   ],
   "source": [
    "# Get the .rv files. It could also be the .rv files returned from the previous notebook, but here we are using a new basin that contains observed streamflow\n",
    "# to make the calibration possible in the next notebook.\n",
    "config = [get_file(f\"raven-gr4j-cemaneige/raven-gr4j-salmon.{ext}\") for ext in ['rvt', 'rvc', 'rvi', 'rvh', 'rvp']]\n",
    "config"
   ]
  },
  {
   "cell_type": "markdown",
   "metadata": {},
   "source": [
    "So \"config\" is just a set of paths to the various .rvX files (.rvt, .rvc, .rvi. .rvh and .rvp). Therefore, if you have your own .rv files that describe your model, you can upload them and replace \"config\" with your own files!\n",
    "\n",
    "\n",
    "Now, we also need forcing data to run our model. Instead of using the ERA5 data from the previous notebooks, we will refer to our pre-existing files for this test watershed:"
   ]
  },
  {
   "cell_type": "code",
   "execution_count": 4,
   "metadata": {},
   "outputs": [
    {
     "name": "stdout",
     "output_type": "stream",
     "text": [
      "/notebook_dir/writable-workspace/.home/.raven_testing_data/master/raven-gr4j-cemaneige/Salmon-River-Near-Prince-George_meteo_daily.nc\n"
     ]
    }
   ],
   "source": [
    "# Import the forcing data file that contains all the meteorological data as well as observed streamflow data.\n",
    "forcing = get_file(\"raven-gr4j-cemaneige/Salmon-River-Near-Prince-George_meteo_daily.nc\")\n",
    "print(forcing)"
   ]
  },
  {
   "cell_type": "markdown",
   "metadata": {},
   "source": [
    "As expected, the \"forcing\" variable is nothing more than a path to the forcing data. Let's see what's inside!"
   ]
  },
  {
   "cell_type": "code",
   "execution_count": 5,
   "metadata": {},
   "outputs": [
    {
     "name": "stdout",
     "output_type": "stream",
     "text": [
      "<xarray.Dataset>\n",
      "Dimensions:       (nstations: 1, time: 20819)\n",
      "Coordinates:\n",
      "    station_name  (nstations) object ...\n",
      "  * time          (time) datetime64[ns] 1954-01-01 1954-01-02 ... 2010-12-31\n",
      "Dimensions without coordinates: nstations\n",
      "Data variables:\n",
      "    lon           (nstations) float64 ...\n",
      "    lat           (nstations) float64 ...\n",
      "    rain          (time) float64 ...\n",
      "    snow          (time) float64 ...\n",
      "    tmin          (time) float64 ...\n",
      "    tmax          (time) float64 ...\n",
      "    pet           (time) float64 ...\n",
      "    qobs          (time) float64 ...\n",
      "Attributes:\n",
      "    description:  Merge Raven ASCII-formatted timeseries used in GR4J+CEMANEI...\n",
      "    history:      Created by Juliane Mai \n",
      "    Conventions:  CF-1.6\n",
      "    featureType:  timeSeries\n"
     ]
    }
   ],
   "source": [
    "import xarray as xr\n",
    "ds = xr.open_dataset(forcing)\n",
    "print(ds)"
   ]
  },
  {
   "cell_type": "markdown",
   "metadata": {},
   "source": [
    "This forcing dataset contains many more variables than what we had provided with ERA5. This is a good test basin to explore different Raven model configurations and options! Most notably, it contains:\n",
    "\n",
    "- rain and snow: As individual variables, negating the need to separate total precipitation into liquid and solid components;\n",
    "- pet: Pre-computed potential evapotranspiration, negating the need to compute it internally by Raven;\n",
    "- qobs: streamflow observations, required for model calibration.\n",
    "\n",
    "We can now try to run Raven with this existing configuration. We therefore **don't** have to provide:\n",
    "\n",
    "- Start and end dates for the simulation (already included in the configuration files!)\n",
    "- HRU information (already included in the configuration files!) \n",
    "- Parameters (already included in the configuration files!) "
   ]
  },
  {
   "cell_type": "markdown",
   "metadata": {},
   "source": [
    "## Building a hydrological model on-the-fly using existing configuration files.\n",
    "\n",
    "Here we create a Raven model instance, configure it using the pre-defined configuration files and run it by providing the full path to the netCDF driving datasets. The configuration we provide is for a GR4J-CN model emulator that Raven will run for us. We provide the configuration files for GR4J-CN as well as the forcing data (precipitation, temperature, observed streamflow, etc.) that will be used to run the model."
   ]
  },
  {
   "cell_type": "code",
   "execution_count": 6,
   "metadata": {},
   "outputs": [
    {
     "name": "stderr",
     "output_type": "stream",
     "text": [
      "/opt/conda/envs/birdy/lib/python3.8/site-packages/ravenpy/models/base.py:434: RavenWarning: Gauge:Initialize: both snowfall and rainfall data are provided at a gauge, but :RainSnowFraction method is something other than RAINSNOW_DATA. Snow fraction will be recalculated.\n",
      "  warn(msg, category=RavenWarning)\n",
      "/opt/conda/envs/birdy/lib/python3.8/site-packages/ravenpy/models/base.py:434: RavenWarning: PET data supplied at gauge meteorological but will not be used due to choice of forcing generation algorithm\n",
      "  warn(msg, category=RavenWarning)\n"
     ]
    }
   ],
   "source": [
    "# Import the Raven model object\n",
    "from ravenpy.models import Raven\n",
    "\n",
    "# Create an blank Raven model instance (general, not for a specific emulator)\n",
    "model = Raven()\n",
    "\n",
    "# Now configure it so that Raven emulates the model we want from our configuration files. \n",
    "model.configure(config)\n",
    "\n",
    "# Finally, call the model with the forcing data to run it. Later we will see how to also provide other options.\n",
    "model(forcing, overwrite = True)"
   ]
  },
  {
   "cell_type": "markdown",
   "metadata": {},
   "source": [
    "The model should have run! But you also might have noticed the two warnings that Raven is giving us:\n",
    "\n",
    "- The first one is saying that we are providing rain and snow independently, but in the configuration files, we are asking the model to recompute the separation using an algorithm based on total precipitation and air temperature. This is OK, and we can live with this (alternatively, we could reconfigure the model to remove this but that will be for another notebook!).\n",
    "\n",
    "- The second one is saying that we supply PET data, but the model is configured to compute PET from the available temperature and latitude/longitude data. This is also acceptable to us for now, so these warnings can be disregarded.\n"
   ]
  },
  {
   "cell_type": "markdown",
   "metadata": {},
   "source": [
    "## Evaluating the model response\n",
    "\n",
    "That's it! The code above has launched the GR4J model using weather data and the GR4J-CN configuration we provided. There are many other options we could provide, but for now we left everything to the default options to keep things simple. We will explore those in a future tutorial as well.\n",
    "Now, let's look at the modeled hydrographs. Note that there is a \"q_obs\" hydrograph, representing the observations we provided ourselves. This is to facilitate the comparison between observations and simulations, and it is not required per se to run the model. The \"q_sim\" variable is the simulated streamflow and is the one we are interested in.\n",
    "\n",
    "Note that RavenPy assumes that model outputs are always saved in netCDF format, and relies on [xarray](http://xarray.pydata.org/en/stable/) to access data. "
   ]
  },
  {
   "cell_type": "code",
   "execution_count": 7,
   "metadata": {},
   "outputs": [
    {
     "data": {
      "text/html": [
       "<div><svg style=\"position: absolute; width: 0; height: 0; overflow: hidden\">\n",
       "<defs>\n",
       "<symbol id=\"icon-database\" viewBox=\"0 0 32 32\">\n",
       "<path d=\"M16 0c-8.837 0-16 2.239-16 5v4c0 2.761 7.163 5 16 5s16-2.239 16-5v-4c0-2.761-7.163-5-16-5z\"></path>\n",
       "<path d=\"M16 17c-8.837 0-16-2.239-16-5v6c0 2.761 7.163 5 16 5s16-2.239 16-5v-6c0 2.761-7.163 5-16 5z\"></path>\n",
       "<path d=\"M16 26c-8.837 0-16-2.239-16-5v6c0 2.761 7.163 5 16 5s16-2.239 16-5v-6c0 2.761-7.163 5-16 5z\"></path>\n",
       "</symbol>\n",
       "<symbol id=\"icon-file-text2\" viewBox=\"0 0 32 32\">\n",
       "<path d=\"M28.681 7.159c-0.694-0.947-1.662-2.053-2.724-3.116s-2.169-2.030-3.116-2.724c-1.612-1.182-2.393-1.319-2.841-1.319h-15.5c-1.378 0-2.5 1.121-2.5 2.5v27c0 1.378 1.122 2.5 2.5 2.5h23c1.378 0 2.5-1.122 2.5-2.5v-19.5c0-0.448-0.137-1.23-1.319-2.841zM24.543 5.457c0.959 0.959 1.712 1.825 2.268 2.543h-4.811v-4.811c0.718 0.556 1.584 1.309 2.543 2.268zM28 29.5c0 0.271-0.229 0.5-0.5 0.5h-23c-0.271 0-0.5-0.229-0.5-0.5v-27c0-0.271 0.229-0.5 0.5-0.5 0 0 15.499-0 15.5 0v7c0 0.552 0.448 1 1 1h7v19.5z\"></path>\n",
       "<path d=\"M23 26h-14c-0.552 0-1-0.448-1-1s0.448-1 1-1h14c0.552 0 1 0.448 1 1s-0.448 1-1 1z\"></path>\n",
       "<path d=\"M23 22h-14c-0.552 0-1-0.448-1-1s0.448-1 1-1h14c0.552 0 1 0.448 1 1s-0.448 1-1 1z\"></path>\n",
       "<path d=\"M23 18h-14c-0.552 0-1-0.448-1-1s0.448-1 1-1h14c0.552 0 1 0.448 1 1s-0.448 1-1 1z\"></path>\n",
       "</symbol>\n",
       "</defs>\n",
       "</svg>\n",
       "<style>/* CSS stylesheet for displaying xarray objects in jupyterlab.\n",
       " *\n",
       " */\n",
       "\n",
       ":root {\n",
       "  --xr-font-color0: var(--jp-content-font-color0, rgba(0, 0, 0, 1));\n",
       "  --xr-font-color2: var(--jp-content-font-color2, rgba(0, 0, 0, 0.54));\n",
       "  --xr-font-color3: var(--jp-content-font-color3, rgba(0, 0, 0, 0.38));\n",
       "  --xr-border-color: var(--jp-border-color2, #e0e0e0);\n",
       "  --xr-disabled-color: var(--jp-layout-color3, #bdbdbd);\n",
       "  --xr-background-color: var(--jp-layout-color0, white);\n",
       "  --xr-background-color-row-even: var(--jp-layout-color1, white);\n",
       "  --xr-background-color-row-odd: var(--jp-layout-color2, #eeeeee);\n",
       "}\n",
       "\n",
       "html[theme=dark],\n",
       "body.vscode-dark {\n",
       "  --xr-font-color0: rgba(255, 255, 255, 1);\n",
       "  --xr-font-color2: rgba(255, 255, 255, 0.54);\n",
       "  --xr-font-color3: rgba(255, 255, 255, 0.38);\n",
       "  --xr-border-color: #1F1F1F;\n",
       "  --xr-disabled-color: #515151;\n",
       "  --xr-background-color: #111111;\n",
       "  --xr-background-color-row-even: #111111;\n",
       "  --xr-background-color-row-odd: #313131;\n",
       "}\n",
       "\n",
       ".xr-wrap {\n",
       "  display: block !important;\n",
       "  min-width: 300px;\n",
       "  max-width: 700px;\n",
       "}\n",
       "\n",
       ".xr-text-repr-fallback {\n",
       "  /* fallback to plain text repr when CSS is not injected (untrusted notebook) */\n",
       "  display: none;\n",
       "}\n",
       "\n",
       ".xr-header {\n",
       "  padding-top: 6px;\n",
       "  padding-bottom: 6px;\n",
       "  margin-bottom: 4px;\n",
       "  border-bottom: solid 1px var(--xr-border-color);\n",
       "}\n",
       "\n",
       ".xr-header > div,\n",
       ".xr-header > ul {\n",
       "  display: inline;\n",
       "  margin-top: 0;\n",
       "  margin-bottom: 0;\n",
       "}\n",
       "\n",
       ".xr-obj-type,\n",
       ".xr-array-name {\n",
       "  margin-left: 2px;\n",
       "  margin-right: 10px;\n",
       "}\n",
       "\n",
       ".xr-obj-type {\n",
       "  color: var(--xr-font-color2);\n",
       "}\n",
       "\n",
       ".xr-sections {\n",
       "  padding-left: 0 !important;\n",
       "  display: grid;\n",
       "  grid-template-columns: 150px auto auto 1fr 20px 20px;\n",
       "}\n",
       "\n",
       ".xr-section-item {\n",
       "  display: contents;\n",
       "}\n",
       "\n",
       ".xr-section-item input {\n",
       "  display: none;\n",
       "}\n",
       "\n",
       ".xr-section-item input + label {\n",
       "  color: var(--xr-disabled-color);\n",
       "}\n",
       "\n",
       ".xr-section-item input:enabled + label {\n",
       "  cursor: pointer;\n",
       "  color: var(--xr-font-color2);\n",
       "}\n",
       "\n",
       ".xr-section-item input:enabled + label:hover {\n",
       "  color: var(--xr-font-color0);\n",
       "}\n",
       "\n",
       ".xr-section-summary {\n",
       "  grid-column: 1;\n",
       "  color: var(--xr-font-color2);\n",
       "  font-weight: 500;\n",
       "}\n",
       "\n",
       ".xr-section-summary > span {\n",
       "  display: inline-block;\n",
       "  padding-left: 0.5em;\n",
       "}\n",
       "\n",
       ".xr-section-summary-in:disabled + label {\n",
       "  color: var(--xr-font-color2);\n",
       "}\n",
       "\n",
       ".xr-section-summary-in + label:before {\n",
       "  display: inline-block;\n",
       "  content: '►';\n",
       "  font-size: 11px;\n",
       "  width: 15px;\n",
       "  text-align: center;\n",
       "}\n",
       "\n",
       ".xr-section-summary-in:disabled + label:before {\n",
       "  color: var(--xr-disabled-color);\n",
       "}\n",
       "\n",
       ".xr-section-summary-in:checked + label:before {\n",
       "  content: '▼';\n",
       "}\n",
       "\n",
       ".xr-section-summary-in:checked + label > span {\n",
       "  display: none;\n",
       "}\n",
       "\n",
       ".xr-section-summary,\n",
       ".xr-section-inline-details {\n",
       "  padding-top: 4px;\n",
       "  padding-bottom: 4px;\n",
       "}\n",
       "\n",
       ".xr-section-inline-details {\n",
       "  grid-column: 2 / -1;\n",
       "}\n",
       "\n",
       ".xr-section-details {\n",
       "  display: none;\n",
       "  grid-column: 1 / -1;\n",
       "  margin-bottom: 5px;\n",
       "}\n",
       "\n",
       ".xr-section-summary-in:checked ~ .xr-section-details {\n",
       "  display: contents;\n",
       "}\n",
       "\n",
       ".xr-array-wrap {\n",
       "  grid-column: 1 / -1;\n",
       "  display: grid;\n",
       "  grid-template-columns: 20px auto;\n",
       "}\n",
       "\n",
       ".xr-array-wrap > label {\n",
       "  grid-column: 1;\n",
       "  vertical-align: top;\n",
       "}\n",
       "\n",
       ".xr-preview {\n",
       "  color: var(--xr-font-color3);\n",
       "}\n",
       "\n",
       ".xr-array-preview,\n",
       ".xr-array-data {\n",
       "  padding: 0 5px !important;\n",
       "  grid-column: 2;\n",
       "}\n",
       "\n",
       ".xr-array-data,\n",
       ".xr-array-in:checked ~ .xr-array-preview {\n",
       "  display: none;\n",
       "}\n",
       "\n",
       ".xr-array-in:checked ~ .xr-array-data,\n",
       ".xr-array-preview {\n",
       "  display: inline-block;\n",
       "}\n",
       "\n",
       ".xr-dim-list {\n",
       "  display: inline-block !important;\n",
       "  list-style: none;\n",
       "  padding: 0 !important;\n",
       "  margin: 0;\n",
       "}\n",
       "\n",
       ".xr-dim-list li {\n",
       "  display: inline-block;\n",
       "  padding: 0;\n",
       "  margin: 0;\n",
       "}\n",
       "\n",
       ".xr-dim-list:before {\n",
       "  content: '(';\n",
       "}\n",
       "\n",
       ".xr-dim-list:after {\n",
       "  content: ')';\n",
       "}\n",
       "\n",
       ".xr-dim-list li:not(:last-child):after {\n",
       "  content: ',';\n",
       "  padding-right: 5px;\n",
       "}\n",
       "\n",
       ".xr-has-index {\n",
       "  font-weight: bold;\n",
       "}\n",
       "\n",
       ".xr-var-list,\n",
       ".xr-var-item {\n",
       "  display: contents;\n",
       "}\n",
       "\n",
       ".xr-var-item > div,\n",
       ".xr-var-item label,\n",
       ".xr-var-item > .xr-var-name span {\n",
       "  background-color: var(--xr-background-color-row-even);\n",
       "  margin-bottom: 0;\n",
       "}\n",
       "\n",
       ".xr-var-item > .xr-var-name:hover span {\n",
       "  padding-right: 5px;\n",
       "}\n",
       "\n",
       ".xr-var-list > li:nth-child(odd) > div,\n",
       ".xr-var-list > li:nth-child(odd) > label,\n",
       ".xr-var-list > li:nth-child(odd) > .xr-var-name span {\n",
       "  background-color: var(--xr-background-color-row-odd);\n",
       "}\n",
       "\n",
       ".xr-var-name {\n",
       "  grid-column: 1;\n",
       "}\n",
       "\n",
       ".xr-var-dims {\n",
       "  grid-column: 2;\n",
       "}\n",
       "\n",
       ".xr-var-dtype {\n",
       "  grid-column: 3;\n",
       "  text-align: right;\n",
       "  color: var(--xr-font-color2);\n",
       "}\n",
       "\n",
       ".xr-var-preview {\n",
       "  grid-column: 4;\n",
       "}\n",
       "\n",
       ".xr-var-name,\n",
       ".xr-var-dims,\n",
       ".xr-var-dtype,\n",
       ".xr-preview,\n",
       ".xr-attrs dt {\n",
       "  white-space: nowrap;\n",
       "  overflow: hidden;\n",
       "  text-overflow: ellipsis;\n",
       "  padding-right: 10px;\n",
       "}\n",
       "\n",
       ".xr-var-name:hover,\n",
       ".xr-var-dims:hover,\n",
       ".xr-var-dtype:hover,\n",
       ".xr-attrs dt:hover {\n",
       "  overflow: visible;\n",
       "  width: auto;\n",
       "  z-index: 1;\n",
       "}\n",
       "\n",
       ".xr-var-attrs,\n",
       ".xr-var-data {\n",
       "  display: none;\n",
       "  background-color: var(--xr-background-color) !important;\n",
       "  padding-bottom: 5px !important;\n",
       "}\n",
       "\n",
       ".xr-var-attrs-in:checked ~ .xr-var-attrs,\n",
       ".xr-var-data-in:checked ~ .xr-var-data {\n",
       "  display: block;\n",
       "}\n",
       "\n",
       ".xr-var-data > table {\n",
       "  float: right;\n",
       "}\n",
       "\n",
       ".xr-var-name span,\n",
       ".xr-var-data,\n",
       ".xr-attrs {\n",
       "  padding-left: 25px !important;\n",
       "}\n",
       "\n",
       ".xr-attrs,\n",
       ".xr-var-attrs,\n",
       ".xr-var-data {\n",
       "  grid-column: 1 / -1;\n",
       "}\n",
       "\n",
       "dl.xr-attrs {\n",
       "  padding: 0;\n",
       "  margin: 0;\n",
       "  display: grid;\n",
       "  grid-template-columns: 125px auto;\n",
       "}\n",
       "\n",
       ".xr-attrs dt,\n",
       ".xr-attrs dd {\n",
       "  padding: 0;\n",
       "  margin: 0;\n",
       "  float: left;\n",
       "  padding-right: 10px;\n",
       "  width: auto;\n",
       "}\n",
       "\n",
       ".xr-attrs dt {\n",
       "  font-weight: normal;\n",
       "  grid-column: 1;\n",
       "}\n",
       "\n",
       ".xr-attrs dt:hover span {\n",
       "  display: inline-block;\n",
       "  background: var(--xr-background-color);\n",
       "  padding-right: 10px;\n",
       "}\n",
       "\n",
       ".xr-attrs dd {\n",
       "  grid-column: 2;\n",
       "  white-space: pre-wrap;\n",
       "  word-break: break-all;\n",
       "}\n",
       "\n",
       ".xr-icon-database,\n",
       ".xr-icon-file-text2 {\n",
       "  display: inline-block;\n",
       "  vertical-align: middle;\n",
       "  width: 1em;\n",
       "  height: 1.5em !important;\n",
       "  stroke-width: 0;\n",
       "  stroke: currentColor;\n",
       "  fill: currentColor;\n",
       "}\n",
       "</style><pre class='xr-text-repr-fallback'>&lt;xarray.Dataset&gt;\n",
       "Dimensions:     (time: 209, nbasins: 1)\n",
       "Coordinates:\n",
       "  * time        (time) datetime64[ns] 1954-01-01 1954-01-02 ... 1954-07-28\n",
       "    basin_name  (nbasins) object &#x27;gr4j-salmon&#x27;\n",
       "Dimensions without coordinates: nbasins\n",
       "Data variables:\n",
       "    precip      (time) float64 nan 0.0 6.664 1.874 0.0 ... 0.0 0.654 20.45 5.887\n",
       "    q_sim       (time, nbasins) float64 0.0 0.1658 0.5594 ... 3.265 7.813 15.26\n",
       "    q_obs       (time, nbasins) float64 nan 5.78 5.66 5.61 ... 19.9 18.9 19.7\n",
       "    q_in        (time, nbasins) float64 nan nan nan nan nan ... nan nan nan nan\n",
       "Attributes:\n",
       "    Conventions:  CF-1.6\n",
       "    featureType:  timeSeries\n",
       "    history:      Created by Raven\n",
       "    description:  Standard Output</pre><div class='xr-wrap' style='display:none'><div class='xr-header'><div class='xr-obj-type'>xarray.Dataset</div></div><ul class='xr-sections'><li class='xr-section-item'><input id='section-aec5f6c3-212f-4482-b29d-0a5c0c6572f9' class='xr-section-summary-in' type='checkbox' disabled ><label for='section-aec5f6c3-212f-4482-b29d-0a5c0c6572f9' class='xr-section-summary'  title='Expand/collapse section'>Dimensions:</label><div class='xr-section-inline-details'><ul class='xr-dim-list'><li><span class='xr-has-index'>time</span>: 209</li><li><span>nbasins</span>: 1</li></ul></div><div class='xr-section-details'></div></li><li class='xr-section-item'><input id='section-57d6d92e-d856-4395-bf2e-f269e6b6909d' class='xr-section-summary-in' type='checkbox'  checked><label for='section-57d6d92e-d856-4395-bf2e-f269e6b6909d' class='xr-section-summary' >Coordinates: <span>(2)</span></label><div class='xr-section-inline-details'></div><div class='xr-section-details'><ul class='xr-var-list'><li class='xr-var-item'><div class='xr-var-name'><span class='xr-has-index'>time</span></div><div class='xr-var-dims'>(time)</div><div class='xr-var-dtype'>datetime64[ns]</div><div class='xr-var-preview xr-preview'>1954-01-01 ... 1954-07-28</div><input id='attrs-84883a29-f106-4119-aab8-7153c5f76fb0' class='xr-var-attrs-in' type='checkbox' ><label for='attrs-84883a29-f106-4119-aab8-7153c5f76fb0' title='Show/Hide attributes'><svg class='icon xr-icon-file-text2'><use xlink:href='#icon-file-text2'></use></svg></label><input id='data-1c2b0bef-74b6-4f4d-a572-8a9a146e4b6e' class='xr-var-data-in' type='checkbox'><label for='data-1c2b0bef-74b6-4f4d-a572-8a9a146e4b6e' title='Show/Hide data repr'><svg class='icon xr-icon-database'><use xlink:href='#icon-database'></use></svg></label><div class='xr-var-attrs'><dl class='xr-attrs'><dt><span>standard_name :</span></dt><dd>time</dd></dl></div><div class='xr-var-data'><pre>array([&#x27;1954-01-01T00:00:00.000000000&#x27;, &#x27;1954-01-02T00:00:00.000000000&#x27;,\n",
       "       &#x27;1954-01-03T00:00:00.000000000&#x27;, ..., &#x27;1954-07-26T00:00:00.000000000&#x27;,\n",
       "       &#x27;1954-07-27T00:00:00.000000000&#x27;, &#x27;1954-07-28T00:00:00.000000000&#x27;],\n",
       "      dtype=&#x27;datetime64[ns]&#x27;)</pre></div></li><li class='xr-var-item'><div class='xr-var-name'><span>basin_name</span></div><div class='xr-var-dims'>(nbasins)</div><div class='xr-var-dtype'>object</div><div class='xr-var-preview xr-preview'>...</div><input id='attrs-fdb386ba-ab3c-4cb8-8836-b685159c76c4' class='xr-var-attrs-in' type='checkbox' ><label for='attrs-fdb386ba-ab3c-4cb8-8836-b685159c76c4' title='Show/Hide attributes'><svg class='icon xr-icon-file-text2'><use xlink:href='#icon-file-text2'></use></svg></label><input id='data-e14af5f2-5e72-4115-9180-6e390022645b' class='xr-var-data-in' type='checkbox'><label for='data-e14af5f2-5e72-4115-9180-6e390022645b' title='Show/Hide data repr'><svg class='icon xr-icon-database'><use xlink:href='#icon-database'></use></svg></label><div class='xr-var-attrs'><dl class='xr-attrs'><dt><span>long_name :</span></dt><dd>Name/ID of sub-basins with simulated outflows</dd><dt><span>cf_role :</span></dt><dd>timeseries_id</dd><dt><span>units :</span></dt><dd>1</dd></dl></div><div class='xr-var-data'><pre>array([&#x27;gr4j-salmon&#x27;], dtype=object)</pre></div></li></ul></div></li><li class='xr-section-item'><input id='section-15aec761-49f8-40ce-ab09-7494a7bb0bc9' class='xr-section-summary-in' type='checkbox'  checked><label for='section-15aec761-49f8-40ce-ab09-7494a7bb0bc9' class='xr-section-summary' >Data variables: <span>(4)</span></label><div class='xr-section-inline-details'></div><div class='xr-section-details'><ul class='xr-var-list'><li class='xr-var-item'><div class='xr-var-name'><span>precip</span></div><div class='xr-var-dims'>(time)</div><div class='xr-var-dtype'>float64</div><div class='xr-var-preview xr-preview'>...</div><input id='attrs-c290fb3e-1e12-4be5-8e49-549784f91d74' class='xr-var-attrs-in' type='checkbox' ><label for='attrs-c290fb3e-1e12-4be5-8e49-549784f91d74' title='Show/Hide attributes'><svg class='icon xr-icon-file-text2'><use xlink:href='#icon-file-text2'></use></svg></label><input id='data-68f2e5e9-c529-4f54-bef4-29a22169aef7' class='xr-var-data-in' type='checkbox'><label for='data-68f2e5e9-c529-4f54-bef4-29a22169aef7' title='Show/Hide data repr'><svg class='icon xr-icon-database'><use xlink:href='#icon-database'></use></svg></label><div class='xr-var-attrs'><dl class='xr-attrs'><dt><span>units :</span></dt><dd>mm d**-1</dd><dt><span>long_name :</span></dt><dd>Precipitation</dd></dl></div><div class='xr-var-data'><pre>array([      nan,  0.      ,  6.664471, ...,  0.654   , 20.447529,  5.886824])</pre></div></li><li class='xr-var-item'><div class='xr-var-name'><span>q_sim</span></div><div class='xr-var-dims'>(time, nbasins)</div><div class='xr-var-dtype'>float64</div><div class='xr-var-preview xr-preview'>...</div><input id='attrs-3970d2d8-3fe7-42ae-b0a5-8d8c12cc72eb' class='xr-var-attrs-in' type='checkbox' ><label for='attrs-3970d2d8-3fe7-42ae-b0a5-8d8c12cc72eb' title='Show/Hide attributes'><svg class='icon xr-icon-file-text2'><use xlink:href='#icon-file-text2'></use></svg></label><input id='data-6f0db98a-862b-4b50-8aea-e88659ed6e83' class='xr-var-data-in' type='checkbox'><label for='data-6f0db98a-862b-4b50-8aea-e88659ed6e83' title='Show/Hide data repr'><svg class='icon xr-icon-database'><use xlink:href='#icon-database'></use></svg></label><div class='xr-var-attrs'><dl class='xr-attrs'><dt><span>units :</span></dt><dd>m**3 s**-1</dd><dt><span>long_name :</span></dt><dd>Simulated outflows</dd></dl></div><div class='xr-var-data'><pre>array([[ 0.      ],\n",
       "       [ 0.165788],\n",
       "       [ 0.559366],\n",
       "       ...,\n",
       "       [ 3.264562],\n",
       "       [ 7.813265],\n",
       "       [15.256882]])</pre></div></li><li class='xr-var-item'><div class='xr-var-name'><span>q_obs</span></div><div class='xr-var-dims'>(time, nbasins)</div><div class='xr-var-dtype'>float64</div><div class='xr-var-preview xr-preview'>...</div><input id='attrs-99693dd7-4462-46e4-b3bb-4f2b26a2aa0e' class='xr-var-attrs-in' type='checkbox' ><label for='attrs-99693dd7-4462-46e4-b3bb-4f2b26a2aa0e' title='Show/Hide attributes'><svg class='icon xr-icon-file-text2'><use xlink:href='#icon-file-text2'></use></svg></label><input id='data-5e397aa1-d756-41ee-a37d-6b2f75819e21' class='xr-var-data-in' type='checkbox'><label for='data-5e397aa1-d756-41ee-a37d-6b2f75819e21' title='Show/Hide data repr'><svg class='icon xr-icon-database'><use xlink:href='#icon-database'></use></svg></label><div class='xr-var-attrs'><dl class='xr-attrs'><dt><span>units :</span></dt><dd>m**3 s**-1</dd><dt><span>long_name :</span></dt><dd>Observed outflows</dd></dl></div><div class='xr-var-data'><pre>array([[  nan],\n",
       "       [ 5.78],\n",
       "       [ 5.66],\n",
       "       ...,\n",
       "       [19.9 ],\n",
       "       [18.9 ],\n",
       "       [19.7 ]])</pre></div></li><li class='xr-var-item'><div class='xr-var-name'><span>q_in</span></div><div class='xr-var-dims'>(time, nbasins)</div><div class='xr-var-dtype'>float64</div><div class='xr-var-preview xr-preview'>...</div><input id='attrs-a432461b-347c-47f2-96a6-60277584e08d' class='xr-var-attrs-in' type='checkbox' ><label for='attrs-a432461b-347c-47f2-96a6-60277584e08d' title='Show/Hide attributes'><svg class='icon xr-icon-file-text2'><use xlink:href='#icon-file-text2'></use></svg></label><input id='data-02dde3bd-a9af-49ee-9a6d-bb584999e7e8' class='xr-var-data-in' type='checkbox'><label for='data-02dde3bd-a9af-49ee-9a6d-bb584999e7e8' title='Show/Hide data repr'><svg class='icon xr-icon-database'><use xlink:href='#icon-database'></use></svg></label><div class='xr-var-attrs'><dl class='xr-attrs'><dt><span>units :</span></dt><dd>m**3 s**-1</dd><dt><span>long_name :</span></dt><dd>Observed inflows</dd></dl></div><div class='xr-var-data'><pre>array([[nan],\n",
       "       [nan],\n",
       "       [nan],\n",
       "       ...,\n",
       "       [nan],\n",
       "       [nan],\n",
       "       [nan]])</pre></div></li></ul></div></li><li class='xr-section-item'><input id='section-2d604cc0-def4-42ae-a974-8fd870dc8d07' class='xr-section-summary-in' type='checkbox'  checked><label for='section-2d604cc0-def4-42ae-a974-8fd870dc8d07' class='xr-section-summary' >Attributes: <span>(4)</span></label><div class='xr-section-inline-details'></div><div class='xr-section-details'><dl class='xr-attrs'><dt><span>Conventions :</span></dt><dd>CF-1.6</dd><dt><span>featureType :</span></dt><dd>timeSeries</dd><dt><span>history :</span></dt><dd>Created by Raven</dd><dt><span>description :</span></dt><dd>Standard Output</dd></dl></div></li></ul></div></div>"
      ],
      "text/plain": [
       "<xarray.Dataset>\n",
       "Dimensions:     (time: 209, nbasins: 1)\n",
       "Coordinates:\n",
       "  * time        (time) datetime64[ns] 1954-01-01 1954-01-02 ... 1954-07-28\n",
       "    basin_name  (nbasins) object ...\n",
       "Dimensions without coordinates: nbasins\n",
       "Data variables:\n",
       "    precip      (time) float64 ...\n",
       "    q_sim       (time, nbasins) float64 ...\n",
       "    q_obs       (time, nbasins) float64 ...\n",
       "    q_in        (time, nbasins) float64 ...\n",
       "Attributes:\n",
       "    Conventions:  CF-1.6\n",
       "    featureType:  timeSeries\n",
       "    history:      Created by Raven\n",
       "    description:  Standard Output"
      ]
     },
     "execution_count": 7,
     "metadata": {},
     "output_type": "execute_result"
    }
   ],
   "source": [
    "model.hydrograph"
   ]
  },
  {
   "cell_type": "markdown",
   "metadata": {},
   "source": [
    "We can visualize the simulated streamflow using xarray's built-in plotting tool, as follows:"
   ]
  },
  {
   "cell_type": "code",
   "execution_count": 8,
   "metadata": {},
   "outputs": [
    {
     "data": {
      "text/plain": [
       "[<matplotlib.lines.Line2D at 0x7f2f6147ae50>]"
      ]
     },
     "execution_count": 8,
     "metadata": {},
     "output_type": "execute_result"
    },
    {
     "data": {
      "image/png": "[encoded data removed]",
      "text/plain": [
       "<Figure size 432x288 with 1 Axes>"
      ]
     },
     "metadata": {
      "needs_background": "light"
     },
     "output_type": "display_data"
    }
   ],
   "source": [
    "model.q_sim.plot()"
   ]
  },
  {
   "cell_type": "markdown",
   "metadata": {},
   "source": [
    "Note that we could also extract much more data from the model, including state variables as in the previous notebook. However, we can now access a supplementary variable in the model outputs:"
   ]
  },
  {
   "cell_type": "code",
   "execution_count": 9,
   "metadata": {},
   "outputs": [
    {
     "data": {
      "text/plain": [
       "{'hydrograph': PosixPath('/tmp/tmpw2u_c2_t/exec/model/p00/output/Hydrographs.nc'),\n",
       " 'storage': PosixPath('/tmp/tmpw2u_c2_t/exec/model/p00/output/WatershedStorage.nc'),\n",
       " 'solution': PosixPath('/tmp/tmpw2u_c2_t/exec/model/p00/output/solution.rvc'),\n",
       " 'diagnostics': PosixPath('/tmp/tmpw2u_c2_t/exec/model/p00/output/Diagnostics.csv'),\n",
       " 'rv_config': PosixPath('/tmp/tmpw2u_c2_t/final/rv.zip')}"
      ]
     },
     "execution_count": 9,
     "metadata": {},
     "output_type": "execute_result"
    }
   ],
   "source": [
    "# Display model output choices\n",
    "model.outputs"
   ]
  },
  {
   "cell_type": "markdown",
   "metadata": {},
   "source": [
    "We can see that we now have access to diagnostics! This is because along with the simulated discharge, the model has access to observed discharge to compute error metrics such as RMSE and NSE. Let's see where the file has been generated:"
   ]
  },
  {
   "cell_type": "code",
   "execution_count": 10,
   "metadata": {},
   "outputs": [
    {
     "name": "stdout",
     "output_type": "stream",
     "text": [
      "/tmp/tmpw2u_c2_t/exec/model/p00/output/Diagnostics.csv\n"
     ]
    }
   ],
   "source": [
    "print(model.outputs['diagnostics'])"
   ]
  },
  {
   "cell_type": "markdown",
   "metadata": {},
   "source": [
    "You can see that the path is a temporary one, because our configuration file did not specify a location where to save files. Therefore we will access only the contents of the diagnostics for now:"
   ]
  },
  {
   "cell_type": "code",
   "execution_count": 11,
   "metadata": {},
   "outputs": [
    {
     "name": "stdout",
     "output_type": "stream",
     "text": [
      "-----------------DIAGNOSTICS-----------------\n",
      "defaultdict(<class 'list'>, {'observed data series': ['HYDROGRAPH_ALL'], 'filename': ['Salmon-River-Near-Prince-George_meteo_daily.nc'], 'DIAG_NASH_SUTCLIFFE': [-0.314444], 'DIAG_RMSE': [59.4022]})\n",
      "\n"
     ]
    }
   ],
   "source": [
    "print(\"-----------------DIAGNOSTICS-----------------\")\n",
    "print(model.diagnostics)\n",
    "print(\"\")"
   ]
  },
  {
   "cell_type": "markdown",
   "metadata": {},
   "source": [
    "We can see that the Nash-Sutcliffe value is quite poor. This is due to the short simulation period in the configuration (see the hydrograph above!) and the lack of a spin-up period, combined to a poor parameter set choice. We will improve upon all of these shortcomings in the next notebook!"
   ]
  },
  {
   "cell_type": "markdown",
   "metadata": {},
   "source": [
    "## Advanced RavenPy configuration options\n",
    "\n",
    "Raven can perform many operations and has multiple configuration options. Here we provide a list of configuration options to explore which you can eventually use to taylor the codes to your own specifications.\n",
    "\n",
    "We will give an overview of the various configuration keywords after this code block, but users should read the Raven documentation for more options for each of these processes.\n"
   ]
  },
  {
   "cell_type": "code",
   "execution_count": 12,
   "metadata": {},
   "outputs": [
    {
     "name": "stderr",
     "output_type": "stream",
     "text": [
      "/opt/conda/envs/birdy/lib/python3.8/site-packages/ravenpy/models/base.py:434: RavenWarning: Initial conditions specified for state variable not in model (DEPRESSION)\n",
      "  warn(msg, category=RavenWarning)\n"
     ]
    }
   ],
   "source": [
    "# Import the list of possible model templates. \n",
    "from ravenpy.models import GR4JCN\n",
    "import datetime as dt\n",
    "\n",
    "# Generate a GR4JCN-configured Raven model instance. \n",
    "model = GR4JCN(workdir='/notebook_dir/writable-workspace/run_results')\n",
    "\n",
    "# Generate a list of forcing data files.\n",
    "forcing = ('ERA5_tmax.nc', 'ERA5_tmin.nc', 'ERA5_pr.nc')\n",
    "\n",
    "# Get start and end dates\n",
    "start_date = dt.datetime(1985, 1, 1)\n",
    "end_date = dt.datetime(1990, 1, 1)\n",
    "\n",
    "# Set parameters\n",
    "params = (3.9, 1.396, 200.29, 10.072, 16.9, 0.947)\n",
    "\n",
    "\n",
    "# Define the hydrological response unit. \n",
    "hru = GR4JCN.LandHRU(area = 4250.6,\n",
    "                     elevation = 843.0,\n",
    "                     latitude = 54.4848,\n",
    "                     longitude = -123.3659)\n",
    "\n",
    "# Run the model by passing the configuration variables we just established.\n",
    "model(\n",
    "    ts=forcing,\n",
    "    start_date=start_date,\n",
    "    end_date=end_date,\n",
    "    hrus=(hru,), # Careful how this must be passed! This is due to the capability of running in distributed mode as well.\n",
    "    params=params,\n",
    "    run_name=\"test_basin\", # OPTIONAL: You can give your run a specific name to identify the results more easily. Files will contain the run_name as a prefix.\n",
    "    overwrite=True, # OPTIONAL: We can do this to overwrite old files with the new ones generated in this run (output files, etc.)\n",
    "    \n",
    "    # NEW CONFIG OPTIONS\n",
    "    tasmax={\"scale\": 0.0, \"offset\": 1.0}, # Transforms that are 2-parameters of a linear equation ax + b, so temperature uses a=1.0 and b = -273.15 to bring K to degC.\n",
    "    tasmin={\"scale\": 0.0, \"offset\": 1.0}, # Transforms that are 2-parameters of a linear equation ax + b, so temperature uses a=1.0 and b = -273.15 to bring K to degC.\n",
    "    pr={\"scale\": 1.1}, # Transforms that are 2-parameters of a linear equation ax + b, so temperature uses a=86400 and b = 0 to bring mm/s to mm/d.\n",
    "    rain_snow_fraction = \"RAINSNOW_DINGMAN\",\n",
    "    evaporation=\"PET_OUDIN\",\n",
    "    ow_evaporation=\"PET_OUDIN\",\n",
    "    nc_index=0, # Index of the catchment if your NetCDF has multiple basins.\n",
    "    suppress_output=True,\n",
    ")\n",
    "    "
   ]
  },
  {
   "cell_type": "markdown",
   "metadata": {},
   "source": [
    "We can see that we have added some configuration keywords in the above code block when calling the model. Here is an overview of what each configuration variable represents:\n",
    "\n",
    "- tasmax, tasmin, pr: For each input variable, we can add a multiplier or an additive constant (or both!) to convert units on the fly. The syntax is:\n",
    "    tasmin={\"scale\":VALUE, \"offset\":VALUE}. The scale is a multiplicative value and the offset is the additive value. They are applied using the equation **Y=scale\\ * X + offset**, so if scale is set  to 1 and the offset is set to 0, there will be no change. This can be useful to convert Kelvin temperatures to degrees Celsius (\"offset\" = -273.15) or meters of precipitation to millimeters (\"scale\" = 1000). In this case, we are using data already in °C and in mm, so we don't actually want to apply large changes. But just to show the capabilities, we applied a small 1°C offset and a 1.1 scaling factor for precipitaion (i.e. adding 10%).\n",
    "    \n",
    "- rain_snow_fraction: Algorithm to use to separate the total precipitation into rainfall and snowfall. See Raven documentation for more options.\n",
    "- evaporation: Formula to use to compute the evapotranspiration from the land HRUs.\n",
    "- ow_evaporation: Formula to use to compute the open-water evapotranspiration from the lake HRUs.\n",
    "- nc_index: If you have a netcdf file that contains data for multiple catchments, you can use this indicator to tell Raven which of the basins you wish to run. In this case, we only have one basin, so the basin position is the 0th in Python.\n",
    "- suppress_output: Boolean that indicates if you wish for Raven to provide information after the model evaluation by writing to file. For a single run this can be left to **False**, but for calibration and other intensive tasks, it is faster to leave it to **True**.\n"
   ]
  }
 ],
 "metadata": {
  "kernelspec": {
   "display_name": "Python 3 (ipykernel)",
   "language": "python",
   "name": "python3"
  },
  "language_info": {
   "codemirror_mode": {
    "name": "ipython",
    "version": 3
   },
   "file_extension": ".py",
   "mimetype": "text/x-python",
   "name": "python",
   "nbconvert_exporter": "python",
   "pygments_lexer": "ipython3",
   "version": "3.8.13"
  }
 },
 "nbformat": 4,
 "nbformat_minor": 4
}
