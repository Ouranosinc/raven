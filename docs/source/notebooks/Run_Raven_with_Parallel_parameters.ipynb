{
 "cells": [
  {
   "cell_type": "markdown",
   "metadata": {},
   "source": [
    "# Running a multi-member hydrological ensemble on the Raven Server\n",
    "\n",
    "Here we use birdy's WPS client to launch the GR4JCN and HMETS hydrological models on the server and analyze the outputs. "
   ]
  },
  {
   "cell_type": "code",
   "execution_count": 1,
   "metadata": {},
   "outputs": [],
   "source": [
    "from birdy import WPSClient\n",
    "\n",
    "from example_data import TESTDATA\n",
    "import datetime as dt\n",
    "from urllib.request import urlretrieve\n",
    "import xarray as xr\n",
    "import numpy as np\n",
    "from matplotlib import pyplot as plt\n",
    "\n",
    "url = \"http://localhost:9099/wps\"\n",
    "wps = WPSClient(url)"
   ]
  },
  {
   "cell_type": "code",
   "execution_count": 17,
   "metadata": {
    "scrolled": true
   },
   "outputs": [],
   "source": [
    "# The model parameters for gr4jcn and hmets. Can either be a string of comma separated values, a list, an array or a named tuple. \n",
    "gr4jcn1 ='0.529, -3.396, 407.29, 1.072, 16.9, 0.947'\n",
    "gr4jcn2 ='0.4, -3.96, 307.29, 1.072, 16.9, 0.947'\n",
    "\n",
    "params = [gr4jcn1,gr4jcn2] # Rich Test 1\n",
    "\n",
    "\n",
    "\n",
    "# Forcing files. Raven uses the same forcing files for all and extracts the information it requires for each model.\n",
    "ts=TESTDATA['raven-gr4j-cemaneige-nc-ts']\n",
    "\n",
    "# Model configuration parameters.\n",
    "config = dict(\n",
    "    start_date=dt.datetime(2000, 1, 1),\n",
    "    end_date=dt.datetime(2002, 1, 1),\n",
    "    area=4250.6,\n",
    "    elevation=843.0,\n",
    "    latitude=54.4848,\n",
    "    longitude=-123.3659,\n",
    "    )\n",
    "\n",
    "# Launch the WPS to get the multi-model results.  Note the \"gr4jcn\" and \"hmets\" keys.\n",
    "resp=wps.raven_gr4j_cemaneige(ts=str(ts),params=params, **config) \n",
    "\n",
    "\n"
   ]
  },
  {
   "cell_type": "code",
   "execution_count": 18,
   "metadata": {},
   "outputs": [],
   "source": [
    "# And get the response\n",
    "# With `asobj` set to False, only the reference to the output is returned in the response. \n",
    "# Setting `asobj` to True does nt work here as the outputs are zipped files and could be numerous.\n",
    "# The user can download the resulting data. So we use asobj=False\n",
    "[hydrograph, storage, solution, diagnostics] = resp.get(asobj=False)\n"
   ]
  },
  {
   "cell_type": "markdown",
   "metadata": {},
   "source": [
    "# Here the code crashes on my instance with Errno:\n",
    "[Errno -51] NetCDF: Unknown file format: b'/tmp/tmp77v34gl4'\n",
    "\n",
    "Perhaps the NetCDF reader is not working well? Xarray should be installed. Need to verify please."
   ]
  },
  {
   "cell_type": "code",
   "execution_count": 22,
   "metadata": {},
   "outputs": [
    {
     "name": "stdout",
     "output_type": "stream",
     "text": [
      "http://localhost:9099/outputs/8323a802-9448-11e9-8b59-b8ca3a8f5177/Hydrographs.nc\n",
      "http://localhost:9099/outputs/8323a802-9448-11e9-8b59-b8ca3a8f5177/Diagnostics.zip\n"
     ]
    }
   ],
   "source": [
    "print(hydrograph)\n",
    "print(diagnostics)"
   ]
  },
  {
   "cell_type": "markdown",
   "metadata": {},
   "source": [
    "The `hydrograph` and `diagnostics` files can be downloaded by clicking the above links. hydrographs is a netcdf file containing the multiple simulations, and diagnostics is a zip-file containing the various diagnostics files linked to each parameter set."
   ]
  }
 ],
 "metadata": {
  "kernelspec": {
   "display_name": "Python 3",
   "language": "python",
   "name": "python3"
  },
  "language_info": {
   "codemirror_mode": {
    "name": "ipython",
    "version": 3
   },
   "file_extension": ".py",
   "mimetype": "text/x-python",
   "name": "python",
   "nbconvert_exporter": "python",
   "pygments_lexer": "ipython3",
   "version": "3.7.1"
  }
 },
 "nbformat": 4,
 "nbformat_minor": 1
}
