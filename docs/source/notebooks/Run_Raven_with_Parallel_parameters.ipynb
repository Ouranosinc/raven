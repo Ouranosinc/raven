{
 "cells": [
  {
   "cell_type": "markdown",
   "metadata": {},
   "source": [
    "# Running a multi-member hydrological ensemble on the Raven Server\n",
    "\n",
    "Here we use birdy's WPS client to launch the GR4JCN and HMETS hydrological models on the server and analyze the outputs. "
   ]
  },
  {
   "cell_type": "code",
   "execution_count": 1,
   "metadata": {},
   "outputs": [],
   "source": [
    "from birdy import WPSClient\n",
    "\n",
    "from example_data import TESTDATA\n",
    "import datetime as dt\n",
    "from urllib.request import urlretrieve\n",
    "import xarray as xr\n",
    "import numpy as np\n",
    "from matplotlib import pyplot as plt\n",
    "\n",
    "url = \"http://localhost:9099/wps\"\n",
    "wps = WPSClient(url)"
   ]
  },
  {
   "cell_type": "code",
   "execution_count": 2,
   "metadata": {
    "scrolled": true
   },
   "outputs": [],
   "source": [
    "# The model parameters for gr4jcn and hmets. Can either be a string of comma separated values, a list, an array or a named tuple. \n",
    "gr4jcn1 ='0.529, -3.396, 407.29, 1.072, 16.9, 0.947'\n",
    "gr4jcn2 ='0.4, -3.96, 307.29, 1.072, 16.9, 0.947'\n",
    "\n",
    "params = [gr4jcn1,gr4jcn2] # Rich Test 1\n",
    "\n",
    "\n",
    "\n",
    "# Forcing files. Raven uses the same forcing files for all and extracts the information it requires for each model.\n",
    "ts=TESTDATA['raven-gr4j-cemaneige-nc-ts']\n",
    "\n",
    "# Model configuration parameters.\n",
    "config = dict(\n",
    "    start_date=dt.datetime(2000, 1, 1),\n",
    "    end_date=dt.datetime(2002, 1, 1),\n",
    "    area=4250.6,\n",
    "    elevation=843.0,\n",
    "    latitude=54.4848,\n",
    "    longitude=-123.3659,\n",
    "    )\n",
    "\n",
    "# Launch the WPS to get the multi-model results.  Note the \"gr4jcn\" and \"hmets\" keys.\n",
    "resp=wps.raven_gr4j_cemaneige(ts=str(ts),params=params, **config) \n",
    "\n",
    "\n"
   ]
  },
  {
   "cell_type": "code",
   "execution_count": 3,
   "metadata": {},
   "outputs": [
    {
     "name": "stderr",
     "output_type": "stream",
     "text": [
      "/home/david/src/birdy/birdy/client/converters.py:294: UserWarning: No converter was found for /tmp/tmpx88te0jk/raven-gr4j-cemaneige-sim-0_solution.rvc\n",
      "  warnings.warn(UserWarning(\"No converter was found for {}\".format(output)))\n",
      "/home/david/src/birdy/birdy/client/converters.py:294: UserWarning: No converter was found for /tmp/tmpx88te0jk/raven-gr4j-cemaneige-sim-1_solution.rvc\n",
      "  warnings.warn(UserWarning(\"No converter was found for {}\".format(output)))\n"
     ]
    }
   ],
   "source": [
    "# And get the response\n",
    "# With `asobj` set to False, only the reference to the output is returned in the response. \n",
    "# Setting `asobj` to True does nt work here as the outputs are zipped files and could be numerous.\n",
    "# The user can download the resulting data. So we use asobj=False\n",
    "[hydrograph, storage, solution, diagnostics] = resp.get(asobj=True)\n"
   ]
  },
  {
   "cell_type": "code",
   "execution_count": 4,
   "metadata": {},
   "outputs": [
    {
     "name": "stdout",
     "output_type": "stream",
     "text": [
      "<xarray.Dataset>\n",
      "Dimensions:     (nbasins: 1, params: 2, time: 732)\n",
      "Coordinates:\n",
      "  * time        (time) datetime64[ns] 2000-01-01 2000-01-02 ... 2002-01-01\n",
      "    basin_name  (nbasins) object ...\n",
      "Dimensions without coordinates: nbasins, params\n",
      "Data variables:\n",
      "    precip      (time) float64 ...\n",
      "    q_obs       (time, nbasins) float64 ...\n",
      "    q_in        (time, nbasins) float64 ...\n",
      "    q_sim       (params, time, nbasins) float64 ...\n",
      "Attributes:\n",
      "    Conventions:          CF-1.6\n",
      "    featureType:          timeSeries\n",
      "    history:              Created on 2019-06-21 14:00:20 by Raven\n",
      "    description:          Standard Output\n",
      "    title:                Simulated river discharge\n",
      "    references:           Craig J.R. and the Raven Development Team Raven use...\n",
      "    comment:              Raven Hydrological Framework version 2.9 rev#177\n",
      "    model_id:             gr4jcn\n",
      "    time_frequency:       day\n",
      "    time_coverage_start:  2000-01-01 00:00:00\n",
      "    time_coverage_end:    2002-01-01 00:00:00\n",
      "['observed data series,filename,DIAG_NASH_SUTCLIFFE,DIAG_RMSE,\\nHYDROGRAPH,/tmp/pywps_process_bd8ly071/Salmon-River-Near-Prince-George_meteo_daily.nc,-0.0371048,36.562,\\n', 'observed data series,filename,DIAG_NASH_SUTCLIFFE,DIAG_RMSE,\\nHYDROGRAPH,/tmp/pywps_process_bd8ly071/Salmon-River-Near-Prince-George_meteo_daily.nc,0.0198906,35.5431,\\n']\n"
     ]
    }
   ],
   "source": [
    "print(hydrograph)\n",
    "print(diagnostics)"
   ]
  },
  {
   "cell_type": "markdown",
   "metadata": {},
   "source": [
    "The `hydrograph` and `diagnostics` files can be downloaded by clicking the above links. hydrographs is a netcdf file containing the multiple simulations, and diagnostics is a zip-file containing the various diagnostics files linked to each parameter set."
   ]
  }
 ],
 "metadata": {
  "kernelspec": {
   "display_name": "Python 3",
   "language": "python",
   "name": "python3"
  },
  "language_info": {
   "codemirror_mode": {
    "name": "ipython",
    "version": 3
   },
   "file_extension": ".py",
   "mimetype": "text/x-python",
   "name": "python",
   "nbconvert_exporter": "python",
   "pygments_lexer": "ipython3",
   "version": "3.6.3"
  }
 },
 "nbformat": 4,
 "nbformat_minor": 1
}
