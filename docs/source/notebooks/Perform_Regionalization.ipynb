{
 "cells": [
  {
   "cell_type": "markdown",
   "metadata": {},
   "source": [
    "# Calling HMETS on the Raven server\n",
    "\n",
    "Here we use birdy's WPS client to launch the HMETS hydrological model on the server and analyze the output. "
   ]
  },
  {
   "cell_type": "code",
   "execution_count": 59,
   "metadata": {},
   "outputs": [],
   "source": [
    "from birdy import WPSClient\n",
    "\n",
    "from example_data import TESTDATA\n",
    "import datetime as dt\n",
    "from urllib.request import urlretrieve\n",
    "import xarray as xr\n",
    "import numpy as np\n",
    "from matplotlib import pyplot as plt\n",
    "import json\n",
    "\n",
    "url = \"http://localhost:9099/wps\"\n",
    "wps = WPSClient(url,progress=True)"
   ]
  },
  {
   "cell_type": "code",
   "execution_count": 60,
   "metadata": {},
   "outputs": [
    {
     "name": "stdout",
     "output_type": "stream",
     "text": [
      "Help on method regionalisation in module birdy.client.base:\n",
      "\n",
      "regionalisation(ts, properties, latitude, longitude, model_name=None, elevation=None, start_date=datetime.datetime(1, 1, 1, 0, 0), end_date=datetime.datetime(1, 1, 1, 0, 0), ndonors=5, min_nse=0.6, method='SP_IDW', area=None) method of birdy.client.base.WPSClient instance\n",
      "    Compute the hydrograph for an ungauged catchment using a regionalization method.\n",
      "    \n",
      "    Parameters\n",
      "    ----------\n",
      "    ts : ComplexData:mimetype:`application/x-netcdf`, :mimetype:`text/plain`, :mimetype:`application/x-zipped-shp`\n",
      "        Files (text or netCDF) storingdaily liquid precipitation (pr), solid precipitation (prsn), minimum temperature (tasmin), maximum temperature (tasmax), potential evapotranspiration (evspsbl) and observed streamflow (qobs [m3/s]).\n",
      "    start_date : //www.w3.org/TR/xmlschema-2/#dateTime\n",
      "        Start date of the simulation (AAAA-MM-DD). Defaults to the start of the forcing file.\n",
      "    end_date : //www.w3.org/TR/xmlschema-2/#dateTime\n",
      "        End date of the simulation (AAAA-MM-DD). Defaults to the end of the forcing file.\n",
      "    latitude : //www.w3.org/TR/xmlschema-2/#float\n",
      "        Watershed's centroid latitude\n",
      "    longitude : //www.w3.org/TR/xmlschema-2/#float\n",
      "        Watershed's centroid longitude\n",
      "    model_name : {'HMETS', 'GR4JCN', 'MOHYSE'}//www.w3.org/TR/xmlschema-2/#string\n",
      "        Hydrological model identifier: {HMETS, GR4JCN, MOHYSE}\n",
      "    ndonors : //www.w3.org/TR/xmlschema-2/#integer\n",
      "        Number of close or similar catchments to use to generate the representative hydrograph at the ungauged site.\n",
      "    min_nse : //www.w3.org/TR/xmlschema-2/#float\n",
      "        Minimum calibration NSE value required to be considered in the regionalization.\n",
      "    method : {'MLR', 'SP', 'PS', 'SP_IDW', 'PS_IDW', 'SP_IDW_RA', 'PS_IDW_RA'}//www.w3.org/TR/xmlschema-2/#string\n",
      "        Regionalisation method to use, one of MLR, SP, PS, SP_IDW,\n",
      "        PS_IDW, SP_IDW_RA, PS_IDW_RA.\n",
      "        \n",
      "        The available regionalization methods are:\n",
      "    \n",
      "            Multiple linear regression (MLR)\n",
      "                Ungauged catchment parameters are estimated individually by a linear regression\n",
      "                against catchment properties.\n",
      "    \n",
      "            Spatial proximity (SP)\n",
      "                The ungauged hydrograph is an average of the `n` closest catchments' hydrographs.\n",
      "    \n",
      "            Physical similarity (PS)\n",
      "                The ungauged hydrograph is an average of the `n` most similar catchments' hydrographs.\n",
      "    \n",
      "            Spatial proximity with inverse distance weighting (SP_IDW)\n",
      "                The ungauged hydrograph is an average of the `n` closest catchments' hydrographs, but\n",
      "                the average is weighted using inverse distance weighting\n",
      "    \n",
      "            Physical similarity with inverse distance weighting (PS_IDW)\n",
      "                The ungauged hydrograph is an average of the `n` most similar catchments' hydrographs, but\n",
      "                the average is weighted using inverse distance weighting\n",
      "    \n",
      "            Spatial proximity with IDW and regression-based augmentation (SP_IDW_RA)\n",
      "                The ungauged hydrograph is an average of the `n` closest catchments' hydrographs, but\n",
      "                the average is weighted using inverse distance weighting. Furthermore, the method uses the CANOPEX/USGS\n",
      "                dataset to estimate model parameters using Multiple Linear Regression. Parameters whose regression r-squared\n",
      "                is higher than 0.5 are replaced by the MLR-estimated value.\n",
      "    \n",
      "            Physical Similarity with IDW and regression-based augmentation (PS_IDW_RA)\n",
      "                The ungauged hydrograph is an average of the `n` most similar catchments' hydrographs, but\n",
      "                the average is weighted using inverse distance weighting. Furthermore, the method uses the CANOPEX/USGS\n",
      "                dataset to estimate model parameters using Multiple Linear Regression. Parameters whose regression r-squared\n",
      "                is higher than 0.5 are replaced by the MLR-estimated value.\n",
      "    properties : ComplexData:mimetype:`application/json`\n",
      "        json string storing dictionary of properties. The available properties are: area (km2), longitude (dec.degrees), latitude (dec. degrees), gravelius, perimeter (m), elevation (m), slope(%), aspect, forest (%), grass (%), wetland (%), water (%), urban (%), shrubs (%), crops (%) and snowIce (%).\n",
      "    area : //www.w3.org/TR/xmlschema-2/#float\n",
      "        Watershed area (km2)\n",
      "    elevation : //www.w3.org/TR/xmlschema-2/#float\n",
      "        Watershed's mean elevation (m)\n",
      "    \n",
      "    Returns\n",
      "    -------\n",
      "    hydrograph : ComplexData:mimetype:`application/x-netcdf`, :mimetype:`application/zip`\n",
      "        A netCDF file containing the outflow hydrographs (in m3/s) for all subbasins specified as `gauged` in the .rvh file. It reports period-ending time-averaged flows for the preceding time step, as is consistent with most measured stream gauge data (again, the initial flow conditions at the start of the first time step are included). If observed hydrographs are specified, they will be output adjacent to the corresponding modelled  hydrograph.\n",
      "    ensemble : ComplexData:mimetype:`application/x-netcdf`\n",
      "        A netCDF file containing the outflow hydrographs (in m3/s) for the basin on which the regionalization method has been applied. The number of outflow hydrographs is equal to the number of donors (ndonors) passed to the method. The average of these hydrographs (either using equal or Inverse-Distance Weights) is the hydrograph generated in \"hydrograph\".\n",
      "\n"
     ]
    }
   ],
   "source": [
    "# Get the documentation for the method's usage:\n",
    "help(wps.regionalisation)"
   ]
  },
  {
   "cell_type": "code",
   "execution_count": 61,
   "metadata": {},
   "outputs": [
    {
     "data": {
      "application/vnd.jupyter.widget-view+json": {
       "model_id": "da9da0fe78654aa199fe68c657d3bb8c",
       "version_major": 2,
       "version_minor": 0
      },
      "text/plain": [
       "HBox(children=(IntProgress(value=0, bar_style='info', description='Processing:'), Button(button_style='danger'…"
      ]
     },
     "metadata": {},
     "output_type": "display_data"
    }
   ],
   "source": [
    "# Forcing files. This file should only contain weather data (tmin, tmax, rain, snow, pet (if desired), etc. \n",
    "# No streamflow is required. This is a link to a string, but you can submit a string to your netcdf file directly.\n",
    "ts = str(TESTDATA['raven-hmets-nc-ts'])\n",
    "\n",
    "# Model configuration parameters\n",
    "config = dict(\n",
    "    start_date=dt.datetime(2000, 1, 1),\n",
    "    end_date=dt.datetime(2002, 1, 1),\n",
    "    area=4250.6,\n",
    "    elevation=843.0,\n",
    "    latitude=54.4848,\n",
    "    longitude=-123.3659,\n",
    "    method='PS', # One of the methods described above\n",
    "    model_name='HMETS', # One of the two models are allowed: HMETS and GR4JCN\n",
    "    min_nse=0.7, # Minimumcalibration NSE required to be considered a donor (for selecting good donor catchments)\n",
    "    ndonors=5, # Number of donors we want to use. Usually between 4 and 8 is a robust number.\n",
    "    properties=json.dumps({'latitude':54.4848, 'longitude':-123.3659, 'forest':0.4}),\n",
    "    )\n",
    "\n",
    "# Let's call the model with the timeseries, model parameters and other configuration parameters\n",
    "resp = wps.regionalisation(ts=ts, **config)\n",
    "\n",
    "# MUST PRESS ENTER IN TERMINAL RUNNING RAVEN SERVER FOR CODE TO FINISH AND RETURN CONTROL!!!"
   ]
  },
  {
   "cell_type": "code",
   "execution_count": 62,
   "metadata": {},
   "outputs": [],
   "source": [
    "\n",
    "# And get the response\n",
    "# With `asobj` set to False, only the reference to the output is returned in the response. \n",
    "# Setting `asobj` to True will retrieve the actual files and copy the locally. \n",
    "[hydrograph, ensemble] = resp.get(asobj=True)"
   ]
  },
  {
   "cell_type": "markdown",
   "metadata": {},
   "source": [
    "The `hydrograph` and `ensemble` outputs are netCDF files storing the time series. These files are opened by default using `xarray`, which provides convenient and powerful time series analysis and plotting tools. "
   ]
  },
  {
   "cell_type": "code",
   "execution_count": 63,
   "metadata": {},
   "outputs": [
    {
     "data": {
      "text/plain": [
       "<xarray.DataArray 'q_sim' (time: 732, nbasins: 1)>\n",
       "array([[  0.      ],\n",
       "       [214.946219],\n",
       "       [421.947247],\n",
       "       ...,\n",
       "       [ 32.548253],\n",
       "       [ 31.946426],\n",
       "       [ 31.368655]])\n",
       "Coordinates:\n",
       "  * time        (time) datetime64[ns] 2000-01-01 2000-01-02 ... 2002-01-01\n",
       "    basin_name  (nbasins) object ...\n",
       "Dimensions without coordinates: nbasins\n",
       "Attributes:\n",
       "    units:      m**3 s**-1\n",
       "    long_name:  Simulated outflows"
      ]
     },
     "execution_count": 63,
     "metadata": {},
     "output_type": "execute_result"
    }
   ],
   "source": [
    "hydrograph.q_sim"
   ]
  },
  {
   "cell_type": "code",
   "execution_count": 64,
   "metadata": {},
   "outputs": [
    {
     "data": {
      "text/plain": [
       "[<matplotlib.lines.Line2D at 0x7f00043dd4e0>]"
      ]
     },
     "execution_count": 64,
     "metadata": {},
     "output_type": "execute_result"
    },
    {
     "data": {
      "image/png": "[encoded data removed]",
      "text/plain": [
       "<Figure size 432x288 with 1 Axes>"
      ]
     },
     "metadata": {
      "needs_background": "light"
     },
     "output_type": "display_data"
    }
   ],
   "source": [
    "hydrograph.q_sim.plot()"
   ]
  },
  {
   "cell_type": "code",
   "execution_count": 44,
   "metadata": {},
   "outputs": [
    {
     "name": "stdout",
     "output_type": "stream",
     "text": [
      "Max:  <xarray.DataArray 'q_sim' ()>\n",
      "array(421.947247)\n",
      "Mean:  <xarray.DataArray 'q_sim' ()>\n",
      "array(117.683712)\n",
      "Monthly means:  <xarray.DataArray 'q_sim' (month: 12)>\n",
      "array([159.124617,  92.227572, 116.875393, 131.507106, 105.840308, 119.197397,\n",
      "       139.983849, 134.138526, 128.881682, 109.17058 , 114.484513,  58.80445 ])\n",
      "Coordinates:\n",
      "  * month    (month) int64 1 2 3 4 5 6 7 8 9 10 11 12\n"
     ]
    },
    {
     "name": "stderr",
     "output_type": "stream",
     "text": [
      "/home/ets/miniconda3/lib/python3.7/site-packages/xarray/core/groupby.py:639: FutureWarning: Default reduction dimension will be changed to the grouped dimension in a future version of xarray. To silence this warning, pass dim=xarray.ALL_DIMS explicitly.\n",
      "  skipna=skipna, allow_lazy=True, **kwargs)\n"
     ]
    }
   ],
   "source": [
    "print(\"Max: \", hydrograph.q_sim.max())\n",
    "print(\"Mean: \", hydrograph.q_sim.mean())\n",
    "print(\"Monthly means: \", hydrograph.q_sim.groupby('time.month').mean())"
   ]
  },
  {
   "cell_type": "markdown",
   "metadata": {},
   "source": [
    "### Now we can also see the results coming from the 5 donors using the 'ensemble' variable"
   ]
  },
  {
   "cell_type": "code",
   "execution_count": 48,
   "metadata": {},
   "outputs": [
    {
     "data": {
      "text/plain": [
       "<matplotlib.collections.QuadMesh at 0x7f0008c790f0>"
      ]
     },
     "execution_count": 48,
     "metadata": {},
     "output_type": "execute_result"
    },
    {
     "data": {
      "image/png": "[encoded data removed]",
      "text/plain": [
       "<Figure size 432x288 with 2 Axes>"
      ]
     },
     "metadata": {
      "needs_background": "light"
     },
     "output_type": "display_data"
    }
   ],
   "source": [
    "# Not doing exactly as I had hoped...\n",
    "ensemble.q_sim[:].plot()"
   ]
  }
 ],
 "metadata": {
  "kernelspec": {
   "display_name": "Python 3",
   "language": "python",
   "name": "python3"
  },
  "language_info": {
   "codemirror_mode": {
    "name": "ipython",
    "version": 3
   },
   "file_extension": ".py",
   "mimetype": "text/x-python",
   "name": "python",
   "nbconvert_exporter": "python",
   "pygments_lexer": "ipython3",
   "version": "3.7.1"
  }
 },
 "nbformat": 4,
 "nbformat_minor": 1
}
