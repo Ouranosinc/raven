{
 "cells": [
  {
   "cell_type": "markdown",
   "metadata": {},
   "source": [
    "# Perform regionalization when no parameter set is available\n",
    "\n",
    "Here we call the Regionalization WPS service to provide estimated streamflow (best estimate and ensemble) at an ungauged site using three pre-calibrated hydrological models and a large hydrometeorological database with catchment attributes (Extended CANOPEX). Multiple regionalization strategies are allowed. "
   ]
  },
  {
   "cell_type": "code",
   "execution_count": 1,
   "metadata": {
    "execution": {
     "iopub.execute_input": "2021-09-08T20:36:25.297511Z",
     "iopub.status.busy": "2021-09-08T20:36:25.291877Z",
     "iopub.status.idle": "2021-09-08T20:36:27.317135Z",
     "shell.execute_reply": "2021-09-08T20:36:27.315889Z"
    }
   },
   "outputs": [],
   "source": [
    "import datetime as dt\n",
    "import json\n",
    "import os\n",
    "from urllib.request import urlretrieve\n",
    "\n",
    "import numpy as np\n",
    "import xarray as xr\n",
    "from birdy import WPSClient\n",
    "from matplotlib import pyplot as plt\n",
    "from ravenpy.utilities.testdata import get_file\n",
    "\n",
    "# Set environment variable WPS_URL to \"http://localhost:9099\" to run on the default local server\n",
    "url = os.environ.get(\n",
    "    \"WPS_URL\", \"https://pavics.ouranos.ca/twitcher/ows/proxy/raven/wps\"\n",
    ")\n",
    "wps = WPSClient(url)"
   ]
  },
  {
   "cell_type": "code",
   "execution_count": 2,
   "metadata": {
    "execution": {
     "iopub.execute_input": "2021-09-08T20:36:27.375133Z",
     "iopub.status.busy": "2021-09-08T20:36:27.374674Z",
     "iopub.status.idle": "2021-09-08T20:36:27.378052Z",
     "shell.execute_reply": "2021-09-08T20:36:27.377685Z"
    }
   },
   "outputs": [
    {
     "name": "stdout",
     "output_type": "stream",
     "text": [
      "Help on method regionalisation in module birdy.client.base:\n",
      "\n",
      "regionalisation(ts, model_name=None, properties=None, start_date=datetime.datetime(1, 1, 1, 0, 0), end_date=datetime.datetime(1, 1, 1, 0, 0), latitude=None, longitude=None, rain_snow_fraction=None, nc_spec=None, ndonors=5, min_nse=0.6, method='SP_IDW', area=0.0, elevation=None, output_formats=None) method of birdy.client.base.WPSClient instance\n",
      "    Compute the hydrograph for an ungauged catchment using a regionalization method.\n",
      "    \n",
      "    Parameters\n",
      "    ----------\n",
      "    ts : ComplexData:mimetype:`application/x-netcdf`, :mimetype:`application/x-ogc-dods`, :mimetype:`text/plain`, :mimetype:`application/x-zipped-shp`\n",
      "        Files (text or netCDF) storingdaily liquid precipitation (pr), solid precipitation (prsn), minimum temperature (tasmin), maximum temperature (tasmax), potential evapotranspiration (evspsbl) and observed streamflow (qobs [m3/s]).\n",
      "    start_date : dateTime\n",
      "        Start date of the simulation (AAAA-MM-DD). Defaults to the start of the forcing file.\n",
      "    end_date : dateTime\n",
      "        End date of the simulation (AAAA-MM-DD). Defaults to the end of the forcing file.\n",
      "    latitude : float\n",
      "        Watershed's centroid latitude\n",
      "    longitude : float\n",
      "        Watershed's centroid longitude\n",
      "    rain_snow_fraction : {'RAINSNOW_DATA', 'RAINSNOW_DINGMAN', 'RAINSNOW_UBC', 'RAINSNOW_HBV', 'RAINSNOW_HARDER', 'RAINSNOW_HSPF'}string\n",
      "        Algorithm used to partition rain and snow from the total precipitions\n",
      "    nc_spec : string\n",
      "        Configuration of individual netCDF input files, such as `scale`, `offset`and `time_shift`. Should be passed as a dictionary keyed by variable, e.g. `tas` json-serialized.\n",
      "    model_name : {'HMETS', 'GR4JCN', 'MOHYSE'}string\n",
      "        Hydrological model identifier: {HMETS, GR4JCN, MOHYSE}\n",
      "    ndonors : integer\n",
      "        Number of close or similar catchments to use to generate the representative hydrograph at the ungauged site.\n",
      "    min_nse : float\n",
      "        Minimum calibration NSE value required to be considered in the regionalization.\n",
      "    method : {'MLR', 'SP', 'PS', 'SP_IDW', 'PS_IDW', 'SP_IDW_RA', 'PS_IDW_RA'}string\n",
      "        Regionalisation method to use, one of MLR, SP, PS, SP_IDW,\n",
      "        PS_IDW, SP_IDW_RA, PS_IDW_RA.\n",
      "    \n",
      "        The available regionalization methods are:\n",
      "    \n",
      "            Multiple linear regression (MLR)\n",
      "                Ungauged catchment parameters are estimated individually by a linear regression\n",
      "                against catchment properties.\n",
      "    \n",
      "            Spatial proximity (SP)\n",
      "                The ungauged hydrograph is an average of the `n` closest catchments' hydrographs.\n",
      "    \n",
      "            Physical similarity (PS)\n",
      "                The ungauged hydrograph is an average of the `n` most similar catchments' hydrographs.\n",
      "    \n",
      "            Spatial proximity with inverse distance weighting (SP_IDW)\n",
      "                The ungauged hydrograph is an average of the `n` closest catchments' hydrographs, but\n",
      "                the average is weighted using inverse distance weighting\n",
      "    \n",
      "            Physical similarity with inverse distance weighting (PS_IDW)\n",
      "                The ungauged hydrograph is an average of the `n` most similar catchments' hydrographs, but\n",
      "                the average is weighted using inverse distance weighting\n",
      "    \n",
      "            Spatial proximity with IDW and regression-based augmentation (SP_IDW_RA)\n",
      "                The ungauged hydrograph is an average of the `n` closest catchments' hydrographs, but\n",
      "                the average is weighted using inverse distance weighting. Furthermore, the method uses the CANOPEX/USGS\n",
      "                dataset to estimate model parameters using Multiple Linear Regression. Parameters whose regression r-squared\n",
      "                is higher than 0.5 are replaced by the MLR-estimated value.\n",
      "    \n",
      "            Physical Similarity with IDW and regression-based augmentation (PS_IDW_RA)\n",
      "                The ungauged hydrograph is an average of the `n` most similar catchments' hydrographs, but\n",
      "                the average is weighted using inverse distance weighting. Furthermore, the method uses the CANOPEX/USGS\n",
      "                dataset to estimate model parameters using Multiple Linear Regression. Parameters whose regression r-squared\n",
      "                is higher than 0.5 are replaced by the MLR-estimated value.\n",
      "    properties : ComplexData:mimetype:`application/json`\n",
      "        json string storing dictionary of properties. The available properties are: area (km2), longitude (dec.degrees), latitude (dec. degrees), gravelius, perimeter (m), elevation (m), slope(%), aspect, forest (%), grass (%), wetland (%), water (%), urban (%), shrubs (%), crops (%) and snowIce (%).\n",
      "    area : float\n",
      "        Watershed area (km2)\n",
      "    elevation : float\n",
      "        Watershed's mean elevation (m)\n",
      "    \n",
      "    Returns\n",
      "    -------\n",
      "    hydrograph : ComplexData:mimetype:`application/x-netcdf`, :mimetype:`application/zip`\n",
      "        A netCDF file containing the outflow hydrographs (in m3/s) for all subbasins specified as `gauged` in the .rvh file. It reports period-ending time-averaged flows for the preceding time step, as is consistent with most measured stream gauge data (again, the initial flow conditions at the start of the first time step are included). If observed hydrographs are specified, they will be output adjacent to the corresponding modelled  hydrograph.\n",
      "    ensemble : ComplexData:mimetype:`application/x-netcdf`\n",
      "        A netCDF file containing the outflow hydrographs (in m3/s) for the basin on which the regionalization method has been applied. The number of outflow hydrographs is equal to the number of donors (ndonors) passed to the method. The average of these hydrographs (either using equal or Inverse-Distance Weights) is the hydrograph generated in \"hydrograph\".\n",
      "\n"
     ]
    }
   ],
   "source": [
    "# Get the documentation for the method's usage:\n",
    "help(wps.regionalisation)"
   ]
  },
  {
   "cell_type": "code",
   "execution_count": 3,
   "metadata": {
    "execution": {
     "iopub.execute_input": "2021-09-08T20:36:27.383723Z",
     "iopub.status.busy": "2021-09-08T20:36:27.383363Z",
     "iopub.status.idle": "2021-09-08T20:36:29.377709Z",
     "shell.execute_reply": "2021-09-08T20:36:29.376465Z"
    }
   },
   "outputs": [],
   "source": [
    "# Forcing files. This file should only contain weather data (tmin, tmax, rain, snow, pet (if desired), etc.\n",
    "# No streamflow is required. This is a link to a string, but you can submit a string to your netcdf file directly.\n",
    "ts = str(\n",
    "    get_file(\"raven-gr4j-cemaneige/Salmon-River-Near-Prince-George_meteo_daily.nc\")\n",
    ")\n",
    "\n",
    "# Model configuration parameters\n",
    "config = dict(\n",
    "    start_date=dt.datetime(2000, 1, 1),\n",
    "    end_date=dt.datetime(2002, 1, 1),\n",
    "    area=4250.6,\n",
    "    elevation=843.0,\n",
    "    latitude=54.4848,\n",
    "    longitude=-123.3659,\n",
    "    method=\"PS\",  # One of the methods described above\n",
    "    model_name=\"HMETS\",  # One of the three models are allowed: HMETS, GR4JCN and MOHYSE\n",
    "    min_nse=0.7,  # Minimumcalibration NSE required to be considered a donor (for selecting good donor catchments)\n",
    "    ndonors=5,  # Number of donors we want to use. Usually between 4 and 8 is a robust number.\n",
    "    properties=json.dumps({\"latitude\": 54.4848, \"longitude\": -123.3659, \"forest\": 0.4}),\n",
    ")\n",
    "\n",
    "# Let's call the model with the timeseries, model parameters and other configuration parameters\n",
    "resp = wps.regionalisation(ts=ts, **config)"
   ]
  },
  {
   "cell_type": "code",
   "execution_count": 4,
   "metadata": {
    "execution": {
     "iopub.execute_input": "2021-09-08T20:36:29.387779Z",
     "iopub.status.busy": "2021-09-08T20:36:29.387106Z",
     "iopub.status.idle": "2021-09-08T20:36:29.569632Z",
     "shell.execute_reply": "2021-09-08T20:36:29.569276Z"
    }
   },
   "outputs": [],
   "source": [
    "# And get the response\n",
    "# With `asobj` set to False, only the reference to the output is returned in the response.\n",
    "# Setting `asobj` to True will retrieve the actual files and copy the locally.\n",
    "[hydrograph, ensemble] = resp.get(asobj=True)"
   ]
  },
  {
   "cell_type": "markdown",
   "metadata": {},
   "source": [
    "The `hydrograph` and `ensemble` outputs are netCDF files storing the time series. These files are opened by default using `xarray`, which provides convenient and powerful time series analysis and plotting tools. "
   ]
  },
  {
   "cell_type": "code",
   "execution_count": 5,
   "metadata": {
    "execution": {
     "iopub.execute_input": "2021-09-08T20:36:29.574816Z",
     "iopub.status.busy": "2021-09-08T20:36:29.573713Z",
     "iopub.status.idle": "2021-09-08T20:36:29.578724Z",
     "shell.execute_reply": "2021-09-08T20:36:29.578262Z"
    }
   },
   "outputs": [
    {
     "name": "stdout",
     "output_type": "stream",
     "text": [
      "<xarray.DataArray 'q_sim' (time: 732, nbasins: 1)>\n",
      "array([[  0.      ],\n",
      "       [331.471505],\n",
      "       [641.095766],\n",
      "       ...,\n",
      "       [ 20.079356],\n",
      "       [ 19.626541],\n",
      "       [ 19.194768]])\n",
      "Coordinates:\n",
      "  * time        (time) datetime64[ns] 2000-01-01 2000-01-02 ... 2002-01-01\n",
      "    basin_name  (nbasins) object ...\n",
      "Dimensions without coordinates: nbasins\n",
      "Attributes:\n",
      "    units:      m**3 s**-1\n",
      "    long_name:  Simulated outflows\n"
     ]
    }
   ],
   "source": [
    "print(hydrograph.q_sim)"
   ]
  },
  {
   "cell_type": "code",
   "execution_count": 6,
   "metadata": {
    "execution": {
     "iopub.execute_input": "2021-09-08T20:36:29.584214Z",
     "iopub.status.busy": "2021-09-08T20:36:29.583817Z",
     "iopub.status.idle": "2021-09-08T20:36:29.746978Z",
     "shell.execute_reply": "2021-09-08T20:36:29.746684Z"
    }
   },
   "outputs": [
    {
     "data": {
      "text/plain": [
       "[<matplotlib.lines.Line2D at 0x7fb7897c9250>]"
      ]
     },
     "execution_count": 6,
     "metadata": {},
     "output_type": "execute_result"
    },
    {
     "data": {
      "image/png": "[encoded data removed]",
      "text/plain": [
       "<Figure size 432x288 with 1 Axes>"
      ]
     },
     "metadata": {
      "needs_background": "light"
     },
     "output_type": "display_data"
    }
   ],
   "source": [
    "from pandas.plotting import register_matplotlib_converters\n",
    "\n",
    "register_matplotlib_converters()\n",
    "\n",
    "hydrograph.q_sim.plot()"
   ]
  },
  {
   "cell_type": "code",
   "execution_count": 7,
   "metadata": {
    "execution": {
     "iopub.execute_input": "2021-09-08T20:36:29.759579Z",
     "iopub.status.busy": "2021-09-08T20:36:29.751986Z",
     "iopub.status.idle": "2021-09-08T20:36:29.761276Z",
     "shell.execute_reply": "2021-09-08T20:36:29.761561Z"
    }
   },
   "outputs": [
    {
     "name": "stdout",
     "output_type": "stream",
     "text": [
      "Max:  <xarray.DataArray 'q_sim' ()>\n",
      "array(641.09576615)\n",
      "Mean:  <xarray.DataArray 'q_sim' ()>\n",
      "array(114.8507452)\n",
      "Monthly means:  <xarray.DataArray 'q_sim' (month: 12, nbasins: 1)>\n",
      "array([[172.76385283],\n",
      "       [ 76.18857277],\n",
      "       [ 65.66557725],\n",
      "       [151.16984984],\n",
      "       [145.88471373],\n",
      "       [123.31389115],\n",
      "       [142.17742226],\n",
      "       [128.54323994],\n",
      "       [121.63175241],\n",
      "       [104.19799177],\n",
      "       [104.13764708],\n",
      "       [ 39.80017892]])\n",
      "Coordinates:\n",
      "    basin_name  (nbasins) object ...\n",
      "  * month       (month) int64 1 2 3 4 5 6 7 8 9 10 11 12\n",
      "Dimensions without coordinates: nbasins\n"
     ]
    }
   ],
   "source": [
    "print(\"Max: \", hydrograph.q_sim.max())\n",
    "print(\"Mean: \", hydrograph.q_sim.mean())\n",
    "print(\"Monthly means: \", hydrograph.q_sim.groupby(\"time.month\").mean(dim=\"time\"))"
   ]
  },
  {
   "cell_type": "markdown",
   "metadata": {},
   "source": [
    "Now we can also see the results coming from the 5 donors using the 'ensemble' variable"
   ]
  },
  {
   "cell_type": "code",
   "execution_count": 8,
   "metadata": {
    "execution": {
     "iopub.execute_input": "2021-09-08T20:36:29.774141Z",
     "iopub.status.busy": "2021-09-08T20:36:29.768021Z",
     "iopub.status.idle": "2021-09-08T20:36:29.918313Z",
     "shell.execute_reply": "2021-09-08T20:36:29.918670Z"
    }
   },
   "outputs": [
    {
     "data": {
      "image/png": "[encoded data removed]",
      "text/plain": [
       "<Figure size 432x288 with 1 Axes>"
      ]
     },
     "metadata": {
      "needs_background": "light"
     },
     "output_type": "display_data"
    }
   ],
   "source": [
    "# Plot the simulations from the 5 donor parameter sets\n",
    "ensemble.q_sim.isel(nbasins=0).plot.line(hue=\"realization\")\n",
    "plt.show()"
   ]
  },
  {
   "cell_type": "code",
   "execution_count": 9,
   "metadata": {
    "execution": {
     "iopub.execute_input": "2021-09-08T20:36:29.926913Z",
     "iopub.status.busy": "2021-09-08T20:36:29.926337Z",
     "iopub.status.idle": "2021-09-08T20:36:29.928445Z",
     "shell.execute_reply": "2021-09-08T20:36:29.928731Z"
    }
   },
   "outputs": [
    {
     "name": "stdout",
     "output_type": "stream",
     "text": [
      "<xarray.Dataset>\n",
      "Dimensions:     (time: 732, nbasins: 1)\n",
      "Coordinates:\n",
      "  * time        (time) datetime64[ns] 2000-01-01 2000-01-02 ... 2002-01-01\n",
      "    basin_name  (nbasins) object ...\n",
      "Dimensions without coordinates: nbasins\n",
      "Data variables:\n",
      "    q_sim       (time, nbasins) float64 0.0 331.5 641.1 ... 20.08 19.63 19.19\n",
      "<xarray.Dataset>\n",
      "Dimensions:      (time: 732, nbasins: 1, realization: 5, param: 21)\n",
      "Coordinates:\n",
      "  * time         (time) datetime64[ns] 2000-01-01 2000-01-02 ... 2002-01-01\n",
      "    basin_name   (nbasins) object ...\n",
      "  * realization  (realization) int64 0 1 2 3 4\n",
      "  * param        (param) object 'GAMMA_SHAPE' 'GAMMA_SCALE' ... 'PHREATIC'\n",
      "Dimensions without coordinates: nbasins\n",
      "Data variables:\n",
      "    q_sim        (realization, time, nbasins) float64 ...\n",
      "    parameter    (realization, param) float64 ...\n",
      "Attributes:\n",
      "    title:        Regionalization ensemble\n",
      "    institution:  \n",
      "    source:       RAVEN V.3.0.4 - HMETS\n",
      "    history:      Created by raven regionalize.\n",
      "    references:   \n",
      "    comment:      Regionalization method: PS\n"
     ]
    }
   ],
   "source": [
    "# You can also obtain the data in netcdf format directly by changing asobj to False:\n",
    "[hydrograph_path, ensemble_path] = resp.get(asobj=False)\n",
    "print(hydrograph)\n",
    "print(ensemble)"
   ]
  },
  {
   "cell_type": "code",
   "execution_count": 10,
   "metadata": {
    "execution": {
     "iopub.execute_input": "2021-09-08T20:36:29.933872Z",
     "iopub.status.busy": "2021-09-08T20:36:29.931665Z",
     "iopub.status.idle": "2021-09-08T20:36:29.936195Z",
     "shell.execute_reply": "2021-09-08T20:36:29.935852Z"
    }
   },
   "outputs": [
    {
     "name": "stdout",
     "output_type": "stream",
     "text": [
      "<xarray.DataArray 'q_sim' (realization: 5, time: 732, nbasins: 1)>\n",
      "array([[[  0.      ],\n",
      "        [286.7841  ],\n",
      "        ...,\n",
      "        [ 21.023598],\n",
      "        [ 20.296133]],\n",
      "\n",
      "       [[  0.      ],\n",
      "        [228.646961],\n",
      "        ...,\n",
      "        [ 30.265317],\n",
      "        [ 29.898519]],\n",
      "\n",
      "       ...,\n",
      "\n",
      "       [[  0.      ],\n",
      "        [553.887672],\n",
      "        ...,\n",
      "        [ 13.341962],\n",
      "        [ 13.190296]],\n",
      "\n",
      "       [[  0.      ],\n",
      "        [217.590843],\n",
      "        ...,\n",
      "        [ 28.63213 ],\n",
      "        [ 27.848946]]])\n",
      "Coordinates:\n",
      "  * time         (time) datetime64[ns] 2000-01-01 2000-01-02 ... 2002-01-01\n",
      "    basin_name   (nbasins) object ...\n",
      "  * realization  (realization) int64 0 1 2 3 4\n",
      "Dimensions without coordinates: nbasins\n",
      "Attributes:\n",
      "    units:      m**3 s**-1\n",
      "    long_name:  Simulated outflows\n"
     ]
    }
   ],
   "source": [
    "print(ensemble.q_sim)"
   ]
  }
 ],
 "metadata": {
  "kernelspec": {
   "display_name": "Python 3",
   "language": "python",
   "name": "python3"
  },
  "language_info": {
   "codemirror_mode": {
    "name": "ipython",
    "version": 3
   },
   "file_extension": ".py",
   "mimetype": "text/x-python",
   "name": "python",
   "nbconvert_exporter": "python",
   "pygments_lexer": "ipython3",
   "version": "3.9.6"
  }
 },
 "nbformat": 4,
 "nbformat_minor": 1
}
