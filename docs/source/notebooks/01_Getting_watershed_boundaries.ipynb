{
 "cells": [
  {
   "cell_type": "markdown",
   "metadata": {},
   "source": [
    "# 01 - Getting watershed boundaries"
   ]
  },
  {
   "cell_type": "markdown",
   "metadata": {},
   "source": [
    "## Region Selection and Map Preview with Ipyleaflet\n",
    "In this notebook, you will extract a selected watershed from the HydroSHEDS database (see the reference manual for more information on HydroSHEDS). A GeoJSON with the watershed boundaries will be available for download and usable for other tasks such as extracting meteorological data covered in the next notebooks."
   ]
  },
  {
   "cell_type": "code",
   "execution_count": 11,
   "metadata": {},
   "outputs": [],
   "source": [
    "# Import the necessary libraries to format, send, and parse our returned results\n",
    "import os\n",
    "\n",
    "import birdy\n",
    "import geopandas as gpd\n",
    "import ipyleaflet\n",
    "import ipywidgets"
   ]
  },
  {
   "cell_type": "markdown",
   "metadata": {},
   "source": [
    "If you are running this locally (and not on the PAVICS-Hydro server), and your `notebook` is version prior to `5.3`, you might need to run this command `jupyter nbextension enable --py --sys-prefix ipyleaflet`.  For more information see https://ipyleaflet.readthedocs.io/en/latest/installation.html. \n",
    "\n",
    "This next box is all boilerplate, you do not need to understand it or play with it. Simply run it! Many such code snippets are provided throughout the notebooks to make your life easier. You can then modify some options to taylor the code to your needs."
   ]
  },
  {
   "cell_type": "code",
   "execution_count": 12,
   "metadata": {},
   "outputs": [],
   "source": [
    "# Create WPS instances# Set environment variable WPS_URL to \"http://localhost:9099\" to run on the default local server\n",
    "pavics_url = \"https://pavics.ouranos.ca\"\n",
    "raven_url = os.environ.get(\"WPS_URL\", f\"{pavics_url}/twitcher/ows/proxy/raven/wps\")\n",
    "\n",
    "raven = birdy.WPSClient(raven_url)\n",
    "\n",
    "# Build an interactive map with ipyleaflet\n",
    "initial_lat_lon = (48.63, -74.71)\n",
    "\n",
    "leaflet_map = ipyleaflet.Map(\n",
    "    center=initial_lat_lon,\n",
    "    basemap=ipyleaflet.basemaps.OpenTopoMap,\n",
    ")\n",
    "\n",
    "# Add a custom zoom slider\n",
    "zoom_slider = ipywidgets.IntSlider(description=\"Zoom level:\", min=1, max=10, value=6)\n",
    "ipywidgets.jslink((zoom_slider, \"value\"), (leaflet_map, \"zoom\"))\n",
    "widget_control1 = ipyleaflet.WidgetControl(widget=zoom_slider, position=\"topright\")\n",
    "leaflet_map.add_control(widget_control1)\n",
    "\n",
    "# Add a marker to the map\n",
    "marker = ipyleaflet.Marker(location=initial_lat_lon, draggable=True)\n",
    "leaflet_map.add_layer(marker)\n",
    "\n",
    "# Add an overlay widget\n",
    "html = ipywidgets.HTML(\"\"\"Hover over a feature!\"\"\")\n",
    "html.layout.margin = \"0px 10px 10px 10px\"\n",
    "\n",
    "control = ipyleaflet.WidgetControl(widget=html, position=\"bottomleft\")\n",
    "leaflet_map.add_control(control)\n",
    "\n",
    "\n",
    "def update_html(feature, **kwargs):\n",
    "    html.value = \"\"\"\n",
    "        <h2><b>USGS HydroBASINS</b></h2>\n",
    "        <h4>ID: {}</h4>\n",
    "        <h4>Upstream Area: {} sq. km.</h4> \n",
    "        <h4>Sub-basin Area: {} sq. km.</h4>\n",
    "    \"\"\".format(\n",
    "        feature[\"properties\"][\"id\"],\n",
    "        feature[\"properties\"][\"UP_AREA\"],  #\n",
    "        feature[\"properties\"][\"SUB_AREA\"],\n",
    "    )"
   ]
  },
  {
   "cell_type": "markdown",
   "metadata": {},
   "source": [
    "## Using the map to select the outlet of the watershed\n",
    "When using the \"leaflet_map\" command, an interative map will be displayed. \n",
    "\n",
    "Note that a blue marker will be displayed in the middle of the map, which can be dragged by interacting directly with it. Try dragging and placing the marker at the mouth of a river, over a large lake such as Lac Saint-Jean (next to Alma, east of the initial marker position), or anywhere else within North America. This coordinate will be used to find and extract the closest watershed outlet from the Hydrosheds database (see the reference manual for more info on Hydrosheds). The watershed ID and area will be displayed at the bottom left corner of the map.\n",
    "\n",
    "The user can zoom in and out on the map either by:\n",
    "* Using the Zoom level on the top right corner;\n",
    "* Using the + / - icons on the top left corner;\n",
    "* Double-clicking on the map on the area to zoom in."
   ]
  },
  {
   "cell_type": "code",
   "execution_count": 20,
   "metadata": {},
   "outputs": [
    {
     "data": {
      "application/vnd.jupyter.widget-view+json": {
       "model_id": "3af49585a4ba4a30b5dd6d0e473477a8",
       "version_major": 2,
       "version_minor": 0
      },
      "text/plain": [
       "Map(bottom=5852.0, center=[48.63, -74.71], controls=(ZoomControl(options=['position', 'zoom_in_text', 'zoom_in…"
      ]
     },
     "metadata": {},
     "output_type": "display_data"
    }
   ],
   "source": [
    "# Load the map in the notebook\n",
    "leaflet_map"
   ]
  },
  {
   "cell_type": "code",
   "execution_count": 21,
   "metadata": {},
   "outputs": [
    {
     "name": "stdout",
     "output_type": "stream",
     "text": [
      "[-71.69677734375001, 48.50204750525715]\n"
     ]
    }
   ],
   "source": [
    "# Display the lat/lon coordinates of the marker location.\n",
    "user_lonlat = list(reversed(marker.location))\n",
    "print(user_lonlat)"
   ]
  },
  {
   "cell_type": "code",
   "execution_count": 22,
   "metadata": {},
   "outputs": [],
   "source": [
    "# Get the shape of the watershed contributing to flow at the selected location.\n",
    "resp = raven.hydrobasins_select(location=str(user_lonlat), aggregate_upstream=True)"
   ]
  },
  {
   "cell_type": "markdown",
   "metadata": {},
   "source": [
    "**Before continuing, wait for the process above to finish**\n",
    "\n",
    "This can be monitored when the \"[*]:\" on the left of the cell is replaced with a number."
   ]
  },
  {
   "cell_type": "code",
   "execution_count": 23,
   "metadata": {},
   "outputs": [
    {
     "name": "stdout",
     "output_type": "stream",
     "text": [
      "This is the geoJSON file that can be used as the watershed contour in other toolboxes:\n",
      "\n",
      "https://pavics.ouranos.ca/wpsoutputs/2f4b4a20-94e3-11ec-bff6-0242ac12001b/input.geojson\n",
      "\n"
     ]
    }
   ],
   "source": [
    "# Extract the URL of the resulting GeoJSON feature\n",
    "feat = resp.get(asobj=False).feature\n",
    "print(\n",
    "    \"This is the geoJSON file that can be used as the watershed contour in other toolboxes:\"\n",
    ")\n",
    "print(\"\")\n",
    "print(feat)\n",
    "print(\"\")"
   ]
  },
  {
   "cell_type": "markdown",
   "metadata": {},
   "source": [
    "## BEFORE CONTINUING: You will want to download the .geojson file at the link above and deposit it into your workspace on the left of your screen!\n",
    "\n",
    "\n",
    "The file \"input.geojson\" should now be in your workspace."
   ]
  },
  {
   "cell_type": "code",
   "execution_count": 24,
   "metadata": {},
   "outputs": [
    {
     "data": {
      "text/html": [
       "<div>\n",
       "<style scoped>\n",
       "    .dataframe tbody tr th:only-of-type {\n",
       "        vertical-align: middle;\n",
       "    }\n",
       "\n",
       "    .dataframe tbody tr th {\n",
       "        vertical-align: top;\n",
       "    }\n",
       "\n",
       "    .dataframe thead th {\n",
       "        text-align: right;\n",
       "    }\n",
       "</style>\n",
       "<table border=\"1\" class=\"dataframe\">\n",
       "  <thead>\n",
       "    <tr style=\"text-align: right;\">\n",
       "      <th></th>\n",
       "      <th>COAST</th>\n",
       "      <th>DIST_MAIN</th>\n",
       "      <th>DIST_SINK</th>\n",
       "      <th>ENDO</th>\n",
       "      <th>HYBAS_ID</th>\n",
       "      <th>LAKE</th>\n",
       "      <th>NEXT_DOWN</th>\n",
       "      <th>NEXT_SINK</th>\n",
       "      <th>ORDER</th>\n",
       "      <th>PFAF_ID</th>\n",
       "      <th>SIDE</th>\n",
       "      <th>SORT</th>\n",
       "      <th>SUB_AREA</th>\n",
       "      <th>UP_AREA</th>\n",
       "      <th>id</th>\n",
       "      <th>geometry</th>\n",
       "    </tr>\n",
       "  </thead>\n",
       "  <tbody>\n",
       "    <tr>\n",
       "      <th>0</th>\n",
       "      <td>0</td>\n",
       "      <td>167.2</td>\n",
       "      <td>167.2</td>\n",
       "      <td>0</td>\n",
       "      <td>7120317401</td>\n",
       "      <td>301</td>\n",
       "      <td>7129090112</td>\n",
       "      <td>7120034330</td>\n",
       "      <td>2</td>\n",
       "      <td>724083034000</td>\n",
       "      <td>L</td>\n",
       "      <td>96068</td>\n",
       "      <td>72595.8</td>\n",
       "      <td>179.2</td>\n",
       "      <td>USGS_HydroBASINS_lake_na_lev12.96068</td>\n",
       "      <td>MULTIPOLYGON (((-72.38550 48.14640, -72.38950 ...</td>\n",
       "    </tr>\n",
       "  </tbody>\n",
       "</table>\n",
       "</div>"
      ],
      "text/plain": [
       "   COAST  DIST_MAIN  DIST_SINK  ENDO    HYBAS_ID  LAKE   NEXT_DOWN  \\\n",
       "0      0      167.2      167.2     0  7120317401   301  7129090112   \n",
       "\n",
       "    NEXT_SINK  ORDER       PFAF_ID SIDE   SORT  SUB_AREA  UP_AREA  \\\n",
       "0  7120034330      2  724083034000    L  96068   72595.8    179.2   \n",
       "\n",
       "                                     id  \\\n",
       "0  USGS_HydroBASINS_lake_na_lev12.96068   \n",
       "\n",
       "                                            geometry  \n",
       "0  MULTIPOLYGON (((-72.38550 48.14640, -72.38950 ...  "
      ]
     },
     "execution_count": 24,
     "metadata": {},
     "output_type": "execute_result"
    }
   ],
   "source": [
    "# Print the properties from the extracted watershed\n",
    "gdf = gpd.read_file(feat)\n",
    "gdf"
   ]
  },
  {
   "cell_type": "markdown",
   "metadata": {},
   "source": [
    "## Now we will add the extracted watershed to the map above!\n",
    "\n",
    "Scroll back up after executing the next cell to see the watershed displayed in blue on the map. You may reextract another  watershed by moving restarting the kernel or running all the cells from the beginning to reload the map. "
   ]
  },
  {
   "cell_type": "code",
   "execution_count": 25,
   "metadata": {},
   "outputs": [],
   "source": [
    "# Adding the GeoJSON to the map above.\n",
    "user_geojson = ipyleaflet.GeoData(\n",
    "    geo_dataframe=gdf,\n",
    "    style={\n",
    "        \"color\": \"blue\",\n",
    "        \"opacity\": 1,\n",
    "        \"weight\": 1.9,\n",
    "        \"fillOpacity\": 0.5,\n",
    "    },\n",
    "    hover_style={\"fillColor\": \"#b08a3e\", \"fillOpacity\": 0.9},\n",
    ")\n",
    "\n",
    "leaflet_map.add_layer(user_geojson)\n",
    "user_geojson.on_hover(update_html)"
   ]
  },
  {
   "cell_type": "markdown",
   "metadata": {},
   "source": [
    "### Congratulations!\n",
    "\n",
    "You have successfully created a watershed boundary file that can be used in the following notebooks. If you already have the boundaries of your watershed of interest, then you can upload them to your workspace instead of using this notebook to generate them. a geojson file is accepted, as is a shapefile. For shapefiles, provide a zip containing all the shape data (.shp, .shx, .dbf, .prj, etc.)."
   ]
  }
 ],
 "metadata": {
  "kernelspec": {
   "display_name": "Python 3 (ipykernel)",
   "language": "python",
   "name": "python3"
  },
  "language_info": {
   "codemirror_mode": {
    "name": "ipython",
    "version": 3
   },
   "file_extension": ".py",
   "mimetype": "text/x-python",
   "name": "python",
   "nbconvert_exporter": "python",
   "pygments_lexer": "ipython3",
   "version": "3.8.13"
  },
  "nbdime-conflicts": {
   "local_diff": [
    {
     "diff": [
      {
       "diff": [
        {
         "key": 0,
         "op": "addrange",
         "valuelist": [
          "3.6.7"
         ]
        },
        {
         "key": 0,
         "length": 1,
         "op": "removerange"
        }
       ],
       "key": "version",
       "op": "patch"
      }
     ],
     "key": "language_info",
     "op": "patch"
    }
   ],
   "remote_diff": [
    {
     "diff": [
      {
       "diff": [
        {
         "key": 0,
         "op": "addrange",
         "valuelist": [
          "3.6.10"
         ]
        },
        {
         "key": 0,
         "length": 1,
         "op": "removerange"
        }
       ],
       "key": "version",
       "op": "patch"
      }
     ],
     "key": "language_info",
     "op": "patch"
    }
   ]
  }
 },
 "nbformat": 4,
 "nbformat_minor": 4
}
