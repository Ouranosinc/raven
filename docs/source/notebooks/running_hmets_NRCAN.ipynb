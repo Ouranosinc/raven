{
 "cells": [
  {
   "cell_type": "markdown",
   "metadata": {},
   "source": [
    "# Calling HMETS on the Raven server\n",
    "\n",
    "Here we use birdy's WPS client to launch the HMETS hydrological model on the server and analyze the output. "
   ]
  },
  {
   "cell_type": "code",
   "execution_count": 1,
   "metadata": {},
   "outputs": [],
   "source": [
    "from birdy import WPSClient\n",
    "\n",
    "from example_data import TESTDATA\n",
    "import datetime as dt\n",
    "from urllib.request import urlretrieve\n",
    "import xarray as xr\n",
    "import numpy as np\n",
    "from matplotlib import pyplot as plt\n",
    "import os\n",
    "import json\n",
    "import netCDF4 as nc\n",
    "\n",
    "# Set environment variable RAVEN_WPS_URL to \"http://localhost:9099\" to run on the default local server\n",
    "#url = os.environ.get(\"RAVEN_WPS_URL\", \"https://pavics.ouranos.ca/twitcher/ows/proxy/raven/wps\")\n",
    "\n",
    "# THIS CHANGED TO REFLECT MASTER, NOT LATEST RELEASE!\n",
    "url=\"http://localhost:9099\" \n",
    "\n",
    "wps = WPSClient(url)"
   ]
  },
  {
   "cell_type": "code",
   "execution_count": 2,
   "metadata": {},
   "outputs": [],
   "source": [
    "# SETUP THE RUN PARAMETERS, for now only the start and end years of the simulation, the rest is hard-coded to \n",
    "# the Salmon-river example\n",
    "\n",
    "startYear=2007 # Year of the beginning of the simulation\n",
    "endYear=2008 # Year of the end of the simulation\n"
   ]
  },
  {
   "cell_type": "code",
   "execution_count": 3,
   "metadata": {},
   "outputs": [],
   "source": [
    "# Define the NRCAN data URLs for the OPeNDAP netCDF files\n",
    "tasmax_urlBase='https://pavics.ouranos.ca/twitcher/ows/proxy/thredds/dodsC/birdhouse/nrcan/nrcan_canada_daily_v2/tasmax/nrcan_canada_daily_tasmax_'\n",
    "tasmin_urlBase = 'https://pavics.ouranos.ca/twitcher/ows/proxy/thredds/dodsC/birdhouse/nrcan/nrcan_canada_daily_v2/tasmin/nrcan_canada_daily_tasmin_'\n",
    "precip_urlBase = 'https://pavics.ouranos.ca/twitcher/ows/proxy/thredds/dodsC/birdhouse/nrcan/nrcan_canada_daily_v2/pr/nrcan_canada_daily_pr_'\n"
   ]
  },
  {
   "cell_type": "code",
   "execution_count": 4,
   "metadata": {},
   "outputs": [],
   "source": [
    "# Get information on the Salmon catchment from our test database. This will need to be changed to allow other data\n",
    "salmon=xr.open_dataset(TESTDATA['raven-hmets-nc-ts'])\n",
    "salmon_lat = salmon.lat.values[0]\n",
    "salmon_lon = salmon.lon.values[0]"
   ]
  },
  {
   "cell_type": "code",
   "execution_count": 5,
   "metadata": {},
   "outputs": [],
   "source": [
    "# Write file path for input data\n",
    "dirpath = os.getcwd()\n",
    "filepath = dirpath + \"/NRCAN_ts.nc\"\n"
   ]
  },
  {
   "cell_type": "code",
   "execution_count": 6,
   "metadata": {},
   "outputs": [],
   "source": [
    "\"\"\"Return a netCDF file with daily NRCAN data at the Salmon location.\"\"\"\n",
    "# Get first year of data. \n",
    "## NOTE THAT HERE, THE ONLY METHOD IS THE NEAREST POINT, WHEREAS WE WILL NEED TO HAVE A MORE USEFUL METHOD SUCH AS AVERAGE OF CATCHMENT POLYGON\n",
    "\n",
    "firstYear=str(startYear)\n",
    "tmaxYear=xr.open_dataset(tasmax_urlBase + firstYear + '.nc').sel(lon=salmon_lon, lat=salmon_lat, method='nearest')\n",
    "tminYear=xr.open_dataset(tasmin_urlBase + firstYear + '.nc').sel(lon=salmon_lon, lat=salmon_lat, method='nearest')\n",
    "prYear=xr.open_dataset(precip_urlBase + firstYear + '.nc').sel(lon=salmon_lon, lat=salmon_lat, method='nearest')\n"
   ]
  },
  {
   "cell_type": "code",
   "execution_count": 7,
   "metadata": {},
   "outputs": [],
   "source": [
    "# Now extract all following years. It might take a few minutes depending on the number of years\n",
    "# that are fetched through the server. \n",
    "## ALSO THE SAME LIMITATION RELATED TO THE NEAREST POINT vs AVERAGE OF POINTS WITHIN CONTOUR (or Thiessen, inverse distance weighting, etc.)\n",
    "for i in range(startYear+1,endYear+1):\n",
    "        \n",
    "    tmaxYear=xr.concat([tmaxYear,xr.open_dataset(tasmax_urlBase + str(i) + '.nc').sel(lon=salmon_lon, lat=salmon_lat, method='nearest')],dim='time')\n",
    "    tminYear=xr.concat([tminYear,xr.open_dataset(tasmin_urlBase + str(i) + '.nc').sel(lon=salmon_lon, lat=salmon_lat, method='nearest')],dim='time')\n",
    "    prYear=xr.concat([prYear,xr.open_dataset(precip_urlBase + str(i) + '.nc').sel(lon=salmon_lon, lat=salmon_lat, method='nearest')],dim='time')\n",
    "     "
   ]
  },
  {
   "cell_type": "code",
   "execution_count": 8,
   "metadata": {},
   "outputs": [],
   "source": [
    "# Now we need to merge precip, tasmax and tasmin variables into one NetCDF file, and write to disk for future use.\n",
    "main=tmaxYear.merge(tminYear,compat='override')\n",
    "main=main.merge(prYear,compat='override')\n",
    "main.to_netcdf(filepath)\n"
   ]
  },
  {
   "cell_type": "code",
   "execution_count": 9,
   "metadata": {},
   "outputs": [],
   "source": [
    "# Finally, adjust the time units\n",
    "\n",
    "# IT SEEMS THIS IS NEEDED IN PYTEST TESTS BUT NOT HERE?! IF I UNCOMMENT THIS, YEARS ARE 1900-01-01 to 1902-12-31...\n",
    "\n",
    "D = nc.Dataset(filepath, \"a\")\n",
    "D.variables[\"time\"].units = \"days since \" + str(startYear) + \"-01-01 00:00:00\"\n",
    "D.close()     \n",
    "D = nc.Dataset(filepath, \"r+\")\n",
    "D.variables[\"time\"] = list(range(0,D.variables[\"tasmax\"].shape[0]))\n",
    "D.close() "
   ]
  },
  {
   "cell_type": "code",
   "execution_count": 11,
   "metadata": {},
   "outputs": [
    {
     "name": "stdout",
     "output_type": "stream",
     "text": [
      " owslib.wps.WPSException : {'code': 'NoApplicableCode', 'locator': 'None', 'text': 'Process failed, please check server error log'}\n"
     ]
    }
   ],
   "source": [
    "import json\n",
    "# The model parameters. Can either be a string of comma separated values, a list, an array or a named tuple. \n",
    "params = '9.5019, 0.2774, 6.3942, 0.6884, 1.2875, 5.4134, 2.3641, 0.0973, 0.0464, 0.1998, 0.0222, -1.0919, ' \\\n",
    "            '     2.6851, 0.3740, 1.0000, 0.4739, 0.0114, 0.0243, 0.0069, 310.7211, 916.1947'\n",
    "\n",
    "# Forcing files: Let's use the file we just created\n",
    "ts=filepath\n",
    "\n",
    "# Model configuration parameters\n",
    "config = dict(\n",
    "    start_date=dt.datetime(2007, 5, 1),\n",
    "    end_date=dt.datetime(2007, 6, 30),\n",
    "    area=4250.6,\n",
    "    elevation=843.0,\n",
    "    latitude=salmon_lat,\n",
    "    longitude=salmon_lon,\n",
    "    run_name='test_hmets_NRCAN',\n",
    "    #rain_snow_fraction='RAINSWNOW_DINGMAN', # <----- ##### THIS FAILS! NEED HELP HERE! ######\n",
    "    nc_spec=json.dumps({'tasmax': {'linear_transform': (1.0, -273.15)},'tasmin': {'linear_transform': (1.0, -273.15)},'pr': {'linear_transform': (86400.0, 0.0)}})  \n",
    ")\n",
    "\n",
    "# Let's call the model with the timeseries, model parameters and other configuration parameters\n",
    "resp = wps.raven_hmets(ts=str(ts), params=params, **config)\n"
   ]
  },
  {
   "cell_type": "code",
   "execution_count": null,
   "metadata": {},
   "outputs": [],
   "source": [
    "\n",
    "# And get the response\n",
    "# With `asobj` set to False, only the reference to the output is returned in the response. \n",
    "# Setting `asobj` to True will retrieve the actual files and copy the locally. \n",
    "[hydrograph, storage, solution, diagnostics, rv] = resp.get(asobj=True)"
   ]
  },
  {
   "cell_type": "markdown",
   "metadata": {},
   "source": [
    "Since we requested output objects, we can simply access the output objects. The dianostics is just a CSV file: "
   ]
  },
  {
   "cell_type": "code",
   "execution_count": 3,
   "metadata": {},
   "outputs": [
    {
     "name": "stdout",
     "output_type": "stream",
     "text": [
      "observed data series,filename,DIAG_NASH_SUTCLIFFE,DIAG_RMSE,\n",
      "HYDROGRAPH,/tmp/pywps_process_98i20iw0/Salmon-River-Near-Prince-George_meteo_daily.nc,-7.03141,101.745,\n",
      "\n"
     ]
    }
   ],
   "source": [
    "print(diagnostics)"
   ]
  },
  {
   "cell_type": "markdown",
   "metadata": {},
   "source": [
    "The `hydrograph` and `storage` outputs are netCDF files storing the time series. These files are opened by default using `xarray`, which provides convenient and powerful time series analysis and plotting tools. "
   ]
  },
  {
   "cell_type": "code",
   "execution_count": 4,
   "metadata": {},
   "outputs": [
    {
     "data": {
      "text/plain": [
       "<xarray.DataArray 'q_sim' (time: 732, nbasins: 1)>\n",
       "array([[  0.      ],\n",
       "       [170.910938],\n",
       "       [338.27671 ],\n",
       "       ...,\n",
       "       [ 39.27025 ],\n",
       "       [ 38.468564],\n",
       "       [ 37.723351]])\n",
       "Coordinates:\n",
       "  * time        (time) datetime64[ns] 2000-01-01 2000-01-02 ... 2002-01-01\n",
       "    basin_name  (nbasins) object ...\n",
       "Dimensions without coordinates: nbasins\n",
       "Attributes:\n",
       "    units:      m**3 s**-1\n",
       "    long_name:  Simulated outflows"
      ]
     },
     "execution_count": 4,
     "metadata": {},
     "output_type": "execute_result"
    }
   ],
   "source": [
    "hydrograph.q_sim"
   ]
  },
  {
   "cell_type": "code",
   "execution_count": 5,
   "metadata": {},
   "outputs": [
    {
     "data": {
      "text/plain": [
       "[<matplotlib.lines.Line2D at 0x7fbb1f030400>]"
      ]
     },
     "execution_count": 5,
     "metadata": {},
     "output_type": "execute_result"
    },
    {
     "data": {
      "image/png": "[encoded data removed]",
      "text/plain": [
       "<Figure size 432x288 with 1 Axes>"
      ]
     },
     "metadata": {
      "needs_background": "light"
     },
     "output_type": "display_data"
    }
   ],
   "source": [
    "from pandas.plotting import register_matplotlib_converters\n",
    "register_matplotlib_converters()\n",
    "\n",
    "hydrograph.q_sim.plot()"
   ]
  },
  {
   "cell_type": "code",
   "execution_count": 6,
   "metadata": {},
   "outputs": [
    {
     "name": "stdout",
     "output_type": "stream",
     "text": [
      "Max:  <xarray.DataArray 'q_sim' ()>\n",
      "array(338.27670973)\n",
      "Mean:  <xarray.DataArray 'q_sim' ()>\n",
      "array(114.21520508)\n",
      "Monthly means:  <xarray.DataArray 'q_sim' (month: 12, nbasins: 1)>\n",
      "array([[145.47625261],\n",
      "       [100.23013979],\n",
      "       [ 72.54535855],\n",
      "       [100.5531725 ],\n",
      "       [158.08129744],\n",
      "       [131.89812816],\n",
      "       [132.25412379],\n",
      "       [129.30157554],\n",
      "       [122.49175427],\n",
      "       [104.23439113],\n",
      "       [108.01578307],\n",
      "       [ 64.06515605]])\n",
      "Coordinates:\n",
      "    basin_name  (nbasins) object ...\n",
      "  * month       (month) int64 1 2 3 4 5 6 7 8 9 10 11 12\n",
      "Dimensions without coordinates: nbasins\n"
     ]
    }
   ],
   "source": [
    "print(\"Max: \", hydrograph.q_sim.max())\n",
    "print(\"Mean: \", hydrograph.q_sim.mean())\n",
    "print(\"Monthly means: \", hydrograph.q_sim.groupby(hydrograph.time.dt.month).mean(dim='time'))"
   ]
  }
 ],
 "metadata": {
  "kernelspec": {
   "display_name": "Python 3",
   "language": "python",
   "name": "python3"
  },
  "language_info": {
   "codemirror_mode": {
    "name": "ipython",
    "version": 3
   },
   "file_extension": ".py",
   "mimetype": "text/x-python",
   "name": "python",
   "nbconvert_exporter": "python",
   "pygments_lexer": "ipython3",
   "version": "3.6.7"
  }
 },
 "nbformat": 4,
 "nbformat_minor": 1
}
