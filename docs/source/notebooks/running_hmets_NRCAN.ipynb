{
 "cells": [
  {
   "cell_type": "markdown",
   "metadata": {},
   "source": [
    "# Running HMETS using NRCAN forcing data\n",
    "\n",
    "Here we use birdy's WPS client to launch the HMETS hydrological model on the server and analyze the output. We also prepare NRCAN daily data for Canadian catchments."
   ]
  },
  {
   "cell_type": "code",
   "execution_count": 1,
   "metadata": {},
   "outputs": [],
   "source": [
    "from birdy import WPSClient\n",
    "\n",
    "from example_data import TESTDATA\n",
    "import datetime as dt\n",
    "from urllib.request import urlretrieve\n",
    "import xarray as xr\n",
    "import numpy as np\n",
    "from matplotlib import pyplot as plt\n",
    "import os\n",
    "import json\n",
    "import netCDF4 as nc\n",
    "\n",
    "# Set environment variable RAVEN_WPS_URL to \"http://localhost:9099\" to run on the default local server\n",
    "#url = os.environ.get(\"RAVEN_WPS_URL\", \"https://pavics.ouranos.ca/twitcher/ows/proxy/raven/wps\")\n",
    "\n",
    "# THIS CHANGED TO REFLECT MASTER, NOT LATEST RELEASE!\n",
    "url=\"http://localhost:9099\" \n",
    "\n",
    "wps = WPSClient(url)"
   ]
  },
  {
   "cell_type": "code",
   "execution_count": 2,
   "metadata": {},
   "outputs": [],
   "source": [
    "# SETUP THE RUN PARAMETERS, for now only the start and end years of the simulation, the rest is hard-coded to \n",
    "# the Salmon-river example\n",
    "\n",
    "startYear=2007 # Year of the beginning of the simulation\n",
    "endYear=2008 # Year of the end of the simulation\n"
   ]
  },
  {
   "cell_type": "code",
   "execution_count": 3,
   "metadata": {},
   "outputs": [],
   "source": [
    "# Define the NRCAN data URLs for the OPeNDAP netCDF files\n",
    "tasmax_urlBase='https://pavics.ouranos.ca/twitcher/ows/proxy/thredds/dodsC/birdhouse/nrcan/nrcan_canada_daily_v2/tasmax/nrcan_canada_daily_tasmax_'\n",
    "tasmin_urlBase = 'https://pavics.ouranos.ca/twitcher/ows/proxy/thredds/dodsC/birdhouse/nrcan/nrcan_canada_daily_v2/tasmin/nrcan_canada_daily_tasmin_'\n",
    "precip_urlBase = 'https://pavics.ouranos.ca/twitcher/ows/proxy/thredds/dodsC/birdhouse/nrcan/nrcan_canada_daily_v2/pr/nrcan_canada_daily_pr_'\n"
   ]
  },
  {
   "cell_type": "code",
   "execution_count": 4,
   "metadata": {},
   "outputs": [],
   "source": [
    "# Get information on the Salmon catchment from our test database. This will need to be changed to allow other data\n",
    "salmon=xr.open_dataset(TESTDATA['raven-hmets-nc-ts'])\n",
    "salmon_lat = salmon.lat.values[0]\n",
    "salmon_lon = salmon.lon.values[0]"
   ]
  },
  {
   "cell_type": "code",
   "execution_count": 5,
   "metadata": {},
   "outputs": [],
   "source": [
    "# Write file path for input data\n",
    "dirpath = os.getcwd()\n",
    "filepath = dirpath + \"/NRCAN_ts.nc\"\n"
   ]
  },
  {
   "cell_type": "code",
   "execution_count": 6,
   "metadata": {},
   "outputs": [],
   "source": [
    "\"\"\"Return a netCDF file with daily NRCAN data at the Salmon location.\"\"\"\n",
    "# Get first year of data. \n",
    "## NOTE THAT HERE, THE ONLY METHOD IS THE NEAREST POINT, WHEREAS WE WILL NEED TO HAVE A MORE USEFUL METHOD SUCH AS AVERAGE OF CATCHMENT POLYGON\n",
    "\n",
    "firstYear=str(startYear)\n",
    "tmaxYear=xr.open_dataset(tasmax_urlBase + firstYear + '.nc').sel(lon=salmon_lon, lat=salmon_lat, method='nearest')\n",
    "tminYear=xr.open_dataset(tasmin_urlBase + firstYear + '.nc').sel(lon=salmon_lon, lat=salmon_lat, method='nearest')\n",
    "prYear=xr.open_dataset(precip_urlBase + firstYear + '.nc').sel(lon=salmon_lon, lat=salmon_lat, method='nearest')\n"
   ]
  },
  {
   "cell_type": "code",
   "execution_count": 7,
   "metadata": {},
   "outputs": [],
   "source": [
    "# Now extract all following years. It might take a few minutes depending on the number of years\n",
    "# that are fetched through the server. \n",
    "## ALSO THE SAME LIMITATION RELATED TO THE NEAREST POINT vs AVERAGE OF POINTS WITHIN CONTOUR (or Thiessen, inverse distance weighting, etc.)\n",
    "for i in range(startYear+1,endYear+1):\n",
    "        \n",
    "    tmaxYear=xr.concat([tmaxYear,xr.open_dataset(tasmax_urlBase + str(i) + '.nc').sel(lon=salmon_lon, lat=salmon_lat, method='nearest')],dim='time')\n",
    "    tminYear=xr.concat([tminYear,xr.open_dataset(tasmin_urlBase + str(i) + '.nc').sel(lon=salmon_lon, lat=salmon_lat, method='nearest')],dim='time')\n",
    "    prYear=xr.concat([prYear,xr.open_dataset(precip_urlBase + str(i) + '.nc').sel(lon=salmon_lon, lat=salmon_lat, method='nearest')],dim='time')\n",
    "     "
   ]
  },
  {
   "cell_type": "code",
   "execution_count": 8,
   "metadata": {},
   "outputs": [],
   "source": [
    "# Now we need to merge precip, tasmax and tasmin variables into one NetCDF file, and write to disk for future use.\n",
    "main=tmaxYear.merge(tminYear,compat='override')\n",
    "main=main.merge(prYear,compat='override')\n",
    "main.to_netcdf(filepath)\n"
   ]
  },
  {
   "cell_type": "code",
   "execution_count": 9,
   "metadata": {},
   "outputs": [],
   "source": [
    "# Finally, adjust the time units\n",
    "\n",
    "# IT SEEMS THIS IS NEEDED IN PYTEST TESTS BUT NOT HERE?! IF I UNCOMMENT THIS, YEARS ARE 1900-01-01 to 1902-12-31...\n",
    "\n",
    "D = nc.Dataset(filepath, \"a\")\n",
    "D.variables[\"time\"].units = \"days since \" + str(startYear) + \"-01-01 00:00:00\"\n",
    "D.close()     \n",
    "D = nc.Dataset(filepath, \"r+\")\n",
    "D.variables[\"time\"] = list(range(0,D.variables[\"tasmax\"].shape[0]))\n",
    "D.close() "
   ]
  },
  {
   "cell_type": "code",
   "execution_count": 12,
   "metadata": {},
   "outputs": [],
   "source": [
    "import json\n",
    "# The model parameters. Can either be a string of comma separated values, a list, an array or a named tuple. \n",
    "params = '9.5019, 0.2774, 6.3942, 0.6884, 1.2875, 5.4134, 2.3641, 0.0973, 0.0464, 0.1998, 0.0222, -1.0919, ' \\\n",
    "            '     2.6851, 0.3740, 1.0000, 0.4739, 0.0114, 0.0243, 0.0069, 310.7211, 916.1947'\n",
    "\n",
    "# Forcing files: Let's use the file we just created\n",
    "ts=filepath\n",
    "\n",
    "# Model configuration parameters\n",
    "config = dict(\n",
    "    start_date=dt.datetime(2007, 5, 1),\n",
    "    end_date=dt.datetime(2007, 6, 30),\n",
    "    area=4250.6,\n",
    "    elevation=843.0,\n",
    "    latitude=salmon_lat,\n",
    "    longitude=salmon_lon,\n",
    "    run_name='test_hmets_NRCAN',\n",
    "    rain_snow_fraction='RAINSNOW_DINGMAN', # <----- ##### THIS FAILS! NEED HELP HERE! ######\n",
    "    nc_spec=json.dumps({'tasmax': {'linear_transform': (1.0, -273.15)},'tasmin': {'linear_transform': (1.0, -273.15)},'pr': {'linear_transform': (86400.0, 0.0)}})  \n",
    ")\n",
    "\n",
    "# Let's call the model with the timeseries, model parameters and other configuration parameters\n",
    "resp = wps.raven_hmets(ts=str(ts), params=params, **config)\n"
   ]
  },
  {
   "cell_type": "code",
   "execution_count": 13,
   "metadata": {},
   "outputs": [],
   "source": [
    "\n",
    "# And get the response\n",
    "# With `asobj` set to False, only the reference to the output is returned in the response. \n",
    "# Setting `asobj` to True will retrieve the actual files and copy the locally. \n",
    "[hydrograph, storage, solution, diagnostics, rv] = resp.get(asobj=True)"
   ]
  },
  {
   "cell_type": "markdown",
   "metadata": {},
   "source": [
    "Since we requested output objects, we can simply access the output objects. The dianostics is just a CSV file: "
   ]
  },
  {
   "cell_type": "code",
   "execution_count": 14,
   "metadata": {},
   "outputs": [
    {
     "name": "stdout",
     "output_type": "stream",
     "text": [
      ":TimeStamp 2007-06-30 00:00:00.00\n",
      ":HRUStateVariableTable\n",
      "  :Attributes,SURFACE_WATER,ATMOSPHERE,ATMOS_PRECIP,PONDED_WATER,SOIL[0],SOIL[1],SNOW,SNOW_LIQ,CUM_SNOWMELT,CONVOLUTION[0],CONVOLUTION[1],AET,CONV_STOR[0],CONV_STOR[1],CONV_STOR[2],CONV_STOR[3],CONV_STOR[4],CONV_STOR[5],CONV_STOR[6],CONV_STOR[7],CONV_STOR[8],CONV_STOR[9],CONV_STOR[10],CONV_STOR[11],CONV_STOR[12],CONV_STOR[13],CONV_STOR[14],CONV_STOR[15],CONV_STOR[16],CONV_STOR[17],CONV_STOR[18],CONV_STOR[19],CONV_STOR[20],CONV_STOR[21],CONV_STOR[22],CONV_STOR[23],CONV_STOR[24],CONV_STOR[25],CONV_STOR[26],CONV_STOR[27],CONV_STOR[28],CONV_STOR[29],CONV_STOR[30],CONV_STOR[31],CONV_STOR[32],CONV_STOR[33],CONV_STOR[34],CONV_STOR[35],CONV_STOR[36],CONV_STOR[37],CONV_STOR[38],CONV_STOR[39],CONV_STOR[40],CONV_STOR[41],CONV_STOR[42],CONV_STOR[43],CONV_STOR[44],CONV_STOR[45],CONV_STOR[46],CONV_STOR[47],CONV_STOR[48],CONV_STOR[49],CONV_STOR[50],CONV_STOR[51],CONV_STOR[52],CONV_STOR[53],CONV_STOR[54],CONV_STOR[55],CONV_STOR[56],CONV_STOR[57],CONV_STOR[58],CONV_STOR[59],CONV_STOR[60],CONV_STOR[61],CONV_STOR[62],CONV_STOR[63],CONV_STOR[64],CONV_STOR[65],CONV_STOR[66],CONV_STOR[67],CONV_STOR[68],CONV_STOR[69],CONV_STOR[70],CONV_STOR[71],CONV_STOR[72],CONV_STOR[73],CONV_STOR[74],CONV_STOR[75],CONV_STOR[76],CONV_STOR[77],CONV_STOR[78],CONV_STOR[79],CONV_STOR[80],CONV_STOR[81],CONV_STOR[82],CONV_STOR[83],CONV_STOR[84],CONV_STOR[85],CONV_STOR[86],CONV_STOR[87],CONV_STOR[88],CONV_STOR[89],CONV_STOR[90],CONV_STOR[91],CONV_STOR[92],CONV_STOR[93],CONV_STOR[94],CONV_STOR[95],CONV_STOR[96],CONV_STOR[97],CONV_STOR[98],CONV_STOR[99]\n",
      "  :Units,mm,mm,mm,mm,mm,mm,mm,mm,mm,mm,mm,mm,mm,mm,mm,mm,mm,mm,mm,mm,mm,mm,mm,mm,mm,mm,mm,mm,mm,mm,mm,mm,mm,mm,mm,mm,mm,mm,mm,mm,mm,mm,mm,mm,mm,mm,mm,mm,mm,mm,mm,mm,mm,mm,mm,mm,mm,mm,mm,mm,mm,mm,mm,mm,mm,mm,mm,mm,mm,mm,mm,mm,mm,mm,mm,mm,mm,mm,mm,mm,mm,mm,mm,mm,mm,mm,mm,mm,mm,mm,mm,mm,mm,mm,mm,mm,mm,mm,mm,mm,mm,mm,mm,mm,mm,mm,mm,mm,mm,mm,mm,mm\n",
      "  1,0.00000,0.14694,-81.66000,0.00000,55.01164,344.23273,0.00000,0.00000,0.00000,4.39874,0.23917,0.00297,-8.96654,0.41272,0.66672,0.14190,0.07139,0.00000,0.07383,0.06331,0.21275,0.00000,0.19683,0.13273,0.01259,0.09954,0.12488,0.10571,0.04440,0.15064,0.00000,0.00000,0.32397,0.22378,0.00000,0.02938,0.14588,0.77297,0.18792,-0.00000,0.00000,0.00000,0.00000,0.00000,-0.00000,0.00000,0.00000,0.01851,0.00000,0.00000,0.00000,0.00113,0.01020,0.00000,0.12582,0.04926,0.00000,0.00000,0.00000,0.00000,0.00000,-0.00000,-2.13755,0.06397,0.09052,0.01898,0.00939,0.00000,0.00866,0.00657,0.01815,0.00000,0.01077,0.00550,0.00039,0.00224,0.00196,0.00112,0.00031,0.00064,0.00000,-0.00000,0.00000,0.00000,0.00000,0.00000,0.00000,0.00000,0.00000,0.00000,0.00000,0.00000,0.00000,0.00000,0.00000,0.00000,0.00000,0.00000,0.00000,0.00000,0.00000,0.00000,0.00000,0.00000,0.00000,0.00000,0.00000,0.00000,0.00000,0.00000,0.00000,0.00000\n",
      ":EndHRUStateVariableTable\n",
      ":BasinStateVariables\n",
      "  :BasinIndex 1,watershed\n",
      "    :ChannelStorage, 0.00000\n",
      "    :RivuletStorage, 8276998.99507\n",
      "    :Qout,1,191.59720,188.72079\n",
      "    :Qlat,3,191.59720,188.72079,180.54081,191.59720\n",
      "    :Qin ,20,0.00000,0.00000,0.00000,0.00000,0.00000,0.00000,0.00000,0.00000,0.00000,0.00000,0.00000,0.00000,0.00000,0.00000,0.00000,0.00000,0.00000,0.00000,0.00000,0.00000\n",
      ":EndBasinStateVariables\n",
      "\n"
     ]
    }
   ],
   "source": [
    "print(diagnostics)"
   ]
  },
  {
   "cell_type": "markdown",
   "metadata": {},
   "source": [
    "The `hydrograph` and `storage` outputs are netCDF files storing the time series. These files are opened by default using `xarray`, which provides convenient and powerful time series analysis and plotting tools. "
   ]
  },
  {
   "cell_type": "code",
   "execution_count": 15,
   "metadata": {},
   "outputs": [
    {
     "data": {
      "text/plain": [
       "<xarray.DataArray 'q_sim' (time: 61, nbasins: 1)>\n",
       "array([[  0.      ],\n",
       "       [170.910938],\n",
       "       [341.303273],\n",
       "       [337.880894],\n",
       "       [331.668788],\n",
       "       [325.355314],\n",
       "       [320.107972],\n",
       "       [316.905823],\n",
       "       [313.257583],\n",
       "       [307.852679],\n",
       "       [302.402846],\n",
       "       [296.921615],\n",
       "       [291.403803],\n",
       "       [285.84618 ],\n",
       "       [280.274321],\n",
       "       [274.744343],\n",
       "       [269.326396],\n",
       "       [264.085853],\n",
       "       [260.506351],\n",
       "       [260.229066],\n",
       "       [258.657852],\n",
       "       [254.423934],\n",
       "       [250.529712],\n",
       "       [246.783187],\n",
       "       [243.298359],\n",
       "       [239.895463],\n",
       "       [236.692347],\n",
       "       [233.409737],\n",
       "       [229.869419],\n",
       "       [226.352526],\n",
       "       [222.865621],\n",
       "       [219.438253],\n",
       "       [216.088097],\n",
       "       [212.822756],\n",
       "       [209.642902],\n",
       "       [208.251135],\n",
       "       [213.454126],\n",
       "       [217.778198],\n",
       "       [215.607062],\n",
       "       [212.556563],\n",
       "       [211.015082],\n",
       "       [211.687364],\n",
       "       [210.75523 ],\n",
       "       [207.622251],\n",
       "       [205.47791 ],\n",
       "       [203.591795],\n",
       "       [201.384759],\n",
       "       [199.720499],\n",
       "       [198.017215],\n",
       "       [195.570847],\n",
       "       [193.462295],\n",
       "       [192.755928],\n",
       "       [190.649481],\n",
       "       [188.725579],\n",
       "       [187.871356],\n",
       "       [186.139251],\n",
       "       [183.938258],\n",
       "       [181.622478],\n",
       "       [180.622438],\n",
       "       [184.630799],\n",
       "       [190.158994]])\n",
       "Coordinates:\n",
       "  * time        (time) datetime64[ns] 2007-05-01 2007-05-02 ... 2007-06-30\n",
       "    basin_name  (nbasins) object ...\n",
       "Dimensions without coordinates: nbasins\n",
       "Attributes:\n",
       "    units:      m**3 s**-1\n",
       "    long_name:  Simulated outflows"
      ]
     },
     "execution_count": 15,
     "metadata": {},
     "output_type": "execute_result"
    }
   ],
   "source": [
    "hydrograph.q_sim"
   ]
  },
  {
   "cell_type": "code",
   "execution_count": 16,
   "metadata": {},
   "outputs": [
    {
     "data": {
      "text/plain": [
       "[<matplotlib.lines.Line2D at 0x7fc5458f3c18>]"
      ]
     },
     "execution_count": 16,
     "metadata": {},
     "output_type": "execute_result"
    },
    {
     "data": {
      "image/png": "[encoded data removed]",
      "text/plain": [
       "<Figure size 432x288 with 1 Axes>"
      ]
     },
     "metadata": {
      "needs_background": "light"
     },
     "output_type": "display_data"
    }
   ],
   "source": [
    "from pandas.plotting import register_matplotlib_converters\n",
    "register_matplotlib_converters()\n",
    "\n",
    "hydrograph.q_sim.plot()"
   ]
  },
  {
   "cell_type": "code",
   "execution_count": 6,
   "metadata": {},
   "outputs": [
    {
     "name": "stdout",
     "output_type": "stream",
     "text": [
      "Max:  <xarray.DataArray 'q_sim' ()>\n",
      "array(338.27670973)\n",
      "Mean:  <xarray.DataArray 'q_sim' ()>\n",
      "array(114.21520508)\n",
      "Monthly means:  <xarray.DataArray 'q_sim' (month: 12, nbasins: 1)>\n",
      "array([[145.47625261],\n",
      "       [100.23013979],\n",
      "       [ 72.54535855],\n",
      "       [100.5531725 ],\n",
      "       [158.08129744],\n",
      "       [131.89812816],\n",
      "       [132.25412379],\n",
      "       [129.30157554],\n",
      "       [122.49175427],\n",
      "       [104.23439113],\n",
      "       [108.01578307],\n",
      "       [ 64.06515605]])\n",
      "Coordinates:\n",
      "    basin_name  (nbasins) object ...\n",
      "  * month       (month) int64 1 2 3 4 5 6 7 8 9 10 11 12\n",
      "Dimensions without coordinates: nbasins\n"
     ]
    }
   ],
   "source": [
    "print(\"Max: \", hydrograph.q_sim.max())\n",
    "print(\"Mean: \", hydrograph.q_sim.mean())\n",
    "print(\"Monthly means: \", hydrograph.q_sim.groupby(hydrograph.time.dt.month).mean(dim='time'))"
   ]
  }
 ],
 "metadata": {
  "kernelspec": {
   "display_name": "Python 3",
   "language": "python",
   "name": "python3"
  },
  "language_info": {
   "codemirror_mode": {
    "name": "ipython",
    "version": 3
   },
   "file_extension": ".py",
   "mimetype": "text/x-python",
   "name": "python",
   "nbconvert_exporter": "python",
   "pygments_lexer": "ipython3",
   "version": "3.6.7"
  }
 },
 "nbformat": 4,
 "nbformat_minor": 1
}
