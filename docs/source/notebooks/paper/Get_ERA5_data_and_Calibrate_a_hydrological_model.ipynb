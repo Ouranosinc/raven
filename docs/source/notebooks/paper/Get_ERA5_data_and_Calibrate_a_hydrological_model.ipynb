{
 "cells": [
  {
   "cell_type": "markdown",
   "metadata": {},
   "source": [
    "# Create a watershed model"
   ]
  },
  {
   "cell_type": "markdown",
   "metadata": {},
   "source": [
    "Hydrological models typically need geographical information about watersheds being simulated: latitude and longitude, area, mean altitude, land-use, etc. This notebook shows how to obtain this information using remote services that are made available for users in PAVICS-Hydro. These services connect to a digital elevation model (DEM) and a land-use data set to extract relevant information.\n",
    "\n",
    "The DEM used in the following is the [EarthEnv-DEM90](https://www.earthenv.org/DEM), while the land-use dataset is the [North American Land Change Monitoring System](http://www.cec.org/tools-and-resources/north-american-environmental-atlas/north-american-land-change-monitoring-system). Other data sources could be used, given their availability through the Web Coverage Service (WCS) protocol.\n",
    "\n",
    "Since these computations happen on a specific Geoserver hosted in PAVICS, we need to establish a connection to that service. While the steps are a bit more complex, the good news is that you only need to change a few items in this notebook to taylor results to your needs. For example, this first code snippet is boilerplate and should not be changed.\n",
    "\n",
    "We will also setup a hydrological model, calibrate it, and save the parameters for future use.\n",
    "\n",
    "We will be using the Mistassini river as the test-case for this example, but you can substitute the data for any catchment of your liking. We provide:\n",
    "\n",
    "1- Streamflow observations (Water Survey Canada station 02RD003)\n",
    "\n",
    "2- Watershed boundaries in the form of shapefiles (all shape files .shp, .shx, .prj, .dbf, etc. zipped into a single file. The platform will detect and unzip the file to extract the required data)\n",
    "\n",
    "The rest will be done by PAVICS-Hydro."
   ]
  },
  {
   "cell_type": "code",
   "execution_count": 1,
   "metadata": {},
   "outputs": [
    {
     "data": {
      "text/html": [
       "<div>\n",
       "<style scoped>\n",
       "    .dataframe tbody tr th:only-of-type {\n",
       "        vertical-align: middle;\n",
       "    }\n",
       "\n",
       "    .dataframe tbody tr th {\n",
       "        vertical-align: top;\n",
       "    }\n",
       "\n",
       "    .dataframe thead th {\n",
       "        text-align: right;\n",
       "    }\n",
       "</style>\n",
       "<table border=\"1\" class=\"dataframe\">\n",
       "  <thead>\n",
       "    <tr style=\"text-align: right;\">\n",
       "      <th></th>\n",
       "      <th>features</th>\n",
       "      <th>Name</th>\n",
       "      <th>OfficialID</th>\n",
       "      <th>FlagPAVICS</th>\n",
       "      <th>Source</th>\n",
       "      <th>Area</th>\n",
       "      <th>geometry</th>\n",
       "    </tr>\n",
       "  </thead>\n",
       "  <tbody>\n",
       "    <tr>\n",
       "      <th>0</th>\n",
       "      <td>1</td>\n",
       "      <td>MISTASSINI (RIVIERE) EN AMONT DE LA RIVIERE MI...</td>\n",
       "      <td>02RD003</td>\n",
       "      <td>1</td>\n",
       "      <td>HYDAT</td>\n",
       "      <td>9870</td>\n",
       "      <td>POLYGON ((-72.26250 48.87917, -72.27720 48.881...</td>\n",
       "    </tr>\n",
       "  </tbody>\n",
       "</table>\n",
       "</div>"
      ],
      "text/plain": [
       "   features                                               Name OfficialID  \\\n",
       "0         1  MISTASSINI (RIVIERE) EN AMONT DE LA RIVIERE MI...    02RD003   \n",
       "\n",
       "   FlagPAVICS Source  Area                                           geometry  \n",
       "0           1  HYDAT  9870  POLYGON ((-72.26250 48.87917, -72.27720 48.881...  "
      ]
     },
     "metadata": {},
     "output_type": "display_data"
    },
    {
     "data": {
      "text/plain": [
       "<AxesSubplot:>"
      ]
     },
     "execution_count": 1,
     "metadata": {},
     "output_type": "execute_result"
    },
    {
     "data": {
      "image/png": "[encoded data removed]",
      "text/plain": [
       "<Figure size 432x288 with 1 Axes>"
      ]
     },
     "metadata": {
      "needs_background": "light"
     },
     "output_type": "display_data"
    }
   ],
   "source": [
    "# We need to import a few packages required to do the work\n",
    "import json\n",
    "import os\n",
    "import warnings\n",
    "from zipfile import ZipFile\n",
    "\n",
    "import geopandas as gpd\n",
    "import matplotlib.pyplot as plt\n",
    "import numpy as np\n",
    "import rasterio\n",
    "import rioxarray as rio\n",
    "import xarray as xr\n",
    "from birdy import WPSClient\n",
    "\n",
    "# The platform provides lots of user warnings and information points. We will disable them for now.\n",
    "warnings.filterwarnings(\"ignore\")\n",
    "\n",
    "# This is the URL of the Geoserver that will perform the computations for us.\n",
    "url = os.environ.get(\n",
    "    \"WPS_URL\", \"https://pavics.ouranos.ca/twitcher/ows/proxy/raven/wps\"\n",
    ")\n",
    "\n",
    "# Connect to the PAVICS-Hydro Raven WPS server\n",
    "wps = WPSClient(url)\n",
    "\n",
    "# Name of the watershed boundaries file that is uploaded to the server\n",
    "feature_url = \"shapefile_basin_574_HYSETS.zip\"\n",
    "\n",
    "# Prepare a plot of the catchment\n",
    "df = gpd.read_file(feature_url)\n",
    "display(df)\n",
    "df.plot()"
   ]
  },
  {
   "cell_type": "markdown",
   "metadata": {},
   "source": [
    "## Generic watershed properties\n",
    "\n",
    "Now that we have delineated a watershed, lets find the zonal statistics and other properties using the `shape_properties` process. This process requires a `shape` argument defining the watershed contour, the exterior polygon.\n",
    "\n",
    "Once the process has completed, we extract the data from the response, as follows. Note that you do not need to change anything here. The code will work and return the desired results."
   ]
  },
  {
   "cell_type": "code",
   "execution_count": 2,
   "metadata": {},
   "outputs": [
    {
     "data": {
      "text/plain": [
       "{'id': '0',\n",
       " 'features': 1,\n",
       " 'Name': 'MISTASSINI (RIVIERE) EN AMONT DE LA RIVIERE MISTASSIBI',\n",
       " 'OfficialID': '02RD003',\n",
       " 'FlagPAVICS': 1,\n",
       " 'Source': 'HYDAT',\n",
       " 'Area': 9870,\n",
       " 'area': 9569366229.461872,\n",
       " 'centroid': [-72.7431067594341, 49.848278236356585],\n",
       " 'perimeter': 727186.8545423769,\n",
       " 'gravelius': 2.0970051622223544}"
      ]
     },
     "metadata": {},
     "output_type": "display_data"
    },
    {
     "data": {
      "text/plain": [
       "{'area': 9569.366229461872,\n",
       " 'longitude': -72.7431067594341,\n",
       " 'latitude': 49.848278236356585,\n",
       " 'gravelius': 2.0970051622223544,\n",
       " 'perimeter': 727186.8545423769}"
      ]
     },
     "metadata": {},
     "output_type": "display_data"
    }
   ],
   "source": [
    "shape_resp = wps.shape_properties(shape=feature_url)\n",
    "\n",
    "[\n",
    "    properties,\n",
    "] = shape_resp.get(asobj=True)\n",
    "prop = properties[0]\n",
    "display(prop)\n",
    "\n",
    "area = prop[\"area\"] / 1000000.0\n",
    "longitude = prop[\"centroid\"][0]\n",
    "latitude = prop[\"centroid\"][1]\n",
    "gravelius = prop[\"gravelius\"]\n",
    "perimeter = prop[\"perimeter\"]\n",
    "\n",
    "shape_info = {\n",
    "    \"area\": area,\n",
    "    \"longitude\": longitude,\n",
    "    \"latitude\": latitude,\n",
    "    \"gravelius\": gravelius,\n",
    "    \"perimeter\": perimeter,\n",
    "}\n",
    "display(shape_info)"
   ]
  },
  {
   "cell_type": "markdown",
   "metadata": {},
   "source": [
    "Note that these properties are a mix of the properties of the original file where the shape is stored, and properties computed by the process (area, centroid, perimeter and gravelius). Note also that the computed area is in m², while the \"SUB_AREA\" property is in km², and that there are slight differences between the two values due to the precision of HydroSHEDS and the delineation algorithm.\n",
    "\n",
    "## Land-use information\n",
    "\n",
    "Now we extract the land-use properties of the watershed using the `nalcms_zonal_stats` process. As mentionned, it uses the [North American Land Change Monitoring System](http://www.cec.org/tools-and-resources/north-american-environmental-atlas/north-american-land-change-monitoring-system) dataset, and retrieve properties over the given region.\n",
    "\n",
    "With the `nalcms_zonal_stats_raster` process, we also return the grid with variable accessors (`gdal`, `rasterio`, or `rioxarray`) depending on what libraries are available in our runtime environment (The following examples show `rioxarray`-like access)."
   ]
  },
  {
   "cell_type": "code",
   "execution_count": 3,
   "metadata": {},
   "outputs": [],
   "source": [
    "stats_resp = wps.nalcms_zonal_stats_raster(\n",
    "    shape=feature_url, select_all_touching=True, band=1, simple_categories=True\n",
    ")"
   ]
  },
  {
   "cell_type": "markdown",
   "metadata": {},
   "source": [
    "Here we will get the raster data and compute statistics on it. It is also possible to download the extracted raseter offline (please see the tutorial for the steps on how to do this)."
   ]
  },
  {
   "cell_type": "code",
   "execution_count": 4,
   "metadata": {},
   "outputs": [
    {
     "name": "stdout",
     "output_type": "stream",
     "text": [
      "Downloading to /tmp/tmp6bmgq3k0/subset_1.tiff.\n"
     ]
    },
    {
     "data": {
      "text/plain": [
       "'Land use ratios'"
      ]
     },
     "metadata": {},
     "output_type": "display_data"
    },
    {
     "data": {
      "text/plain": [
       "{'Ocean': 0.0,\n",
       " 'Forest': 0.7246596208414477,\n",
       " 'Shrubs': 0.14616312094792794,\n",
       " 'Grass': 0.04322426804857576,\n",
       " 'Wetland': 0.013300924493021603,\n",
       " 'Crops': 0.00395034960218003,\n",
       " 'Urban': 0.0035571063310866975,\n",
       " 'Water': 0.06514460973576021,\n",
       " 'SnowIce': 0.0}"
      ]
     },
     "metadata": {},
     "output_type": "display_data"
    },
    {
     "data": {
      "text/plain": [
       "'Land use percentages'"
      ]
     },
     "metadata": {},
     "output_type": "display_data"
    },
    {
     "data": {
      "text/plain": [
       "{'Ocean': '0.0 %',\n",
       " 'Forest': '72.47 %',\n",
       " 'Shrubs': '14.62 %',\n",
       " 'Grass': '4.32 %',\n",
       " 'Wetland': '1.33 %',\n",
       " 'Crops': '0.4 %',\n",
       " 'Urban': '0.36 %',\n",
       " 'Water': '6.51 %',\n",
       " 'SnowIce': '0.0 %'}"
      ]
     },
     "metadata": {},
     "output_type": "display_data"
    }
   ],
   "source": [
    "features, statistics, grid0 = stats_resp.get(asobj=True)\n",
    "lu = statistics[0]\n",
    "total = sum(lu.values())\n",
    "\n",
    "land_use = {k: (v / total) for (k, v) in lu.items()}\n",
    "display(\"Land use ratios\", land_use)\n",
    "\n",
    "land_use_pct = {k: f\"{np.round(v/total*100, 2)} %\" for (k, v) in lu.items()}\n",
    "display(\"Land use percentages\", land_use_pct)"
   ]
  },
  {
   "cell_type": "markdown",
   "metadata": {},
   "source": [
    "## Terrain information from the DEM\n",
    "\n",
    "Here we collect terrain data, such as elevation, slope and aspect, from the DEM. We will do this using the `terrain_analysis` WPS service, which by default uses DEM data from [EarthEnv-DEM90](https://www.earthenv.org/DEM).\n",
    "\n",
    "Note here that while the feature outline is defined above in terms of geographic coordinates (latitude, longitude), the DEM is projected onto a 2D cartesian coordinate system (here NAD83, the Canada Atlas Lambert projection). This is necessary to perform slope calculations. For more information on this, see: https://en.wikipedia.org/wiki/Map_projection\n",
    "\n",
    "The DEM data returned in the process response here shows `rioxarray`-like access but using the URLs we can open the files however we like."
   ]
  },
  {
   "cell_type": "code",
   "execution_count": 5,
   "metadata": {},
   "outputs": [
    {
     "data": {
      "text/plain": [
       "{'elevation': 423.6657935442332,\n",
       " 'slope': 3.949426174669343,\n",
       " 'aspect': 148.5591531205915}"
      ]
     },
     "metadata": {},
     "output_type": "display_data"
    }
   ],
   "source": [
    "terrain_resp = wps.terrain_analysis(\n",
    "    shape=feature_url, select_all_touching=True, projected_crs=3978\n",
    ")\n",
    "\n",
    "properties, dem0 = terrain_resp.get(asobj=True)\n",
    "\n",
    "elevation = properties[0][\"elevation\"]\n",
    "slope = properties[0][\"slope\"]\n",
    "aspect = properties[0][\"aspect\"]\n",
    "\n",
    "terrain = {\"elevation\": elevation, \"slope\": slope, \"aspect\": aspect}\n",
    "display(terrain)"
   ]
  },
  {
   "cell_type": "markdown",
   "metadata": {},
   "source": [
    "## Overview\n",
    "\n",
    "A synthesis of all watershed properties can be created by merging the various dictionaries created. This allows users to easily access any of these values, and to provide them to a Raven model as needed."
   ]
  },
  {
   "cell_type": "code",
   "execution_count": 6,
   "metadata": {
    "pycharm": {
     "name": "#%%\n"
    }
   },
   "outputs": [
    {
     "data": {
      "text/plain": [
       "{'area': 9569.366229461872,\n",
       " 'longitude': -72.7431067594341,\n",
       " 'latitude': 49.848278236356585,\n",
       " 'gravelius': 2.0970051622223544,\n",
       " 'perimeter': 727186.8545423769,\n",
       " 'Ocean': 0.0,\n",
       " 'Forest': 0.7246596208414477,\n",
       " 'Shrubs': 0.14616312094792794,\n",
       " 'Grass': 0.04322426804857576,\n",
       " 'Wetland': 0.013300924493021603,\n",
       " 'Crops': 0.00395034960218003,\n",
       " 'Urban': 0.0035571063310866975,\n",
       " 'Water': 0.06514460973576021,\n",
       " 'SnowIce': 0.0,\n",
       " 'elevation': 423.6657935442332,\n",
       " 'slope': 3.949426174669343,\n",
       " 'aspect': 148.5591531205915}"
      ]
     },
     "metadata": {},
     "output_type": "display_data"
    }
   ],
   "source": [
    "all_properties = {**shape_info, **land_use, **terrain}\n",
    "display(all_properties)"
   ]
  },
  {
   "cell_type": "markdown",
   "metadata": {},
   "source": [
    "## Getting input data\n",
    "\n",
    "Now that we have all the geographic information for our watershed, we can get the input meteorological data required to calibrate and run the model. Here we use an in-house solution that keeps updated ERA5 reanalysis datasets available with little to no wait."
   ]
  },
  {
   "cell_type": "code",
   "execution_count": 7,
   "metadata": {},
   "outputs": [],
   "source": [
    "import datetime as dt\n",
    "\n",
    "import fsspec\n",
    "import intake\n",
    "import s3fs\n",
    "from clisops.core import subset\n",
    "\n",
    "# This will be our input section, where we control what we want to extract.\n",
    "# We know which watershed interests us, it is the shapefile we used to get geographic data:\n",
    "\n",
    "basin_contour = \"shapefile_basin_574_HYSETS.zip\"  # Contains .shp, .shx and other shapefile extension files\n",
    "\n",
    "# Also, we can specify which timeframe we want to extract. Here let's focus on a 10-year period\n",
    "reference_start_day = dt.datetime(1980, 12, 31)\n",
    "reference_stop_day = dt.datetime(1991, 1, 1)\n",
    "# Notice we are using one day before and one day after the desired period of 1981-01-01 to 1990-12-31.\n",
    "# This is to account for any UTC shifts that might require getting data in a previous or later time.\n",
    "\n",
    "\n",
    "# Get the ERA5 data from the Wasabi/Amazon S3 server.\n",
    "catalog_name = \"https://raw.githubusercontent.com/hydrocloudservices/catalogs/main/catalogs/atmosphere.yaml\"\n",
    "cat = intake.open_catalog(catalog_name)\n",
    "ds = cat.era5_reanalysis_single_levels.to_dask()\n",
    "\n",
    "\"\"\"\n",
    "Get the ERA5 data. We will rechunk it to a single chunck to make it compatible with other codes on the platform, especially bias-correction.\n",
    "We are also taking the daily min and max temperatures as well as the daily total precipitation.\n",
    "\"\"\"\n",
    "# We will add a wrapper to ensure that the following operations will preserve the original data attributes, such as units and variable names.\n",
    "with xr.set_options(keep_attrs=True):\n",
    "\n",
    "    ERA5_reference = subset.subset_shape(\n",
    "        ds.sel(time=slice(reference_start_day, reference_stop_day)), basin_contour\n",
    "    )\n",
    "    ERA5_tmin = ERA5_reference[\"t2m\"].resample(time=\"1D\").min().chunk(-1, -1, -1)\n",
    "    ERA5_tmax = ERA5_reference[\"t2m\"].resample(time=\"1D\").max().chunk(-1, -1, -1)\n",
    "    ERA5_pr = ERA5_reference[\"tp\"].resample(time=\"1D\").sum().chunk(-1, -1, -1)\n",
    "\n",
    "    # Change the units\n",
    "    ERA5_tmin = ERA5_tmin - 273.15  # K to °C\n",
    "    ERA5_tmin.attrs[\"units\"] = \"degC\"\n",
    "\n",
    "    ERA5_tmax = ERA5_tmax - 273.15  # K to °C\n",
    "    ERA5_tmax.attrs[\"units\"] = \"degC\"\n",
    "\n",
    "    ERA5_pr = ERA5_pr * 1000  # m to mm\n",
    "    ERA5_pr.attrs[\"units\"] = \"mm\"\n",
    "\n",
    "    # Average the variables spatially\n",
    "    ERA5_tmin = ERA5_tmin.mean({\"latitude\", \"longitude\"})\n",
    "    ERA5_tmax = ERA5_tmax.mean({\"latitude\", \"longitude\"})\n",
    "    ERA5_pr = ERA5_pr.mean({\"latitude\", \"longitude\"})\n",
    "\n",
    "    # Ensure that the precipitation is non-negative, which can happen with some reanalysis models.\n",
    "    ERA5_pr[ERA5_pr < 0] = 0\n",
    "\n",
    "    # Transform them to a dataset such that they can be written with attributes to netcdf\n",
    "    ERA5_tmin = ERA5_tmin.to_dataset(name=\"tmin\", promote_attrs=True)\n",
    "    ERA5_tmax = ERA5_tmax.to_dataset(name=\"tmax\", promote_attrs=True)\n",
    "    ERA5_pr = ERA5_pr.to_dataset(name=\"pr\", promote_attrs=True)\n",
    "\n",
    "    # Write to disk.\n",
    "    ERA5_tmin.to_netcdf(\"ERA5_tmin.nc\")\n",
    "    ERA5_tmax.to_netcdf(\"ERA5_tmax.nc\")\n",
    "    ERA5_pr.to_netcdf(\"ERA5_pr.nc\")"
   ]
  },
  {
   "cell_type": "markdown",
   "metadata": {},
   "source": [
    "## Set-up the hydrological model\n",
    "\n",
    "Now that we have geographic and meteorological input data available, we can setup a Raven hydrological model and calibrate it. Many more details can be found in the documentation and tutorial notebooks. Note that the cell will take a bit of time to run as the model is being calibrated. "
   ]
  },
  {
   "cell_type": "code",
   "execution_count": 8,
   "metadata": {},
   "outputs": [
    {
     "name": "stdout",
     "output_type": "stream",
     "text": [
      "Nash-Sutcliffe value is: [0.6901]\n",
      "GR4JCN.Params(GR4J_X1=0.05489502, GR4J_X2=5.117167, GR4J_X3=555.5967, GR4J_X4=4.135658, CEMANEIGE_X1=25.37618, CEMANEIGE_X2=0.8970489)\n",
      "[5.489502e-02 5.117167e+00 5.555967e+02 4.135658e+00 2.537618e+01\n",
      " 8.970489e-01]\n"
     ]
    }
   ],
   "source": [
    "# Import the template for our model, which will be the GR4J model with the CemaNeige snow model in our case.\n",
    "from ravenpy.models import GR4JCN, GR4JCN_OST\n",
    "\n",
    "# Combine the input and streamflow data into a single element that will be passed to Raven\n",
    "forcing = (\"ERA5_tmax.nc\", \"ERA5_tmin.nc\", \"ERA5_pr.nc\", \"Qobs_574_HYSETS.nc\")\n",
    "\n",
    "# Using Ostrich with the GR4JCN model. Start by creating the calibration model\n",
    "model = GR4JCN_OST()\n",
    "\n",
    "# Create the HRU for the watershed\n",
    "hru = GR4JCN.LandHRU(\n",
    "    area=all_properties[\"area\"],\n",
    "    elevation=all_properties[\"elevation\"],\n",
    "    latitude=all_properties[\"latitude\"],\n",
    "    longitude=all_properties[\"longitude\"],\n",
    ")\n",
    "\n",
    "# Establish the start date for the calibration\n",
    "import datetime as dt\n",
    "\n",
    "start_date = dt.datetime(1981, 1, 1)\n",
    "end_date = dt.datetime(1985, 12, 31)\n",
    "\n",
    "# Starting point parameters. We can provide this to help accelerate the calibration process, but they are not strictly necessary.\n",
    "params = (0.529, -3.396, 407.29, 1.072, 16.9, 0.053)\n",
    "\n",
    "# lower and upper bounds for the parameters. Note that there are 6 values, each corresponding to the GR4JCN parameter in that position.\n",
    "lower = (0.01, -15.0, 10.0, 0.0, 1.0, 0.0)\n",
    "upper = (2.5, 10.0, 700.0, 7.0, 30.0, 1.0)\n",
    "\n",
    "# Optimization algorithm. Multiple options are available, see OSTRICH documentation for more information. Here, DDS is used as it is powerful and\n",
    "# particularly useful for optimizations with small evaluation budgets. See:\n",
    "#\n",
    "# Tolson, B.A. and Shoemaker, C.A., 2007. Dynamically dimensioned search algorithm for computationally efficient watershed model calibration. Water\n",
    "# Resources Research, 43(1)\n",
    "#\n",
    "# for more details.\n",
    "algorithm = \"DDS\"\n",
    "\n",
    "# Maximum number of model evaluations. We only use 200 here to keep the computation time as low as possible, but you will want to increase this\n",
    "# for operational use, perhaps to 500 or 1000.\n",
    "max_iterations = 200\n",
    "\n",
    "# Random seed. We will provide one for consistency purposes, but operationnaly this should not be provided.\n",
    "random_seed = 0\n",
    "\n",
    "# Here is where we launch the model calibration with the desired parameters and options. The process builds the model in the background and will return optimized parameters.\n",
    "model(\n",
    "    ts=forcing,\n",
    "    hrus=(hru,),\n",
    "    start_date=start_date,\n",
    "    end_date=end_date,\n",
    "    params=params,\n",
    "    lowerBounds=lower,\n",
    "    upperBounds=upper,\n",
    "    algorithm=algorithm,\n",
    "    random_seed=random_seed,  # Remove this for operational use!\n",
    "    max_iterations=max_iterations,\n",
    "    overwrite=True,\n",
    ")\n",
    "\n",
    "# Get the model diagnostics including Nash-Sutcliffe Efficiency\n",
    "d = model.diagnostics\n",
    "\n",
    "# Print the NSE and the parameter set in 2 different ways:\n",
    "print(\"Nash-Sutcliffe value is: \" + str(d[\"DIAG_NASH_SUTCLIFFE\"]))\n",
    "print(model.calibrated_params)  # With explanations of what these parameters are\n",
    "print(\n",
    "    model.optimized_parameters\n",
    ")  # Just the array that could be used in another process. This is what people will typically want to use."
   ]
  },
  {
   "cell_type": "markdown",
   "metadata": {},
   "source": [
    "## Run the calibrated hydrological model on a validation period\n",
    "\n",
    "Now that the hydrological model has been calibrated, we can use these parameters to run the model on an independent period for validation"
   ]
  },
  {
   "cell_type": "code",
   "execution_count": 9,
   "metadata": {},
   "outputs": [
    {
     "data": {
      "text/plain": [
       "defaultdict(list,\n",
       "            {'observed data series': ['HYDROGRAPH_ALL'],\n",
       "             'filename': ['Qobs_574_HYSETS.nc'],\n",
       "             'DIAG_NASH_SUTCLIFFE': [0.485837],\n",
       "             'DIAG_RMSE': [136.853]})"
      ]
     },
     "execution_count": 9,
     "metadata": {},
     "output_type": "execute_result"
    }
   ],
   "source": [
    "# Instantiate a GR4JCN model\n",
    "model_validation = GR4JCN()\n",
    "\n",
    "# Run the model with validation period dates and data, as well as calibrated parameters. Notice that the forcing data stays the same: Raven will select the data of the correct dates from the forcing data.\n",
    "model_validation(\n",
    "    ts=forcing,\n",
    "    start_date=dt.datetime(1986, 1, 1),\n",
    "    end_date=dt.datetime(1990, 12, 31),\n",
    "    hrus=(\n",
    "        hru,\n",
    "    ),  # Careful how this must be passed! This is due to the capability of running in distributed mode as well.\n",
    "    params=model.optimized_parameters,\n",
    "    overwrite=True,  # OPTIONAL: We can do this to overwrite old files with the new ones generated in this run (output files, etc.)\n",
    ")\n",
    "\n",
    "# plot the diagnostics so we can see the validation Nash-Sutcliffe Efficiency:\n",
    "model_validation.diagnostics"
   ]
  },
  {
   "cell_type": "markdown",
   "metadata": {},
   "source": [
    "## Save parameters and properties for future use\n",
    "\n",
    "We can now save the calibrated parameters and basin properties for use in the second example, where we will look at the impacts of climate change."
   ]
  },
  {
   "cell_type": "code",
   "execution_count": 10,
   "metadata": {},
   "outputs": [],
   "source": [
    "np.savetxt(\n",
    "    \"optimized_parameters_GR4JCN_basin_574_HYSETS.txt\", model.optimized_parameters\n",
    ")\n",
    "json.dump(all_properties, open(\"properties_basin_574_HYSETS.txt\", \"w\"))"
   ]
  }
 ],
 "metadata": {
  "kernelspec": {
   "display_name": "Python 3 (ipykernel)",
   "language": "python",
   "name": "python3"
  },
  "language_info": {
   "codemirror_mode": {
    "name": "ipython",
    "version": 3
   },
   "file_extension": ".py",
   "mimetype": "text/x-python",
   "name": "python",
   "nbconvert_exporter": "python",
   "pygments_lexer": "ipython3",
   "version": "3.8.13"
  }
 },
 "nbformat": 4,
 "nbformat_minor": 4
}
