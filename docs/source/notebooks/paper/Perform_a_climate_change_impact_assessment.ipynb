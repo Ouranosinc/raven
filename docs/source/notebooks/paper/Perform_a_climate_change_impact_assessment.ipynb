{
 "cells": [
  {
   "cell_type": "markdown",
   "id": "12ea4c8a-ac6a-4ad0-b0d7-1aa3dbf39fa9",
   "metadata": {},
   "source": [
    "# Evaluate the impacts of climate change on streamflow\n",
    "\n",
    "This notebook shows how we can work with climate model data to evaluate the impacts of climate change on hydrology. We will apply a processing chain to the data from the previous example on the Mistassini catchment and we will see how to implement the full \n",
    "process in PAVICS-Hydro.\n",
    "\n",
    "We will first start by setting up the required information to make a GR4JCN model, including calibrated parameters and properties generated in the previous example: "
   ]
  },
  {
   "cell_type": "code",
   "execution_count": 1,
   "id": "01c1784a-5527-4a9f-9829-d8593aecf204",
   "metadata": {},
   "outputs": [],
   "source": [
    "# Import required packages\n",
    "import datetime as dt\n",
    "import json\n",
    "import warnings\n",
    "\n",
    "import gcsfs\n",
    "import intake\n",
    "import numpy as np\n",
    "import xarray as xr\n",
    "import xclim\n",
    "import xclim.sdba as sdba\n",
    "from clisops.core import average, subset\n",
    "from ravenpy.models import GR4JCN\n",
    "\n",
    "# The platform provides lots of user warnings and information points. We will disable them for now.\n",
    "warnings.filterwarnings(\"ignore\")\n",
    "\n",
    "# Load the properties and calibrated parameters from the previous example\n",
    "all_properties = json.load(open(\"properties_basin_574_HYSETS.txt\"))\n",
    "parameters = np.loadtxt(\"optimized_parameters_GR4JCN_basin_574_HYSETS.txt\")\n",
    "\n",
    "# Get the basin contour shapefile, as the previous example\n",
    "basin_contour = \"shapefile_basin_574_HYSETS.zip\"\n",
    "\n",
    "# Setup the GR4JCN HRU that will be used to build the model later, making use of the previously-obtained catchment properties\n",
    "hru = GR4JCN.LandHRU(\n",
    "    area=all_properties[\"area\"],\n",
    "    elevation=all_properties[\"elevation\"],\n",
    "    latitude=all_properties[\"latitude\"],\n",
    "    longitude=all_properties[\"longitude\"],\n",
    ")"
   ]
  },
  {
   "cell_type": "markdown",
   "id": "4be57177-ad3d-4fab-9f65-c7289dca5719",
   "metadata": {},
   "source": [
    "## Extract climate model data\n",
    "\n",
    "PAVICS-Hydro makes use of the PanGEO catalog to obtain CMIP6 project data directly from Google Cloud Services. This makes obtaining data much more efficient. This next section shows how to implement this data extraction for a climate model, but you can access more climate models and datasets by following the tutorial on PAVICS-Hydro."
   ]
  },
  {
   "cell_type": "code",
   "execution_count": 2,
   "id": "98b92acb-46bb-4bfa-914c-23be01f01e3b",
   "metadata": {},
   "outputs": [
    {
     "name": "stdout",
     "output_type": "stream",
     "text": [
      "historical tasmin\n"
     ]
    },
    {
     "name": "stderr",
     "output_type": "stream",
     "text": [
      "hwloc/linux: Ignoring PCI device with non-16bit domain.\n",
      "Pass --enable-32bits-pci-domain to configure to support such devices\n",
      "(warning: it would break the library ABI, don't enable unless really needed).\n"
     ]
    },
    {
     "name": "stdout",
     "output_type": "stream",
     "text": [
      "historical tasmax\n",
      "historical pr\n",
      "ssp585 tasmin\n",
      "ssp585 tasmax\n",
      "ssp585 pr\n"
     ]
    }
   ],
   "source": [
    "# Start by setting up the reference and future start and end days. Reference data is used to calibrate the bias-correction algorithms that will be applied to the future data.\n",
    "reference_start_day = dt.datetime(1980, 1, 1) - dt.timedelta(days=1)\n",
    "reference_end_day = dt.datetime(1991, 12, 31) + dt.timedelta(\n",
    "    days=1\n",
    ")  # Notice we are using one day before and one day after the desired period of 1981-01-01 to 1990-12-31. This is to account for any UTC shifts that might require getting data in a previous or later time.\n",
    "future_start_day = dt.datetime(2080, 1, 1) - dt.timedelta(days=1)\n",
    "future_end_day = dt.datetime(2091, 12, 31) + dt.timedelta(\n",
    "    days=1\n",
    ")  # Notice we are using one day before and one day after the desired period of 2080-01-01 to 2090-12-31. This is to account for any UTC shifts that might require getting data in a previous or later time.\n",
    "\n",
    "# Climate model to use\n",
    "climate_model = \"MIROC6\"\n",
    "\n",
    "\n",
    "# Get the catalog info from the pangeo dataset, which basically is a list of links to the various products.\n",
    "fsCMIP = gcsfs.GCSFileSystem(token=\"anon\", access=\"read_only\")\n",
    "col = intake.open_esm_datastore(\n",
    "    \"https://storage.googleapis.com/cmip6/pangeo-cmip6.json\"\n",
    ")\n",
    "\n",
    "# We will add a wrapper to ensure that the following operations will preserve the original data attributes, such as units and variable names.\n",
    "with xr.set_options(keep_attrs=True):\n",
    "\n",
    "    # Load the files from the PanGEO catalogs, for reference and future variables of temperature and precipitation.\n",
    "    out = {}\n",
    "    for exp in [\"historical\", \"ssp585\"]:\n",
    "\n",
    "        if exp == \"historical\":\n",
    "            period_start = reference_start_day\n",
    "            period_end = reference_end_day\n",
    "        else:\n",
    "            period_start = future_start_day\n",
    "            period_end = future_end_day\n",
    "\n",
    "        out[exp] = {}\n",
    "        for variable in [\"tasmin\", \"tasmax\", \"pr\"]:\n",
    "            print(exp, variable)\n",
    "            query = dict(\n",
    "                experiment_id=exp,\n",
    "                table_id=\"day\",\n",
    "                variable_id=variable,\n",
    "                member_id=\"r1i1p1f1\",\n",
    "                source_id=climate_model,\n",
    "            )\n",
    "            col_subset = col.search(require_all_on=[\"source_id\"], **query)\n",
    "            mapper = fsCMIP.get_mapper(col_subset.df.zstore[0])\n",
    "\n",
    "            # special case for precipitation, which does not have the \"height\" variable that we need to discard as for tasmax and tasmin.\n",
    "            if variable == \"pr\":\n",
    "                out[exp][variable] = average.average_shape(\n",
    "                    xr.open_zarr(mapper, consolidated=True).sel(\n",
    "                        time=slice(period_start, period_end)\n",
    "                    )[variable],\n",
    "                    basin_contour,\n",
    "                ).chunk(-1)\n",
    "            else:\n",
    "                out[exp][variable] = average.average_shape(\n",
    "                    xr.open_zarr(mapper, consolidated=True)\n",
    "                    .sel(time=slice(period_start, period_end))\n",
    "                    .reset_coords(\"height\", drop=True)[variable],\n",
    "                    basin_contour,\n",
    "                ).chunk(-1)\n",
    "\n",
    "# We can now extract the variables that we will need later:\n",
    "historical_tasmax = out[\"historical\"][\"tasmax\"]\n",
    "historical_tasmin = out[\"historical\"][\"tasmin\"]\n",
    "historical_pr = out[\"historical\"][\"pr\"]\n",
    "future_tasmax = out[\"ssp585\"][\"tasmax\"]\n",
    "future_tasmin = out[\"ssp585\"][\"tasmin\"]\n",
    "future_pr = out[\"ssp585\"][\"pr\"]"
   ]
  },
  {
   "cell_type": "markdown",
   "id": "68461b69-bca1-4b77-bf3e-dab11c457f23",
   "metadata": {},
   "source": [
    "## Get the historical period data (observations or equivalent)\n",
    "\n",
    "These data were computed in the previous example, but we will re-extract them to keep the code easier to understand and integrate with other workflows."
   ]
  },
  {
   "cell_type": "code",
   "execution_count": 3,
   "id": "b08b0a67-216e-4799-9945-3a48c84809d8",
   "metadata": {},
   "outputs": [],
   "source": [
    "# Regenerate the ERA5 data to be sure. In an operational context, you could combine everything onto one notebook and ensure that the\n",
    "# dates and locations are constant!\n",
    "\n",
    "# Get the ERA5 data from the Wasabi/Amazon S3 server.\n",
    "catalog_name = \"https://raw.githubusercontent.com/hydrocloudservices/catalogs/main/catalogs/atmosphere.yaml\"\n",
    "cat = intake.open_catalog(catalog_name)\n",
    "ds = cat.era5_reanalysis_single_levels.to_dask()\n",
    "\n",
    "\"\"\"\n",
    "Get the ERA5 data. We will rechunk it to a single chunck to make it compatible with other codes on the platform, especially bias-correction.\n",
    "We are also taking the daily min and max temperatures as well as the daily total precipitation.\n",
    "\"\"\"\n",
    "# We will add a wrapper to ensure that the following operations will preserve the original data attributes, such as units and variable names.\n",
    "with xr.set_options(keep_attrs=True):\n",
    "\n",
    "    ERA5_reference = subset.subset_shape(\n",
    "        ds.sel(time=slice(reference_start_day, reference_end_day)), basin_contour\n",
    "    ).mean({\"latitude\", \"longitude\"})\n",
    "    ERA5_tmin = ERA5_reference[\"t2m\"].resample(time=\"1D\").min().chunk(-1, -1, -1)\n",
    "    ERA5_tmax = ERA5_reference[\"t2m\"].resample(time=\"1D\").max().chunk(-1, -1, -1)\n",
    "    ERA5_pr = ERA5_reference[\"tp\"].resample(time=\"1D\").sum().chunk(-1, -1, -1)"
   ]
  },
  {
   "cell_type": "markdown",
   "id": "3e0d6625-4f71-4c97-ad2e-9672cf94693b",
   "metadata": {},
   "source": [
    "## Change units\n",
    "\n",
    "Climate models and reanalysis datasets have often differing units to those expected by Raven. Here we update units to make them compatible"
   ]
  },
  {
   "cell_type": "code",
   "execution_count": 4,
   "id": "eb683cb1-94d1-44a9-9777-c0226cfb20f5",
   "metadata": {},
   "outputs": [],
   "source": [
    "# Here we need to make sure that our units are all in the correct format. You can play around with the tools we've seen thus far to explore the units\n",
    "# and make sure everything is consistent.\n",
    "\n",
    "# Let's start with precipitation:\n",
    "ERA5_pr = xclim.core.units.convert_units_to(ERA5_pr, \"mm\", context=\"hydro\")\n",
    "# The CMIP data is a rate rather than an absolute value, so let's get the absolute values:\n",
    "historical_pr = xclim.core.units.rate2amount(historical_pr)\n",
    "future_pr = xclim.core.units.rate2amount(future_pr)\n",
    "\n",
    "# Now we can actually convert units in absolute terms.\n",
    "historical_pr = xclim.core.units.convert_units_to(historical_pr, \"mm\", context=\"hydro\")\n",
    "future_pr = xclim.core.units.convert_units_to(future_pr, \"mm\", context=\"hydro\")\n",
    "\n",
    "# Now let's do temperature:\n",
    "ERA5_tmin = xclim.core.units.convert_units_to(ERA5_tmin, \"degC\")\n",
    "ERA5_tmax = xclim.core.units.convert_units_to(ERA5_tmax, \"degC\")\n",
    "historical_tasmin = xclim.core.units.convert_units_to(historical_tasmin, \"degC\")\n",
    "historical_tasmax = xclim.core.units.convert_units_to(historical_tasmax, \"degC\")\n",
    "future_tasmin = xclim.core.units.convert_units_to(future_tasmin, \"degC\")\n",
    "future_tasmax = xclim.core.units.convert_units_to(future_tasmax, \"degC\")"
   ]
  },
  {
   "cell_type": "markdown",
   "id": "08fafb98-77c5-4c66-ac1a-c22a39ff65f2",
   "metadata": {},
   "source": [
    "## Apply bias-correction to the climate model data\n",
    "\n",
    "Here is where we perform the bias-correction to the reference and future climate data in order to remove biases as seen between the reference and historical data. The future dataset is then corrected with the same adjustment factors as those in the reference period."
   ]
  },
  {
   "cell_type": "code",
   "execution_count": 5,
   "id": "dc552048-2ae2-4806-aab4-344697dd1b4d",
   "metadata": {},
   "outputs": [],
   "source": [
    "# Use xclim utilities (sbda) to give information on the type of window used for the bias correction.\n",
    "group_month_window = sdba.utils.Grouper(\"time.dayofyear\", window=15)\n",
    "\n",
    "# This is an adjusting function. It builds the tool that will perform the corrections.\n",
    "Adjustment = sdba.DetrendedQuantileMapping.train(\n",
    "    ref=ERA5_pr, hist=historical_pr, nquantiles=50, kind=\"+\", group=group_month_window\n",
    ")\n",
    "\n",
    "# Apply the correction factors on the reference period\n",
    "corrected_ref_precip = Adjustment.adjust(historical_pr, interp=\"linear\")\n",
    "\n",
    "# Apply the correction factors on the future period\n",
    "corrected_fut_precip = Adjustment.adjust(future_pr, interp=\"linear\")\n",
    "\n",
    "# Ensure that the precipitation is non-negative, which can happen with some climate models\n",
    "corrected_ref_precip = corrected_ref_precip.where(corrected_ref_precip > 0, 0)\n",
    "corrected_fut_precip = corrected_fut_precip.where(corrected_fut_precip > 0, 0)\n",
    "\n",
    "# Train the model to find the correction factors for the maximum temperature (tasmax) data\n",
    "Adjustment = sdba.DetrendedQuantileMapping.train(\n",
    "    ref=ERA5_tmax,\n",
    "    hist=historical_tasmax,\n",
    "    nquantiles=50,\n",
    "    kind=\"+\",\n",
    "    group=group_month_window,\n",
    ")\n",
    "\n",
    "# Apply the correction factors on the reference period\n",
    "corrected_ref_tasmax = Adjustment.adjust(historical_tasmax, interp=\"linear\")\n",
    "\n",
    "# Apply the correction factors on the future period\n",
    "corrected_fut_tasmax = Adjustment.adjust(future_tasmax, interp=\"linear\")\n",
    "\n",
    "# Train the model to find the correction factors for the minimum temperature (tasmin) data\n",
    "Adjustment = sdba.DetrendedQuantileMapping.train(\n",
    "    ref=ERA5_tmin,\n",
    "    hist=historical_tasmin,\n",
    "    nquantiles=50,\n",
    "    kind=\"+\",\n",
    "    group=group_month_window,\n",
    ")\n",
    "\n",
    "# Apply the correction factors on the reference period\n",
    "corrected_ref_tasmin = Adjustment.adjust(historical_tasmin, interp=\"linear\")\n",
    "\n",
    "# Apply the correction factors on the future period\n",
    "corrected_fut_tasmin = Adjustment.adjust(future_tasmin, interp=\"linear\")"
   ]
  },
  {
   "cell_type": "markdown",
   "id": "e90ff1e8-b473-42e6-a692-5fc4e335f7cc",
   "metadata": {},
   "source": [
    "## Generate the NetCDF files\n",
    "\n",
    "Now that the datasets are created, we can generate files so that Raven can access them. This might take a bit of time since everything up until now has been done in a \"lazy\" framework by Python. Data processing is actually just now really starting."
   ]
  },
  {
   "cell_type": "code",
   "execution_count": 6,
   "id": "ecb69825-d452-4bf7-b8a8-34fdafe6d82c",
   "metadata": {},
   "outputs": [],
   "source": [
    "# Convert the reference corrected data into netCDF file. We will then apply a special code to remove a dimension in the dataset to make it applicable to the RAVEN models.\n",
    "ref_dataset = xr.merge(\n",
    "    [\n",
    "        corrected_ref_precip.to_dataset(name=\"pr\"),\n",
    "        corrected_ref_tasmax.to_dataset(name=\"tasmax\"),\n",
    "        corrected_ref_tasmin.to_dataset(name=\"tasmin\"),\n",
    "    ]\n",
    ")\n",
    "ref_dataset.to_netcdf(\"reference_dataset_tmp.nc\")\n",
    "\n",
    "# Convert the future corrected data into netCDF file\n",
    "fut_dataset = xr.merge(\n",
    "    [\n",
    "        corrected_fut_precip.to_dataset(name=\"pr\"),\n",
    "        corrected_fut_tasmax.to_dataset(name=\"tasmax\"),\n",
    "        corrected_fut_tasmin.to_dataset(name=\"tasmin\"),\n",
    "    ]\n",
    ")\n",
    "fut_dataset.to_netcdf(\"future_dataset_tmp.nc\")\n",
    "\n",
    "ref_dataset = xr.open_dataset(\"reference_dataset_tmp.nc\")\n",
    "ref_dataset.isel(geom=0).squeeze().to_netcdf(\"reference_dataset.nc\")\n",
    "\n",
    "fut_dataset = xr.open_dataset(\"future_dataset_tmp.nc\")\n",
    "fut_dataset.isel(geom=0).squeeze().to_netcdf(\"future_dataset.nc\")"
   ]
  },
  {
   "cell_type": "markdown",
   "id": "ef2fe5bb-f610-49ee-a58b-979ac7ae6459",
   "metadata": {},
   "source": [
    "## Run the hydrological model with reference and future data\n",
    "\n",
    "Now that we have all the data we need for the reference and future periods, we can now run GR4JCN to obtain streamflow representative of each period."
   ]
  },
  {
   "cell_type": "code",
   "execution_count": 7,
   "id": "c0881a46-e0c1-4cbf-95ba-b761658b5a09",
   "metadata": {},
   "outputs": [
    {
     "data": {
      "text/plain": [
       "[<matplotlib.lines.Line2D at 0x7f151ada5ee0>]"
      ]
     },
     "execution_count": 7,
     "metadata": {},
     "output_type": "execute_result"
    },
    {
     "data": {
      "image/png": "[encoded data removed]",
      "text/plain": [
       "<Figure size 432x288 with 1 Axes>"
      ]
     },
     "metadata": {
      "needs_background": "light"
     },
     "output_type": "display_data"
    }
   ],
   "source": [
    "# Start a model instance, in this case a GR4JCN model emulator.\n",
    "model = GR4JCN()\n",
    "\n",
    "# Model configuration parameters that will be used for the simulation for both the reference and future periods.\n",
    "common_run_parameters = dict(\n",
    "    area=all_properties[\"area\"],\n",
    "    elevation=all_properties[\"elevation\"],\n",
    "    latitude=all_properties[\"latitude\"],\n",
    "    longitude=all_properties[\"longitude\"],\n",
    "    params=parameters,\n",
    "    rain_snow_fraction=\"RAINSNOW_DINGMAN\",\n",
    ")\n",
    "\n",
    "forcing = \"reference_dataset.nc\"\n",
    "\n",
    "# Run the hydrological model using our forcing data from the reference period, and with the common parameters that will also be used for the future period simulation.\n",
    "model(\n",
    "    forcing,\n",
    "    start_date=reference_start_day + dt.timedelta(days=1),\n",
    "    end_date=reference_end_day - dt.timedelta(days=1),\n",
    "    **common_run_parameters,\n",
    ")\n",
    "\n",
    "# Now plot the results\n",
    "model.hydrograph.q_sim.plot()"
   ]
  },
  {
   "cell_type": "markdown",
   "id": "7356dc3c-76b8-41a7-9210-9cad4a35ca21",
   "metadata": {},
   "source": [
    "### Now redo the same thing but for the future period."
   ]
  },
  {
   "cell_type": "code",
   "execution_count": 8,
   "id": "4d6e838f-f311-4a6b-a3c1-d7301be3dd17",
   "metadata": {},
   "outputs": [
    {
     "data": {
      "text/plain": [
       "[<matplotlib.lines.Line2D at 0x7f154d8c2e50>]"
      ]
     },
     "execution_count": 8,
     "metadata": {},
     "output_type": "execute_result"
    },
    {
     "data": {
      "image/png": "[encoded data removed]",
      "text/plain": [
       "<Figure size 432x288 with 1 Axes>"
      ]
     },
     "metadata": {
      "needs_background": "light"
     },
     "output_type": "display_data"
    }
   ],
   "source": [
    "# Start a new model instance\n",
    "model = GR4JCN()\n",
    "\n",
    "# Accessing the future data we just created -- notice it is now the \"future_dataset.nc\" instead of the \"reference_dataset.nc\"\n",
    "# Model configuration parameters\n",
    "model(\n",
    "    ts=\"future_dataset.nc\",\n",
    "    start_date=future_start_day\n",
    "    + dt.timedelta(days=1),  # Now running the future period!\n",
    "    end_date=future_end_day - dt.timedelta(days=1),\n",
    "    **common_run_parameters,\n",
    ")\n",
    "\n",
    "# And plot the results! We can compare both figures and see the changes between both.\n",
    "model.hydrograph.q_sim.plot()"
   ]
  },
  {
   "cell_type": "markdown",
   "id": "cc451f43-c827-439d-adef-713c02965575",
   "metadata": {},
   "source": [
    "## End\n",
    "\n",
    "We could now download the data to a netcdf file or other medium, and we could analyze the data either locally or on PAVICS-Hydro by appending other blocks of code below where the analysis is performed. "
   ]
  }
 ],
 "metadata": {
  "kernelspec": {
   "display_name": "Python 3 (ipykernel)",
   "language": "python",
   "name": "python3"
  },
  "language_info": {
   "codemirror_mode": {
    "name": "ipython",
    "version": 3
   },
   "file_extension": ".py",
   "mimetype": "text/x-python",
   "name": "python",
   "nbconvert_exporter": "python",
   "pygments_lexer": "ipython3",
   "version": "3.8.13"
  }
 },
 "nbformat": 4,
 "nbformat_minor": 5
}
