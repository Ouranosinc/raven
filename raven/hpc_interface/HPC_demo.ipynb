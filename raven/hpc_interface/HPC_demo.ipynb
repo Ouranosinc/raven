{
 "cells": [
  {
   "cell_type": "markdown",
   "metadata": {},
   "source": [
    "# HPC demo"
   ]
  },
  {
   "cell_type": "markdown",
   "metadata": {},
   "source": [
    "# Introduction\n",
    "This notebook shows how to use the distributed [raven/ostrich module](https://github.com/Ouranosinc/raven/wiki/Technical-Notes) on Compute Canada infrastructure. It runs a complete example of transferring local input data files required by raven/ostrich, running the tool remotely and retrieving the results."
   ]
  },
  {
   "cell_type": "markdown",
   "metadata": {},
   "source": [
    "# Design & strategy\n",
    "Four issues arose during the module design stage:\n",
    "* Authentication: how to access Compute Canada (CC) infrastructure\n",
    "* Job submission: how to interact with CC's job scheduler\n",
    "* Data transfer: how to copy the local data remotely and retrieve the generated output files\n",
    "* Executable setup: how to configure a CC endpoint to invoke either _raven_/_ostrich_ binaries"
   ]
  },
  {
   "cell_type": "markdown",
   "metadata": {},
   "source": [
    "## Authentication\n",
    "The initial objective was to allow users to use their own credentials when running jobs on a CC cluster. This proved to be complicated because it would force users to upload their private keys to the server hosting the module (potential key compromission in the event of a security breach). A simpler approach has been adopted: create a _common_ user on CC side (called _crim01_) and execute jobs on its behalf."
   ]
  },
  {
   "cell_type": "markdown",
   "metadata": {},
   "source": [
    "## Job submission\n",
    "Compute Canada does not provide rest APIs to allow job submissions from remote applications. Such tools exist but their deployment is rather a long-term plan on CC's roadmap. The unique solution is to take advantage of ssh's ability to execute commands on a remote machine, where commands in this context are the slurm utilities for job management (_sbatch_ for submission, _sacct_ for status enquiry and _scancel_ for job suppression). For our concern, jobs have four states: \"PENDING\" (sitting in the job queue), \"RUNNING\" (execution), \"TIMEOUT\" (job took too long to execute) and \"CANCEL\" (job was killed by the user)."
   ]
  },
  {
   "cell_type": "markdown",
   "metadata": {},
   "source": [
    "## Data transfer\n",
    "Again, the lack of public API imposes the use of \"simple\" tools such as _tar_ and _scp_ for data transfer. The series of steps include tarring the local input data (sitting in a directory whose path is provided to the module by the user), copying the tar file to crim01's working directory, untarring, running the job, tarring the results, copying the results tar file back to the caller (the module) and untarring it inside the directory provided by the user."
   ]
  },
  {
   "cell_type": "markdown",
   "metadata": {},
   "source": [
    "## Executable setup\n",
    "The most elegant way to invoke either _raven_ or _ostrich_ on CC side is to launch a container that is configured to execute them. Predefined paths inside the container are mapped to subfolders in CRIM01's working directory and raven/ostrich are configured to make use of those predefined paths, for reading the parameter files and writing the output results. When thinking of containers, docker comes to mind but this technology is reportedly not appropriate for high-performance computing (https://dev.to/grokcode/singularity--a-docker-for-hpc-environments-i6p), so this is why Singularity has been chosen as container platform. Two Singularity images (one for _raven_, one for _ostrich_) are hosted in a public registry that has been set up at CRIM (132.217.141.54); when slurm schedules the job for execution (state RUNNING), the Singularity command-line tool pulls the appropriate image from the registry and executes it."
   ]
  },
  {
   "cell_type": "markdown",
   "metadata": {},
   "source": [
    "# Requirements\n",
    "The module is easy to install and use, its single dependency being ParallelSSH (https://pypi.org/project/parallel-ssh/)\n",
    "\n",
    "`$ pip install parallel_ssh`\n",
    "\n",
    "In addition, the module expects the existence of a writable /tmp directory."
   ]
  },
  {
   "cell_type": "markdown",
   "metadata": {},
   "source": [
    "# Usage example\n",
    "The follwing shows how to use the module: data is sent to a ComputeCanada cluster named cedar, a job involving either _raven_ or _ostrich_ is submitted and after execution (which may take a few minutes) the results are brought back locally. For this notebook, the default subdirectory 'test_data' contains examples for the mohyse-salmon dataset only.\n",
    "\n",
    "_Note: be sure to execute cells only once, as job submission, an atomic operation by design, has been broken into many steps for demo purposes._"
   ]
  },
  {
   "cell_type": "code",
   "execution_count": null,
   "metadata": {},
   "outputs": [],
   "source": [
    "# Directories\n",
    "src_data_dir = \"./\"\n",
    "out_dir = \"./\"\n",
    "template_dir = \"./template/\"\n",
    "executable = \"raven\"\n",
    "\n",
    "\n",
    "def my_function(x):\n",
    "    return x"
   ]
  },
  {
   "cell_type": "code",
   "execution_count": null,
   "metadata": {},
   "outputs": [
    {
     "data": {
      "application/vnd.jupyter.widget-view+json": {
       "model_id": "bd0ac3de4a4f4de2aa0aa6ede6972d87",
       "version_major": 2,
       "version_minor": 0
      },
      "text/plain": [
       "interactive(children=(Dropdown(description='Executable', options=('raven', 'ostrich'), value='raven'), Output(…"
      ]
     },
     "metadata": {},
     "output_type": "display_data"
    },
    {
     "data": {
      "application/vnd.jupyter.widget-view+json": {
       "model_id": "c0bbc64774214bf6b1488f782a7be04e",
       "version_major": 2,
       "version_minor": 0
      },
      "text/plain": [
       "interactive(children=(Dropdown(description='Dataset', options=('mohyse-salmon',), value='mohyse-salmon'), Outp…"
      ]
     },
     "metadata": {},
     "output_type": "display_data"
    }
   ],
   "source": [
    "import datetime\n",
    "\n",
    "# Executable selection\n",
    "import os\n",
    "\n",
    "import ipywidgets as widgets\n",
    "from IPython.display import display\n",
    "from ipywidgets import interactive\n",
    "\n",
    "x = widgets.Dropdown(\n",
    "    options=[\"raven\", \"ostrich\"],\n",
    "    value=\"raven\",\n",
    "    description=\"Executable\",\n",
    "    disabled=False,\n",
    ")\n",
    "wd = widgets.Dropdown(\n",
    "    options=[\"mohyse-salmon\"],  # ,'hmets-salmon', 'gr4j-salmon','hbv-salmon'],\n",
    "    value=\"mohyse-salmon\",\n",
    "    description=\"Dataset\",\n",
    "    disabled=False,\n",
    ")\n",
    "\n",
    "w = interactive(my_function, x=x)\n",
    "\n",
    "display(w)\n",
    "d = interactive(my_function, x=wd)\n",
    "display(d)"
   ]
  },
  {
   "cell_type": "code",
   "execution_count": null,
   "metadata": {},
   "outputs": [
    {
     "name": "stdout",
     "output_type": "stream",
     "text": [
      "raven: raven-mohyse-salmon\n"
     ]
    }
   ],
   "source": [
    "executable = w.children[0].value\n",
    "dataset = executable + \"-\" + d.children[0].value\n",
    "print(f\"{executable}: {dataset}\")"
   ]
  },
  {
   "cell_type": "markdown",
   "metadata": {},
   "source": [
    "## Select data paths\n",
    "\n",
    "Two paths must be provided to the module:\n",
    "* The source path containing the input data files\n",
    "* The output path that will hold the files generated by the executable on the cluster."
   ]
  },
  {
   "cell_type": "code",
   "execution_count": null,
   "metadata": {},
   "outputs": [
    {
     "data": {
      "application/vnd.jupyter.widget-view+json": {
       "model_id": "194551a73f884eee94cb4a685562d9cb",
       "version_major": 2,
       "version_minor": 0
      },
      "text/plain": [
       "interactive(children=(Text(value='/home/ets/src/raven2/raven/raven/hpc_interface/test_data', description='Sour…"
      ]
     },
     "metadata": {},
     "output_type": "display_data"
    },
    {
     "data": {
      "application/vnd.jupyter.widget-view+json": {
       "model_id": "2c3841906eac430a87b04ed3e4c41ed7",
       "version_major": 2,
       "version_minor": 0
      },
      "text/plain": [
       "interactive(children=(Text(value='/home/ets/src/raven2/raven/raven/hpc_interface/output', description='Output …"
      ]
     },
     "metadata": {},
     "output_type": "display_data"
    }
   ],
   "source": [
    "wsrcpath = widgets.Text(\n",
    "    value=os.path.join(os.getcwd(), \"test_data\"),\n",
    "    placeholder=\"Source data path\",\n",
    "    description=\"Source data path:\",\n",
    "    disabled=False,\n",
    ")\n",
    "i_wsrcpath = interactive(my_function, x=wsrcpath)\n",
    "display(i_wsrcpath)\n",
    "woutpath = widgets.Text(\n",
    "    value=os.path.join(os.getcwd(), \"output\"),\n",
    "    placeholder=\"Output data path\",\n",
    "    description=\"Output data path:\",\n",
    "    disabled=False,\n",
    ")\n",
    "i_woutpath = interactive(my_function, x=woutpath)\n",
    "display(i_woutpath)"
   ]
  },
  {
   "cell_type": "markdown",
   "metadata": {},
   "source": [
    "## Check connections\n",
    "The module provides a function that performs two basic network connection checks:\n",
    "* Is the access to the cluster allowed (i.e. can the module connect to its account)?\n",
    "* Is the Singularity registry responding to a ping request?\n",
    "\n",
    "Note: make sure that the path to the private key for ssh (supplied to the constructor of RavenHPCProcess) is good and that its permissions are [appropriate](http://www.sciencebits.com/Setting-SSH-Keys)."
   ]
  },
  {
   "cell_type": "code",
   "execution_count": null,
   "metadata": {},
   "outputs": [
    {
     "name": "stdout",
     "output_type": "stream",
     "text": [
      "Network error: shub server down\n"
     ]
    }
   ],
   "source": [
    "src_data_dir = i_wsrcpath.children[0].value\n",
    "out_dir = i_woutpath.children[0].value\n",
    "\n",
    "import logging\n",
    "\n",
    "import raven_process\n",
    "\n",
    "logging.basicConfig(\n",
    "    format=\"%(asctime)s %(message)s\",\n",
    "    level=logging.DEBUG,\n",
    "    filename=\"hpclog.txt\",\n",
    "    filemode=\"w\",\n",
    ")\n",
    "raven_proc = raven_process.RavenHPCProcess(\n",
    "    executable,\n",
    "    {\"src_data_path\": src_data_dir, \"ssh_key_filename\": \"~/.ssh/pavics-hydro-crim01\"},\n",
    ")\n",
    "status, msg = raven_proc.check_connection()\n",
    "if status:\n",
    "    print(\"Network connections are ok\")\n",
    "else:\n",
    "    print(\"Network error: \" + msg)"
   ]
  },
  {
   "cell_type": "markdown",
   "metadata": {},
   "source": [
    "## Estimate job duration\n",
    "\n",
    "The job submission process requires the user to provide an *upper bound* estimate of the time needed to carry out the computations. \n",
    "* If the estimate is too low, the job may be killed before completion (when the computation time reaches the estimate)\n",
    "* If the estimate is too high, the job may be scheduled with a lower priority.\n",
    "Note that 20min will be added to the estimate to account for the download of the raven or ostrich singularity image."
   ]
  },
  {
   "cell_type": "code",
   "execution_count": null,
   "metadata": {},
   "outputs": [
    {
     "data": {
      "application/vnd.jupyter.widget-view+json": {
       "model_id": "1e6fa9d03df7460d8f6fc595b7ad6507",
       "version_major": 2,
       "version_minor": 0
      },
      "text/plain": [
       "interactive(children=(IntText(value=10, description='Job duration estimate (min):'), Output()), _dom_classes=(…"
      ]
     },
     "metadata": {},
     "output_type": "display_data"
    }
   ],
   "source": [
    "wduration = widgets.IntText(\n",
    "    value=10, description=\"Job duration estimate (min):\", disabled=False\n",
    ")\n",
    "i_wdur = interactive(my_function, x=wduration)\n",
    "display(i_wdur)"
   ]
  },
  {
   "cell_type": "markdown",
   "metadata": {},
   "source": [
    "## Job summary before submission"
   ]
  },
  {
   "cell_type": "code",
   "execution_count": null,
   "metadata": {},
   "outputs": [
    {
     "name": "stdout",
     "output_type": "stream",
     "text": [
      "Executable: raven\n",
      "Dataset: raven-mohyse-salmon\n",
      "Source data path: /home/ets/src/raven2/raven/raven/hpc_interface/test_data\n",
      "Output path: /home/ets/src/raven2/raven/raven/hpc_interface/output\n",
      "Time estimate: 0:30:00\n"
     ]
    }
   ],
   "source": [
    "job_duration = str(datetime.timedelta(minutes=int(i_wdur.children[0].value) + 20))\n",
    "print(f\"Executable: {executable}\")\n",
    "print(f\"Dataset: {dataset}\")\n",
    "print(f\"Source data path: {src_data_dir}\")\n",
    "print(f\"Output path: {out_dir}\")\n",
    "print(f\"Time estimate: {job_duration}\")"
   ]
  },
  {
   "cell_type": "markdown",
   "metadata": {},
   "source": [
    "## Job submission\n",
    "The job is ready to be submitted to slurm. Actual execution start time may be anywhere between a few seconds and many hours, depending on cluster load."
   ]
  },
  {
   "cell_type": "code",
   "execution_count": null,
   "metadata": {},
   "outputs": [
    {
     "name": "stdout",
     "output_type": "stream",
     "text": [
      "Submitting job...\n",
      "Job ID: 23174203\n"
     ]
    }
   ],
   "source": [
    "# jobinfo = process_cmd(executable, client,hostname,\"Submit\")\n",
    "print(\"Submitting job...\")\n",
    "try:\n",
    "    raven_proc.submit(dataset, job_duration)\n",
    "    print(f\"Job ID: {raven_proc.live_job_id}\")\n",
    "\n",
    "except Exception as e:\n",
    "    print(f\"Job submission failed: {e}\")"
   ]
  },
  {
   "cell_type": "markdown",
   "metadata": {},
   "source": [
    "## Polling for results\n",
    "Once the job is queued, a monitoring function can be called to query its status (PENDING, RUNNING, etc.) When the job is in the RUNNING state, _raven_ or _ostrich_ is being executed and in both cases a progress figure (between 0% and 100%) is sent to the caller (here, the notebook cell). This figure may not always be available due to the fact that it is extracted from a text file being overwritten on a continuous basis.\n",
    "\n",
    "The caller will typically invoke this monitoring function inside a while loop, leaving the loop upon termination of the execution (job completed or error); a reasonable call frequency could be one call per minute, as shown below."
   ]
  },
  {
   "cell_type": "code",
   "execution_count": null,
   "metadata": {},
   "outputs": [
    {
     "data": {
      "application/vnd.jupyter.widget-view+json": {
       "model_id": "ea231113c24b4cd6bc68711a0d29f375",
       "version_major": 2,
       "version_minor": 0
      },
      "text/plain": [
       "IntProgress(value=0, description='Progress')"
      ]
     },
     "metadata": {},
     "output_type": "display_data"
    },
    {
     "data": {
      "application/vnd.jupyter.widget-view+json": {
       "model_id": "f254a0f81dea4a199a42813df436cb5b",
       "version_major": 2,
       "version_minor": 0
      },
      "text/plain": [
       "HTML(value='', description='Received status', placeholder='Progress', style=DescriptionStyle(description_width…"
      ]
     },
     "metadata": {},
     "output_type": "display_data"
    },
    {
     "name": "stdout",
     "output_type": "stream",
     "text": [
      "Retrieving results...\n",
      "Results are ready: in /home/ets/src/raven2/raven/raven/hpc_interface/output\n"
     ]
    }
   ],
   "source": [
    "wprog = widgets.IntProgress(\n",
    "    value=0,\n",
    "    min=0,\n",
    "    max=100,\n",
    "    step=1,\n",
    "    description=\"Progress\",\n",
    "    bar_style=\"\",  # 'success', 'info', 'warning', 'danger' or ''\n",
    "    orientation=\"horizontal\",\n",
    ")\n",
    "display(wprog)\n",
    "wtext = widgets.HTML(\n",
    "    value=\"\",\n",
    "    style={\"description_width\": \"initial\"},\n",
    "    description=\"Received status\",\n",
    "    placeholder=\"Progress\",\n",
    ")\n",
    "display(wtext)\n",
    "\n",
    "i = 0\n",
    "import time\n",
    "\n",
    "job_finished = False\n",
    "abnormal_ending = False\n",
    "while not job_finished:\n",
    "    time.sleep(60)\n",
    "    try:\n",
    "        out, p = raven_proc.monitor()\n",
    "        # print(out)\n",
    "        wtext.value += out + \"<p>\"\n",
    "        if out == \"RUNNING\":\n",
    "            # print(\"{}%\".format(p))\n",
    "            i += 1\n",
    "            wprog.value = int(p)\n",
    "        if out == \"COMPLETED\":\n",
    "            job_finished = True\n",
    "        if out == \"TIMEOUT\" or out == \"CANCELLED\":\n",
    "            print(\"Uhoh: job \" + out)\n",
    "            abnormal_ending = True\n",
    "            job_finished = True\n",
    "        if out is None:\n",
    "            print(\"Temp error\")\n",
    "        # Test job cancellation during job exec\n",
    "        # if i==2:\n",
    "        #    raven_proc.cancel()\n",
    "\n",
    "    except Exception as e:\n",
    "        print(\"Exception @monitor\")\n",
    "        print(e)\n",
    "        # job_finished = True\n",
    "\n",
    "# Check if job ended  normally\n",
    "if abnormal_ending:\n",
    "    print(\"Job ended abnormally\")\n",
    "    raven_proc.retrieve(out_dir)  # to get slurm log file\n",
    "\n",
    "else:\n",
    "    wprog.value = 100\n",
    "    print(\"Retrieving results...\")\n",
    "    raven_proc.retrieve(out_dir)\n",
    "    print(f\"Results are ready: in {out_dir}\")\n",
    "\n",
    "raven_proc.cleanup()"
   ]
  },
  {
   "cell_type": "markdown",
   "metadata": {},
   "source": [
    "At that point, if everything went well (no errors in input data, no job cancellation, etc.), the execution results will be found in the output directory, along with the log file generated by the job scheduler (slurm)."
   ]
  },
  {
   "cell_type": "markdown",
   "metadata": {},
   "source": [
    "# Additional notes\n",
    "* Parallel invocations are supported: each module instance has its own workspace on ComputeCanada side, so many server sessions can manage jobs simultaneously.\n",
    "* A nice advantage of the proposed implementation is the use of deployment: no requirements as far as ComputeCanada is concerned (no package to install or service to start), except an ssh connection and some user space.\n",
    "* Limitation: module operation is bound by the rules in effect at ComputeCanada governing job management. For example, a directive issued in April 2019 announced a new rule that prevents user from submitting jobs from their /home directory; fixes to the module have been made but this kind of issue can still arise in the future."
   ]
  },
  {
   "cell_type": "code",
   "execution_count": null,
   "metadata": {},
   "outputs": [],
   "source": []
  }
 ],
 "metadata": {
  "kernelspec": {
   "display_name": "Python 3",
   "language": "python",
   "name": "python3"
  },
  "language_info": {
   "codemirror_mode": {
    "name": "ipython",
    "version": 3
   },
   "file_extension": ".py",
   "mimetype": "text/x-python",
   "name": "python",
   "nbconvert_exporter": "python",
   "pygments_lexer": "ipython3",
   "version": "3.7.1"
  }
 },
 "nbformat": 4,
 "nbformat_minor": 1
}
